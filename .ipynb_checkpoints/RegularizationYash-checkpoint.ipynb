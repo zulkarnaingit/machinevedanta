{
 "cells": [
  {
   "cell_type": "code",
   "execution_count": 1,
   "id": "84c3e1ee",
   "metadata": {},
   "outputs": [],
   "source": [
    "import pandas as pd\n",
    "import seaborn as sb\n",
    "import numpy as np\n",
    "import matplotlib.pyplot as plt\n",
    "import warnings \n",
    "warnings.filterwarnings('ignore')"
   ]
  },
  {
   "cell_type": "code",
   "execution_count": 2,
   "id": "acedb35c",
   "metadata": {},
   "outputs": [
    {
     "data": {
      "text/html": [
       "<div>\n",
       "<style scoped>\n",
       "    .dataframe tbody tr th:only-of-type {\n",
       "        vertical-align: middle;\n",
       "    }\n",
       "\n",
       "    .dataframe tbody tr th {\n",
       "        vertical-align: top;\n",
       "    }\n",
       "\n",
       "    .dataframe thead th {\n",
       "        text-align: right;\n",
       "    }\n",
       "</style>\n",
       "<table border=\"1\" class=\"dataframe\">\n",
       "  <thead>\n",
       "    <tr style=\"text-align: right;\">\n",
       "      <th></th>\n",
       "      <th>symboling</th>\n",
       "      <th>normalized-losses</th>\n",
       "      <th>make</th>\n",
       "      <th>fuel-type</th>\n",
       "      <th>body-style</th>\n",
       "      <th>drive-wheels</th>\n",
       "      <th>engine-location</th>\n",
       "      <th>width</th>\n",
       "      <th>height</th>\n",
       "      <th>engine-type</th>\n",
       "      <th>engine-size</th>\n",
       "      <th>horsepower</th>\n",
       "      <th>city-mpg</th>\n",
       "      <th>highway-mpg</th>\n",
       "      <th>price</th>\n",
       "    </tr>\n",
       "  </thead>\n",
       "  <tbody>\n",
       "    <tr>\n",
       "      <th>0</th>\n",
       "      <td>3</td>\n",
       "      <td>?</td>\n",
       "      <td>alfa-romero</td>\n",
       "      <td>gas</td>\n",
       "      <td>convertible</td>\n",
       "      <td>rwd</td>\n",
       "      <td>front</td>\n",
       "      <td>64.1</td>\n",
       "      <td>48.8</td>\n",
       "      <td>dohc</td>\n",
       "      <td>130</td>\n",
       "      <td>111</td>\n",
       "      <td>21</td>\n",
       "      <td>27</td>\n",
       "      <td>13495</td>\n",
       "    </tr>\n",
       "    <tr>\n",
       "      <th>1</th>\n",
       "      <td>3</td>\n",
       "      <td>?</td>\n",
       "      <td>alfa-romero</td>\n",
       "      <td>gas</td>\n",
       "      <td>convertible</td>\n",
       "      <td>rwd</td>\n",
       "      <td>front</td>\n",
       "      <td>64.1</td>\n",
       "      <td>48.8</td>\n",
       "      <td>dohc</td>\n",
       "      <td>130</td>\n",
       "      <td>111</td>\n",
       "      <td>21</td>\n",
       "      <td>27</td>\n",
       "      <td>16500</td>\n",
       "    </tr>\n",
       "    <tr>\n",
       "      <th>2</th>\n",
       "      <td>1</td>\n",
       "      <td>?</td>\n",
       "      <td>alfa-romero</td>\n",
       "      <td>gas</td>\n",
       "      <td>hatchback</td>\n",
       "      <td>rwd</td>\n",
       "      <td>front</td>\n",
       "      <td>65.5</td>\n",
       "      <td>52.4</td>\n",
       "      <td>ohcv</td>\n",
       "      <td>152</td>\n",
       "      <td>154</td>\n",
       "      <td>19</td>\n",
       "      <td>26</td>\n",
       "      <td>16500</td>\n",
       "    </tr>\n",
       "    <tr>\n",
       "      <th>3</th>\n",
       "      <td>2</td>\n",
       "      <td>164</td>\n",
       "      <td>audi</td>\n",
       "      <td>gas</td>\n",
       "      <td>sedan</td>\n",
       "      <td>fwd</td>\n",
       "      <td>front</td>\n",
       "      <td>66.2</td>\n",
       "      <td>54.3</td>\n",
       "      <td>ohc</td>\n",
       "      <td>109</td>\n",
       "      <td>102</td>\n",
       "      <td>24</td>\n",
       "      <td>30</td>\n",
       "      <td>13950</td>\n",
       "    </tr>\n",
       "    <tr>\n",
       "      <th>4</th>\n",
       "      <td>2</td>\n",
       "      <td>164</td>\n",
       "      <td>audi</td>\n",
       "      <td>gas</td>\n",
       "      <td>sedan</td>\n",
       "      <td>4wd</td>\n",
       "      <td>front</td>\n",
       "      <td>66.4</td>\n",
       "      <td>54.3</td>\n",
       "      <td>ohc</td>\n",
       "      <td>136</td>\n",
       "      <td>115</td>\n",
       "      <td>18</td>\n",
       "      <td>22</td>\n",
       "      <td>17450</td>\n",
       "    </tr>\n",
       "    <tr>\n",
       "      <th>...</th>\n",
       "      <td>...</td>\n",
       "      <td>...</td>\n",
       "      <td>...</td>\n",
       "      <td>...</td>\n",
       "      <td>...</td>\n",
       "      <td>...</td>\n",
       "      <td>...</td>\n",
       "      <td>...</td>\n",
       "      <td>...</td>\n",
       "      <td>...</td>\n",
       "      <td>...</td>\n",
       "      <td>...</td>\n",
       "      <td>...</td>\n",
       "      <td>...</td>\n",
       "      <td>...</td>\n",
       "    </tr>\n",
       "    <tr>\n",
       "      <th>200</th>\n",
       "      <td>-1</td>\n",
       "      <td>95</td>\n",
       "      <td>volvo</td>\n",
       "      <td>gas</td>\n",
       "      <td>sedan</td>\n",
       "      <td>rwd</td>\n",
       "      <td>front</td>\n",
       "      <td>68.9</td>\n",
       "      <td>55.5</td>\n",
       "      <td>ohc</td>\n",
       "      <td>141</td>\n",
       "      <td>114</td>\n",
       "      <td>23</td>\n",
       "      <td>28</td>\n",
       "      <td>16845</td>\n",
       "    </tr>\n",
       "    <tr>\n",
       "      <th>201</th>\n",
       "      <td>-1</td>\n",
       "      <td>95</td>\n",
       "      <td>volvo</td>\n",
       "      <td>gas</td>\n",
       "      <td>sedan</td>\n",
       "      <td>rwd</td>\n",
       "      <td>front</td>\n",
       "      <td>68.8</td>\n",
       "      <td>55.5</td>\n",
       "      <td>ohc</td>\n",
       "      <td>141</td>\n",
       "      <td>160</td>\n",
       "      <td>19</td>\n",
       "      <td>25</td>\n",
       "      <td>19045</td>\n",
       "    </tr>\n",
       "    <tr>\n",
       "      <th>202</th>\n",
       "      <td>-1</td>\n",
       "      <td>95</td>\n",
       "      <td>volvo</td>\n",
       "      <td>gas</td>\n",
       "      <td>sedan</td>\n",
       "      <td>rwd</td>\n",
       "      <td>front</td>\n",
       "      <td>68.9</td>\n",
       "      <td>55.5</td>\n",
       "      <td>ohcv</td>\n",
       "      <td>173</td>\n",
       "      <td>134</td>\n",
       "      <td>18</td>\n",
       "      <td>23</td>\n",
       "      <td>21485</td>\n",
       "    </tr>\n",
       "    <tr>\n",
       "      <th>203</th>\n",
       "      <td>-1</td>\n",
       "      <td>95</td>\n",
       "      <td>volvo</td>\n",
       "      <td>diesel</td>\n",
       "      <td>sedan</td>\n",
       "      <td>rwd</td>\n",
       "      <td>front</td>\n",
       "      <td>68.9</td>\n",
       "      <td>55.5</td>\n",
       "      <td>ohc</td>\n",
       "      <td>145</td>\n",
       "      <td>106</td>\n",
       "      <td>26</td>\n",
       "      <td>27</td>\n",
       "      <td>22470</td>\n",
       "    </tr>\n",
       "    <tr>\n",
       "      <th>204</th>\n",
       "      <td>-1</td>\n",
       "      <td>95</td>\n",
       "      <td>volvo</td>\n",
       "      <td>gas</td>\n",
       "      <td>sedan</td>\n",
       "      <td>rwd</td>\n",
       "      <td>front</td>\n",
       "      <td>68.9</td>\n",
       "      <td>55.5</td>\n",
       "      <td>ohc</td>\n",
       "      <td>141</td>\n",
       "      <td>114</td>\n",
       "      <td>19</td>\n",
       "      <td>25</td>\n",
       "      <td>22625</td>\n",
       "    </tr>\n",
       "  </tbody>\n",
       "</table>\n",
       "<p>205 rows × 15 columns</p>\n",
       "</div>"
      ],
      "text/plain": [
       "     symboling normalized-losses         make fuel-type   body-style  \\\n",
       "0            3                 ?  alfa-romero       gas  convertible   \n",
       "1            3                 ?  alfa-romero       gas  convertible   \n",
       "2            1                 ?  alfa-romero       gas    hatchback   \n",
       "3            2               164         audi       gas        sedan   \n",
       "4            2               164         audi       gas        sedan   \n",
       "..         ...               ...          ...       ...          ...   \n",
       "200         -1                95        volvo       gas        sedan   \n",
       "201         -1                95        volvo       gas        sedan   \n",
       "202         -1                95        volvo       gas        sedan   \n",
       "203         -1                95        volvo    diesel        sedan   \n",
       "204         -1                95        volvo       gas        sedan   \n",
       "\n",
       "    drive-wheels engine-location  width  height engine-type  engine-size  \\\n",
       "0            rwd           front   64.1    48.8        dohc          130   \n",
       "1            rwd           front   64.1    48.8        dohc          130   \n",
       "2            rwd           front   65.5    52.4        ohcv          152   \n",
       "3            fwd           front   66.2    54.3         ohc          109   \n",
       "4            4wd           front   66.4    54.3         ohc          136   \n",
       "..           ...             ...    ...     ...         ...          ...   \n",
       "200          rwd           front   68.9    55.5         ohc          141   \n",
       "201          rwd           front   68.8    55.5         ohc          141   \n",
       "202          rwd           front   68.9    55.5        ohcv          173   \n",
       "203          rwd           front   68.9    55.5         ohc          145   \n",
       "204          rwd           front   68.9    55.5         ohc          141   \n",
       "\n",
       "    horsepower  city-mpg  highway-mpg  price  \n",
       "0          111        21           27  13495  \n",
       "1          111        21           27  16500  \n",
       "2          154        19           26  16500  \n",
       "3          102        24           30  13950  \n",
       "4          115        18           22  17450  \n",
       "..         ...       ...          ...    ...  \n",
       "200        114        23           28  16845  \n",
       "201        160        19           25  19045  \n",
       "202        134        18           23  21485  \n",
       "203        106        26           27  22470  \n",
       "204        114        19           25  22625  \n",
       "\n",
       "[205 rows x 15 columns]"
      ]
     },
     "execution_count": 2,
     "metadata": {},
     "output_type": "execute_result"
    }
   ],
   "source": [
    "df=pd.read_csv('Automobile_data .csv')\n",
    "df"
   ]
  },
  {
   "cell_type": "code",
   "execution_count": 3,
   "id": "eedd60c3",
   "metadata": {},
   "outputs": [
    {
     "data": {
      "text/html": [
       "<div>\n",
       "<style scoped>\n",
       "    .dataframe tbody tr th:only-of-type {\n",
       "        vertical-align: middle;\n",
       "    }\n",
       "\n",
       "    .dataframe tbody tr th {\n",
       "        vertical-align: top;\n",
       "    }\n",
       "\n",
       "    .dataframe thead th {\n",
       "        text-align: right;\n",
       "    }\n",
       "</style>\n",
       "<table border=\"1\" class=\"dataframe\">\n",
       "  <thead>\n",
       "    <tr style=\"text-align: right;\">\n",
       "      <th></th>\n",
       "      <th>symboling</th>\n",
       "      <th>normalized-losses</th>\n",
       "      <th>make</th>\n",
       "      <th>fuel-type</th>\n",
       "      <th>body-style</th>\n",
       "      <th>drive-wheels</th>\n",
       "      <th>engine-location</th>\n",
       "      <th>width</th>\n",
       "      <th>height</th>\n",
       "      <th>engine-type</th>\n",
       "      <th>engine-size</th>\n",
       "      <th>horsepower</th>\n",
       "      <th>city-mpg</th>\n",
       "      <th>highway-mpg</th>\n",
       "      <th>price</th>\n",
       "    </tr>\n",
       "  </thead>\n",
       "  <tbody>\n",
       "    <tr>\n",
       "      <th>0</th>\n",
       "      <td>3</td>\n",
       "      <td>?</td>\n",
       "      <td>alfa-romero</td>\n",
       "      <td>gas</td>\n",
       "      <td>convertible</td>\n",
       "      <td>rwd</td>\n",
       "      <td>front</td>\n",
       "      <td>64.1</td>\n",
       "      <td>48.8</td>\n",
       "      <td>dohc</td>\n",
       "      <td>130</td>\n",
       "      <td>111</td>\n",
       "      <td>21</td>\n",
       "      <td>27</td>\n",
       "      <td>13495</td>\n",
       "    </tr>\n",
       "    <tr>\n",
       "      <th>1</th>\n",
       "      <td>3</td>\n",
       "      <td>?</td>\n",
       "      <td>alfa-romero</td>\n",
       "      <td>gas</td>\n",
       "      <td>convertible</td>\n",
       "      <td>rwd</td>\n",
       "      <td>front</td>\n",
       "      <td>64.1</td>\n",
       "      <td>48.8</td>\n",
       "      <td>dohc</td>\n",
       "      <td>130</td>\n",
       "      <td>111</td>\n",
       "      <td>21</td>\n",
       "      <td>27</td>\n",
       "      <td>16500</td>\n",
       "    </tr>\n",
       "    <tr>\n",
       "      <th>2</th>\n",
       "      <td>1</td>\n",
       "      <td>?</td>\n",
       "      <td>alfa-romero</td>\n",
       "      <td>gas</td>\n",
       "      <td>hatchback</td>\n",
       "      <td>rwd</td>\n",
       "      <td>front</td>\n",
       "      <td>65.5</td>\n",
       "      <td>52.4</td>\n",
       "      <td>ohcv</td>\n",
       "      <td>152</td>\n",
       "      <td>154</td>\n",
       "      <td>19</td>\n",
       "      <td>26</td>\n",
       "      <td>16500</td>\n",
       "    </tr>\n",
       "    <tr>\n",
       "      <th>3</th>\n",
       "      <td>2</td>\n",
       "      <td>164</td>\n",
       "      <td>audi</td>\n",
       "      <td>gas</td>\n",
       "      <td>sedan</td>\n",
       "      <td>fwd</td>\n",
       "      <td>front</td>\n",
       "      <td>66.2</td>\n",
       "      <td>54.3</td>\n",
       "      <td>ohc</td>\n",
       "      <td>109</td>\n",
       "      <td>102</td>\n",
       "      <td>24</td>\n",
       "      <td>30</td>\n",
       "      <td>13950</td>\n",
       "    </tr>\n",
       "    <tr>\n",
       "      <th>4</th>\n",
       "      <td>2</td>\n",
       "      <td>164</td>\n",
       "      <td>audi</td>\n",
       "      <td>gas</td>\n",
       "      <td>sedan</td>\n",
       "      <td>4wd</td>\n",
       "      <td>front</td>\n",
       "      <td>66.4</td>\n",
       "      <td>54.3</td>\n",
       "      <td>ohc</td>\n",
       "      <td>136</td>\n",
       "      <td>115</td>\n",
       "      <td>18</td>\n",
       "      <td>22</td>\n",
       "      <td>17450</td>\n",
       "    </tr>\n",
       "  </tbody>\n",
       "</table>\n",
       "</div>"
      ],
      "text/plain": [
       "   symboling normalized-losses         make fuel-type   body-style  \\\n",
       "0          3                 ?  alfa-romero       gas  convertible   \n",
       "1          3                 ?  alfa-romero       gas  convertible   \n",
       "2          1                 ?  alfa-romero       gas    hatchback   \n",
       "3          2               164         audi       gas        sedan   \n",
       "4          2               164         audi       gas        sedan   \n",
       "\n",
       "  drive-wheels engine-location  width  height engine-type  engine-size  \\\n",
       "0          rwd           front   64.1    48.8        dohc          130   \n",
       "1          rwd           front   64.1    48.8        dohc          130   \n",
       "2          rwd           front   65.5    52.4        ohcv          152   \n",
       "3          fwd           front   66.2    54.3         ohc          109   \n",
       "4          4wd           front   66.4    54.3         ohc          136   \n",
       "\n",
       "  horsepower  city-mpg  highway-mpg  price  \n",
       "0        111        21           27  13495  \n",
       "1        111        21           27  16500  \n",
       "2        154        19           26  16500  \n",
       "3        102        24           30  13950  \n",
       "4        115        18           22  17450  "
      ]
     },
     "execution_count": 3,
     "metadata": {},
     "output_type": "execute_result"
    }
   ],
   "source": [
    "df.head()"
   ]
  },
  {
   "cell_type": "code",
   "execution_count": 4,
   "id": "0d589860",
   "metadata": {},
   "outputs": [
    {
     "data": {
      "text/plain": [
       "(205, 15)"
      ]
     },
     "execution_count": 4,
     "metadata": {},
     "output_type": "execute_result"
    }
   ],
   "source": [
    "df.shape"
   ]
  },
  {
   "cell_type": "code",
   "execution_count": 5,
   "id": "a2a64db3",
   "metadata": {},
   "outputs": [
    {
     "data": {
      "text/plain": [
       "symboling              int64\n",
       "normalized-losses     object\n",
       "make                  object\n",
       "fuel-type             object\n",
       "body-style            object\n",
       "drive-wheels          object\n",
       "engine-location       object\n",
       "width                float64\n",
       "height               float64\n",
       "engine-type           object\n",
       "engine-size            int64\n",
       "horsepower            object\n",
       "city-mpg               int64\n",
       "highway-mpg            int64\n",
       "price                  int64\n",
       "dtype: object"
      ]
     },
     "execution_count": 5,
     "metadata": {},
     "output_type": "execute_result"
    }
   ],
   "source": [
    "df.dtypes"
   ]
  },
  {
   "cell_type": "code",
   "execution_count": 6,
   "id": "a2690fd2",
   "metadata": {},
   "outputs": [
    {
     "data": {
      "text/html": [
       "<div>\n",
       "<style scoped>\n",
       "    .dataframe tbody tr th:only-of-type {\n",
       "        vertical-align: middle;\n",
       "    }\n",
       "\n",
       "    .dataframe tbody tr th {\n",
       "        vertical-align: top;\n",
       "    }\n",
       "\n",
       "    .dataframe thead th {\n",
       "        text-align: right;\n",
       "    }\n",
       "</style>\n",
       "<table border=\"1\" class=\"dataframe\">\n",
       "  <thead>\n",
       "    <tr style=\"text-align: right;\">\n",
       "      <th></th>\n",
       "      <th>symboling</th>\n",
       "      <th>normalized-losses</th>\n",
       "      <th>make</th>\n",
       "      <th>fuel-type</th>\n",
       "      <th>body-style</th>\n",
       "      <th>drive-wheels</th>\n",
       "      <th>engine-location</th>\n",
       "      <th>width</th>\n",
       "      <th>height</th>\n",
       "      <th>engine-type</th>\n",
       "      <th>engine-size</th>\n",
       "      <th>horsepower</th>\n",
       "      <th>city-mpg</th>\n",
       "      <th>highway-mpg</th>\n",
       "      <th>price</th>\n",
       "    </tr>\n",
       "  </thead>\n",
       "  <tbody>\n",
       "    <tr>\n",
       "      <th>0</th>\n",
       "      <td>False</td>\n",
       "      <td>False</td>\n",
       "      <td>False</td>\n",
       "      <td>False</td>\n",
       "      <td>False</td>\n",
       "      <td>False</td>\n",
       "      <td>False</td>\n",
       "      <td>False</td>\n",
       "      <td>False</td>\n",
       "      <td>False</td>\n",
       "      <td>False</td>\n",
       "      <td>False</td>\n",
       "      <td>False</td>\n",
       "      <td>False</td>\n",
       "      <td>False</td>\n",
       "    </tr>\n",
       "    <tr>\n",
       "      <th>1</th>\n",
       "      <td>False</td>\n",
       "      <td>False</td>\n",
       "      <td>False</td>\n",
       "      <td>False</td>\n",
       "      <td>False</td>\n",
       "      <td>False</td>\n",
       "      <td>False</td>\n",
       "      <td>False</td>\n",
       "      <td>False</td>\n",
       "      <td>False</td>\n",
       "      <td>False</td>\n",
       "      <td>False</td>\n",
       "      <td>False</td>\n",
       "      <td>False</td>\n",
       "      <td>False</td>\n",
       "    </tr>\n",
       "    <tr>\n",
       "      <th>2</th>\n",
       "      <td>False</td>\n",
       "      <td>False</td>\n",
       "      <td>False</td>\n",
       "      <td>False</td>\n",
       "      <td>False</td>\n",
       "      <td>False</td>\n",
       "      <td>False</td>\n",
       "      <td>False</td>\n",
       "      <td>False</td>\n",
       "      <td>False</td>\n",
       "      <td>False</td>\n",
       "      <td>False</td>\n",
       "      <td>False</td>\n",
       "      <td>False</td>\n",
       "      <td>False</td>\n",
       "    </tr>\n",
       "    <tr>\n",
       "      <th>3</th>\n",
       "      <td>False</td>\n",
       "      <td>False</td>\n",
       "      <td>False</td>\n",
       "      <td>False</td>\n",
       "      <td>False</td>\n",
       "      <td>False</td>\n",
       "      <td>False</td>\n",
       "      <td>False</td>\n",
       "      <td>False</td>\n",
       "      <td>False</td>\n",
       "      <td>False</td>\n",
       "      <td>False</td>\n",
       "      <td>False</td>\n",
       "      <td>False</td>\n",
       "      <td>False</td>\n",
       "    </tr>\n",
       "    <tr>\n",
       "      <th>4</th>\n",
       "      <td>False</td>\n",
       "      <td>False</td>\n",
       "      <td>False</td>\n",
       "      <td>False</td>\n",
       "      <td>False</td>\n",
       "      <td>False</td>\n",
       "      <td>False</td>\n",
       "      <td>False</td>\n",
       "      <td>False</td>\n",
       "      <td>False</td>\n",
       "      <td>False</td>\n",
       "      <td>False</td>\n",
       "      <td>False</td>\n",
       "      <td>False</td>\n",
       "      <td>False</td>\n",
       "    </tr>\n",
       "    <tr>\n",
       "      <th>...</th>\n",
       "      <td>...</td>\n",
       "      <td>...</td>\n",
       "      <td>...</td>\n",
       "      <td>...</td>\n",
       "      <td>...</td>\n",
       "      <td>...</td>\n",
       "      <td>...</td>\n",
       "      <td>...</td>\n",
       "      <td>...</td>\n",
       "      <td>...</td>\n",
       "      <td>...</td>\n",
       "      <td>...</td>\n",
       "      <td>...</td>\n",
       "      <td>...</td>\n",
       "      <td>...</td>\n",
       "    </tr>\n",
       "    <tr>\n",
       "      <th>200</th>\n",
       "      <td>False</td>\n",
       "      <td>False</td>\n",
       "      <td>False</td>\n",
       "      <td>False</td>\n",
       "      <td>False</td>\n",
       "      <td>False</td>\n",
       "      <td>False</td>\n",
       "      <td>False</td>\n",
       "      <td>False</td>\n",
       "      <td>False</td>\n",
       "      <td>False</td>\n",
       "      <td>False</td>\n",
       "      <td>False</td>\n",
       "      <td>False</td>\n",
       "      <td>False</td>\n",
       "    </tr>\n",
       "    <tr>\n",
       "      <th>201</th>\n",
       "      <td>False</td>\n",
       "      <td>False</td>\n",
       "      <td>False</td>\n",
       "      <td>False</td>\n",
       "      <td>False</td>\n",
       "      <td>False</td>\n",
       "      <td>False</td>\n",
       "      <td>False</td>\n",
       "      <td>False</td>\n",
       "      <td>False</td>\n",
       "      <td>False</td>\n",
       "      <td>False</td>\n",
       "      <td>False</td>\n",
       "      <td>False</td>\n",
       "      <td>False</td>\n",
       "    </tr>\n",
       "    <tr>\n",
       "      <th>202</th>\n",
       "      <td>False</td>\n",
       "      <td>False</td>\n",
       "      <td>False</td>\n",
       "      <td>False</td>\n",
       "      <td>False</td>\n",
       "      <td>False</td>\n",
       "      <td>False</td>\n",
       "      <td>False</td>\n",
       "      <td>False</td>\n",
       "      <td>False</td>\n",
       "      <td>False</td>\n",
       "      <td>False</td>\n",
       "      <td>False</td>\n",
       "      <td>False</td>\n",
       "      <td>False</td>\n",
       "    </tr>\n",
       "    <tr>\n",
       "      <th>203</th>\n",
       "      <td>False</td>\n",
       "      <td>False</td>\n",
       "      <td>False</td>\n",
       "      <td>False</td>\n",
       "      <td>False</td>\n",
       "      <td>False</td>\n",
       "      <td>False</td>\n",
       "      <td>False</td>\n",
       "      <td>False</td>\n",
       "      <td>False</td>\n",
       "      <td>False</td>\n",
       "      <td>False</td>\n",
       "      <td>False</td>\n",
       "      <td>False</td>\n",
       "      <td>False</td>\n",
       "    </tr>\n",
       "    <tr>\n",
       "      <th>204</th>\n",
       "      <td>False</td>\n",
       "      <td>False</td>\n",
       "      <td>False</td>\n",
       "      <td>False</td>\n",
       "      <td>False</td>\n",
       "      <td>False</td>\n",
       "      <td>False</td>\n",
       "      <td>False</td>\n",
       "      <td>False</td>\n",
       "      <td>False</td>\n",
       "      <td>False</td>\n",
       "      <td>False</td>\n",
       "      <td>False</td>\n",
       "      <td>False</td>\n",
       "      <td>False</td>\n",
       "    </tr>\n",
       "  </tbody>\n",
       "</table>\n",
       "<p>205 rows × 15 columns</p>\n",
       "</div>"
      ],
      "text/plain": [
       "     symboling  normalized-losses   make  fuel-type  body-style  drive-wheels  \\\n",
       "0        False              False  False      False       False         False   \n",
       "1        False              False  False      False       False         False   \n",
       "2        False              False  False      False       False         False   \n",
       "3        False              False  False      False       False         False   \n",
       "4        False              False  False      False       False         False   \n",
       "..         ...                ...    ...        ...         ...           ...   \n",
       "200      False              False  False      False       False         False   \n",
       "201      False              False  False      False       False         False   \n",
       "202      False              False  False      False       False         False   \n",
       "203      False              False  False      False       False         False   \n",
       "204      False              False  False      False       False         False   \n",
       "\n",
       "     engine-location  width  height  engine-type  engine-size  horsepower  \\\n",
       "0              False  False   False        False        False       False   \n",
       "1              False  False   False        False        False       False   \n",
       "2              False  False   False        False        False       False   \n",
       "3              False  False   False        False        False       False   \n",
       "4              False  False   False        False        False       False   \n",
       "..               ...    ...     ...          ...          ...         ...   \n",
       "200            False  False   False        False        False       False   \n",
       "201            False  False   False        False        False       False   \n",
       "202            False  False   False        False        False       False   \n",
       "203            False  False   False        False        False       False   \n",
       "204            False  False   False        False        False       False   \n",
       "\n",
       "     city-mpg  highway-mpg  price  \n",
       "0       False        False  False  \n",
       "1       False        False  False  \n",
       "2       False        False  False  \n",
       "3       False        False  False  \n",
       "4       False        False  False  \n",
       "..        ...          ...    ...  \n",
       "200     False        False  False  \n",
       "201     False        False  False  \n",
       "202     False        False  False  \n",
       "203     False        False  False  \n",
       "204     False        False  False  \n",
       "\n",
       "[205 rows x 15 columns]"
      ]
     },
     "execution_count": 6,
     "metadata": {},
     "output_type": "execute_result"
    }
   ],
   "source": [
    "df.isnull()"
   ]
  },
  {
   "cell_type": "code",
   "execution_count": 7,
   "id": "84646cf6",
   "metadata": {},
   "outputs": [
    {
     "data": {
      "text/plain": [
       "symboling            0\n",
       "normalized-losses    0\n",
       "make                 0\n",
       "fuel-type            0\n",
       "body-style           0\n",
       "drive-wheels         0\n",
       "engine-location      0\n",
       "width                0\n",
       "height               0\n",
       "engine-type          0\n",
       "engine-size          0\n",
       "horsepower           0\n",
       "city-mpg             0\n",
       "highway-mpg          0\n",
       "price                0\n",
       "dtype: int64"
      ]
     },
     "execution_count": 7,
     "metadata": {},
     "output_type": "execute_result"
    }
   ],
   "source": [
    "df.isnull().sum()"
   ]
  },
  {
   "cell_type": "code",
   "execution_count": 8,
   "id": "c57d8b00",
   "metadata": {},
   "outputs": [
    {
     "data": {
      "text/plain": [
       "<AxesSubplot:>"
      ]
     },
     "execution_count": 8,
     "metadata": {},
     "output_type": "execute_result"
    },
    {
     "data": {
      "image/png": "[encoded data removed]",
      "text/plain": [
       "<Figure size 432x288 with 2 Axes>"
      ]
     },
     "metadata": {
      "needs_background": "light"
     },
     "output_type": "display_data"
    }
   ],
   "source": [
    "sb.heatmap(df.isnull())"
   ]
  },
  {
   "cell_type": "code",
   "execution_count": 9,
   "id": "a1e81fb0",
   "metadata": {},
   "outputs": [
    {
     "data": {
      "text/plain": [
       "array(['?', '164', '158', '192', '188', '121', '98', '81', '118', '148',\n",
       "       '110', '145', '137', '101', '78', '106', '85', '107', '104', '113',\n",
       "       '150', '129', '115', '93', '142', '161', '153', '125', '128',\n",
       "       '122', '103', '168', '108', '194', '231', '119', '154', '74',\n",
       "       '186', '83', '102', '89', '87', '77', '91', '134', '65', '197',\n",
       "       '90', '94', '256', '95'], dtype=object)"
      ]
     },
     "execution_count": 9,
     "metadata": {},
     "output_type": "execute_result"
    }
   ],
   "source": [
    "df['normalized-losses'].unique()"
   ]
  },
  {
   "cell_type": "code",
   "execution_count": 10,
   "id": "5055d5b9",
   "metadata": {},
   "outputs": [
    {
     "data": {
      "text/plain": [
       "?      41\n",
       "161    11\n",
       "91      8\n",
       "150     7\n",
       "134     6\n",
       "128     6\n",
       "104     6\n",
       "85      5\n",
       "94      5\n",
       "65      5\n",
       "102     5\n",
       "74      5\n",
       "168     5\n",
       "103     5\n",
       "95      5\n",
       "106     4\n",
       "93      4\n",
       "118     4\n",
       "148     4\n",
       "122     4\n",
       "83      3\n",
       "125     3\n",
       "154     3\n",
       "115     3\n",
       "137     3\n",
       "101     3\n",
       "119     2\n",
       "87      2\n",
       "89      2\n",
       "192     2\n",
       "197     2\n",
       "158     2\n",
       "81      2\n",
       "188     2\n",
       "194     2\n",
       "153     2\n",
       "129     2\n",
       "108     2\n",
       "110     2\n",
       "164     2\n",
       "145     2\n",
       "113     2\n",
       "256     1\n",
       "107     1\n",
       "90      1\n",
       "231     1\n",
       "142     1\n",
       "121     1\n",
       "78      1\n",
       "98      1\n",
       "186     1\n",
       "77      1\n",
       "Name: normalized-losses, dtype: int64"
      ]
     },
     "execution_count": 10,
     "metadata": {},
     "output_type": "execute_result"
    }
   ],
   "source": [
    "df['normalized-losses'].value_counts()"
   ]
  },
  {
   "cell_type": "code",
   "execution_count": 11,
   "id": "0b07e8f7",
   "metadata": {},
   "outputs": [],
   "source": [
    "df['normalized-losses'].replace('?',np.nan,inplace=True)"
   ]
  },
  {
   "cell_type": "code",
   "execution_count": 12,
   "id": "a800c374",
   "metadata": {},
   "outputs": [
    {
     "data": {
      "image/png": "[encoded data removed]",
      "text/plain": [
       "<Figure size 432x288 with 2 Axes>"
      ]
     },
     "metadata": {
      "needs_background": "light"
     },
     "output_type": "display_data"
    }
   ],
   "source": [
    "sb.heatmap(df.isnull())\n",
    "plt.show()"
   ]
  },
  {
   "cell_type": "code",
   "execution_count": 13,
   "id": "40c9f349",
   "metadata": {},
   "outputs": [
    {
     "data": {
      "text/plain": [
       "symboling             0.0\n",
       "normalized-losses    20.0\n",
       "make                  0.0\n",
       "fuel-type             0.0\n",
       "body-style            0.0\n",
       "drive-wheels          0.0\n",
       "engine-location       0.0\n",
       "width                 0.0\n",
       "height                0.0\n",
       "engine-type           0.0\n",
       "engine-size           0.0\n",
       "horsepower            0.0\n",
       "city-mpg              0.0\n",
       "highway-mpg           0.0\n",
       "price                 0.0\n",
       "dtype: float64"
      ]
     },
     "execution_count": 13,
     "metadata": {},
     "output_type": "execute_result"
    }
   ],
   "source": [
    "df.isnull().sum()/df.shape[0]*100"
   ]
  },
  {
   "cell_type": "code",
   "execution_count": 14,
   "id": "cc4dd7c9",
   "metadata": {},
   "outputs": [],
   "source": [
    "df['normalized-losses']=df['normalized-losses'].astype('float')"
   ]
  },
  {
   "cell_type": "code",
   "execution_count": 15,
   "id": "b0a3f91f",
   "metadata": {},
   "outputs": [
    {
     "data": {
      "text/plain": [
       "symboling              int64\n",
       "normalized-losses    float64\n",
       "make                  object\n",
       "fuel-type             object\n",
       "body-style            object\n",
       "drive-wheels          object\n",
       "engine-location       object\n",
       "width                float64\n",
       "height               float64\n",
       "engine-type           object\n",
       "engine-size            int64\n",
       "horsepower            object\n",
       "city-mpg               int64\n",
       "highway-mpg            int64\n",
       "price                  int64\n",
       "dtype: object"
      ]
     },
     "execution_count": 15,
     "metadata": {},
     "output_type": "execute_result"
    }
   ],
   "source": [
    "df.dtypes"
   ]
  },
  {
   "cell_type": "code",
   "execution_count": 16,
   "id": "a0a68261",
   "metadata": {},
   "outputs": [
    {
     "data": {
      "text/plain": [
       "122.0"
      ]
     },
     "execution_count": 16,
     "metadata": {},
     "output_type": "execute_result"
    }
   ],
   "source": [
    "t=df['normalized-losses'].mean()\n",
    "t"
   ]
  },
  {
   "cell_type": "code",
   "execution_count": 17,
   "id": "56208dda",
   "metadata": {},
   "outputs": [],
   "source": [
    "df['normalized-losses'].fillna(t,inplace=True)"
   ]
  },
  {
   "cell_type": "code",
   "execution_count": 18,
   "id": "16626684",
   "metadata": {},
   "outputs": [
    {
     "data": {
      "text/html": [
       "<div>\n",
       "<style scoped>\n",
       "    .dataframe tbody tr th:only-of-type {\n",
       "        vertical-align: middle;\n",
       "    }\n",
       "\n",
       "    .dataframe tbody tr th {\n",
       "        vertical-align: top;\n",
       "    }\n",
       "\n",
       "    .dataframe thead th {\n",
       "        text-align: right;\n",
       "    }\n",
       "</style>\n",
       "<table border=\"1\" class=\"dataframe\">\n",
       "  <thead>\n",
       "    <tr style=\"text-align: right;\">\n",
       "      <th></th>\n",
       "      <th>symboling</th>\n",
       "      <th>normalized-losses</th>\n",
       "      <th>make</th>\n",
       "      <th>fuel-type</th>\n",
       "      <th>body-style</th>\n",
       "      <th>drive-wheels</th>\n",
       "      <th>engine-location</th>\n",
       "      <th>width</th>\n",
       "      <th>height</th>\n",
       "      <th>engine-type</th>\n",
       "      <th>engine-size</th>\n",
       "      <th>horsepower</th>\n",
       "      <th>city-mpg</th>\n",
       "      <th>highway-mpg</th>\n",
       "      <th>price</th>\n",
       "    </tr>\n",
       "  </thead>\n",
       "  <tbody>\n",
       "    <tr>\n",
       "      <th>0</th>\n",
       "      <td>3</td>\n",
       "      <td>122.0</td>\n",
       "      <td>alfa-romero</td>\n",
       "      <td>gas</td>\n",
       "      <td>convertible</td>\n",
       "      <td>rwd</td>\n",
       "      <td>front</td>\n",
       "      <td>64.1</td>\n",
       "      <td>48.8</td>\n",
       "      <td>dohc</td>\n",
       "      <td>130</td>\n",
       "      <td>111</td>\n",
       "      <td>21</td>\n",
       "      <td>27</td>\n",
       "      <td>13495</td>\n",
       "    </tr>\n",
       "    <tr>\n",
       "      <th>1</th>\n",
       "      <td>3</td>\n",
       "      <td>122.0</td>\n",
       "      <td>alfa-romero</td>\n",
       "      <td>gas</td>\n",
       "      <td>convertible</td>\n",
       "      <td>rwd</td>\n",
       "      <td>front</td>\n",
       "      <td>64.1</td>\n",
       "      <td>48.8</td>\n",
       "      <td>dohc</td>\n",
       "      <td>130</td>\n",
       "      <td>111</td>\n",
       "      <td>21</td>\n",
       "      <td>27</td>\n",
       "      <td>16500</td>\n",
       "    </tr>\n",
       "    <tr>\n",
       "      <th>2</th>\n",
       "      <td>1</td>\n",
       "      <td>122.0</td>\n",
       "      <td>alfa-romero</td>\n",
       "      <td>gas</td>\n",
       "      <td>hatchback</td>\n",
       "      <td>rwd</td>\n",
       "      <td>front</td>\n",
       "      <td>65.5</td>\n",
       "      <td>52.4</td>\n",
       "      <td>ohcv</td>\n",
       "      <td>152</td>\n",
       "      <td>154</td>\n",
       "      <td>19</td>\n",
       "      <td>26</td>\n",
       "      <td>16500</td>\n",
       "    </tr>\n",
       "    <tr>\n",
       "      <th>3</th>\n",
       "      <td>2</td>\n",
       "      <td>164.0</td>\n",
       "      <td>audi</td>\n",
       "      <td>gas</td>\n",
       "      <td>sedan</td>\n",
       "      <td>fwd</td>\n",
       "      <td>front</td>\n",
       "      <td>66.2</td>\n",
       "      <td>54.3</td>\n",
       "      <td>ohc</td>\n",
       "      <td>109</td>\n",
       "      <td>102</td>\n",
       "      <td>24</td>\n",
       "      <td>30</td>\n",
       "      <td>13950</td>\n",
       "    </tr>\n",
       "    <tr>\n",
       "      <th>4</th>\n",
       "      <td>2</td>\n",
       "      <td>164.0</td>\n",
       "      <td>audi</td>\n",
       "      <td>gas</td>\n",
       "      <td>sedan</td>\n",
       "      <td>4wd</td>\n",
       "      <td>front</td>\n",
       "      <td>66.4</td>\n",
       "      <td>54.3</td>\n",
       "      <td>ohc</td>\n",
       "      <td>136</td>\n",
       "      <td>115</td>\n",
       "      <td>18</td>\n",
       "      <td>22</td>\n",
       "      <td>17450</td>\n",
       "    </tr>\n",
       "  </tbody>\n",
       "</table>\n",
       "</div>"
      ],
      "text/plain": [
       "   symboling  normalized-losses         make fuel-type   body-style  \\\n",
       "0          3              122.0  alfa-romero       gas  convertible   \n",
       "1          3              122.0  alfa-romero       gas  convertible   \n",
       "2          1              122.0  alfa-romero       gas    hatchback   \n",
       "3          2              164.0         audi       gas        sedan   \n",
       "4          2              164.0         audi       gas        sedan   \n",
       "\n",
       "  drive-wheels engine-location  width  height engine-type  engine-size  \\\n",
       "0          rwd           front   64.1    48.8        dohc          130   \n",
       "1          rwd           front   64.1    48.8        dohc          130   \n",
       "2          rwd           front   65.5    52.4        ohcv          152   \n",
       "3          fwd           front   66.2    54.3         ohc          109   \n",
       "4          4wd           front   66.4    54.3         ohc          136   \n",
       "\n",
       "  horsepower  city-mpg  highway-mpg  price  \n",
       "0        111        21           27  13495  \n",
       "1        111        21           27  16500  \n",
       "2        154        19           26  16500  \n",
       "3        102        24           30  13950  \n",
       "4        115        18           22  17450  "
      ]
     },
     "execution_count": 18,
     "metadata": {},
     "output_type": "execute_result"
    }
   ],
   "source": [
    "df.head()"
   ]
  },
  {
   "cell_type": "code",
   "execution_count": 19,
   "id": "0165b2b6",
   "metadata": {},
   "outputs": [
    {
     "data": {
      "text/plain": [
       "<AxesSubplot:>"
      ]
     },
     "execution_count": 19,
     "metadata": {},
     "output_type": "execute_result"
    },
    {
     "data": {
      "image/png": "[encoded data removed]",
      "text/plain": [
       "<Figure size 432x288 with 2 Axes>"
      ]
     },
     "metadata": {
      "needs_background": "light"
     },
     "output_type": "display_data"
    }
   ],
   "source": [
    "sb.heatmap(df.isnull())"
   ]
  },
  {
   "cell_type": "code",
   "execution_count": 20,
   "id": "fac8b8cf",
   "metadata": {},
   "outputs": [
    {
     "data": {
      "text/plain": [
       "symboling              int64\n",
       "normalized-losses    float64\n",
       "make                  object\n",
       "fuel-type             object\n",
       "body-style            object\n",
       "drive-wheels          object\n",
       "engine-location       object\n",
       "width                float64\n",
       "height               float64\n",
       "engine-type           object\n",
       "engine-size            int64\n",
       "horsepower            object\n",
       "city-mpg               int64\n",
       "highway-mpg            int64\n",
       "price                  int64\n",
       "dtype: object"
      ]
     },
     "execution_count": 20,
     "metadata": {},
     "output_type": "execute_result"
    }
   ],
   "source": [
    "df.dtypes"
   ]
  },
  {
   "cell_type": "code",
   "execution_count": 21,
   "id": "863f0cbd",
   "metadata": {},
   "outputs": [
    {
     "data": {
      "text/html": [
       "<div>\n",
       "<style scoped>\n",
       "    .dataframe tbody tr th:only-of-type {\n",
       "        vertical-align: middle;\n",
       "    }\n",
       "\n",
       "    .dataframe tbody tr th {\n",
       "        vertical-align: top;\n",
       "    }\n",
       "\n",
       "    .dataframe thead th {\n",
       "        text-align: right;\n",
       "    }\n",
       "</style>\n",
       "<table border=\"1\" class=\"dataframe\">\n",
       "  <thead>\n",
       "    <tr style=\"text-align: right;\">\n",
       "      <th></th>\n",
       "      <th>symboling</th>\n",
       "      <th>normalized-losses</th>\n",
       "      <th>make</th>\n",
       "      <th>fuel-type</th>\n",
       "      <th>body-style</th>\n",
       "      <th>drive-wheels</th>\n",
       "      <th>engine-location</th>\n",
       "      <th>width</th>\n",
       "      <th>height</th>\n",
       "      <th>engine-type</th>\n",
       "      <th>engine-size</th>\n",
       "      <th>horsepower</th>\n",
       "      <th>city-mpg</th>\n",
       "      <th>highway-mpg</th>\n",
       "      <th>price</th>\n",
       "    </tr>\n",
       "  </thead>\n",
       "  <tbody>\n",
       "    <tr>\n",
       "      <th>0</th>\n",
       "      <td>3</td>\n",
       "      <td>122.0</td>\n",
       "      <td>alfa-romero</td>\n",
       "      <td>gas</td>\n",
       "      <td>convertible</td>\n",
       "      <td>rwd</td>\n",
       "      <td>front</td>\n",
       "      <td>64.1</td>\n",
       "      <td>48.8</td>\n",
       "      <td>dohc</td>\n",
       "      <td>130</td>\n",
       "      <td>111</td>\n",
       "      <td>21</td>\n",
       "      <td>27</td>\n",
       "      <td>13495</td>\n",
       "    </tr>\n",
       "    <tr>\n",
       "      <th>1</th>\n",
       "      <td>3</td>\n",
       "      <td>122.0</td>\n",
       "      <td>alfa-romero</td>\n",
       "      <td>gas</td>\n",
       "      <td>convertible</td>\n",
       "      <td>rwd</td>\n",
       "      <td>front</td>\n",
       "      <td>64.1</td>\n",
       "      <td>48.8</td>\n",
       "      <td>dohc</td>\n",
       "      <td>130</td>\n",
       "      <td>111</td>\n",
       "      <td>21</td>\n",
       "      <td>27</td>\n",
       "      <td>16500</td>\n",
       "    </tr>\n",
       "    <tr>\n",
       "      <th>2</th>\n",
       "      <td>1</td>\n",
       "      <td>122.0</td>\n",
       "      <td>alfa-romero</td>\n",
       "      <td>gas</td>\n",
       "      <td>hatchback</td>\n",
       "      <td>rwd</td>\n",
       "      <td>front</td>\n",
       "      <td>65.5</td>\n",
       "      <td>52.4</td>\n",
       "      <td>ohcv</td>\n",
       "      <td>152</td>\n",
       "      <td>154</td>\n",
       "      <td>19</td>\n",
       "      <td>26</td>\n",
       "      <td>16500</td>\n",
       "    </tr>\n",
       "    <tr>\n",
       "      <th>3</th>\n",
       "      <td>2</td>\n",
       "      <td>164.0</td>\n",
       "      <td>audi</td>\n",
       "      <td>gas</td>\n",
       "      <td>sedan</td>\n",
       "      <td>fwd</td>\n",
       "      <td>front</td>\n",
       "      <td>66.2</td>\n",
       "      <td>54.3</td>\n",
       "      <td>ohc</td>\n",
       "      <td>109</td>\n",
       "      <td>102</td>\n",
       "      <td>24</td>\n",
       "      <td>30</td>\n",
       "      <td>13950</td>\n",
       "    </tr>\n",
       "    <tr>\n",
       "      <th>4</th>\n",
       "      <td>2</td>\n",
       "      <td>164.0</td>\n",
       "      <td>audi</td>\n",
       "      <td>gas</td>\n",
       "      <td>sedan</td>\n",
       "      <td>4wd</td>\n",
       "      <td>front</td>\n",
       "      <td>66.4</td>\n",
       "      <td>54.3</td>\n",
       "      <td>ohc</td>\n",
       "      <td>136</td>\n",
       "      <td>115</td>\n",
       "      <td>18</td>\n",
       "      <td>22</td>\n",
       "      <td>17450</td>\n",
       "    </tr>\n",
       "  </tbody>\n",
       "</table>\n",
       "</div>"
      ],
      "text/plain": [
       "   symboling  normalized-losses         make fuel-type   body-style  \\\n",
       "0          3              122.0  alfa-romero       gas  convertible   \n",
       "1          3              122.0  alfa-romero       gas  convertible   \n",
       "2          1              122.0  alfa-romero       gas    hatchback   \n",
       "3          2              164.0         audi       gas        sedan   \n",
       "4          2              164.0         audi       gas        sedan   \n",
       "\n",
       "  drive-wheels engine-location  width  height engine-type  engine-size  \\\n",
       "0          rwd           front   64.1    48.8        dohc          130   \n",
       "1          rwd           front   64.1    48.8        dohc          130   \n",
       "2          rwd           front   65.5    52.4        ohcv          152   \n",
       "3          fwd           front   66.2    54.3         ohc          109   \n",
       "4          4wd           front   66.4    54.3         ohc          136   \n",
       "\n",
       "  horsepower  city-mpg  highway-mpg  price  \n",
       "0        111        21           27  13495  \n",
       "1        111        21           27  16500  \n",
       "2        154        19           26  16500  \n",
       "3        102        24           30  13950  \n",
       "4        115        18           22  17450  "
      ]
     },
     "execution_count": 21,
     "metadata": {},
     "output_type": "execute_result"
    }
   ],
   "source": [
    "df.head()"
   ]
  },
  {
   "cell_type": "code",
   "execution_count": 22,
   "id": "5304c186",
   "metadata": {},
   "outputs": [
    {
     "data": {
      "text/plain": [
       "array(['111', '154', '102', '115', '110', '140', '160', '101', '121',\n",
       "       '182', '48', '70', '68', '88', '145', '58', '76', '60', '86',\n",
       "       '100', '78', '90', '176', '262', '135', '84', '64', '120', '72',\n",
       "       '123', '155', '184', '175', '116', '69', '55', '97', '152', '200',\n",
       "       '95', '142', '143', '207', '288', '?', '73', '82', '94', '62',\n",
       "       '56', '112', '92', '161', '156', '52', '85', '114', '162', '134',\n",
       "       '106'], dtype=object)"
      ]
     },
     "execution_count": 22,
     "metadata": {},
     "output_type": "execute_result"
    }
   ],
   "source": [
    "df['horsepower'].unique()"
   ]
  },
  {
   "cell_type": "code",
   "execution_count": 23,
   "id": "afb53833",
   "metadata": {},
   "outputs": [
    {
     "data": {
      "text/plain": [
       "68     19\n",
       "70     11\n",
       "69     10\n",
       "116     9\n",
       "110     8\n",
       "95      7\n",
       "88      6\n",
       "62      6\n",
       "101     6\n",
       "160     6\n",
       "114     6\n",
       "84      5\n",
       "97      5\n",
       "102     5\n",
       "145     5\n",
       "82      5\n",
       "76      5\n",
       "111     4\n",
       "92      4\n",
       "123     4\n",
       "86      4\n",
       "90      3\n",
       "73      3\n",
       "85      3\n",
       "207     3\n",
       "182     3\n",
       "121     3\n",
       "152     3\n",
       "112     2\n",
       "56      2\n",
       "161     2\n",
       "156     2\n",
       "94      2\n",
       "52      2\n",
       "?       2\n",
       "162     2\n",
       "155     2\n",
       "184     2\n",
       "100     2\n",
       "176     2\n",
       "55      1\n",
       "262     1\n",
       "134     1\n",
       "115     1\n",
       "140     1\n",
       "48      1\n",
       "58      1\n",
       "60      1\n",
       "78      1\n",
       "135     1\n",
       "200     1\n",
       "64      1\n",
       "120     1\n",
       "72      1\n",
       "154     1\n",
       "288     1\n",
       "143     1\n",
       "142     1\n",
       "175     1\n",
       "106     1\n",
       "Name: horsepower, dtype: int64"
      ]
     },
     "execution_count": 23,
     "metadata": {},
     "output_type": "execute_result"
    }
   ],
   "source": [
    "df['horsepower'].value_counts()"
   ]
  },
  {
   "cell_type": "code",
   "execution_count": 24,
   "id": "ebe80002",
   "metadata": {},
   "outputs": [],
   "source": [
    "df['horsepower'].replace('?',np.nan,inplace=True)"
   ]
  },
  {
   "cell_type": "code",
   "execution_count": 25,
   "id": "2dda2969",
   "metadata": {},
   "outputs": [
    {
     "data": {
      "text/plain": [
       "array(['111', '154', '102', '115', '110', '140', '160', '101', '121',\n",
       "       '182', '48', '70', '68', '88', '145', '58', '76', '60', '86',\n",
       "       '100', '78', '90', '176', '262', '135', '84', '64', '120', '72',\n",
       "       '123', '155', '184', '175', '116', '69', '55', '97', '152', '200',\n",
       "       '95', '142', '143', '207', '288', nan, '73', '82', '94', '62',\n",
       "       '56', '112', '92', '161', '156', '52', '85', '114', '162', '134',\n",
       "       '106'], dtype=object)"
      ]
     },
     "execution_count": 25,
     "metadata": {},
     "output_type": "execute_result"
    }
   ],
   "source": [
    "df['horsepower'].unique()"
   ]
  },
  {
   "cell_type": "code",
   "execution_count": 26,
   "id": "de3943b1",
   "metadata": {},
   "outputs": [
    {
     "data": {
      "text/plain": [
       "symboling              int64\n",
       "normalized-losses    float64\n",
       "make                  object\n",
       "fuel-type             object\n",
       "body-style            object\n",
       "drive-wheels          object\n",
       "engine-location       object\n",
       "width                float64\n",
       "height               float64\n",
       "engine-type           object\n",
       "engine-size            int64\n",
       "horsepower            object\n",
       "city-mpg               int64\n",
       "highway-mpg            int64\n",
       "price                  int64\n",
       "dtype: object"
      ]
     },
     "execution_count": 26,
     "metadata": {},
     "output_type": "execute_result"
    }
   ],
   "source": [
    "df.dtypes"
   ]
  },
  {
   "cell_type": "code",
   "execution_count": 27,
   "id": "62d28a17",
   "metadata": {},
   "outputs": [],
   "source": [
    "# df['horsepower']=df['horsepower'].astype('float')"
   ]
  },
  {
   "cell_type": "code",
   "execution_count": 28,
   "id": "5bb86647",
   "metadata": {},
   "outputs": [
    {
     "data": {
      "text/plain": [
       "<AxesSubplot:>"
      ]
     },
     "execution_count": 28,
     "metadata": {},
     "output_type": "execute_result"
    },
    {
     "data": {
      "image/png": "[encoded data removed]",
      "text/plain": [
       "<Figure size 432x288 with 2 Axes>"
      ]
     },
     "metadata": {
      "needs_background": "light"
     },
     "output_type": "display_data"
    }
   ],
   "source": [
    "sb.heatmap(df.isnull())"
   ]
  },
  {
   "cell_type": "code",
   "execution_count": 29,
   "id": "2c9b97b5",
   "metadata": {},
   "outputs": [
    {
     "data": {
      "text/plain": [
       "symboling            0.00000\n",
       "normalized-losses    0.00000\n",
       "make                 0.00000\n",
       "fuel-type            0.00000\n",
       "body-style           0.00000\n",
       "drive-wheels         0.00000\n",
       "engine-location      0.00000\n",
       "width                0.00000\n",
       "height               0.00000\n",
       "engine-type          0.00000\n",
       "engine-size          0.00000\n",
       "horsepower           0.97561\n",
       "city-mpg             0.00000\n",
       "highway-mpg          0.00000\n",
       "price                0.00000\n",
       "dtype: float64"
      ]
     },
     "execution_count": 29,
     "metadata": {},
     "output_type": "execute_result"
    }
   ],
   "source": [
    "df.isnull().sum()/df.shape[0]*100\n"
   ]
  },
  {
   "cell_type": "code",
   "execution_count": 30,
   "id": "4c49cf8c",
   "metadata": {},
   "outputs": [],
   "source": [
    "df['horsepower']=df['horsepower'].astype('float')"
   ]
  },
  {
   "cell_type": "code",
   "execution_count": 31,
   "id": "c0d9f2ce",
   "metadata": {},
   "outputs": [
    {
     "data": {
      "text/plain": [
       "symboling              int64\n",
       "normalized-losses    float64\n",
       "make                  object\n",
       "fuel-type             object\n",
       "body-style            object\n",
       "drive-wheels          object\n",
       "engine-location       object\n",
       "width                float64\n",
       "height               float64\n",
       "engine-type           object\n",
       "engine-size            int64\n",
       "horsepower           float64\n",
       "city-mpg               int64\n",
       "highway-mpg            int64\n",
       "price                  int64\n",
       "dtype: object"
      ]
     },
     "execution_count": 31,
     "metadata": {},
     "output_type": "execute_result"
    }
   ],
   "source": [
    "df.dtypes"
   ]
  },
  {
   "cell_type": "code",
   "execution_count": 32,
   "id": "6686b554",
   "metadata": {},
   "outputs": [
    {
     "data": {
      "text/plain": [
       "104.25615763546799"
      ]
     },
     "execution_count": 32,
     "metadata": {},
     "output_type": "execute_result"
    }
   ],
   "source": [
    " q=df['horsepower'].mean()\n",
    "q"
   ]
  },
  {
   "cell_type": "code",
   "execution_count": 33,
   "id": "d559a81e",
   "metadata": {},
   "outputs": [],
   "source": [
    "df['horsepower'].fillna(q,inplace=True)"
   ]
  },
  {
   "cell_type": "code",
   "execution_count": 34,
   "id": "549e3267",
   "metadata": {},
   "outputs": [
    {
     "data": {
      "text/plain": [
       "<AxesSubplot:>"
      ]
     },
     "execution_count": 34,
     "metadata": {},
     "output_type": "execute_result"
    },
    {
     "data": {
      "image/png": "[encoded data removed]",
      "text/plain": [
       "<Figure size 432x288 with 2 Axes>"
      ]
     },
     "metadata": {
      "needs_background": "light"
     },
     "output_type": "display_data"
    }
   ],
   "source": [
    "sb.heatmap(df.isnull())"
   ]
  },
  {
   "cell_type": "code",
   "execution_count": 35,
   "id": "d83668c1",
   "metadata": {},
   "outputs": [
    {
     "data": {
      "text/plain": [
       "array([111.        , 154.        , 102.        , 115.        ,\n",
       "       110.        , 140.        , 160.        , 101.        ,\n",
       "       121.        , 182.        ,  48.        ,  70.        ,\n",
       "        68.        ,  88.        , 145.        ,  58.        ,\n",
       "        76.        ,  60.        ,  86.        , 100.        ,\n",
       "        78.        ,  90.        , 176.        , 262.        ,\n",
       "       135.        ,  84.        ,  64.        , 120.        ,\n",
       "        72.        , 123.        , 155.        , 184.        ,\n",
       "       175.        , 116.        ,  69.        ,  55.        ,\n",
       "        97.        , 152.        , 200.        ,  95.        ,\n",
       "       142.        , 143.        , 207.        , 288.        ,\n",
       "       104.25615764,  73.        ,  82.        ,  94.        ,\n",
       "        62.        ,  56.        , 112.        ,  92.        ,\n",
       "       161.        , 156.        ,  52.        ,  85.        ,\n",
       "       114.        , 162.        , 134.        , 106.        ])"
      ]
     },
     "execution_count": 35,
     "metadata": {},
     "output_type": "execute_result"
    }
   ],
   "source": [
    "df['horsepower'].unique()"
   ]
  },
  {
   "cell_type": "code",
   "execution_count": 36,
   "id": "26955b76",
   "metadata": {},
   "outputs": [
    {
     "data": {
      "text/plain": [
       "<AxesSubplot:xlabel='price'>"
      ]
     },
     "execution_count": 36,
     "metadata": {},
     "output_type": "execute_result"
    },
    {
     "data": {
      "image/png": "[encoded data removed]",
      "text/plain": [
       "<Figure size 432x288 with 1 Axes>"
      ]
     },
     "metadata": {
      "needs_background": "light"
     },
     "output_type": "display_data"
    }
   ],
   "source": [
    "sb.boxplot(data=df,x='price')"
   ]
  },
  {
   "cell_type": "code",
   "execution_count": 37,
   "id": "76640938",
   "metadata": {},
   "outputs": [
    {
     "data": {
      "text/plain": [
       "<AxesSubplot:xlabel='price', ylabel='make'>"
      ]
     },
     "execution_count": 37,
     "metadata": {},
     "output_type": "execute_result"
    },
    {
     "data": {
      "image/png": "[encoded data removed]",
      "text/plain": [
       "<Figure size 1440x720 with 1 Axes>"
      ]
     },
     "metadata": {
      "needs_background": "light"
     },
     "output_type": "display_data"
    }
   ],
   "source": [
    "plt.figure(figsize=(20,10))\n",
    "sb.boxplot(data=df,x='price',y='make')"
   ]
  },
  {
   "cell_type": "code",
   "execution_count": 38,
   "id": "86e36ab4",
   "metadata": {},
   "outputs": [
    {
     "data": {
      "text/html": [
       "<div>\n",
       "<style scoped>\n",
       "    .dataframe tbody tr th:only-of-type {\n",
       "        vertical-align: middle;\n",
       "    }\n",
       "\n",
       "    .dataframe tbody tr th {\n",
       "        vertical-align: top;\n",
       "    }\n",
       "\n",
       "    .dataframe thead th {\n",
       "        text-align: right;\n",
       "    }\n",
       "</style>\n",
       "<table border=\"1\" class=\"dataframe\">\n",
       "  <thead>\n",
       "    <tr style=\"text-align: right;\">\n",
       "      <th></th>\n",
       "      <th>symboling</th>\n",
       "      <th>normalized-losses</th>\n",
       "      <th>make</th>\n",
       "      <th>fuel-type</th>\n",
       "      <th>body-style</th>\n",
       "      <th>drive-wheels</th>\n",
       "      <th>engine-location</th>\n",
       "      <th>width</th>\n",
       "      <th>height</th>\n",
       "      <th>engine-type</th>\n",
       "      <th>engine-size</th>\n",
       "      <th>horsepower</th>\n",
       "      <th>city-mpg</th>\n",
       "      <th>highway-mpg</th>\n",
       "      <th>price</th>\n",
       "    </tr>\n",
       "  </thead>\n",
       "  <tbody>\n",
       "    <tr>\n",
       "      <th>45</th>\n",
       "      <td>0</td>\n",
       "      <td>122.0</td>\n",
       "      <td>isuzu</td>\n",
       "      <td>gas</td>\n",
       "      <td>sedan</td>\n",
       "      <td>fwd</td>\n",
       "      <td>front</td>\n",
       "      <td>63.6</td>\n",
       "      <td>52.0</td>\n",
       "      <td>ohc</td>\n",
       "      <td>90</td>\n",
       "      <td>70.0</td>\n",
       "      <td>38</td>\n",
       "      <td>43</td>\n",
       "      <td>23000</td>\n",
       "    </tr>\n",
       "  </tbody>\n",
       "</table>\n",
       "</div>"
      ],
      "text/plain": [
       "    symboling  normalized-losses   make fuel-type body-style drive-wheels  \\\n",
       "45          0              122.0  isuzu       gas      sedan          fwd   \n",
       "\n",
       "   engine-location  width  height engine-type  engine-size  horsepower  \\\n",
       "45           front   63.6    52.0         ohc           90        70.0   \n",
       "\n",
       "    city-mpg  highway-mpg  price  \n",
       "45        38           43  23000  "
      ]
     },
     "execution_count": 38,
     "metadata": {},
     "output_type": "execute_result"
    }
   ],
   "source": [
    "df[(df['make']=='isuzu')&(df['price']>20000)]\n"
   ]
  },
  {
   "cell_type": "code",
   "execution_count": 39,
   "id": "40b3d02a",
   "metadata": {},
   "outputs": [],
   "source": [
    "df.drop(45,inplace=True)"
   ]
  },
  {
   "cell_type": "code",
   "execution_count": 40,
   "id": "2bbafb6c",
   "metadata": {},
   "outputs": [
    {
     "data": {
      "text/plain": [
       "<AxesSubplot:xlabel='price', ylabel='make'>"
      ]
     },
     "execution_count": 40,
     "metadata": {},
     "output_type": "execute_result"
    },
    {
     "data": {
      "image/png": "[encoded data removed]",
      "text/plain": [
       "<Figure size 1440x720 with 1 Axes>"
      ]
     },
     "metadata": {
      "needs_background": "light"
     },
     "output_type": "display_data"
    }
   ],
   "source": [
    "plt.figure(figsize=(20,10))\n",
    "sb.boxplot(data=df,x='price',y='make')"
   ]
  },
  {
   "cell_type": "code",
   "execution_count": 41,
   "id": "65002947",
   "metadata": {},
   "outputs": [
    {
     "data": {
      "text/html": [
       "<div>\n",
       "<style scoped>\n",
       "    .dataframe tbody tr th:only-of-type {\n",
       "        vertical-align: middle;\n",
       "    }\n",
       "\n",
       "    .dataframe tbody tr th {\n",
       "        vertical-align: top;\n",
       "    }\n",
       "\n",
       "    .dataframe thead th {\n",
       "        text-align: right;\n",
       "    }\n",
       "</style>\n",
       "<table border=\"1\" class=\"dataframe\">\n",
       "  <thead>\n",
       "    <tr style=\"text-align: right;\">\n",
       "      <th></th>\n",
       "      <th>symboling</th>\n",
       "      <th>normalized-losses</th>\n",
       "      <th>make</th>\n",
       "      <th>fuel-type</th>\n",
       "      <th>body-style</th>\n",
       "      <th>drive-wheels</th>\n",
       "      <th>engine-location</th>\n",
       "      <th>width</th>\n",
       "      <th>height</th>\n",
       "      <th>engine-type</th>\n",
       "      <th>engine-size</th>\n",
       "      <th>horsepower</th>\n",
       "      <th>city-mpg</th>\n",
       "      <th>highway-mpg</th>\n",
       "      <th>price</th>\n",
       "    </tr>\n",
       "  </thead>\n",
       "  <tbody>\n",
       "    <tr>\n",
       "      <th>172</th>\n",
       "      <td>2</td>\n",
       "      <td>134.0</td>\n",
       "      <td>toyota</td>\n",
       "      <td>gas</td>\n",
       "      <td>convertible</td>\n",
       "      <td>rwd</td>\n",
       "      <td>front</td>\n",
       "      <td>65.6</td>\n",
       "      <td>53.0</td>\n",
       "      <td>ohc</td>\n",
       "      <td>146</td>\n",
       "      <td>116.0</td>\n",
       "      <td>24</td>\n",
       "      <td>30</td>\n",
       "      <td>17669</td>\n",
       "    </tr>\n",
       "    <tr>\n",
       "      <th>178</th>\n",
       "      <td>3</td>\n",
       "      <td>197.0</td>\n",
       "      <td>toyota</td>\n",
       "      <td>gas</td>\n",
       "      <td>hatchback</td>\n",
       "      <td>rwd</td>\n",
       "      <td>front</td>\n",
       "      <td>67.7</td>\n",
       "      <td>52.0</td>\n",
       "      <td>dohc</td>\n",
       "      <td>171</td>\n",
       "      <td>161.0</td>\n",
       "      <td>20</td>\n",
       "      <td>24</td>\n",
       "      <td>16558</td>\n",
       "    </tr>\n",
       "    <tr>\n",
       "      <th>179</th>\n",
       "      <td>3</td>\n",
       "      <td>197.0</td>\n",
       "      <td>toyota</td>\n",
       "      <td>gas</td>\n",
       "      <td>hatchback</td>\n",
       "      <td>rwd</td>\n",
       "      <td>front</td>\n",
       "      <td>67.7</td>\n",
       "      <td>52.0</td>\n",
       "      <td>dohc</td>\n",
       "      <td>171</td>\n",
       "      <td>161.0</td>\n",
       "      <td>19</td>\n",
       "      <td>24</td>\n",
       "      <td>15998</td>\n",
       "    </tr>\n",
       "    <tr>\n",
       "      <th>180</th>\n",
       "      <td>-1</td>\n",
       "      <td>90.0</td>\n",
       "      <td>toyota</td>\n",
       "      <td>gas</td>\n",
       "      <td>sedan</td>\n",
       "      <td>rwd</td>\n",
       "      <td>front</td>\n",
       "      <td>66.5</td>\n",
       "      <td>54.1</td>\n",
       "      <td>dohc</td>\n",
       "      <td>171</td>\n",
       "      <td>156.0</td>\n",
       "      <td>20</td>\n",
       "      <td>24</td>\n",
       "      <td>15690</td>\n",
       "    </tr>\n",
       "    <tr>\n",
       "      <th>181</th>\n",
       "      <td>-1</td>\n",
       "      <td>122.0</td>\n",
       "      <td>toyota</td>\n",
       "      <td>gas</td>\n",
       "      <td>wagon</td>\n",
       "      <td>rwd</td>\n",
       "      <td>front</td>\n",
       "      <td>66.5</td>\n",
       "      <td>54.1</td>\n",
       "      <td>dohc</td>\n",
       "      <td>161</td>\n",
       "      <td>156.0</td>\n",
       "      <td>19</td>\n",
       "      <td>24</td>\n",
       "      <td>15750</td>\n",
       "    </tr>\n",
       "  </tbody>\n",
       "</table>\n",
       "</div>"
      ],
      "text/plain": [
       "     symboling  normalized-losses    make fuel-type   body-style drive-wheels  \\\n",
       "172          2              134.0  toyota       gas  convertible          rwd   \n",
       "178          3              197.0  toyota       gas    hatchback          rwd   \n",
       "179          3              197.0  toyota       gas    hatchback          rwd   \n",
       "180         -1               90.0  toyota       gas        sedan          rwd   \n",
       "181         -1              122.0  toyota       gas        wagon          rwd   \n",
       "\n",
       "    engine-location  width  height engine-type  engine-size  horsepower  \\\n",
       "172           front   65.6    53.0         ohc          146       116.0   \n",
       "178           front   67.7    52.0        dohc          171       161.0   \n",
       "179           front   67.7    52.0        dohc          171       161.0   \n",
       "180           front   66.5    54.1        dohc          171       156.0   \n",
       "181           front   66.5    54.1        dohc          161       156.0   \n",
       "\n",
       "     city-mpg  highway-mpg  price  \n",
       "172        24           30  17669  \n",
       "178        20           24  16558  \n",
       "179        19           24  15998  \n",
       "180        20           24  15690  \n",
       "181        19           24  15750  "
      ]
     },
     "execution_count": 41,
     "metadata": {},
     "output_type": "execute_result"
    }
   ],
   "source": [
    "df[(df['make']=='toyota')&(df['price']>15000)]"
   ]
  },
  {
   "cell_type": "code",
   "execution_count": 42,
   "id": "e4d04ae5",
   "metadata": {},
   "outputs": [
    {
     "data": {
      "text/plain": [
       "Int64Index([172, 178, 179, 180, 181], dtype='int64')"
      ]
     },
     "execution_count": 42,
     "metadata": {},
     "output_type": "execute_result"
    }
   ],
   "source": [
    "l=df[(df['make']=='toyota')&(df['price']>15000)].index\n",
    "l"
   ]
  },
  {
   "cell_type": "code",
   "execution_count": 43,
   "id": "2b08984a",
   "metadata": {},
   "outputs": [],
   "source": [
    "df.drop(l,inplace=True)"
   ]
  },
  {
   "cell_type": "code",
   "execution_count": 44,
   "id": "8c22d1bb",
   "metadata": {},
   "outputs": [
    {
     "data": {
      "text/plain": [
       "<AxesSubplot:xlabel='price', ylabel='make'>"
      ]
     },
     "execution_count": 44,
     "metadata": {},
     "output_type": "execute_result"
    },
    {
     "data": {
      "image/png": "[encoded data removed]",
      "text/plain": [
       "<Figure size 1440x720 with 1 Axes>"
      ]
     },
     "metadata": {
      "needs_background": "light"
     },
     "output_type": "display_data"
    }
   ],
   "source": [
    "plt.figure(figsize=(20,10))\n",
    "sb.boxplot(data=df,x='price',y='make')"
   ]
  },
  {
   "cell_type": "code",
   "execution_count": 45,
   "id": "45c2816e",
   "metadata": {},
   "outputs": [
    {
     "data": {
      "text/html": [
       "<div>\n",
       "<style scoped>\n",
       "    .dataframe tbody tr th:only-of-type {\n",
       "        vertical-align: middle;\n",
       "    }\n",
       "\n",
       "    .dataframe tbody tr th {\n",
       "        vertical-align: top;\n",
       "    }\n",
       "\n",
       "    .dataframe thead th {\n",
       "        text-align: right;\n",
       "    }\n",
       "</style>\n",
       "<table border=\"1\" class=\"dataframe\">\n",
       "  <thead>\n",
       "    <tr style=\"text-align: right;\">\n",
       "      <th></th>\n",
       "      <th>symboling</th>\n",
       "      <th>normalized-losses</th>\n",
       "      <th>make</th>\n",
       "      <th>fuel-type</th>\n",
       "      <th>body-style</th>\n",
       "      <th>drive-wheels</th>\n",
       "      <th>engine-location</th>\n",
       "      <th>width</th>\n",
       "      <th>height</th>\n",
       "      <th>engine-type</th>\n",
       "      <th>engine-size</th>\n",
       "      <th>horsepower</th>\n",
       "      <th>city-mpg</th>\n",
       "      <th>highway-mpg</th>\n",
       "      <th>price</th>\n",
       "    </tr>\n",
       "  </thead>\n",
       "  <tbody>\n",
       "    <tr>\n",
       "      <th>83</th>\n",
       "      <td>3</td>\n",
       "      <td>122.0</td>\n",
       "      <td>mitsubishi</td>\n",
       "      <td>gas</td>\n",
       "      <td>hatchback</td>\n",
       "      <td>fwd</td>\n",
       "      <td>front</td>\n",
       "      <td>66.3</td>\n",
       "      <td>50.2</td>\n",
       "      <td>ohc</td>\n",
       "      <td>156</td>\n",
       "      <td>145.0</td>\n",
       "      <td>19</td>\n",
       "      <td>24</td>\n",
       "      <td>14869</td>\n",
       "    </tr>\n",
       "    <tr>\n",
       "      <th>84</th>\n",
       "      <td>3</td>\n",
       "      <td>122.0</td>\n",
       "      <td>mitsubishi</td>\n",
       "      <td>gas</td>\n",
       "      <td>hatchback</td>\n",
       "      <td>fwd</td>\n",
       "      <td>front</td>\n",
       "      <td>66.3</td>\n",
       "      <td>50.2</td>\n",
       "      <td>ohc</td>\n",
       "      <td>156</td>\n",
       "      <td>145.0</td>\n",
       "      <td>19</td>\n",
       "      <td>24</td>\n",
       "      <td>14489</td>\n",
       "    </tr>\n",
       "  </tbody>\n",
       "</table>\n",
       "</div>"
      ],
      "text/plain": [
       "    symboling  normalized-losses        make fuel-type body-style  \\\n",
       "83          3              122.0  mitsubishi       gas  hatchback   \n",
       "84          3              122.0  mitsubishi       gas  hatchback   \n",
       "\n",
       "   drive-wheels engine-location  width  height engine-type  engine-size  \\\n",
       "83          fwd           front   66.3    50.2         ohc          156   \n",
       "84          fwd           front   66.3    50.2         ohc          156   \n",
       "\n",
       "    horsepower  city-mpg  highway-mpg  price  \n",
       "83       145.0        19           24  14869  \n",
       "84       145.0        19           24  14489  "
      ]
     },
     "execution_count": 45,
     "metadata": {},
     "output_type": "execute_result"
    }
   ],
   "source": [
    "df[(df['make']=='mitsubishi')&(df['price']>13000)]"
   ]
  },
  {
   "cell_type": "code",
   "execution_count": 46,
   "id": "ba135d68",
   "metadata": {},
   "outputs": [
    {
     "data": {
      "text/plain": [
       "Int64Index([83, 84], dtype='int64')"
      ]
     },
     "execution_count": 46,
     "metadata": {},
     "output_type": "execute_result"
    }
   ],
   "source": [
    "g=df[(df['make']=='mitsubishi')&(df['price']>13000)].index\n",
    "g"
   ]
  },
  {
   "cell_type": "code",
   "execution_count": 47,
   "id": "5cac370c",
   "metadata": {},
   "outputs": [],
   "source": [
    "df.drop(g,inplace=True)"
   ]
  },
  {
   "cell_type": "code",
   "execution_count": 48,
   "id": "24e09015",
   "metadata": {},
   "outputs": [
    {
     "data": {
      "text/plain": [
       "<AxesSubplot:xlabel='price', ylabel='make'>"
      ]
     },
     "execution_count": 48,
     "metadata": {},
     "output_type": "execute_result"
    },
    {
     "data": {
      "image/png": "[encoded data removed]",
      "text/plain": [
       "<Figure size 1440x720 with 1 Axes>"
      ]
     },
     "metadata": {
      "needs_background": "light"
     },
     "output_type": "display_data"
    }
   ],
   "source": [
    "plt.figure(figsize=(20,10))\n",
    "sb.boxplot(data=df,x='price',y='make')"
   ]
  },
  {
   "cell_type": "code",
   "execution_count": 49,
   "id": "bb1e4ca7",
   "metadata": {},
   "outputs": [
    {
     "data": {
      "text/html": [
       "<div>\n",
       "<style scoped>\n",
       "    .dataframe tbody tr th:only-of-type {\n",
       "        vertical-align: middle;\n",
       "    }\n",
       "\n",
       "    .dataframe tbody tr th {\n",
       "        vertical-align: top;\n",
       "    }\n",
       "\n",
       "    .dataframe thead th {\n",
       "        text-align: right;\n",
       "    }\n",
       "</style>\n",
       "<table border=\"1\" class=\"dataframe\">\n",
       "  <thead>\n",
       "    <tr style=\"text-align: right;\">\n",
       "      <th></th>\n",
       "      <th>symboling</th>\n",
       "      <th>normalized-losses</th>\n",
       "      <th>make</th>\n",
       "      <th>fuel-type</th>\n",
       "      <th>body-style</th>\n",
       "      <th>drive-wheels</th>\n",
       "      <th>engine-location</th>\n",
       "      <th>width</th>\n",
       "      <th>height</th>\n",
       "      <th>engine-type</th>\n",
       "      <th>engine-size</th>\n",
       "      <th>horsepower</th>\n",
       "      <th>city-mpg</th>\n",
       "      <th>highway-mpg</th>\n",
       "      <th>price</th>\n",
       "    </tr>\n",
       "  </thead>\n",
       "  <tbody>\n",
       "    <tr>\n",
       "      <th>124</th>\n",
       "      <td>3</td>\n",
       "      <td>122.0</td>\n",
       "      <td>plymouth</td>\n",
       "      <td>gas</td>\n",
       "      <td>hatchback</td>\n",
       "      <td>rwd</td>\n",
       "      <td>front</td>\n",
       "      <td>66.3</td>\n",
       "      <td>50.2</td>\n",
       "      <td>ohc</td>\n",
       "      <td>156</td>\n",
       "      <td>145.0</td>\n",
       "      <td>19</td>\n",
       "      <td>24</td>\n",
       "      <td>12764</td>\n",
       "    </tr>\n",
       "  </tbody>\n",
       "</table>\n",
       "</div>"
      ],
      "text/plain": [
       "     symboling  normalized-losses      make fuel-type body-style drive-wheels  \\\n",
       "124          3              122.0  plymouth       gas  hatchback          rwd   \n",
       "\n",
       "    engine-location  width  height engine-type  engine-size  horsepower  \\\n",
       "124           front   66.3    50.2         ohc          156       145.0   \n",
       "\n",
       "     city-mpg  highway-mpg  price  \n",
       "124        19           24  12764  "
      ]
     },
     "execution_count": 49,
     "metadata": {},
     "output_type": "execute_result"
    }
   ],
   "source": [
    "df[(df['make']=='plymouth')&(df['price']>10000)]"
   ]
  },
  {
   "cell_type": "code",
   "execution_count": 50,
   "id": "1929235b",
   "metadata": {},
   "outputs": [
    {
     "data": {
      "text/plain": [
       "Int64Index([124], dtype='int64')"
      ]
     },
     "execution_count": 50,
     "metadata": {},
     "output_type": "execute_result"
    }
   ],
   "source": [
    "r=df[(df['make']=='plymouth')&(df['price']>10000)].index\n",
    "r"
   ]
  },
  {
   "cell_type": "code",
   "execution_count": 51,
   "id": "f99107e7",
   "metadata": {},
   "outputs": [],
   "source": [
    "df.drop(124,inplace=True)"
   ]
  },
  {
   "cell_type": "code",
   "execution_count": 52,
   "id": "6ea41dc6",
   "metadata": {},
   "outputs": [
    {
     "data": {
      "text/plain": [
       "<AxesSubplot:xlabel='price', ylabel='make'>"
      ]
     },
     "execution_count": 52,
     "metadata": {},
     "output_type": "execute_result"
    },
    {
     "data": {
      "image/png": "[encoded data removed]",
      "text/plain": [
       "<Figure size 1440x720 with 1 Axes>"
      ]
     },
     "metadata": {
      "needs_background": "light"
     },
     "output_type": "display_data"
    }
   ],
   "source": [
    "plt.figure(figsize=(20,10))\n",
    "sb.boxplot(data=df,x='price',y='make')"
   ]
  },
  {
   "cell_type": "code",
   "execution_count": 53,
   "id": "eb248543",
   "metadata": {},
   "outputs": [],
   "source": [
    "a=df[(df['make']=='dodge')& (df['price']>12000)].index\n"
   ]
  },
  {
   "cell_type": "code",
   "execution_count": 54,
   "id": "f5d0e433",
   "metadata": {},
   "outputs": [
    {
     "data": {
      "text/html": [
       "<div>\n",
       "<style scoped>\n",
       "    .dataframe tbody tr th:only-of-type {\n",
       "        vertical-align: middle;\n",
       "    }\n",
       "\n",
       "    .dataframe tbody tr th {\n",
       "        vertical-align: top;\n",
       "    }\n",
       "\n",
       "    .dataframe thead th {\n",
       "        text-align: right;\n",
       "    }\n",
       "</style>\n",
       "<table border=\"1\" class=\"dataframe\">\n",
       "  <thead>\n",
       "    <tr style=\"text-align: right;\">\n",
       "      <th></th>\n",
       "      <th>symboling</th>\n",
       "      <th>normalized-losses</th>\n",
       "      <th>make</th>\n",
       "      <th>fuel-type</th>\n",
       "      <th>body-style</th>\n",
       "      <th>drive-wheels</th>\n",
       "      <th>engine-location</th>\n",
       "      <th>width</th>\n",
       "      <th>height</th>\n",
       "      <th>engine-type</th>\n",
       "      <th>engine-size</th>\n",
       "      <th>horsepower</th>\n",
       "      <th>city-mpg</th>\n",
       "      <th>highway-mpg</th>\n",
       "      <th>price</th>\n",
       "    </tr>\n",
       "  </thead>\n",
       "  <tbody>\n",
       "    <tr>\n",
       "      <th>41</th>\n",
       "      <td>0</td>\n",
       "      <td>85.0</td>\n",
       "      <td>honda</td>\n",
       "      <td>gas</td>\n",
       "      <td>sedan</td>\n",
       "      <td>fwd</td>\n",
       "      <td>front</td>\n",
       "      <td>65.2</td>\n",
       "      <td>54.1</td>\n",
       "      <td>ohc</td>\n",
       "      <td>110</td>\n",
       "      <td>101.0</td>\n",
       "      <td>24</td>\n",
       "      <td>28</td>\n",
       "      <td>12945</td>\n",
       "    </tr>\n",
       "  </tbody>\n",
       "</table>\n",
       "</div>"
      ],
      "text/plain": [
       "    symboling  normalized-losses   make fuel-type body-style drive-wheels  \\\n",
       "41          0               85.0  honda       gas      sedan          fwd   \n",
       "\n",
       "   engine-location  width  height engine-type  engine-size  horsepower  \\\n",
       "41           front   65.2    54.1         ohc          110       101.0   \n",
       "\n",
       "    city-mpg  highway-mpg  price  \n",
       "41        24           28  12945  "
      ]
     },
     "execution_count": 54,
     "metadata": {},
     "output_type": "execute_result"
    }
   ],
   "source": [
    "df[(df['make']=='honda')&(df['price']>12000)]"
   ]
  },
  {
   "cell_type": "code",
   "execution_count": 55,
   "id": "5c95c031",
   "metadata": {},
   "outputs": [],
   "source": [
    "# a=df[(df['make']=='dodge')& (df['price']>12000)].index\n",
    "b=df[(df['make']=='honda')&(df['price']>12000)].index"
   ]
  },
  {
   "cell_type": "code",
   "execution_count": 56,
   "id": "cadd33ab",
   "metadata": {},
   "outputs": [],
   "source": [
    "df.drop(a,inplace=True)"
   ]
  },
  {
   "cell_type": "code",
   "execution_count": 57,
   "id": "031473e7",
   "metadata": {},
   "outputs": [],
   "source": [
    "df.drop(b,inplace=True)"
   ]
  },
  {
   "cell_type": "code",
   "execution_count": 58,
   "id": "1d97b0b5",
   "metadata": {},
   "outputs": [
    {
     "data": {
      "text/plain": [
       "<AxesSubplot:xlabel='price', ylabel='make'>"
      ]
     },
     "execution_count": 58,
     "metadata": {},
     "output_type": "execute_result"
    },
    {
     "data": {
      "image/png": "[encoded data removed]",
      "text/plain": [
       "<Figure size 1440x720 with 1 Axes>"
      ]
     },
     "metadata": {
      "needs_background": "light"
     },
     "output_type": "display_data"
    }
   ],
   "source": [
    "\n",
    "plt.figure(figsize=(20,10))\n",
    "sb.boxplot(data=df,x='price',y='make')"
   ]
  },
  {
   "cell_type": "code",
   "execution_count": 59,
   "id": "26a4a04f",
   "metadata": {},
   "outputs": [
    {
     "data": {
      "text/plain": [
       "0"
      ]
     },
     "execution_count": 59,
     "metadata": {},
     "output_type": "execute_result"
    }
   ],
   "source": [
    "df.duplicated().sum()"
   ]
  },
  {
   "cell_type": "code",
   "execution_count": 60,
   "id": "713a520f",
   "metadata": {},
   "outputs": [],
   "source": [
    "df.drop_duplicates(inplace=True)"
   ]
  },
  {
   "cell_type": "code",
   "execution_count": 61,
   "id": "f1052331",
   "metadata": {},
   "outputs": [
    {
     "data": {
      "text/plain": [
       "array(['alfa-romero', 'audi', 'bmw', 'chevrolet', 'dodge', 'honda',\n",
       "       'isuzu', 'jaguar', 'mazda', 'mercedes-benz', 'mercury',\n",
       "       'mitsubishi', 'nissan', 'peugot', 'plymouth', 'porsche', 'renault',\n",
       "       'saab', 'subaru', 'toyota', 'volkswagen', 'volvo'], dtype=object)"
      ]
     },
     "execution_count": 61,
     "metadata": {},
     "output_type": "execute_result"
    }
   ],
   "source": [
    "m=df['make'].unique()\n",
    "m"
   ]
  },
  {
   "cell_type": "code",
   "execution_count": null,
   "id": "41086df6",
   "metadata": {},
   "outputs": [],
   "source": []
  },
  {
   "cell_type": "code",
   "execution_count": 62,
   "id": "6983c4a8",
   "metadata": {},
   "outputs": [
    {
     "data": {
      "text/plain": [
       "symboling              int64\n",
       "normalized-losses    float64\n",
       "width                float64\n",
       "height               float64\n",
       "engine-size            int64\n",
       "horsepower           float64\n",
       "city-mpg               int64\n",
       "highway-mpg            int64\n",
       "price                  int64\n",
       "dtype: object"
      ]
     },
     "execution_count": 62,
     "metadata": {},
     "output_type": "execute_result"
    }
   ],
   "source": [
    "df_num=df.select_dtypes(['float64','int64'])\n",
    "df_num.dtypes"
   ]
  },
  {
   "cell_type": "code",
   "execution_count": 63,
   "id": "04848190",
   "metadata": {},
   "outputs": [
    {
     "data": {
      "text/plain": [
       "make               object\n",
       "fuel-type          object\n",
       "body-style         object\n",
       "drive-wheels       object\n",
       "engine-location    object\n",
       "engine-type        object\n",
       "dtype: object"
      ]
     },
     "execution_count": 63,
     "metadata": {},
     "output_type": "execute_result"
    }
   ],
   "source": [
    "df_obj=df.select_dtypes(['object'])\n",
    "df_obj.dtypes"
   ]
  },
  {
   "cell_type": "code",
   "execution_count": 64,
   "id": "4be252cb",
   "metadata": {},
   "outputs": [
    {
     "data": {
      "text/html": [
       "<div>\n",
       "<style scoped>\n",
       "    .dataframe tbody tr th:only-of-type {\n",
       "        vertical-align: middle;\n",
       "    }\n",
       "\n",
       "    .dataframe tbody tr th {\n",
       "        vertical-align: top;\n",
       "    }\n",
       "\n",
       "    .dataframe thead th {\n",
       "        text-align: right;\n",
       "    }\n",
       "</style>\n",
       "<table border=\"1\" class=\"dataframe\">\n",
       "  <thead>\n",
       "    <tr style=\"text-align: right;\">\n",
       "      <th></th>\n",
       "      <th>make</th>\n",
       "      <th>fuel-type</th>\n",
       "      <th>body-style</th>\n",
       "      <th>drive-wheels</th>\n",
       "      <th>engine-location</th>\n",
       "      <th>engine-type</th>\n",
       "    </tr>\n",
       "  </thead>\n",
       "  <tbody>\n",
       "    <tr>\n",
       "      <th>0</th>\n",
       "      <td>alfa-romero</td>\n",
       "      <td>gas</td>\n",
       "      <td>convertible</td>\n",
       "      <td>rwd</td>\n",
       "      <td>front</td>\n",
       "      <td>dohc</td>\n",
       "    </tr>\n",
       "    <tr>\n",
       "      <th>1</th>\n",
       "      <td>alfa-romero</td>\n",
       "      <td>gas</td>\n",
       "      <td>convertible</td>\n",
       "      <td>rwd</td>\n",
       "      <td>front</td>\n",
       "      <td>dohc</td>\n",
       "    </tr>\n",
       "    <tr>\n",
       "      <th>2</th>\n",
       "      <td>alfa-romero</td>\n",
       "      <td>gas</td>\n",
       "      <td>hatchback</td>\n",
       "      <td>rwd</td>\n",
       "      <td>front</td>\n",
       "      <td>ohcv</td>\n",
       "    </tr>\n",
       "    <tr>\n",
       "      <th>3</th>\n",
       "      <td>audi</td>\n",
       "      <td>gas</td>\n",
       "      <td>sedan</td>\n",
       "      <td>fwd</td>\n",
       "      <td>front</td>\n",
       "      <td>ohc</td>\n",
       "    </tr>\n",
       "    <tr>\n",
       "      <th>4</th>\n",
       "      <td>audi</td>\n",
       "      <td>gas</td>\n",
       "      <td>sedan</td>\n",
       "      <td>4wd</td>\n",
       "      <td>front</td>\n",
       "      <td>ohc</td>\n",
       "    </tr>\n",
       "    <tr>\n",
       "      <th>5</th>\n",
       "      <td>audi</td>\n",
       "      <td>gas</td>\n",
       "      <td>sedan</td>\n",
       "      <td>fwd</td>\n",
       "      <td>front</td>\n",
       "      <td>ohc</td>\n",
       "    </tr>\n",
       "    <tr>\n",
       "      <th>6</th>\n",
       "      <td>audi</td>\n",
       "      <td>gas</td>\n",
       "      <td>sedan</td>\n",
       "      <td>fwd</td>\n",
       "      <td>front</td>\n",
       "      <td>ohc</td>\n",
       "    </tr>\n",
       "    <tr>\n",
       "      <th>7</th>\n",
       "      <td>audi</td>\n",
       "      <td>gas</td>\n",
       "      <td>wagon</td>\n",
       "      <td>fwd</td>\n",
       "      <td>front</td>\n",
       "      <td>ohc</td>\n",
       "    </tr>\n",
       "    <tr>\n",
       "      <th>8</th>\n",
       "      <td>audi</td>\n",
       "      <td>gas</td>\n",
       "      <td>sedan</td>\n",
       "      <td>fwd</td>\n",
       "      <td>front</td>\n",
       "      <td>ohc</td>\n",
       "    </tr>\n",
       "    <tr>\n",
       "      <th>9</th>\n",
       "      <td>audi</td>\n",
       "      <td>gas</td>\n",
       "      <td>hatchback</td>\n",
       "      <td>4wd</td>\n",
       "      <td>front</td>\n",
       "      <td>ohc</td>\n",
       "    </tr>\n",
       "  </tbody>\n",
       "</table>\n",
       "</div>"
      ],
      "text/plain": [
       "          make fuel-type   body-style drive-wheels engine-location engine-type\n",
       "0  alfa-romero       gas  convertible          rwd           front        dohc\n",
       "1  alfa-romero       gas  convertible          rwd           front        dohc\n",
       "2  alfa-romero       gas    hatchback          rwd           front        ohcv\n",
       "3         audi       gas        sedan          fwd           front         ohc\n",
       "4         audi       gas        sedan          4wd           front         ohc\n",
       "5         audi       gas        sedan          fwd           front         ohc\n",
       "6         audi       gas        sedan          fwd           front         ohc\n",
       "7         audi       gas        wagon          fwd           front         ohc\n",
       "8         audi       gas        sedan          fwd           front         ohc\n",
       "9         audi       gas    hatchback          4wd           front         ohc"
      ]
     },
     "execution_count": 64,
     "metadata": {},
     "output_type": "execute_result"
    }
   ],
   "source": [
    "df_obj.head(10)"
   ]
  },
  {
   "cell_type": "code",
   "execution_count": 65,
   "id": "501662cf",
   "metadata": {},
   "outputs": [
    {
     "data": {
      "text/html": [
       "<div>\n",
       "<style scoped>\n",
       "    .dataframe tbody tr th:only-of-type {\n",
       "        vertical-align: middle;\n",
       "    }\n",
       "\n",
       "    .dataframe tbody tr th {\n",
       "        vertical-align: top;\n",
       "    }\n",
       "\n",
       "    .dataframe thead th {\n",
       "        text-align: right;\n",
       "    }\n",
       "</style>\n",
       "<table border=\"1\" class=\"dataframe\">\n",
       "  <thead>\n",
       "    <tr style=\"text-align: right;\">\n",
       "      <th></th>\n",
       "      <th>symboling</th>\n",
       "      <th>normalized-losses</th>\n",
       "      <th>width</th>\n",
       "      <th>height</th>\n",
       "      <th>engine-size</th>\n",
       "      <th>horsepower</th>\n",
       "      <th>city-mpg</th>\n",
       "      <th>highway-mpg</th>\n",
       "      <th>price</th>\n",
       "    </tr>\n",
       "  </thead>\n",
       "  <tbody>\n",
       "    <tr>\n",
       "      <th>0</th>\n",
       "      <td>3</td>\n",
       "      <td>122.0</td>\n",
       "      <td>64.1</td>\n",
       "      <td>48.8</td>\n",
       "      <td>130</td>\n",
       "      <td>111.0</td>\n",
       "      <td>21</td>\n",
       "      <td>27</td>\n",
       "      <td>13495</td>\n",
       "    </tr>\n",
       "    <tr>\n",
       "      <th>1</th>\n",
       "      <td>3</td>\n",
       "      <td>122.0</td>\n",
       "      <td>64.1</td>\n",
       "      <td>48.8</td>\n",
       "      <td>130</td>\n",
       "      <td>111.0</td>\n",
       "      <td>21</td>\n",
       "      <td>27</td>\n",
       "      <td>16500</td>\n",
       "    </tr>\n",
       "    <tr>\n",
       "      <th>2</th>\n",
       "      <td>1</td>\n",
       "      <td>122.0</td>\n",
       "      <td>65.5</td>\n",
       "      <td>52.4</td>\n",
       "      <td>152</td>\n",
       "      <td>154.0</td>\n",
       "      <td>19</td>\n",
       "      <td>26</td>\n",
       "      <td>16500</td>\n",
       "    </tr>\n",
       "    <tr>\n",
       "      <th>3</th>\n",
       "      <td>2</td>\n",
       "      <td>164.0</td>\n",
       "      <td>66.2</td>\n",
       "      <td>54.3</td>\n",
       "      <td>109</td>\n",
       "      <td>102.0</td>\n",
       "      <td>24</td>\n",
       "      <td>30</td>\n",
       "      <td>13950</td>\n",
       "    </tr>\n",
       "    <tr>\n",
       "      <th>4</th>\n",
       "      <td>2</td>\n",
       "      <td>164.0</td>\n",
       "      <td>66.4</td>\n",
       "      <td>54.3</td>\n",
       "      <td>136</td>\n",
       "      <td>115.0</td>\n",
       "      <td>18</td>\n",
       "      <td>22</td>\n",
       "      <td>17450</td>\n",
       "    </tr>\n",
       "    <tr>\n",
       "      <th>5</th>\n",
       "      <td>2</td>\n",
       "      <td>122.0</td>\n",
       "      <td>66.3</td>\n",
       "      <td>53.1</td>\n",
       "      <td>136</td>\n",
       "      <td>110.0</td>\n",
       "      <td>19</td>\n",
       "      <td>25</td>\n",
       "      <td>15250</td>\n",
       "    </tr>\n",
       "    <tr>\n",
       "      <th>6</th>\n",
       "      <td>1</td>\n",
       "      <td>158.0</td>\n",
       "      <td>71.4</td>\n",
       "      <td>55.7</td>\n",
       "      <td>136</td>\n",
       "      <td>110.0</td>\n",
       "      <td>19</td>\n",
       "      <td>25</td>\n",
       "      <td>17710</td>\n",
       "    </tr>\n",
       "    <tr>\n",
       "      <th>7</th>\n",
       "      <td>1</td>\n",
       "      <td>122.0</td>\n",
       "      <td>71.4</td>\n",
       "      <td>55.7</td>\n",
       "      <td>136</td>\n",
       "      <td>110.0</td>\n",
       "      <td>19</td>\n",
       "      <td>25</td>\n",
       "      <td>18920</td>\n",
       "    </tr>\n",
       "    <tr>\n",
       "      <th>8</th>\n",
       "      <td>1</td>\n",
       "      <td>158.0</td>\n",
       "      <td>71.4</td>\n",
       "      <td>55.9</td>\n",
       "      <td>131</td>\n",
       "      <td>140.0</td>\n",
       "      <td>17</td>\n",
       "      <td>20</td>\n",
       "      <td>23875</td>\n",
       "    </tr>\n",
       "    <tr>\n",
       "      <th>9</th>\n",
       "      <td>0</td>\n",
       "      <td>122.0</td>\n",
       "      <td>67.9</td>\n",
       "      <td>52.0</td>\n",
       "      <td>131</td>\n",
       "      <td>160.0</td>\n",
       "      <td>16</td>\n",
       "      <td>22</td>\n",
       "      <td>12000</td>\n",
       "    </tr>\n",
       "  </tbody>\n",
       "</table>\n",
       "</div>"
      ],
      "text/plain": [
       "   symboling  normalized-losses  width  height  engine-size  horsepower  \\\n",
       "0          3              122.0   64.1    48.8          130       111.0   \n",
       "1          3              122.0   64.1    48.8          130       111.0   \n",
       "2          1              122.0   65.5    52.4          152       154.0   \n",
       "3          2              164.0   66.2    54.3          109       102.0   \n",
       "4          2              164.0   66.4    54.3          136       115.0   \n",
       "5          2              122.0   66.3    53.1          136       110.0   \n",
       "6          1              158.0   71.4    55.7          136       110.0   \n",
       "7          1              122.0   71.4    55.7          136       110.0   \n",
       "8          1              158.0   71.4    55.9          131       140.0   \n",
       "9          0              122.0   67.9    52.0          131       160.0   \n",
       "\n",
       "   city-mpg  highway-mpg  price  \n",
       "0        21           27  13495  \n",
       "1        21           27  16500  \n",
       "2        19           26  16500  \n",
       "3        24           30  13950  \n",
       "4        18           22  17450  \n",
       "5        19           25  15250  \n",
       "6        19           25  17710  \n",
       "7        19           25  18920  \n",
       "8        17           20  23875  \n",
       "9        16           22  12000  "
      ]
     },
     "execution_count": 65,
     "metadata": {},
     "output_type": "execute_result"
    }
   ],
   "source": [
    "df_num.head(10)"
   ]
  },
  {
   "cell_type": "code",
   "execution_count": 66,
   "id": "07622163",
   "metadata": {},
   "outputs": [],
   "source": [
    "from sklearn.preprocessing import LabelEncoder \n",
    "le=LabelEncoder()\n",
    "df_obj.columns\n",
    "for col in df_obj:\n",
    "    df_obj[col]=le.fit_transform(df_obj[col])"
   ]
  },
  {
   "cell_type": "code",
   "execution_count": 67,
   "id": "b021980c",
   "metadata": {},
   "outputs": [
    {
     "data": {
      "text/html": [
       "<div>\n",
       "<style scoped>\n",
       "    .dataframe tbody tr th:only-of-type {\n",
       "        vertical-align: middle;\n",
       "    }\n",
       "\n",
       "    .dataframe tbody tr th {\n",
       "        vertical-align: top;\n",
       "    }\n",
       "\n",
       "    .dataframe thead th {\n",
       "        text-align: right;\n",
       "    }\n",
       "</style>\n",
       "<table border=\"1\" class=\"dataframe\">\n",
       "  <thead>\n",
       "    <tr style=\"text-align: right;\">\n",
       "      <th></th>\n",
       "      <th>make</th>\n",
       "      <th>fuel-type</th>\n",
       "      <th>body-style</th>\n",
       "      <th>drive-wheels</th>\n",
       "      <th>engine-location</th>\n",
       "      <th>engine-type</th>\n",
       "    </tr>\n",
       "  </thead>\n",
       "  <tbody>\n",
       "    <tr>\n",
       "      <th>0</th>\n",
       "      <td>0</td>\n",
       "      <td>1</td>\n",
       "      <td>0</td>\n",
       "      <td>2</td>\n",
       "      <td>0</td>\n",
       "      <td>0</td>\n",
       "    </tr>\n",
       "    <tr>\n",
       "      <th>1</th>\n",
       "      <td>0</td>\n",
       "      <td>1</td>\n",
       "      <td>0</td>\n",
       "      <td>2</td>\n",
       "      <td>0</td>\n",
       "      <td>0</td>\n",
       "    </tr>\n",
       "    <tr>\n",
       "      <th>2</th>\n",
       "      <td>0</td>\n",
       "      <td>1</td>\n",
       "      <td>2</td>\n",
       "      <td>2</td>\n",
       "      <td>0</td>\n",
       "      <td>5</td>\n",
       "    </tr>\n",
       "    <tr>\n",
       "      <th>3</th>\n",
       "      <td>1</td>\n",
       "      <td>1</td>\n",
       "      <td>3</td>\n",
       "      <td>1</td>\n",
       "      <td>0</td>\n",
       "      <td>3</td>\n",
       "    </tr>\n",
       "    <tr>\n",
       "      <th>4</th>\n",
       "      <td>1</td>\n",
       "      <td>1</td>\n",
       "      <td>3</td>\n",
       "      <td>0</td>\n",
       "      <td>0</td>\n",
       "      <td>3</td>\n",
       "    </tr>\n",
       "  </tbody>\n",
       "</table>\n",
       "</div>"
      ],
      "text/plain": [
       "   make  fuel-type  body-style  drive-wheels  engine-location  engine-type\n",
       "0     0          1           0             2                0            0\n",
       "1     0          1           0             2                0            0\n",
       "2     0          1           2             2                0            5\n",
       "3     1          1           3             1                0            3\n",
       "4     1          1           3             0                0            3"
      ]
     },
     "execution_count": 67,
     "metadata": {},
     "output_type": "execute_result"
    }
   ],
   "source": [
    "df_obj.head()"
   ]
  },
  {
   "cell_type": "code",
   "execution_count": 68,
   "id": "08548931",
   "metadata": {},
   "outputs": [
    {
     "data": {
      "text/plain": [
       "array([ 0,  1,  2,  3,  4,  5,  6,  7,  8,  9, 10, 11, 12, 13, 14, 15, 16,\n",
       "       17, 18, 19, 20, 21])"
      ]
     },
     "execution_count": 68,
     "metadata": {},
     "output_type": "execute_result"
    }
   ],
   "source": [
    "m1=df_obj['make'].unique()\n",
    "m1"
   ]
  },
  {
   "cell_type": "code",
   "execution_count": 69,
   "id": "1e0c2956",
   "metadata": {},
   "outputs": [
    {
     "data": {
      "text/html": [
       "<div>\n",
       "<style scoped>\n",
       "    .dataframe tbody tr th:only-of-type {\n",
       "        vertical-align: middle;\n",
       "    }\n",
       "\n",
       "    .dataframe tbody tr th {\n",
       "        vertical-align: top;\n",
       "    }\n",
       "\n",
       "    .dataframe thead th {\n",
       "        text-align: right;\n",
       "    }\n",
       "</style>\n",
       "<table border=\"1\" class=\"dataframe\">\n",
       "  <thead>\n",
       "    <tr style=\"text-align: right;\">\n",
       "      <th></th>\n",
       "      <th>car_name</th>\n",
       "      <th>car_number</th>\n",
       "    </tr>\n",
       "  </thead>\n",
       "  <tbody>\n",
       "    <tr>\n",
       "      <th>0</th>\n",
       "      <td>alfa-romero</td>\n",
       "      <td>0</td>\n",
       "    </tr>\n",
       "    <tr>\n",
       "      <th>1</th>\n",
       "      <td>audi</td>\n",
       "      <td>1</td>\n",
       "    </tr>\n",
       "    <tr>\n",
       "      <th>2</th>\n",
       "      <td>bmw</td>\n",
       "      <td>2</td>\n",
       "    </tr>\n",
       "    <tr>\n",
       "      <th>3</th>\n",
       "      <td>chevrolet</td>\n",
       "      <td>3</td>\n",
       "    </tr>\n",
       "    <tr>\n",
       "      <th>4</th>\n",
       "      <td>dodge</td>\n",
       "      <td>4</td>\n",
       "    </tr>\n",
       "    <tr>\n",
       "      <th>5</th>\n",
       "      <td>honda</td>\n",
       "      <td>5</td>\n",
       "    </tr>\n",
       "    <tr>\n",
       "      <th>6</th>\n",
       "      <td>isuzu</td>\n",
       "      <td>6</td>\n",
       "    </tr>\n",
       "    <tr>\n",
       "      <th>7</th>\n",
       "      <td>jaguar</td>\n",
       "      <td>7</td>\n",
       "    </tr>\n",
       "    <tr>\n",
       "      <th>8</th>\n",
       "      <td>mazda</td>\n",
       "      <td>8</td>\n",
       "    </tr>\n",
       "    <tr>\n",
       "      <th>9</th>\n",
       "      <td>mercedes-benz</td>\n",
       "      <td>9</td>\n",
       "    </tr>\n",
       "    <tr>\n",
       "      <th>10</th>\n",
       "      <td>mercury</td>\n",
       "      <td>10</td>\n",
       "    </tr>\n",
       "    <tr>\n",
       "      <th>11</th>\n",
       "      <td>mitsubishi</td>\n",
       "      <td>11</td>\n",
       "    </tr>\n",
       "    <tr>\n",
       "      <th>12</th>\n",
       "      <td>nissan</td>\n",
       "      <td>12</td>\n",
       "    </tr>\n",
       "    <tr>\n",
       "      <th>13</th>\n",
       "      <td>peugot</td>\n",
       "      <td>13</td>\n",
       "    </tr>\n",
       "    <tr>\n",
       "      <th>14</th>\n",
       "      <td>plymouth</td>\n",
       "      <td>14</td>\n",
       "    </tr>\n",
       "    <tr>\n",
       "      <th>15</th>\n",
       "      <td>porsche</td>\n",
       "      <td>15</td>\n",
       "    </tr>\n",
       "    <tr>\n",
       "      <th>16</th>\n",
       "      <td>renault</td>\n",
       "      <td>16</td>\n",
       "    </tr>\n",
       "    <tr>\n",
       "      <th>17</th>\n",
       "      <td>saab</td>\n",
       "      <td>17</td>\n",
       "    </tr>\n",
       "    <tr>\n",
       "      <th>18</th>\n",
       "      <td>subaru</td>\n",
       "      <td>18</td>\n",
       "    </tr>\n",
       "    <tr>\n",
       "      <th>19</th>\n",
       "      <td>toyota</td>\n",
       "      <td>19</td>\n",
       "    </tr>\n",
       "    <tr>\n",
       "      <th>20</th>\n",
       "      <td>volkswagen</td>\n",
       "      <td>20</td>\n",
       "    </tr>\n",
       "    <tr>\n",
       "      <th>21</th>\n",
       "      <td>volvo</td>\n",
       "      <td>21</td>\n",
       "    </tr>\n",
       "  </tbody>\n",
       "</table>\n",
       "</div>"
      ],
      "text/plain": [
       "         car_name  car_number\n",
       "0     alfa-romero           0\n",
       "1            audi           1\n",
       "2             bmw           2\n",
       "3       chevrolet           3\n",
       "4           dodge           4\n",
       "5           honda           5\n",
       "6           isuzu           6\n",
       "7          jaguar           7\n",
       "8           mazda           8\n",
       "9   mercedes-benz           9\n",
       "10        mercury          10\n",
       "11     mitsubishi          11\n",
       "12         nissan          12\n",
       "13         peugot          13\n",
       "14       plymouth          14\n",
       "15        porsche          15\n",
       "16        renault          16\n",
       "17           saab          17\n",
       "18         subaru          18\n",
       "19         toyota          19\n",
       "20     volkswagen          20\n",
       "21          volvo          21"
      ]
     },
     "execution_count": 69,
     "metadata": {},
     "output_type": "execute_result"
    }
   ],
   "source": [
    "dict={'car_name':m,'car_number':m1}\n",
    "df1=pd.DataFrame(dict)\n",
    "df1"
   ]
  },
  {
   "cell_type": "code",
   "execution_count": 70,
   "id": "d736e59c",
   "metadata": {},
   "outputs": [
    {
     "data": {
      "text/html": [
       "<div>\n",
       "<style scoped>\n",
       "    .dataframe tbody tr th:only-of-type {\n",
       "        vertical-align: middle;\n",
       "    }\n",
       "\n",
       "    .dataframe tbody tr th {\n",
       "        vertical-align: top;\n",
       "    }\n",
       "\n",
       "    .dataframe thead th {\n",
       "        text-align: right;\n",
       "    }\n",
       "</style>\n",
       "<table border=\"1\" class=\"dataframe\">\n",
       "  <thead>\n",
       "    <tr style=\"text-align: right;\">\n",
       "      <th></th>\n",
       "      <th>symboling</th>\n",
       "      <th>normalized-losses</th>\n",
       "      <th>width</th>\n",
       "      <th>height</th>\n",
       "      <th>engine-size</th>\n",
       "      <th>horsepower</th>\n",
       "      <th>city-mpg</th>\n",
       "      <th>highway-mpg</th>\n",
       "      <th>price</th>\n",
       "      <th>make</th>\n",
       "      <th>fuel-type</th>\n",
       "      <th>body-style</th>\n",
       "      <th>drive-wheels</th>\n",
       "      <th>engine-location</th>\n",
       "      <th>engine-type</th>\n",
       "    </tr>\n",
       "  </thead>\n",
       "  <tbody>\n",
       "    <tr>\n",
       "      <th>0</th>\n",
       "      <td>3</td>\n",
       "      <td>122.0</td>\n",
       "      <td>64.1</td>\n",
       "      <td>48.8</td>\n",
       "      <td>130</td>\n",
       "      <td>111.0</td>\n",
       "      <td>21</td>\n",
       "      <td>27</td>\n",
       "      <td>13495</td>\n",
       "      <td>0</td>\n",
       "      <td>1</td>\n",
       "      <td>0</td>\n",
       "      <td>2</td>\n",
       "      <td>0</td>\n",
       "      <td>0</td>\n",
       "    </tr>\n",
       "    <tr>\n",
       "      <th>1</th>\n",
       "      <td>3</td>\n",
       "      <td>122.0</td>\n",
       "      <td>64.1</td>\n",
       "      <td>48.8</td>\n",
       "      <td>130</td>\n",
       "      <td>111.0</td>\n",
       "      <td>21</td>\n",
       "      <td>27</td>\n",
       "      <td>16500</td>\n",
       "      <td>0</td>\n",
       "      <td>1</td>\n",
       "      <td>0</td>\n",
       "      <td>2</td>\n",
       "      <td>0</td>\n",
       "      <td>0</td>\n",
       "    </tr>\n",
       "    <tr>\n",
       "      <th>2</th>\n",
       "      <td>1</td>\n",
       "      <td>122.0</td>\n",
       "      <td>65.5</td>\n",
       "      <td>52.4</td>\n",
       "      <td>152</td>\n",
       "      <td>154.0</td>\n",
       "      <td>19</td>\n",
       "      <td>26</td>\n",
       "      <td>16500</td>\n",
       "      <td>0</td>\n",
       "      <td>1</td>\n",
       "      <td>2</td>\n",
       "      <td>2</td>\n",
       "      <td>0</td>\n",
       "      <td>5</td>\n",
       "    </tr>\n",
       "    <tr>\n",
       "      <th>3</th>\n",
       "      <td>2</td>\n",
       "      <td>164.0</td>\n",
       "      <td>66.2</td>\n",
       "      <td>54.3</td>\n",
       "      <td>109</td>\n",
       "      <td>102.0</td>\n",
       "      <td>24</td>\n",
       "      <td>30</td>\n",
       "      <td>13950</td>\n",
       "      <td>1</td>\n",
       "      <td>1</td>\n",
       "      <td>3</td>\n",
       "      <td>1</td>\n",
       "      <td>0</td>\n",
       "      <td>3</td>\n",
       "    </tr>\n",
       "    <tr>\n",
       "      <th>4</th>\n",
       "      <td>2</td>\n",
       "      <td>164.0</td>\n",
       "      <td>66.4</td>\n",
       "      <td>54.3</td>\n",
       "      <td>136</td>\n",
       "      <td>115.0</td>\n",
       "      <td>18</td>\n",
       "      <td>22</td>\n",
       "      <td>17450</td>\n",
       "      <td>1</td>\n",
       "      <td>1</td>\n",
       "      <td>3</td>\n",
       "      <td>0</td>\n",
       "      <td>0</td>\n",
       "      <td>3</td>\n",
       "    </tr>\n",
       "    <tr>\n",
       "      <th>...</th>\n",
       "      <td>...</td>\n",
       "      <td>...</td>\n",
       "      <td>...</td>\n",
       "      <td>...</td>\n",
       "      <td>...</td>\n",
       "      <td>...</td>\n",
       "      <td>...</td>\n",
       "      <td>...</td>\n",
       "      <td>...</td>\n",
       "      <td>...</td>\n",
       "      <td>...</td>\n",
       "      <td>...</td>\n",
       "      <td>...</td>\n",
       "      <td>...</td>\n",
       "      <td>...</td>\n",
       "    </tr>\n",
       "    <tr>\n",
       "      <th>200</th>\n",
       "      <td>-1</td>\n",
       "      <td>95.0</td>\n",
       "      <td>68.9</td>\n",
       "      <td>55.5</td>\n",
       "      <td>141</td>\n",
       "      <td>114.0</td>\n",
       "      <td>23</td>\n",
       "      <td>28</td>\n",
       "      <td>16845</td>\n",
       "      <td>21</td>\n",
       "      <td>1</td>\n",
       "      <td>3</td>\n",
       "      <td>2</td>\n",
       "      <td>0</td>\n",
       "      <td>3</td>\n",
       "    </tr>\n",
       "    <tr>\n",
       "      <th>201</th>\n",
       "      <td>-1</td>\n",
       "      <td>95.0</td>\n",
       "      <td>68.8</td>\n",
       "      <td>55.5</td>\n",
       "      <td>141</td>\n",
       "      <td>160.0</td>\n",
       "      <td>19</td>\n",
       "      <td>25</td>\n",
       "      <td>19045</td>\n",
       "      <td>21</td>\n",
       "      <td>1</td>\n",
       "      <td>3</td>\n",
       "      <td>2</td>\n",
       "      <td>0</td>\n",
       "      <td>3</td>\n",
       "    </tr>\n",
       "    <tr>\n",
       "      <th>202</th>\n",
       "      <td>-1</td>\n",
       "      <td>95.0</td>\n",
       "      <td>68.9</td>\n",
       "      <td>55.5</td>\n",
       "      <td>173</td>\n",
       "      <td>134.0</td>\n",
       "      <td>18</td>\n",
       "      <td>23</td>\n",
       "      <td>21485</td>\n",
       "      <td>21</td>\n",
       "      <td>1</td>\n",
       "      <td>3</td>\n",
       "      <td>2</td>\n",
       "      <td>0</td>\n",
       "      <td>5</td>\n",
       "    </tr>\n",
       "    <tr>\n",
       "      <th>203</th>\n",
       "      <td>-1</td>\n",
       "      <td>95.0</td>\n",
       "      <td>68.9</td>\n",
       "      <td>55.5</td>\n",
       "      <td>145</td>\n",
       "      <td>106.0</td>\n",
       "      <td>26</td>\n",
       "      <td>27</td>\n",
       "      <td>22470</td>\n",
       "      <td>21</td>\n",
       "      <td>0</td>\n",
       "      <td>3</td>\n",
       "      <td>2</td>\n",
       "      <td>0</td>\n",
       "      <td>3</td>\n",
       "    </tr>\n",
       "    <tr>\n",
       "      <th>204</th>\n",
       "      <td>-1</td>\n",
       "      <td>95.0</td>\n",
       "      <td>68.9</td>\n",
       "      <td>55.5</td>\n",
       "      <td>141</td>\n",
       "      <td>114.0</td>\n",
       "      <td>19</td>\n",
       "      <td>25</td>\n",
       "      <td>22625</td>\n",
       "      <td>21</td>\n",
       "      <td>1</td>\n",
       "      <td>3</td>\n",
       "      <td>2</td>\n",
       "      <td>0</td>\n",
       "      <td>3</td>\n",
       "    </tr>\n",
       "  </tbody>\n",
       "</table>\n",
       "<p>194 rows × 15 columns</p>\n",
       "</div>"
      ],
      "text/plain": [
       "     symboling  normalized-losses  width  height  engine-size  horsepower  \\\n",
       "0            3              122.0   64.1    48.8          130       111.0   \n",
       "1            3              122.0   64.1    48.8          130       111.0   \n",
       "2            1              122.0   65.5    52.4          152       154.0   \n",
       "3            2              164.0   66.2    54.3          109       102.0   \n",
       "4            2              164.0   66.4    54.3          136       115.0   \n",
       "..         ...                ...    ...     ...          ...         ...   \n",
       "200         -1               95.0   68.9    55.5          141       114.0   \n",
       "201         -1               95.0   68.8    55.5          141       160.0   \n",
       "202         -1               95.0   68.9    55.5          173       134.0   \n",
       "203         -1               95.0   68.9    55.5          145       106.0   \n",
       "204         -1               95.0   68.9    55.5          141       114.0   \n",
       "\n",
       "     city-mpg  highway-mpg  price  make  fuel-type  body-style  drive-wheels  \\\n",
       "0          21           27  13495     0          1           0             2   \n",
       "1          21           27  16500     0          1           0             2   \n",
       "2          19           26  16500     0          1           2             2   \n",
       "3          24           30  13950     1          1           3             1   \n",
       "4          18           22  17450     1          1           3             0   \n",
       "..        ...          ...    ...   ...        ...         ...           ...   \n",
       "200        23           28  16845    21          1           3             2   \n",
       "201        19           25  19045    21          1           3             2   \n",
       "202        18           23  21485    21          1           3             2   \n",
       "203        26           27  22470    21          0           3             2   \n",
       "204        19           25  22625    21          1           3             2   \n",
       "\n",
       "     engine-location  engine-type  \n",
       "0                  0            0  \n",
       "1                  0            0  \n",
       "2                  0            5  \n",
       "3                  0            3  \n",
       "4                  0            3  \n",
       "..               ...          ...  \n",
       "200                0            3  \n",
       "201                0            3  \n",
       "202                0            5  \n",
       "203                0            3  \n",
       "204                0            3  \n",
       "\n",
       "[194 rows x 15 columns]"
      ]
     },
     "execution_count": 70,
     "metadata": {},
     "output_type": "execute_result"
    }
   ],
   "source": [
    "df_new=pd.concat([df_num,df_obj],axis=1)\n",
    "df_new"
   ]
  },
  {
   "cell_type": "code",
   "execution_count": 71,
   "id": "77221ed3",
   "metadata": {},
   "outputs": [],
   "source": [
    "X=df_new.drop('price',axis=1)\n",
    "Y=df_new['price']"
   ]
  },
  {
   "cell_type": "code",
   "execution_count": 72,
   "id": "bb25f761",
   "metadata": {},
   "outputs": [],
   "source": [
    "from sklearn.model_selection import train_test_split"
   ]
  },
  {
   "cell_type": "code",
   "execution_count": 73,
   "id": "98e8e76e",
   "metadata": {},
   "outputs": [],
   "source": [
    "X_train,X_test,Y_train,Y_test=train_test_split(X,Y,test_size=0.3,random_state=1)"
   ]
  },
  {
   "cell_type": "code",
   "execution_count": 74,
   "id": "cff1179e",
   "metadata": {},
   "outputs": [
    {
     "data": {
      "text/plain": [
       "(135, 14)"
      ]
     },
     "execution_count": 74,
     "metadata": {},
     "output_type": "execute_result"
    }
   ],
   "source": [
    "X_train.shape"
   ]
  },
  {
   "cell_type": "code",
   "execution_count": 75,
   "id": "b70f841a",
   "metadata": {},
   "outputs": [
    {
     "data": {
      "text/plain": [
       "(59, 14)"
      ]
     },
     "execution_count": 75,
     "metadata": {},
     "output_type": "execute_result"
    }
   ],
   "source": [
    "X_test.shape"
   ]
  },
  {
   "cell_type": "code",
   "execution_count": 76,
   "id": "b3b47392",
   "metadata": {},
   "outputs": [],
   "source": [
    "\n",
    "from sklearn.preprocessing import StandardScaler     #train test performanace 3main method\n",
    "#create an object for the standardScalar\n",
    "ss=StandardScaler()\n",
    "\n",
    "#applying scaling on X_train we use fit_transform()\n",
    "X_train=ss.fit_transform(X_train)  # fit--- train \n",
    "\n",
    "#applying scaling on X_test we use transform()\n",
    "X_test=ss.transform(X_test)"
   ]
  },
  {
   "cell_type": "code",
   "execution_count": 77,
   "id": "d94982a7",
   "metadata": {},
   "outputs": [
    {
     "data": {
      "text/plain": [
       "array([[ 1.78476758,  2.14538322,  0.9667321 , ...,  1.20325707,\n",
       "        -0.08638684,  1.84417558],\n",
       "       [-1.4822646 , -0.84388354,  1.42449722, ...,  1.20325707,\n",
       "        -0.08638684, -0.07832406],\n",
       "       [ 0.96800953, -0.05882358, -2.51228276, ..., -0.56239189,\n",
       "        -0.08638684, -1.03957388],\n",
       "       ...,\n",
       "       [ 0.15125149, -0.02862897,  1.01250861, ...,  1.20325707,\n",
       "        -0.08638684, -0.07832406],\n",
       "       [-0.66550656, -1.02505122, -0.17768068, ..., -0.56239189,\n",
       "        -0.08638684,  0.88292576],\n",
       "       [-0.66550656, -0.51174279, -0.2692337 , ..., -0.56239189,\n",
       "        -0.08638684, -0.07832406]])"
      ]
     },
     "execution_count": 77,
     "metadata": {},
     "output_type": "execute_result"
    }
   ],
   "source": [
    "X_train"
   ]
  },
  {
   "cell_type": "code",
   "execution_count": 78,
   "id": "d64579fa",
   "metadata": {},
   "outputs": [
    {
     "data": {
      "text/plain": [
       "array([[-6.65506555e-01,  6.65847150e-01,  1.74493280e+00,\n",
       "        -3.69677646e-01,  3.16373474e+00,  2.06281046e+00,\n",
       "        -1.67932671e+00, -1.82184004e+00, -8.56303773e-01,\n",
       "         3.40150672e-01,  4.86706606e-01,  1.20325707e+00,\n",
       "        -8.63868426e-02, -2.96207352e+00],\n",
       "       [ 9.68009535e-01, -2.86289671e-02, -1.31904170e-01,\n",
       "         7.92802662e-01, -3.53371720e-01, -4.16620284e-01,\n",
       "         2.20470266e-01,  4.08647312e-01,  1.19671962e+00,\n",
       "         3.40150672e-01,  4.86706606e-01, -5.62391891e-01,\n",
       "        -8.63868426e-02, -7.83240594e-02],\n",
       "       [ 9.68009535e-01,  3.33706398e-01, -8.61276584e-02,\n",
       "        -6.90361869e-01,  5.20003709e-01,  4.28020960e-01,\n",
       "        -2.54478977e-01, -1.86149315e-01,  1.03879474e+00,\n",
       "         3.40150672e-01, -7.07936881e-01,  1.20325707e+00,\n",
       "        -8.63868426e-02, -7.83240594e-02],\n",
       "       [-6.65506555e-01, -1.35719197e+00, -8.64328351e-01,\n",
       "         1.83502639e+00, -7.54652323e-01, -6.61838709e-01,\n",
       "         6.95419509e-01,  4.08647312e-01, -1.17215353e+00,\n",
       "         3.40150672e-01,  1.68135009e+00, -5.62391891e-01,\n",
       "        -8.63868426e-02, -7.83240594e-02],\n",
       "       [-6.65506555e-01, -6.32521243e-01, -1.77680681e-01,\n",
       "        -4.89934229e-01, -3.76976461e-01, -4.98359759e-01,\n",
       "         3.78786680e-01,  2.59948156e-01,  8.80869865e-01,\n",
       "         3.40150672e-01,  4.86706606e-01, -5.62391891e-01,\n",
       "        -8.63868426e-02,  8.82925761e-01],\n",
       "       [-6.65506555e-01,  2.08499400e+00, -4.52339749e-01,\n",
       "         2.31605272e-01, -3.76976461e-01,  1.93235838e-02,\n",
       "        -4.12795391e-01, -3.34848472e-01, -1.64592815e+00,\n",
       "         3.40150672e-01,  4.86706606e-01,  1.20325707e+00,\n",
       "        -8.63868426e-02, -7.83240594e-02],\n",
       "       [ 1.51251490e-01, -2.86289671e-02,  2.98089860e+00,\n",
       "        -1.29164479e+00,  1.86547396e+00,  5.11441754e+00,\n",
       "        -1.36269388e+00, -4.83547628e-01,  4.07095236e-01,\n",
       "         3.40150672e-01, -7.07936881e-01,  1.20325707e+00,\n",
       "        -8.63868426e-02, -2.00082370e+00],\n",
       "       [ 1.51251490e-01,  6.19548742e-02, -1.77680681e-01,\n",
       "        -8.50703980e-01, -3.29766979e-01,  4.28020960e-01,\n",
       "        -4.12795391e-01, -1.86149315e-01, -2.24604268e-01,\n",
       "         3.40150672e-01,  4.86706606e-01, -5.62391891e-01,\n",
       "        -8.63868426e-02, -7.83240594e-02],\n",
       "       [ 9.68009535e-01, -8.74078153e-01, -1.31904170e-01,\n",
       "         7.92802662e-01, -3.53371720e-01, -4.16620284e-01,\n",
       "         2.20470266e-01,  4.08647312e-01,  1.19671962e+00,\n",
       "         3.40150672e-01,  4.86706606e-01, -5.62391891e-01,\n",
       "        -8.63868426e-02, -7.83240594e-02],\n",
       "       [-6.65506555e-01,  1.14896097e+00,  1.19561466e+00,\n",
       "         1.19365794e+00, -9.37195656e-02, -8.96623831e-02,\n",
       "        -1.04606105e+00, -1.07834426e+00,  9.12454840e-02,\n",
       "         3.40150672e-01,  4.86706606e-01,  1.20325707e+00,\n",
       "        -8.63868426e-02, -1.03957388e+00],\n",
       "       [ 9.68009535e-01, -8.74078153e-01, -1.31904170e-01,\n",
       "         7.92802662e-01, -3.53371720e-01, -4.16620284e-01,\n",
       "         2.20470266e-01,  4.08647312e-01,  1.19671962e+00,\n",
       "         3.40150672e-01,  4.86706606e-01, -5.62391891e-01,\n",
       "        -8.63868426e-02, -7.83240594e-02],\n",
       "       [-6.65506555e-01, -2.86289671e-02,  5.08966989e-01,\n",
       "         5.52289495e-01,  2.83956296e-01,  2.64542009e-01,\n",
       "        -1.04606105e+00, -1.07834426e+00,  1.19671962e+00,\n",
       "         3.40150672e-01,  4.86706606e-01, -5.62391891e-01,\n",
       "        -8.63868426e-02, -7.83240594e-02],\n",
       "       [ 9.68009535e-01,  4.24290239e-01, -8.64328351e-01,\n",
       "        -1.17138820e+00, -7.54652323e-01, -1.15227556e+00,\n",
       "         3.70343138e+00,  3.38263045e+00, -1.17215353e+00,\n",
       "         3.40150672e-01, -7.07936881e-01, -5.62391891e-01,\n",
       "        -8.63868426e-02, -7.83240594e-02],\n",
       "       [-6.65506555e-01, -2.86289671e-02,  9.66732102e-01,\n",
       "        -8.90789508e-03,  2.00710241e+00,  2.22628941e+00,\n",
       "        -1.52101029e+00, -1.37574257e+00, -1.64592815e+00,\n",
       "         3.40150672e-01,  4.86706606e-01,  1.20325707e+00,\n",
       "        -8.63868426e-02, -7.83240594e-02],\n",
       "       [-6.65506555e-01, -1.14582968e+00, -1.77680681e-01,\n",
       "         4.72118439e-01, -3.76976461e-01,  2.91788501e-01,\n",
       "        -4.12795391e-01, -1.22704341e+00,  8.80869865e-01,\n",
       "         3.40150672e-01,  1.68135009e+00, -2.32804085e+00,\n",
       "        -8.63868426e-02,  8.82925761e-01],\n",
       "       [-1.48226460e+00, -1.74972195e+00,  3.25860944e-01,\n",
       "         4.72118439e-01, -4.65100829e-02, -2.25894842e-01,\n",
       "         5.37103095e-01,  4.08647312e-01,  1.03879474e+00,\n",
       "         3.40150672e-01,  4.86706606e-01, -5.62391891e-01,\n",
       "        -8.63868426e-02, -7.83240594e-02],\n",
       "       [-1.48226460e+00, -3.90964332e-01, -5.43892772e-01,\n",
       "         2.43630930e+00, -4.65100829e-02, -3.34880809e-01,\n",
       "        -2.54478977e-01, -1.86149315e-01, -1.33007840e+00,\n",
       "         3.40150672e-01,  1.68135009e+00, -5.62391891e-01,\n",
       "        -8.63868426e-02, -7.83240594e-02],\n",
       "       [ 1.51251490e-01, -3.00380491e-01, -7.26998817e-01,\n",
       "         1.51434216e-01, -7.78257064e-01, -8.79810643e-01,\n",
       "         8.53735923e-01,  1.00344394e+00, -6.98378897e-01,\n",
       "         3.40150672e-01,  4.86706606e-01, -5.62391891e-01,\n",
       "        -8.63868426e-02, -7.83240594e-02],\n",
       "       [ 1.51251490e-01, -6.62715856e-01, -8.18551840e-01,\n",
       "        -4.49848701e-01, -1.06151396e+00, -1.09778258e+00,\n",
       "         1.96195082e+00,  1.59824057e+00, -1.17215353e+00,\n",
       "         3.40150672e-01, -7.07936881e-01, -5.62391891e-01,\n",
       "        -8.63868426e-02, -7.83240594e-02],\n",
       "       [ 1.78476758e+00, -2.86289671e-02, -3.60786726e-01,\n",
       "        -8.50703980e-01,  1.65303129e+00,  2.90745171e+00,\n",
       "        -1.36269388e+00, -9.29645099e-01,  4.07095236e-01,\n",
       "         3.40150672e-01, -3.09722386e+00,  1.20325707e+00,\n",
       "         1.15758369e+01,  8.82925761e-01],\n",
       "       [ 1.51251490e-01, -5.72132015e-01, -7.26998817e-01,\n",
       "         1.51434216e-01, -7.78257064e-01, -8.79810643e-01,\n",
       "         6.95419509e-01, -3.74501580e-02, -6.98378897e-01,\n",
       "         3.40150672e-01, -7.07936881e-01, -5.62391891e-01,\n",
       "        -8.63868426e-02, -7.83240594e-02],\n",
       "       [ 9.68009535e-01,  1.23954481e+00,  2.80084432e-01,\n",
       "         2.31605272e-01,  2.83956296e-01,  4.00774468e-01,\n",
       "        -1.20437746e+00, -1.37574257e+00, -1.80385303e+00,\n",
       "         3.40150672e-01,  4.86706606e-01, -2.32804085e+00,\n",
       "        -8.63868426e-02, -7.83240594e-02],\n",
       "       [-6.65506555e-01, -4.51353560e-01,  3.25860944e-01,\n",
       "         5.52289495e-01,  1.34616966e+00,  1.40889466e+00,\n",
       "        -1.04606105e+00, -9.29645099e-01, -6.66793922e-02,\n",
       "         3.40150672e-01,  4.86706606e-01, -5.62391891e-01,\n",
       "        -8.63868426e-02,  1.84417558e+00],\n",
       "       [ 1.51251490e-01,  1.82733329e-01,  3.25860944e-01,\n",
       "        -8.90789508e-03, -4.65100829e-02, -4.43866775e-01,\n",
       "         6.21538516e-02,  1.11248999e-01, -6.98378897e-01,\n",
       "         3.40150672e-01, -7.07936881e-01, -5.62391891e-01,\n",
       "        -8.63868426e-02, -7.83240594e-02],\n",
       "       [ 1.78476758e+00,  9.07404060e-01, -1.77680681e-01,\n",
       "        -1.73258559e+00, -4.65100829e-02, -3.34880809e-01,\n",
       "        -9.61625628e-02,  1.11248999e-01, -2.24604268e-01,\n",
       "         3.40150672e-01, -7.07936881e-01, -5.62391891e-01,\n",
       "        -8.63868426e-02, -7.83240594e-02],\n",
       "       [ 1.51251490e-01,  1.82733329e-01,  3.25860944e-01,\n",
       "        -8.90789508e-03, -4.65100829e-02, -4.43866775e-01,\n",
       "         6.21538516e-02,  1.11248999e-01, -6.98378897e-01,\n",
       "         3.40150672e-01, -7.07936881e-01, -5.62391891e-01,\n",
       "        -8.63868426e-02, -7.83240594e-02],\n",
       "       [ 9.68009535e-01, -1.20621890e+00, -1.09321091e+00,\n",
       "        -8.90789508e-03, -6.36628616e-01, -8.52564151e-01,\n",
       "         8.53735923e-01,  7.06045626e-01,  8.80869865e-01,\n",
       "         3.40150672e-01, -7.07936881e-01, -5.62391891e-01,\n",
       "        -8.63868426e-02,  8.82925761e-01],\n",
       "       [-6.65506555e-01, -2.86289671e-02,  3.25860944e-01,\n",
       "         5.92375023e-01,  1.89537330e-01,  1.08042456e-01,\n",
       "        -4.12795391e-01, -3.74501580e-02,  5.65020113e-01,\n",
       "         3.40150672e-01,  1.68135009e+00, -5.62391891e-01,\n",
       "        -8.63868426e-02, -7.83240594e-02],\n",
       "       [ 1.78476758e+00,  8.16820219e-01, -4.03511470e-02,\n",
       "        -1.65241454e+00, -1.27395663e+00,  1.93235838e-02,\n",
       "        -1.36269388e+00, -1.22704341e+00, -6.98378897e-01,\n",
       "         3.40150672e-01, -7.07936881e-01,  1.20325707e+00,\n",
       "        -8.63868426e-02,  2.80542540e+00],\n",
       "       [ 9.68009535e-01, -5.72132015e-01,  3.25860944e-01,\n",
       "         9.53144773e-01, -7.01148242e-02,  2.64542009e-01,\n",
       "        -7.29428220e-01, -4.83547628e-01,  7.22944989e-01,\n",
       "         3.40150672e-01,  4.86706606e-01, -5.62391891e-01,\n",
       "        -8.63868426e-02, -7.83240594e-02],\n",
       "       [-1.48226460e+00, -9.04272767e-01,  2.70623953e+00,\n",
       "         1.03331583e+00,  1.39337914e+00,  6.18746402e-01,\n",
       "        -5.71111806e-01, -9.29645099e-01, -5.40454021e-01,\n",
       "        -2.93987366e+00,  4.86706606e-01,  1.20325707e+00,\n",
       "        -8.63868426e-02, -7.83240594e-02],\n",
       "       [ 1.78476758e+00, -2.86289671e-02, -3.60786726e-01,\n",
       "        -8.50703980e-01,  1.65303129e+00,  2.90745171e+00,\n",
       "        -1.36269388e+00, -9.29645099e-01,  4.07095236e-01,\n",
       "         3.40150672e-01, -1.90258037e+00,  1.20325707e+00,\n",
       "         1.15758369e+01,  8.82925761e-01],\n",
       "       [-6.65506555e-01, -2.39991264e-01,  3.25860944e-01,\n",
       "         7.12631606e-01, -4.65100829e-02, -4.43866775e-01,\n",
       "         6.21538516e-02,  1.11248999e-01, -6.98378897e-01,\n",
       "         3.40150672e-01,  4.86706606e-01, -5.62391891e-01,\n",
       "        -8.63868426e-02, -7.83240594e-02],\n",
       "       [-6.65506555e-01, -4.51353560e-01,  3.25860944e-01,\n",
       "         9.53144773e-01,  1.34616966e+00,  1.40889466e+00,\n",
       "        -1.36269388e+00, -1.37574257e+00, -6.66793922e-02,\n",
       "         3.40150672e-01,  1.68135009e+00, -5.62391891e-01,\n",
       "        -8.63868426e-02,  1.84417558e+00],\n",
       "       [-2.29902265e+00, -6.02326629e-01,  6.46296523e-01,\n",
       "         9.93230301e-01,  1.42327848e-01,  1.68135958e+00,\n",
       "        -1.36269388e+00, -1.37574257e+00,  1.35464449e+00,\n",
       "         3.40150672e-01,  4.86706606e-01,  1.20325707e+00,\n",
       "        -8.63868426e-02, -7.83240594e-02],\n",
       "       [ 1.51251490e-01, -2.86289671e-02,  5.08966989e-01,\n",
       "         7.92802662e-01,  9.44889053e-01,  5.64253418e-01,\n",
       "        -8.87744634e-01, -9.29645099e-01, -1.64592815e+00,\n",
       "         3.40150672e-01,  4.86706606e-01,  1.20325707e+00,\n",
       "        -8.63868426e-02, -7.83240594e-02],\n",
       "       [ 1.51251490e-01, -4.81548174e-01,  9.69783870e-02,\n",
       "        -1.09121715e+00, -3.29766979e-01, -7.92290796e-03,\n",
       "        -9.61625628e-02, -3.74501580e-02, -1.17215353e+00,\n",
       "         3.40150672e-01,  4.86706606e-01, -5.62391891e-01,\n",
       "        -8.63868426e-02, -7.83240594e-02],\n",
       "       [ 1.51251490e-01, -7.53299698e-01, -1.00165789e+00,\n",
       "        -6.90361869e-01, -8.01861805e-01, -8.25317660e-01,\n",
       "         1.96195082e+00,  1.74693972e+00, -1.48800328e+00,\n",
       "         3.40150672e-01, -7.07936881e-01, -5.62391891e-01,\n",
       "        -8.63868426e-02, -7.83240594e-02],\n",
       "       [-6.65506555e-01,  1.14896097e+00,  1.19561466e+00,\n",
       "         1.19365794e+00, -9.37195656e-02, -8.96623831e-02,\n",
       "        -1.04606105e+00, -1.07834426e+00,  9.12454840e-02,\n",
       "         3.40150672e-01,  4.86706606e-01,  1.20325707e+00,\n",
       "        -8.63868426e-02, -1.03957388e+00],\n",
       "       [-6.65506555e-01,  1.14896097e+00,  1.14983815e+00,\n",
       "         9.13059246e-01,  2.36746813e-01,  1.13642974e+00,\n",
       "        -1.20437746e+00, -1.07834426e+00,  9.12454840e-02,\n",
       "         3.40150672e-01,  4.86706606e-01,  1.20325707e+00,\n",
       "        -8.63868426e-02, -1.03957388e+00],\n",
       "       [ 1.51251490e-01, -1.19212808e-01, -9.10104862e-01,\n",
       "        -1.17138820e+00, -6.13023875e-01,  4.65700755e-02,\n",
       "        -2.54478977e-01, -1.86149315e-01,  2.49170360e-01,\n",
       "         3.40150672e-01, -7.07936881e-01, -5.62391891e-01,\n",
       "        -8.63868426e-02, -7.83240594e-02],\n",
       "       [-1.48226460e+00, -1.74972195e+00,  3.25860944e-01,\n",
       "         4.72118439e-01, -3.29766979e-01, -7.43578184e-01,\n",
       "         6.95419509e-01,  2.59948156e-01,  1.03879474e+00,\n",
       "        -2.93987366e+00,  4.86706606e-01, -5.62391891e-01,\n",
       "        -8.63868426e-02, -7.83240594e-02],\n",
       "       [ 1.78476758e+00,  5.75263308e-01,  2.15692140e+00,\n",
       "        -1.17138820e+00,  2.59722095e+00,  1.49063414e+00,\n",
       "        -1.52101029e+00, -1.97053920e+00, -5.40454021e-01,\n",
       "         3.40150672e-01, -3.09722386e+00,  1.20325707e+00,\n",
       "        -8.63868426e-02,  1.84417558e+00],\n",
       "       [-6.65506555e-01, -9.64661994e-01, -6.35445794e-01,\n",
       "        -2.89506590e-01, -3.29766979e-01, -1.20676854e+00,\n",
       "         1.32868517e+00,  7.06045626e-01,  1.03879474e+00,\n",
       "        -2.93987366e+00,  4.86706606e-01, -5.62391891e-01,\n",
       "        -8.63868426e-02, -7.83240594e-02],\n",
       "       [ 1.51251490e-01, -6.62715856e-01, -8.18551840e-01,\n",
       "        -4.49848701e-01, -7.54652323e-01, -6.61838709e-01,\n",
       "         6.95419509e-01,  4.08647312e-01, -1.17215353e+00,\n",
       "         3.40150672e-01, -7.07936881e-01, -5.62391891e-01,\n",
       "        -8.63868426e-02, -7.83240594e-02],\n",
       "       [ 1.51251490e-01,  1.52538716e-01, -9.10104862e-01,\n",
       "         3.11776328e-01, -6.36628616e-01, -8.52564151e-01,\n",
       "         8.53735923e-01,  8.54744783e-01, -6.66793922e-02,\n",
       "         3.40150672e-01,  4.86706606e-01, -5.62391891e-01,\n",
       "        -8.63868426e-02, -7.83240594e-02],\n",
       "       [-6.65506555e-01, -9.64661994e-01, -6.35445794e-01,\n",
       "        -2.89506590e-01, -6.13023875e-01, -8.25317660e-01,\n",
       "         1.96195082e+00,  2.34173635e+00,  1.03879474e+00,\n",
       "         3.40150672e-01,  4.86706606e-01, -5.62391891e-01,\n",
       "        -8.63868426e-02, -7.83240594e-02],\n",
       "       [-1.48226460e+00, -1.47797043e+00,  6.46296523e-01,\n",
       "         1.51434216e+00,  1.42327848e-01,  1.68135958e+00,\n",
       "        -1.36269388e+00, -1.37574257e+00,  1.35464449e+00,\n",
       "         3.40150672e-01,  1.68135009e+00,  1.20325707e+00,\n",
       "        -8.63868426e-02, -7.83240594e-02],\n",
       "       [-6.65506555e-01, -2.86289671e-02,  1.19561466e+00,\n",
       "         1.99536850e+00,  6.61632157e-01, -1.44155367e-01,\n",
       "        -9.61625628e-02, -9.29645099e-01,  9.12454840e-02,\n",
       "        -2.93987366e+00,  1.68135009e+00,  1.20325707e+00,\n",
       "        -8.63868426e-02, -1.03957388e+00],\n",
       "       [-6.65506555e-01,  1.14896097e+00,  1.19561466e+00,\n",
       "         1.19365794e+00,  6.61632157e-01, -1.44155367e-01,\n",
       "         3.78786680e-01,  2.59948156e-01,  9.12454840e-02,\n",
       "        -2.93987366e+00,  4.86706606e-01,  1.20325707e+00,\n",
       "        -8.63868426e-02, -1.03957388e+00],\n",
       "       [ 1.51251490e-01, -2.86289671e-02, -1.00165789e+00,\n",
       "        -6.90361869e-01, -8.01861805e-01, -8.25317660e-01,\n",
       "         1.96195082e+00,  1.74693972e+00, -1.01422865e+00,\n",
       "         3.40150672e-01,  4.86706606e-01, -5.62391891e-01,\n",
       "        -8.63868426e-02, -7.83240594e-02],\n",
       "       [-6.65506555e-01, -2.86289671e-02,  2.34002744e+00,\n",
       "         1.03331583e+00,  2.00710241e+00,  2.22628941e+00,\n",
       "        -1.67932671e+00, -1.67314088e+00, -1.64592815e+00,\n",
       "         3.40150672e-01,  4.86706606e-01,  1.20325707e+00,\n",
       "        -8.63868426e-02, -7.83240594e-02],\n",
       "       [ 9.68009535e-01, -2.86289671e-02,  2.34307921e-01,\n",
       "        -2.49421062e-01,  2.83956296e-01,  2.64542009e-01,\n",
       "        -1.04606105e+00, -9.29645099e-01, -1.80385303e+00,\n",
       "         3.40150672e-01,  4.86706606e-01, -5.62391891e-01,\n",
       "        -8.63868426e-02, -7.83240594e-02],\n",
       "       [ 1.51251490e-01,  9.37598674e-01, -9.10104862e-01,\n",
       "        -1.17138820e+00, -6.13023875e-01, -8.79810643e-01,\n",
       "         8.53735923e-01,  1.00344394e+00,  2.49170360e-01,\n",
       "         3.40150672e-01,  4.86706606e-01, -5.62391891e-01,\n",
       "        -8.63868426e-02, -7.83240594e-02],\n",
       "       [-6.65506555e-01, -2.86289671e-02,  5.08966989e-01,\n",
       "         5.52289495e-01, -3.53371720e-01, -3.34880809e-01,\n",
       "        -9.61625628e-02, -3.74501580e-02,  1.19671962e+00,\n",
       "         3.40150672e-01,  1.68135009e+00, -5.62391891e-01,\n",
       "        -8.63868426e-02, -7.83240594e-02],\n",
       "       [ 1.51251490e-01, -5.72132015e-01, -7.26998817e-01,\n",
       "         1.51434216e-01, -7.78257064e-01, -8.79810643e-01,\n",
       "         8.53735923e-01,  1.00344394e+00, -6.98378897e-01,\n",
       "         3.40150672e-01, -7.07936881e-01, -5.62391891e-01,\n",
       "        -8.63868426e-02, -7.83240594e-02],\n",
       "       [-6.65506555e-01, -1.14582968e+00, -1.50519951e+00,\n",
       "         1.51434216e-01, -3.29766979e-01, -3.89373792e-01,\n",
       "         2.20470266e-01,  2.59948156e-01, -1.17215353e+00,\n",
       "         3.40150672e-01,  4.86706606e-01, -5.62391891e-01,\n",
       "        -8.63868426e-02, -7.83240594e-02],\n",
       "       [ 1.51251490e-01,  9.37598674e-01, -9.10104862e-01,\n",
       "        -1.17138820e+00, -8.01861805e-01, -8.79810643e-01,\n",
       "         8.53735923e-01,  1.00344394e+00,  2.49170360e-01,\n",
       "         3.40150672e-01,  4.86706606e-01, -5.62391891e-01,\n",
       "        -8.63868426e-02, -7.83240594e-02],\n",
       "       [-6.65506555e-01, -9.04272767e-01,  2.06536837e+00,\n",
       "         4.72118439e-01,  1.39337914e+00,  6.18746402e-01,\n",
       "        -5.71111806e-01, -9.29645099e-01, -5.40454021e-01,\n",
       "        -2.93987366e+00, -1.90258037e+00,  1.20325707e+00,\n",
       "        -8.63868426e-02, -7.83240594e-02]])"
      ]
     },
     "execution_count": 78,
     "metadata": {},
     "output_type": "execute_result"
    }
   ],
   "source": [
    "X_test"
   ]
  },
  {
   "cell_type": "code",
   "execution_count": 79,
   "id": "8321a159",
   "metadata": {},
   "outputs": [
    {
     "data": {
      "text/html": [
       "<style>#sk-container-id-1 {color: black;background-color: white;}#sk-container-id-1 pre{padding: 0;}#sk-container-id-1 div.sk-toggleable {background-color: white;}#sk-container-id-1 label.sk-toggleable__label {cursor: pointer;display: block;width: 100%;margin-bottom: 0;padding: 0.3em;box-sizing: border-box;text-align: center;}#sk-container-id-1 label.sk-toggleable__label-arrow:before {content: \"▸\";float: left;margin-right: 0.25em;color: #696969;}#sk-container-id-1 label.sk-toggleable__label-arrow:hover:before {color: black;}#sk-container-id-1 div.sk-estimator:hover label.sk-toggleable__label-arrow:before {color: black;}#sk-container-id-1 div.sk-toggleable__content {max-height: 0;max-width: 0;overflow: hidden;text-align: left;background-color: #f0f8ff;}#sk-container-id-1 div.sk-toggleable__content pre {margin: 0.2em;color: black;border-radius: 0.25em;background-color: #f0f8ff;}#sk-container-id-1 input.sk-toggleable__control:checked~div.sk-toggleable__content {max-height: 200px;max-width: 100%;overflow: auto;}#sk-container-id-1 input.sk-toggleable__control:checked~label.sk-toggleable__label-arrow:before {content: \"▾\";}#sk-container-id-1 div.sk-estimator input.sk-toggleable__control:checked~label.sk-toggleable__label {background-color: #d4ebff;}#sk-container-id-1 div.sk-label input.sk-toggleable__control:checked~label.sk-toggleable__label {background-color: #d4ebff;}#sk-container-id-1 input.sk-hidden--visually {border: 0;clip: rect(1px 1px 1px 1px);clip: rect(1px, 1px, 1px, 1px);height: 1px;margin: -1px;overflow: hidden;padding: 0;position: absolute;width: 1px;}#sk-container-id-1 div.sk-estimator {font-family: monospace;background-color: #f0f8ff;border: 1px dotted black;border-radius: 0.25em;box-sizing: border-box;margin-bottom: 0.5em;}#sk-container-id-1 div.sk-estimator:hover {background-color: #d4ebff;}#sk-container-id-1 div.sk-parallel-item::after {content: \"\";width: 100%;border-bottom: 1px solid gray;flex-grow: 1;}#sk-container-id-1 div.sk-label:hover label.sk-toggleable__label {background-color: #d4ebff;}#sk-container-id-1 div.sk-serial::before {content: \"\";position: absolute;border-left: 1px solid gray;box-sizing: border-box;top: 0;bottom: 0;left: 50%;z-index: 0;}#sk-container-id-1 div.sk-serial {display: flex;flex-direction: column;align-items: center;background-color: white;padding-right: 0.2em;padding-left: 0.2em;position: relative;}#sk-container-id-1 div.sk-item {position: relative;z-index: 1;}#sk-container-id-1 div.sk-parallel {display: flex;align-items: stretch;justify-content: center;background-color: white;position: relative;}#sk-container-id-1 div.sk-item::before, #sk-container-id-1 div.sk-parallel-item::before {content: \"\";position: absolute;border-left: 1px solid gray;box-sizing: border-box;top: 0;bottom: 0;left: 50%;z-index: -1;}#sk-container-id-1 div.sk-parallel-item {display: flex;flex-direction: column;z-index: 1;position: relative;background-color: white;}#sk-container-id-1 div.sk-parallel-item:first-child::after {align-self: flex-end;width: 50%;}#sk-container-id-1 div.sk-parallel-item:last-child::after {align-self: flex-start;width: 50%;}#sk-container-id-1 div.sk-parallel-item:only-child::after {width: 0;}#sk-container-id-1 div.sk-dashed-wrapped {border: 1px dashed gray;margin: 0 0.4em 0.5em 0.4em;box-sizing: border-box;padding-bottom: 0.4em;background-color: white;}#sk-container-id-1 div.sk-label label {font-family: monospace;font-weight: bold;display: inline-block;line-height: 1.2em;}#sk-container-id-1 div.sk-label-container {text-align: center;}#sk-container-id-1 div.sk-container {/* jupyter's `normalize.less` sets `[hidden] { display: none; }` but bootstrap.min.css set `[hidden] { display: none !important; }` so we also need the `!important` here to be able to override the default hidden behavior on the sphinx rendered scikit-learn.org. See: https://github.com/scikit-learn/scikit-learn/issues/21755 */display: inline-block !important;position: relative;}#sk-container-id-1 div.sk-text-repr-fallback {display: none;}</style><div id=\"sk-container-id-1\" class=\"sk-top-container\"><div class=\"sk-text-repr-fallback\"><pre>LinearRegression()</pre><b>In a Jupyter environment, please rerun this cell to show the HTML representation or trust the notebook. <br />On GitHub, the HTML representation is unable to render, please try loading this page with nbviewer.org.</b></div><div class=\"sk-container\" hidden><div class=\"sk-item\"><div class=\"sk-estimator sk-toggleable\"><input class=\"sk-toggleable__control sk-hidden--visually\" id=\"sk-estimator-id-1\" type=\"checkbox\" checked><label for=\"sk-estimator-id-1\" class=\"sk-toggleable__label sk-toggleable__label-arrow\">LinearRegression</label><div class=\"sk-toggleable__content\"><pre>LinearRegression()</pre></div></div></div></div></div>"
      ],
      "text/plain": [
       "LinearRegression()"
      ]
     },
     "execution_count": 79,
     "metadata": {},
     "output_type": "execute_result"
    }
   ],
   "source": [
    "from sklearn.linear_model import LinearRegression\n",
    "\n",
    "#create an object for linearRegression\n",
    "Lr=LinearRegression()\n",
    "#lets train the model with 70% of data\n",
    "\n",
    "#we use .fit() method of linearRegression class\n",
    "Lr.fit(X_train,Y_train)"
   ]
  },
  {
   "cell_type": "code",
   "execution_count": 80,
   "id": "32841987",
   "metadata": {},
   "outputs": [
    {
     "name": "stdout",
     "output_type": "stream",
     "text": [
      "sloper of TV and Radio [  565.91635867   -99.17664504  1548.89263151   963.45038275\n",
      "  3705.34961344   746.11088861   432.83348193 -1293.47340037\n",
      "  -839.87170454  -421.10061897    37.53455015   863.51183981\n",
      "  1065.99140578   -35.54275919]\n"
     ]
    }
   ],
   "source": [
    "Lr.coef_\n",
    "print(\"sloper of TV and Radio\",Lr.coef_) "
   ]
  },
  {
   "cell_type": "code",
   "execution_count": 81,
   "id": "406189e0",
   "metadata": {},
   "outputs": [
    {
     "name": "stdout",
     "output_type": "stream",
     "text": [
      "Intercept of the line: 12695.740740740743\n"
     ]
    }
   ],
   "source": [
    "Lr.intercept_\n",
    "print(\"Intercept of the line:\",Lr.intercept_)"
   ]
  },
  {
   "cell_type": "code",
   "execution_count": 82,
   "id": "8a514517",
   "metadata": {},
   "outputs": [
    {
     "name": "stdout",
     "output_type": "stream",
     "text": [
      "Predicted out [31137.52744919 10047.55879125 14696.16308077  9694.69096591\n",
      "  8219.78138975 12714.0074302  27426.96064435 10328.66284534\n",
      " 10131.40760504 16517.2406365  10131.40760504 14128.97602721\n",
      "  4545.5108148  26237.0801785   9888.06026922 10780.68437922\n",
      " 13570.97738188  7249.07353627  5415.08801705 33983.15959411\n",
      "  8509.02871762 15677.39240745 19477.39839913 12480.65263829\n",
      " 10507.48692118 12480.65263829  6603.8398129  12920.48024005\n",
      "  9525.49817001 13663.55317256 26373.57978877 34028.\n",
      " 12800.36822104 20348.40889869 16070.94301712 21283.82460268\n",
      " 10991.52878706  6147.06362917 16517.2406365  18246.76432509\n",
      "  7194.82453977 10986.95269624 29563.08179433  8500.05297023\n",
      "  7867.89020494  7281.92827617  4512.24765795 17166.9089991\n",
      " 21809.49295068 19542.32148547  5722.12371835 29684.45022062\n",
      " 16183.34141547  5384.63646978 10429.83646663  7231.18453481\n",
      "  8778.59247601  4684.92591668 25212.78926021]\n"
     ]
    }
   ],
   "source": [
    "y_pred=Lr.predict(X_test)\n",
    "print(\"Predicted out\",y_pred)"
   ]
  },
  {
   "cell_type": "code",
   "execution_count": 83,
   "id": "1996d976",
   "metadata": {},
   "outputs": [
    {
     "data": {
      "text/html": [
       "<div>\n",
       "<style scoped>\n",
       "    .dataframe tbody tr th:only-of-type {\n",
       "        vertical-align: middle;\n",
       "    }\n",
       "\n",
       "    .dataframe tbody tr th {\n",
       "        vertical-align: top;\n",
       "    }\n",
       "\n",
       "    .dataframe thead th {\n",
       "        text-align: right;\n",
       "    }\n",
       "</style>\n",
       "<table border=\"1\" class=\"dataframe\">\n",
       "  <thead>\n",
       "    <tr style=\"text-align: right;\">\n",
       "      <th></th>\n",
       "      <th>Actual Output</th>\n",
       "      <th>Predict output</th>\n",
       "    </tr>\n",
       "  </thead>\n",
       "  <tbody>\n",
       "    <tr>\n",
       "      <th>47</th>\n",
       "      <td>32250</td>\n",
       "      <td>31137.527449</td>\n",
       "    </tr>\n",
       "    <tr>\n",
       "      <th>183</th>\n",
       "      <td>7975</td>\n",
       "      <td>10047.558791</td>\n",
       "    </tr>\n",
       "    <tr>\n",
       "      <th>169</th>\n",
       "      <td>9989</td>\n",
       "      <td>14696.163081</td>\n",
       "    </tr>\n",
       "    <tr>\n",
       "      <th>36</th>\n",
       "      <td>7295</td>\n",
       "      <td>9694.690966</td>\n",
       "    </tr>\n",
       "    <tr>\n",
       "      <th>142</th>\n",
       "      <td>7775</td>\n",
       "      <td>8219.781390</td>\n",
       "    </tr>\n",
       "    <tr>\n",
       "      <th>11</th>\n",
       "      <td>16925</td>\n",
       "      <td>12714.007430</td>\n",
       "    </tr>\n",
       "    <tr>\n",
       "      <th>129</th>\n",
       "      <td>12000</td>\n",
       "      <td>27426.960644</td>\n",
       "    </tr>\n",
       "    <tr>\n",
       "      <th>87</th>\n",
       "      <td>9279</td>\n",
       "      <td>10328.662845</td>\n",
       "    </tr>\n",
       "    <tr>\n",
       "      <th>186</th>\n",
       "      <td>8495</td>\n",
       "      <td>10131.407605</td>\n",
       "    </tr>\n",
       "    <tr>\n",
       "      <th>107</th>\n",
       "      <td>11900</td>\n",
       "      <td>16517.240637</td>\n",
       "    </tr>\n",
       "    <tr>\n",
       "      <th>185</th>\n",
       "      <td>8195</td>\n",
       "      <td>10131.407605</td>\n",
       "    </tr>\n",
       "    <tr>\n",
       "      <th>191</th>\n",
       "      <td>13295</td>\n",
       "      <td>14128.976027</td>\n",
       "    </tr>\n",
       "    <tr>\n",
       "      <th>30</th>\n",
       "      <td>6479</td>\n",
       "      <td>4545.510815</td>\n",
       "    </tr>\n",
       "    <tr>\n",
       "      <th>16</th>\n",
       "      <td>41315</td>\n",
       "      <td>26237.080179</td>\n",
       "    </tr>\n",
       "    <tr>\n",
       "      <th>149</th>\n",
       "      <td>11694</td>\n",
       "      <td>9888.060269</td>\n",
       "    </tr>\n",
       "    <tr>\n",
       "      <th>173</th>\n",
       "      <td>8948</td>\n",
       "      <td>10780.684379</td>\n",
       "    </tr>\n",
       "    <tr>\n",
       "      <th>28</th>\n",
       "      <td>8921</td>\n",
       "      <td>13570.977382</td>\n",
       "    </tr>\n",
       "    <tr>\n",
       "      <th>54</th>\n",
       "      <td>7395</td>\n",
       "      <td>7249.073536</td>\n",
       "    </tr>\n",
       "    <tr>\n",
       "      <th>32</th>\n",
       "      <td>5399</td>\n",
       "      <td>5415.088017</td>\n",
       "    </tr>\n",
       "    <tr>\n",
       "      <th>128</th>\n",
       "      <td>37028</td>\n",
       "      <td>33983.159594</td>\n",
       "    </tr>\n",
       "    <tr>\n",
       "      <th>50</th>\n",
       "      <td>5195</td>\n",
       "      <td>8509.028718</td>\n",
       "    </tr>\n",
       "    <tr>\n",
       "      <th>4</th>\n",
       "      <td>17450</td>\n",
       "      <td>15677.392407</td>\n",
       "    </tr>\n",
       "    <tr>\n",
       "      <th>103</th>\n",
       "      <td>13499</td>\n",
       "      <td>19477.398399</td>\n",
       "    </tr>\n",
       "    <tr>\n",
       "      <th>59</th>\n",
       "      <td>8845</td>\n",
       "      <td>12480.652638</td>\n",
       "    </tr>\n",
       "    <tr>\n",
       "      <th>81</th>\n",
       "      <td>8499</td>\n",
       "      <td>10507.486921</td>\n",
       "    </tr>\n",
       "    <tr>\n",
       "      <th>61</th>\n",
       "      <td>10595</td>\n",
       "      <td>12480.652638</td>\n",
       "    </tr>\n",
       "    <tr>\n",
       "      <th>138</th>\n",
       "      <td>5118</td>\n",
       "      <td>6603.839813</td>\n",
       "    </tr>\n",
       "    <tr>\n",
       "      <th>130</th>\n",
       "      <td>9295</td>\n",
       "      <td>12920.480240</td>\n",
       "    </tr>\n",
       "    <tr>\n",
       "      <th>56</th>\n",
       "      <td>11845</td>\n",
       "      <td>9525.498170</td>\n",
       "    </tr>\n",
       "    <tr>\n",
       "      <th>133</th>\n",
       "      <td>12170</td>\n",
       "      <td>13663.553173</td>\n",
       "    </tr>\n",
       "    <tr>\n",
       "      <th>70</th>\n",
       "      <td>31600</td>\n",
       "      <td>26373.579789</td>\n",
       "    </tr>\n",
       "    <tr>\n",
       "      <th>126</th>\n",
       "      <td>32528</td>\n",
       "      <td>34028.000000</td>\n",
       "    </tr>\n",
       "    <tr>\n",
       "      <th>62</th>\n",
       "      <td>10245</td>\n",
       "      <td>12800.368221</td>\n",
       "    </tr>\n",
       "    <tr>\n",
       "      <th>102</th>\n",
       "      <td>14399</td>\n",
       "      <td>20348.408899</td>\n",
       "    </tr>\n",
       "    <tr>\n",
       "      <th>198</th>\n",
       "      <td>18420</td>\n",
       "      <td>16070.943017</td>\n",
       "    </tr>\n",
       "    <tr>\n",
       "      <th>14</th>\n",
       "      <td>24565</td>\n",
       "      <td>21283.824603</td>\n",
       "    </tr>\n",
       "    <tr>\n",
       "      <th>42</th>\n",
       "      <td>10345</td>\n",
       "      <td>10991.528787</td>\n",
       "    </tr>\n",
       "    <tr>\n",
       "      <th>19</th>\n",
       "      <td>6295</td>\n",
       "      <td>6147.063629</td>\n",
       "    </tr>\n",
       "    <tr>\n",
       "      <th>115</th>\n",
       "      <td>16630</td>\n",
       "      <td>16517.240637</td>\n",
       "    </tr>\n",
       "    <tr>\n",
       "      <th>117</th>\n",
       "      <td>18150</td>\n",
       "      <td>18246.764325</td>\n",
       "    </tr>\n",
       "    <tr>\n",
       "      <th>119</th>\n",
       "      <td>7957</td>\n",
       "      <td>7194.824540</td>\n",
       "    </tr>\n",
       "    <tr>\n",
       "      <th>174</th>\n",
       "      <td>10698</td>\n",
       "      <td>10986.952696</td>\n",
       "    </tr>\n",
       "    <tr>\n",
       "      <th>72</th>\n",
       "      <td>35056</td>\n",
       "      <td>29563.081794</td>\n",
       "    </tr>\n",
       "    <tr>\n",
       "      <th>158</th>\n",
       "      <td>7898</td>\n",
       "      <td>8500.052970</td>\n",
       "    </tr>\n",
       "    <tr>\n",
       "      <th>34</th>\n",
       "      <td>7129</td>\n",
       "      <td>7867.890205</td>\n",
       "    </tr>\n",
       "    <tr>\n",
       "      <th>94</th>\n",
       "      <td>7299</td>\n",
       "      <td>7281.928276</td>\n",
       "    </tr>\n",
       "    <tr>\n",
       "      <th>160</th>\n",
       "      <td>7738</td>\n",
       "      <td>4512.247658</td>\n",
       "    </tr>\n",
       "    <tr>\n",
       "      <th>199</th>\n",
       "      <td>18950</td>\n",
       "      <td>17166.908999</td>\n",
       "    </tr>\n",
       "    <tr>\n",
       "      <th>110</th>\n",
       "      <td>13860</td>\n",
       "      <td>21809.492951</td>\n",
       "    </tr>\n",
       "    <tr>\n",
       "      <th>112</th>\n",
       "      <td>16900</td>\n",
       "      <td>19542.321485</td>\n",
       "    </tr>\n",
       "    <tr>\n",
       "      <th>44</th>\n",
       "      <td>10000</td>\n",
       "      <td>5722.123718</td>\n",
       "    </tr>\n",
       "    <tr>\n",
       "      <th>17</th>\n",
       "      <td>36880</td>\n",
       "      <td>29684.450221</td>\n",
       "    </tr>\n",
       "    <tr>\n",
       "      <th>5</th>\n",
       "      <td>15250</td>\n",
       "      <td>16183.341415</td>\n",
       "    </tr>\n",
       "    <tr>\n",
       "      <th>122</th>\n",
       "      <td>7609</td>\n",
       "      <td>5384.636470</td>\n",
       "    </tr>\n",
       "    <tr>\n",
       "      <th>193</th>\n",
       "      <td>12290</td>\n",
       "      <td>10429.836467</td>\n",
       "    </tr>\n",
       "    <tr>\n",
       "      <th>51</th>\n",
       "      <td>6095</td>\n",
       "      <td>7231.184535</td>\n",
       "    </tr>\n",
       "    <tr>\n",
       "      <th>40</th>\n",
       "      <td>10295</td>\n",
       "      <td>8778.592476</td>\n",
       "    </tr>\n",
       "    <tr>\n",
       "      <th>121</th>\n",
       "      <td>6692</td>\n",
       "      <td>4684.925917</td>\n",
       "    </tr>\n",
       "    <tr>\n",
       "      <th>69</th>\n",
       "      <td>28176</td>\n",
       "      <td>25212.789260</td>\n",
       "    </tr>\n",
       "  </tbody>\n",
       "</table>\n",
       "</div>"
      ],
      "text/plain": [
       "     Actual Output  Predict output\n",
       "47           32250    31137.527449\n",
       "183           7975    10047.558791\n",
       "169           9989    14696.163081\n",
       "36            7295     9694.690966\n",
       "142           7775     8219.781390\n",
       "11           16925    12714.007430\n",
       "129          12000    27426.960644\n",
       "87            9279    10328.662845\n",
       "186           8495    10131.407605\n",
       "107          11900    16517.240637\n",
       "185           8195    10131.407605\n",
       "191          13295    14128.976027\n",
       "30            6479     4545.510815\n",
       "16           41315    26237.080179\n",
       "149          11694     9888.060269\n",
       "173           8948    10780.684379\n",
       "28            8921    13570.977382\n",
       "54            7395     7249.073536\n",
       "32            5399     5415.088017\n",
       "128          37028    33983.159594\n",
       "50            5195     8509.028718\n",
       "4            17450    15677.392407\n",
       "103          13499    19477.398399\n",
       "59            8845    12480.652638\n",
       "81            8499    10507.486921\n",
       "61           10595    12480.652638\n",
       "138           5118     6603.839813\n",
       "130           9295    12920.480240\n",
       "56           11845     9525.498170\n",
       "133          12170    13663.553173\n",
       "70           31600    26373.579789\n",
       "126          32528    34028.000000\n",
       "62           10245    12800.368221\n",
       "102          14399    20348.408899\n",
       "198          18420    16070.943017\n",
       "14           24565    21283.824603\n",
       "42           10345    10991.528787\n",
       "19            6295     6147.063629\n",
       "115          16630    16517.240637\n",
       "117          18150    18246.764325\n",
       "119           7957     7194.824540\n",
       "174          10698    10986.952696\n",
       "72           35056    29563.081794\n",
       "158           7898     8500.052970\n",
       "34            7129     7867.890205\n",
       "94            7299     7281.928276\n",
       "160           7738     4512.247658\n",
       "199          18950    17166.908999\n",
       "110          13860    21809.492951\n",
       "112          16900    19542.321485\n",
       "44           10000     5722.123718\n",
       "17           36880    29684.450221\n",
       "5            15250    16183.341415\n",
       "122           7609     5384.636470\n",
       "193          12290    10429.836467\n",
       "51            6095     7231.184535\n",
       "40           10295     8778.592476\n",
       "121           6692     4684.925917\n",
       "69           28176    25212.789260"
      ]
     },
     "execution_count": 83,
     "metadata": {},
     "output_type": "execute_result"
    }
   ],
   "source": [
    "dict={\"Actual Output\":Y_test,\"Predict output\":y_pred} #predict best fit line\n",
    "df1=pd.DataFrame(dict)\n",
    "df1"
   ]
  },
  {
   "cell_type": "code",
   "execution_count": 84,
   "id": "3cd2ef96",
   "metadata": {},
   "outputs": [],
   "source": [
    "from sklearn.metrics import mean_squared_error   "
   ]
  },
  {
   "cell_type": "code",
   "execution_count": 85,
   "id": "33a6d04b",
   "metadata": {},
   "outputs": [
    {
     "name": "stdout",
     "output_type": "stream",
     "text": [
      "mean sqaured error 16621454.100955166\n"
     ]
    }
   ],
   "source": [
    "print(\"mean sqaured error\",mean_squared_error(Y_test,y_pred)) "
   ]
  },
  {
   "cell_type": "code",
   "execution_count": 86,
   "id": "9d9d281e",
   "metadata": {},
   "outputs": [
    {
     "name": "stdout",
     "output_type": "stream",
     "text": [
      "16621454.100955166\n",
      "Root Mean Squared Error 4076.941758347201\n"
     ]
    }
   ],
   "source": [
    "mse=mean_squared_error(Y_test,y_pred)\n",
    "print(mse)\n",
    "#check for root of mean square  :--- error minmize error\n",
    "rmse=np.sqrt(mse)\n",
    "print(\"Root Mean Squared Error\",rmse)"
   ]
  },
  {
   "cell_type": "code",
   "execution_count": 87,
   "id": "93e115b4",
   "metadata": {},
   "outputs": [
    {
     "name": "stdout",
     "output_type": "stream",
     "text": [
      "r2_score 0.7978106158837065\n"
     ]
    }
   ],
   "source": [
    "from sklearn.metrics import r2_score\n",
    "print('r2_score',r2_score(Y_test,y_pred))"
   ]
  },
  {
   "cell_type": "code",
   "execution_count": 88,
   "id": "8135d527",
   "metadata": {},
   "outputs": [
    {
     "data": {
      "text/plain": [
       "0.8950330313550494"
      ]
     },
     "execution_count": 88,
     "metadata": {},
     "output_type": "execute_result"
    }
   ],
   "source": [
    "Lr.score(X_train,Y_train)"
   ]
  },
  {
   "cell_type": "code",
   "execution_count": 89,
   "id": "893499a9",
   "metadata": {},
   "outputs": [
    {
     "data": {
      "text/plain": [
       "0.7978106158837065"
      ]
     },
     "execution_count": 89,
     "metadata": {},
     "output_type": "execute_result"
    }
   ],
   "source": [
    "Lr.score(X_test,Y_test)"
   ]
  },
  {
   "cell_type": "code",
   "execution_count": 90,
   "id": "481229cf",
   "metadata": {},
   "outputs": [],
   "source": [
    "from sklearn.linear_model import Lasso"
   ]
  },
  {
   "cell_type": "code",
   "execution_count": 91,
   "id": "10fe3c4b",
   "metadata": {},
   "outputs": [
    {
     "name": "stdout",
     "output_type": "stream",
     "text": [
      "Value of lambda 200\n",
      "Training score: 0.8886692107491931\n",
      "Testing Score : 0.785772495991217\n",
      "Value of lambda 250\n",
      "Training score: 0.8852268874588555\n",
      "Testing Score : 0.7811116971208407\n",
      "Value of lambda 300\n",
      "Training score: 0.8821196355280003\n",
      "Testing Score : 0.775815496254911\n",
      "Value of lambda 350\n",
      "Training score: 0.8785670713646521\n",
      "Testing Score : 0.769805685333003\n",
      "Value of lambda 400\n",
      "Training score: 0.875058753592867\n",
      "Testing Score : 0.763883284604699\n",
      "Value of lambda 450\n",
      "Training score: 0.871231131222509\n",
      "Testing Score : 0.7575609382188756\n",
      "Value of lambda 500\n",
      "Training score: 0.8669571770720985\n",
      "Testing Score : 0.7506402747703276\n",
      "Value of lambda 550\n",
      "Training score: 0.8622340178662146\n",
      "Testing Score : 0.7431314387148087\n",
      "Value of lambda 600\n",
      "Training score: 0.8588748933373618\n",
      "Testing Score : 0.7357513518010343\n",
      "Value of lambda 650\n",
      "Training score: 0.8562194785812391\n",
      "Testing Score : 0.7298559519425751\n",
      "Value of lambda 700\n",
      "Training score: 0.8533520437590926\n",
      "Testing Score : 0.7236018475422316\n",
      "Value of lambda 750\n",
      "Training score: 0.8502723324358641\n",
      "Testing Score : 0.7169899750078486\n",
      "Value of lambda 800\n",
      "Training score: 0.8469802926589101\n",
      "Testing Score : 0.7100169926614595\n",
      "Value of lambda 850\n",
      "Training score: 0.8434746562054618\n",
      "Testing Score : 0.7026882116868258\n",
      "Value of lambda 900\n",
      "Training score: 0.8397576349035503\n",
      "Testing Score : 0.6949920453839162\n",
      "Value of lambda 950\n",
      "Training score: 0.8358281421716366\n",
      "Testing Score : 0.6869336285417922\n"
     ]
    }
   ],
   "source": [
    "for i in range(200,1000,50):\n",
    "    #create an object for lasso\n",
    "    l1=Lasso(i)\n",
    "    #Train the model with 70% of data using lasso class,use fit() method of lasso class\n",
    "    l1.fit(X_train,Y_train)\n",
    "    print('Value of lambda',i)\n",
    "    #check for training score\n",
    "    print('Training score:',l1.score(X_train,Y_train))\n",
    "    #check for testing score\n",
    "    print('Testing Score :',l1.score(X_test,Y_test))"
   ]
  },
  {
   "cell_type": "code",
   "execution_count": 92,
   "id": "09510a7f",
   "metadata": {},
   "outputs": [
    {
     "data": {
      "text/plain": [
       "array([   0.        ,    0.        , 1468.53451136,    0.        ,\n",
       "       3687.58390524,  785.59129046,   -0.        , -266.44539744,\n",
       "         -0.        ,   -0.        ,    0.        ,  289.8240598 ,\n",
       "        163.1717122 ,   -0.        ])"
      ]
     },
     "execution_count": 92,
     "metadata": {},
     "output_type": "execute_result"
    }
   ],
   "source": [
    "#right value formlambda in the case of lass=200\n",
    "#testing score got 78% and trainng score is 88%\n",
    "#check for slope of each input after lasso\n",
    "l1.coef_"
   ]
  },
  {
   "cell_type": "code",
   "execution_count": null,
   "id": "ad303717",
   "metadata": {},
   "outputs": [],
   "source": [
    "#lasso is also feature selection\n"
   ]
  },
  {
   "cell_type": "code",
   "execution_count": 93,
   "id": "8a4c4f63",
   "metadata": {},
   "outputs": [],
   "source": [
    "#using Ridge Regularisation\n",
    "from sklearn.linear_model import Ridge"
   ]
  },
  {
   "cell_type": "code",
   "execution_count": 94,
   "id": "8156dcc4",
   "metadata": {},
   "outputs": [
    {
     "name": "stdout",
     "output_type": "stream",
     "text": [
      "The value of Lambda: 0\n",
      "Training score: 0.8950330313550494\n",
      "Testing Score 0.7978106158837066\n",
      "The value of Lambda: 1\n",
      "Training score: 0.894965037089183\n",
      "Testing Score 0.7959747261849592\n",
      "The value of Lambda: 2\n",
      "Training score: 0.894816296168483\n",
      "Testing Score 0.794498809550325\n",
      "The value of Lambda: 3\n",
      "Training score: 0.8946196076842898\n",
      "Testing Score 0.7932364625282474\n",
      "The value of Lambda: 4\n",
      "Training score: 0.8943872188299606\n",
      "Testing Score 0.7921164928811879\n",
      "The value of Lambda: 5\n",
      "Training score: 0.8941259939344685\n",
      "Testing Score 0.7910988954378926\n",
      "The value of Lambda: 6\n",
      "Training score: 0.893840655382157\n",
      "Testing Score 0.7901587023248613\n",
      "The value of Lambda: 7\n",
      "Training score: 0.8935347699369793\n",
      "Testing Score 0.7892791025051367\n",
      "The value of Lambda: 8\n",
      "Training score: 0.8932111563936648\n",
      "Testing Score 0.7884481328285933\n",
      "The value of Lambda: 9\n",
      "Training score: 0.892872100033177\n",
      "Testing Score 0.7876569236693349\n",
      "The value of Lambda: 10\n",
      "Training score: 0.8925194851075678\n",
      "Testing Score 0.7868986921016765\n",
      "The value of Lambda: 11\n",
      "Training score: 0.8921548849084042\n",
      "Testing Score 0.7861681254478821\n",
      "The value of Lambda: 12\n",
      "Training score: 0.8917796265331864\n",
      "Testing Score 0.7854609832836051\n",
      "The value of Lambda: 13\n",
      "Training score: 0.8913948391091642\n",
      "Testing Score 0.7847738290528554\n",
      "The value of Lambda: 14\n",
      "Training score: 0.8910014905633243\n",
      "Testing Score 0.7841038424841895\n",
      "The value of Lambda: 15\n",
      "Training score: 0.890600416162775\n",
      "Testing Score 0.7834486845422646\n",
      "The value of Lambda: 16\n",
      "Training score: 0.8901923409883692\n",
      "Testing Score 0.7828063977777655\n",
      "The value of Lambda: 17\n",
      "Training score: 0.8897778978488363\n",
      "Testing Score 0.7821753312634262\n",
      "The value of Lambda: 18\n",
      "Training score: 0.8893576417143911\n",
      "Testing Score 0.7815540830536589\n",
      "The value of Lambda: 19\n",
      "Training score: 0.8889320614579941\n",
      "Testing Score 0.7809414554133348\n",
      "The value of Lambda: 20\n",
      "Training score: 0.8885015894894595\n",
      "Testing Score 0.7803364195298613\n",
      "The value of Lambda: 21\n",
      "Training score: 0.8880666097229608\n",
      "Testing Score 0.779738087385085\n",
      "The value of Lambda: 22\n",
      "Training score: 0.8876274642136591\n",
      "Testing Score 0.7791456891108535\n",
      "The value of Lambda: 23\n",
      "Training score: 0.8871844587221347\n",
      "Testing Score 0.7785585545976563\n",
      "The value of Lambda: 24\n",
      "Training score: 0.8867378674079729\n",
      "Testing Score 0.7779760984388305\n",
      "The value of Lambda: 25\n",
      "Training score: 0.8862879368107075\n",
      "Testing Score 0.7773978075168221\n",
      "The value of Lambda: 26\n",
      "Training score: 0.8858348892435141\n",
      "Testing Score 0.7768232307009069\n",
      "The value of Lambda: 27\n",
      "Training score: 0.8853789256998594\n",
      "Testing Score 0.7762519702459697\n",
      "The value of Lambda: 28\n",
      "Training score: 0.8849202283537981\n",
      "Testing Score 0.7756836745717883\n",
      "The value of Lambda: 29\n",
      "Training score: 0.8844589627193541\n",
      "Testing Score 0.7751180321702176\n",
      "The value of Lambda: 30\n",
      "Training score: 0.8839952795224195\n",
      "Testing Score 0.7745547664396049\n",
      "The value of Lambda: 31\n",
      "Training score: 0.883529316329067\n",
      "Testing Score 0.7739936312858395\n",
      "The value of Lambda: 32\n",
      "Training score: 0.8830611989665499\n",
      "Testing Score 0.7734344073606367\n",
      "The value of Lambda: 33\n",
      "Training score: 0.8825910427671342\n",
      "Testing Score 0.7728768988321353\n",
      "The value of Lambda: 34\n",
      "Training score: 0.8821189536599358\n",
      "Testing Score 0.7723209306022374\n",
      "The value of Lambda: 35\n",
      "Training score: 0.8816450291318904\n",
      "Testing Score 0.7717663459005242\n",
      "The value of Lambda: 36\n",
      "Training score: 0.8811693590756632\n",
      "Testing Score 0.7712130041969094\n",
      "The value of Lambda: 37\n",
      "Training score: 0.8806920265395761\n",
      "Testing Score 0.7706607793851403\n",
      "The value of Lambda: 38\n",
      "Training score: 0.8802131083923616\n",
      "Testing Score 0.770109558197296\n",
      "The value of Lambda: 39\n",
      "Training score: 0.879732675913675\n",
      "Testing Score 0.769559238816\n",
      "The value of Lambda: 40\n",
      "Training score: 0.8792507953197187\n",
      "Testing Score 0.7690097296564208\n",
      "The value of Lambda: 41\n",
      "Training score: 0.8787675282320139\n",
      "Testing Score 0.7684609482945504\n",
      "The value of Lambda: 42\n",
      "Training score: 0.8782829320962379\n",
      "Testing Score 0.767912820521882\n",
      "The value of Lambda: 43\n",
      "Training score: 0.8777970605571126\n",
      "Testing Score 0.7673652795096436\n",
      "The value of Lambda: 44\n",
      "Training score: 0.8773099637945194\n",
      "Testing Score 0.7668182650682368\n",
      "The value of Lambda: 45\n",
      "Training score: 0.8768216888253451\n",
      "Testing Score 0.766271722989645\n",
      "The value of Lambda: 46\n",
      "Training score: 0.8763322797749743\n",
      "Testing Score 0.765725604462326\n",
      "The value of Lambda: 47\n",
      "Training score: 0.8758417781218539\n",
      "Testing Score 0.7651798655495874\n",
      "The value of Lambda: 48\n",
      "Training score: 0.8753502229181174\n",
      "Testing Score 0.7646344667236938\n",
      "The value of Lambda: 49\n",
      "Training score: 0.8748576509888947\n",
      "Testing Score 0.7640893724490073\n",
      "The value of Lambda: 50\n",
      "Training score: 0.8743640971126154\n",
      "Testing Score 0.7635445508083721\n"
     ]
    }
   ],
   "source": [
    "for i in range(0,51):\n",
    "    l2=Ridge(i)\n",
    "    l2.fit(X_train,Y_train)\n",
    "    print('The value of Lambda:',i)\n",
    "    print(\"Training score:\",l2.score(X_train,Y_train))\n",
    "    print('Testing Score',l2.score(X_test,Y_test))"
   ]
  },
  {
   "cell_type": "code",
   "execution_count": null,
   "id": "7cc5ec50",
   "metadata": {},
   "outputs": [],
   "source": [
    "#right value of lambda in ridge=1\n",
    "#got testing score =79% and training score=89%"
   ]
  },
  {
   "cell_type": "code",
   "execution_count": null,
   "id": "37858ff0",
   "metadata": {},
   "outputs": [],
   "source": [
    "#cross validation "
   ]
  },
  {
   "cell_type": "code",
   "execution_count": 96,
   "id": "48ebd887",
   "metadata": {},
   "outputs": [],
   "source": [
    "from sklearn.model_selection import cross_val_score"
   ]
  },
  {
   "cell_type": "code",
   "execution_count": 97,
   "id": "ffda9b08",
   "metadata": {},
   "outputs": [],
   "source": [
    "#in lasso: right value of lambda:200\n",
    "l1=Lasso(200)\n",
    "ss=StandardScaler()"
   ]
  },
  {
   "cell_type": "code",
   "execution_count": 98,
   "id": "efd6205a",
   "metadata": {},
   "outputs": [],
   "source": [
    "X=ss.fit_transform(X)"
   ]
  },
  {
   "cell_type": "code",
   "execution_count": 100,
   "id": "2d98441b",
   "metadata": {},
   "outputs": [],
   "source": [
    "l1_cross=cross_val_score(l1,X,Y,cv=4) #cv just dividing number of parts"
   ]
  },
  {
   "cell_type": "code",
   "execution_count": 101,
   "id": "8d0b8f44",
   "metadata": {},
   "outputs": [
    {
     "data": {
      "text/plain": [
       "array([0.74920997, 0.86457251, 0.41464248, 0.53627449])"
      ]
     },
     "execution_count": 101,
     "metadata": {},
     "output_type": "execute_result"
    }
   ],
   "source": [
    "l1_cross\n",
    "\n"
   ]
  },
  {
   "cell_type": "code",
   "execution_count": 102,
   "id": "c5da40df",
   "metadata": {},
   "outputs": [
    {
     "data": {
      "text/plain": [
       "0.6411748629944463"
      ]
     },
     "execution_count": 102,
     "metadata": {},
     "output_type": "execute_result"
    }
   ],
   "source": [
    "np.mean(l1_cross)"
   ]
  },
  {
   "cell_type": "code",
   "execution_count": 104,
   "id": "8b9129be",
   "metadata": {},
   "outputs": [],
   "source": [
    "l2=Ridge(1)"
   ]
  },
  {
   "cell_type": "code",
   "execution_count": 105,
   "id": "c985b645",
   "metadata": {},
   "outputs": [],
   "source": [
    "l2_cross=cross_val_score(l2,X,Y,cv=4)"
   ]
  },
  {
   "cell_type": "code",
   "execution_count": 106,
   "id": "74193b3a",
   "metadata": {},
   "outputs": [
    {
     "data": {
      "text/plain": [
       "array([0.7523692 , 0.85815293, 0.37610442, 0.40323095])"
      ]
     },
     "execution_count": 106,
     "metadata": {},
     "output_type": "execute_result"
    }
   ],
   "source": [
    "l2_cross"
   ]
  },
  {
   "cell_type": "code",
   "execution_count": 107,
   "id": "44836044",
   "metadata": {},
   "outputs": [
    {
     "data": {
      "text/plain": [
       "0.5974643737585625"
      ]
     },
     "execution_count": 107,
     "metadata": {},
     "output_type": "execute_result"
    }
   ],
   "source": [
    "np.mean(l2_cross)"
   ]
  },
  {
   "cell_type": "code",
   "execution_count": null,
   "id": "dab88708",
   "metadata": {},
   "outputs": [],
   "source": []
  }
 ],
 "metadata": {
  "kernelspec": {
   "display_name": "Python 3 (ipykernel)",
   "language": "python",
   "name": "python3"
  },
  "language_info": {
   "codemirror_mode": {
    "name": "ipython",
    "version": 3
   },
   "file_extension": ".py",
   "mimetype": "text/x-python",
   "name": "python",
   "nbconvert_exporter": "python",
   "pygments_lexer": "ipython3",
   "version": "3.11.3"
  }
 },
 "nbformat": 4,
 "nbformat_minor": 5
}
