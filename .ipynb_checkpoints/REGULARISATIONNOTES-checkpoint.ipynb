{
 "cells": [
  {
   "cell_type": "raw",
   "id": "b26fbe26",
   "metadata": {},
   "source": [
    "Regularisation:- It is used to reduce the overfitting problem.\n",
    "    \n",
    "    There are 2 types of problem to create the model:-\n",
    "        1.Underfitting:- It means the features given to the model are less\n",
    "            underfit means it will give you high error and bias decision making\n",
    "            If Training score of the model is less then testing score of the model it is called underfit\n",
    "            To remove the underfit we can add some extra features to the model and we can solve the error\n",
    "        2.Overfitting:- It means when more features are given to the model\n",
    "            Variance is called as overfitting\n",
    "            If the training score of the model is more then testing score of the model.\n",
    "            if the training score is 100% and the testing score is 95% and  above then the model is good.\n",
    "            But, if the training scoer is 100% and testting score is 90% then the model is Overfit\n",
    "            To remove the overfit probelm we have to use Regaularisation\n",
    "        "
   ]
  },
  {
   "cell_type": "raw",
   "id": "ecc0e494",
   "metadata": {},
   "source": [
    "TO add the error between training data and testing data to make the best fit line training and testing we use Hyper-paramet\n",
    "Hyper-parameter: It is denoted by lambda or alpha\n",
    "There are 2 types of Regularisation\n",
    "    1.Lasso Regularisation means L1\n",
    "    2.Ridge Regularisation means L2\n",
    "    \n",
    "  RSS+add external error   On training time\n",
    "  Lasso Regularisation\n",
    "  RSS+Lambda*Eabs(sum of all the slopes(theta))------> Lasso(L1)\n",
    "      E=stands for summission\n",
    "      Lambda=Value of lambda is higher, Range 200-1000\n",
    "      \n",
    "  Ridge Regualrisation\n",
    "  RSS+Lambda*E((Sum of all the slope)^2)\n",
    "      E=stands for summission\n",
    "      ^= stands for the power\n",
    "      Lambda=value of lambda is lower, Range 0-50"
   ]
  }
 ],
 "metadata": {
  "kernelspec": {
   "display_name": "Python 3 (ipykernel)",
   "language": "python",
   "name": "python3"
  },
  "language_info": {
   "codemirror_mode": {
    "name": "ipython",
    "version": 3
   },
   "file_extension": ".py",
   "mimetype": "text/x-python",
   "name": "python",
   "nbconvert_exporter": "python",
   "pygments_lexer": "ipython3",
   "version": "3.11.3"
  }
 },
 "nbformat": 4,
 "nbformat_minor": 5
}
