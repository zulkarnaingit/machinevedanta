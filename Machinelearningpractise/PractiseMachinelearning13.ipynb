{
 "cells": [
  {
   "cell_type": "code",
   "execution_count": 1,
   "id": "c5ed52f8",
   "metadata": {},
   "outputs": [],
   "source": [
    "import pandas as pd\n",
    "import seaborn as sb\n",
    "import numpy as np\n",
    "import matplotlib.pyplot as plt\n",
    "import warnings\n",
    "warnings.filterwarnings('ignore')"
   ]
  },
  {
   "cell_type": "code",
   "execution_count": 4,
   "id": "2387aca7",
   "metadata": {},
   "outputs": [
    {
     "data": {
      "text/html": [
       "<div>\n",
       "<style scoped>\n",
       "    .dataframe tbody tr th:only-of-type {\n",
       "        vertical-align: middle;\n",
       "    }\n",
       "\n",
       "    .dataframe tbody tr th {\n",
       "        vertical-align: top;\n",
       "    }\n",
       "\n",
       "    .dataframe thead th {\n",
       "        text-align: right;\n",
       "    }\n",
       "</style>\n",
       "<table border=\"1\" class=\"dataframe\">\n",
       "  <thead>\n",
       "    <tr style=\"text-align: right;\">\n",
       "      <th></th>\n",
       "      <th>sepal_length</th>\n",
       "      <th>sepal_width</th>\n",
       "      <th>petal_length</th>\n",
       "      <th>petal_width</th>\n",
       "      <th>species</th>\n",
       "    </tr>\n",
       "  </thead>\n",
       "  <tbody>\n",
       "    <tr>\n",
       "      <th>0</th>\n",
       "      <td>5.1</td>\n",
       "      <td>3.5</td>\n",
       "      <td>1.4</td>\n",
       "      <td>0.2</td>\n",
       "      <td>setosa</td>\n",
       "    </tr>\n",
       "    <tr>\n",
       "      <th>1</th>\n",
       "      <td>4.9</td>\n",
       "      <td>3.0</td>\n",
       "      <td>1.4</td>\n",
       "      <td>0.2</td>\n",
       "      <td>setosa</td>\n",
       "    </tr>\n",
       "    <tr>\n",
       "      <th>2</th>\n",
       "      <td>4.7</td>\n",
       "      <td>3.2</td>\n",
       "      <td>1.3</td>\n",
       "      <td>0.2</td>\n",
       "      <td>setosa</td>\n",
       "    </tr>\n",
       "    <tr>\n",
       "      <th>3</th>\n",
       "      <td>4.6</td>\n",
       "      <td>3.1</td>\n",
       "      <td>1.5</td>\n",
       "      <td>0.2</td>\n",
       "      <td>setosa</td>\n",
       "    </tr>\n",
       "    <tr>\n",
       "      <th>4</th>\n",
       "      <td>5.0</td>\n",
       "      <td>3.6</td>\n",
       "      <td>1.4</td>\n",
       "      <td>0.2</td>\n",
       "      <td>setosa</td>\n",
       "    </tr>\n",
       "    <tr>\n",
       "      <th>...</th>\n",
       "      <td>...</td>\n",
       "      <td>...</td>\n",
       "      <td>...</td>\n",
       "      <td>...</td>\n",
       "      <td>...</td>\n",
       "    </tr>\n",
       "    <tr>\n",
       "      <th>145</th>\n",
       "      <td>6.7</td>\n",
       "      <td>3.0</td>\n",
       "      <td>5.2</td>\n",
       "      <td>2.3</td>\n",
       "      <td>virginica</td>\n",
       "    </tr>\n",
       "    <tr>\n",
       "      <th>146</th>\n",
       "      <td>6.3</td>\n",
       "      <td>2.5</td>\n",
       "      <td>5.0</td>\n",
       "      <td>1.9</td>\n",
       "      <td>virginica</td>\n",
       "    </tr>\n",
       "    <tr>\n",
       "      <th>147</th>\n",
       "      <td>6.5</td>\n",
       "      <td>3.0</td>\n",
       "      <td>5.2</td>\n",
       "      <td>2.0</td>\n",
       "      <td>virginica</td>\n",
       "    </tr>\n",
       "    <tr>\n",
       "      <th>148</th>\n",
       "      <td>6.2</td>\n",
       "      <td>3.4</td>\n",
       "      <td>5.4</td>\n",
       "      <td>2.3</td>\n",
       "      <td>virginica</td>\n",
       "    </tr>\n",
       "    <tr>\n",
       "      <th>149</th>\n",
       "      <td>5.9</td>\n",
       "      <td>3.0</td>\n",
       "      <td>5.1</td>\n",
       "      <td>1.8</td>\n",
       "      <td>virginica</td>\n",
       "    </tr>\n",
       "  </tbody>\n",
       "</table>\n",
       "<p>150 rows × 5 columns</p>\n",
       "</div>"
      ],
      "text/plain": [
       "     sepal_length  sepal_width  petal_length  petal_width    species\n",
       "0             5.1          3.5           1.4          0.2     setosa\n",
       "1             4.9          3.0           1.4          0.2     setosa\n",
       "2             4.7          3.2           1.3          0.2     setosa\n",
       "3             4.6          3.1           1.5          0.2     setosa\n",
       "4             5.0          3.6           1.4          0.2     setosa\n",
       "..            ...          ...           ...          ...        ...\n",
       "145           6.7          3.0           5.2          2.3  virginica\n",
       "146           6.3          2.5           5.0          1.9  virginica\n",
       "147           6.5          3.0           5.2          2.0  virginica\n",
       "148           6.2          3.4           5.4          2.3  virginica\n",
       "149           5.9          3.0           5.1          1.8  virginica\n",
       "\n",
       "[150 rows x 5 columns]"
      ]
     },
     "execution_count": 4,
     "metadata": {},
     "output_type": "execute_result"
    }
   ],
   "source": [
    "df=pd.read_csv('iris.csv')\n",
    "df"
   ]
  },
  {
   "cell_type": "code",
   "execution_count": 5,
   "id": "17985cf9",
   "metadata": {},
   "outputs": [
    {
     "data": {
      "text/plain": [
       "sepal_length    float64\n",
       "sepal_width     float64\n",
       "petal_length    float64\n",
       "petal_width     float64\n",
       "species          object\n",
       "dtype: object"
      ]
     },
     "execution_count": 5,
     "metadata": {},
     "output_type": "execute_result"
    }
   ],
   "source": [
    "df.dtypes"
   ]
  },
  {
   "cell_type": "code",
   "execution_count": 6,
   "id": "0ba02295",
   "metadata": {},
   "outputs": [
    {
     "data": {
      "text/plain": [
       "sepal_length    0.0\n",
       "sepal_width     0.0\n",
       "petal_length    0.0\n",
       "petal_width     0.0\n",
       "species         0.0\n",
       "dtype: float64"
      ]
     },
     "execution_count": 6,
     "metadata": {},
     "output_type": "execute_result"
    }
   ],
   "source": [
    "df.isnull().sum()/df.shape[0]*100"
   ]
  },
  {
   "cell_type": "code",
   "execution_count": 7,
   "id": "d5b2a408",
   "metadata": {},
   "outputs": [
    {
     "data": {
      "text/plain": [
       "<Axes: >"
      ]
     },
     "execution_count": 7,
     "metadata": {},
     "output_type": "execute_result"
    },
    {
     "data": {
      "image/png": "[encoded data removed]",
      "text/plain": [
       "<Figure size 640x480 with 2 Axes>"
      ]
     },
     "metadata": {},
     "output_type": "display_data"
    }
   ],
   "source": [
    "sb.heatmap(df.isnull())"
   ]
  },
  {
   "cell_type": "code",
   "execution_count": 9,
   "id": "3adeabef",
   "metadata": {},
   "outputs": [
    {
     "data": {
      "text/plain": [
       "<Axes: xlabel='sepal_width', ylabel='sepal_length'>"
      ]
     },
     "execution_count": 9,
     "metadata": {},
     "output_type": "execute_result"
    },
    {
     "data": {
      "image/png": "[encoded data removed]",
      "text/plain": [
       "<Figure size 640x480 with 1 Axes>"
      ]
     },
     "metadata": {},
     "output_type": "display_data"
    }
   ],
   "source": [
    "sb.scatterplot(data=df,x='sepal_width',y='sepal_length')"
   ]
  },
  {
   "cell_type": "code",
   "execution_count": 11,
   "id": "b95368bf",
   "metadata": {},
   "outputs": [
    {
     "data": {
      "text/plain": [
       "<Axes: >"
      ]
     },
     "execution_count": 11,
     "metadata": {},
     "output_type": "execute_result"
    },
    {
     "data": {
      "image/png": "[encoded data removed]",
      "text/plain": [
       "<Figure size 640x480 with 2 Axes>"
      ]
     },
     "metadata": {},
     "output_type": "display_data"
    }
   ],
   "source": [
    "sb.heatmap(df.corr(),annot=True)"
   ]
  },
  {
   "cell_type": "code",
   "execution_count": 19,
   "id": "18906dd0",
   "metadata": {},
   "outputs": [],
   "source": [
    "X=df[['petal_length','petal_width']]\n",
    "Y=df['sepal_length']"
   ]
  },
  {
   "cell_type": "code",
   "execution_count": 20,
   "id": "fab2582e",
   "metadata": {},
   "outputs": [],
   "source": [
    "from sklearn.model_selection import train_test_split"
   ]
  },
  {
   "cell_type": "code",
   "execution_count": 21,
   "id": "f0a0524d",
   "metadata": {},
   "outputs": [],
   "source": [
    "X_train,X_test,Y_train,Y_test=train_test_split(X,Y,test_size=0.3,random_state=1)"
   ]
  },
  {
   "cell_type": "code",
   "execution_count": 22,
   "id": "fc104776",
   "metadata": {},
   "outputs": [
    {
     "data": {
      "text/plain": [
       "(105, 2)"
      ]
     },
     "execution_count": 22,
     "metadata": {},
     "output_type": "execute_result"
    }
   ],
   "source": [
    "X_train.shape"
   ]
  },
  {
   "cell_type": "code",
   "execution_count": 23,
   "id": "5e43f497",
   "metadata": {},
   "outputs": [
    {
     "data": {
      "text/plain": [
       "(45, 2)"
      ]
     },
     "execution_count": 23,
     "metadata": {},
     "output_type": "execute_result"
    }
   ],
   "source": [
    "X_test.shape"
   ]
  },
  {
   "cell_type": "code",
   "execution_count": 24,
   "id": "4d50699b",
   "metadata": {},
   "outputs": [
    {
     "data": {
      "text/plain": [
       "(105,)"
      ]
     },
     "execution_count": 24,
     "metadata": {},
     "output_type": "execute_result"
    }
   ],
   "source": [
    "Y_train.shape"
   ]
  },
  {
   "cell_type": "code",
   "execution_count": 25,
   "id": "9758f321",
   "metadata": {},
   "outputs": [
    {
     "data": {
      "text/plain": [
       "(45,)"
      ]
     },
     "execution_count": 25,
     "metadata": {},
     "output_type": "execute_result"
    }
   ],
   "source": [
    "Y_test.shape"
   ]
  },
  {
   "cell_type": "code",
   "execution_count": 26,
   "id": "b5f37416",
   "metadata": {},
   "outputs": [],
   "source": [
    "from sklearn.preprocessing import StandardScaler\n",
    "ss=StandardScaler()\n",
    "\n",
    "X_train=ss.fit_transform(X_train)\n"
   ]
  },
  {
   "cell_type": "code",
   "execution_count": 28,
   "id": "41f061b5",
   "metadata": {},
   "outputs": [],
   "source": [
    "X_test=ss.transform(X_test)\n"
   ]
  },
  {
   "cell_type": "code",
   "execution_count": 29,
   "id": "8f582603",
   "metadata": {},
   "outputs": [
    {
     "data": {
      "text/plain": [
       "array([[ 1.77622921,  1.42370971],\n",
       "       [-1.14491883, -1.14263397],\n",
       "       [-1.3134466 , -1.27095115],\n",
       "       [-1.3134466 , -1.14263397],\n",
       "       [ 0.0909515 ,  0.26885505],\n",
       "       [-1.25727068, -1.27095115],\n",
       "       [-1.36962252, -1.27095115],\n",
       "       [ 1.66387736,  1.29539252],\n",
       "       [ 0.93359035,  1.16707534],\n",
       "       [ 1.43917367,  0.78212379],\n",
       "       [ 1.0459422 ,  1.29539252],\n",
       "       [ 0.59653481,  0.78212379],\n",
       "       [ 0.42800704,  0.52548942],\n",
       "       [ 1.66387736,  1.03875815],\n",
       "       [ 0.25947927,  0.01222068],\n",
       "       [-1.20109475, -1.27095115],\n",
       "       [ 0.70888666,  1.03875815],\n",
       "       [ 0.65271073,  0.78212379],\n",
       "       [-1.3134466 , -1.39926834],\n",
       "       [-1.36962252, -1.27095115],\n",
       "       [ 1.15829405,  1.29539252],\n",
       "       [-1.3134466 , -1.14263397],\n",
       "       [ 0.65271073,  0.78212379],\n",
       "       [ 0.76506258,  1.03875815],\n",
       "       [ 0.37183111,  0.26885505],\n",
       "       [ 0.42800704,  0.14053787],\n",
       "       [ 1.10211813,  1.68034407],\n",
       "       [ 0.59653481,  0.78212379],\n",
       "       [-1.20109475, -1.27095115],\n",
       "       [ 0.14712742, -0.24441368],\n",
       "       [ 0.31565519,  0.14053787],\n",
       "       [ 0.98976628,  0.78212379],\n",
       "       [-0.24610405, -0.24441368],\n",
       "       [ 1.2706459 ,  1.68034407],\n",
       "       [ 0.14712742,  0.14053787],\n",
       "       [-1.25727068, -1.27095115],\n",
       "       [-1.25727068, -1.27095115],\n",
       "       [-1.25727068, -1.39926834],\n",
       "       [ 1.10211813,  1.16707534],\n",
       "       [-1.36962252, -1.27095115],\n",
       "       [ 0.76506258,  0.52548942],\n",
       "       [ 0.87741443,  0.91044097],\n",
       "       [ 0.76506258,  0.78212379],\n",
       "       [-1.25727068, -1.27095115],\n",
       "       [-1.14491883, -0.8859996 ],\n",
       "       [ 0.20330334, -0.24441368],\n",
       "       [-1.25727068, -1.39926834],\n",
       "       [ 1.32682182,  0.91044097],\n",
       "       [ 0.31565519,  0.14053787],\n",
       "       [ 1.60770144,  1.16707534],\n",
       "       [ 0.82123851,  1.42370971],\n",
       "       [ 0.37183111,  0.14053787],\n",
       "       [ 0.93359035,  1.42370971],\n",
       "       [ 1.32682182,  1.68034407],\n",
       "       [-0.07757628,  0.14053787],\n",
       "       [-1.25727068, -1.01431679],\n",
       "       [ 0.0909515 ,  0.01222068],\n",
       "       [-1.36962252, -1.14263397],\n",
       "       [ 0.03477557, -0.1160965 ],\n",
       "       [ 0.65271073,  0.39717224],\n",
       "       [-1.20109475, -1.01431679],\n",
       "       [ 0.59653481,  0.26885505],\n",
       "       [-1.20109475, -0.75768242],\n",
       "       [-1.03256698, -1.27095115],\n",
       "       [ 1.0459422 ,  1.55202689],\n",
       "       [ 0.65271073,  1.03875815],\n",
       "       [ 1.21446997,  1.42370971],\n",
       "       [-1.3134466 , -1.27095115],\n",
       "       [-1.25727068, -1.01431679],\n",
       "       [ 0.59653481,  0.78212379],\n",
       "       [-1.25727068, -1.27095115],\n",
       "       [ 0.76506258,  0.91044097],\n",
       "       [-1.20109475, -1.27095115],\n",
       "       [ 0.82123851,  1.03875815],\n",
       "       [ 0.42800704,  0.6538066 ],\n",
       "       [-1.3134466 , -1.27095115],\n",
       "       [ 0.87741443,  1.42370971],\n",
       "       [-1.48197437, -1.39926834],\n",
       "       [ 0.20330334,  0.14053787],\n",
       "       [-1.3134466 , -1.27095115],\n",
       "       [-0.02140035, -0.24441368],\n",
       "       [-0.1337522 , -0.24441368],\n",
       "       [-1.3134466 , -1.27095115],\n",
       "       [-1.3134466 , -1.27095115],\n",
       "       [-0.24610405, -0.24441368],\n",
       "       [-1.5381503 , -1.27095115],\n",
       "       [ 0.25947927,  0.39717224],\n",
       "       [ 0.54035889,  0.26885505],\n",
       "       [-1.25727068, -1.27095115],\n",
       "       [ 0.54035889,  0.39717224],\n",
       "       [ 0.25947927,  0.14053787],\n",
       "       [ 0.42800704,  0.39717224],\n",
       "       [ 0.54035889,  0.26885505],\n",
       "       [ 0.76506258,  0.91044097],\n",
       "       [-1.14491883, -1.27095115],\n",
       "       [-1.20109475, -1.27095115],\n",
       "       [ 1.0459422 ,  0.26885505],\n",
       "       [ 0.14712742,  0.14053787],\n",
       "       [ 1.15829405,  0.52548942],\n",
       "       [-0.1337522 , -0.24441368],\n",
       "       [ 0.76506258,  0.39717224],\n",
       "       [ 0.98976628,  0.78212379],\n",
       "       [ 0.65271073,  0.39717224],\n",
       "       [ 1.0459422 ,  1.55202689],\n",
       "       [-1.3134466 , -1.39926834]])"
      ]
     },
     "execution_count": 29,
     "metadata": {},
     "output_type": "execute_result"
    }
   ],
   "source": [
    "X_train"
   ]
  },
  {
   "cell_type": "code",
   "execution_count": 30,
   "id": "76a30da7",
   "metadata": {},
   "outputs": [
    {
     "data": {
      "text/plain": [
       "array([[-1.42579845, -1.27095115],\n",
       "       [-0.41463182, -0.1160965 ],\n",
       "       [ 0.37183111,  0.26885505],\n",
       "       [-1.36962252, -1.01431679],\n",
       "       [ 1.49534959,  1.03875815],\n",
       "       [ 0.54035889,  0.52548942],\n",
       "       [ 0.76506258,  1.42370971],\n",
       "       [-1.03256698, -1.01431679],\n",
       "       [-1.20109475, -1.27095115],\n",
       "       [ 1.10211813,  1.42370971],\n",
       "       [ 0.25947927,  0.14053787],\n",
       "       [-1.14491883, -1.01431679],\n",
       "       [ 1.21446997,  1.16707534],\n",
       "       [ 0.42800704,  0.39717224],\n",
       "       [ 0.42800704,  0.39717224],\n",
       "       [-1.36962252, -1.27095115],\n",
       "       [ 0.14712742,  0.01222068],\n",
       "       [ 0.42800704,  0.39717224],\n",
       "       [-1.25727068, -1.01431679],\n",
       "       [-1.42579845, -1.27095115],\n",
       "       [ 0.37183111,  0.01222068],\n",
       "       [ 0.42800704,  0.39717224],\n",
       "       [ 0.70888666,  0.6538066 ],\n",
       "       [-1.36962252, -1.14263397],\n",
       "       [ 1.2706459 ,  0.78212379],\n",
       "       [ 0.20330334,  0.14053787],\n",
       "       [-1.3134466 , -1.27095115],\n",
       "       [-1.25727068, -1.14263397],\n",
       "       [ 0.54035889,  0.01222068],\n",
       "       [ 0.70888666,  0.91044097],\n",
       "       [ 0.48418296,  0.26885505],\n",
       "       [ 1.32682182,  1.42370971],\n",
       "       [ 0.0909515 , -0.1160965 ],\n",
       "       [ 1.0459422 ,  1.16707534],\n",
       "       [ 0.76506258,  1.55202689],\n",
       "       [-1.25727068, -1.27095115],\n",
       "       [ 0.14712742,  0.14053787],\n",
       "       [-1.3134466 , -1.27095115],\n",
       "       [ 0.48418296,  0.39717224],\n",
       "       [ 1.15829405,  0.78212379],\n",
       "       [ 0.98976628,  1.16707534],\n",
       "       [-1.3134466 , -1.14263397],\n",
       "       [ 0.70888666,  0.39717224],\n",
       "       [ 1.0459422 ,  0.78212379],\n",
       "       [ 0.48418296,  0.14053787]])"
      ]
     },
     "execution_count": 30,
     "metadata": {},
     "output_type": "execute_result"
    }
   ],
   "source": [
    "X_test"
   ]
  },
  {
   "cell_type": "code",
   "execution_count": 32,
   "id": "1c263286",
   "metadata": {},
   "outputs": [
    {
     "data": {
      "text/html": [
       "<style>#sk-container-id-1 {color: black;background-color: white;}#sk-container-id-1 pre{padding: 0;}#sk-container-id-1 div.sk-toggleable {background-color: white;}#sk-container-id-1 label.sk-toggleable__label {cursor: pointer;display: block;width: 100%;margin-bottom: 0;padding: 0.3em;box-sizing: border-box;text-align: center;}#sk-container-id-1 label.sk-toggleable__label-arrow:before {content: \"▸\";float: left;margin-right: 0.25em;color: #696969;}#sk-container-id-1 label.sk-toggleable__label-arrow:hover:before {color: black;}#sk-container-id-1 div.sk-estimator:hover label.sk-toggleable__label-arrow:before {color: black;}#sk-container-id-1 div.sk-toggleable__content {max-height: 0;max-width: 0;overflow: hidden;text-align: left;background-color: #f0f8ff;}#sk-container-id-1 div.sk-toggleable__content pre {margin: 0.2em;color: black;border-radius: 0.25em;background-color: #f0f8ff;}#sk-container-id-1 input.sk-toggleable__control:checked~div.sk-toggleable__content {max-height: 200px;max-width: 100%;overflow: auto;}#sk-container-id-1 input.sk-toggleable__control:checked~label.sk-toggleable__label-arrow:before {content: \"▾\";}#sk-container-id-1 div.sk-estimator input.sk-toggleable__control:checked~label.sk-toggleable__label {background-color: #d4ebff;}#sk-container-id-1 div.sk-label input.sk-toggleable__control:checked~label.sk-toggleable__label {background-color: #d4ebff;}#sk-container-id-1 input.sk-hidden--visually {border: 0;clip: rect(1px 1px 1px 1px);clip: rect(1px, 1px, 1px, 1px);height: 1px;margin: -1px;overflow: hidden;padding: 0;position: absolute;width: 1px;}#sk-container-id-1 div.sk-estimator {font-family: monospace;background-color: #f0f8ff;border: 1px dotted black;border-radius: 0.25em;box-sizing: border-box;margin-bottom: 0.5em;}#sk-container-id-1 div.sk-estimator:hover {background-color: #d4ebff;}#sk-container-id-1 div.sk-parallel-item::after {content: \"\";width: 100%;border-bottom: 1px solid gray;flex-grow: 1;}#sk-container-id-1 div.sk-label:hover label.sk-toggleable__label {background-color: #d4ebff;}#sk-container-id-1 div.sk-serial::before {content: \"\";position: absolute;border-left: 1px solid gray;box-sizing: border-box;top: 0;bottom: 0;left: 50%;z-index: 0;}#sk-container-id-1 div.sk-serial {display: flex;flex-direction: column;align-items: center;background-color: white;padding-right: 0.2em;padding-left: 0.2em;position: relative;}#sk-container-id-1 div.sk-item {position: relative;z-index: 1;}#sk-container-id-1 div.sk-parallel {display: flex;align-items: stretch;justify-content: center;background-color: white;position: relative;}#sk-container-id-1 div.sk-item::before, #sk-container-id-1 div.sk-parallel-item::before {content: \"\";position: absolute;border-left: 1px solid gray;box-sizing: border-box;top: 0;bottom: 0;left: 50%;z-index: -1;}#sk-container-id-1 div.sk-parallel-item {display: flex;flex-direction: column;z-index: 1;position: relative;background-color: white;}#sk-container-id-1 div.sk-parallel-item:first-child::after {align-self: flex-end;width: 50%;}#sk-container-id-1 div.sk-parallel-item:last-child::after {align-self: flex-start;width: 50%;}#sk-container-id-1 div.sk-parallel-item:only-child::after {width: 0;}#sk-container-id-1 div.sk-dashed-wrapped {border: 1px dashed gray;margin: 0 0.4em 0.5em 0.4em;box-sizing: border-box;padding-bottom: 0.4em;background-color: white;}#sk-container-id-1 div.sk-label label {font-family: monospace;font-weight: bold;display: inline-block;line-height: 1.2em;}#sk-container-id-1 div.sk-label-container {text-align: center;}#sk-container-id-1 div.sk-container {/* jupyter's `normalize.less` sets `[hidden] { display: none; }` but bootstrap.min.css set `[hidden] { display: none !important; }` so we also need the `!important` here to be able to override the default hidden behavior on the sphinx rendered scikit-learn.org. See: https://github.com/scikit-learn/scikit-learn/issues/21755 */display: inline-block !important;position: relative;}#sk-container-id-1 div.sk-text-repr-fallback {display: none;}</style><div id=\"sk-container-id-1\" class=\"sk-top-container\"><div class=\"sk-text-repr-fallback\"><pre>LinearRegression()</pre><b>In a Jupyter environment, please rerun this cell to show the HTML representation or trust the notebook. <br />On GitHub, the HTML representation is unable to render, please try loading this page with nbviewer.org.</b></div><div class=\"sk-container\" hidden><div class=\"sk-item\"><div class=\"sk-estimator sk-toggleable\"><input class=\"sk-toggleable__control sk-hidden--visually\" id=\"sk-estimator-id-1\" type=\"checkbox\" checked><label for=\"sk-estimator-id-1\" class=\"sk-toggleable__label sk-toggleable__label-arrow\">LinearRegression</label><div class=\"sk-toggleable__content\"><pre>LinearRegression()</pre></div></div></div></div></div>"
      ],
      "text/plain": [
       "LinearRegression()"
      ]
     },
     "execution_count": 32,
     "metadata": {},
     "output_type": "execute_result"
    }
   ],
   "source": [
    "from sklearn.linear_model import LinearRegression\n",
    "lr=LinearRegression()\n",
    "\n",
    "lr.fit(X_train,Y_train)"
   ]
  },
  {
   "cell_type": "code",
   "execution_count": 33,
   "id": "49922951",
   "metadata": {},
   "outputs": [
    {
     "data": {
      "text/plain": [
       "array([ 1.11330397, -0.3814527 ])"
      ]
     },
     "execution_count": 33,
     "metadata": {},
     "output_type": "execute_result"
    }
   ],
   "source": [
    "lr.coef_"
   ]
  },
  {
   "cell_type": "code",
   "execution_count": 34,
   "id": "3e44741e",
   "metadata": {},
   "outputs": [
    {
     "data": {
      "text/plain": [
       "5.8"
      ]
     },
     "execution_count": 34,
     "metadata": {},
     "output_type": "execute_result"
    }
   ],
   "source": [
    "lr.intercept_"
   ]
  },
  {
   "cell_type": "code",
   "execution_count": 35,
   "id": "b2384609",
   "metadata": {},
   "outputs": [
    {
     "data": {
      "text/plain": [
       "array([4.69746068, 5.38267408, 6.11140557, 4.66210769, 7.06854153,\n",
       "       6.20113433, 6.10866929, 5.03735296, 4.9476242 , 6.48391457,\n",
       "       6.03527075, 4.91227121, 6.7068902 , 6.12499951, 6.12499951,\n",
       "       4.76000156, 5.95913593, 6.12499951, 4.78718945, 4.69746068,\n",
       "       6.20929944, 6.12499951, 6.33981003, 4.71105463, 6.91627188,\n",
       "       5.97272987, 4.82254244, 4.83613638, 6.39692208, 6.24191616,\n",
       "       6.23648733, 6.73407808, 5.94554198, 6.51926756, 6.05972236,\n",
       "       4.88508332, 5.91018899, 4.82254244, 6.18754039, 6.79119013,\n",
       "       6.45672668, 4.77359551, 6.43770391, 6.66610837, 6.28543426])"
      ]
     },
     "execution_count": 35,
     "metadata": {},
     "output_type": "execute_result"
    }
   ],
   "source": [
    "ypred=lr.predict(X_test)\n",
    "ypred"
   ]
  },
  {
   "cell_type": "code",
   "execution_count": 37,
   "id": "25a69335",
   "metadata": {},
   "outputs": [
    {
     "data": {
      "text/html": [
       "<div>\n",
       "<style scoped>\n",
       "    .dataframe tbody tr th:only-of-type {\n",
       "        vertical-align: middle;\n",
       "    }\n",
       "\n",
       "    .dataframe tbody tr th {\n",
       "        vertical-align: top;\n",
       "    }\n",
       "\n",
       "    .dataframe thead th {\n",
       "        text-align: right;\n",
       "    }\n",
       "</style>\n",
       "<table border=\"1\" class=\"dataframe\">\n",
       "  <thead>\n",
       "    <tr style=\"text-align: right;\">\n",
       "      <th></th>\n",
       "      <th>Actual output</th>\n",
       "      <th>Predict output</th>\n",
       "    </tr>\n",
       "  </thead>\n",
       "  <tbody>\n",
       "    <tr>\n",
       "      <th>14</th>\n",
       "      <td>5.8</td>\n",
       "      <td>4.697461</td>\n",
       "    </tr>\n",
       "    <tr>\n",
       "      <th>98</th>\n",
       "      <td>5.1</td>\n",
       "      <td>5.382674</td>\n",
       "    </tr>\n",
       "    <tr>\n",
       "      <th>75</th>\n",
       "      <td>6.6</td>\n",
       "      <td>6.111406</td>\n",
       "    </tr>\n",
       "    <tr>\n",
       "      <th>16</th>\n",
       "      <td>5.4</td>\n",
       "      <td>4.662108</td>\n",
       "    </tr>\n",
       "    <tr>\n",
       "      <th>131</th>\n",
       "      <td>7.9</td>\n",
       "      <td>7.068542</td>\n",
       "    </tr>\n",
       "    <tr>\n",
       "      <th>56</th>\n",
       "      <td>6.3</td>\n",
       "      <td>6.201134</td>\n",
       "    </tr>\n",
       "    <tr>\n",
       "      <th>141</th>\n",
       "      <td>6.9</td>\n",
       "      <td>6.108669</td>\n",
       "    </tr>\n",
       "    <tr>\n",
       "      <th>44</th>\n",
       "      <td>5.1</td>\n",
       "      <td>5.037353</td>\n",
       "    </tr>\n",
       "    <tr>\n",
       "      <th>29</th>\n",
       "      <td>4.7</td>\n",
       "      <td>4.947624</td>\n",
       "    </tr>\n",
       "    <tr>\n",
       "      <th>120</th>\n",
       "      <td>6.9</td>\n",
       "      <td>6.483915</td>\n",
       "    </tr>\n",
       "    <tr>\n",
       "      <th>94</th>\n",
       "      <td>5.6</td>\n",
       "      <td>6.035271</td>\n",
       "    </tr>\n",
       "    <tr>\n",
       "      <th>5</th>\n",
       "      <td>5.4</td>\n",
       "      <td>4.912271</td>\n",
       "    </tr>\n",
       "    <tr>\n",
       "      <th>102</th>\n",
       "      <td>7.1</td>\n",
       "      <td>6.706890</td>\n",
       "    </tr>\n",
       "    <tr>\n",
       "      <th>51</th>\n",
       "      <td>6.4</td>\n",
       "      <td>6.125000</td>\n",
       "    </tr>\n",
       "    <tr>\n",
       "      <th>78</th>\n",
       "      <td>6.0</td>\n",
       "      <td>6.125000</td>\n",
       "    </tr>\n",
       "    <tr>\n",
       "      <th>42</th>\n",
       "      <td>4.4</td>\n",
       "      <td>4.760002</td>\n",
       "    </tr>\n",
       "    <tr>\n",
       "      <th>92</th>\n",
       "      <td>5.8</td>\n",
       "      <td>5.959136</td>\n",
       "    </tr>\n",
       "    <tr>\n",
       "      <th>66</th>\n",
       "      <td>5.6</td>\n",
       "      <td>6.125000</td>\n",
       "    </tr>\n",
       "    <tr>\n",
       "      <th>31</th>\n",
       "      <td>5.4</td>\n",
       "      <td>4.787189</td>\n",
       "    </tr>\n",
       "    <tr>\n",
       "      <th>35</th>\n",
       "      <td>5.0</td>\n",
       "      <td>4.697461</td>\n",
       "    </tr>\n",
       "    <tr>\n",
       "      <th>90</th>\n",
       "      <td>5.5</td>\n",
       "      <td>6.209299</td>\n",
       "    </tr>\n",
       "    <tr>\n",
       "      <th>84</th>\n",
       "      <td>5.4</td>\n",
       "      <td>6.125000</td>\n",
       "    </tr>\n",
       "    <tr>\n",
       "      <th>77</th>\n",
       "      <td>6.7</td>\n",
       "      <td>6.339810</td>\n",
       "    </tr>\n",
       "    <tr>\n",
       "      <th>40</th>\n",
       "      <td>5.0</td>\n",
       "      <td>4.711055</td>\n",
       "    </tr>\n",
       "    <tr>\n",
       "      <th>125</th>\n",
       "      <td>7.2</td>\n",
       "      <td>6.916272</td>\n",
       "    </tr>\n",
       "    <tr>\n",
       "      <th>99</th>\n",
       "      <td>5.7</td>\n",
       "      <td>5.972730</td>\n",
       "    </tr>\n",
       "    <tr>\n",
       "      <th>33</th>\n",
       "      <td>5.5</td>\n",
       "      <td>4.822542</td>\n",
       "    </tr>\n",
       "    <tr>\n",
       "      <th>19</th>\n",
       "      <td>5.1</td>\n",
       "      <td>4.836136</td>\n",
       "    </tr>\n",
       "    <tr>\n",
       "      <th>73</th>\n",
       "      <td>6.1</td>\n",
       "      <td>6.396922</td>\n",
       "    </tr>\n",
       "    <tr>\n",
       "      <th>146</th>\n",
       "      <td>6.3</td>\n",
       "      <td>6.241916</td>\n",
       "    </tr>\n",
       "    <tr>\n",
       "      <th>91</th>\n",
       "      <td>6.1</td>\n",
       "      <td>6.236487</td>\n",
       "    </tr>\n",
       "    <tr>\n",
       "      <th>135</th>\n",
       "      <td>7.7</td>\n",
       "      <td>6.734078</td>\n",
       "    </tr>\n",
       "    <tr>\n",
       "      <th>69</th>\n",
       "      <td>5.6</td>\n",
       "      <td>5.945542</td>\n",
       "    </tr>\n",
       "    <tr>\n",
       "      <th>128</th>\n",
       "      <td>6.4</td>\n",
       "      <td>6.519268</td>\n",
       "    </tr>\n",
       "    <tr>\n",
       "      <th>114</th>\n",
       "      <td>5.8</td>\n",
       "      <td>6.059722</td>\n",
       "    </tr>\n",
       "    <tr>\n",
       "      <th>48</th>\n",
       "      <td>5.3</td>\n",
       "      <td>4.885083</td>\n",
       "    </tr>\n",
       "    <tr>\n",
       "      <th>53</th>\n",
       "      <td>5.5</td>\n",
       "      <td>5.910189</td>\n",
       "    </tr>\n",
       "    <tr>\n",
       "      <th>28</th>\n",
       "      <td>5.2</td>\n",
       "      <td>4.822542</td>\n",
       "    </tr>\n",
       "    <tr>\n",
       "      <th>54</th>\n",
       "      <td>6.5</td>\n",
       "      <td>6.187540</td>\n",
       "    </tr>\n",
       "    <tr>\n",
       "      <th>108</th>\n",
       "      <td>6.7</td>\n",
       "      <td>6.791190</td>\n",
       "    </tr>\n",
       "    <tr>\n",
       "      <th>112</th>\n",
       "      <td>6.8</td>\n",
       "      <td>6.456727</td>\n",
       "    </tr>\n",
       "    <tr>\n",
       "      <th>17</th>\n",
       "      <td>5.1</td>\n",
       "      <td>4.773596</td>\n",
       "    </tr>\n",
       "    <tr>\n",
       "      <th>119</th>\n",
       "      <td>6.0</td>\n",
       "      <td>6.437704</td>\n",
       "    </tr>\n",
       "    <tr>\n",
       "      <th>103</th>\n",
       "      <td>6.3</td>\n",
       "      <td>6.666108</td>\n",
       "    </tr>\n",
       "    <tr>\n",
       "      <th>58</th>\n",
       "      <td>6.6</td>\n",
       "      <td>6.285434</td>\n",
       "    </tr>\n",
       "  </tbody>\n",
       "</table>\n",
       "</div>"
      ],
      "text/plain": [
       "     Actual output  Predict output\n",
       "14             5.8        4.697461\n",
       "98             5.1        5.382674\n",
       "75             6.6        6.111406\n",
       "16             5.4        4.662108\n",
       "131            7.9        7.068542\n",
       "56             6.3        6.201134\n",
       "141            6.9        6.108669\n",
       "44             5.1        5.037353\n",
       "29             4.7        4.947624\n",
       "120            6.9        6.483915\n",
       "94             5.6        6.035271\n",
       "5              5.4        4.912271\n",
       "102            7.1        6.706890\n",
       "51             6.4        6.125000\n",
       "78             6.0        6.125000\n",
       "42             4.4        4.760002\n",
       "92             5.8        5.959136\n",
       "66             5.6        6.125000\n",
       "31             5.4        4.787189\n",
       "35             5.0        4.697461\n",
       "90             5.5        6.209299\n",
       "84             5.4        6.125000\n",
       "77             6.7        6.339810\n",
       "40             5.0        4.711055\n",
       "125            7.2        6.916272\n",
       "99             5.7        5.972730\n",
       "33             5.5        4.822542\n",
       "19             5.1        4.836136\n",
       "73             6.1        6.396922\n",
       "146            6.3        6.241916\n",
       "91             6.1        6.236487\n",
       "135            7.7        6.734078\n",
       "69             5.6        5.945542\n",
       "128            6.4        6.519268\n",
       "114            5.8        6.059722\n",
       "48             5.3        4.885083\n",
       "53             5.5        5.910189\n",
       "28             5.2        4.822542\n",
       "54             6.5        6.187540\n",
       "108            6.7        6.791190\n",
       "112            6.8        6.456727\n",
       "17             5.1        4.773596\n",
       "119            6.0        6.437704\n",
       "103            6.3        6.666108\n",
       "58             6.6        6.285434"
      ]
     },
     "execution_count": 37,
     "metadata": {},
     "output_type": "execute_result"
    }
   ],
   "source": [
    "dict={\"Actual output\":Y_test,'Predict output':ypred}\n",
    "dd=pd.DataFrame(dict)\n",
    "dd"
   ]
  },
  {
   "cell_type": "code",
   "execution_count": null,
   "id": "454ad7ec",
   "metadata": {},
   "outputs": [],
   "source": []
  }
 ],
 "metadata": {
  "kernelspec": {
   "display_name": "Python 3 (ipykernel)",
   "language": "python",
   "name": "python3"
  },
  "language_info": {
   "codemirror_mode": {
    "name": "ipython",
    "version": 3
   },
   "file_extension": ".py",
   "mimetype": "text/x-python",
   "name": "python",
   "nbconvert_exporter": "python",
   "pygments_lexer": "ipython3",
   "version": "3.11.3"
  }
 },
 "nbformat": 4,
 "nbformat_minor": 5
}
