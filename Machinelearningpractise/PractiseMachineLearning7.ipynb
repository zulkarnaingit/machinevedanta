{
 "cells": [
  {
   "cell_type": "code",
   "execution_count": 1,
   "id": "52a5f9b3",
   "metadata": {},
   "outputs": [],
   "source": [
    "import pandas as pd\n",
    "import seaborn as sb\n",
    "import matplotlib.pyplot as plt\n",
    "import warnings\n",
    "warnings.filterwarnings('ignore')"
   ]
  },
  {
   "cell_type": "code",
   "execution_count": 2,
   "id": "ef400b78",
   "metadata": {},
   "outputs": [
    {
     "data": {
      "text/html": [
       "<div>\n",
       "<style scoped>\n",
       "    .dataframe tbody tr th:only-of-type {\n",
       "        vertical-align: middle;\n",
       "    }\n",
       "\n",
       "    .dataframe tbody tr th {\n",
       "        vertical-align: top;\n",
       "    }\n",
       "\n",
       "    .dataframe thead th {\n",
       "        text-align: right;\n",
       "    }\n",
       "</style>\n",
       "<table border=\"1\" class=\"dataframe\">\n",
       "  <thead>\n",
       "    <tr style=\"text-align: right;\">\n",
       "      <th></th>\n",
       "      <th>Unnamed: 0</th>\n",
       "      <th>TV</th>\n",
       "      <th>radio</th>\n",
       "      <th>newspaper</th>\n",
       "      <th>sales</th>\n",
       "    </tr>\n",
       "  </thead>\n",
       "  <tbody>\n",
       "    <tr>\n",
       "      <th>0</th>\n",
       "      <td>1</td>\n",
       "      <td>230.1</td>\n",
       "      <td>37.8</td>\n",
       "      <td>69.2</td>\n",
       "      <td>22.1</td>\n",
       "    </tr>\n",
       "    <tr>\n",
       "      <th>1</th>\n",
       "      <td>2</td>\n",
       "      <td>44.5</td>\n",
       "      <td>39.3</td>\n",
       "      <td>45.1</td>\n",
       "      <td>10.4</td>\n",
       "    </tr>\n",
       "    <tr>\n",
       "      <th>2</th>\n",
       "      <td>3</td>\n",
       "      <td>17.2</td>\n",
       "      <td>45.9</td>\n",
       "      <td>69.3</td>\n",
       "      <td>9.3</td>\n",
       "    </tr>\n",
       "    <tr>\n",
       "      <th>3</th>\n",
       "      <td>4</td>\n",
       "      <td>151.5</td>\n",
       "      <td>41.3</td>\n",
       "      <td>58.5</td>\n",
       "      <td>18.5</td>\n",
       "    </tr>\n",
       "    <tr>\n",
       "      <th>4</th>\n",
       "      <td>5</td>\n",
       "      <td>180.8</td>\n",
       "      <td>10.8</td>\n",
       "      <td>58.4</td>\n",
       "      <td>12.9</td>\n",
       "    </tr>\n",
       "    <tr>\n",
       "      <th>...</th>\n",
       "      <td>...</td>\n",
       "      <td>...</td>\n",
       "      <td>...</td>\n",
       "      <td>...</td>\n",
       "      <td>...</td>\n",
       "    </tr>\n",
       "    <tr>\n",
       "      <th>195</th>\n",
       "      <td>196</td>\n",
       "      <td>38.2</td>\n",
       "      <td>3.7</td>\n",
       "      <td>13.8</td>\n",
       "      <td>7.6</td>\n",
       "    </tr>\n",
       "    <tr>\n",
       "      <th>196</th>\n",
       "      <td>197</td>\n",
       "      <td>94.2</td>\n",
       "      <td>4.9</td>\n",
       "      <td>8.1</td>\n",
       "      <td>9.7</td>\n",
       "    </tr>\n",
       "    <tr>\n",
       "      <th>197</th>\n",
       "      <td>198</td>\n",
       "      <td>177.0</td>\n",
       "      <td>9.3</td>\n",
       "      <td>6.4</td>\n",
       "      <td>12.8</td>\n",
       "    </tr>\n",
       "    <tr>\n",
       "      <th>198</th>\n",
       "      <td>199</td>\n",
       "      <td>283.6</td>\n",
       "      <td>42.0</td>\n",
       "      <td>66.2</td>\n",
       "      <td>25.5</td>\n",
       "    </tr>\n",
       "    <tr>\n",
       "      <th>199</th>\n",
       "      <td>200</td>\n",
       "      <td>232.1</td>\n",
       "      <td>8.6</td>\n",
       "      <td>8.7</td>\n",
       "      <td>13.4</td>\n",
       "    </tr>\n",
       "  </tbody>\n",
       "</table>\n",
       "<p>200 rows × 5 columns</p>\n",
       "</div>"
      ],
      "text/plain": [
       "     Unnamed: 0     TV  radio  newspaper  sales\n",
       "0             1  230.1   37.8       69.2   22.1\n",
       "1             2   44.5   39.3       45.1   10.4\n",
       "2             3   17.2   45.9       69.3    9.3\n",
       "3             4  151.5   41.3       58.5   18.5\n",
       "4             5  180.8   10.8       58.4   12.9\n",
       "..          ...    ...    ...        ...    ...\n",
       "195         196   38.2    3.7       13.8    7.6\n",
       "196         197   94.2    4.9        8.1    9.7\n",
       "197         198  177.0    9.3        6.4   12.8\n",
       "198         199  283.6   42.0       66.2   25.5\n",
       "199         200  232.1    8.6        8.7   13.4\n",
       "\n",
       "[200 rows x 5 columns]"
      ]
     },
     "execution_count": 2,
     "metadata": {},
     "output_type": "execute_result"
    }
   ],
   "source": [
    "df=pd.read_csv('advertising.csv')\n",
    "df"
   ]
  },
  {
   "cell_type": "code",
   "execution_count": 3,
   "id": "5aad8ee0",
   "metadata": {},
   "outputs": [],
   "source": [
    "df.drop('Unnamed: 0',axis=1,inplace=True)"
   ]
  },
  {
   "cell_type": "code",
   "execution_count": 4,
   "id": "bfc342c9",
   "metadata": {},
   "outputs": [
    {
     "data": {
      "text/html": [
       "<div>\n",
       "<style scoped>\n",
       "    .dataframe tbody tr th:only-of-type {\n",
       "        vertical-align: middle;\n",
       "    }\n",
       "\n",
       "    .dataframe tbody tr th {\n",
       "        vertical-align: top;\n",
       "    }\n",
       "\n",
       "    .dataframe thead th {\n",
       "        text-align: right;\n",
       "    }\n",
       "</style>\n",
       "<table border=\"1\" class=\"dataframe\">\n",
       "  <thead>\n",
       "    <tr style=\"text-align: right;\">\n",
       "      <th></th>\n",
       "      <th>TV</th>\n",
       "      <th>radio</th>\n",
       "      <th>newspaper</th>\n",
       "      <th>sales</th>\n",
       "    </tr>\n",
       "  </thead>\n",
       "  <tbody>\n",
       "    <tr>\n",
       "      <th>0</th>\n",
       "      <td>230.1</td>\n",
       "      <td>37.8</td>\n",
       "      <td>69.2</td>\n",
       "      <td>22.1</td>\n",
       "    </tr>\n",
       "    <tr>\n",
       "      <th>1</th>\n",
       "      <td>44.5</td>\n",
       "      <td>39.3</td>\n",
       "      <td>45.1</td>\n",
       "      <td>10.4</td>\n",
       "    </tr>\n",
       "    <tr>\n",
       "      <th>2</th>\n",
       "      <td>17.2</td>\n",
       "      <td>45.9</td>\n",
       "      <td>69.3</td>\n",
       "      <td>9.3</td>\n",
       "    </tr>\n",
       "    <tr>\n",
       "      <th>3</th>\n",
       "      <td>151.5</td>\n",
       "      <td>41.3</td>\n",
       "      <td>58.5</td>\n",
       "      <td>18.5</td>\n",
       "    </tr>\n",
       "    <tr>\n",
       "      <th>4</th>\n",
       "      <td>180.8</td>\n",
       "      <td>10.8</td>\n",
       "      <td>58.4</td>\n",
       "      <td>12.9</td>\n",
       "    </tr>\n",
       "    <tr>\n",
       "      <th>...</th>\n",
       "      <td>...</td>\n",
       "      <td>...</td>\n",
       "      <td>...</td>\n",
       "      <td>...</td>\n",
       "    </tr>\n",
       "    <tr>\n",
       "      <th>195</th>\n",
       "      <td>38.2</td>\n",
       "      <td>3.7</td>\n",
       "      <td>13.8</td>\n",
       "      <td>7.6</td>\n",
       "    </tr>\n",
       "    <tr>\n",
       "      <th>196</th>\n",
       "      <td>94.2</td>\n",
       "      <td>4.9</td>\n",
       "      <td>8.1</td>\n",
       "      <td>9.7</td>\n",
       "    </tr>\n",
       "    <tr>\n",
       "      <th>197</th>\n",
       "      <td>177.0</td>\n",
       "      <td>9.3</td>\n",
       "      <td>6.4</td>\n",
       "      <td>12.8</td>\n",
       "    </tr>\n",
       "    <tr>\n",
       "      <th>198</th>\n",
       "      <td>283.6</td>\n",
       "      <td>42.0</td>\n",
       "      <td>66.2</td>\n",
       "      <td>25.5</td>\n",
       "    </tr>\n",
       "    <tr>\n",
       "      <th>199</th>\n",
       "      <td>232.1</td>\n",
       "      <td>8.6</td>\n",
       "      <td>8.7</td>\n",
       "      <td>13.4</td>\n",
       "    </tr>\n",
       "  </tbody>\n",
       "</table>\n",
       "<p>200 rows × 4 columns</p>\n",
       "</div>"
      ],
      "text/plain": [
       "        TV  radio  newspaper  sales\n",
       "0    230.1   37.8       69.2   22.1\n",
       "1     44.5   39.3       45.1   10.4\n",
       "2     17.2   45.9       69.3    9.3\n",
       "3    151.5   41.3       58.5   18.5\n",
       "4    180.8   10.8       58.4   12.9\n",
       "..     ...    ...        ...    ...\n",
       "195   38.2    3.7       13.8    7.6\n",
       "196   94.2    4.9        8.1    9.7\n",
       "197  177.0    9.3        6.4   12.8\n",
       "198  283.6   42.0       66.2   25.5\n",
       "199  232.1    8.6        8.7   13.4\n",
       "\n",
       "[200 rows x 4 columns]"
      ]
     },
     "execution_count": 4,
     "metadata": {},
     "output_type": "execute_result"
    }
   ],
   "source": [
    "df"
   ]
  },
  {
   "cell_type": "code",
   "execution_count": 5,
   "id": "ba608adb",
   "metadata": {},
   "outputs": [
    {
     "data": {
      "text/plain": [
       "<Axes: >"
      ]
     },
     "execution_count": 5,
     "metadata": {},
     "output_type": "execute_result"
    },
    {
     "data": {
      "image/png": "[encoded data removed]",
      "text/plain": [
       "<Figure size 640x480 with 2 Axes>"
      ]
     },
     "metadata": {},
     "output_type": "display_data"
    }
   ],
   "source": [
    "sb.heatmap(df.isnull())"
   ]
  },
  {
   "cell_type": "code",
   "execution_count": 6,
   "id": "8574d8ec",
   "metadata": {},
   "outputs": [
    {
     "data": {
      "text/plain": [
       "(200, 4)"
      ]
     },
     "execution_count": 6,
     "metadata": {},
     "output_type": "execute_result"
    }
   ],
   "source": [
    "df.shape"
   ]
  },
  {
   "cell_type": "code",
   "execution_count": 7,
   "id": "2f28fadc",
   "metadata": {},
   "outputs": [
    {
     "data": {
      "text/plain": [
       "<Axes: xlabel='TV', ylabel='sales'>"
      ]
     },
     "execution_count": 7,
     "metadata": {},
     "output_type": "execute_result"
    },
    {
     "data": {
      "image/png": "[encoded data removed]",
      "text/plain": [
       "<Figure size 640x480 with 1 Axes>"
      ]
     },
     "metadata": {},
     "output_type": "display_data"
    }
   ],
   "source": [
    "sb.scatterplot(data=df,x='TV',y='sales')"
   ]
  },
  {
   "cell_type": "code",
   "execution_count": 8,
   "id": "da3a27a1",
   "metadata": {},
   "outputs": [
    {
     "data": {
      "text/plain": [
       "<Axes: xlabel='radio', ylabel='sales'>"
      ]
     },
     "execution_count": 8,
     "metadata": {},
     "output_type": "execute_result"
    },
    {
     "data": {
      "image/png": "[encoded data removed]",
      "text/plain": [
       "<Figure size 640x480 with 1 Axes>"
      ]
     },
     "metadata": {},
     "output_type": "display_data"
    }
   ],
   "source": [
    "sb.scatterplot(data=df,x='radio',y='sales')"
   ]
  },
  {
   "cell_type": "code",
   "execution_count": 9,
   "id": "d1aefe94",
   "metadata": {},
   "outputs": [
    {
     "data": {
      "text/plain": [
       "<Axes: xlabel='newspaper', ylabel='sales'>"
      ]
     },
     "execution_count": 9,
     "metadata": {},
     "output_type": "execute_result"
    },
    {
     "data": {
      "image/png": "[encoded data removed]",
      "text/plain": [
       "<Figure size 640x480 with 1 Axes>"
      ]
     },
     "metadata": {},
     "output_type": "display_data"
    }
   ],
   "source": [
    "sb.scatterplot(data=df,x='newspaper',y='sales')"
   ]
  },
  {
   "cell_type": "code",
   "execution_count": 10,
   "id": "a232415d",
   "metadata": {},
   "outputs": [
    {
     "data": {
      "text/plain": [
       "<Axes: >"
      ]
     },
     "execution_count": 10,
     "metadata": {},
     "output_type": "execute_result"
    },
    {
     "data": {
      "image/png": "[encoded data removed]",
      "text/plain": [
       "<Figure size 640x480 with 2 Axes>"
      ]
     },
     "metadata": {},
     "output_type": "display_data"
    }
   ],
   "source": [
    "sb.heatmap(df.corr(),annot=True)"
   ]
  },
  {
   "cell_type": "code",
   "execution_count": 11,
   "id": "c2b45de2",
   "metadata": {},
   "outputs": [],
   "source": [
    "X=df[['TV','radio','newspaper']]\n",
    "Y=df['sales']"
   ]
  },
  {
   "cell_type": "code",
   "execution_count": 12,
   "id": "6e9e3ceb",
   "metadata": {},
   "outputs": [],
   "source": [
    "from sklearn.model_selection import train_test_split\n",
    "X_train,X_test,Y_train,Y_test=train_test_split(X,Y,test_size=0.3,random_state=1)"
   ]
  },
  {
   "cell_type": "code",
   "execution_count": 13,
   "id": "a187d1a0",
   "metadata": {},
   "outputs": [
    {
     "data": {
      "text/plain": [
       "(140, 3)"
      ]
     },
     "execution_count": 13,
     "metadata": {},
     "output_type": "execute_result"
    }
   ],
   "source": [
    "X_train.shape"
   ]
  },
  {
   "cell_type": "code",
   "execution_count": 14,
   "id": "3739e888",
   "metadata": {},
   "outputs": [
    {
     "data": {
      "text/plain": [
       "(60, 3)"
      ]
     },
     "execution_count": 14,
     "metadata": {},
     "output_type": "execute_result"
    }
   ],
   "source": [
    "X_test.shape"
   ]
  },
  {
   "cell_type": "code",
   "execution_count": 15,
   "id": "22fd94cf",
   "metadata": {},
   "outputs": [
    {
     "data": {
      "text/plain": [
       "(140,)"
      ]
     },
     "execution_count": 15,
     "metadata": {},
     "output_type": "execute_result"
    }
   ],
   "source": [
    "Y_train.shape"
   ]
  },
  {
   "cell_type": "code",
   "execution_count": 16,
   "id": "e73e1ed9",
   "metadata": {},
   "outputs": [
    {
     "data": {
      "text/plain": [
       "(60,)"
      ]
     },
     "execution_count": 16,
     "metadata": {},
     "output_type": "execute_result"
    }
   ],
   "source": [
    "Y_test.shape"
   ]
  },
  {
   "cell_type": "code",
   "execution_count": 17,
   "id": "a43b9be3",
   "metadata": {},
   "outputs": [],
   "source": [
    "from sklearn.preprocessing import StandardScaler"
   ]
  },
  {
   "cell_type": "code",
   "execution_count": 18,
   "id": "c1f4e635",
   "metadata": {},
   "outputs": [],
   "source": [
    "ss=StandardScaler()"
   ]
  },
  {
   "cell_type": "code",
   "execution_count": 19,
   "id": "0a726155",
   "metadata": {},
   "outputs": [],
   "source": [
    "X_train=ss.fit_transform(X_train)"
   ]
  },
  {
   "cell_type": "code",
   "execution_count": 20,
   "id": "6718c868",
   "metadata": {},
   "outputs": [],
   "source": [
    "X_test=ss.transform(X_test)"
   ]
  },
  {
   "cell_type": "code",
   "execution_count": 21,
   "id": "46c97f0c",
   "metadata": {},
   "outputs": [
    {
     "data": {
      "text/plain": [
       "array([[-4.06353417e-02, -5.85620790e-01, -2.06132920e-01],\n",
       "       [-3.94804599e-02, -5.72468161e-01, -9.22250511e-01],\n",
       "       [-1.58586722e+00,  4.40284244e-01, -9.59451424e-01],\n",
       "       [ 1.74250219e+00,  2.95605329e-01, -1.31286011e+00],\n",
       "       [ 1.60160660e+00,  1.07818673e+00,  1.19820157e+00],\n",
       "       [-1.54775611e+00,  1.68978396e+00,  2.09102351e+00],\n",
       "       [-7.22015615e-01, -1.52603374e+00, -9.68751653e-01],\n",
       "       [-5.56488053e-02,  1.52537611e+00,  1.34700523e+00],\n",
       "       [ 9.75660659e-01, -4.86976075e-01,  9.23844836e-01],\n",
       "       [-1.28444306e+00,  9.17395847e-02, -1.29425965e+00],\n",
       "       [ 1.38564370e+00,  3.67944786e-01, -6.57194000e-01],\n",
       "       [ 8.17441850e-01,  1.30178142e+00,  1.75176446e-01],\n",
       "       [ 1.67320928e+00,  1.30178142e+00,  1.94221985e+00],\n",
       "       [-1.51310966e+00,  9.00626246e-01,  7.05289467e-01],\n",
       "       [-1.44150699e+00,  9.46660446e-01, -3.92137489e-01],\n",
       "       [ 7.72401459e-01, -1.71312988e-01, -8.98999940e-01],\n",
       "       [-1.37336896e+00,  7.82252588e-01,  1.66786311e+00],\n",
       "       [-7.65901124e-01, -1.47342322e+00, -7.08345256e-01],\n",
       "       [ 1.24936765e+00,  8.74320989e-01,  1.96547042e+00],\n",
       "       [-1.63828235e-02,  2.36418500e-01,  7.51790609e-01],\n",
       "       [ 5.20637222e-01, -1.38431416e-01, -9.54801310e-01],\n",
       "       [-9.72245508e-02, -1.20379434e+00, -9.64101539e-01],\n",
       "       [ 1.12117577e+00, -1.25640485e+00,  3.19329987e-01],\n",
       "       [ 9.38704440e-01, -1.36820219e+00, -6.71144343e-01],\n",
       "       [-7.76295060e-01, -8.15791791e-01, -1.11755531e+00],\n",
       "       [-5.22221060e-01, -1.02623385e+00, -1.06175394e+00],\n",
       "       [-7.78604824e-01, -1.91041931e-01,  1.14724961e-01],\n",
       "       [-1.55122076e+00,  2.62723757e-01, -1.29890976e+00],\n",
       "       [ 5.58748322e-01,  3.61368472e-01, -5.50241373e-01],\n",
       "       [ 3.73967231e-01, -4.63630159e-02,  6.82238187e-02],\n",
       "       [-8.68306144e-02,  1.21628933e+00,  7.37840267e-01],\n",
       "       [ 1.43414874e+00,  1.35439193e+00, -1.16405645e+00],\n",
       "       [-6.58497115e-01,  8.28286788e-01,  8.95944150e-01],\n",
       "       [-3.71706962e-02, -1.38793114e+00, -1.59631778e-01],\n",
       "       [ 3.30081722e-01,  1.08476305e+00,  3.56530900e-01],\n",
       "       [ 5.21792104e-01, -3.94907675e-01, -5.64191716e-01],\n",
       "       [-1.20706598e+00, -1.28271011e+00, -7.54846399e-01],\n",
       "       [ 3.95909986e-01, -9.14436506e-01, -1.09895485e+00],\n",
       "       [-1.20937574e+00,  1.12422093e+00, -8.43198569e-01],\n",
       "       [ 2.96590149e-01, -1.05911542e+00, -8.01347541e-01],\n",
       "       [-1.45305581e+00,  1.34781562e+00,  2.76063995e+00],\n",
       "       [ 1.09345860e+00, -1.19064171e+00, -3.03785319e-01],\n",
       "       [-1.31793463e+00, -1.42738902e+00,  1.37975532e-01],\n",
       "       [ 6.33815640e-01,  6.24749860e-03, -7.36245942e-01],\n",
       "       [-1.44959116e+00,  1.49249453e+00,  1.82596699e+00],\n",
       "       [ 6.51138868e-01,  4.86318444e-01,  4.03032043e-01],\n",
       "       [ 5.83000840e-01, -3.15991903e-01,  1.65856288e+00],\n",
       "       [ 1.59352243e+00, -6.11926047e-01,  3.23980101e-01],\n",
       "       [-9.84173788e-01,  6.30997359e-01, -3.03785319e-01],\n",
       "       [ 3.80896522e-01, -5.13281333e-01, -1.28495942e+00],\n",
       "       [ 1.00915223e+00,  9.59813075e-01,  1.82131688e+00],\n",
       "       [-1.60088068e+00, -7.63181277e-01, -1.13150565e+00],\n",
       "       [-2.56598242e-01,  3.48215843e-01, -7.36245942e-01],\n",
       "       [-8.51362378e-01, -9.14436506e-01, -1.35471113e+00],\n",
       "       [ 6.48829104e-01,  1.72266554e+00,  1.39350637e+00],\n",
       "       [ 7.40064768e-01, -1.18406539e+00, -4.94440002e-01],\n",
       "       [-6.28470187e-01,  1.50926414e-01,  2.01662168e+00],\n",
       "       [-1.64014666e+00,  1.07818673e+00, -9.92002224e-01],\n",
       "       [-6.12301842e-01, -8.74978620e-01,  2.63528616e-01],\n",
       "       [ 1.11540136e+00, -5.06705018e-01, -1.27080979e-01],\n",
       "       [ 8.16286968e-01,  9.17395847e-02, -7.87397198e-01],\n",
       "       [ 8.65946886e-01,  6.77031559e-01,  1.34700523e+00],\n",
       "       [ 1.16044175e+00,  1.69636028e+00,  6.63438439e-01],\n",
       "       [ 3.43940304e-01, -3.35720846e-01,  3.10229049e-02],\n",
       "       [-4.40224451e-01, -1.15118382e+00,  2.03077131e-01],\n",
       "       [-3.69776660e-01,  1.14394988e+00,  1.54231003e+00],\n",
       "       [ 1.60314095e-01, -1.35504957e+00, -1.01060268e+00],\n",
       "       [-2.79316417e-02, -1.40108377e+00, -9.78051881e-01],\n",
       "       [-2.94709342e-01, -5.59315533e-01, -1.14545599e+00],\n",
       "       [-8.84853951e-01, -1.14460751e+00, -2.71234520e-01],\n",
       "       [-5.25685706e-01, -1.42738902e+00, -1.52789467e-03],\n",
       "       [-8.58291669e-01,  1.40042613e+00,  2.58878502e-01],\n",
       "       [-9.99187251e-01, -1.15118382e+00, -1.54782373e-02],\n",
       "       [ 9.20226331e-01, -1.24325222e+00,  9.19194721e-01],\n",
       "       [-6.41173887e-01, -7.50028648e-01, -1.92182578e-01],\n",
       "       [ 9.88364359e-01, -4.14636618e-01, -1.78232235e-01],\n",
       "       [-1.55815005e+00,  1.03215253e+00,  9.56395635e-01],\n",
       "       [ 6.59223040e-01, -1.35504957e+00, -4.10737946e-01],\n",
       "       [-1.07078992e+00, -7.63181277e-01, -5.40941144e-01],\n",
       "       [ 1.10269766e+00,  7.29642074e-01, -1.15010611e+00],\n",
       "       [-2.50823833e-01, -9.73623335e-01,  8.68043465e-01],\n",
       "       [-1.09042291e+00,  1.56483399e+00, -1.00130245e+00],\n",
       "       [ 1.14311852e+00,  9.72965703e-01, -3.17735662e-01],\n",
       "       [ 1.65473117e+00, -6.11926047e-01, -1.22450794e+00],\n",
       "       [-1.34180769e-01,  1.28862879e+00, -5.26791511e-02],\n",
       "       [ 6.08408240e-01,  1.61086819e+00,  1.06334826e+00],\n",
       "       [ 3.95909986e-01,  6.70455245e-01,  4.03032043e-01],\n",
       "       [ 2.40000940e-01,  8.94049932e-01, -1.05245371e+00],\n",
       "       [ 1.30133733e+00,  2.42994814e-01, -1.14080588e+00],\n",
       "       [-7.65901124e-01,  2.29842185e-01, -3.59586690e-01],\n",
       "       [ 8.50933422e-01,  1.21628933e+00,  4.44883071e-01],\n",
       "       [ 2.09528559e-03,  4.00826358e-01, -8.10647769e-01],\n",
       "       [-1.33063833e+00, -1.42081271e+00, -4.33988517e-01],\n",
       "       [ 7.41219649e-01, -9.73623335e-01, -1.68932007e-01],\n",
       "       [-9.28739460e-01, -6.97418133e-01, -5.45591259e-01],\n",
       "       [ 1.01415122e-01,  1.18998408e+00,  1.32375466e+00],\n",
       "       [ 1.63509818e+00, -8.28944420e-01, -1.09895485e+00],\n",
       "       [-8.75614897e-01, -7.56604962e-01,  3.14679872e-01],\n",
       "       [-1.13199866e+00,  1.70655357e-01, -4.38638632e-01],\n",
       "       [ 1.41451575e+00, -1.33532062e+00,  6.02986954e-01],\n",
       "       [-1.19205251e+00,  1.17683145e+00, -1.12685554e+00],\n",
       "       [ 1.73441801e+00,  3.35063215e-01,  6.12287183e-01],\n",
       "       [-1.43111305e+00, -9.89735305e-02,  9.47095407e-01],\n",
       "       [-7.80914587e-01,  7.75676274e-01,  1.05404803e+00],\n",
       "       [ 1.54963692e+00,  1.68978396e+00,  5.47185584e-01],\n",
       "       [-1.54891100e+00, -1.38793114e+00, -1.35006102e+00],\n",
       "       [-1.03036906e+00, -1.39450745e+00, -4.01437718e-01],\n",
       "       [ 8.95973813e-01,  1.69636028e+00, -1.24775851e+00],\n",
       "       [-1.13430842e+00,  1.05845779e+00,  7.00639353e-01],\n",
       "       [-7.52817963e-02, -2.63381388e-01, -6.24643200e-01],\n",
       "       [-1.49578643e+00, -4.80399761e-01,  9.09894493e-01],\n",
       "       [ 1.36947536e+00,  1.28205248e+00,  1.14705032e+00],\n",
       "       [-4.62167205e-01,  4.20555301e-01, -1.00595257e+00],\n",
       "       [-2.60062887e-01, -2.37076131e-01, -8.57148912e-01],\n",
       "       [-5.60332160e-01, -1.20379434e+00, -1.01990291e+00],\n",
       "       [ 5.88775249e-01,  8.01981531e-01,  2.11892419e+00],\n",
       "       [-7.67056006e-01,  2.82452700e-01, -6.52543886e-01],\n",
       "       [ 6.33815640e-01, -1.29586274e+00, -1.12220542e+00],\n",
       "       [ 1.09345860e+00,  2.82452700e-01, -8.85049597e-01],\n",
       "       [ 6.59223040e-01, -1.32216799e+00,  2.12377360e-01],\n",
       "       [ 8.98283577e-01,  6.57302616e-01,  3.65831129e-01],\n",
       "       [ 8.17821311e-02, -1.44054165e+00, -2.66584405e-01],\n",
       "       [-5.63796806e-01,  1.33466299e+00,  9.51745521e-01],\n",
       "       [ 4.87145649e-01,  1.36096825e+00, -1.31751022e+00],\n",
       "       [ 1.12464041e+00, -1.04596279e+00, -9.92002224e-01],\n",
       "       [ 1.77483888e+00,  8.61168360e-01,  3.29540309e+00],\n",
       "       [ 8.74031059e-01,  2.95605329e-01,  1.08659883e+00],\n",
       "       [ 1.54732716e+00, -1.37477851e+00, -2.94485091e-01],\n",
       "       [ 1.38795347e+00, -1.29586274e+00, -4.89789888e-01],\n",
       "       [-1.22207944e+00,  1.01242359e+00,  1.65391277e+00],\n",
       "       [-3.80170596e-01, -5.85620790e-01,  7.75240471e-02],\n",
       "       [-9.59921269e-01, -7.36876019e-01,  6.07637068e-01],\n",
       "       [-5.37234524e-01, -5.52739218e-01,  4.12332271e-01],\n",
       "       [-1.44959116e+00, -1.25640485e+00,  7.28739329e-02],\n",
       "       [-3.08567924e-01, -1.01965754e+00, -3.22385776e-01],\n",
       "       [ 8.90199404e-01,  6.77031559e-01,  7.00639353e-01],\n",
       "       [ 1.51268070e+00,  3.74521100e-01,  1.37955603e+00],\n",
       "       [-1.33872251e+00,  6.44149987e-01, -4.99090116e-01],\n",
       "       [-8.00547578e-01, -4.08060303e-01, -7.96697427e-01],\n",
       "       [-7.85534115e-01,  1.72266554e+00,  7.28540038e-01]])"
      ]
     },
     "execution_count": 21,
     "metadata": {},
     "output_type": "execute_result"
    }
   ],
   "source": [
    "X_train"
   ]
  },
  {
   "cell_type": "code",
   "execution_count": 22,
   "id": "da162478",
   "metadata": {},
   "outputs": [
    {
     "data": {
      "text/plain": [
       "array([[ 7.86260040e-01,  1.73581816e+00,  3.56530900e-01],\n",
       "       [ 6.90404849e-01, -5.95156446e-02,  7.28739329e-02],\n",
       "       [-5.43008933e-01, -1.43396534e+00, -1.05245371e+00],\n",
       "       [ 1.58774802e+00, -8.61825991e-01, -4.01437718e-01],\n",
       "       [ 1.28285922e+00, -1.25278788e-01, -1.52789467e-03],\n",
       "       [ 1.62701400e+00,  1.23601828e+00,  1.68181345e+00],\n",
       "       [ 2.37691177e-01,  5.52081587e-01,  1.06334826e+00],\n",
       "       [ 4.39795495e-01, -8.15791791e-01,  1.31910454e+00],\n",
       "       [-8.32884269e-01, -4.73823447e-01,  5.00684441e-01],\n",
       "       [ 8.39384604e-01,  2.59764416e-02,  1.28190363e+00],\n",
       "       [ 2.51549758e-01, -1.51584045e-01,  8.07591980e-01],\n",
       "       [-8.49052615e-01, -1.77889302e-01, -5.45591259e-01],\n",
       "       [ 8.31300431e-01,  5.22816988e-02, -1.21055759e+00],\n",
       "       [-3.80170596e-01,  1.61744451e+00,  9.93596549e-01],\n",
       "       [ 9.59492313e-01, -9.86775963e-01,  1.23075237e+00],\n",
       "       [-1.96544387e-01,  9.00626246e-01,  2.28632830e+00],\n",
       "       [-1.27251478e-01, -3.15991903e-01,  2.12377360e-01],\n",
       "       [ 1.70901061e+00, -1.25640485e+00, -1.00130245e+00],\n",
       "       [-1.35258109e+00,  1.03872885e+00, -9.64101539e-01],\n",
       "       [ 7.85105159e-01,  4.13978986e-01, -9.64101539e-01],\n",
       "       [-4.88729487e-01, -8.94707563e-01, -1.22915805e+00],\n",
       "       [-8.65220960e-01,  8.80897303e-01,  3.90456805e+00],\n",
       "       [-1.35835550e+00,  1.64079042e-01,  6.16937297e-01],\n",
       "       [-4.07887760e-01, -6.05349733e-01, -8.89699711e-01],\n",
       "       [-3.44369260e-01, -3.81755046e-01,  3.98381928e-01],\n",
       "       [ 5.27566513e-01, -3.35720846e-01, -2.06132920e-01],\n",
       "       [-1.15047677e+00,  2.29842185e-01,  2.35627931e-01],\n",
       "       [ 1.22511513e+00,  2.56147443e-01, -3.31686004e-01],\n",
       "       [ 2.78112040e-01,  1.23601828e+00, -1.22915805e+00],\n",
       "       [ 1.12464041e+00, -4.27789246e-01, -3.31686004e-01],\n",
       "       [ 1.12233065e+00,  1.20313670e+00, -5.36291030e-01],\n",
       "       [ 1.05996703e+00, -1.30243905e+00,  2.54673470e+00],\n",
       "       [ 8.06272493e-02,  8.15134160e-01, -1.11755531e+00],\n",
       "       [ 3.17378022e-01, -1.01308122e+00,  2.40278045e-01],\n",
       "       [ 1.22049560e+00,  4.60013187e-01, -4.52588974e-01],\n",
       "       [ 4.87145649e-01, -1.45007731e-01, -3.73537032e-01],\n",
       "       [ 9.20226331e-01, -1.30243905e+00, -7.87397198e-01],\n",
       "       [-1.53813760e-01, -1.15118382e+00,  5.89235902e-02],\n",
       "       [ 8.55552950e-01,  1.36096825e+00, -1.31731093e-01],\n",
       "       [-1.42187400e+00, -2.04194560e-01, -6.06042744e-01],\n",
       "       [-1.49694131e+00, -1.49972848e+00, -2.06132920e-01],\n",
       "       [-6.04217669e-01, -1.50630479e+00, -3.17735662e-01],\n",
       "       [-1.43226793e+00, -7.30299705e-01, -3.08435433e-01],\n",
       "       [ 7.08882959e-01,  6.37573673e-01,  7.42490381e-01],\n",
       "       [-1.56392446e+00,  3.21910586e-01,  5.28585127e-01],\n",
       "       [ 5.29100856e-02,  4.57053845e-02, -5.08390345e-01],\n",
       "       [-7.45113251e-01,  1.55168136e+00,  2.07727245e-01],\n",
       "       [ 9.84899713e-01,  9.53236760e-01,  9.14743898e-02],\n",
       "       [ 7.19276895e-01,  1.43988402e+00, -4.85139774e-01],\n",
       "       [ 1.00222294e+00,  5.98115787e-01,  2.05382259e+00],\n",
       "       [ 1.69746180e+00,  1.25574722e+00,  9.84296320e-01],\n",
       "       [-2.26571315e-01,  7.49371017e-01, -8.19947998e-01],\n",
       "       [-1.42418376e+00, -4.73823447e-01, -3.59586690e-01],\n",
       "       [ 4.60583368e-01,  1.51222348e+00,  1.33305489e+00],\n",
       "       [ 1.41913528e+00, -2.10770874e-01, -1.38261182e+00],\n",
       "       [ 2.64253458e-01, -8.68402306e-01, -5.78142058e-01],\n",
       "       [ 8.75185940e-01, -1.17091276e+00, -1.22430864e-01],\n",
       "       [-1.35951038e+00, -8.02639163e-01, -1.54782373e-02],\n",
       "       [ 1.03224987e+00, -9.60470706e-01, -9.92002224e-01],\n",
       "       [-1.15163165e+00,  1.77231671e-01, -4.43288746e-01]])"
      ]
     },
     "execution_count": 22,
     "metadata": {},
     "output_type": "execute_result"
    }
   ],
   "source": [
    "X_test"
   ]
  },
  {
   "cell_type": "code",
   "execution_count": 23,
   "id": "98aa3cfe",
   "metadata": {},
   "outputs": [
    {
     "data": {
      "text/html": [
       "<style>#sk-container-id-1 {color: black;background-color: white;}#sk-container-id-1 pre{padding: 0;}#sk-container-id-1 div.sk-toggleable {background-color: white;}#sk-container-id-1 label.sk-toggleable__label {cursor: pointer;display: block;width: 100%;margin-bottom: 0;padding: 0.3em;box-sizing: border-box;text-align: center;}#sk-container-id-1 label.sk-toggleable__label-arrow:before {content: \"▸\";float: left;margin-right: 0.25em;color: #696969;}#sk-container-id-1 label.sk-toggleable__label-arrow:hover:before {color: black;}#sk-container-id-1 div.sk-estimator:hover label.sk-toggleable__label-arrow:before {color: black;}#sk-container-id-1 div.sk-toggleable__content {max-height: 0;max-width: 0;overflow: hidden;text-align: left;background-color: #f0f8ff;}#sk-container-id-1 div.sk-toggleable__content pre {margin: 0.2em;color: black;border-radius: 0.25em;background-color: #f0f8ff;}#sk-container-id-1 input.sk-toggleable__control:checked~div.sk-toggleable__content {max-height: 200px;max-width: 100%;overflow: auto;}#sk-container-id-1 input.sk-toggleable__control:checked~label.sk-toggleable__label-arrow:before {content: \"▾\";}#sk-container-id-1 div.sk-estimator input.sk-toggleable__control:checked~label.sk-toggleable__label {background-color: #d4ebff;}#sk-container-id-1 div.sk-label input.sk-toggleable__control:checked~label.sk-toggleable__label {background-color: #d4ebff;}#sk-container-id-1 input.sk-hidden--visually {border: 0;clip: rect(1px 1px 1px 1px);clip: rect(1px, 1px, 1px, 1px);height: 1px;margin: -1px;overflow: hidden;padding: 0;position: absolute;width: 1px;}#sk-container-id-1 div.sk-estimator {font-family: monospace;background-color: #f0f8ff;border: 1px dotted black;border-radius: 0.25em;box-sizing: border-box;margin-bottom: 0.5em;}#sk-container-id-1 div.sk-estimator:hover {background-color: #d4ebff;}#sk-container-id-1 div.sk-parallel-item::after {content: \"\";width: 100%;border-bottom: 1px solid gray;flex-grow: 1;}#sk-container-id-1 div.sk-label:hover label.sk-toggleable__label {background-color: #d4ebff;}#sk-container-id-1 div.sk-serial::before {content: \"\";position: absolute;border-left: 1px solid gray;box-sizing: border-box;top: 0;bottom: 0;left: 50%;z-index: 0;}#sk-container-id-1 div.sk-serial {display: flex;flex-direction: column;align-items: center;background-color: white;padding-right: 0.2em;padding-left: 0.2em;position: relative;}#sk-container-id-1 div.sk-item {position: relative;z-index: 1;}#sk-container-id-1 div.sk-parallel {display: flex;align-items: stretch;justify-content: center;background-color: white;position: relative;}#sk-container-id-1 div.sk-item::before, #sk-container-id-1 div.sk-parallel-item::before {content: \"\";position: absolute;border-left: 1px solid gray;box-sizing: border-box;top: 0;bottom: 0;left: 50%;z-index: -1;}#sk-container-id-1 div.sk-parallel-item {display: flex;flex-direction: column;z-index: 1;position: relative;background-color: white;}#sk-container-id-1 div.sk-parallel-item:first-child::after {align-self: flex-end;width: 50%;}#sk-container-id-1 div.sk-parallel-item:last-child::after {align-self: flex-start;width: 50%;}#sk-container-id-1 div.sk-parallel-item:only-child::after {width: 0;}#sk-container-id-1 div.sk-dashed-wrapped {border: 1px dashed gray;margin: 0 0.4em 0.5em 0.4em;box-sizing: border-box;padding-bottom: 0.4em;background-color: white;}#sk-container-id-1 div.sk-label label {font-family: monospace;font-weight: bold;display: inline-block;line-height: 1.2em;}#sk-container-id-1 div.sk-label-container {text-align: center;}#sk-container-id-1 div.sk-container {/* jupyter's `normalize.less` sets `[hidden] { display: none; }` but bootstrap.min.css set `[hidden] { display: none !important; }` so we also need the `!important` here to be able to override the default hidden behavior on the sphinx rendered scikit-learn.org. See: https://github.com/scikit-learn/scikit-learn/issues/21755 */display: inline-block !important;position: relative;}#sk-container-id-1 div.sk-text-repr-fallback {display: none;}</style><div id=\"sk-container-id-1\" class=\"sk-top-container\"><div class=\"sk-text-repr-fallback\"><pre>LinearRegression()</pre><b>In a Jupyter environment, please rerun this cell to show the HTML representation or trust the notebook. <br />On GitHub, the HTML representation is unable to render, please try loading this page with nbviewer.org.</b></div><div class=\"sk-container\" hidden><div class=\"sk-item\"><div class=\"sk-estimator sk-toggleable\"><input class=\"sk-toggleable__control sk-hidden--visually\" id=\"sk-estimator-id-1\" type=\"checkbox\" checked><label for=\"sk-estimator-id-1\" class=\"sk-toggleable__label sk-toggleable__label-arrow\">LinearRegression</label><div class=\"sk-toggleable__content\"><pre>LinearRegression()</pre></div></div></div></div></div>"
      ],
      "text/plain": [
       "LinearRegression()"
      ]
     },
     "execution_count": 23,
     "metadata": {},
     "output_type": "execute_result"
    }
   ],
   "source": [
    "from sklearn.linear_model import LinearRegression\n",
    "lr=LinearRegression()\n",
    "lr.fit(X_train,Y_train)"
   ]
  },
  {
   "cell_type": "code",
   "execution_count": 24,
   "id": "f1764aea",
   "metadata": {},
   "outputs": [
    {
     "name": "stdout",
     "output_type": "stream",
     "text": [
      "The coefficenet of  [4.06552835 2.68518849 0.03980877]\n"
     ]
    }
   ],
   "source": [
    "print(\"The coefficenet of \",lr.coef_)"
   ]
  },
  {
   "cell_type": "code",
   "execution_count": 25,
   "id": "64cd6f42",
   "metadata": {},
   "outputs": [
    {
     "name": "stdout",
     "output_type": "stream",
     "text": [
      "The intercept of  13.79142857142857\n"
     ]
    }
   ],
   "source": [
    "print(\"The intercept of \",lr.intercept_)"
   ]
  },
  {
   "cell_type": "code",
   "execution_count": 26,
   "id": "2c78604b",
   "metadata": {},
   "outputs": [
    {
     "name": "stdout",
     "output_type": "stream",
     "text": [
      "Predcited out put [21.66318307 16.44137936  7.69144625 17.9163172  18.67047113 23.79199311\n",
      " 16.2825425  13.44138683  9.15294033 17.32475313 14.43922876  9.84019547\n",
      " 17.26329945 16.62853147 15.09158705 15.50173894 12.43404074 17.32591521\n",
      " 11.04327486 18.05652777  9.35309526 12.79465958  8.73413846 10.47225333\n",
      " 11.38216042 15.02658554  9.7406823  19.44676903 18.19211174 17.20178728\n",
      " 21.56359539 14.70484262 16.2635213  12.37098906 19.97059316 15.36768988\n",
      " 14.00399515 10.0772945  20.91891557  7.43833283  3.67031166  7.27760354\n",
      "  5.99523188 18.41497546  8.31868226 14.1090252  14.93697583 20.35882814\n",
      " 20.56271636 19.55380813 24.10360923 14.84985778  6.71474914 19.77761567\n",
      " 18.93996367 12.5109195  14.20052652  6.10844697 15.3695344   9.56769111]\n"
     ]
    }
   ],
   "source": [
    "y_pred=lr.predict(X_test)\n",
    "print(\"Predcited out put\",y_pred)"
   ]
  },
  {
   "cell_type": "code",
   "execution_count": null,
   "id": "cf296252",
   "metadata": {},
   "outputs": [],
   "source": []
  },
  {
   "cell_type": "code",
   "execution_count": null,
   "id": "a1371e93",
   "metadata": {},
   "outputs": [],
   "source": []
  },
  {
   "cell_type": "code",
   "execution_count": 27,
   "id": "dc373265",
   "metadata": {},
   "outputs": [
    {
     "data": {
      "text/html": [
       "<div>\n",
       "<style scoped>\n",
       "    .dataframe tbody tr th:only-of-type {\n",
       "        vertical-align: middle;\n",
       "    }\n",
       "\n",
       "    .dataframe tbody tr th {\n",
       "        vertical-align: top;\n",
       "    }\n",
       "\n",
       "    .dataframe thead th {\n",
       "        text-align: right;\n",
       "    }\n",
       "</style>\n",
       "<table border=\"1\" class=\"dataframe\">\n",
       "  <thead>\n",
       "    <tr style=\"text-align: right;\">\n",
       "      <th></th>\n",
       "      <th>Actual ouput</th>\n",
       "      <th>Predict output</th>\n",
       "    </tr>\n",
       "  </thead>\n",
       "  <tbody>\n",
       "    <tr>\n",
       "      <th>58</th>\n",
       "      <td>23.8</td>\n",
       "      <td>21.663183</td>\n",
       "    </tr>\n",
       "    <tr>\n",
       "      <th>40</th>\n",
       "      <td>16.6</td>\n",
       "      <td>16.441379</td>\n",
       "    </tr>\n",
       "    <tr>\n",
       "      <th>34</th>\n",
       "      <td>9.5</td>\n",
       "      <td>7.691446</td>\n",
       "    </tr>\n",
       "    <tr>\n",
       "      <th>102</th>\n",
       "      <td>14.8</td>\n",
       "      <td>17.916317</td>\n",
       "    </tr>\n",
       "    <tr>\n",
       "      <th>184</th>\n",
       "      <td>17.6</td>\n",
       "      <td>18.670471</td>\n",
       "    </tr>\n",
       "    <tr>\n",
       "      <th>198</th>\n",
       "      <td>25.5</td>\n",
       "      <td>23.791993</td>\n",
       "    </tr>\n",
       "    <tr>\n",
       "      <th>95</th>\n",
       "      <td>16.9</td>\n",
       "      <td>16.282543</td>\n",
       "    </tr>\n",
       "    <tr>\n",
       "      <th>4</th>\n",
       "      <td>12.9</td>\n",
       "      <td>13.441387</td>\n",
       "    </tr>\n",
       "    <tr>\n",
       "      <th>29</th>\n",
       "      <td>10.5</td>\n",
       "      <td>9.152940</td>\n",
       "    </tr>\n",
       "    <tr>\n",
       "      <th>168</th>\n",
       "      <td>17.1</td>\n",
       "      <td>17.324753</td>\n",
       "    </tr>\n",
       "    <tr>\n",
       "      <th>171</th>\n",
       "      <td>14.5</td>\n",
       "      <td>14.439229</td>\n",
       "    </tr>\n",
       "    <tr>\n",
       "      <th>18</th>\n",
       "      <td>11.3</td>\n",
       "      <td>9.840195</td>\n",
       "    </tr>\n",
       "    <tr>\n",
       "      <th>11</th>\n",
       "      <td>17.4</td>\n",
       "      <td>17.263299</td>\n",
       "    </tr>\n",
       "    <tr>\n",
       "      <th>89</th>\n",
       "      <td>16.7</td>\n",
       "      <td>16.628531</td>\n",
       "    </tr>\n",
       "    <tr>\n",
       "      <th>110</th>\n",
       "      <td>13.4</td>\n",
       "      <td>15.091587</td>\n",
       "    </tr>\n",
       "    <tr>\n",
       "      <th>118</th>\n",
       "      <td>15.9</td>\n",
       "      <td>15.501739</td>\n",
       "    </tr>\n",
       "    <tr>\n",
       "      <th>159</th>\n",
       "      <td>12.9</td>\n",
       "      <td>12.434041</td>\n",
       "    </tr>\n",
       "    <tr>\n",
       "      <th>35</th>\n",
       "      <td>12.8</td>\n",
       "      <td>17.325915</td>\n",
       "    </tr>\n",
       "    <tr>\n",
       "      <th>136</th>\n",
       "      <td>9.5</td>\n",
       "      <td>11.043275</td>\n",
       "    </tr>\n",
       "    <tr>\n",
       "      <th>59</th>\n",
       "      <td>18.4</td>\n",
       "      <td>18.056528</td>\n",
       "    </tr>\n",
       "    <tr>\n",
       "      <th>51</th>\n",
       "      <td>10.7</td>\n",
       "      <td>9.353095</td>\n",
       "    </tr>\n",
       "    <tr>\n",
       "      <th>16</th>\n",
       "      <td>12.5</td>\n",
       "      <td>12.794660</td>\n",
       "    </tr>\n",
       "    <tr>\n",
       "      <th>44</th>\n",
       "      <td>8.5</td>\n",
       "      <td>8.734138</td>\n",
       "    </tr>\n",
       "    <tr>\n",
       "      <th>94</th>\n",
       "      <td>11.5</td>\n",
       "      <td>10.472253</td>\n",
       "    </tr>\n",
       "    <tr>\n",
       "      <th>31</th>\n",
       "      <td>11.9</td>\n",
       "      <td>11.382160</td>\n",
       "    </tr>\n",
       "    <tr>\n",
       "      <th>162</th>\n",
       "      <td>14.9</td>\n",
       "      <td>15.026586</td>\n",
       "    </tr>\n",
       "    <tr>\n",
       "      <th>38</th>\n",
       "      <td>10.1</td>\n",
       "      <td>9.740682</td>\n",
       "    </tr>\n",
       "    <tr>\n",
       "      <th>28</th>\n",
       "      <td>18.9</td>\n",
       "      <td>19.446769</td>\n",
       "    </tr>\n",
       "    <tr>\n",
       "      <th>193</th>\n",
       "      <td>19.6</td>\n",
       "      <td>18.192112</td>\n",
       "    </tr>\n",
       "    <tr>\n",
       "      <th>27</th>\n",
       "      <td>15.9</td>\n",
       "      <td>17.201787</td>\n",
       "    </tr>\n",
       "    <tr>\n",
       "      <th>47</th>\n",
       "      <td>23.2</td>\n",
       "      <td>21.563595</td>\n",
       "    </tr>\n",
       "    <tr>\n",
       "      <th>165</th>\n",
       "      <td>11.9</td>\n",
       "      <td>14.704843</td>\n",
       "    </tr>\n",
       "    <tr>\n",
       "      <th>194</th>\n",
       "      <td>17.3</td>\n",
       "      <td>16.263521</td>\n",
       "    </tr>\n",
       "    <tr>\n",
       "      <th>177</th>\n",
       "      <td>11.7</td>\n",
       "      <td>12.370989</td>\n",
       "    </tr>\n",
       "    <tr>\n",
       "      <th>176</th>\n",
       "      <td>20.2</td>\n",
       "      <td>19.970593</td>\n",
       "    </tr>\n",
       "    <tr>\n",
       "      <th>97</th>\n",
       "      <td>15.5</td>\n",
       "      <td>15.367690</td>\n",
       "    </tr>\n",
       "    <tr>\n",
       "      <th>174</th>\n",
       "      <td>11.5</td>\n",
       "      <td>14.003995</td>\n",
       "    </tr>\n",
       "    <tr>\n",
       "      <th>73</th>\n",
       "      <td>11.0</td>\n",
       "      <td>10.077294</td>\n",
       "    </tr>\n",
       "    <tr>\n",
       "      <th>69</th>\n",
       "      <td>22.3</td>\n",
       "      <td>20.918916</td>\n",
       "    </tr>\n",
       "    <tr>\n",
       "      <th>172</th>\n",
       "      <td>7.6</td>\n",
       "      <td>7.438333</td>\n",
       "    </tr>\n",
       "    <tr>\n",
       "      <th>108</th>\n",
       "      <td>5.3</td>\n",
       "      <td>3.670312</td>\n",
       "    </tr>\n",
       "    <tr>\n",
       "      <th>107</th>\n",
       "      <td>8.7</td>\n",
       "      <td>7.277604</td>\n",
       "    </tr>\n",
       "    <tr>\n",
       "      <th>189</th>\n",
       "      <td>6.7</td>\n",
       "      <td>5.995232</td>\n",
       "    </tr>\n",
       "    <tr>\n",
       "      <th>14</th>\n",
       "      <td>19.0</td>\n",
       "      <td>18.414975</td>\n",
       "    </tr>\n",
       "    <tr>\n",
       "      <th>56</th>\n",
       "      <td>5.5</td>\n",
       "      <td>8.318682</td>\n",
       "    </tr>\n",
       "    <tr>\n",
       "      <th>19</th>\n",
       "      <td>14.6</td>\n",
       "      <td>14.109025</td>\n",
       "    </tr>\n",
       "    <tr>\n",
       "      <th>114</th>\n",
       "      <td>14.6</td>\n",
       "      <td>14.936976</td>\n",
       "    </tr>\n",
       "    <tr>\n",
       "      <th>39</th>\n",
       "      <td>21.5</td>\n",
       "      <td>20.358828</td>\n",
       "    </tr>\n",
       "    <tr>\n",
       "      <th>185</th>\n",
       "      <td>22.6</td>\n",
       "      <td>20.562716</td>\n",
       "    </tr>\n",
       "    <tr>\n",
       "      <th>124</th>\n",
       "      <td>19.7</td>\n",
       "      <td>19.553808</td>\n",
       "    </tr>\n",
       "    <tr>\n",
       "      <th>98</th>\n",
       "      <td>25.4</td>\n",
       "      <td>24.103609</td>\n",
       "    </tr>\n",
       "    <tr>\n",
       "      <th>123</th>\n",
       "      <td>15.2</td>\n",
       "      <td>14.849858</td>\n",
       "    </tr>\n",
       "    <tr>\n",
       "      <th>119</th>\n",
       "      <td>6.6</td>\n",
       "      <td>6.714749</td>\n",
       "    </tr>\n",
       "    <tr>\n",
       "      <th>53</th>\n",
       "      <td>21.2</td>\n",
       "      <td>19.777616</td>\n",
       "    </tr>\n",
       "    <tr>\n",
       "      <th>33</th>\n",
       "      <td>17.4</td>\n",
       "      <td>18.939964</td>\n",
       "    </tr>\n",
       "    <tr>\n",
       "      <th>179</th>\n",
       "      <td>12.6</td>\n",
       "      <td>12.510919</td>\n",
       "    </tr>\n",
       "    <tr>\n",
       "      <th>181</th>\n",
       "      <td>12.2</td>\n",
       "      <td>14.200527</td>\n",
       "    </tr>\n",
       "    <tr>\n",
       "      <th>106</th>\n",
       "      <td>7.2</td>\n",
       "      <td>6.108447</td>\n",
       "    </tr>\n",
       "    <tr>\n",
       "      <th>199</th>\n",
       "      <td>13.4</td>\n",
       "      <td>15.369534</td>\n",
       "    </tr>\n",
       "    <tr>\n",
       "      <th>138</th>\n",
       "      <td>9.6</td>\n",
       "      <td>9.567691</td>\n",
       "    </tr>\n",
       "  </tbody>\n",
       "</table>\n",
       "</div>"
      ],
      "text/plain": [
       "     Actual ouput  Predict output\n",
       "58           23.8       21.663183\n",
       "40           16.6       16.441379\n",
       "34            9.5        7.691446\n",
       "102          14.8       17.916317\n",
       "184          17.6       18.670471\n",
       "198          25.5       23.791993\n",
       "95           16.9       16.282543\n",
       "4            12.9       13.441387\n",
       "29           10.5        9.152940\n",
       "168          17.1       17.324753\n",
       "171          14.5       14.439229\n",
       "18           11.3        9.840195\n",
       "11           17.4       17.263299\n",
       "89           16.7       16.628531\n",
       "110          13.4       15.091587\n",
       "118          15.9       15.501739\n",
       "159          12.9       12.434041\n",
       "35           12.8       17.325915\n",
       "136           9.5       11.043275\n",
       "59           18.4       18.056528\n",
       "51           10.7        9.353095\n",
       "16           12.5       12.794660\n",
       "44            8.5        8.734138\n",
       "94           11.5       10.472253\n",
       "31           11.9       11.382160\n",
       "162          14.9       15.026586\n",
       "38           10.1        9.740682\n",
       "28           18.9       19.446769\n",
       "193          19.6       18.192112\n",
       "27           15.9       17.201787\n",
       "47           23.2       21.563595\n",
       "165          11.9       14.704843\n",
       "194          17.3       16.263521\n",
       "177          11.7       12.370989\n",
       "176          20.2       19.970593\n",
       "97           15.5       15.367690\n",
       "174          11.5       14.003995\n",
       "73           11.0       10.077294\n",
       "69           22.3       20.918916\n",
       "172           7.6        7.438333\n",
       "108           5.3        3.670312\n",
       "107           8.7        7.277604\n",
       "189           6.7        5.995232\n",
       "14           19.0       18.414975\n",
       "56            5.5        8.318682\n",
       "19           14.6       14.109025\n",
       "114          14.6       14.936976\n",
       "39           21.5       20.358828\n",
       "185          22.6       20.562716\n",
       "124          19.7       19.553808\n",
       "98           25.4       24.103609\n",
       "123          15.2       14.849858\n",
       "119           6.6        6.714749\n",
       "53           21.2       19.777616\n",
       "33           17.4       18.939964\n",
       "179          12.6       12.510919\n",
       "181          12.2       14.200527\n",
       "106           7.2        6.108447\n",
       "199          13.4       15.369534\n",
       "138           9.6        9.567691"
      ]
     },
     "execution_count": 27,
     "metadata": {},
     "output_type": "execute_result"
    }
   ],
   "source": [
    "dict={\"Actual ouput\":Y_test,\"Predict output\":y_pred}\n",
    "df101=pd.DataFrame(dict)\n",
    "df101"
   ]
  },
  {
   "cell_type": "code",
   "execution_count": 28,
   "id": "50e19ea6",
   "metadata": {},
   "outputs": [],
   "source": [
    "from sklearn.metrics import mean_squared_error"
   ]
  },
  {
   "cell_type": "code",
   "execution_count": 29,
   "id": "fa64a5e0",
   "metadata": {},
   "outputs": [
    {
     "name": "stdout",
     "output_type": "stream",
     "text": [
      "mean squared error 1.9289249074665729\n"
     ]
    }
   ],
   "source": [
    "print(\"mean squared error\",mean_squared_error(Y_test,y_pred))"
   ]
  },
  {
   "cell_type": "code",
   "execution_count": 30,
   "id": "6326fc9c",
   "metadata": {},
   "outputs": [
    {
     "name": "stdout",
     "output_type": "stream",
     "text": [
      "root mean squared error 1.3888574107756968\n"
     ]
    }
   ],
   "source": [
    "import numpy as np\n",
    "mse=mean_squared_error(Y_test,y_pred)\n",
    "mse\n",
    "rmse=np.sqrt(mse)\n",
    "print(\"root mean squared error\",rmse)"
   ]
  },
  {
   "cell_type": "code",
   "execution_count": 31,
   "id": "301b44a9",
   "metadata": {},
   "outputs": [],
   "source": [
    "from sklearn.metrics import r2_score"
   ]
  },
  {
   "cell_type": "code",
   "execution_count": 32,
   "id": "5abf7157",
   "metadata": {},
   "outputs": [
    {
     "name": "stdout",
     "output_type": "stream",
     "text": [
      "r2_score 0.9224605706201435\n"
     ]
    }
   ],
   "source": [
    "print(\"r2_score\",r2_score(Y_test,y_pred))"
   ]
  },
  {
   "cell_type": "code",
   "execution_count": 33,
   "id": "88952dfc",
   "metadata": {},
   "outputs": [
    {
     "data": {
      "text/plain": [
       "58     2.136817\n",
       "40     0.158621\n",
       "34     1.808554\n",
       "102   -3.116317\n",
       "184   -1.070471\n",
       "198    1.708007\n",
       "95     0.617457\n",
       "4     -0.541387\n",
       "29     1.347060\n",
       "168   -0.224753\n",
       "171    0.060771\n",
       "18     1.459805\n",
       "11     0.136701\n",
       "89     0.071469\n",
       "110   -1.691587\n",
       "118    0.398261\n",
       "159    0.465959\n",
       "35    -4.525915\n",
       "136   -1.543275\n",
       "59     0.343472\n",
       "51     1.346905\n",
       "16    -0.294660\n",
       "44    -0.234138\n",
       "94     1.027747\n",
       "31     0.517840\n",
       "162   -0.126586\n",
       "38     0.359318\n",
       "28    -0.546769\n",
       "193    1.407888\n",
       "27    -1.301787\n",
       "47     1.636405\n",
       "165   -2.804843\n",
       "194    1.036479\n",
       "177   -0.670989\n",
       "176    0.229407\n",
       "97     0.132310\n",
       "174   -2.503995\n",
       "73     0.922706\n",
       "69     1.381084\n",
       "172    0.161667\n",
       "108    1.629688\n",
       "107    1.422396\n",
       "189    0.704768\n",
       "14     0.585025\n",
       "56    -2.818682\n",
       "19     0.490975\n",
       "114   -0.336976\n",
       "39     1.141172\n",
       "185    2.037284\n",
       "124    0.146192\n",
       "98     1.296391\n",
       "123    0.350142\n",
       "119   -0.114749\n",
       "53     1.422384\n",
       "33    -1.539964\n",
       "179    0.089081\n",
       "181   -2.000527\n",
       "106    1.091553\n",
       "199   -1.969534\n",
       "138    0.032309\n",
       "Name: sales, dtype: float64"
      ]
     },
     "execution_count": 33,
     "metadata": {},
     "output_type": "execute_result"
    }
   ],
   "source": [
    "residual_error=Y_test-y_pred\n",
    "residual_error"
   ]
  },
  {
   "cell_type": "code",
   "execution_count": 34,
   "id": "000301ef",
   "metadata": {},
   "outputs": [
    {
     "data": {
      "image/png": "[encoded data removed]",
      "text/plain": [
       "<Figure size 640x480 with 1 Axes>"
      ]
     },
     "metadata": {},
     "output_type": "display_data"
    }
   ],
   "source": [
    "plt.scatter(y_pred,residual_error)\n",
    "plt.ylabel('residualerror')\n",
    "plt.xlabel('Predicted')\n",
    "plt.show()"
   ]
  },
  {
   "cell_type": "code",
   "execution_count": 35,
   "id": "ab62cd8e",
   "metadata": {},
   "outputs": [
    {
     "data": {
      "text/plain": [
       "<Axes: xlabel='sales', ylabel='Count'>"
      ]
     },
     "execution_count": 35,
     "metadata": {},
     "output_type": "execute_result"
    },
    {
     "data": {
      "image/png": "[encoded data removed]",
      "text/plain": [
       "<Figure size 640x480 with 1 Axes>"
      ]
     },
     "metadata": {},
     "output_type": "display_data"
    }
   ],
   "source": [
    "sb.histplot(residual_error)"
   ]
  },
  {
   "cell_type": "code",
   "execution_count": 36,
   "id": "0a842457",
   "metadata": {},
   "outputs": [
    {
     "data": {
      "text/plain": [
       "<Axes: xlabel='sales', ylabel='Density'>"
      ]
     },
     "execution_count": 36,
     "metadata": {},
     "output_type": "execute_result"
    },
    {
     "data": {
      "image/png": "[encoded data removed]",
      "text/plain": [
       "<Figure size 640x480 with 1 Axes>"
      ]
     },
     "metadata": {},
     "output_type": "display_data"
    }
   ],
   "source": [
    "sb.distplot(residual_error)"
   ]
  },
  {
   "cell_type": "code",
   "execution_count": 37,
   "id": "d0391568",
   "metadata": {},
   "outputs": [
    {
     "data": {
      "text/plain": [
       "<Axes: xlabel='sales', ylabel='Density'>"
      ]
     },
     "execution_count": 37,
     "metadata": {},
     "output_type": "execute_result"
    },
    {
     "data": {
      "image/png": "[encoded data removed]",
      "text/plain": [
       "<Figure size 640x480 with 1 Axes>"
      ]
     },
     "metadata": {},
     "output_type": "display_data"
    }
   ],
   "source": [
    "sb.distplot(residual_error,hist=True)"
   ]
  },
  {
   "cell_type": "code",
   "execution_count": 38,
   "id": "6594f5b5",
   "metadata": {},
   "outputs": [
    {
     "name": "stdout",
     "output_type": "stream",
     "text": [
      "-1.0750712196045902\n"
     ]
    }
   ],
   "source": [
    "print(residual_error.skew())"
   ]
  },
  {
   "cell_type": "code",
   "execution_count": 39,
   "id": "8f5843a3",
   "metadata": {},
   "outputs": [
    {
     "data": {
      "text/plain": [
       "0.8850053786777522"
      ]
     },
     "execution_count": 39,
     "metadata": {},
     "output_type": "execute_result"
    }
   ],
   "source": [
    "lr.score(X_train,Y_train)"
   ]
  },
  {
   "cell_type": "code",
   "execution_count": 40,
   "id": "d514e437",
   "metadata": {},
   "outputs": [
    {
     "data": {
      "text/plain": [
       "0.9224605706201435"
      ]
     },
     "execution_count": 40,
     "metadata": {},
     "output_type": "execute_result"
    }
   ],
   "source": [
    "lr.score(X_test,Y_test)"
   ]
  },
  {
   "cell_type": "code",
   "execution_count": null,
   "id": "97a48680",
   "metadata": {},
   "outputs": [],
   "source": []
  },
  {
   "cell_type": "code",
   "execution_count": 41,
   "id": "f4cd1a5a",
   "metadata": {},
   "outputs": [],
   "source": [
    "# X=df[['TV','radio']] #input is 2d\n",
    "# Y=df['sales'] #output is "
   ]
  },
  {
   "cell_type": "code",
   "execution_count": null,
   "id": "eff48c8c",
   "metadata": {},
   "outputs": [],
   "source": []
  },
  {
   "cell_type": "code",
   "execution_count": null,
   "id": "e75a30f0",
   "metadata": {},
   "outputs": [],
   "source": []
  },
  {
   "cell_type": "code",
   "execution_count": null,
   "id": "becb42d3",
   "metadata": {},
   "outputs": [],
   "source": []
  },
  {
   "cell_type": "code",
   "execution_count": null,
   "id": "6c599179",
   "metadata": {},
   "outputs": [],
   "source": []
  },
  {
   "cell_type": "code",
   "execution_count": null,
   "id": "32ccfa17",
   "metadata": {},
   "outputs": [],
   "source": []
  },
  {
   "cell_type": "code",
   "execution_count": 42,
   "id": "ed4708e8",
   "metadata": {},
   "outputs": [],
   "source": [
    "X=df[['TV','radio']] #input is 2d\n",
    "Y=df['sales'] #output is 1D"
   ]
  },
  {
   "cell_type": "code",
   "execution_count": 43,
   "id": "5490fb69",
   "metadata": {},
   "outputs": [],
   "source": [
    "#increasing the degree of input x, so call polynomial features\n",
    "from sklearn.preprocessing import PolynomialFeatures"
   ]
  },
  {
   "cell_type": "code",
   "execution_count": 44,
   "id": "86dfe5ca",
   "metadata": {},
   "outputs": [],
   "source": [
    "#create an object  for Polynomial Features\n",
    "pf=PolynomialFeatures(4)"
   ]
  },
  {
   "cell_type": "code",
   "execution_count": 45,
   "id": "35a18d58",
   "metadata": {},
   "outputs": [],
   "source": [
    "X_poly=pf.fit_transform(X)\n"
   ]
  },
  {
   "cell_type": "code",
   "execution_count": 46,
   "id": "4695c564",
   "metadata": {},
   "outputs": [
    {
     "data": {
      "text/plain": [
       "array([[1.00000000e+00, 2.30100000e+02, 3.78000000e+01, ...,\n",
       "        7.56513769e+07, 1.24277360e+07, 2.04158375e+06],\n",
       "       [1.00000000e+00, 4.45000000e+01, 3.93000000e+01, ...,\n",
       "        3.05847632e+06, 2.70108134e+06, 2.38544936e+06],\n",
       "       [1.00000000e+00, 1.72000000e+01, 4.59000000e+01, ...,\n",
       "        6.23278670e+05, 1.66328436e+06, 4.43864838e+06],\n",
       "       ...,\n",
       "       [1.00000000e+00, 1.77000000e+02, 9.30000000e+00, ...,\n",
       "        2.70964521e+06, 1.42371189e+05, 7.48052010e+03],\n",
       "       [1.00000000e+00, 2.83600000e+02, 4.20000000e+01, ...,\n",
       "        1.41876685e+08, 2.10113568e+07, 3.11169600e+06],\n",
       "       [1.00000000e+00, 2.32100000e+02, 8.60000000e+00, ...,\n",
       "        3.98425552e+06, 1.47628598e+05, 5.47008160e+03]])"
      ]
     },
     "execution_count": 46,
     "metadata": {},
     "output_type": "execute_result"
    }
   ],
   "source": [
    "X_poly"
   ]
  },
  {
   "cell_type": "code",
   "execution_count": 47,
   "id": "0bb49d8d",
   "metadata": {},
   "outputs": [],
   "source": [
    "#now we will train the dat with 70% and tses it will 30%\n",
    "X_train,X_test,Y_train,Y_test=train_test_split(X_poly,Y,test_size=0.3,random_state=1)"
   ]
  },
  {
   "cell_type": "code",
   "execution_count": 48,
   "id": "aacf9cbe",
   "metadata": {},
   "outputs": [
    {
     "data": {
      "text/plain": [
       "(140, 15)"
      ]
     },
     "execution_count": 48,
     "metadata": {},
     "output_type": "execute_result"
    }
   ],
   "source": [
    "X_train.shape"
   ]
  },
  {
   "cell_type": "code",
   "execution_count": 49,
   "id": "7199238e",
   "metadata": {},
   "outputs": [
    {
     "data": {
      "text/plain": [
       "(60, 15)"
      ]
     },
     "execution_count": 49,
     "metadata": {},
     "output_type": "execute_result"
    }
   ],
   "source": [
    "X_test.shape"
   ]
  },
  {
   "cell_type": "code",
   "execution_count": 50,
   "id": "44b4dd08",
   "metadata": {},
   "outputs": [],
   "source": [
    "from sklearn.preprocessing import StandardScaler\n",
    "ss=StandardScaler()\n",
    "X_train=ss.fit_transform(X_train)"
   ]
  },
  {
   "cell_type": "code",
   "execution_count": 51,
   "id": "60240ce8",
   "metadata": {},
   "outputs": [],
   "source": [
    "X_test=ss.transform(X_test)"
   ]
  },
  {
   "cell_type": "code",
   "execution_count": 52,
   "id": "49e6cbee",
   "metadata": {},
   "outputs": [
    {
     "data": {
      "text/html": [
       "<style>#sk-container-id-2 {color: black;background-color: white;}#sk-container-id-2 pre{padding: 0;}#sk-container-id-2 div.sk-toggleable {background-color: white;}#sk-container-id-2 label.sk-toggleable__label {cursor: pointer;display: block;width: 100%;margin-bottom: 0;padding: 0.3em;box-sizing: border-box;text-align: center;}#sk-container-id-2 label.sk-toggleable__label-arrow:before {content: \"▸\";float: left;margin-right: 0.25em;color: #696969;}#sk-container-id-2 label.sk-toggleable__label-arrow:hover:before {color: black;}#sk-container-id-2 div.sk-estimator:hover label.sk-toggleable__label-arrow:before {color: black;}#sk-container-id-2 div.sk-toggleable__content {max-height: 0;max-width: 0;overflow: hidden;text-align: left;background-color: #f0f8ff;}#sk-container-id-2 div.sk-toggleable__content pre {margin: 0.2em;color: black;border-radius: 0.25em;background-color: #f0f8ff;}#sk-container-id-2 input.sk-toggleable__control:checked~div.sk-toggleable__content {max-height: 200px;max-width: 100%;overflow: auto;}#sk-container-id-2 input.sk-toggleable__control:checked~label.sk-toggleable__label-arrow:before {content: \"▾\";}#sk-container-id-2 div.sk-estimator input.sk-toggleable__control:checked~label.sk-toggleable__label {background-color: #d4ebff;}#sk-container-id-2 div.sk-label input.sk-toggleable__control:checked~label.sk-toggleable__label {background-color: #d4ebff;}#sk-container-id-2 input.sk-hidden--visually {border: 0;clip: rect(1px 1px 1px 1px);clip: rect(1px, 1px, 1px, 1px);height: 1px;margin: -1px;overflow: hidden;padding: 0;position: absolute;width: 1px;}#sk-container-id-2 div.sk-estimator {font-family: monospace;background-color: #f0f8ff;border: 1px dotted black;border-radius: 0.25em;box-sizing: border-box;margin-bottom: 0.5em;}#sk-container-id-2 div.sk-estimator:hover {background-color: #d4ebff;}#sk-container-id-2 div.sk-parallel-item::after {content: \"\";width: 100%;border-bottom: 1px solid gray;flex-grow: 1;}#sk-container-id-2 div.sk-label:hover label.sk-toggleable__label {background-color: #d4ebff;}#sk-container-id-2 div.sk-serial::before {content: \"\";position: absolute;border-left: 1px solid gray;box-sizing: border-box;top: 0;bottom: 0;left: 50%;z-index: 0;}#sk-container-id-2 div.sk-serial {display: flex;flex-direction: column;align-items: center;background-color: white;padding-right: 0.2em;padding-left: 0.2em;position: relative;}#sk-container-id-2 div.sk-item {position: relative;z-index: 1;}#sk-container-id-2 div.sk-parallel {display: flex;align-items: stretch;justify-content: center;background-color: white;position: relative;}#sk-container-id-2 div.sk-item::before, #sk-container-id-2 div.sk-parallel-item::before {content: \"\";position: absolute;border-left: 1px solid gray;box-sizing: border-box;top: 0;bottom: 0;left: 50%;z-index: -1;}#sk-container-id-2 div.sk-parallel-item {display: flex;flex-direction: column;z-index: 1;position: relative;background-color: white;}#sk-container-id-2 div.sk-parallel-item:first-child::after {align-self: flex-end;width: 50%;}#sk-container-id-2 div.sk-parallel-item:last-child::after {align-self: flex-start;width: 50%;}#sk-container-id-2 div.sk-parallel-item:only-child::after {width: 0;}#sk-container-id-2 div.sk-dashed-wrapped {border: 1px dashed gray;margin: 0 0.4em 0.5em 0.4em;box-sizing: border-box;padding-bottom: 0.4em;background-color: white;}#sk-container-id-2 div.sk-label label {font-family: monospace;font-weight: bold;display: inline-block;line-height: 1.2em;}#sk-container-id-2 div.sk-label-container {text-align: center;}#sk-container-id-2 div.sk-container {/* jupyter's `normalize.less` sets `[hidden] { display: none; }` but bootstrap.min.css set `[hidden] { display: none !important; }` so we also need the `!important` here to be able to override the default hidden behavior on the sphinx rendered scikit-learn.org. See: https://github.com/scikit-learn/scikit-learn/issues/21755 */display: inline-block !important;position: relative;}#sk-container-id-2 div.sk-text-repr-fallback {display: none;}</style><div id=\"sk-container-id-2\" class=\"sk-top-container\"><div class=\"sk-text-repr-fallback\"><pre>LinearRegression()</pre><b>In a Jupyter environment, please rerun this cell to show the HTML representation or trust the notebook. <br />On GitHub, the HTML representation is unable to render, please try loading this page with nbviewer.org.</b></div><div class=\"sk-container\" hidden><div class=\"sk-item\"><div class=\"sk-estimator sk-toggleable\"><input class=\"sk-toggleable__control sk-hidden--visually\" id=\"sk-estimator-id-2\" type=\"checkbox\" checked><label for=\"sk-estimator-id-2\" class=\"sk-toggleable__label sk-toggleable__label-arrow\">LinearRegression</label><div class=\"sk-toggleable__content\"><pre>LinearRegression()</pre></div></div></div></div></div>"
      ],
      "text/plain": [
       "LinearRegression()"
      ]
     },
     "execution_count": 52,
     "metadata": {},
     "output_type": "execute_result"
    }
   ],
   "source": [
    "from sklearn.linear_model import LinearRegression\n",
    "lr=LinearRegression()\n",
    "lr.fit(X_train,Y_train)"
   ]
  },
  {
   "cell_type": "code",
   "execution_count": 53,
   "id": "db4969b8",
   "metadata": {},
   "outputs": [
    {
     "data": {
      "text/plain": [
       "array([24.00113541, 16.28500615,  9.6623897 , 14.70778777, 17.88776593,\n",
       "       25.25788652, 16.79832134, 12.77360887, 10.53666691, 17.11742848,\n",
       "       14.60861917, 11.02682733, 17.19242709, 17.42233604, 13.1964066 ,\n",
       "       16.16296203, 13.10346535, 12.45524711,  8.83715505, 18.40341458,\n",
       "       10.76808396, 12.84943111,  7.83078246, 11.64080435, 12.36832513,\n",
       "       14.7530517 ,  9.80436133, 19.39919456, 19.21549429, 16.0890378 ,\n",
       "       23.07886558, 11.97033283, 17.01001612, 11.84983897, 20.25529007,\n",
       "       15.32460953, 11.77203453, 10.74724438, 22.50374462,  6.750594  ,\n",
       "        5.21764917,  9.47651313,  6.09987048, 18.92685918,  5.5162229 ,\n",
       "       14.65093097, 15.07131196, 21.35420009, 22.17263622, 19.98471565,\n",
       "       25.55786475, 15.64355315,  6.43555796, 21.18368301, 17.82123101,\n",
       "       12.23871559, 12.24906979,  6.72252068, 13.45806855,  9.72063939])"
      ]
     },
     "execution_count": 53,
     "metadata": {},
     "output_type": "execute_result"
    }
   ],
   "source": [
    "y_pred=lr.predict(X_test)\n",
    "y_pred"
   ]
  },
  {
   "cell_type": "code",
   "execution_count": 54,
   "id": "5e5ad269",
   "metadata": {},
   "outputs": [
    {
     "data": {
      "text/html": [
       "<div>\n",
       "<style scoped>\n",
       "    .dataframe tbody tr th:only-of-type {\n",
       "        vertical-align: middle;\n",
       "    }\n",
       "\n",
       "    .dataframe tbody tr th {\n",
       "        vertical-align: top;\n",
       "    }\n",
       "\n",
       "    .dataframe thead th {\n",
       "        text-align: right;\n",
       "    }\n",
       "</style>\n",
       "<table border=\"1\" class=\"dataframe\">\n",
       "  <thead>\n",
       "    <tr style=\"text-align: right;\">\n",
       "      <th></th>\n",
       "      <th>Actual Output</th>\n",
       "      <th>Predict output</th>\n",
       "    </tr>\n",
       "  </thead>\n",
       "  <tbody>\n",
       "    <tr>\n",
       "      <th>58</th>\n",
       "      <td>23.8</td>\n",
       "      <td>24.001135</td>\n",
       "    </tr>\n",
       "    <tr>\n",
       "      <th>40</th>\n",
       "      <td>16.6</td>\n",
       "      <td>16.285006</td>\n",
       "    </tr>\n",
       "    <tr>\n",
       "      <th>34</th>\n",
       "      <td>9.5</td>\n",
       "      <td>9.662390</td>\n",
       "    </tr>\n",
       "    <tr>\n",
       "      <th>102</th>\n",
       "      <td>14.8</td>\n",
       "      <td>14.707788</td>\n",
       "    </tr>\n",
       "    <tr>\n",
       "      <th>184</th>\n",
       "      <td>17.6</td>\n",
       "      <td>17.887766</td>\n",
       "    </tr>\n",
       "    <tr>\n",
       "      <th>198</th>\n",
       "      <td>25.5</td>\n",
       "      <td>25.257887</td>\n",
       "    </tr>\n",
       "    <tr>\n",
       "      <th>95</th>\n",
       "      <td>16.9</td>\n",
       "      <td>16.798321</td>\n",
       "    </tr>\n",
       "    <tr>\n",
       "      <th>4</th>\n",
       "      <td>12.9</td>\n",
       "      <td>12.773609</td>\n",
       "    </tr>\n",
       "    <tr>\n",
       "      <th>29</th>\n",
       "      <td>10.5</td>\n",
       "      <td>10.536667</td>\n",
       "    </tr>\n",
       "    <tr>\n",
       "      <th>168</th>\n",
       "      <td>17.1</td>\n",
       "      <td>17.117428</td>\n",
       "    </tr>\n",
       "    <tr>\n",
       "      <th>171</th>\n",
       "      <td>14.5</td>\n",
       "      <td>14.608619</td>\n",
       "    </tr>\n",
       "    <tr>\n",
       "      <th>18</th>\n",
       "      <td>11.3</td>\n",
       "      <td>11.026827</td>\n",
       "    </tr>\n",
       "    <tr>\n",
       "      <th>11</th>\n",
       "      <td>17.4</td>\n",
       "      <td>17.192427</td>\n",
       "    </tr>\n",
       "    <tr>\n",
       "      <th>89</th>\n",
       "      <td>16.7</td>\n",
       "      <td>17.422336</td>\n",
       "    </tr>\n",
       "    <tr>\n",
       "      <th>110</th>\n",
       "      <td>13.4</td>\n",
       "      <td>13.196407</td>\n",
       "    </tr>\n",
       "    <tr>\n",
       "      <th>118</th>\n",
       "      <td>15.9</td>\n",
       "      <td>16.162962</td>\n",
       "    </tr>\n",
       "    <tr>\n",
       "      <th>159</th>\n",
       "      <td>12.9</td>\n",
       "      <td>13.103465</td>\n",
       "    </tr>\n",
       "    <tr>\n",
       "      <th>35</th>\n",
       "      <td>12.8</td>\n",
       "      <td>12.455247</td>\n",
       "    </tr>\n",
       "    <tr>\n",
       "      <th>136</th>\n",
       "      <td>9.5</td>\n",
       "      <td>8.837155</td>\n",
       "    </tr>\n",
       "    <tr>\n",
       "      <th>59</th>\n",
       "      <td>18.4</td>\n",
       "      <td>18.403415</td>\n",
       "    </tr>\n",
       "    <tr>\n",
       "      <th>51</th>\n",
       "      <td>10.7</td>\n",
       "      <td>10.768084</td>\n",
       "    </tr>\n",
       "    <tr>\n",
       "      <th>16</th>\n",
       "      <td>12.5</td>\n",
       "      <td>12.849431</td>\n",
       "    </tr>\n",
       "    <tr>\n",
       "      <th>44</th>\n",
       "      <td>8.5</td>\n",
       "      <td>7.830782</td>\n",
       "    </tr>\n",
       "    <tr>\n",
       "      <th>94</th>\n",
       "      <td>11.5</td>\n",
       "      <td>11.640804</td>\n",
       "    </tr>\n",
       "    <tr>\n",
       "      <th>31</th>\n",
       "      <td>11.9</td>\n",
       "      <td>12.368325</td>\n",
       "    </tr>\n",
       "    <tr>\n",
       "      <th>162</th>\n",
       "      <td>14.9</td>\n",
       "      <td>14.753052</td>\n",
       "    </tr>\n",
       "    <tr>\n",
       "      <th>38</th>\n",
       "      <td>10.1</td>\n",
       "      <td>9.804361</td>\n",
       "    </tr>\n",
       "    <tr>\n",
       "      <th>28</th>\n",
       "      <td>18.9</td>\n",
       "      <td>19.399195</td>\n",
       "    </tr>\n",
       "    <tr>\n",
       "      <th>193</th>\n",
       "      <td>19.6</td>\n",
       "      <td>19.215494</td>\n",
       "    </tr>\n",
       "    <tr>\n",
       "      <th>27</th>\n",
       "      <td>15.9</td>\n",
       "      <td>16.089038</td>\n",
       "    </tr>\n",
       "    <tr>\n",
       "      <th>47</th>\n",
       "      <td>23.2</td>\n",
       "      <td>23.078866</td>\n",
       "    </tr>\n",
       "    <tr>\n",
       "      <th>165</th>\n",
       "      <td>11.9</td>\n",
       "      <td>11.970333</td>\n",
       "    </tr>\n",
       "    <tr>\n",
       "      <th>194</th>\n",
       "      <td>17.3</td>\n",
       "      <td>17.010016</td>\n",
       "    </tr>\n",
       "    <tr>\n",
       "      <th>177</th>\n",
       "      <td>11.7</td>\n",
       "      <td>11.849839</td>\n",
       "    </tr>\n",
       "    <tr>\n",
       "      <th>176</th>\n",
       "      <td>20.2</td>\n",
       "      <td>20.255290</td>\n",
       "    </tr>\n",
       "    <tr>\n",
       "      <th>97</th>\n",
       "      <td>15.5</td>\n",
       "      <td>15.324610</td>\n",
       "    </tr>\n",
       "    <tr>\n",
       "      <th>174</th>\n",
       "      <td>11.5</td>\n",
       "      <td>11.772035</td>\n",
       "    </tr>\n",
       "    <tr>\n",
       "      <th>73</th>\n",
       "      <td>11.0</td>\n",
       "      <td>10.747244</td>\n",
       "    </tr>\n",
       "    <tr>\n",
       "      <th>69</th>\n",
       "      <td>22.3</td>\n",
       "      <td>22.503745</td>\n",
       "    </tr>\n",
       "    <tr>\n",
       "      <th>172</th>\n",
       "      <td>7.6</td>\n",
       "      <td>6.750594</td>\n",
       "    </tr>\n",
       "    <tr>\n",
       "      <th>108</th>\n",
       "      <td>5.3</td>\n",
       "      <td>5.217649</td>\n",
       "    </tr>\n",
       "    <tr>\n",
       "      <th>107</th>\n",
       "      <td>8.7</td>\n",
       "      <td>9.476513</td>\n",
       "    </tr>\n",
       "    <tr>\n",
       "      <th>189</th>\n",
       "      <td>6.7</td>\n",
       "      <td>6.099870</td>\n",
       "    </tr>\n",
       "    <tr>\n",
       "      <th>14</th>\n",
       "      <td>19.0</td>\n",
       "      <td>18.926859</td>\n",
       "    </tr>\n",
       "    <tr>\n",
       "      <th>56</th>\n",
       "      <td>5.5</td>\n",
       "      <td>5.516223</td>\n",
       "    </tr>\n",
       "    <tr>\n",
       "      <th>19</th>\n",
       "      <td>14.6</td>\n",
       "      <td>14.650931</td>\n",
       "    </tr>\n",
       "    <tr>\n",
       "      <th>114</th>\n",
       "      <td>14.6</td>\n",
       "      <td>15.071312</td>\n",
       "    </tr>\n",
       "    <tr>\n",
       "      <th>39</th>\n",
       "      <td>21.5</td>\n",
       "      <td>21.354200</td>\n",
       "    </tr>\n",
       "    <tr>\n",
       "      <th>185</th>\n",
       "      <td>22.6</td>\n",
       "      <td>22.172636</td>\n",
       "    </tr>\n",
       "    <tr>\n",
       "      <th>124</th>\n",
       "      <td>19.7</td>\n",
       "      <td>19.984716</td>\n",
       "    </tr>\n",
       "    <tr>\n",
       "      <th>98</th>\n",
       "      <td>25.4</td>\n",
       "      <td>25.557865</td>\n",
       "    </tr>\n",
       "    <tr>\n",
       "      <th>123</th>\n",
       "      <td>15.2</td>\n",
       "      <td>15.643553</td>\n",
       "    </tr>\n",
       "    <tr>\n",
       "      <th>119</th>\n",
       "      <td>6.6</td>\n",
       "      <td>6.435558</td>\n",
       "    </tr>\n",
       "    <tr>\n",
       "      <th>53</th>\n",
       "      <td>21.2</td>\n",
       "      <td>21.183683</td>\n",
       "    </tr>\n",
       "    <tr>\n",
       "      <th>33</th>\n",
       "      <td>17.4</td>\n",
       "      <td>17.821231</td>\n",
       "    </tr>\n",
       "    <tr>\n",
       "      <th>179</th>\n",
       "      <td>12.6</td>\n",
       "      <td>12.238716</td>\n",
       "    </tr>\n",
       "    <tr>\n",
       "      <th>181</th>\n",
       "      <td>12.2</td>\n",
       "      <td>12.249070</td>\n",
       "    </tr>\n",
       "    <tr>\n",
       "      <th>106</th>\n",
       "      <td>7.2</td>\n",
       "      <td>6.722521</td>\n",
       "    </tr>\n",
       "    <tr>\n",
       "      <th>199</th>\n",
       "      <td>13.4</td>\n",
       "      <td>13.458069</td>\n",
       "    </tr>\n",
       "    <tr>\n",
       "      <th>138</th>\n",
       "      <td>9.6</td>\n",
       "      <td>9.720639</td>\n",
       "    </tr>\n",
       "  </tbody>\n",
       "</table>\n",
       "</div>"
      ],
      "text/plain": [
       "     Actual Output  Predict output\n",
       "58            23.8       24.001135\n",
       "40            16.6       16.285006\n",
       "34             9.5        9.662390\n",
       "102           14.8       14.707788\n",
       "184           17.6       17.887766\n",
       "198           25.5       25.257887\n",
       "95            16.9       16.798321\n",
       "4             12.9       12.773609\n",
       "29            10.5       10.536667\n",
       "168           17.1       17.117428\n",
       "171           14.5       14.608619\n",
       "18            11.3       11.026827\n",
       "11            17.4       17.192427\n",
       "89            16.7       17.422336\n",
       "110           13.4       13.196407\n",
       "118           15.9       16.162962\n",
       "159           12.9       13.103465\n",
       "35            12.8       12.455247\n",
       "136            9.5        8.837155\n",
       "59            18.4       18.403415\n",
       "51            10.7       10.768084\n",
       "16            12.5       12.849431\n",
       "44             8.5        7.830782\n",
       "94            11.5       11.640804\n",
       "31            11.9       12.368325\n",
       "162           14.9       14.753052\n",
       "38            10.1        9.804361\n",
       "28            18.9       19.399195\n",
       "193           19.6       19.215494\n",
       "27            15.9       16.089038\n",
       "47            23.2       23.078866\n",
       "165           11.9       11.970333\n",
       "194           17.3       17.010016\n",
       "177           11.7       11.849839\n",
       "176           20.2       20.255290\n",
       "97            15.5       15.324610\n",
       "174           11.5       11.772035\n",
       "73            11.0       10.747244\n",
       "69            22.3       22.503745\n",
       "172            7.6        6.750594\n",
       "108            5.3        5.217649\n",
       "107            8.7        9.476513\n",
       "189            6.7        6.099870\n",
       "14            19.0       18.926859\n",
       "56             5.5        5.516223\n",
       "19            14.6       14.650931\n",
       "114           14.6       15.071312\n",
       "39            21.5       21.354200\n",
       "185           22.6       22.172636\n",
       "124           19.7       19.984716\n",
       "98            25.4       25.557865\n",
       "123           15.2       15.643553\n",
       "119            6.6        6.435558\n",
       "53            21.2       21.183683\n",
       "33            17.4       17.821231\n",
       "179           12.6       12.238716\n",
       "181           12.2       12.249070\n",
       "106            7.2        6.722521\n",
       "199           13.4       13.458069\n",
       "138            9.6        9.720639"
      ]
     },
     "execution_count": 54,
     "metadata": {},
     "output_type": "execute_result"
    }
   ],
   "source": [
    "dict={\"Actual Output\":Y_test,\"Predict output\":y_pred} #predict best fit line\n",
    "df2=pd.DataFrame(dict)\n",
    "df2"
   ]
  },
  {
   "cell_type": "code",
   "execution_count": 55,
   "id": "a39e246e",
   "metadata": {},
   "outputs": [],
   "source": [
    "from sklearn.metrics import mean_squared_error   "
   ]
  },
  {
   "cell_type": "code",
   "execution_count": 56,
   "id": "a1b9f8cc",
   "metadata": {},
   "outputs": [
    {
     "name": "stdout",
     "output_type": "stream",
     "text": [
      "mean sqaured error 0.10687155623249694\n"
     ]
    }
   ],
   "source": [
    "print(\"mean sqaured error\",mean_squared_error(Y_test,y_pred)) "
   ]
  },
  {
   "cell_type": "code",
   "execution_count": 57,
   "id": "5bdf2ccf",
   "metadata": {},
   "outputs": [
    {
     "name": "stdout",
     "output_type": "stream",
     "text": [
      "0.10687155623249694\n",
      "Root Mean Squared Error 0.3269121536934608\n"
     ]
    }
   ],
   "source": [
    "mse=mean_squared_error(Y_test,y_pred)\n",
    "print(mse)\n",
    "#check for root of mean square  :--- error minmize error\n",
    "rmse=np.sqrt(mse)\n",
    "print(\"Root Mean Squared Error\",rmse)"
   ]
  },
  {
   "cell_type": "code",
   "execution_count": 58,
   "id": "7bc10f20",
   "metadata": {},
   "outputs": [
    {
     "name": "stdout",
     "output_type": "stream",
     "text": [
      "r2_score 0.9957039491505718\n"
     ]
    }
   ],
   "source": [
    "from sklearn.metrics import r2_score\n",
    "print('r2_score',r2_score(Y_test,y_pred))"
   ]
  },
  {
   "cell_type": "code",
   "execution_count": 59,
   "id": "c0dc4a28",
   "metadata": {},
   "outputs": [
    {
     "name": "stdout",
     "output_type": "stream",
     "text": [
      "Residual error for each data points  58    -0.201135\n",
      "40     0.314994\n",
      "34    -0.162390\n",
      "102    0.092212\n",
      "184   -0.287766\n",
      "198    0.242113\n",
      "95     0.101679\n",
      "4      0.126391\n",
      "29    -0.036667\n",
      "168   -0.017428\n",
      "171   -0.108619\n",
      "18     0.273173\n",
      "11     0.207573\n",
      "89    -0.722336\n",
      "110    0.203593\n",
      "118   -0.262962\n",
      "159   -0.203465\n",
      "35     0.344753\n",
      "136    0.662845\n",
      "59    -0.003415\n",
      "51    -0.068084\n",
      "16    -0.349431\n",
      "44     0.669218\n",
      "94    -0.140804\n",
      "31    -0.468325\n",
      "162    0.146948\n",
      "38     0.295639\n",
      "28    -0.499195\n",
      "193    0.384506\n",
      "27    -0.189038\n",
      "47     0.121134\n",
      "165   -0.070333\n",
      "194    0.289984\n",
      "177   -0.149839\n",
      "176   -0.055290\n",
      "97     0.175390\n",
      "174   -0.272035\n",
      "73     0.252756\n",
      "69    -0.203745\n",
      "172    0.849406\n",
      "108    0.082351\n",
      "107   -0.776513\n",
      "189    0.600130\n",
      "14     0.073141\n",
      "56    -0.016223\n",
      "19    -0.050931\n",
      "114   -0.471312\n",
      "39     0.145800\n",
      "185    0.427364\n",
      "124   -0.284716\n",
      "98    -0.157865\n",
      "123   -0.443553\n",
      "119    0.164442\n",
      "53     0.016317\n",
      "33    -0.421231\n",
      "179    0.361284\n",
      "181   -0.049070\n",
      "106    0.477479\n",
      "199   -0.058069\n",
      "138   -0.120639\n",
      "Name: sales, dtype: float64\n"
     ]
    }
   ],
   "source": [
    "residual_error=Y_test-y_pred\n",
    "print('Residual error for each data points ',residual_error)"
   ]
  },
  {
   "cell_type": "code",
   "execution_count": 60,
   "id": "29c7e705",
   "metadata": {},
   "outputs": [
    {
     "data": {
      "image/png": "[encoded data removed]",
      "text/plain": [
       "<Figure size 640x480 with 1 Axes>"
      ]
     },
     "metadata": {},
     "output_type": "display_data"
    }
   ],
   "source": [
    "import matplotlib.pyplot as plt\n",
    "plt.scatter(y_pred,residual_error)\n",
    "# sb.scatterplot(y_pred,residual_error)\n",
    "# plt.plot(y_pred,residual_error,color='red')\n",
    "plt.xlabel('PRedicted')\n",
    "plt.ylabel('Residual error')\n",
    "plt.show()"
   ]
  },
  {
   "cell_type": "code",
   "execution_count": 61,
   "id": "8ed76a9a",
   "metadata": {},
   "outputs": [
    {
     "name": "stdout",
     "output_type": "stream",
     "text": [
      "0.07695630704677185\n"
     ]
    }
   ],
   "source": [
    "print(residual_error.skew())"
   ]
  },
  {
   "cell_type": "code",
   "execution_count": null,
   "id": "781726c1",
   "metadata": {},
   "outputs": [],
   "source": []
  }
 ],
 "metadata": {
  "kernelspec": {
   "display_name": "Python 3 (ipykernel)",
   "language": "python",
   "name": "python3"
  },
  "language_info": {
   "codemirror_mode": {
    "name": "ipython",
    "version": 3
   },
   "file_extension": ".py",
   "mimetype": "text/x-python",
   "name": "python",
   "nbconvert_exporter": "python",
   "pygments_lexer": "ipython3",
   "version": "3.11.3"
  }
 },
 "nbformat": 4,
 "nbformat_minor": 5
}
