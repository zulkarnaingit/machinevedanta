{
 "cells": [
  {
   "cell_type": "code",
   "execution_count": 2,
   "id": "6246ee0f",
   "metadata": {},
   "outputs": [],
   "source": [
    "import numpy as np\n",
    "import pandas as pd\n",
    "import seaborn as sb\n",
    "import matplotlib.pyplot as plt\n",
    "import warnings\n",
    "warnings.filterwarnings('ignore')"
   ]
  },
  {
   "cell_type": "code",
   "execution_count": 3,
   "id": "90074f57",
   "metadata": {},
   "outputs": [
    {
     "data": {
      "text/html": [
       "<div>\n",
       "<style scoped>\n",
       "    .dataframe tbody tr th:only-of-type {\n",
       "        vertical-align: middle;\n",
       "    }\n",
       "\n",
       "    .dataframe tbody tr th {\n",
       "        vertical-align: top;\n",
       "    }\n",
       "\n",
       "    .dataframe thead th {\n",
       "        text-align: right;\n",
       "    }\n",
       "</style>\n",
       "<table border=\"1\" class=\"dataframe\">\n",
       "  <thead>\n",
       "    <tr style=\"text-align: right;\">\n",
       "      <th></th>\n",
       "      <th>Species</th>\n",
       "      <th>Weight</th>\n",
       "      <th>Length1</th>\n",
       "      <th>Length2</th>\n",
       "      <th>Length3</th>\n",
       "      <th>Height</th>\n",
       "      <th>Width</th>\n",
       "    </tr>\n",
       "  </thead>\n",
       "  <tbody>\n",
       "    <tr>\n",
       "      <th>0</th>\n",
       "      <td>Bream</td>\n",
       "      <td>242.0</td>\n",
       "      <td>23.2</td>\n",
       "      <td>25.4</td>\n",
       "      <td>30.0</td>\n",
       "      <td>11.5200</td>\n",
       "      <td>4.0200</td>\n",
       "    </tr>\n",
       "    <tr>\n",
       "      <th>1</th>\n",
       "      <td>Bream</td>\n",
       "      <td>290.0</td>\n",
       "      <td>24.0</td>\n",
       "      <td>26.3</td>\n",
       "      <td>31.2</td>\n",
       "      <td>12.4800</td>\n",
       "      <td>4.3056</td>\n",
       "    </tr>\n",
       "    <tr>\n",
       "      <th>2</th>\n",
       "      <td>Bream</td>\n",
       "      <td>340.0</td>\n",
       "      <td>23.9</td>\n",
       "      <td>26.5</td>\n",
       "      <td>31.1</td>\n",
       "      <td>12.3778</td>\n",
       "      <td>4.6961</td>\n",
       "    </tr>\n",
       "    <tr>\n",
       "      <th>3</th>\n",
       "      <td>Bream</td>\n",
       "      <td>363.0</td>\n",
       "      <td>26.3</td>\n",
       "      <td>29.0</td>\n",
       "      <td>33.5</td>\n",
       "      <td>12.7300</td>\n",
       "      <td>4.4555</td>\n",
       "    </tr>\n",
       "    <tr>\n",
       "      <th>4</th>\n",
       "      <td>Bream</td>\n",
       "      <td>430.0</td>\n",
       "      <td>26.5</td>\n",
       "      <td>29.0</td>\n",
       "      <td>34.0</td>\n",
       "      <td>12.4440</td>\n",
       "      <td>5.1340</td>\n",
       "    </tr>\n",
       "    <tr>\n",
       "      <th>...</th>\n",
       "      <td>...</td>\n",
       "      <td>...</td>\n",
       "      <td>...</td>\n",
       "      <td>...</td>\n",
       "      <td>...</td>\n",
       "      <td>...</td>\n",
       "      <td>...</td>\n",
       "    </tr>\n",
       "    <tr>\n",
       "      <th>154</th>\n",
       "      <td>Smelt</td>\n",
       "      <td>12.2</td>\n",
       "      <td>11.5</td>\n",
       "      <td>12.2</td>\n",
       "      <td>13.4</td>\n",
       "      <td>2.0904</td>\n",
       "      <td>1.3936</td>\n",
       "    </tr>\n",
       "    <tr>\n",
       "      <th>155</th>\n",
       "      <td>Smelt</td>\n",
       "      <td>13.4</td>\n",
       "      <td>11.7</td>\n",
       "      <td>12.4</td>\n",
       "      <td>13.5</td>\n",
       "      <td>2.4300</td>\n",
       "      <td>1.2690</td>\n",
       "    </tr>\n",
       "    <tr>\n",
       "      <th>156</th>\n",
       "      <td>Smelt</td>\n",
       "      <td>12.2</td>\n",
       "      <td>12.1</td>\n",
       "      <td>13.0</td>\n",
       "      <td>13.8</td>\n",
       "      <td>2.2770</td>\n",
       "      <td>1.2558</td>\n",
       "    </tr>\n",
       "    <tr>\n",
       "      <th>157</th>\n",
       "      <td>Smelt</td>\n",
       "      <td>19.7</td>\n",
       "      <td>13.2</td>\n",
       "      <td>14.3</td>\n",
       "      <td>15.2</td>\n",
       "      <td>2.8728</td>\n",
       "      <td>2.0672</td>\n",
       "    </tr>\n",
       "    <tr>\n",
       "      <th>158</th>\n",
       "      <td>Smelt</td>\n",
       "      <td>19.9</td>\n",
       "      <td>13.8</td>\n",
       "      <td>15.0</td>\n",
       "      <td>16.2</td>\n",
       "      <td>2.9322</td>\n",
       "      <td>1.8792</td>\n",
       "    </tr>\n",
       "  </tbody>\n",
       "</table>\n",
       "<p>159 rows × 7 columns</p>\n",
       "</div>"
      ],
      "text/plain": [
       "    Species  Weight  Length1  Length2  Length3   Height   Width\n",
       "0     Bream   242.0     23.2     25.4     30.0  11.5200  4.0200\n",
       "1     Bream   290.0     24.0     26.3     31.2  12.4800  4.3056\n",
       "2     Bream   340.0     23.9     26.5     31.1  12.3778  4.6961\n",
       "3     Bream   363.0     26.3     29.0     33.5  12.7300  4.4555\n",
       "4     Bream   430.0     26.5     29.0     34.0  12.4440  5.1340\n",
       "..      ...     ...      ...      ...      ...      ...     ...\n",
       "154   Smelt    12.2     11.5     12.2     13.4   2.0904  1.3936\n",
       "155   Smelt    13.4     11.7     12.4     13.5   2.4300  1.2690\n",
       "156   Smelt    12.2     12.1     13.0     13.8   2.2770  1.2558\n",
       "157   Smelt    19.7     13.2     14.3     15.2   2.8728  2.0672\n",
       "158   Smelt    19.9     13.8     15.0     16.2   2.9322  1.8792\n",
       "\n",
       "[159 rows x 7 columns]"
      ]
     },
     "execution_count": 3,
     "metadata": {},
     "output_type": "execute_result"
    }
   ],
   "source": [
    "df=pd.read_csv('Fish.csv')\n",
    "df\n"
   ]
  },
  {
   "cell_type": "code",
   "execution_count": 4,
   "id": "2a256958",
   "metadata": {},
   "outputs": [
    {
     "data": {
      "image/png": "[encoded data removed]",
      "text/plain": [
       "<Figure size 640x480 with 1 Axes>"
      ]
     },
     "metadata": {},
     "output_type": "display_data"
    }
   ],
   "source": [
    "sb.countplot(data=df,x='Species')\n",
    "f=df['Species'].value_counts()\n",
    "plt.yticks(f)\n",
    "plt.show()"
   ]
  },
  {
   "cell_type": "code",
   "execution_count": 3,
   "id": "584ec140",
   "metadata": {},
   "outputs": [
    {
     "data": {
      "text/plain": [
       "Species     object\n",
       "Weight     float64\n",
       "Length1    float64\n",
       "Length2    float64\n",
       "Length3    float64\n",
       "Height     float64\n",
       "Width      float64\n",
       "dtype: object"
      ]
     },
     "execution_count": 3,
     "metadata": {},
     "output_type": "execute_result"
    }
   ],
   "source": [
    "df.dtypes"
   ]
  },
  {
   "cell_type": "code",
   "execution_count": 4,
   "id": "8a6bb912",
   "metadata": {},
   "outputs": [
    {
     "data": {
      "text/plain": [
       "Species    0\n",
       "Weight     0\n",
       "Length1    0\n",
       "Length2    0\n",
       "Length3    0\n",
       "Height     0\n",
       "Width      0\n",
       "dtype: int64"
      ]
     },
     "execution_count": 4,
     "metadata": {},
     "output_type": "execute_result"
    }
   ],
   "source": [
    "df.isnull().sum()"
   ]
  },
  {
   "cell_type": "code",
   "execution_count": 5,
   "id": "bb04364f",
   "metadata": {},
   "outputs": [
    {
     "data": {
      "text/plain": [
       "Species    0.0\n",
       "Weight     0.0\n",
       "Length1    0.0\n",
       "Length2    0.0\n",
       "Length3    0.0\n",
       "Height     0.0\n",
       "Width      0.0\n",
       "dtype: float64"
      ]
     },
     "execution_count": 5,
     "metadata": {},
     "output_type": "execute_result"
    }
   ],
   "source": [
    "df.isnull().sum()/df.shape[0]*100"
   ]
  },
  {
   "cell_type": "code",
   "execution_count": 6,
   "id": "564de747",
   "metadata": {},
   "outputs": [
    {
     "data": {
      "text/plain": [
       "<Axes: >"
      ]
     },
     "execution_count": 6,
     "metadata": {},
     "output_type": "execute_result"
    },
    {
     "data": {
      "image/png": "[encoded data removed]",
      "text/plain": [
       "<Figure size 640x480 with 2 Axes>"
      ]
     },
     "metadata": {},
     "output_type": "display_data"
    }
   ],
   "source": [
    "sb.heatmap(df.isnull())"
   ]
  },
  {
   "cell_type": "code",
   "execution_count": 7,
   "id": "e16a9772",
   "metadata": {},
   "outputs": [
    {
     "data": {
      "text/html": [
       "<div>\n",
       "<style scoped>\n",
       "    .dataframe tbody tr th:only-of-type {\n",
       "        vertical-align: middle;\n",
       "    }\n",
       "\n",
       "    .dataframe tbody tr th {\n",
       "        vertical-align: top;\n",
       "    }\n",
       "\n",
       "    .dataframe thead th {\n",
       "        text-align: right;\n",
       "    }\n",
       "</style>\n",
       "<table border=\"1\" class=\"dataframe\">\n",
       "  <thead>\n",
       "    <tr style=\"text-align: right;\">\n",
       "      <th></th>\n",
       "      <th>Species</th>\n",
       "    </tr>\n",
       "  </thead>\n",
       "  <tbody>\n",
       "    <tr>\n",
       "      <th>0</th>\n",
       "      <td>Bream</td>\n",
       "    </tr>\n",
       "    <tr>\n",
       "      <th>1</th>\n",
       "      <td>Bream</td>\n",
       "    </tr>\n",
       "    <tr>\n",
       "      <th>2</th>\n",
       "      <td>Bream</td>\n",
       "    </tr>\n",
       "    <tr>\n",
       "      <th>3</th>\n",
       "      <td>Bream</td>\n",
       "    </tr>\n",
       "    <tr>\n",
       "      <th>4</th>\n",
       "      <td>Bream</td>\n",
       "    </tr>\n",
       "    <tr>\n",
       "      <th>...</th>\n",
       "      <td>...</td>\n",
       "    </tr>\n",
       "    <tr>\n",
       "      <th>154</th>\n",
       "      <td>Smelt</td>\n",
       "    </tr>\n",
       "    <tr>\n",
       "      <th>155</th>\n",
       "      <td>Smelt</td>\n",
       "    </tr>\n",
       "    <tr>\n",
       "      <th>156</th>\n",
       "      <td>Smelt</td>\n",
       "    </tr>\n",
       "    <tr>\n",
       "      <th>157</th>\n",
       "      <td>Smelt</td>\n",
       "    </tr>\n",
       "    <tr>\n",
       "      <th>158</th>\n",
       "      <td>Smelt</td>\n",
       "    </tr>\n",
       "  </tbody>\n",
       "</table>\n",
       "<p>159 rows × 1 columns</p>\n",
       "</div>"
      ],
      "text/plain": [
       "    Species\n",
       "0     Bream\n",
       "1     Bream\n",
       "2     Bream\n",
       "3     Bream\n",
       "4     Bream\n",
       "..      ...\n",
       "154   Smelt\n",
       "155   Smelt\n",
       "156   Smelt\n",
       "157   Smelt\n",
       "158   Smelt\n",
       "\n",
       "[159 rows x 1 columns]"
      ]
     },
     "execution_count": 7,
     "metadata": {},
     "output_type": "execute_result"
    }
   ],
   "source": [
    "df_obj=df.select_dtypes(object)\n",
    "df_obj"
   ]
  },
  {
   "cell_type": "code",
   "execution_count": 8,
   "id": "e2c70ef6",
   "metadata": {},
   "outputs": [
    {
     "data": {
      "text/plain": [
       "<Axes: xlabel='Weight', ylabel='Species'>"
      ]
     },
     "execution_count": 8,
     "metadata": {},
     "output_type": "execute_result"
    },
    {
     "data": {
      "image/png": "[encoded data removed]",
      "text/plain": [
       "<Figure size 640x480 with 1 Axes>"
      ]
     },
     "metadata": {},
     "output_type": "display_data"
    }
   ],
   "source": [
    "sb.boxplot(data=df,x='Weight',y='Species')"
   ]
  },
  {
   "cell_type": "code",
   "execution_count": 9,
   "id": "8d96f7f6",
   "metadata": {},
   "outputs": [
    {
     "data": {
      "text/html": [
       "<div>\n",
       "<style scoped>\n",
       "    .dataframe tbody tr th:only-of-type {\n",
       "        vertical-align: middle;\n",
       "    }\n",
       "\n",
       "    .dataframe tbody tr th {\n",
       "        vertical-align: top;\n",
       "    }\n",
       "\n",
       "    .dataframe thead th {\n",
       "        text-align: right;\n",
       "    }\n",
       "</style>\n",
       "<table border=\"1\" class=\"dataframe\">\n",
       "  <thead>\n",
       "    <tr style=\"text-align: right;\">\n",
       "      <th></th>\n",
       "      <th>Species</th>\n",
       "      <th>Weight</th>\n",
       "      <th>Length1</th>\n",
       "      <th>Length2</th>\n",
       "      <th>Length3</th>\n",
       "      <th>Height</th>\n",
       "      <th>Width</th>\n",
       "    </tr>\n",
       "  </thead>\n",
       "  <tbody>\n",
       "    <tr>\n",
       "      <th>52</th>\n",
       "      <td>Roach</td>\n",
       "      <td>290.0</td>\n",
       "      <td>24.0</td>\n",
       "      <td>26.0</td>\n",
       "      <td>29.2</td>\n",
       "      <td>8.8768</td>\n",
       "      <td>4.4968</td>\n",
       "    </tr>\n",
       "    <tr>\n",
       "      <th>53</th>\n",
       "      <td>Roach</td>\n",
       "      <td>272.0</td>\n",
       "      <td>25.0</td>\n",
       "      <td>27.0</td>\n",
       "      <td>30.6</td>\n",
       "      <td>8.5680</td>\n",
       "      <td>4.7736</td>\n",
       "    </tr>\n",
       "    <tr>\n",
       "      <th>54</th>\n",
       "      <td>Roach</td>\n",
       "      <td>390.0</td>\n",
       "      <td>29.5</td>\n",
       "      <td>31.7</td>\n",
       "      <td>35.0</td>\n",
       "      <td>9.4850</td>\n",
       "      <td>5.3550</td>\n",
       "    </tr>\n",
       "  </tbody>\n",
       "</table>\n",
       "</div>"
      ],
      "text/plain": [
       "   Species  Weight  Length1  Length2  Length3  Height   Width\n",
       "52   Roach   290.0     24.0     26.0     29.2  8.8768  4.4968\n",
       "53   Roach   272.0     25.0     27.0     30.6  8.5680  4.7736\n",
       "54   Roach   390.0     29.5     31.7     35.0  9.4850  5.3550"
      ]
     },
     "execution_count": 9,
     "metadata": {},
     "output_type": "execute_result"
    }
   ],
   "source": [
    "df[(df['Species']=='Roach')&(df['Weight']>250)]"
   ]
  },
  {
   "cell_type": "code",
   "execution_count": 10,
   "id": "c8b70092",
   "metadata": {},
   "outputs": [
    {
     "data": {
      "text/plain": [
       "<Axes: xlabel='Weight', ylabel='Species'>"
      ]
     },
     "execution_count": 10,
     "metadata": {},
     "output_type": "execute_result"
    },
    {
     "data": {
      "image/png": "[encoded data removed]",
      "text/plain": [
       "<Figure size 640x480 with 1 Axes>"
      ]
     },
     "metadata": {},
     "output_type": "display_data"
    }
   ],
   "source": [
    "sb.boxplot(data=df,x='Weight',y='Species')"
   ]
  },
  {
   "cell_type": "code",
   "execution_count": 11,
   "id": "be96a825",
   "metadata": {},
   "outputs": [
    {
     "data": {
      "text/plain": [
       "Int64Index([52, 53, 54], dtype='int64')"
      ]
     },
     "execution_count": 11,
     "metadata": {},
     "output_type": "execute_result"
    }
   ],
   "source": [
    "a=df[(df['Species']=='Roach')&(df['Weight']>250)].index\n",
    "a"
   ]
  },
  {
   "cell_type": "code",
   "execution_count": 12,
   "id": "6a7d3d46",
   "metadata": {},
   "outputs": [],
   "source": [
    "df.drop(a,inplace=True)"
   ]
  },
  {
   "cell_type": "code",
   "execution_count": null,
   "id": "82425800",
   "metadata": {},
   "outputs": [],
   "source": []
  },
  {
   "cell_type": "code",
   "execution_count": 13,
   "id": "e8f1580c",
   "metadata": {},
   "outputs": [
    {
     "data": {
      "text/html": [
       "<div>\n",
       "<style scoped>\n",
       "    .dataframe tbody tr th:only-of-type {\n",
       "        vertical-align: middle;\n",
       "    }\n",
       "\n",
       "    .dataframe tbody tr th {\n",
       "        vertical-align: top;\n",
       "    }\n",
       "\n",
       "    .dataframe thead th {\n",
       "        text-align: right;\n",
       "    }\n",
       "</style>\n",
       "<table border=\"1\" class=\"dataframe\">\n",
       "  <thead>\n",
       "    <tr style=\"text-align: right;\">\n",
       "      <th></th>\n",
       "      <th>Weight</th>\n",
       "      <th>Length1</th>\n",
       "      <th>Length2</th>\n",
       "      <th>Length3</th>\n",
       "      <th>Height</th>\n",
       "      <th>Width</th>\n",
       "    </tr>\n",
       "  </thead>\n",
       "  <tbody>\n",
       "    <tr>\n",
       "      <th>0</th>\n",
       "      <td>242.0</td>\n",
       "      <td>23.2</td>\n",
       "      <td>25.4</td>\n",
       "      <td>30.0</td>\n",
       "      <td>11.5200</td>\n",
       "      <td>4.0200</td>\n",
       "    </tr>\n",
       "    <tr>\n",
       "      <th>1</th>\n",
       "      <td>290.0</td>\n",
       "      <td>24.0</td>\n",
       "      <td>26.3</td>\n",
       "      <td>31.2</td>\n",
       "      <td>12.4800</td>\n",
       "      <td>4.3056</td>\n",
       "    </tr>\n",
       "    <tr>\n",
       "      <th>2</th>\n",
       "      <td>340.0</td>\n",
       "      <td>23.9</td>\n",
       "      <td>26.5</td>\n",
       "      <td>31.1</td>\n",
       "      <td>12.3778</td>\n",
       "      <td>4.6961</td>\n",
       "    </tr>\n",
       "    <tr>\n",
       "      <th>3</th>\n",
       "      <td>363.0</td>\n",
       "      <td>26.3</td>\n",
       "      <td>29.0</td>\n",
       "      <td>33.5</td>\n",
       "      <td>12.7300</td>\n",
       "      <td>4.4555</td>\n",
       "    </tr>\n",
       "    <tr>\n",
       "      <th>4</th>\n",
       "      <td>430.0</td>\n",
       "      <td>26.5</td>\n",
       "      <td>29.0</td>\n",
       "      <td>34.0</td>\n",
       "      <td>12.4440</td>\n",
       "      <td>5.1340</td>\n",
       "    </tr>\n",
       "    <tr>\n",
       "      <th>...</th>\n",
       "      <td>...</td>\n",
       "      <td>...</td>\n",
       "      <td>...</td>\n",
       "      <td>...</td>\n",
       "      <td>...</td>\n",
       "      <td>...</td>\n",
       "    </tr>\n",
       "    <tr>\n",
       "      <th>154</th>\n",
       "      <td>12.2</td>\n",
       "      <td>11.5</td>\n",
       "      <td>12.2</td>\n",
       "      <td>13.4</td>\n",
       "      <td>2.0904</td>\n",
       "      <td>1.3936</td>\n",
       "    </tr>\n",
       "    <tr>\n",
       "      <th>155</th>\n",
       "      <td>13.4</td>\n",
       "      <td>11.7</td>\n",
       "      <td>12.4</td>\n",
       "      <td>13.5</td>\n",
       "      <td>2.4300</td>\n",
       "      <td>1.2690</td>\n",
       "    </tr>\n",
       "    <tr>\n",
       "      <th>156</th>\n",
       "      <td>12.2</td>\n",
       "      <td>12.1</td>\n",
       "      <td>13.0</td>\n",
       "      <td>13.8</td>\n",
       "      <td>2.2770</td>\n",
       "      <td>1.2558</td>\n",
       "    </tr>\n",
       "    <tr>\n",
       "      <th>157</th>\n",
       "      <td>19.7</td>\n",
       "      <td>13.2</td>\n",
       "      <td>14.3</td>\n",
       "      <td>15.2</td>\n",
       "      <td>2.8728</td>\n",
       "      <td>2.0672</td>\n",
       "    </tr>\n",
       "    <tr>\n",
       "      <th>158</th>\n",
       "      <td>19.9</td>\n",
       "      <td>13.8</td>\n",
       "      <td>15.0</td>\n",
       "      <td>16.2</td>\n",
       "      <td>2.9322</td>\n",
       "      <td>1.8792</td>\n",
       "    </tr>\n",
       "  </tbody>\n",
       "</table>\n",
       "<p>156 rows × 6 columns</p>\n",
       "</div>"
      ],
      "text/plain": [
       "     Weight  Length1  Length2  Length3   Height   Width\n",
       "0     242.0     23.2     25.4     30.0  11.5200  4.0200\n",
       "1     290.0     24.0     26.3     31.2  12.4800  4.3056\n",
       "2     340.0     23.9     26.5     31.1  12.3778  4.6961\n",
       "3     363.0     26.3     29.0     33.5  12.7300  4.4555\n",
       "4     430.0     26.5     29.0     34.0  12.4440  5.1340\n",
       "..      ...      ...      ...      ...      ...     ...\n",
       "154    12.2     11.5     12.2     13.4   2.0904  1.3936\n",
       "155    13.4     11.7     12.4     13.5   2.4300  1.2690\n",
       "156    12.2     12.1     13.0     13.8   2.2770  1.2558\n",
       "157    19.7     13.2     14.3     15.2   2.8728  2.0672\n",
       "158    19.9     13.8     15.0     16.2   2.9322  1.8792\n",
       "\n",
       "[156 rows x 6 columns]"
      ]
     },
     "execution_count": 13,
     "metadata": {},
     "output_type": "execute_result"
    }
   ],
   "source": [
    "df_num=df.select_dtypes(['float64'])\n",
    "df_num"
   ]
  },
  {
   "cell_type": "code",
   "execution_count": null,
   "id": "97a08b7e",
   "metadata": {},
   "outputs": [],
   "source": []
  },
  {
   "cell_type": "code",
   "execution_count": 14,
   "id": "715e65f2",
   "metadata": {},
   "outputs": [],
   "source": [
    "from sklearn.preprocessing import LabelEncoder\n",
    "le=LabelEncoder()\n",
    "df_obj.columns\n",
    "for i in df_obj:\n",
    "    df_obj[i]=le.fit_transform(df_obj[i])"
   ]
  },
  {
   "cell_type": "code",
   "execution_count": 15,
   "id": "af39141d",
   "metadata": {},
   "outputs": [
    {
     "data": {
      "text/html": [
       "<div>\n",
       "<style scoped>\n",
       "    .dataframe tbody tr th:only-of-type {\n",
       "        vertical-align: middle;\n",
       "    }\n",
       "\n",
       "    .dataframe tbody tr th {\n",
       "        vertical-align: top;\n",
       "    }\n",
       "\n",
       "    .dataframe thead th {\n",
       "        text-align: right;\n",
       "    }\n",
       "</style>\n",
       "<table border=\"1\" class=\"dataframe\">\n",
       "  <thead>\n",
       "    <tr style=\"text-align: right;\">\n",
       "      <th></th>\n",
       "      <th>Species</th>\n",
       "    </tr>\n",
       "  </thead>\n",
       "  <tbody>\n",
       "    <tr>\n",
       "      <th>0</th>\n",
       "      <td>0</td>\n",
       "    </tr>\n",
       "    <tr>\n",
       "      <th>1</th>\n",
       "      <td>0</td>\n",
       "    </tr>\n",
       "    <tr>\n",
       "      <th>2</th>\n",
       "      <td>0</td>\n",
       "    </tr>\n",
       "    <tr>\n",
       "      <th>3</th>\n",
       "      <td>0</td>\n",
       "    </tr>\n",
       "    <tr>\n",
       "      <th>4</th>\n",
       "      <td>0</td>\n",
       "    </tr>\n",
       "    <tr>\n",
       "      <th>...</th>\n",
       "      <td>...</td>\n",
       "    </tr>\n",
       "    <tr>\n",
       "      <th>154</th>\n",
       "      <td>5</td>\n",
       "    </tr>\n",
       "    <tr>\n",
       "      <th>155</th>\n",
       "      <td>5</td>\n",
       "    </tr>\n",
       "    <tr>\n",
       "      <th>156</th>\n",
       "      <td>5</td>\n",
       "    </tr>\n",
       "    <tr>\n",
       "      <th>157</th>\n",
       "      <td>5</td>\n",
       "    </tr>\n",
       "    <tr>\n",
       "      <th>158</th>\n",
       "      <td>5</td>\n",
       "    </tr>\n",
       "  </tbody>\n",
       "</table>\n",
       "<p>159 rows × 1 columns</p>\n",
       "</div>"
      ],
      "text/plain": [
       "     Species\n",
       "0          0\n",
       "1          0\n",
       "2          0\n",
       "3          0\n",
       "4          0\n",
       "..       ...\n",
       "154        5\n",
       "155        5\n",
       "156        5\n",
       "157        5\n",
       "158        5\n",
       "\n",
       "[159 rows x 1 columns]"
      ]
     },
     "execution_count": 15,
     "metadata": {},
     "output_type": "execute_result"
    }
   ],
   "source": [
    "df_obj"
   ]
  },
  {
   "cell_type": "code",
   "execution_count": 16,
   "id": "315124fb",
   "metadata": {},
   "outputs": [
    {
     "data": {
      "text/plain": [
       "array([0, 4, 6, 1, 2, 3, 5])"
      ]
     },
     "execution_count": 16,
     "metadata": {},
     "output_type": "execute_result"
    }
   ],
   "source": [
    "df_obj['Species'].unique()"
   ]
  },
  {
   "cell_type": "code",
   "execution_count": 17,
   "id": "cfe2c8ab",
   "metadata": {},
   "outputs": [
    {
     "data": {
      "text/html": [
       "<div>\n",
       "<style scoped>\n",
       "    .dataframe tbody tr th:only-of-type {\n",
       "        vertical-align: middle;\n",
       "    }\n",
       "\n",
       "    .dataframe tbody tr th {\n",
       "        vertical-align: top;\n",
       "    }\n",
       "\n",
       "    .dataframe thead th {\n",
       "        text-align: right;\n",
       "    }\n",
       "</style>\n",
       "<table border=\"1\" class=\"dataframe\">\n",
       "  <thead>\n",
       "    <tr style=\"text-align: right;\">\n",
       "      <th></th>\n",
       "      <th>Weight</th>\n",
       "      <th>Length1</th>\n",
       "      <th>Length2</th>\n",
       "      <th>Length3</th>\n",
       "      <th>Height</th>\n",
       "      <th>Width</th>\n",
       "      <th>Species</th>\n",
       "    </tr>\n",
       "  </thead>\n",
       "  <tbody>\n",
       "    <tr>\n",
       "      <th>0</th>\n",
       "      <td>242.0</td>\n",
       "      <td>23.2</td>\n",
       "      <td>25.4</td>\n",
       "      <td>30.0</td>\n",
       "      <td>11.5200</td>\n",
       "      <td>4.0200</td>\n",
       "      <td>0</td>\n",
       "    </tr>\n",
       "    <tr>\n",
       "      <th>1</th>\n",
       "      <td>290.0</td>\n",
       "      <td>24.0</td>\n",
       "      <td>26.3</td>\n",
       "      <td>31.2</td>\n",
       "      <td>12.4800</td>\n",
       "      <td>4.3056</td>\n",
       "      <td>0</td>\n",
       "    </tr>\n",
       "    <tr>\n",
       "      <th>2</th>\n",
       "      <td>340.0</td>\n",
       "      <td>23.9</td>\n",
       "      <td>26.5</td>\n",
       "      <td>31.1</td>\n",
       "      <td>12.3778</td>\n",
       "      <td>4.6961</td>\n",
       "      <td>0</td>\n",
       "    </tr>\n",
       "    <tr>\n",
       "      <th>3</th>\n",
       "      <td>363.0</td>\n",
       "      <td>26.3</td>\n",
       "      <td>29.0</td>\n",
       "      <td>33.5</td>\n",
       "      <td>12.7300</td>\n",
       "      <td>4.4555</td>\n",
       "      <td>0</td>\n",
       "    </tr>\n",
       "    <tr>\n",
       "      <th>4</th>\n",
       "      <td>430.0</td>\n",
       "      <td>26.5</td>\n",
       "      <td>29.0</td>\n",
       "      <td>34.0</td>\n",
       "      <td>12.4440</td>\n",
       "      <td>5.1340</td>\n",
       "      <td>0</td>\n",
       "    </tr>\n",
       "    <tr>\n",
       "      <th>...</th>\n",
       "      <td>...</td>\n",
       "      <td>...</td>\n",
       "      <td>...</td>\n",
       "      <td>...</td>\n",
       "      <td>...</td>\n",
       "      <td>...</td>\n",
       "      <td>...</td>\n",
       "    </tr>\n",
       "    <tr>\n",
       "      <th>157</th>\n",
       "      <td>19.7</td>\n",
       "      <td>13.2</td>\n",
       "      <td>14.3</td>\n",
       "      <td>15.2</td>\n",
       "      <td>2.8728</td>\n",
       "      <td>2.0672</td>\n",
       "      <td>5</td>\n",
       "    </tr>\n",
       "    <tr>\n",
       "      <th>158</th>\n",
       "      <td>19.9</td>\n",
       "      <td>13.8</td>\n",
       "      <td>15.0</td>\n",
       "      <td>16.2</td>\n",
       "      <td>2.9322</td>\n",
       "      <td>1.8792</td>\n",
       "      <td>5</td>\n",
       "    </tr>\n",
       "    <tr>\n",
       "      <th>52</th>\n",
       "      <td>NaN</td>\n",
       "      <td>NaN</td>\n",
       "      <td>NaN</td>\n",
       "      <td>NaN</td>\n",
       "      <td>NaN</td>\n",
       "      <td>NaN</td>\n",
       "      <td>4</td>\n",
       "    </tr>\n",
       "    <tr>\n",
       "      <th>53</th>\n",
       "      <td>NaN</td>\n",
       "      <td>NaN</td>\n",
       "      <td>NaN</td>\n",
       "      <td>NaN</td>\n",
       "      <td>NaN</td>\n",
       "      <td>NaN</td>\n",
       "      <td>4</td>\n",
       "    </tr>\n",
       "    <tr>\n",
       "      <th>54</th>\n",
       "      <td>NaN</td>\n",
       "      <td>NaN</td>\n",
       "      <td>NaN</td>\n",
       "      <td>NaN</td>\n",
       "      <td>NaN</td>\n",
       "      <td>NaN</td>\n",
       "      <td>4</td>\n",
       "    </tr>\n",
       "  </tbody>\n",
       "</table>\n",
       "<p>159 rows × 7 columns</p>\n",
       "</div>"
      ],
      "text/plain": [
       "     Weight  Length1  Length2  Length3   Height   Width  Species\n",
       "0     242.0     23.2     25.4     30.0  11.5200  4.0200        0\n",
       "1     290.0     24.0     26.3     31.2  12.4800  4.3056        0\n",
       "2     340.0     23.9     26.5     31.1  12.3778  4.6961        0\n",
       "3     363.0     26.3     29.0     33.5  12.7300  4.4555        0\n",
       "4     430.0     26.5     29.0     34.0  12.4440  5.1340        0\n",
       "..      ...      ...      ...      ...      ...     ...      ...\n",
       "157    19.7     13.2     14.3     15.2   2.8728  2.0672        5\n",
       "158    19.9     13.8     15.0     16.2   2.9322  1.8792        5\n",
       "52      NaN      NaN      NaN      NaN      NaN     NaN        4\n",
       "53      NaN      NaN      NaN      NaN      NaN     NaN        4\n",
       "54      NaN      NaN      NaN      NaN      NaN     NaN        4\n",
       "\n",
       "[159 rows x 7 columns]"
      ]
     },
     "execution_count": 17,
     "metadata": {},
     "output_type": "execute_result"
    }
   ],
   "source": [
    "df_sum=pd.concat([df_num,df_obj],axis=1)\n",
    "df_sum"
   ]
  },
  {
   "cell_type": "code",
   "execution_count": 18,
   "id": "1bde9168",
   "metadata": {},
   "outputs": [],
   "source": [
    "df_sum.to_csv('Fish2.csv',index='False',encoding='utf-8') #uniform text format"
   ]
  },
  {
   "cell_type": "code",
   "execution_count": 19,
   "id": "f5ffb9a2",
   "metadata": {},
   "outputs": [
    {
     "data": {
      "text/plain": [
       "Int64Index([52, 53, 54], dtype='int64')"
      ]
     },
     "execution_count": 19,
     "metadata": {},
     "output_type": "execute_result"
    }
   ],
   "source": [
    "aa=df_sum.tail(3).index\n",
    "aa"
   ]
  },
  {
   "cell_type": "code",
   "execution_count": 20,
   "id": "823e7fb3",
   "metadata": {},
   "outputs": [],
   "source": [
    "df_sum.drop(aa,inplace=True)"
   ]
  },
  {
   "cell_type": "code",
   "execution_count": 21,
   "id": "15cad0c9",
   "metadata": {},
   "outputs": [
    {
     "data": {
      "text/html": [
       "<div>\n",
       "<style scoped>\n",
       "    .dataframe tbody tr th:only-of-type {\n",
       "        vertical-align: middle;\n",
       "    }\n",
       "\n",
       "    .dataframe tbody tr th {\n",
       "        vertical-align: top;\n",
       "    }\n",
       "\n",
       "    .dataframe thead th {\n",
       "        text-align: right;\n",
       "    }\n",
       "</style>\n",
       "<table border=\"1\" class=\"dataframe\">\n",
       "  <thead>\n",
       "    <tr style=\"text-align: right;\">\n",
       "      <th></th>\n",
       "      <th>Weight</th>\n",
       "      <th>Length1</th>\n",
       "      <th>Length2</th>\n",
       "      <th>Length3</th>\n",
       "      <th>Height</th>\n",
       "      <th>Width</th>\n",
       "      <th>Species</th>\n",
       "    </tr>\n",
       "  </thead>\n",
       "  <tbody>\n",
       "    <tr>\n",
       "      <th>154</th>\n",
       "      <td>12.2</td>\n",
       "      <td>11.5</td>\n",
       "      <td>12.2</td>\n",
       "      <td>13.4</td>\n",
       "      <td>2.0904</td>\n",
       "      <td>1.3936</td>\n",
       "      <td>5</td>\n",
       "    </tr>\n",
       "    <tr>\n",
       "      <th>155</th>\n",
       "      <td>13.4</td>\n",
       "      <td>11.7</td>\n",
       "      <td>12.4</td>\n",
       "      <td>13.5</td>\n",
       "      <td>2.4300</td>\n",
       "      <td>1.2690</td>\n",
       "      <td>5</td>\n",
       "    </tr>\n",
       "    <tr>\n",
       "      <th>156</th>\n",
       "      <td>12.2</td>\n",
       "      <td>12.1</td>\n",
       "      <td>13.0</td>\n",
       "      <td>13.8</td>\n",
       "      <td>2.2770</td>\n",
       "      <td>1.2558</td>\n",
       "      <td>5</td>\n",
       "    </tr>\n",
       "    <tr>\n",
       "      <th>157</th>\n",
       "      <td>19.7</td>\n",
       "      <td>13.2</td>\n",
       "      <td>14.3</td>\n",
       "      <td>15.2</td>\n",
       "      <td>2.8728</td>\n",
       "      <td>2.0672</td>\n",
       "      <td>5</td>\n",
       "    </tr>\n",
       "    <tr>\n",
       "      <th>158</th>\n",
       "      <td>19.9</td>\n",
       "      <td>13.8</td>\n",
       "      <td>15.0</td>\n",
       "      <td>16.2</td>\n",
       "      <td>2.9322</td>\n",
       "      <td>1.8792</td>\n",
       "      <td>5</td>\n",
       "    </tr>\n",
       "  </tbody>\n",
       "</table>\n",
       "</div>"
      ],
      "text/plain": [
       "     Weight  Length1  Length2  Length3  Height   Width  Species\n",
       "154    12.2     11.5     12.2     13.4  2.0904  1.3936        5\n",
       "155    13.4     11.7     12.4     13.5  2.4300  1.2690        5\n",
       "156    12.2     12.1     13.0     13.8  2.2770  1.2558        5\n",
       "157    19.7     13.2     14.3     15.2  2.8728  2.0672        5\n",
       "158    19.9     13.8     15.0     16.2  2.9322  1.8792        5"
      ]
     },
     "execution_count": 21,
     "metadata": {},
     "output_type": "execute_result"
    }
   ],
   "source": [
    "df_sum.tail()"
   ]
  },
  {
   "cell_type": "code",
   "execution_count": 22,
   "id": "74eba83e",
   "metadata": {},
   "outputs": [],
   "source": [
    "X=df_sum.drop('Weight',axis=1)\n",
    "Y=df_sum['Weight']\n",
    "\n"
   ]
  },
  {
   "cell_type": "code",
   "execution_count": 23,
   "id": "5dd77d17",
   "metadata": {},
   "outputs": [],
   "source": [
    "from sklearn.model_selection import train_test_split"
   ]
  },
  {
   "cell_type": "code",
   "execution_count": 24,
   "id": "67a20549",
   "metadata": {},
   "outputs": [],
   "source": [
    "X_train,X_test,Y_train,Y_test=train_test_split(X,Y,test_size=0.3,random_state=1)"
   ]
  },
  {
   "cell_type": "code",
   "execution_count": 25,
   "id": "ecabd9b0",
   "metadata": {},
   "outputs": [
    {
     "data": {
      "text/plain": [
       "(109, 6)"
      ]
     },
     "execution_count": 25,
     "metadata": {},
     "output_type": "execute_result"
    }
   ],
   "source": [
    "X_train.shape"
   ]
  },
  {
   "cell_type": "code",
   "execution_count": 26,
   "id": "9942da1b",
   "metadata": {},
   "outputs": [
    {
     "data": {
      "text/plain": [
       "(47, 6)"
      ]
     },
     "execution_count": 26,
     "metadata": {},
     "output_type": "execute_result"
    }
   ],
   "source": [
    "X_test.shape"
   ]
  },
  {
   "cell_type": "code",
   "execution_count": 27,
   "id": "2316aa38",
   "metadata": {},
   "outputs": [
    {
     "data": {
      "text/plain": [
       "(109,)"
      ]
     },
     "execution_count": 27,
     "metadata": {},
     "output_type": "execute_result"
    }
   ],
   "source": [
    "Y_train.shape"
   ]
  },
  {
   "cell_type": "code",
   "execution_count": 28,
   "id": "7b351a70",
   "metadata": {},
   "outputs": [
    {
     "data": {
      "text/plain": [
       "(47,)"
      ]
     },
     "execution_count": 28,
     "metadata": {},
     "output_type": "execute_result"
    }
   ],
   "source": [
    "Y_test.shape"
   ]
  },
  {
   "cell_type": "code",
   "execution_count": 29,
   "id": "b35b2321",
   "metadata": {},
   "outputs": [],
   "source": [
    "from sklearn.preprocessing import StandardScaler\n",
    "ss=StandardScaler()\n",
    "X_train=ss.fit_transform(X_train)\n",
    "X_test=ss.transform(X_test)"
   ]
  },
  {
   "cell_type": "code",
   "execution_count": 30,
   "id": "100cd952",
   "metadata": {},
   "outputs": [
    {
     "data": {
      "text/plain": [
       "array([[ 6.06868892e-02,  2.02766072e-02, -1.11917012e-01,\n",
       "        -3.46697978e-01,  1.43618212e-01, -8.30977109e-02],\n",
       "       [ 1.77215349e+00,  1.71963653e+00,  1.57507593e+00,\n",
       "        -2.96987315e-01,  2.93627146e-01,  5.20745655e-01],\n",
       "       [-8.94794466e-01, -8.73606356e-01, -9.55413483e-01,\n",
       "        -9.35053000e-01, -8.78565432e-01, -8.30977109e-02],\n",
       "       [ 4.80678694e-01,  4.91775313e-01,  6.59020622e-01,\n",
       "         1.58783526e+00,  4.62307269e-01, -1.29078444e+00],\n",
       "       [-4.53803072e-01, -4.41399209e-01, -3.74942793e-01,\n",
       "        -3.58909301e-01, -3.68049092e-01,  1.12458902e+00],\n",
       "       [ 1.86877087e-02,  4.97452763e-02,  2.41807314e-01,\n",
       "         8.21262220e-01,  4.62435154e-01, -1.29078444e+00],\n",
       "       [-6.11299998e-01, -5.88742554e-01, -5.47270029e-01,\n",
       "        -4.79339872e-01, -3.77576514e-01,  1.12458902e+00],\n",
       "       [-9.68100375e-02, -9.75980693e-02, -2.20755267e-01,\n",
       "        -4.19389005e-01,  9.93700518e-02, -8.30977109e-02],\n",
       "       [-8.10796105e-01, -8.34314797e-01, -8.28435520e-01,\n",
       "        -6.75826796e-01, -5.34938827e-01,  1.12458902e+00],\n",
       "       [-1.03129180e+00, -1.01112681e+00, -1.00076276e+00,\n",
       "        -8.96423872e-01, -1.01610559e+00,  1.12458902e+00],\n",
       "       [ 1.33116210e+00,  1.32672094e+00,  1.20321189e+00,\n",
       "         9.06885712e-01,  1.57145261e+00, -8.30977109e-02],\n",
       "       [-1.57728115e+00, -1.63979175e+00, -1.65379228e+00,\n",
       "        -1.63785312e+00, -2.07486430e+00,  1.72843239e+00],\n",
       "       [ 8.06172342e-01,  7.37347556e-01,  6.31811059e-01,\n",
       "         3.80188258e-01,  1.48986208e+00, -8.30977109e-02],\n",
       "       [ 2.91682382e-01,  2.95317519e-01,  4.59483823e-01,\n",
       "         1.13741050e+00, -2.73638391e-02, -1.29078444e+00],\n",
       "       [ 2.49683201e-01,  2.46203070e-01,  4.41344114e-01,\n",
       "         1.28457137e+00,  2.58203041e-01, -1.29078444e+00],\n",
       "       [-6.63798974e-01, -6.37857003e-01, -7.10527411e-01,\n",
       "        -7.01307117e-01, -5.66398501e-01, -8.30977109e-02],\n",
       "       [ 5.64677055e-01,  5.40889761e-01,  5.86461786e-01,\n",
       "        -7.97988106e-01, -1.61642936e-01,  5.20745655e-01],\n",
       "       [-2.96306145e-01, -2.84232974e-01, -3.93082502e-01,\n",
       "        -5.92895565e-01, -1.09849570e-01, -8.30977109e-02],\n",
       "       [ 1.11066640e+00,  1.13026314e+00,  9.94605240e-01,\n",
       "         6.97370171e-01,  1.72363559e+00, -8.30977109e-02],\n",
       "       [-2.54306964e-01, -1.95826966e-01, -2.12184670e-02,\n",
       "         8.05349039e-01,  1.82431265e-01, -1.29078444e+00],\n",
       "       [ 5.96176440e-01,  5.90004210e-01,  4.68553677e-01,\n",
       "         2.95430135e-01,  1.26395348e+00, -8.30977109e-02],\n",
       "       [ 5.01870941e-02,  1.18505504e-01,  2.87156587e-01,\n",
       "         1.23844237e+00,  5.54831962e-01, -1.29078444e+00],\n",
       "       [-3.27805530e-01, -3.03878753e-01, -1.20986867e-01,\n",
       "         5.99150747e-01, -2.49883486e-01, -1.29078444e+00],\n",
       "       [ 1.06866722e+00,  1.03203425e+00,  9.12976549e-01,\n",
       "         5.06988909e-01,  1.97109278e+00, -8.30977109e-02],\n",
       "       [-6.84798564e-01, -6.86971451e-01, -6.56108284e-01,\n",
       "         1.70408299e-01, -8.01642692e-01, -6.86941077e-01],\n",
       "       [ 2.28683611e-01,  2.46203070e-01,  2.41807314e-01,\n",
       "         4.12615571e-01,  1.37553302e+00,  2.33227575e+00],\n",
       "       [-7.68796925e-01, -7.36085900e-01, -8.01225956e-01,\n",
       "        -8.01665926e-01, -4.75280543e-01, -8.30977109e-02],\n",
       "       [-6.63798974e-01, -6.37857003e-01, -7.10527411e-01,\n",
       "        -8.14285896e-01, -5.66398501e-01, -8.30977109e-02],\n",
       "       [-5.58801023e-01, -5.88742554e-01, -5.74479593e-01,\n",
       "        -5.95539749e-01, -6.94283356e-01,  1.12458902e+00],\n",
       "       [-8.31795696e-01, -8.34314797e-01, -8.10295810e-01,\n",
       "        -3.23765910e-02, -7.14872818e-01, -6.86941077e-01],\n",
       "       [-1.06279119e+00, -1.03077259e+00, -1.10053116e+00,\n",
       "        -9.14668743e-01, -6.96457399e-01, -8.30977109e-02],\n",
       "       [ 1.13166599e+00,  1.13026314e+00,  1.01274495e+00,\n",
       "         5.06604300e-01,  1.41901387e+00, -8.30977109e-02],\n",
       "       [-3.90804301e-01, -3.82461871e-01, -4.65641339e-01,\n",
       "        -5.51453987e-01, -1.56655427e-01, -8.30977109e-02],\n",
       "       [-4.43110620e-02, -4.84836207e-02, -1.75405994e-01,\n",
       "        -2.90160512e-01, -1.32101535e-01, -8.30977109e-02],\n",
       "       [-5.58801023e-01, -5.39628106e-01, -6.19828865e-01,\n",
       "        -9.15606227e-01, -5.01816650e-01, -8.30977109e-02],\n",
       "       [ 2.18183816e-01,  2.46203070e-01,  4.41344114e-01,\n",
       "         1.25846606e+00,  4.43380311e-01, -1.29078444e+00],\n",
       "       [ 1.22616415e+00,  1.22849204e+00,  1.37553913e+00,\n",
       "         2.06631241e+00,  1.25308327e+00, -1.29078444e+00],\n",
       "       [ 1.03716784e+00,  1.08114870e+00,  1.26670088e+00,\n",
       "         2.33811050e+00,  1.49555295e+00, -1.29078444e+00],\n",
       "       [ 1.01616824e+00,  9.82919798e-01,  8.76697131e-01,\n",
       "        -6.32558328e-01, -2.77378730e-01,  5.20745655e-01],\n",
       "       [-8.52795286e-01, -8.53960576e-01, -8.28435520e-01,\n",
       "        -8.19910797e-01, -7.90452767e-01,  1.12458902e+00],\n",
       "       [-6.63798974e-01, -6.37857003e-01, -7.10527411e-01,\n",
       "        -7.01307117e-01, -6.41530854e-01, -8.30977109e-02],\n",
       "       [ 1.06866722e+00,  1.03203425e+00,  9.12976549e-01,\n",
       "         5.06988909e-01,  1.01809485e+00, -8.30977109e-02],\n",
       "       [-1.31478627e+00, -1.32545928e+00, -1.37262679e+00,\n",
       "        -1.46518789e+00, -1.61876297e+00,  1.72843239e+00],\n",
       "       [ 6.69675006e-01,  7.37347556e-01,  9.22046403e-01,\n",
       "         1.80033151e+00,  9.21222070e-01, -1.29078444e+00],\n",
       "       [ 5.75176850e-01,  6.39118659e-01,  8.40417713e-01,\n",
       "         1.54831672e+00,  1.09968538e+00, -1.29078444e+00],\n",
       "       [-3.48805120e-01, -3.43170312e-01, -3.02383957e-01,\n",
       "         4.95306422e-01, -1.70594876e-01, -6.86941077e-01],\n",
       "       [ 2.28683611e-01,  2.16734401e-01,  4.41344114e-01,\n",
       "         1.24976429e+00,  3.50791676e-01, -1.29078444e+00],\n",
       "       [-1.55628156e+00, -1.60050019e+00, -1.62658272e+00,\n",
       "        -1.66754010e+00, -1.92926740e+00,  1.72843239e+00],\n",
       "       [-9.68100375e-02, -9.75980693e-02, -2.20755267e-01,\n",
       "        -4.47176977e-01, -4.84648401e-02, -8.30977109e-02],\n",
       "       [ 6.48675416e-01,  6.39118659e-01,  5.41112513e-01,\n",
       "         5.91554727e-01,  2.16439074e+00, -8.30977109e-02],\n",
       "       [ 1.94015022e+00,  1.91609432e+00,  1.80182229e+00,\n",
       "        -3.23909918e-01,  6.17175828e-01,  5.20745655e-01],\n",
       "       [-6.63798974e-01, -6.37857003e-01, -7.10527411e-01,\n",
       "        -8.42530591e-01, -2.65869093e-01, -8.30977109e-02],\n",
       "       [-1.38809218e-01, -1.95826966e-01, -3.02383957e-01,\n",
       "        -4.46984673e-01, -1.70594876e-01, -8.30977109e-02],\n",
       "       [-1.67177931e+00, -1.71837487e+00, -1.75356068e+00,\n",
       "        -1.64215593e+00, -1.93796357e+00,  1.72843239e+00],\n",
       "       [ 8.69171113e-01,  8.35576453e-01,  7.22509604e-01,\n",
       "         3.71198031e-01,  1.25058951e+00, -8.30977109e-02],\n",
       "       [-7.68796925e-01, -7.65554569e-01, -7.37736974e-01,\n",
       "         8.85828170e-02, -6.39676523e-01, -6.86941077e-01],\n",
       "       [ 3.23181767e-01,  3.44431967e-01,  5.32042659e-01,\n",
       "         1.54096108e+00,  7.47618380e-01, -1.29078444e+00],\n",
       "       [-7.37297540e-01, -7.06617231e-01, -7.74016392e-01,\n",
       "        -6.35442892e-01, -5.60643683e-01, -8.30977109e-02],\n",
       "       [-7.58297130e-01, -7.55731679e-01, -7.46806829e-01,\n",
       "        -6.87437169e-01, -6.49076060e-01,  1.12458902e+00],\n",
       "       [-7.68796925e-01, -7.36085900e-01, -8.01225956e-01,\n",
       "        -7.47580340e-01, -7.05473281e-01, -8.30977109e-02],\n",
       "       [-2.85806350e-01, -2.44941415e-01, -2.38894976e-01,\n",
       "        -1.55547498e-01, -1.04350522e-01,  2.33227575e+00],\n",
       "       [ 5.96176440e-01,  6.39118659e-01,  8.40417713e-01,\n",
       "         1.76302448e+00,  1.07372476e+00, -1.29078444e+00],\n",
       "       [-9.57793237e-01, -9.32543694e-01, -1.00983261e+00,\n",
       "        -8.15295494e-01, -8.69997146e-01, -8.30977109e-02],\n",
       "       [-6.21799793e-01, -6.37857003e-01, -6.01689156e-01,\n",
       "        -7.74743323e-01, -4.19714573e-01,  1.12458902e+00],\n",
       "       [ 5.85676645e-01,  6.39118659e-01,  8.31347858e-01,\n",
       "         1.73386634e+00,  7.53373198e-01, -1.29078444e+00],\n",
       "       [-1.37778504e+00, -1.39421951e+00, -1.46332534e+00,\n",
       "        -1.47946649e+00, -1.49855121e+00,  1.72843239e+00],\n",
       "       [ 1.12116620e+00,  1.13026314e+00,  1.00367509e+00,\n",
       "         8.06070180e-01,  1.95127063e+00, -8.30977109e-02],\n",
       "       [ 1.43616005e+00,  1.37583539e+00,  1.28484058e+00,\n",
       "        -5.29435144e-01,  3.08237697e-02,  5.20745655e-01],\n",
       "       [-4.53803072e-01, -5.00336547e-01, -4.20292066e-01,\n",
       "        -5.07728795e-01, -4.98491644e-01,  1.12458902e+00],\n",
       "       [ 5.33177669e-01,  5.40889761e-01,  7.13439749e-01,\n",
       "         1.67451642e+00,  6.13595052e-01, -1.29078444e+00],\n",
       "       [-1.45128361e+00, -1.45315685e+00, -1.50867461e+00,\n",
       "        -1.32196926e+00, -1.54203206e+00, -8.30977109e-02],\n",
       "       [-2.31188149e-03,  4.97452763e-02,  1.96458042e-01,\n",
       "         8.90011009e-01,  2.85857848e-02, -1.29078444e+00],\n",
       "       [-1.62978012e+00, -1.68890620e+00, -1.69914155e+00,\n",
       "        -1.69451078e+00, -1.99858099e+00,  1.72843239e+00],\n",
       "       [ 9.11170294e-01,  9.82919798e-01,  1.15786262e+00,\n",
       "         2.16568566e+00,  1.21203223e+00, -1.29078444e+00],\n",
       "       [-1.49328279e+00, -1.52191708e+00, -1.59030330e+00,\n",
       "        -1.62268512e+00, -2.01738006e+00,  1.72843239e+00],\n",
       "       [ 1.41516046e+00,  1.42494983e+00,  1.25763102e+00,\n",
       "         6.98379769e-01,  1.83284926e+00, -8.30977109e-02],\n",
       "       [ 4.38679513e-01,  4.23015085e-01,  2.41807314e-01,\n",
       "         2.40983979e-01,  1.02768621e+00, -8.30977109e-02],\n",
       "       [-5.48301228e-01, -5.88742554e-01, -5.74479593e-01,\n",
       "        -6.31596806e-01, -3.90556826e-01,  1.12458902e+00],\n",
       "       [ 1.07916702e+00,  1.03203425e+00,  9.03906694e-01,\n",
       "         8.18209389e-01,  1.88029454e+00, -8.30977109e-02],\n",
       "       [ 3.33681562e-01,  3.44431967e-01,  5.41112513e-01,\n",
       "         1.17435696e+00,  4.23302389e-01, -1.29078444e+00],\n",
       "       [-6.11299998e-01, -5.88742554e-01, -6.65178138e-01,\n",
       "        -7.62363734e-01, -5.03095498e-01, -8.30977109e-02],\n",
       "       [ 1.34185455e-01,  1.47974173e-01,  3.41575714e-01,\n",
       "         1.19647196e+00,  2.76874230e-01, -1.29078444e+00],\n",
       "       [-1.05229139e+00, -1.06024126e+00, -1.04611203e+00,\n",
       "        -3.89966447e-01, -1.11118798e+00, -6.86941077e-01],\n",
       "       [ 8.90170703e-01,  8.65045122e-01,  7.67858876e-01,\n",
       "        -6.58423257e-01, -2.50011371e-01,  5.20745655e-01],\n",
       "       [-2.43807169e-01, -2.15472746e-01, -1.21486125e-02,\n",
       "         8.29915914e-01, -6.72639138e-02, -1.29078444e+00],\n",
       "       [ 1.15266558e+00,  1.13026314e+00,  1.10344349e+00,\n",
       "         7.99627985e-01,  1.35187432e+00,  2.33227575e+00],\n",
       "       [ 5.43677465e-01,  5.90004210e-01,  7.58789022e-01,\n",
       "         1.56132130e+00,  5.55855040e-01, -1.29078444e+00],\n",
       "       [-9.26293852e-01, -9.32543694e-01, -9.10064210e-01,\n",
       "        -1.52711010e-01, -9.54465093e-01, -6.86941077e-01],\n",
       "       [-7.68796925e-01, -7.65554569e-01, -7.37736974e-01,\n",
       "        -1.17759703e-01, -7.13849739e-01, -6.86941077e-01],\n",
       "       [ 1.34185455e-01,  1.47974173e-01,  3.32505859e-01,\n",
       "         8.75588186e-01,  1.78530777e-01, -1.29078444e+00],\n",
       "       [-1.53528197e+00, -1.58085441e+00, -1.61751286e+00,\n",
       "        -1.58590692e+00, -2.00893966e+00,  1.72843239e+00],\n",
       "       [-6.63798974e-01, -6.37857003e-01, -7.10527411e-01,\n",
       "        -7.57796506e-01, -5.66398501e-01, -8.30977109e-02],\n",
       "       [-3.48805120e-01, -3.43170312e-01, -4.38431775e-01,\n",
       "        -6.22101781e-01, -4.65049754e-01, -8.30977109e-02],\n",
       "       [-2.43807169e-01, -2.44941415e-01, -2.11685412e-01,\n",
       "         5.62612929e-01, -1.13046692e-01, -6.86941077e-01],\n",
       "       [-4.43303276e-01, -4.90513657e-01, -4.11222211e-01,\n",
       "        -3.91985642e-01, -1.81337204e-01,  1.12458902e+00],\n",
       "       [ 3.11612727e+00,  3.09484108e+00,  2.96276367e+00,\n",
       "         1.37620415e-01,  1.10825367e+00,  5.20745655e-01],\n",
       "       [-9.68100375e-02, -9.75980693e-02, -2.20755267e-01,\n",
       "        -4.74964949e-01, -4.84648401e-02, -8.30977109e-02],\n",
       "       [ 5.22677874e-01,  5.40889761e-01,  7.40649313e-01,\n",
       "         1.46656335e+00,  7.40904425e-01, -1.29078444e+00],\n",
       "       [ 5.75176850e-01,  6.39118659e-01,  8.67627276e-01,\n",
       "         1.76259179e+00,  1.05019395e+00, -1.29078444e+00],\n",
       "       [ 1.64615595e+00,  1.62140763e+00,  1.51158695e+00,\n",
       "        -4.96983792e-01,  3.10252177e-01,  5.20745655e-01],\n",
       "       [-1.31478627e+00, -1.32545928e+00, -1.39076650e+00,\n",
       "        -1.25081667e+00, -1.26528923e+00, -8.30977109e-02],\n",
       "       [ 9.63669269e-01,  9.33805350e-01,  8.31347858e-01,\n",
       "        -4.17658266e-01,  1.05956122e-01,  5.20745655e-01],\n",
       "       [-1.70327869e+00, -1.75766643e+00, -1.78984010e+00,\n",
       "        -1.75455780e+00, -2.08605423e+00,  1.72843239e+00],\n",
       "       [-7.68796925e-01, -7.36085900e-01, -8.01225956e-01,\n",
       "        -8.01665926e-01, -5.47215773e-01, -8.30977109e-02],\n",
       "       [ 1.44665984e+00,  1.42494983e+00,  1.31205015e+00,\n",
       "        -2.98429597e-01,  4.59621687e-01,  5.20745655e-01],\n",
       "       [ 2.30764304e+00,  2.27954124e+00,  2.15554662e+00,\n",
       "        -2.43478863e-02,  1.12564601e+00,  5.20745655e-01],\n",
       "       [-1.18878873e+00, -1.20758461e+00, -1.28192825e+00,\n",
       "        -1.06610838e+00, -1.13766015e+00, -8.30977109e-02],\n",
       "       [ 3.11612727e+00,  3.09484108e+00,  2.96276367e+00,\n",
       "         1.37620415e-01,  1.10825367e+00,  5.20745655e-01],\n",
       "       [-9.26293852e-01, -9.52189473e-01, -9.19134065e-01,\n",
       "        -8.29766393e-01, -9.63225205e-01,  1.12458902e+00]])"
      ]
     },
     "execution_count": 30,
     "metadata": {},
     "output_type": "execute_result"
    }
   ],
   "source": [
    "X_train"
   ]
  },
  {
   "cell_type": "code",
   "execution_count": 31,
   "id": "1e6d0fba",
   "metadata": {},
   "outputs": [
    {
     "data": {
      "text/plain": [
       "array([[ 1.1211662 ,  1.13026314,  1.01274495,  0.64963063,  1.79947131,\n",
       "        -0.08309771],\n",
       "       [-0.99979242, -0.96201236, -1.08239145, -0.92024557, -0.82319129,\n",
       "        -0.08309771],\n",
       "       [-0.28580635, -0.32352453, -0.31145381, -0.46655164, -0.32277785,\n",
       "         1.12458902],\n",
       "       [ 0.91117029,  0.9829198 ,  1.14879277,  2.17700757,  1.20288846,\n",
       "        -1.29078444],\n",
       "       [-1.40928443, -1.41386529, -1.37262679, -1.17312573, -1.37015481,\n",
       "         1.12458902],\n",
       "       [-0.76879693, -0.78520035, -0.77401639, -0.6135202 , -0.67727467,\n",
       "         1.12458902],\n",
       "       [ 0.32318177,  0.34443197,  0.53204266,  1.42471313,  0.48596597,\n",
       "        -1.29078444],\n",
       "       [ 0.80617234,  0.786462  ,  0.69530004,  0.44554768,  1.56863915,\n",
       "        -0.08309771],\n",
       "       [-0.23330737, -0.19582697, -0.18447585, -0.21203689, -0.10377504,\n",
       "         2.33227575],\n",
       "       [-1.64027992, -1.69872909, -1.71728126, -1.66927084, -2.00369638,\n",
       "         1.72843239],\n",
       "       [-1.56678135, -1.62014597, -1.64472243, -1.64013673, -2.08605423,\n",
       "         1.72843239],\n",
       "       [-0.85279529, -0.8343148 , -0.93727377, -0.94841815, -1.04788498,\n",
       "        -0.08309771],\n",
       "       [-0.50630205, -0.49051366, -0.57447959, -0.66164435, -0.43851365,\n",
       "        -0.08309771],\n",
       "       [-0.59030041, -0.56909678, -0.64703843, -0.73899876, -0.49925895,\n",
       "        -0.08309771],\n",
       "       [-0.6113    , -0.58874255, -0.66517814, -0.5373677 , -0.5030955 ,\n",
       "        -0.08309771],\n",
       "       [ 0.05018709,  0.1185055 ,  0.3052963 ,  1.09971885,  0.3303301 ,\n",
       "        -1.29078444],\n",
       "       [ 1.45715964,  1.47406428,  1.33018986,  0.85972308,  2.38582337,\n",
       "        -0.08309771],\n",
       "       [ 0.42817972,  0.44266086,  0.63181106,  1.40211737,  0.55924399,\n",
       "        -1.29078444],\n",
       "       [ 0.49117849,  0.49177531,  0.66809048,  1.30918632,  0.8419974 ,\n",
       "        -1.29078444],\n",
       "       [ 0.75367337,  0.83557645,  1.0218148 ,  2.38685964,  1.40174941,\n",
       "        -1.29078444],\n",
       "       [ 0.77467296,  0.77663911,  0.74971917,  0.6571305 ,  1.38295034,\n",
       "         2.33227575],\n",
       "       [-1.71377849, -1.76748932, -1.7898401 , -1.69600114, -2.07863691,\n",
       "         1.72843239],\n",
       "       [-1.78727705, -1.83624955, -1.86239894, -1.75205784, -2.1505082 ,\n",
       "         1.72843239],\n",
       "       [-0.11780963, -0.11724385, -0.23889498, -0.16934533,  0.46454525,\n",
       "        -0.08309771],\n",
       "       [-0.45380307, -0.44139921, -0.52913032, -0.41693713, -0.4397925 ,\n",
       "        -0.08309771],\n",
       "       [-1.97627336, -1.97377   , -2.04379603, -1.66234788, -1.92005969,\n",
       "        -0.08309771],\n",
       "       [-0.45380307, -0.44139921, -0.52913032, -0.63760632, -0.37457122,\n",
       "        -0.08309771],\n",
       "       [-0.72679774, -0.7360859 , -0.6923877 , -0.70020137, -0.71391368,\n",
       "         1.12458902],\n",
       "       [ 1.44665984,  1.42494983,  1.28484058,  0.83772828,  1.92192106,\n",
       "        -0.08309771],\n",
       "       [-0.6113    , -0.637857  , -0.63796857, -0.57537183, -0.55181963,\n",
       "         1.12458902],\n",
       "       [ 0.15518505,  0.14797417,  0.02413081, -0.33939041,  0.2307078 ,\n",
       "        -0.08309771],\n",
       "       [ 2.69613546,  2.7019255 ,  2.57275993,  0.39874562,  1.64594554,\n",
       "         0.52074566],\n",
       "       [-0.53780143, -0.53962811, -0.50192076,  0.3168961 , -0.4777743 ,\n",
       "        -0.68694108],\n",
       "       [ 1.16316538,  1.22849204,  1.32112   ,  2.30955331,  1.49401833,\n",
       "        -1.29078444],\n",
       "       [ 3.43112112,  3.42881933,  3.32555785,  0.42896144,  1.9625245 ,\n",
       "         0.52074566],\n",
       "       [-1.2622873 , -1.27634483, -1.26378854, -0.5890014 , -1.34061341,\n",
       "        -0.68694108],\n",
       "       [ 0.66967501,  0.63911866,  0.67716033, -0.74303715, -0.01687728,\n",
       "         0.52074566],\n",
       "       [ 1.43616005,  1.37583539,  1.28484058, -0.42006207, -0.05645764,\n",
       "         0.52074566],\n",
       "       [-1.57728115, -1.63979175, -1.65379228, -1.63785312, -1.99947618,\n",
       "         1.72843239],\n",
       "       [ 0.38618054,  0.37390064,  0.31436615, -0.83159328, -0.66192849,\n",
       "         0.52074566],\n",
       "       [-1.34628566, -1.35492795, -1.34541723, -0.52402659, -1.33274849,\n",
       "        -0.68694108],\n",
       "       [ 0.6801748 ,  0.73734756,  0.93111626,  1.88989724,  1.14303835,\n",
       "        -1.29078444],\n",
       "       [ 1.5516578 ,  1.52317873,  1.38460898,  0.83203126,  2.03656983,\n",
       "        -0.08309771],\n",
       "       [ 0.85867132,  0.83557645,  0.73157946,  0.43449019,  1.18536824,\n",
       "        -0.08309771],\n",
       "       [-0.07581045, -0.04848362, -0.04842803, -0.05997226,  0.17315961,\n",
       "         2.33227575],\n",
       "       [ 0.42817972,  0.44266086,  0.64995077,  1.42077089,  0.5030386 ,\n",
       "        -1.29078444],\n",
       "       [-1.11529016, -1.08970993, -1.16402014, -1.06716606, -0.93950256,\n",
       "        -0.08309771]])"
      ]
     },
     "execution_count": 31,
     "metadata": {},
     "output_type": "execute_result"
    }
   ],
   "source": [
    "X_test"
   ]
  },
  {
   "cell_type": "code",
   "execution_count": 32,
   "id": "23ae0908",
   "metadata": {},
   "outputs": [
    {
     "data": {
      "text/html": [
       "<style>#sk-container-id-1 {color: black;background-color: white;}#sk-container-id-1 pre{padding: 0;}#sk-container-id-1 div.sk-toggleable {background-color: white;}#sk-container-id-1 label.sk-toggleable__label {cursor: pointer;display: block;width: 100%;margin-bottom: 0;padding: 0.3em;box-sizing: border-box;text-align: center;}#sk-container-id-1 label.sk-toggleable__label-arrow:before {content: \"▸\";float: left;margin-right: 0.25em;color: #696969;}#sk-container-id-1 label.sk-toggleable__label-arrow:hover:before {color: black;}#sk-container-id-1 div.sk-estimator:hover label.sk-toggleable__label-arrow:before {color: black;}#sk-container-id-1 div.sk-toggleable__content {max-height: 0;max-width: 0;overflow: hidden;text-align: left;background-color: #f0f8ff;}#sk-container-id-1 div.sk-toggleable__content pre {margin: 0.2em;color: black;border-radius: 0.25em;background-color: #f0f8ff;}#sk-container-id-1 input.sk-toggleable__control:checked~div.sk-toggleable__content {max-height: 200px;max-width: 100%;overflow: auto;}#sk-container-id-1 input.sk-toggleable__control:checked~label.sk-toggleable__label-arrow:before {content: \"▾\";}#sk-container-id-1 div.sk-estimator input.sk-toggleable__control:checked~label.sk-toggleable__label {background-color: #d4ebff;}#sk-container-id-1 div.sk-label input.sk-toggleable__control:checked~label.sk-toggleable__label {background-color: #d4ebff;}#sk-container-id-1 input.sk-hidden--visually {border: 0;clip: rect(1px 1px 1px 1px);clip: rect(1px, 1px, 1px, 1px);height: 1px;margin: -1px;overflow: hidden;padding: 0;position: absolute;width: 1px;}#sk-container-id-1 div.sk-estimator {font-family: monospace;background-color: #f0f8ff;border: 1px dotted black;border-radius: 0.25em;box-sizing: border-box;margin-bottom: 0.5em;}#sk-container-id-1 div.sk-estimator:hover {background-color: #d4ebff;}#sk-container-id-1 div.sk-parallel-item::after {content: \"\";width: 100%;border-bottom: 1px solid gray;flex-grow: 1;}#sk-container-id-1 div.sk-label:hover label.sk-toggleable__label {background-color: #d4ebff;}#sk-container-id-1 div.sk-serial::before {content: \"\";position: absolute;border-left: 1px solid gray;box-sizing: border-box;top: 0;bottom: 0;left: 50%;z-index: 0;}#sk-container-id-1 div.sk-serial {display: flex;flex-direction: column;align-items: center;background-color: white;padding-right: 0.2em;padding-left: 0.2em;position: relative;}#sk-container-id-1 div.sk-item {position: relative;z-index: 1;}#sk-container-id-1 div.sk-parallel {display: flex;align-items: stretch;justify-content: center;background-color: white;position: relative;}#sk-container-id-1 div.sk-item::before, #sk-container-id-1 div.sk-parallel-item::before {content: \"\";position: absolute;border-left: 1px solid gray;box-sizing: border-box;top: 0;bottom: 0;left: 50%;z-index: -1;}#sk-container-id-1 div.sk-parallel-item {display: flex;flex-direction: column;z-index: 1;position: relative;background-color: white;}#sk-container-id-1 div.sk-parallel-item:first-child::after {align-self: flex-end;width: 50%;}#sk-container-id-1 div.sk-parallel-item:last-child::after {align-self: flex-start;width: 50%;}#sk-container-id-1 div.sk-parallel-item:only-child::after {width: 0;}#sk-container-id-1 div.sk-dashed-wrapped {border: 1px dashed gray;margin: 0 0.4em 0.5em 0.4em;box-sizing: border-box;padding-bottom: 0.4em;background-color: white;}#sk-container-id-1 div.sk-label label {font-family: monospace;font-weight: bold;display: inline-block;line-height: 1.2em;}#sk-container-id-1 div.sk-label-container {text-align: center;}#sk-container-id-1 div.sk-container {/* jupyter's `normalize.less` sets `[hidden] { display: none; }` but bootstrap.min.css set `[hidden] { display: none !important; }` so we also need the `!important` here to be able to override the default hidden behavior on the sphinx rendered scikit-learn.org. See: https://github.com/scikit-learn/scikit-learn/issues/21755 */display: inline-block !important;position: relative;}#sk-container-id-1 div.sk-text-repr-fallback {display: none;}</style><div id=\"sk-container-id-1\" class=\"sk-top-container\"><div class=\"sk-text-repr-fallback\"><pre>LinearRegression()</pre><b>In a Jupyter environment, please rerun this cell to show the HTML representation or trust the notebook. <br />On GitHub, the HTML representation is unable to render, please try loading this page with nbviewer.org.</b></div><div class=\"sk-container\" hidden><div class=\"sk-item\"><div class=\"sk-estimator sk-toggleable\"><input class=\"sk-toggleable__control sk-hidden--visually\" id=\"sk-estimator-id-1\" type=\"checkbox\" checked><label for=\"sk-estimator-id-1\" class=\"sk-toggleable__label sk-toggleable__label-arrow\">LinearRegression</label><div class=\"sk-toggleable__content\"><pre>LinearRegression()</pre></div></div></div></div></div>"
      ],
      "text/plain": [
       "LinearRegression()"
      ]
     },
     "execution_count": 32,
     "metadata": {},
     "output_type": "execute_result"
    }
   ],
   "source": [
    "from sklearn.linear_model import LinearRegression\n",
    "lr=LinearRegression()\n",
    "lr.fit(X_train,Y_train)"
   ]
  },
  {
   "cell_type": "code",
   "execution_count": 33,
   "id": "254b3de0",
   "metadata": {},
   "outputs": [
    {
     "data": {
      "text/plain": [
       "array([  88.7586278 ,  660.02327644, -547.82851701,  207.6883312 ,\n",
       "         -2.62409458,   72.91090802])"
      ]
     },
     "execution_count": 33,
     "metadata": {},
     "output_type": "execute_result"
    }
   ],
   "source": [
    "lr.coef_"
   ]
  },
  {
   "cell_type": "code",
   "execution_count": 34,
   "id": "a32d2d48",
   "metadata": {},
   "outputs": [
    {
     "data": {
      "text/plain": [
       "388.5064220183485"
      ]
     },
     "execution_count": 34,
     "metadata": {},
     "output_type": "execute_result"
    }
   ],
   "source": [
    "lr.intercept_"
   ]
  },
  {
   "cell_type": "code",
   "execution_count": 35,
   "id": "9a457ed4",
   "metadata": {},
   "outputs": [
    {
     "data": {
      "text/plain": [
       "array([ 803.34900357,   62.75770373,  306.17267608,  843.65946565,\n",
       "        -75.85393402,  182.39786031,  553.56537287,  680.59927948,\n",
       "        465.89222519, -152.91627657, -128.00882972,   75.3272354 ,\n",
       "        192.20977926,  156.73110664,  193.7244767 ,  437.3470241 ,\n",
       "        928.27780965,  568.17706763,  566.26786396,  845.0543631 ,\n",
       "        862.04537027, -170.42837977, -194.03928936,  389.09082244,\n",
       "        255.26876247, -316.25985697,  209.26719982,  155.9172822 ,\n",
       "        916.42206699,  226.68999951,  409.57573155, 1118.17790453,\n",
       "        276.55514825,  960.46807718, 1256.22164339,  -42.506685  ,\n",
       "        382.50348786,  671.0632833 , -136.69163295,  364.34043813,\n",
       "        -43.6365534 ,  720.85021294,  934.43487227,  696.51002184,\n",
       "        533.44594607,  562.26122394,  -17.2670186 ])"
      ]
     },
     "execution_count": 35,
     "metadata": {},
     "output_type": "execute_result"
    }
   ],
   "source": [
    "ypred=lr.predict(X_test)\n",
    "ypred"
   ]
  },
  {
   "cell_type": "code",
   "execution_count": 36,
   "id": "76db3c60",
   "metadata": {},
   "outputs": [
    {
     "data": {
      "text/html": [
       "<div>\n",
       "<style scoped>\n",
       "    .dataframe tbody tr th:only-of-type {\n",
       "        vertical-align: middle;\n",
       "    }\n",
       "\n",
       "    .dataframe tbody tr th {\n",
       "        vertical-align: top;\n",
       "    }\n",
       "\n",
       "    .dataframe thead th {\n",
       "        text-align: right;\n",
       "    }\n",
       "</style>\n",
       "<table border=\"1\" class=\"dataframe\">\n",
       "  <thead>\n",
       "    <tr style=\"text-align: right;\">\n",
       "      <th></th>\n",
       "      <th>Actual op</th>\n",
       "      <th>Predict op</th>\n",
       "    </tr>\n",
       "  </thead>\n",
       "  <tbody>\n",
       "    <tr>\n",
       "      <th>120</th>\n",
       "      <td>900.0</td>\n",
       "      <td>803.349004</td>\n",
       "    </tr>\n",
       "    <tr>\n",
       "      <th>78</th>\n",
       "      <td>78.0</td>\n",
       "      <td>62.757704</td>\n",
       "    </tr>\n",
       "    <tr>\n",
       "      <th>51</th>\n",
       "      <td>180.0</td>\n",
       "      <td>306.172676</td>\n",
       "    </tr>\n",
       "    <tr>\n",
       "      <th>31</th>\n",
       "      <td>955.0</td>\n",
       "      <td>843.659466</td>\n",
       "    </tr>\n",
       "    <tr>\n",
       "      <th>35</th>\n",
       "      <td>40.0</td>\n",
       "      <td>-75.853934</td>\n",
       "    </tr>\n",
       "    <tr>\n",
       "      <th>40</th>\n",
       "      <td>0.0</td>\n",
       "      <td>182.397860</td>\n",
       "    </tr>\n",
       "    <tr>\n",
       "      <th>14</th>\n",
       "      <td>600.0</td>\n",
       "      <td>553.565373</td>\n",
       "    </tr>\n",
       "    <tr>\n",
       "      <th>112</th>\n",
       "      <td>685.0</td>\n",
       "      <td>680.599279</td>\n",
       "    </tr>\n",
       "    <tr>\n",
       "      <th>56</th>\n",
       "      <td>270.0</td>\n",
       "      <td>465.892225</td>\n",
       "    </tr>\n",
       "    <tr>\n",
       "      <th>149</th>\n",
       "      <td>9.8</td>\n",
       "      <td>-152.916277</td>\n",
       "    </tr>\n",
       "    <tr>\n",
       "      <th>153</th>\n",
       "      <td>9.8</td>\n",
       "      <td>-128.008830</td>\n",
       "    </tr>\n",
       "    <tr>\n",
       "      <th>81</th>\n",
       "      <td>85.0</td>\n",
       "      <td>75.327235</td>\n",
       "    </tr>\n",
       "    <tr>\n",
       "      <th>95</th>\n",
       "      <td>170.0</td>\n",
       "      <td>192.209779</td>\n",
       "    </tr>\n",
       "    <tr>\n",
       "      <th>93</th>\n",
       "      <td>145.0</td>\n",
       "      <td>156.731107</td>\n",
       "    </tr>\n",
       "    <tr>\n",
       "      <th>92</th>\n",
       "      <td>150.0</td>\n",
       "      <td>193.724477</td>\n",
       "    </tr>\n",
       "    <tr>\n",
       "      <th>5</th>\n",
       "      <td>450.0</td>\n",
       "      <td>437.347024</td>\n",
       "    </tr>\n",
       "    <tr>\n",
       "      <th>126</th>\n",
       "      <td>1000.0</td>\n",
       "      <td>928.277810</td>\n",
       "    </tr>\n",
       "    <tr>\n",
       "      <th>16</th>\n",
       "      <td>700.0</td>\n",
       "      <td>568.177068</td>\n",
       "    </tr>\n",
       "    <tr>\n",
       "      <th>19</th>\n",
       "      <td>650.0</td>\n",
       "      <td>566.267864</td>\n",
       "    </tr>\n",
       "    <tr>\n",
       "      <th>29</th>\n",
       "      <td>1000.0</td>\n",
       "      <td>845.054363</td>\n",
       "    </tr>\n",
       "    <tr>\n",
       "      <th>59</th>\n",
       "      <td>800.0</td>\n",
       "      <td>862.045370</td>\n",
       "    </tr>\n",
       "    <tr>\n",
       "      <th>146</th>\n",
       "      <td>7.5</td>\n",
       "      <td>-170.428380</td>\n",
       "    </tr>\n",
       "    <tr>\n",
       "      <th>145</th>\n",
       "      <td>6.7</td>\n",
       "      <td>-194.039289</td>\n",
       "    </tr>\n",
       "    <tr>\n",
       "      <th>102</th>\n",
       "      <td>300.0</td>\n",
       "      <td>389.090822</td>\n",
       "    </tr>\n",
       "    <tr>\n",
       "      <th>96</th>\n",
       "      <td>225.0</td>\n",
       "      <td>255.268762</td>\n",
       "    </tr>\n",
       "    <tr>\n",
       "      <th>72</th>\n",
       "      <td>5.9</td>\n",
       "      <td>-316.259857</td>\n",
       "    </tr>\n",
       "    <tr>\n",
       "      <th>97</th>\n",
       "      <td>145.0</td>\n",
       "      <td>209.267200</td>\n",
       "    </tr>\n",
       "    <tr>\n",
       "      <th>42</th>\n",
       "      <td>120.0</td>\n",
       "      <td>155.917282</td>\n",
       "    </tr>\n",
       "    <tr>\n",
       "      <th>125</th>\n",
       "      <td>1100.0</td>\n",
       "      <td>916.422067</td>\n",
       "    </tr>\n",
       "    <tr>\n",
       "      <th>44</th>\n",
       "      <td>145.0</td>\n",
       "      <td>226.690000</td>\n",
       "    </tr>\n",
       "    <tr>\n",
       "      <th>108</th>\n",
       "      <td>320.0</td>\n",
       "      <td>409.575732</td>\n",
       "    </tr>\n",
       "    <tr>\n",
       "      <th>141</th>\n",
       "      <td>1250.0</td>\n",
       "      <td>1118.177905</td>\n",
       "    </tr>\n",
       "    <tr>\n",
       "      <th>69</th>\n",
       "      <td>200.0</td>\n",
       "      <td>276.555148</td>\n",
       "    </tr>\n",
       "    <tr>\n",
       "      <th>33</th>\n",
       "      <td>975.0</td>\n",
       "      <td>960.468077</td>\n",
       "    </tr>\n",
       "    <tr>\n",
       "      <th>144</th>\n",
       "      <td>1650.0</td>\n",
       "      <td>1256.221643</td>\n",
       "    </tr>\n",
       "    <tr>\n",
       "      <th>62</th>\n",
       "      <td>60.0</td>\n",
       "      <td>-42.506685</td>\n",
       "    </tr>\n",
       "    <tr>\n",
       "      <th>130</th>\n",
       "      <td>300.0</td>\n",
       "      <td>382.503488</td>\n",
       "    </tr>\n",
       "    <tr>\n",
       "      <th>134</th>\n",
       "      <td>456.0</td>\n",
       "      <td>671.063283</td>\n",
       "    </tr>\n",
       "    <tr>\n",
       "      <th>151</th>\n",
       "      <td>10.0</td>\n",
       "      <td>-136.691633</td>\n",
       "    </tr>\n",
       "    <tr>\n",
       "      <th>128</th>\n",
       "      <td>200.0</td>\n",
       "      <td>364.340438</td>\n",
       "    </tr>\n",
       "    <tr>\n",
       "      <th>61</th>\n",
       "      <td>55.0</td>\n",
       "      <td>-43.636553</td>\n",
       "    </tr>\n",
       "    <tr>\n",
       "      <th>28</th>\n",
       "      <td>850.0</td>\n",
       "      <td>720.850213</td>\n",
       "    </tr>\n",
       "    <tr>\n",
       "      <th>127</th>\n",
       "      <td>1000.0</td>\n",
       "      <td>934.434872</td>\n",
       "    </tr>\n",
       "    <tr>\n",
       "      <th>114</th>\n",
       "      <td>700.0</td>\n",
       "      <td>696.510022</td>\n",
       "    </tr>\n",
       "    <tr>\n",
       "      <th>57</th>\n",
       "      <td>306.0</td>\n",
       "      <td>533.445946</td>\n",
       "    </tr>\n",
       "    <tr>\n",
       "      <th>17</th>\n",
       "      <td>700.0</td>\n",
       "      <td>562.261224</td>\n",
       "    </tr>\n",
       "    <tr>\n",
       "      <th>76</th>\n",
       "      <td>70.0</td>\n",
       "      <td>-17.267019</td>\n",
       "    </tr>\n",
       "  </tbody>\n",
       "</table>\n",
       "</div>"
      ],
      "text/plain": [
       "     Actual op   Predict op\n",
       "120      900.0   803.349004\n",
       "78        78.0    62.757704\n",
       "51       180.0   306.172676\n",
       "31       955.0   843.659466\n",
       "35        40.0   -75.853934\n",
       "40         0.0   182.397860\n",
       "14       600.0   553.565373\n",
       "112      685.0   680.599279\n",
       "56       270.0   465.892225\n",
       "149        9.8  -152.916277\n",
       "153        9.8  -128.008830\n",
       "81        85.0    75.327235\n",
       "95       170.0   192.209779\n",
       "93       145.0   156.731107\n",
       "92       150.0   193.724477\n",
       "5        450.0   437.347024\n",
       "126     1000.0   928.277810\n",
       "16       700.0   568.177068\n",
       "19       650.0   566.267864\n",
       "29      1000.0   845.054363\n",
       "59       800.0   862.045370\n",
       "146        7.5  -170.428380\n",
       "145        6.7  -194.039289\n",
       "102      300.0   389.090822\n",
       "96       225.0   255.268762\n",
       "72         5.9  -316.259857\n",
       "97       145.0   209.267200\n",
       "42       120.0   155.917282\n",
       "125     1100.0   916.422067\n",
       "44       145.0   226.690000\n",
       "108      320.0   409.575732\n",
       "141     1250.0  1118.177905\n",
       "69       200.0   276.555148\n",
       "33       975.0   960.468077\n",
       "144     1650.0  1256.221643\n",
       "62        60.0   -42.506685\n",
       "130      300.0   382.503488\n",
       "134      456.0   671.063283\n",
       "151       10.0  -136.691633\n",
       "128      200.0   364.340438\n",
       "61        55.0   -43.636553\n",
       "28       850.0   720.850213\n",
       "127     1000.0   934.434872\n",
       "114      700.0   696.510022\n",
       "57       306.0   533.445946\n",
       "17       700.0   562.261224\n",
       "76        70.0   -17.267019"
      ]
     },
     "execution_count": 36,
     "metadata": {},
     "output_type": "execute_result"
    }
   ],
   "source": [
    "dict={\"Actual op\":Y_test,\"Predict op\":ypred}\n",
    "df1=pd.DataFrame(dict)\n",
    "df1"
   ]
  },
  {
   "cell_type": "code",
   "execution_count": 37,
   "id": "34243fb1",
   "metadata": {},
   "outputs": [
    {
     "name": "stdout",
     "output_type": "stream",
     "text": [
      "mean squared error 18485.966037762682\n"
     ]
    }
   ],
   "source": [
    "from sklearn.metrics import mean_squared_error\n",
    "print(\"mean squared error\",mean_squared_error(Y_test,ypred))\n",
    "\n",
    "mse=mean_squared_error(Y_test,ypred)"
   ]
  },
  {
   "cell_type": "code",
   "execution_count": 38,
   "id": "40aeabf9",
   "metadata": {},
   "outputs": [
    {
     "data": {
      "text/plain": [
       "135.9631054285047"
      ]
     },
     "execution_count": 38,
     "metadata": {},
     "output_type": "execute_result"
    }
   ],
   "source": [
    "rmse=np.sqrt(mse)\n",
    "rmse"
   ]
  },
  {
   "cell_type": "code",
   "execution_count": 39,
   "id": "8d429ff0",
   "metadata": {},
   "outputs": [],
   "source": [
    "from sklearn.metrics import r2_score"
   ]
  },
  {
   "cell_type": "code",
   "execution_count": 40,
   "id": "d58481b9",
   "metadata": {},
   "outputs": [
    {
     "name": "stdout",
     "output_type": "stream",
     "text": [
      "r2score is  0.8898782034583167\n"
     ]
    }
   ],
   "source": [
    "print(\"r2score is \",r2_score(Y_test,ypred))"
   ]
  },
  {
   "cell_type": "code",
   "execution_count": 41,
   "id": "3e847447",
   "metadata": {},
   "outputs": [
    {
     "data": {
      "text/plain": [
       "120     96.650996\n",
       "78      15.242296\n",
       "51    -126.172676\n",
       "31     111.340534\n",
       "35     115.853934\n",
       "40    -182.397860\n",
       "14      46.434627\n",
       "112      4.400721\n",
       "56    -195.892225\n",
       "149    162.716277\n",
       "153    137.808830\n",
       "81       9.672765\n",
       "95     -22.209779\n",
       "93     -11.731107\n",
       "92     -43.724477\n",
       "5       12.652976\n",
       "126     71.722190\n",
       "16     131.822932\n",
       "19      83.732136\n",
       "29     154.945637\n",
       "59     -62.045370\n",
       "146    177.928380\n",
       "145    200.739289\n",
       "102    -89.090822\n",
       "96     -30.268762\n",
       "72     322.159857\n",
       "97     -64.267200\n",
       "42     -35.917282\n",
       "125    183.577933\n",
       "44     -81.690000\n",
       "108    -89.575732\n",
       "141    131.822095\n",
       "69     -76.555148\n",
       "33      14.531923\n",
       "144    393.778357\n",
       "62     102.506685\n",
       "130    -82.503488\n",
       "134   -215.063283\n",
       "151    146.691633\n",
       "128   -164.340438\n",
       "61      98.636553\n",
       "28     129.149787\n",
       "127     65.565128\n",
       "114      3.489978\n",
       "57    -227.445946\n",
       "17     137.738776\n",
       "76      87.267019\n",
       "Name: Weight, dtype: float64"
      ]
     },
     "execution_count": 41,
     "metadata": {},
     "output_type": "execute_result"
    }
   ],
   "source": [
    "residual_error=Y_test-ypred\n",
    "residual_error"
   ]
  },
  {
   "cell_type": "code",
   "execution_count": 42,
   "id": "a63e135e",
   "metadata": {},
   "outputs": [
    {
     "data": {
      "text/plain": [
       "Text(0, 0.5, 'residual_error')"
      ]
     },
     "execution_count": 42,
     "metadata": {},
     "output_type": "execute_result"
    },
    {
     "data": {
      "image/png": "[encoded data removed]",
      "text/plain": [
       "<Figure size 640x480 with 1 Axes>"
      ]
     },
     "metadata": {},
     "output_type": "display_data"
    }
   ],
   "source": [
    "plt.scatter(ypred,residual_error)\n",
    "plt.xlabel(\"predicted\")\n",
    "plt.ylabel('residual_error')"
   ]
  },
  {
   "cell_type": "code",
   "execution_count": 43,
   "id": "15014ba1",
   "metadata": {},
   "outputs": [
    {
     "data": {
      "text/plain": [
       "<Axes: >"
      ]
     },
     "execution_count": 43,
     "metadata": {},
     "output_type": "execute_result"
    },
    {
     "data": {
      "image/png": "[encoded data removed]",
      "text/plain": [
       "<Figure size 640x480 with 2 Axes>"
      ]
     },
     "metadata": {},
     "output_type": "display_data"
    }
   ],
   "source": [
    "sb.heatmap(df_sum.corr(),annot=True)"
   ]
  },
  {
   "cell_type": "code",
   "execution_count": 44,
   "id": "89116ebb",
   "metadata": {},
   "outputs": [
    {
     "data": {
      "text/plain": [
       "<Axes: xlabel='Weight', ylabel='Count'>"
      ]
     },
     "execution_count": 44,
     "metadata": {},
     "output_type": "execute_result"
    },
    {
     "data": {
      "image/png": "[encoded data removed]",
      "text/plain": [
       "<Figure size 640x480 with 1 Axes>"
      ]
     },
     "metadata": {},
     "output_type": "display_data"
    }
   ],
   "source": [
    "sb.histplot(residual_error)"
   ]
  },
  {
   "cell_type": "code",
   "execution_count": 45,
   "id": "bf626daf",
   "metadata": {},
   "outputs": [
    {
     "data": {
      "text/plain": [
       "<Axes: xlabel='Weight', ylabel='Density'>"
      ]
     },
     "execution_count": 45,
     "metadata": {},
     "output_type": "execute_result"
    },
    {
     "data": {
      "image/png": "[encoded data removed]",
      "text/plain": [
       "<Figure size 640x480 with 1 Axes>"
      ]
     },
     "metadata": {},
     "output_type": "display_data"
    }
   ],
   "source": [
    "sb.distplot(residual_error)"
   ]
  },
  {
   "cell_type": "code",
   "execution_count": 46,
   "id": "4c9d69c1",
   "metadata": {},
   "outputs": [
    {
     "data": {
      "text/plain": [
       "<Axes: xlabel='Weight', ylabel='Density'>"
      ]
     },
     "execution_count": 46,
     "metadata": {},
     "output_type": "execute_result"
    },
    {
     "data": {
      "image/png": "[encoded data removed]",
      "text/plain": [
       "<Figure size 640x480 with 1 Axes>"
      ]
     },
     "metadata": {},
     "output_type": "display_data"
    }
   ],
   "source": [
    "sb.distplot(residual_error,hist=False)"
   ]
  },
  {
   "cell_type": "code",
   "execution_count": 47,
   "id": "7b0ce889",
   "metadata": {},
   "outputs": [
    {
     "data": {
      "text/plain": [
       "0.167331202167453"
      ]
     },
     "execution_count": 47,
     "metadata": {},
     "output_type": "execute_result"
    }
   ],
   "source": [
    "residual_error.skew()"
   ]
  },
  {
   "cell_type": "code",
   "execution_count": 48,
   "id": "50f3dcf2",
   "metadata": {},
   "outputs": [
    {
     "data": {
      "text/plain": [
       "0.897316311122039"
      ]
     },
     "execution_count": 48,
     "metadata": {},
     "output_type": "execute_result"
    }
   ],
   "source": [
    "lr.score(X_train,Y_train)"
   ]
  },
  {
   "cell_type": "code",
   "execution_count": 49,
   "id": "932cb69c",
   "metadata": {},
   "outputs": [
    {
     "data": {
      "text/plain": [
       "0.8898782034583167"
      ]
     },
     "execution_count": 49,
     "metadata": {},
     "output_type": "execute_result"
    }
   ],
   "source": [
    "lr.score(X_test,Y_test)"
   ]
  },
  {
   "cell_type": "code",
   "execution_count": 50,
   "id": "51121178",
   "metadata": {},
   "outputs": [],
   "source": [
    "X=df_sum.drop(['Weight','Length2'],axis=1)\n",
    "Y=df_sum['Weight']"
   ]
  },
  {
   "cell_type": "code",
   "execution_count": 51,
   "id": "4e4d209a",
   "metadata": {},
   "outputs": [],
   "source": [
    "from sklearn.preprocessing import PolynomialFeatures"
   ]
  },
  {
   "cell_type": "code",
   "execution_count": 52,
   "id": "9f7ace58",
   "metadata": {},
   "outputs": [],
   "source": [
    "pl=PolynomialFeatures(2)"
   ]
  },
  {
   "cell_type": "code",
   "execution_count": 53,
   "id": "c87da3fa",
   "metadata": {},
   "outputs": [],
   "source": [
    "X_poly=pl.fit_transform(X)\n"
   ]
  },
  {
   "cell_type": "code",
   "execution_count": 54,
   "id": "4754364b",
   "metadata": {},
   "outputs": [],
   "source": [
    "X_train,X_test,Y_train,Y_test=train_test_split(X_poly,Y,test_size=0.3,random_state=1)"
   ]
  },
  {
   "cell_type": "code",
   "execution_count": 55,
   "id": "a08f8858",
   "metadata": {},
   "outputs": [
    {
     "data": {
      "text/plain": [
       "(109, 21)"
      ]
     },
     "execution_count": 55,
     "metadata": {},
     "output_type": "execute_result"
    }
   ],
   "source": [
    "X_train.shape"
   ]
  },
  {
   "cell_type": "code",
   "execution_count": 56,
   "id": "38ed7bf7",
   "metadata": {},
   "outputs": [],
   "source": [
    "X_train=ss.fit_transform(X_train)"
   ]
  },
  {
   "cell_type": "code",
   "execution_count": 57,
   "id": "bfb54065",
   "metadata": {},
   "outputs": [],
   "source": [
    "X_test=ss.transform(X_test)"
   ]
  },
  {
   "cell_type": "code",
   "execution_count": 58,
   "id": "3dfbd2bc",
   "metadata": {},
   "outputs": [
    {
     "data": {
      "text/plain": [
       "array([[ 0.        ,  0.06068689, -0.11191701, ..., -0.0292874 ,\n",
       "         0.1259813 , -0.37814172],\n",
       "       [ 0.        ,  1.77215349,  1.57507593, ...,  0.12847387,\n",
       "         0.86208938,  0.19273705],\n",
       "       [ 0.        , -0.89479447, -0.95541348, ..., -0.89697167,\n",
       "        -0.31481222, -0.37814172],\n",
       "       ...,\n",
       "       [ 0.        , -1.18878873, -1.28192825, ..., -1.05946364,\n",
       "        -0.42654094, -0.37814172],\n",
       "       [ 0.        ,  3.11612727,  2.96276367, ...,  1.12117038,\n",
       "         1.38902321,  0.19273705],\n",
       "       [ 0.        , -0.92629385, -0.91913406, ..., -0.95262154,\n",
       "         0.44953136,  0.99196734]])"
      ]
     },
     "execution_count": 58,
     "metadata": {},
     "output_type": "execute_result"
    }
   ],
   "source": [
    "X_train"
   ]
  },
  {
   "cell_type": "code",
   "execution_count": 59,
   "id": "6703b2c0",
   "metadata": {},
   "outputs": [
    {
     "data": {
      "text/plain": [
       "array([[ 0.00000000e+00,  1.12116620e+00,  1.01274495e+00,\n",
       "         6.49630627e-01,  1.79947131e+00, -8.30977109e-02,\n",
       "         1.02736636e+00,  9.84673792e-01,  1.03175633e+00,\n",
       "         1.72560591e+00,  4.79925605e-01,  9.31050597e-01,\n",
       "         8.93179629e-01,  1.65006314e+00,  4.59056895e-01,\n",
       "         4.65000071e-01,  1.31152273e+00,  7.41074072e-01,\n",
       "         2.14358397e+00,  8.40030407e-01, -3.78141720e-01],\n",
       "       [ 0.00000000e+00, -9.99792418e-01, -1.08239145e+00,\n",
       "        -9.20245568e-01, -8.23191290e-01, -8.30977109e-02,\n",
       "        -8.79731534e-01, -9.22204158e-01, -1.03296235e+00,\n",
       "        -9.47058270e-01, -4.10264528e-01, -9.63036728e-01,\n",
       "        -1.02913077e+00, -9.88471742e-01, -4.17523839e-01,\n",
       "        -8.60327935e-01, -9.40493868e-01, -3.09737984e-01,\n",
       "        -8.59230553e-01, -2.90933377e-01, -3.78141720e-01],\n",
       "       [ 0.00000000e+00, -2.85806350e-01, -3.11453812e-01,\n",
       "        -4.66551636e-01, -3.22777853e-01,  1.12458902e+00,\n",
       "        -3.97639874e-01, -4.13552442e-01, -5.57096646e-01,\n",
       "        -4.53102006e-01,  9.29427553e-01, -4.30465825e-01,\n",
       "        -5.60945106e-01, -4.70509514e-01,  9.63754894e-01,\n",
       "        -5.82364323e-01, -5.64410487e-01,  1.13418732e+00,\n",
       "        -4.70041966e-01,  1.00188816e+00,  9.91967339e-01],\n",
       "       [ 0.00000000e+00,  9.11170294e-01,  1.14879277e+00,\n",
       "         2.17700757e+00,  1.20288846e+00, -1.29078444e+00,\n",
       "         7.74668341e-01,  9.34958946e-01,  2.21657838e+00,\n",
       "         1.13964014e+00, -1.15062068e+00,  1.10292244e+00,\n",
       "         2.32971877e+00,  1.32660599e+00, -1.15369987e+00,\n",
       "         2.73584780e+00,  2.26595073e+00, -1.14629431e+00,\n",
       "         1.25138041e+00, -1.15217101e+00, -8.34844740e-01],\n",
       "       [ 0.00000000e+00, -1.40928443e+00, -1.37262679e+00,\n",
       "        -1.17312573e+00, -1.37015481e+00,  1.12458902e+00,\n",
       "        -1.08299550e+00, -1.10108582e+00, -1.23455827e+00,\n",
       "        -1.23585424e+00, -1.36451617e-02, -1.11393954e+00,\n",
       "        -1.19194076e+00, -1.24381988e+00,  7.57899940e-02,\n",
       "        -9.78191795e-01, -1.16511452e+00,  1.88282699e-01,\n",
       "        -1.18549729e+00,  9.85730207e-02,  9.91967339e-01],\n",
       "       [ 0.00000000e+00, -7.68796925e-01, -7.74016392e-01,\n",
       "        -6.13520201e-01, -6.77274670e-01,  1.12458902e+00,\n",
       "        -7.41519758e-01, -7.58099274e-01, -8.20439830e-01,\n",
       "        -8.07644569e-01,  5.23994423e-01, -7.72977598e-01,\n",
       "        -8.03041912e-01, -8.19085941e-01,  5.76693271e-01,\n",
       "        -6.81759045e-01, -7.60914575e-01,  9.37437616e-01,\n",
       "        -7.54696592e-01,  6.96150725e-01,  9.91967339e-01],\n",
       "       [ 0.00000000e+00,  3.23181767e-01,  5.32042659e-01,\n",
       "         1.42471313e+00,  4.85965967e-01, -1.29078444e+00,\n",
       "         1.41800198e-01,  2.52228783e-01,  1.06540378e+00,\n",
       "         2.91280638e-01, -1.15062068e+00,  3.71510054e-01,\n",
       "         1.17248459e+00,  4.22064582e-01, -1.15369987e+00,\n",
       "         1.49639955e+00,  1.06751763e+00, -1.14629431e+00,\n",
       "         3.42146129e-01, -1.15217101e+00, -8.34844740e-01],\n",
       "       [ 0.00000000e+00,  8.06172342e-01,  6.95300040e-01,\n",
       "         4.45547683e-01,  1.56863915e+00, -8.30977109e-02,\n",
       "         6.53583875e-01,  6.07605802e-01,  6.50240416e-01,\n",
       "         1.30329507e+00,  3.47719150e-01,  5.53197469e-01,\n",
       "         5.34657559e-01,  1.22863052e+00,  3.26241632e-01,\n",
       "         2.34883435e-01,  9.80769308e-01,  6.04469148e-01,\n",
       "         1.78376060e+00,  7.40489270e-01, -3.78141720e-01],\n",
       "       [ 0.00000000e+00, -2.33307374e-01, -1.84475848e-01,\n",
       "        -2.12036888e-01, -1.03775040e-01,  2.33227575e+00,\n",
       "        -3.55786765e-01, -3.40601641e-01, -3.84013758e-01,\n",
       "        -3.26128244e-01,  2.03555490e+00, -3.24388775e-01,\n",
       "        -3.63019422e-01, -3.04537332e-01,  2.18186059e+00,\n",
       "        -3.89037809e-01, -3.36761050e-01,  2.78551398e+00,\n",
       "        -2.72454265e-01,  2.36223773e+00,  3.27548244e+00],\n",
       "       [ 0.00000000e+00, -1.64027992e+00, -1.71728126e+00,\n",
       "        -1.66927084e+00, -2.00369638e+00,  1.72843239e+00,\n",
       "        -1.17410717e+00, -1.21780099e+00, -1.42043615e+00,\n",
       "        -1.42980151e+00,  2.82202159e-02, -1.25790126e+00,\n",
       "        -1.39184299e+00, -1.46760819e+00,  2.26638889e-02,\n",
       "        -1.13234274e+00, -1.38683773e+00, -3.08322056e-01,\n",
       "        -1.43399863e+00, -2.71742067e-01,  2.01954913e+00],\n",
       "       [ 0.00000000e+00, -1.56678135e+00, -1.64472243e+00,\n",
       "        -1.64013673e+00, -2.08605423e+00,  1.72843239e+00,\n",
       "        -1.14695969e+00, -1.19057255e+00, -1.40352165e+00,\n",
       "        -1.43694530e+00,  1.05340648e-01, -1.23077266e+00,\n",
       "        -1.37605305e+00, -1.47487071e+00,  9.85583248e-02,\n",
       "        -1.12611346e+00, -1.39108240e+00, -2.59569062e-01,\n",
       "        -1.45610091e+00, -3.60529452e-01,  2.01954913e+00],\n",
       "       [ 0.00000000e+00, -8.52795286e-01, -9.37273774e-01,\n",
       "        -9.48418149e-01, -1.04788498e+00, -8.30977109e-02,\n",
       "        -7.93744014e-01, -8.36113341e-01, -1.00231386e+00,\n",
       "        -9.72220029e-01, -3.48568182e-01, -8.77412096e-01,\n",
       "        -1.00081523e+00, -1.01397149e+00, -3.56808291e-01,\n",
       "        -8.74772085e-01, -1.01122892e+00, -3.28595578e-01,\n",
       "        -1.00579108e+00, -3.87827436e-01, -3.78141720e-01],\n",
       "       [ 0.00000000e+00, -5.06302047e-01, -5.74479593e-01,\n",
       "        -6.61644354e-01, -4.38513647e-01, -8.30977109e-02,\n",
       "        -5.63841465e-01, -5.98552859e-01, -7.49660813e-01,\n",
       "        -6.03547363e-01, -2.03141081e-01, -6.33678615e-01,\n",
       "        -7.58373173e-01, -6.40215190e-01, -2.05019419e-01,\n",
       "        -7.12357650e-01, -7.05950610e-01, -1.36640720e-01,\n",
       "        -5.67757143e-01, -1.25049865e-01, -3.78141720e-01],\n",
       "       [ 0.00000000e+00, -5.90300408e-01, -6.47038429e-01,\n",
       "        -7.38998760e-01, -4.99258953e-01, -8.30977109e-02,\n",
       "        -6.23085111e-01, -6.54478237e-01, -8.19234102e-01,\n",
       "        -6.65079677e-01, -2.38396136e-01, -6.85816386e-01,\n",
       "        -8.20285545e-01, -6.96728795e-01, -2.35377193e-01,\n",
       "        -7.59528003e-01, -7.63944138e-01, -1.88418653e-01,\n",
       "        -6.17189154e-01, -1.51244901e-01, -3.78141720e-01],\n",
       "       [ 0.00000000e+00, -6.11299998e-01, -6.65178138e-01,\n",
       "        -5.37367696e-01, -5.03095498e-01, -8.30977109e-02,\n",
       "        -6.37545053e-01, -6.68153644e-01, -7.23910157e-01,\n",
       "        -6.75640868e-01, -2.47209899e-01, -6.98585901e-01,\n",
       "        -7.28725952e-01, -7.06042460e-01, -2.42966637e-01,\n",
       "        -6.31375931e-01, -6.65195659e-01, -5.34549189e-02,\n",
       "        -6.20268304e-01, -1.52899324e-01, -3.78141720e-01],\n",
       "       [ 0.00000000e+00,  5.01870941e-02,  3.05296296e-01,\n",
       "         1.09971885e+00,  3.30330099e-01, -1.29078444e+00,\n",
       "        -1.14618095e-01,  1.78833109e-03,  6.18020499e-01,\n",
       "         4.28973326e-02, -1.15062068e+00,  1.33406286e-01,\n",
       "         7.64972338e-01,  1.93259099e-01, -1.15369987e+00,\n",
       "         1.03358524e+00,  7.28885622e-01, -1.14629431e+00,\n",
       "         1.68259360e-01, -1.15217101e+00, -8.34844740e-01],\n",
       "       [ 0.00000000e+00,  1.45715964e+00,  1.33018986e+00,\n",
       "         8.59723081e-01,  2.38582337e+00, -8.30977109e-02,\n",
       "         1.46088384e+00,  1.40793835e+00,  1.46458178e+00,\n",
       "         2.47177338e+00,  6.20945824e-01,  1.34135737e+00,\n",
       "         1.28598961e+00,  2.37234854e+00,  5.91872158e-01,\n",
       "         7.19944479e-01,  1.89901604e+00,  8.81701520e-01,\n",
       "         3.14050423e+00,  1.09288144e+00, -3.78141720e-01],\n",
       "       [ 0.00000000e+00,  4.28179718e-01,  6.31811059e-01,\n",
       "         1.40211737e+00,  5.59243989e-01, -1.29078444e+00,\n",
       "         2.46740068e-01,  3.60285914e-01,  1.13745201e+00,\n",
       "         3.98940605e-01, -1.15062068e+00,  4.81521281e-01,\n",
       "         1.23460038e+00,  5.29943154e-01, -1.15369987e+00,\n",
       "         1.46280412e+00,  1.10752028e+00, -1.14629431e+00,\n",
       "         4.26919703e-01, -1.15217101e+00, -8.34844740e-01],\n",
       "       [ 0.00000000e+00,  4.91178489e-01,  6.68090477e-01,\n",
       "         1.30918632e+00,  8.41997403e-01, -1.29078444e+00,\n",
       "         3.11388644e-01,  4.14406260e-01,  1.11917694e+00,\n",
       "         6.08913515e-01, -1.15062068e+00,  5.22320146e-01,\n",
       "         1.19101050e+00,  7.35778356e-01, -1.15369987e+00,\n",
       "         1.32686118e+00,  1.25073993e+00, -1.14629431e+00,\n",
       "         7.71449171e-01, -1.15217101e+00, -8.34844740e-01],\n",
       "       [ 0.00000000e+00,  7.53673367e-01,  1.02181480e+00,\n",
       "         2.38685964e+00,  1.40174941e+00, -1.29078444e+00,\n",
       "         5.94357777e-01,  7.62257217e-01,  2.22920207e+00,\n",
       "         1.15183714e+00, -1.15062068e+00,  9.42323271e-01,\n",
       "         2.38710957e+00,  1.37413565e+00, -1.15369987e+00,\n",
       "         3.12347790e+00,  2.64030721e+00, -1.14629431e+00,\n",
       "         1.53509634e+00, -1.15217101e+00, -8.34844740e-01],\n",
       "       [ 0.00000000e+00,  7.74672957e-01,  7.49719167e-01,\n",
       "         6.57130495e-01,  1.38295034e+00,  2.33227575e+00,\n",
       "         6.17942925e-01,  6.20638741e-01,  8.07468857e-01,\n",
       "         1.15593995e+00,  3.30473687e+00,  6.15667420e-01,\n",
       "         7.34712352e-01,  1.14960953e+00,  3.35442962e+00,\n",
       "         4.73785851e-01,  1.06709730e+00,  4.53087116e+00,\n",
       "         1.50768990e+00,  4.28558757e+00,  3.27548244e+00],\n",
       "       [ 0.00000000e+00, -1.71377849e+00, -1.78984010e+00,\n",
       "        -1.69600114e+00, -2.07863691e+00,  1.72843239e+00,\n",
       "        -1.19953491e+00, -1.24331618e+00, -1.43574443e+00,\n",
       "        -1.45550215e+00, -4.89002164e-02, -1.28333431e+00,\n",
       "        -1.40613476e+00, -1.49310066e+00, -5.32305470e-02,\n",
       "        -1.13774826e+00, -1.39910343e+00, -3.53052525e-01,\n",
       "        -1.45420651e+00, -3.52533072e-01,  2.01954913e+00],\n",
       "       [ 0.00000000e+00, -1.78727705e+00, -1.86239894e+00,\n",
       "        -1.75205784e+00, -2.15050820e+00,  1.72843239e+00,\n",
       "        -1.22324290e+00, -1.26711811e+00, -1.45688314e+00,\n",
       "        -1.47860640e+00, -1.26020649e-01, -1.30707184e+00,\n",
       "        -1.42593580e+00, -1.51603068e+00, -1.29124983e-01,\n",
       "        -1.14812155e+00, -1.41441993e+00, -4.46857791e-01,\n",
       "        -1.47176102e+00, -4.30015231e-01,  2.01954913e+00],\n",
       "       [ 0.00000000e+00, -1.17809628e-01, -2.38894976e-01,\n",
       "        -1.69345332e-01,  4.64545254e-01, -8.30977109e-02,\n",
       "        -2.60621394e-01, -3.14428687e-01, -3.03992498e-01,\n",
       "         1.06246198e-02, -4.00864527e-02, -3.70486194e-01,\n",
       "        -3.62004852e-01, -5.87480072e-02, -6.46147124e-02,\n",
       "        -3.53977566e-01, -6.87934990e-02,  1.92884466e-01,\n",
       "         3.17716018e-01,  2.64373812e-01, -3.78141720e-01],\n",
       "       [ 0.00000000e+00, -4.53803072e-01, -5.29130320e-01,\n",
       "        -4.16937125e-01, -4.39792495e-01, -8.30977109e-02,\n",
       "        -5.25673535e-01, -5.62605200e-01, -5.97583933e-01,\n",
       "        -5.80926012e-01, -1.81106672e-01, -6.00231493e-01,\n",
       "        -6.17719270e-01, -6.20822428e-01, -1.86045810e-01,\n",
       "        -5.46786689e-01, -5.81780371e-01,  2.71564672e-02,\n",
       "        -5.68810976e-01, -1.25601340e-01, -3.78141720e-01],\n",
       "       [ 0.00000000e+00, -1.97627336e+00, -2.04379603e+00,\n",
       "        -1.66234788e+00, -1.92005969e+00, -8.30977109e-02,\n",
       "        -1.27630948e+00, -1.31980056e+00, -1.45885361e+00,\n",
       "        -1.46843930e+00, -8.20104539e-01, -1.35899766e+00,\n",
       "        -1.42687089e+00, -1.50450829e+00, -8.19764349e-01,\n",
       "        -1.13089441e+00, -1.37654792e+00, -8.06471459e-01,\n",
       "        -1.40915092e+00, -7.63933005e-01, -3.78141720e-01],\n",
       "       [ 0.00000000e+00, -4.53803072e-01, -5.29130320e-01,\n",
       "        -6.37606316e-01, -3.74571219e-01, -8.30977109e-02,\n",
       "        -5.25673535e-01, -5.62605200e-01, -7.17870798e-01,\n",
       "        -5.53011625e-01, -1.81106672e-01, -6.00231493e-01,\n",
       "        -7.30879520e-01, -5.92977782e-01, -1.86045810e-01,\n",
       "        -6.97193744e-01, -6.72750574e-01, -1.20550623e-01,\n",
       "        -5.14343900e-01, -9.74761431e-02, -3.78141720e-01],\n",
       "       [ 0.00000000e+00, -7.26797745e-01, -6.92387702e-01,\n",
       "        -7.00201367e-01, -7.13913681e-01,  1.12458902e+00,\n",
       "        -7.14565303e-01, -7.17440178e-01, -8.46679234e-01,\n",
       "        -8.04795659e-01,  5.59249478e-01, -7.17541477e-01,\n",
       "        -8.16183467e-01, -8.01331848e-01,  6.44998263e-01,\n",
       "        -7.36179868e-01, -8.12159440e-01,  8.21395836e-01,\n",
       "        -7.81637388e-01,  6.64551240e-01,  9.91967339e-01],\n",
       "       [ 0.00000000e+00,  1.44665984e+00,  1.28484058e+00,\n",
       "         8.37728276e-01,  1.92192106e+00, -8.30977109e-02,\n",
       "         1.44679242e+00,  1.37023155e+00,  1.43522150e+00,\n",
       "         2.09974638e+00,  6.16538942e-01,  1.28075516e+00,\n",
       "         1.23540008e+00,  1.97538035e+00,  5.72898549e-01,\n",
       "         6.92395801e-01,  1.57612722e+00,  8.66979081e-01,\n",
       "         2.34194500e+00,  8.92834085e-01, -3.78141720e-01],\n",
       "       [ 0.00000000e+00, -6.11299998e-01, -6.37968575e-01,\n",
       "        -5.75371835e-01, -5.51819628e-01,  1.12458902e+00,\n",
       "        -6.37545053e-01, -6.58746065e-01, -7.43213768e-01,\n",
       "        -6.95072715e-01,  6.56200879e-01, -6.79391889e-01,\n",
       "        -7.37447688e-01, -7.14226281e-01,  6.90534925e-01,\n",
       "        -6.56820543e-01, -7.00645987e-01,  9.88507584e-01,\n",
       "        -6.58930377e-01,  8.04350011e-01,  9.91967339e-01],\n",
       "       [ 0.00000000e+00,  1.55185045e-01,  2.41308056e-02,\n",
       "        -3.39390414e-01,  2.30707798e-01, -8.30977109e-02,\n",
       "        -1.88034307e-02, -7.69599858e-02, -2.92234928e-01,\n",
       "         5.03133044e-02,  7.44924752e-02, -1.38846662e-01,\n",
       "        -3.53386419e-01, -2.29701529e-02,  4.54322196e-02,\n",
       "        -4.89133707e-01, -2.79799483e-01,  7.90631202e-02,\n",
       "         6.13547557e-02,  1.63536710e-01, -3.78141720e-01],\n",
       "       [ 0.00000000e+00,  2.69613546e+00,  2.57275993e+00,\n",
       "         3.98745623e-01,  1.64594554e+00,  5.20745655e-01,\n",
       "         3.37008755e+00,  3.32800220e+00,  1.75646504e+00,\n",
       "         2.91843342e+00,  2.28674716e+00,  3.25955311e+00,\n",
       "         1.56727378e+00,  2.82696811e+00,  2.24447350e+00,\n",
       "         1.84547019e-01,  9.79308272e-01,  1.43285975e+00,\n",
       "         1.90221292e+00,  1.73682436e+00,  1.92737054e-01],\n",
       "       [ 0.00000000e+00, -5.37801432e-01, -5.01920757e-01,\n",
       "         3.16896103e-01, -4.77774297e-01, -6.86941077e-01,\n",
       "        -5.86321059e-01, -5.84082014e-01, -2.46866601e-01,\n",
       "        -6.33640912e-01, -6.83491202e-01, -5.79845307e-01,\n",
       "        -2.26402336e-01, -6.25271790e-01, -6.64180756e-01,\n",
       "         9.87009709e-02, -2.28379664e-01, -3.13969680e-01,\n",
       "        -5.99851784e-01, -6.47075571e-01, -7.20668985e-01],\n",
       "       [ 0.00000000e+00,  1.16316538e+00,  1.32112000e+00,\n",
       "         2.30955331e+00,  1.49401833e+00, -1.29078444e+00,\n",
       "         1.07959061e+00,  1.20519355e+00,  2.59790347e+00,\n",
       "         1.53931121e+00, -1.15062068e+00,  1.32918394e+00,\n",
       "         2.61816096e+00,  1.67830999e+00, -1.15369987e+00,\n",
       "         2.97855513e+00,  2.65889802e+00, -1.14629431e+00,\n",
       "         1.67138489e+00, -1.15217101e+00, -8.34844740e-01],\n",
       "       [ 0.00000000e+00,  3.43112112e+00,  3.32555785e+00,\n",
       "         4.28961437e-01,  1.96252450e+00,  5.20745655e-01,\n",
       "         4.73360393e+00,  4.71634666e+00,  2.24616766e+00,\n",
       "         3.89002822e+00,  2.74946975e+00,  4.66355069e+00,\n",
       "         2.03735549e+00,  3.80802320e+00,  2.71691636e+00,\n",
       "         2.16940674e-01,  1.18413025e+00,  1.46319763e+00,\n",
       "         2.40886562e+00,  1.94160060e+00,  1.92737054e-01],\n",
       "       [ 0.00000000e+00, -1.26228730e+00, -1.26378854e+00,\n",
       "        -5.89001402e-01, -1.34061341e+00, -6.86941077e-01,\n",
       "        -1.01617091e+00, -1.04014307e+00, -9.93013244e-01,\n",
       "        -1.18813781e+00, -8.35528626e-01, -1.06053012e+00,\n",
       "        -9.63490182e-01, -1.20607835e+00, -8.23559071e-01,\n",
       "        -6.65799846e-01, -9.73964272e-01, -6.17155378e-01,\n",
       "        -1.17052052e+00, -8.33115474e-01, -7.20668985e-01],\n",
       "       [ 0.00000000e+00,  6.69675006e-01,  6.77160331e-01,\n",
       "        -7.43037151e-01, -1.68772810e-02,  5.20745655e-01,\n",
       "         5.01421062e-01,  5.20046485e-01, -3.97020773e-01,\n",
       "         1.83657990e-01,  1.01095487e+00,  5.32586094e-01,\n",
       "        -4.03276897e-01,  1.83987613e-01,  1.05482822e+00,\n",
       "        -7.61922405e-01, -6.18737167e-01,  2.86464471e-01,\n",
       "        -1.89454251e-01,  6.61242393e-01,  1.92737054e-01],\n",
       "       [ 0.00000000e+00,  1.43616005e+00,  1.28484058e+00,\n",
       "        -4.20062070e-01, -5.64576436e-02,  5.20745655e-01,\n",
       "         1.43273609e+00,  1.36327147e+00,  1.81183584e-01,\n",
       "         5.50999871e-01,  1.49350843e+00,  1.28075516e+00,\n",
       "         8.45157606e-02,  4.68311637e-01,  1.43619776e+00,\n",
       "        -5.49057667e-01, -4.39909023e-01,  6.10744286e-01,\n",
       "        -2.27583320e-01,  6.35640192e-01,  1.92737054e-01],\n",
       "       [ 0.00000000e+00, -1.57728115e+00, -1.65379228e+00,\n",
       "        -1.63785312e+00, -1.99947618e+00,  1.72843239e+00,\n",
       "        -1.15094319e+00, -1.19432028e+00, -1.40419521e+00,\n",
       "        -1.41934108e+00,  9.43234435e-02, -1.23425646e+00,\n",
       "        -1.37651707e+00, -1.45711158e+00,  8.90715203e-02,\n",
       "        -1.12561031e+00, -1.38087021e+00, -2.55747664e-01,\n",
       "        -1.43280284e+00, -2.67192402e-01,  2.01954913e+00],\n",
       "       [ 0.00000000e+00,  3.86180538e-01,  3.14366150e-01,\n",
       "        -8.31593283e-01, -6.61928488e-01,  5.20745655e-01,\n",
       "         2.04342957e-01,  1.76233903e-01, -5.58310236e-01,\n",
       "        -3.40071132e-01,  8.32476153e-01,  1.42612524e-01,\n",
       "        -5.80038342e-01, -3.79583738e-01,  8.27144909e-01,\n",
       "        -8.12727136e-01, -8.56469522e-01,  1.97550595e-01,\n",
       "        -7.43274449e-01,  2.43996831e-01,  1.92737054e-01],\n",
       "       [ 0.00000000e+00, -1.34628566e+00, -1.34541723e+00,\n",
       "        -5.24026585e-01, -1.33274849e+00, -6.86941077e-01,\n",
       "        -1.05519872e+00, -1.08002203e+00, -1.00261850e+00,\n",
       "        -1.20910233e+00, -8.53156153e-01, -1.10094484e+00,\n",
       "        -9.70545622e-01, -1.22620261e+00, -8.40635319e-01,\n",
       "        -6.22301655e-01, -9.50633768e-01, -5.95409612e-01,\n",
       "        -1.16648230e+00, -8.31419690e-01, -7.20668985e-01],\n",
       "       [ 0.00000000e+00,  6.80174801e-01,  9.31116258e-01,\n",
       "         1.88989724e+00,  1.14303835e+00, -1.29078444e+00,\n",
       "         5.12915312e-01,  6.66468181e-01,  1.74628795e+00,\n",
       "         9.29256228e-01, -1.15062068e+00,  8.30788710e-01,\n",
       "         1.87972373e+00,  1.12326235e+00, -1.15369987e+00,\n",
       "         2.23510964e+00,  1.96695215e+00, -1.14629431e+00,\n",
       "         1.16867114e+00, -1.15217101e+00, -8.34844740e-01],\n",
       "       [ 0.00000000e+00,  1.55165780e+00,  1.38460898e+00,\n",
       "         8.32031261e-01,  2.03656983e+00, -8.30977109e-02,\n",
       "         1.58928602e+00,  1.50898951e+00,  1.50394410e+00,\n",
       "         2.28367445e+00,  6.60607761e-01,  1.41495428e+00,\n",
       "         1.29659590e+00,  2.15216366e+00,  6.14640489e-01,\n",
       "         6.85292970e-01,  1.64395624e+00,  8.63165728e-01,\n",
       "         2.53237243e+00,  9.42273769e-01, -3.78141720e-01],\n",
       "       [ 0.00000000e+00,  8.58671318e-01,  7.31579458e-01,\n",
       "         4.34490186e-01,  1.18536824e+00, -8.30977109e-02,\n",
       "         7.13687396e-01,  6.58544399e-01,  6.73191764e-01,\n",
       "         1.08874614e+00,  3.69753559e-01,  5.94738132e-01,\n",
       "         5.46936043e-01,  1.00520148e+00,  3.41420520e-01,\n",
       "         2.22908912e-01,  7.56907611e-01,  5.97067703e-01,\n",
       "         1.22704018e+00,  5.75212380e-01, -3.78141720e-01],\n",
       "       [ 0.00000000e+00, -7.58104473e-02, -4.84280306e-02,\n",
       "        -5.99722588e-02,  1.73159613e-01,  2.33227575e+00,\n",
       "        -2.24962896e-01, -2.14631869e-01, -2.14788674e-01,\n",
       "        -1.08932051e-01,  2.23386458e+00, -2.04972615e-01,\n",
       "        -2.09769534e-01, -9.35107790e-02,  2.35262307e+00,\n",
       "        -2.60705100e-01, -1.23447435e-01,  3.09087184e+00,\n",
       "         1.16489319e-03,  2.72050310e+00,  3.27548244e+00],\n",
       "       [ 0.00000000e+00,  4.28179718e-01,  6.49950768e-01,\n",
       "         1.42077089e+00,  5.03038595e-01, -1.29078444e+00,\n",
       "         2.46740068e-01,  3.69586414e-01,  1.15150239e+00,\n",
       "         3.65700094e-01, -1.15062068e+00,  5.01867728e-01,\n",
       "         1.26340976e+00,  5.05031028e-01, -1.15369987e+00,\n",
       "         1.49052297e+00,  1.07784066e+00, -1.14629431e+00,\n",
       "         3.61731004e-01, -1.15217101e+00, -8.34844740e-01],\n",
       "       [ 0.00000000e+00, -1.11529016e+00, -1.16402014e+00,\n",
       "        -1.06716606e+00, -9.39502565e-01, -8.30977109e-02,\n",
       "        -9.42467326e-01, -9.76462177e-01, -1.12417786e+00,\n",
       "        -1.02532267e+00, -4.58740228e-01, -1.00822015e+00,\n",
       "        -1.10641019e+00, -1.05459030e+00, -4.51676335e-01,\n",
       "        -9.32035069e-01, -1.03067895e+00, -4.08080657e-01,\n",
       "        -9.37277935e-01, -3.41089978e-01, -3.78141720e-01]])"
      ]
     },
     "execution_count": 59,
     "metadata": {},
     "output_type": "execute_result"
    }
   ],
   "source": [
    "X_test"
   ]
  },
  {
   "cell_type": "code",
   "execution_count": 60,
   "id": "ec5b656d",
   "metadata": {},
   "outputs": [
    {
     "data": {
      "text/html": [
       "<style>#sk-container-id-2 {color: black;background-color: white;}#sk-container-id-2 pre{padding: 0;}#sk-container-id-2 div.sk-toggleable {background-color: white;}#sk-container-id-2 label.sk-toggleable__label {cursor: pointer;display: block;width: 100%;margin-bottom: 0;padding: 0.3em;box-sizing: border-box;text-align: center;}#sk-container-id-2 label.sk-toggleable__label-arrow:before {content: \"▸\";float: left;margin-right: 0.25em;color: #696969;}#sk-container-id-2 label.sk-toggleable__label-arrow:hover:before {color: black;}#sk-container-id-2 div.sk-estimator:hover label.sk-toggleable__label-arrow:before {color: black;}#sk-container-id-2 div.sk-toggleable__content {max-height: 0;max-width: 0;overflow: hidden;text-align: left;background-color: #f0f8ff;}#sk-container-id-2 div.sk-toggleable__content pre {margin: 0.2em;color: black;border-radius: 0.25em;background-color: #f0f8ff;}#sk-container-id-2 input.sk-toggleable__control:checked~div.sk-toggleable__content {max-height: 200px;max-width: 100%;overflow: auto;}#sk-container-id-2 input.sk-toggleable__control:checked~label.sk-toggleable__label-arrow:before {content: \"▾\";}#sk-container-id-2 div.sk-estimator input.sk-toggleable__control:checked~label.sk-toggleable__label {background-color: #d4ebff;}#sk-container-id-2 div.sk-label input.sk-toggleable__control:checked~label.sk-toggleable__label {background-color: #d4ebff;}#sk-container-id-2 input.sk-hidden--visually {border: 0;clip: rect(1px 1px 1px 1px);clip: rect(1px, 1px, 1px, 1px);height: 1px;margin: -1px;overflow: hidden;padding: 0;position: absolute;width: 1px;}#sk-container-id-2 div.sk-estimator {font-family: monospace;background-color: #f0f8ff;border: 1px dotted black;border-radius: 0.25em;box-sizing: border-box;margin-bottom: 0.5em;}#sk-container-id-2 div.sk-estimator:hover {background-color: #d4ebff;}#sk-container-id-2 div.sk-parallel-item::after {content: \"\";width: 100%;border-bottom: 1px solid gray;flex-grow: 1;}#sk-container-id-2 div.sk-label:hover label.sk-toggleable__label {background-color: #d4ebff;}#sk-container-id-2 div.sk-serial::before {content: \"\";position: absolute;border-left: 1px solid gray;box-sizing: border-box;top: 0;bottom: 0;left: 50%;z-index: 0;}#sk-container-id-2 div.sk-serial {display: flex;flex-direction: column;align-items: center;background-color: white;padding-right: 0.2em;padding-left: 0.2em;position: relative;}#sk-container-id-2 div.sk-item {position: relative;z-index: 1;}#sk-container-id-2 div.sk-parallel {display: flex;align-items: stretch;justify-content: center;background-color: white;position: relative;}#sk-container-id-2 div.sk-item::before, #sk-container-id-2 div.sk-parallel-item::before {content: \"\";position: absolute;border-left: 1px solid gray;box-sizing: border-box;top: 0;bottom: 0;left: 50%;z-index: -1;}#sk-container-id-2 div.sk-parallel-item {display: flex;flex-direction: column;z-index: 1;position: relative;background-color: white;}#sk-container-id-2 div.sk-parallel-item:first-child::after {align-self: flex-end;width: 50%;}#sk-container-id-2 div.sk-parallel-item:last-child::after {align-self: flex-start;width: 50%;}#sk-container-id-2 div.sk-parallel-item:only-child::after {width: 0;}#sk-container-id-2 div.sk-dashed-wrapped {border: 1px dashed gray;margin: 0 0.4em 0.5em 0.4em;box-sizing: border-box;padding-bottom: 0.4em;background-color: white;}#sk-container-id-2 div.sk-label label {font-family: monospace;font-weight: bold;display: inline-block;line-height: 1.2em;}#sk-container-id-2 div.sk-label-container {text-align: center;}#sk-container-id-2 div.sk-container {/* jupyter's `normalize.less` sets `[hidden] { display: none; }` but bootstrap.min.css set `[hidden] { display: none !important; }` so we also need the `!important` here to be able to override the default hidden behavior on the sphinx rendered scikit-learn.org. See: https://github.com/scikit-learn/scikit-learn/issues/21755 */display: inline-block !important;position: relative;}#sk-container-id-2 div.sk-text-repr-fallback {display: none;}</style><div id=\"sk-container-id-2\" class=\"sk-top-container\"><div class=\"sk-text-repr-fallback\"><pre>LinearRegression()</pre><b>In a Jupyter environment, please rerun this cell to show the HTML representation or trust the notebook. <br />On GitHub, the HTML representation is unable to render, please try loading this page with nbviewer.org.</b></div><div class=\"sk-container\" hidden><div class=\"sk-item\"><div class=\"sk-estimator sk-toggleable\"><input class=\"sk-toggleable__control sk-hidden--visually\" id=\"sk-estimator-id-2\" type=\"checkbox\" checked><label for=\"sk-estimator-id-2\" class=\"sk-toggleable__label sk-toggleable__label-arrow\">LinearRegression</label><div class=\"sk-toggleable__content\"><pre>LinearRegression()</pre></div></div></div></div></div>"
      ],
      "text/plain": [
       "LinearRegression()"
      ]
     },
     "execution_count": 60,
     "metadata": {},
     "output_type": "execute_result"
    }
   ],
   "source": [
    "lr.fit(X_train,Y_train)"
   ]
  },
  {
   "cell_type": "code",
   "execution_count": 61,
   "id": "f9f2eb67",
   "metadata": {},
   "outputs": [
    {
     "data": {
      "text/plain": [
       "array([    0.        ,  -306.08299942,  -225.67602258,   -13.45406965,\n",
       "         184.39969215,   -19.84596477, -1447.34911538,  1064.23472662,\n",
       "        1339.20289097,   488.0186069 ,   561.34991386,   917.52919601,\n",
       "        -967.97764676,  -762.90102124,  -412.4986561 ,    -5.5334112 ,\n",
       "        -256.96093847,    87.4534624 ,   265.78260104,  -176.58126421,\n",
       "          -4.69459338])"
      ]
     },
     "execution_count": 61,
     "metadata": {},
     "output_type": "execute_result"
    }
   ],
   "source": [
    "lr.coef_"
   ]
  },
  {
   "cell_type": "code",
   "execution_count": 62,
   "id": "f0f3d682",
   "metadata": {},
   "outputs": [
    {
     "data": {
      "text/plain": [
       "388.5064220183466"
      ]
     },
     "execution_count": 62,
     "metadata": {},
     "output_type": "execute_result"
    }
   ],
   "source": [
    "lr.intercept_"
   ]
  },
  {
   "cell_type": "code",
   "execution_count": 63,
   "id": "e87ae257",
   "metadata": {},
   "outputs": [
    {
     "data": {
      "text/plain": [
       "array([ 885.63474037,  100.05498633,  211.03008179,  884.00824438,\n",
       "         35.46543129,  135.45529558,  527.12317865,  735.24447073,\n",
       "        274.12536537,   12.36832876,    9.02573555,   52.14926738,\n",
       "        141.37474725,  126.38674726,  152.50420668,  415.68501803,\n",
       "       1133.0566622 ,  569.3762639 ,  615.43690672,  832.65197707,\n",
       "        789.78588996,   20.51250387,   23.98466258,  344.22003412,\n",
       "        174.86458819,  108.39088029,  151.48895113,  112.49253276,\n",
       "       1027.12970614,  157.59150896,  288.81961015, 1456.46087768,\n",
       "        218.17479179, 1041.26571907, 1951.52598874,   78.30026513,\n",
       "        304.2031131 ,  510.43318155,    8.53776894,  164.62706767,\n",
       "         92.64953206,  755.9327353 , 1077.62637326,  674.66659684,\n",
       "        343.32866231,  567.09379137,   80.81329614])"
      ]
     },
     "execution_count": 63,
     "metadata": {},
     "output_type": "execute_result"
    }
   ],
   "source": [
    "ypred=lr.predict(X_test)\n",
    "ypred"
   ]
  },
  {
   "cell_type": "code",
   "execution_count": 64,
   "id": "81b03a6a",
   "metadata": {},
   "outputs": [
    {
     "data": {
      "text/html": [
       "<div>\n",
       "<style scoped>\n",
       "    .dataframe tbody tr th:only-of-type {\n",
       "        vertical-align: middle;\n",
       "    }\n",
       "\n",
       "    .dataframe tbody tr th {\n",
       "        vertical-align: top;\n",
       "    }\n",
       "\n",
       "    .dataframe thead th {\n",
       "        text-align: right;\n",
       "    }\n",
       "</style>\n",
       "<table border=\"1\" class=\"dataframe\">\n",
       "  <thead>\n",
       "    <tr style=\"text-align: right;\">\n",
       "      <th></th>\n",
       "      <th>Actutal op</th>\n",
       "      <th>Predict op</th>\n",
       "    </tr>\n",
       "  </thead>\n",
       "  <tbody>\n",
       "    <tr>\n",
       "      <th>120</th>\n",
       "      <td>900.0</td>\n",
       "      <td>885.634740</td>\n",
       "    </tr>\n",
       "    <tr>\n",
       "      <th>78</th>\n",
       "      <td>78.0</td>\n",
       "      <td>100.054986</td>\n",
       "    </tr>\n",
       "    <tr>\n",
       "      <th>51</th>\n",
       "      <td>180.0</td>\n",
       "      <td>211.030082</td>\n",
       "    </tr>\n",
       "    <tr>\n",
       "      <th>31</th>\n",
       "      <td>955.0</td>\n",
       "      <td>884.008244</td>\n",
       "    </tr>\n",
       "    <tr>\n",
       "      <th>35</th>\n",
       "      <td>40.0</td>\n",
       "      <td>35.465431</td>\n",
       "    </tr>\n",
       "    <tr>\n",
       "      <th>40</th>\n",
       "      <td>0.0</td>\n",
       "      <td>135.455296</td>\n",
       "    </tr>\n",
       "    <tr>\n",
       "      <th>14</th>\n",
       "      <td>600.0</td>\n",
       "      <td>527.123179</td>\n",
       "    </tr>\n",
       "    <tr>\n",
       "      <th>112</th>\n",
       "      <td>685.0</td>\n",
       "      <td>735.244471</td>\n",
       "    </tr>\n",
       "    <tr>\n",
       "      <th>56</th>\n",
       "      <td>270.0</td>\n",
       "      <td>274.125365</td>\n",
       "    </tr>\n",
       "    <tr>\n",
       "      <th>149</th>\n",
       "      <td>9.8</td>\n",
       "      <td>12.368329</td>\n",
       "    </tr>\n",
       "    <tr>\n",
       "      <th>153</th>\n",
       "      <td>9.8</td>\n",
       "      <td>9.025736</td>\n",
       "    </tr>\n",
       "    <tr>\n",
       "      <th>81</th>\n",
       "      <td>85.0</td>\n",
       "      <td>52.149267</td>\n",
       "    </tr>\n",
       "    <tr>\n",
       "      <th>95</th>\n",
       "      <td>170.0</td>\n",
       "      <td>141.374747</td>\n",
       "    </tr>\n",
       "    <tr>\n",
       "      <th>93</th>\n",
       "      <td>145.0</td>\n",
       "      <td>126.386747</td>\n",
       "    </tr>\n",
       "    <tr>\n",
       "      <th>92</th>\n",
       "      <td>150.0</td>\n",
       "      <td>152.504207</td>\n",
       "    </tr>\n",
       "    <tr>\n",
       "      <th>5</th>\n",
       "      <td>450.0</td>\n",
       "      <td>415.685018</td>\n",
       "    </tr>\n",
       "    <tr>\n",
       "      <th>126</th>\n",
       "      <td>1000.0</td>\n",
       "      <td>1133.056662</td>\n",
       "    </tr>\n",
       "    <tr>\n",
       "      <th>16</th>\n",
       "      <td>700.0</td>\n",
       "      <td>569.376264</td>\n",
       "    </tr>\n",
       "    <tr>\n",
       "      <th>19</th>\n",
       "      <td>650.0</td>\n",
       "      <td>615.436907</td>\n",
       "    </tr>\n",
       "    <tr>\n",
       "      <th>29</th>\n",
       "      <td>1000.0</td>\n",
       "      <td>832.651977</td>\n",
       "    </tr>\n",
       "    <tr>\n",
       "      <th>59</th>\n",
       "      <td>800.0</td>\n",
       "      <td>789.785890</td>\n",
       "    </tr>\n",
       "    <tr>\n",
       "      <th>146</th>\n",
       "      <td>7.5</td>\n",
       "      <td>20.512504</td>\n",
       "    </tr>\n",
       "    <tr>\n",
       "      <th>145</th>\n",
       "      <td>6.7</td>\n",
       "      <td>23.984663</td>\n",
       "    </tr>\n",
       "    <tr>\n",
       "      <th>102</th>\n",
       "      <td>300.0</td>\n",
       "      <td>344.220034</td>\n",
       "    </tr>\n",
       "    <tr>\n",
       "      <th>96</th>\n",
       "      <td>225.0</td>\n",
       "      <td>174.864588</td>\n",
       "    </tr>\n",
       "    <tr>\n",
       "      <th>72</th>\n",
       "      <td>5.9</td>\n",
       "      <td>108.390880</td>\n",
       "    </tr>\n",
       "    <tr>\n",
       "      <th>97</th>\n",
       "      <td>145.0</td>\n",
       "      <td>151.488951</td>\n",
       "    </tr>\n",
       "    <tr>\n",
       "      <th>42</th>\n",
       "      <td>120.0</td>\n",
       "      <td>112.492533</td>\n",
       "    </tr>\n",
       "    <tr>\n",
       "      <th>125</th>\n",
       "      <td>1100.0</td>\n",
       "      <td>1027.129706</td>\n",
       "    </tr>\n",
       "    <tr>\n",
       "      <th>44</th>\n",
       "      <td>145.0</td>\n",
       "      <td>157.591509</td>\n",
       "    </tr>\n",
       "    <tr>\n",
       "      <th>108</th>\n",
       "      <td>320.0</td>\n",
       "      <td>288.819610</td>\n",
       "    </tr>\n",
       "    <tr>\n",
       "      <th>141</th>\n",
       "      <td>1250.0</td>\n",
       "      <td>1456.460878</td>\n",
       "    </tr>\n",
       "    <tr>\n",
       "      <th>69</th>\n",
       "      <td>200.0</td>\n",
       "      <td>218.174792</td>\n",
       "    </tr>\n",
       "    <tr>\n",
       "      <th>33</th>\n",
       "      <td>975.0</td>\n",
       "      <td>1041.265719</td>\n",
       "    </tr>\n",
       "    <tr>\n",
       "      <th>144</th>\n",
       "      <td>1650.0</td>\n",
       "      <td>1951.525989</td>\n",
       "    </tr>\n",
       "    <tr>\n",
       "      <th>62</th>\n",
       "      <td>60.0</td>\n",
       "      <td>78.300265</td>\n",
       "    </tr>\n",
       "    <tr>\n",
       "      <th>130</th>\n",
       "      <td>300.0</td>\n",
       "      <td>304.203113</td>\n",
       "    </tr>\n",
       "    <tr>\n",
       "      <th>134</th>\n",
       "      <td>456.0</td>\n",
       "      <td>510.433182</td>\n",
       "    </tr>\n",
       "    <tr>\n",
       "      <th>151</th>\n",
       "      <td>10.0</td>\n",
       "      <td>8.537769</td>\n",
       "    </tr>\n",
       "    <tr>\n",
       "      <th>128</th>\n",
       "      <td>200.0</td>\n",
       "      <td>164.627068</td>\n",
       "    </tr>\n",
       "    <tr>\n",
       "      <th>61</th>\n",
       "      <td>55.0</td>\n",
       "      <td>92.649532</td>\n",
       "    </tr>\n",
       "    <tr>\n",
       "      <th>28</th>\n",
       "      <td>850.0</td>\n",
       "      <td>755.932735</td>\n",
       "    </tr>\n",
       "    <tr>\n",
       "      <th>127</th>\n",
       "      <td>1000.0</td>\n",
       "      <td>1077.626373</td>\n",
       "    </tr>\n",
       "    <tr>\n",
       "      <th>114</th>\n",
       "      <td>700.0</td>\n",
       "      <td>674.666597</td>\n",
       "    </tr>\n",
       "    <tr>\n",
       "      <th>57</th>\n",
       "      <td>306.0</td>\n",
       "      <td>343.328662</td>\n",
       "    </tr>\n",
       "    <tr>\n",
       "      <th>17</th>\n",
       "      <td>700.0</td>\n",
       "      <td>567.093791</td>\n",
       "    </tr>\n",
       "    <tr>\n",
       "      <th>76</th>\n",
       "      <td>70.0</td>\n",
       "      <td>80.813296</td>\n",
       "    </tr>\n",
       "  </tbody>\n",
       "</table>\n",
       "</div>"
      ],
      "text/plain": [
       "     Actutal op   Predict op\n",
       "120       900.0   885.634740\n",
       "78         78.0   100.054986\n",
       "51        180.0   211.030082\n",
       "31        955.0   884.008244\n",
       "35         40.0    35.465431\n",
       "40          0.0   135.455296\n",
       "14        600.0   527.123179\n",
       "112       685.0   735.244471\n",
       "56        270.0   274.125365\n",
       "149         9.8    12.368329\n",
       "153         9.8     9.025736\n",
       "81         85.0    52.149267\n",
       "95        170.0   141.374747\n",
       "93        145.0   126.386747\n",
       "92        150.0   152.504207\n",
       "5         450.0   415.685018\n",
       "126      1000.0  1133.056662\n",
       "16        700.0   569.376264\n",
       "19        650.0   615.436907\n",
       "29       1000.0   832.651977\n",
       "59        800.0   789.785890\n",
       "146         7.5    20.512504\n",
       "145         6.7    23.984663\n",
       "102       300.0   344.220034\n",
       "96        225.0   174.864588\n",
       "72          5.9   108.390880\n",
       "97        145.0   151.488951\n",
       "42        120.0   112.492533\n",
       "125      1100.0  1027.129706\n",
       "44        145.0   157.591509\n",
       "108       320.0   288.819610\n",
       "141      1250.0  1456.460878\n",
       "69        200.0   218.174792\n",
       "33        975.0  1041.265719\n",
       "144      1650.0  1951.525989\n",
       "62         60.0    78.300265\n",
       "130       300.0   304.203113\n",
       "134       456.0   510.433182\n",
       "151        10.0     8.537769\n",
       "128       200.0   164.627068\n",
       "61         55.0    92.649532\n",
       "28        850.0   755.932735\n",
       "127      1000.0  1077.626373\n",
       "114       700.0   674.666597\n",
       "57        306.0   343.328662\n",
       "17        700.0   567.093791\n",
       "76         70.0    80.813296"
      ]
     },
     "execution_count": 64,
     "metadata": {},
     "output_type": "execute_result"
    }
   ],
   "source": [
    "dict={\"Actutal op\":Y_test,'Predict op':ypred}\n",
    "df3=pd.DataFrame(dict)\n",
    "df3"
   ]
  },
  {
   "cell_type": "code",
   "execution_count": 65,
   "id": "cf126cd8",
   "metadata": {},
   "outputs": [
    {
     "name": "stdout",
     "output_type": "stream",
     "text": [
      "mse 6411.638745265472\n"
     ]
    }
   ],
   "source": [
    "print(\"mse\",mean_squared_error(Y_test,ypred))"
   ]
  },
  {
   "cell_type": "code",
   "execution_count": 66,
   "id": "1dfbbd91",
   "metadata": {},
   "outputs": [
    {
     "data": {
      "text/plain": [
       "11.660321840691392"
      ]
     },
     "execution_count": 66,
     "metadata": {},
     "output_type": "execute_result"
    }
   ],
   "source": [
    "rmse=np.sqrt(rmse)\n",
    "rmse"
   ]
  },
  {
   "cell_type": "code",
   "execution_count": 67,
   "id": "c8874b4b",
   "metadata": {},
   "outputs": [
    {
     "name": "stdout",
     "output_type": "stream",
     "text": [
      "0.9618055569309943\n"
     ]
    }
   ],
   "source": [
    "print(r2_score(Y_test,ypred))"
   ]
  },
  {
   "cell_type": "code",
   "execution_count": 68,
   "id": "0cc2f05f",
   "metadata": {},
   "outputs": [],
   "source": [
    "residual_error=Y_test-ypred"
   ]
  },
  {
   "cell_type": "code",
   "execution_count": 69,
   "id": "d95a8882",
   "metadata": {},
   "outputs": [
    {
     "data": {
      "text/plain": [
       "120     14.365260\n",
       "78     -22.054986\n",
       "51     -31.030082\n",
       "31      70.991756\n",
       "35       4.534569\n",
       "40    -135.455296\n",
       "14      72.876821\n",
       "112    -50.244471\n",
       "56      -4.125365\n",
       "149     -2.568329\n",
       "153      0.774264\n",
       "81      32.850733\n",
       "95      28.625253\n",
       "93      18.613253\n",
       "92      -2.504207\n",
       "5       34.314982\n",
       "126   -133.056662\n",
       "16     130.623736\n",
       "19      34.563093\n",
       "29     167.348023\n",
       "59      10.214110\n",
       "146    -13.012504\n",
       "145    -17.284663\n",
       "102    -44.220034\n",
       "96      50.135412\n",
       "72    -102.490880\n",
       "97      -6.488951\n",
       "42       7.507467\n",
       "125     72.870294\n",
       "44     -12.591509\n",
       "108     31.180390\n",
       "141   -206.460878\n",
       "69     -18.174792\n",
       "33     -66.265719\n",
       "144   -301.525989\n",
       "62     -18.300265\n",
       "130     -4.203113\n",
       "134    -54.433182\n",
       "151      1.462231\n",
       "128     35.372932\n",
       "61     -37.649532\n",
       "28      94.067265\n",
       "127    -77.626373\n",
       "114     25.333403\n",
       "57     -37.328662\n",
       "17     132.906209\n",
       "76     -10.813296\n",
       "Name: Weight, dtype: float64"
      ]
     },
     "execution_count": 69,
     "metadata": {},
     "output_type": "execute_result"
    }
   ],
   "source": [
    "residual_error"
   ]
  },
  {
   "cell_type": "code",
   "execution_count": 70,
   "id": "516566a0",
   "metadata": {},
   "outputs": [
    {
     "data": {
      "text/plain": [
       "Text(0, 0.5, 'residual_error')"
      ]
     },
     "execution_count": 70,
     "metadata": {},
     "output_type": "execute_result"
    },
    {
     "data": {
      "image/png": "[encoded data removed]",
      "text/plain": [
       "<Figure size 640x480 with 1 Axes>"
      ]
     },
     "metadata": {},
     "output_type": "display_data"
    }
   ],
   "source": [
    "plt.scatter(ypred,residual_error)\n",
    "plt.xlabel('predicted')\n",
    "plt.ylabel(\"residual_error\")"
   ]
  },
  {
   "cell_type": "code",
   "execution_count": 71,
   "id": "93ca0080",
   "metadata": {},
   "outputs": [
    {
     "data": {
      "text/plain": [
       "<Axes: xlabel='Weight', ylabel='Count'>"
      ]
     },
     "execution_count": 71,
     "metadata": {},
     "output_type": "execute_result"
    },
    {
     "data": {
      "image/png": "[encoded data removed]",
      "text/plain": [
       "<Figure size 640x480 with 1 Axes>"
      ]
     },
     "metadata": {},
     "output_type": "display_data"
    }
   ],
   "source": [
    "sb.histplot(residual_error)"
   ]
  },
  {
   "cell_type": "code",
   "execution_count": 72,
   "id": "30cc41d2",
   "metadata": {},
   "outputs": [
    {
     "data": {
      "text/plain": [
       "<Axes: xlabel='Weight', ylabel='Density'>"
      ]
     },
     "execution_count": 72,
     "metadata": {},
     "output_type": "execute_result"
    },
    {
     "data": {
      "image/png": "[encoded data removed]",
      "text/plain": [
       "<Figure size 640x480 with 1 Axes>"
      ]
     },
     "metadata": {},
     "output_type": "display_data"
    }
   ],
   "source": [
    "sb.distplot(residual_error)"
   ]
  },
  {
   "cell_type": "code",
   "execution_count": 73,
   "id": "3fc2fa72",
   "metadata": {},
   "outputs": [
    {
     "data": {
      "text/plain": [
       "<Axes: xlabel='Weight', ylabel='Density'>"
      ]
     },
     "execution_count": 73,
     "metadata": {},
     "output_type": "execute_result"
    },
    {
     "data": {
      "image/png": "[encoded data removed]",
      "text/plain": [
       "<Figure size 640x480 with 1 Axes>"
      ]
     },
     "metadata": {},
     "output_type": "display_data"
    }
   ],
   "source": [
    "sb.distplot(residual_error,hist=False)"
   ]
  },
  {
   "cell_type": "code",
   "execution_count": 74,
   "id": "ce68c370",
   "metadata": {},
   "outputs": [
    {
     "data": {
      "text/plain": [
       "-1.0995038809300037"
      ]
     },
     "execution_count": 74,
     "metadata": {},
     "output_type": "execute_result"
    }
   ],
   "source": [
    "residual_error.skew()"
   ]
  },
  {
   "cell_type": "code",
   "execution_count": 75,
   "id": "d13d99a3",
   "metadata": {},
   "outputs": [
    {
     "data": {
      "text/plain": [
       "0.9874729277952143"
      ]
     },
     "execution_count": 75,
     "metadata": {},
     "output_type": "execute_result"
    }
   ],
   "source": [
    "lr.score(X_train,Y_train)"
   ]
  },
  {
   "cell_type": "code",
   "execution_count": 76,
   "id": "4ee1f18f",
   "metadata": {},
   "outputs": [
    {
     "data": {
      "text/plain": [
       "0.9618055569309943"
      ]
     },
     "execution_count": 76,
     "metadata": {},
     "output_type": "execute_result"
    }
   ],
   "source": [
    "lr.score(X_test,Y_test)"
   ]
  },
  {
   "cell_type": "code",
   "execution_count": null,
   "id": "559afad5",
   "metadata": {},
   "outputs": [],
   "source": []
  }
 ],
 "metadata": {
  "kernelspec": {
   "display_name": "Python 3 (ipykernel)",
   "language": "python",
   "name": "python3"
  },
  "language_info": {
   "codemirror_mode": {
    "name": "ipython",
    "version": 3
   },
   "file_extension": ".py",
   "mimetype": "text/x-python",
   "name": "python",
   "nbconvert_exporter": "python",
   "pygments_lexer": "ipython3",
   "version": "3.11.3"
  }
 },
 "nbformat": 4,
 "nbformat_minor": 5
}
