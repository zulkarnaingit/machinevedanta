{
 "cells": [
  {
   "cell_type": "code",
   "execution_count": 1,
   "id": "9abaf7b0",
   "metadata": {},
   "outputs": [],
   "source": [
    "import pandas as pd\n",
    "import numpy as np\n",
    "import seaborn as sb\n",
    "import matplotlib.pyplot as plt\n",
    "import warnings\n",
    "warnings.filterwarnings('ignore')"
   ]
  },
  {
   "cell_type": "code",
   "execution_count": 2,
   "id": "b3346476",
   "metadata": {},
   "outputs": [
    {
     "data": {
      "text/html": [
       "<div>\n",
       "<style scoped>\n",
       "    .dataframe tbody tr th:only-of-type {\n",
       "        vertical-align: middle;\n",
       "    }\n",
       "\n",
       "    .dataframe tbody tr th {\n",
       "        vertical-align: top;\n",
       "    }\n",
       "\n",
       "    .dataframe thead th {\n",
       "        text-align: right;\n",
       "    }\n",
       "</style>\n",
       "<table border=\"1\" class=\"dataframe\">\n",
       "  <thead>\n",
       "    <tr style=\"text-align: right;\">\n",
       "      <th></th>\n",
       "      <th>CRIM</th>\n",
       "      <th>ZN</th>\n",
       "      <th>INDUS</th>\n",
       "      <th>CHAS</th>\n",
       "      <th>NOX</th>\n",
       "      <th>RM</th>\n",
       "      <th>AGE</th>\n",
       "      <th>DIS</th>\n",
       "      <th>RAD</th>\n",
       "      <th>TAX</th>\n",
       "      <th>PTRATIO</th>\n",
       "      <th>B</th>\n",
       "      <th>LSTAT</th>\n",
       "      <th>MEDV</th>\n",
       "    </tr>\n",
       "  </thead>\n",
       "  <tbody>\n",
       "    <tr>\n",
       "      <th>0</th>\n",
       "      <td>0.00632</td>\n",
       "      <td>18.0</td>\n",
       "      <td>2.31</td>\n",
       "      <td>0</td>\n",
       "      <td>0.538</td>\n",
       "      <td>6.575</td>\n",
       "      <td>65.2</td>\n",
       "      <td>4.0900</td>\n",
       "      <td>1</td>\n",
       "      <td>296</td>\n",
       "      <td>15.3</td>\n",
       "      <td>396.90</td>\n",
       "      <td>4.98</td>\n",
       "      <td>24.0</td>\n",
       "    </tr>\n",
       "    <tr>\n",
       "      <th>1</th>\n",
       "      <td>0.02731</td>\n",
       "      <td>0.0</td>\n",
       "      <td>7.07</td>\n",
       "      <td>0</td>\n",
       "      <td>0.469</td>\n",
       "      <td>6.421</td>\n",
       "      <td>78.9</td>\n",
       "      <td>4.9671</td>\n",
       "      <td>2</td>\n",
       "      <td>242</td>\n",
       "      <td>17.8</td>\n",
       "      <td>396.90</td>\n",
       "      <td>9.14</td>\n",
       "      <td>21.6</td>\n",
       "    </tr>\n",
       "    <tr>\n",
       "      <th>2</th>\n",
       "      <td>0.02729</td>\n",
       "      <td>0.0</td>\n",
       "      <td>7.07</td>\n",
       "      <td>0</td>\n",
       "      <td>0.469</td>\n",
       "      <td>7.185</td>\n",
       "      <td>61.1</td>\n",
       "      <td>4.9671</td>\n",
       "      <td>2</td>\n",
       "      <td>242</td>\n",
       "      <td>17.8</td>\n",
       "      <td>392.83</td>\n",
       "      <td>4.03</td>\n",
       "      <td>34.7</td>\n",
       "    </tr>\n",
       "    <tr>\n",
       "      <th>3</th>\n",
       "      <td>0.03237</td>\n",
       "      <td>0.0</td>\n",
       "      <td>2.18</td>\n",
       "      <td>0</td>\n",
       "      <td>0.458</td>\n",
       "      <td>6.998</td>\n",
       "      <td>45.8</td>\n",
       "      <td>6.0622</td>\n",
       "      <td>3</td>\n",
       "      <td>222</td>\n",
       "      <td>18.7</td>\n",
       "      <td>394.63</td>\n",
       "      <td>2.94</td>\n",
       "      <td>33.4</td>\n",
       "    </tr>\n",
       "    <tr>\n",
       "      <th>4</th>\n",
       "      <td>0.06905</td>\n",
       "      <td>0.0</td>\n",
       "      <td>2.18</td>\n",
       "      <td>0</td>\n",
       "      <td>0.458</td>\n",
       "      <td>7.147</td>\n",
       "      <td>54.2</td>\n",
       "      <td>6.0622</td>\n",
       "      <td>3</td>\n",
       "      <td>222</td>\n",
       "      <td>18.7</td>\n",
       "      <td>396.90</td>\n",
       "      <td>5.33</td>\n",
       "      <td>36.2</td>\n",
       "    </tr>\n",
       "    <tr>\n",
       "      <th>...</th>\n",
       "      <td>...</td>\n",
       "      <td>...</td>\n",
       "      <td>...</td>\n",
       "      <td>...</td>\n",
       "      <td>...</td>\n",
       "      <td>...</td>\n",
       "      <td>...</td>\n",
       "      <td>...</td>\n",
       "      <td>...</td>\n",
       "      <td>...</td>\n",
       "      <td>...</td>\n",
       "      <td>...</td>\n",
       "      <td>...</td>\n",
       "      <td>...</td>\n",
       "    </tr>\n",
       "    <tr>\n",
       "      <th>506</th>\n",
       "      <td>0.98765</td>\n",
       "      <td>0.0</td>\n",
       "      <td>12.50</td>\n",
       "      <td>0</td>\n",
       "      <td>0.561</td>\n",
       "      <td>6.980</td>\n",
       "      <td>89.0</td>\n",
       "      <td>2.0980</td>\n",
       "      <td>3</td>\n",
       "      <td>320</td>\n",
       "      <td>23.0</td>\n",
       "      <td>396.00</td>\n",
       "      <td>12.00</td>\n",
       "      <td>12.0</td>\n",
       "    </tr>\n",
       "    <tr>\n",
       "      <th>507</th>\n",
       "      <td>0.23456</td>\n",
       "      <td>0.0</td>\n",
       "      <td>12.50</td>\n",
       "      <td>0</td>\n",
       "      <td>0.561</td>\n",
       "      <td>6.980</td>\n",
       "      <td>76.0</td>\n",
       "      <td>2.6540</td>\n",
       "      <td>3</td>\n",
       "      <td>320</td>\n",
       "      <td>23.0</td>\n",
       "      <td>343.00</td>\n",
       "      <td>25.00</td>\n",
       "      <td>32.0</td>\n",
       "    </tr>\n",
       "    <tr>\n",
       "      <th>508</th>\n",
       "      <td>0.44433</td>\n",
       "      <td>0.0</td>\n",
       "      <td>12.50</td>\n",
       "      <td>0</td>\n",
       "      <td>0.561</td>\n",
       "      <td>6.123</td>\n",
       "      <td>98.0</td>\n",
       "      <td>2.9870</td>\n",
       "      <td>3</td>\n",
       "      <td>320</td>\n",
       "      <td>23.0</td>\n",
       "      <td>343.00</td>\n",
       "      <td>21.00</td>\n",
       "      <td>54.0</td>\n",
       "    </tr>\n",
       "    <tr>\n",
       "      <th>509</th>\n",
       "      <td>0.77763</td>\n",
       "      <td>0.0</td>\n",
       "      <td>12.70</td>\n",
       "      <td>0</td>\n",
       "      <td>0.561</td>\n",
       "      <td>6.222</td>\n",
       "      <td>34.0</td>\n",
       "      <td>2.5430</td>\n",
       "      <td>3</td>\n",
       "      <td>329</td>\n",
       "      <td>23.0</td>\n",
       "      <td>343.00</td>\n",
       "      <td>76.00</td>\n",
       "      <td>67.0</td>\n",
       "    </tr>\n",
       "    <tr>\n",
       "      <th>510</th>\n",
       "      <td>0.65432</td>\n",
       "      <td>0.0</td>\n",
       "      <td>12.80</td>\n",
       "      <td>0</td>\n",
       "      <td>0.561</td>\n",
       "      <td>6.760</td>\n",
       "      <td>67.0</td>\n",
       "      <td>2.9870</td>\n",
       "      <td>3</td>\n",
       "      <td>345</td>\n",
       "      <td>23.0</td>\n",
       "      <td>321.00</td>\n",
       "      <td>45.00</td>\n",
       "      <td>24.0</td>\n",
       "    </tr>\n",
       "  </tbody>\n",
       "</table>\n",
       "<p>511 rows × 14 columns</p>\n",
       "</div>"
      ],
      "text/plain": [
       "        CRIM    ZN  INDUS  CHAS    NOX     RM   AGE     DIS  RAD  TAX  \\\n",
       "0    0.00632  18.0   2.31     0  0.538  6.575  65.2  4.0900    1  296   \n",
       "1    0.02731   0.0   7.07     0  0.469  6.421  78.9  4.9671    2  242   \n",
       "2    0.02729   0.0   7.07     0  0.469  7.185  61.1  4.9671    2  242   \n",
       "3    0.03237   0.0   2.18     0  0.458  6.998  45.8  6.0622    3  222   \n",
       "4    0.06905   0.0   2.18     0  0.458  7.147  54.2  6.0622    3  222   \n",
       "..       ...   ...    ...   ...    ...    ...   ...     ...  ...  ...   \n",
       "506  0.98765   0.0  12.50     0  0.561  6.980  89.0  2.0980    3  320   \n",
       "507  0.23456   0.0  12.50     0  0.561  6.980  76.0  2.6540    3  320   \n",
       "508  0.44433   0.0  12.50     0  0.561  6.123  98.0  2.9870    3  320   \n",
       "509  0.77763   0.0  12.70     0  0.561  6.222  34.0  2.5430    3  329   \n",
       "510  0.65432   0.0  12.80     0  0.561  6.760  67.0  2.9870    3  345   \n",
       "\n",
       "     PTRATIO       B  LSTAT  MEDV  \n",
       "0       15.3  396.90   4.98  24.0  \n",
       "1       17.8  396.90   9.14  21.6  \n",
       "2       17.8  392.83   4.03  34.7  \n",
       "3       18.7  394.63   2.94  33.4  \n",
       "4       18.7  396.90   5.33  36.2  \n",
       "..       ...     ...    ...   ...  \n",
       "506     23.0  396.00  12.00  12.0  \n",
       "507     23.0  343.00  25.00  32.0  \n",
       "508     23.0  343.00  21.00  54.0  \n",
       "509     23.0  343.00  76.00  67.0  \n",
       "510     23.0  321.00  45.00  24.0  \n",
       "\n",
       "[511 rows x 14 columns]"
      ]
     },
     "execution_count": 2,
     "metadata": {},
     "output_type": "execute_result"
    }
   ],
   "source": [
    "df=pd.read_csv('data.csv')\n",
    "df"
   ]
  },
  {
   "cell_type": "code",
   "execution_count": 3,
   "id": "586ea42a",
   "metadata": {},
   "outputs": [
    {
     "data": {
      "text/plain": [
       "CRIM       float64\n",
       "ZN         float64\n",
       "INDUS      float64\n",
       "CHAS         int64\n",
       "NOX        float64\n",
       "RM         float64\n",
       "AGE        float64\n",
       "DIS        float64\n",
       "RAD          int64\n",
       "TAX          int64\n",
       "PTRATIO    float64\n",
       "B          float64\n",
       "LSTAT      float64\n",
       "MEDV       float64\n",
       "dtype: object"
      ]
     },
     "execution_count": 3,
     "metadata": {},
     "output_type": "execute_result"
    }
   ],
   "source": [
    "df.dtypes"
   ]
  },
  {
   "cell_type": "code",
   "execution_count": 4,
   "id": "0f77504e",
   "metadata": {},
   "outputs": [
    {
     "data": {
      "text/plain": [
       "CRIM       0.000000\n",
       "ZN         0.000000\n",
       "INDUS      0.000000\n",
       "CHAS       0.000000\n",
       "NOX        0.000000\n",
       "RM         0.978474\n",
       "AGE        0.000000\n",
       "DIS        0.000000\n",
       "RAD        0.000000\n",
       "TAX        0.000000\n",
       "PTRATIO    0.000000\n",
       "B          0.000000\n",
       "LSTAT      0.000000\n",
       "MEDV       0.000000\n",
       "dtype: float64"
      ]
     },
     "execution_count": 4,
     "metadata": {},
     "output_type": "execute_result"
    }
   ],
   "source": [
    "df.isnull().sum()/df.shape[0]*100"
   ]
  },
  {
   "cell_type": "code",
   "execution_count": 5,
   "id": "0c1c157b",
   "metadata": {},
   "outputs": [
    {
     "data": {
      "text/plain": [
       "<Axes: >"
      ]
     },
     "execution_count": 5,
     "metadata": {},
     "output_type": "execute_result"
    },
    {
     "data": {
      "image/png": "[encoded data removed]",
      "text/plain": [
       "<Figure size 640x480 with 2 Axes>"
      ]
     },
     "metadata": {},
     "output_type": "display_data"
    }
   ],
   "source": [
    "sb.heatmap(df.isnull())"
   ]
  },
  {
   "cell_type": "code",
   "execution_count": 6,
   "id": "cb2e4f8f",
   "metadata": {},
   "outputs": [
    {
     "data": {
      "text/plain": [
       "6.287588932806324"
      ]
     },
     "execution_count": 6,
     "metadata": {},
     "output_type": "execute_result"
    }
   ],
   "source": [
    "a=df['RM'].mean()\n",
    "a"
   ]
  },
  {
   "cell_type": "code",
   "execution_count": 7,
   "id": "4fd2daa6",
   "metadata": {},
   "outputs": [],
   "source": [
    "df['RM'].fillna(a,inplace=True)"
   ]
  },
  {
   "cell_type": "code",
   "execution_count": 8,
   "id": "af0eedf0",
   "metadata": {},
   "outputs": [
    {
     "data": {
      "text/plain": [
       "<Axes: >"
      ]
     },
     "execution_count": 8,
     "metadata": {},
     "output_type": "execute_result"
    },
    {
     "data": {
      "image/png": "[encoded data removed]",
      "text/plain": [
       "<Figure size 640x480 with 2 Axes>"
      ]
     },
     "metadata": {},
     "output_type": "display_data"
    }
   ],
   "source": [
    "sb.heatmap(df.isnull())"
   ]
  },
  {
   "cell_type": "code",
   "execution_count": 9,
   "id": "7d3f868f",
   "metadata": {},
   "outputs": [],
   "source": [
    "X=df.drop('MEDV',axis=1)\n",
    "Y=df['MEDV']"
   ]
  },
  {
   "cell_type": "code",
   "execution_count": 10,
   "id": "a13ffb03",
   "metadata": {},
   "outputs": [],
   "source": [
    "from sklearn.model_selection import train_test_split"
   ]
  },
  {
   "cell_type": "code",
   "execution_count": 11,
   "id": "92518b4f",
   "metadata": {},
   "outputs": [],
   "source": [
    "X_train,X_test,Y_train,Y_test=train_test_split(X,Y,test_size=0.3,random_state=1)"
   ]
  },
  {
   "cell_type": "code",
   "execution_count": 12,
   "id": "e6ede2d4",
   "metadata": {},
   "outputs": [
    {
     "data": {
      "text/plain": [
       "(357, 13)"
      ]
     },
     "execution_count": 12,
     "metadata": {},
     "output_type": "execute_result"
    }
   ],
   "source": [
    "X_train.shape"
   ]
  },
  {
   "cell_type": "code",
   "execution_count": 13,
   "id": "6ae446b4",
   "metadata": {},
   "outputs": [
    {
     "data": {
      "text/plain": [
       "(154, 13)"
      ]
     },
     "execution_count": 13,
     "metadata": {},
     "output_type": "execute_result"
    }
   ],
   "source": [
    "X_test.shape"
   ]
  },
  {
   "cell_type": "code",
   "execution_count": 14,
   "id": "e75a8352",
   "metadata": {},
   "outputs": [
    {
     "data": {
      "text/plain": [
       "(357,)"
      ]
     },
     "execution_count": 14,
     "metadata": {},
     "output_type": "execute_result"
    }
   ],
   "source": [
    "Y_train.shape"
   ]
  },
  {
   "cell_type": "code",
   "execution_count": 15,
   "id": "74405cf1",
   "metadata": {},
   "outputs": [
    {
     "data": {
      "text/plain": [
       "(154,)"
      ]
     },
     "execution_count": 15,
     "metadata": {},
     "output_type": "execute_result"
    }
   ],
   "source": [
    "Y_test.shape"
   ]
  },
  {
   "cell_type": "code",
   "execution_count": 16,
   "id": "566fd280",
   "metadata": {},
   "outputs": [],
   "source": [
    "from sklearn.preprocessing import StandardScaler\n",
    "ss=StandardScaler()\n",
    "X_train=ss.fit_transform(X_train)"
   ]
  },
  {
   "cell_type": "code",
   "execution_count": 17,
   "id": "55b93dac",
   "metadata": {},
   "outputs": [
    {
     "data": {
      "text/plain": [
       "array([[-0.4299804 ,  0.63160121, -0.91440378, ...,  0.54427184,\n",
       "         0.22629536,  0.14790315],\n",
       "       [ 0.96424356, -0.47229398,  0.98683949, ...,  0.77356739,\n",
       "        -0.75580721,  0.10617357],\n",
       "       [-0.44689447,  2.83939158, -1.2339651 , ..., -0.09775569,\n",
       "         0.42548523, -1.09416566],\n",
       "       ...,\n",
       "       [ 0.23920306, -0.47229398,  0.98683949, ...,  0.77356739,\n",
       "         0.43989954,  0.75298213],\n",
       "       [-0.41134534, -0.47229398, -0.75755487, ..., -0.51048768,\n",
       "         0.21120005, -0.28903015],\n",
       "       [-0.44073013, -0.47229398, -0.79273594, ...,  0.31497629,\n",
       "         0.43989954, -0.54799904]])"
      ]
     },
     "execution_count": 17,
     "metadata": {},
     "output_type": "execute_result"
    }
   ],
   "source": [
    "X_train"
   ]
  },
  {
   "cell_type": "code",
   "execution_count": 18,
   "id": "4da8aeb5",
   "metadata": {},
   "outputs": [],
   "source": [
    "X_test=ss.transform(X_test)"
   ]
  },
  {
   "cell_type": "code",
   "execution_count": 19,
   "id": "5ab5be25",
   "metadata": {},
   "outputs": [
    {
     "data": {
      "text/plain": [
       "array([[-0.42322322, -0.47229398, -0.65347756, ..., -0.28119213,\n",
       "         0.39268416,  0.68302371],\n",
       "       [-0.44648359, -0.47229398, -1.02287872, ...,  0.13153986,\n",
       "         0.31210023, -0.33198707],\n",
       "       [-0.44907447,  3.5017287 , -1.23103334, ..., -1.47352898,\n",
       "         0.41515687, -0.66091438],\n",
       "       ...,\n",
       "       [-0.23486518, -0.47229398,  1.20378937, ..., -1.74868364,\n",
       "         0.35715913, -1.38872743],\n",
       "       [-0.33410269, -0.47229398, -0.47317462, ...,  1.14044027,\n",
       "         0.4131139 ,  0.8155765 ],\n",
       "       [-0.37620826, -0.47229398, -0.47317462, ...,  1.14044027,\n",
       "         0.43989954, -0.61059341]])"
      ]
     },
     "execution_count": 19,
     "metadata": {},
     "output_type": "execute_result"
    }
   ],
   "source": [
    "X_test"
   ]
  },
  {
   "cell_type": "code",
   "execution_count": 20,
   "id": "cbdf3b5d",
   "metadata": {},
   "outputs": [],
   "source": [
    "from sklearn.linear_model import LinearRegression"
   ]
  },
  {
   "cell_type": "code",
   "execution_count": 21,
   "id": "7cae0e8e",
   "metadata": {},
   "outputs": [],
   "source": [
    "lr=LinearRegression()"
   ]
  },
  {
   "cell_type": "code",
   "execution_count": 22,
   "id": "3691ede2",
   "metadata": {},
   "outputs": [
    {
     "data": {
      "text/html": [
       "<style>#sk-container-id-1 {color: black;background-color: white;}#sk-container-id-1 pre{padding: 0;}#sk-container-id-1 div.sk-toggleable {background-color: white;}#sk-container-id-1 label.sk-toggleable__label {cursor: pointer;display: block;width: 100%;margin-bottom: 0;padding: 0.3em;box-sizing: border-box;text-align: center;}#sk-container-id-1 label.sk-toggleable__label-arrow:before {content: \"▸\";float: left;margin-right: 0.25em;color: #696969;}#sk-container-id-1 label.sk-toggleable__label-arrow:hover:before {color: black;}#sk-container-id-1 div.sk-estimator:hover label.sk-toggleable__label-arrow:before {color: black;}#sk-container-id-1 div.sk-toggleable__content {max-height: 0;max-width: 0;overflow: hidden;text-align: left;background-color: #f0f8ff;}#sk-container-id-1 div.sk-toggleable__content pre {margin: 0.2em;color: black;border-radius: 0.25em;background-color: #f0f8ff;}#sk-container-id-1 input.sk-toggleable__control:checked~div.sk-toggleable__content {max-height: 200px;max-width: 100%;overflow: auto;}#sk-container-id-1 input.sk-toggleable__control:checked~label.sk-toggleable__label-arrow:before {content: \"▾\";}#sk-container-id-1 div.sk-estimator input.sk-toggleable__control:checked~label.sk-toggleable__label {background-color: #d4ebff;}#sk-container-id-1 div.sk-label input.sk-toggleable__control:checked~label.sk-toggleable__label {background-color: #d4ebff;}#sk-container-id-1 input.sk-hidden--visually {border: 0;clip: rect(1px 1px 1px 1px);clip: rect(1px, 1px, 1px, 1px);height: 1px;margin: -1px;overflow: hidden;padding: 0;position: absolute;width: 1px;}#sk-container-id-1 div.sk-estimator {font-family: monospace;background-color: #f0f8ff;border: 1px dotted black;border-radius: 0.25em;box-sizing: border-box;margin-bottom: 0.5em;}#sk-container-id-1 div.sk-estimator:hover {background-color: #d4ebff;}#sk-container-id-1 div.sk-parallel-item::after {content: \"\";width: 100%;border-bottom: 1px solid gray;flex-grow: 1;}#sk-container-id-1 div.sk-label:hover label.sk-toggleable__label {background-color: #d4ebff;}#sk-container-id-1 div.sk-serial::before {content: \"\";position: absolute;border-left: 1px solid gray;box-sizing: border-box;top: 0;bottom: 0;left: 50%;z-index: 0;}#sk-container-id-1 div.sk-serial {display: flex;flex-direction: column;align-items: center;background-color: white;padding-right: 0.2em;padding-left: 0.2em;position: relative;}#sk-container-id-1 div.sk-item {position: relative;z-index: 1;}#sk-container-id-1 div.sk-parallel {display: flex;align-items: stretch;justify-content: center;background-color: white;position: relative;}#sk-container-id-1 div.sk-item::before, #sk-container-id-1 div.sk-parallel-item::before {content: \"\";position: absolute;border-left: 1px solid gray;box-sizing: border-box;top: 0;bottom: 0;left: 50%;z-index: -1;}#sk-container-id-1 div.sk-parallel-item {display: flex;flex-direction: column;z-index: 1;position: relative;background-color: white;}#sk-container-id-1 div.sk-parallel-item:first-child::after {align-self: flex-end;width: 50%;}#sk-container-id-1 div.sk-parallel-item:last-child::after {align-self: flex-start;width: 50%;}#sk-container-id-1 div.sk-parallel-item:only-child::after {width: 0;}#sk-container-id-1 div.sk-dashed-wrapped {border: 1px dashed gray;margin: 0 0.4em 0.5em 0.4em;box-sizing: border-box;padding-bottom: 0.4em;background-color: white;}#sk-container-id-1 div.sk-label label {font-family: monospace;font-weight: bold;display: inline-block;line-height: 1.2em;}#sk-container-id-1 div.sk-label-container {text-align: center;}#sk-container-id-1 div.sk-container {/* jupyter's `normalize.less` sets `[hidden] { display: none; }` but bootstrap.min.css set `[hidden] { display: none !important; }` so we also need the `!important` here to be able to override the default hidden behavior on the sphinx rendered scikit-learn.org. See: https://github.com/scikit-learn/scikit-learn/issues/21755 */display: inline-block !important;position: relative;}#sk-container-id-1 div.sk-text-repr-fallback {display: none;}</style><div id=\"sk-container-id-1\" class=\"sk-top-container\"><div class=\"sk-text-repr-fallback\"><pre>LinearRegression()</pre><b>In a Jupyter environment, please rerun this cell to show the HTML representation or trust the notebook. <br />On GitHub, the HTML representation is unable to render, please try loading this page with nbviewer.org.</b></div><div class=\"sk-container\" hidden><div class=\"sk-item\"><div class=\"sk-estimator sk-toggleable\"><input class=\"sk-toggleable__control sk-hidden--visually\" id=\"sk-estimator-id-1\" type=\"checkbox\" checked><label for=\"sk-estimator-id-1\" class=\"sk-toggleable__label sk-toggleable__label-arrow\">LinearRegression</label><div class=\"sk-toggleable__content\"><pre>LinearRegression()</pre></div></div></div></div></div>"
      ],
      "text/plain": [
       "LinearRegression()"
      ]
     },
     "execution_count": 22,
     "metadata": {},
     "output_type": "execute_result"
    }
   ],
   "source": [
    "lr.fit(X_train,Y_train)"
   ]
  },
  {
   "cell_type": "code",
   "execution_count": 23,
   "id": "b08a6934",
   "metadata": {},
   "outputs": [
    {
     "data": {
      "text/plain": [
       "array([-1.2141627 ,  1.58401644, -0.22763979,  1.12698611, -1.84073328,\n",
       "        4.29861971, -1.92559069, -3.98181469,  1.33212325, -1.71458699,\n",
       "       -1.12485583,  0.88671816, -0.1504319 ])"
      ]
     },
     "execution_count": 23,
     "metadata": {},
     "output_type": "execute_result"
    }
   ],
   "source": [
    "lr.coef_"
   ]
  },
  {
   "cell_type": "code",
   "execution_count": 24,
   "id": "f5bf6bfc",
   "metadata": {},
   "outputs": [
    {
     "data": {
      "text/plain": [
       "22.54481792717087"
      ]
     },
     "execution_count": 24,
     "metadata": {},
     "output_type": "execute_result"
    }
   ],
   "source": [
    "lr.intercept_"
   ]
  },
  {
   "cell_type": "code",
   "execution_count": 25,
   "id": "e32f78cb",
   "metadata": {},
   "outputs": [
    {
     "data": {
      "text/plain": [
       "array([19.17084709, 15.89309571, 35.00468383, 28.07294214, 22.42775439,\n",
       "       23.10220744, 27.13687835, 35.28470403, 18.91610069, 32.52735103,\n",
       "       21.78620432, 37.1376438 , 23.86497752, 12.15180673, 24.40267974,\n",
       "       21.36641457, 26.88078117, 12.77721798, 21.8014905 , 28.05671067,\n",
       "       26.41953965, 25.99662191, 34.25025936, 25.36653842, 14.09615832,\n",
       "       13.74550879, 19.94883287, 16.09533264, 26.34885549, 16.59900516,\n",
       "       17.38060767, 16.03094064, 17.04457235, 19.7943668 , 21.47820401,\n",
       "       17.55785091, 19.27593687, 19.64437637, 17.15896331, 27.46943177,\n",
       "       11.32673024, 18.60640567, 21.57726499, 21.46029657, 38.15966485,\n",
       "       35.67166398, 39.89648486, 13.56974362, 30.51317823, 45.65343506,\n",
       "       27.03113529, 18.66717069, 17.37861584, 21.12206331, 22.7423134 ,\n",
       "       23.71750751, 21.06803921, 35.47634173, 21.67761464, 31.68736828,\n",
       "       35.62911939, 18.11594161, 26.8229923 , 23.7840298 , 22.34068267,\n",
       "       20.0879878 , 13.56921937, 37.0651573 , 21.07290248, 28.5911291 ,\n",
       "       20.99562889, 26.99762852, 34.05172347,  7.24883174, 21.92363587,\n",
       "       12.19714448, 26.02015236, 26.67206107, 13.59140784, 28.40861659,\n",
       "       22.49402621, 19.29281883, 29.50384673, 21.40378599, 29.64563263,\n",
       "       11.12251383, 27.89655141, 18.86183613, 35.2020163 , 26.45107768,\n",
       "       25.42040791, 21.71881529, 34.13816851, 14.2877581 , 21.29506211,\n",
       "       18.66289688, 18.92885148, 17.18832922, 28.92108841, 40.58910603,\n",
       "       19.0408619 , 25.21489839, 18.08662619, 25.47231074, 21.00274912,\n",
       "       17.16457987, 22.10405107, 19.48713192, 32.4380909 , 12.36489878,\n",
       "       26.29022859, 20.9261694 , 17.25985702, 22.63719338, 21.28634888,\n",
       "       17.61135041, 18.11084278, 29.99821463, 17.81952647, 36.19755791,\n",
       "       37.69284187, 34.00740392, 17.3116163 , 29.45330557, 29.14128935,\n",
       "       36.96706467, 23.66441465, 27.12891361, 25.18003392, 26.96188434,\n",
       "       29.09457186, 22.43795669, 19.67760293, 29.22845915, 16.50970692,\n",
       "       25.88121953, 36.26858498, 28.59992858, 19.51953756, 20.69259407,\n",
       "       14.71983536, 16.39886812, 19.6429998 , 20.07911652, 14.66783277,\n",
       "       34.06342485, 19.55024179, 21.83101778,  9.57102186, 28.20847265,\n",
       "       21.76954676, 37.6039842 , 16.04376971, 18.6214159 ])"
      ]
     },
     "execution_count": 25,
     "metadata": {},
     "output_type": "execute_result"
    }
   ],
   "source": [
    "y_pred=lr.predict(X_test)\n",
    "y_pred"
   ]
  },
  {
   "cell_type": "code",
   "execution_count": 26,
   "id": "f7e3dc33",
   "metadata": {},
   "outputs": [
    {
     "data": {
      "text/html": [
       "<div>\n",
       "<style scoped>\n",
       "    .dataframe tbody tr th:only-of-type {\n",
       "        vertical-align: middle;\n",
       "    }\n",
       "\n",
       "    .dataframe tbody tr th {\n",
       "        vertical-align: top;\n",
       "    }\n",
       "\n",
       "    .dataframe thead th {\n",
       "        text-align: right;\n",
       "    }\n",
       "</style>\n",
       "<table border=\"1\" class=\"dataframe\">\n",
       "  <thead>\n",
       "    <tr style=\"text-align: right;\">\n",
       "      <th></th>\n",
       "      <th>Actual ouput</th>\n",
       "      <th>Predict ouput</th>\n",
       "    </tr>\n",
       "  </thead>\n",
       "  <tbody>\n",
       "    <tr>\n",
       "      <th>47</th>\n",
       "      <td>16.6</td>\n",
       "      <td>19.170847</td>\n",
       "    </tr>\n",
       "    <tr>\n",
       "      <th>345</th>\n",
       "      <td>17.5</td>\n",
       "      <td>15.893096</td>\n",
       "    </tr>\n",
       "    <tr>\n",
       "      <th>284</th>\n",
       "      <td>32.2</td>\n",
       "      <td>35.004684</td>\n",
       "    </tr>\n",
       "    <tr>\n",
       "      <th>221</th>\n",
       "      <td>21.7</td>\n",
       "      <td>28.072942</td>\n",
       "    </tr>\n",
       "    <tr>\n",
       "      <th>502</th>\n",
       "      <td>20.6</td>\n",
       "      <td>22.427754</td>\n",
       "    </tr>\n",
       "    <tr>\n",
       "      <th>...</th>\n",
       "      <td>...</td>\n",
       "      <td>...</td>\n",
       "    </tr>\n",
       "    <tr>\n",
       "      <th>95</th>\n",
       "      <td>28.4</td>\n",
       "      <td>28.208473</td>\n",
       "    </tr>\n",
       "    <tr>\n",
       "      <th>122</th>\n",
       "      <td>20.5</td>\n",
       "      <td>21.769547</td>\n",
       "    </tr>\n",
       "    <tr>\n",
       "      <th>162</th>\n",
       "      <td>50.0</td>\n",
       "      <td>37.603984</td>\n",
       "    </tr>\n",
       "    <tr>\n",
       "      <th>23</th>\n",
       "      <td>14.5</td>\n",
       "      <td>16.043770</td>\n",
       "    </tr>\n",
       "    <tr>\n",
       "      <th>13</th>\n",
       "      <td>20.4</td>\n",
       "      <td>18.621416</td>\n",
       "    </tr>\n",
       "  </tbody>\n",
       "</table>\n",
       "<p>154 rows × 2 columns</p>\n",
       "</div>"
      ],
      "text/plain": [
       "     Actual ouput  Predict ouput\n",
       "47           16.6      19.170847\n",
       "345          17.5      15.893096\n",
       "284          32.2      35.004684\n",
       "221          21.7      28.072942\n",
       "502          20.6      22.427754\n",
       "..            ...            ...\n",
       "95           28.4      28.208473\n",
       "122          20.5      21.769547\n",
       "162          50.0      37.603984\n",
       "23           14.5      16.043770\n",
       "13           20.4      18.621416\n",
       "\n",
       "[154 rows x 2 columns]"
      ]
     },
     "execution_count": 26,
     "metadata": {},
     "output_type": "execute_result"
    }
   ],
   "source": [
    "dict={\"Actual ouput\":Y_test,'Predict ouput':y_pred}\n",
    "df1=pd.DataFrame(dict)\n",
    "df1"
   ]
  },
  {
   "cell_type": "code",
   "execution_count": 27,
   "id": "d43c771d",
   "metadata": {},
   "outputs": [],
   "source": [
    "from sklearn.metrics import mean_squared_error"
   ]
  },
  {
   "cell_type": "code",
   "execution_count": 28,
   "id": "7a387020",
   "metadata": {},
   "outputs": [
    {
     "name": "stdout",
     "output_type": "stream",
     "text": [
      "mean sqaured error 26.79567421336234\n"
     ]
    }
   ],
   "source": [
    "print(\"mean sqaured error\",mean_squared_error(Y_test,y_pred))"
   ]
  },
  {
   "cell_type": "code",
   "execution_count": 29,
   "id": "964a931d",
   "metadata": {},
   "outputs": [
    {
     "data": {
      "text/plain": [
       "26.79567421336234"
      ]
     },
     "execution_count": 29,
     "metadata": {},
     "output_type": "execute_result"
    }
   ],
   "source": [
    "mse=mean_squared_error(Y_test,y_pred)\n",
    "mse"
   ]
  },
  {
   "cell_type": "code",
   "execution_count": 30,
   "id": "4b5a5929",
   "metadata": {},
   "outputs": [
    {
     "data": {
      "text/plain": [
       "5.176453826063007"
      ]
     },
     "execution_count": 30,
     "metadata": {},
     "output_type": "execute_result"
    }
   ],
   "source": [
    "rmse=np.sqrt(mse)\n",
    "rmse"
   ]
  },
  {
   "cell_type": "code",
   "execution_count": 31,
   "id": "24f2e9d9",
   "metadata": {},
   "outputs": [],
   "source": [
    "from sklearn.metrics import r2_score"
   ]
  },
  {
   "cell_type": "code",
   "execution_count": 32,
   "id": "b5801ccb",
   "metadata": {},
   "outputs": [
    {
     "name": "stdout",
     "output_type": "stream",
     "text": [
      "r2_score 0.6684004803480592\n"
     ]
    }
   ],
   "source": [
    "print('r2_score',r2_score(Y_test,y_pred))"
   ]
  },
  {
   "cell_type": "code",
   "execution_count": 33,
   "id": "cdf289c5",
   "metadata": {},
   "outputs": [
    {
     "name": "stdout",
     "output_type": "stream",
     "text": [
      "residual error 47     -2.570847\n",
      "345     1.606904\n",
      "284    -2.804684\n",
      "221    -6.372942\n",
      "502    -1.827754\n",
      "         ...    \n",
      "95      0.191527\n",
      "122    -1.269547\n",
      "162    12.396016\n",
      "23     -1.543770\n",
      "13      1.778584\n",
      "Name: MEDV, Length: 154, dtype: float64\n"
     ]
    }
   ],
   "source": [
    "residual_error=Y_test-y_pred\n",
    "print(\"residual error\",residual_error)"
   ]
  },
  {
   "cell_type": "code",
   "execution_count": 34,
   "id": "e2444aef",
   "metadata": {},
   "outputs": [
    {
     "data": {
      "text/plain": [
       "(154,)"
      ]
     },
     "execution_count": 34,
     "metadata": {},
     "output_type": "execute_result"
    }
   ],
   "source": [
    "y_pred.shape\n"
   ]
  },
  {
   "cell_type": "code",
   "execution_count": 35,
   "id": "dec5b163",
   "metadata": {},
   "outputs": [
    {
     "data": {
      "image/png": "[encoded data removed]",
      "text/plain": [
       "<Figure size 640x480 with 1 Axes>"
      ]
     },
     "metadata": {},
     "output_type": "display_data"
    }
   ],
   "source": [
    "import matplotlib.pyplot as plt\n",
    "plt.scatter(y_pred,residual_error)\n",
    "# sb.scatterplot(y_pred,residual_error)\n",
    "# plt.plot(y_pred,residual_error,color='red')\n",
    "plt.xlabel('PRedicted')\n",
    "plt.ylabel('Residual error')\n",
    "plt.show()"
   ]
  },
  {
   "cell_type": "code",
   "execution_count": 36,
   "id": "0defc34e",
   "metadata": {},
   "outputs": [
    {
     "data": {
      "image/png": "[encoded data removed]",
      "text/plain": [
       "<Figure size 640x480 with 1 Axes>"
      ]
     },
     "metadata": {},
     "output_type": "display_data"
    }
   ],
   "source": [
    "sb.histplot(residual_error)\n",
    "plt.show()"
   ]
  },
  {
   "cell_type": "code",
   "execution_count": 37,
   "id": "298ecc8d",
   "metadata": {},
   "outputs": [
    {
     "data": {
      "text/plain": [
       "<Axes: xlabel='MEDV', ylabel='Density'>"
      ]
     },
     "execution_count": 37,
     "metadata": {},
     "output_type": "execute_result"
    },
    {
     "data": {
      "image/png": "[encoded data removed]",
      "text/plain": [
       "<Figure size 640x480 with 1 Axes>"
      ]
     },
     "metadata": {},
     "output_type": "display_data"
    }
   ],
   "source": [
    "sb.distplot(residual_error,hist=True)"
   ]
  },
  {
   "cell_type": "code",
   "execution_count": 38,
   "id": "a8a176f6",
   "metadata": {},
   "outputs": [
    {
     "data": {
      "text/plain": [
       "<Axes: xlabel='MEDV', ylabel='Density'>"
      ]
     },
     "execution_count": 38,
     "metadata": {},
     "output_type": "execute_result"
    },
    {
     "data": {
      "image/png": "[encoded data removed]",
      "text/plain": [
       "<Figure size 640x480 with 1 Axes>"
      ]
     },
     "metadata": {},
     "output_type": "display_data"
    }
   ],
   "source": [
    "sb.distplot(residual_error,hist=False)"
   ]
  },
  {
   "cell_type": "code",
   "execution_count": 39,
   "id": "7fb33e45",
   "metadata": {},
   "outputs": [
    {
     "name": "stdout",
     "output_type": "stream",
     "text": [
      "2.3687204730463294\n"
     ]
    }
   ],
   "source": [
    "print(residual_error.skew())"
   ]
  },
  {
   "cell_type": "code",
   "execution_count": null,
   "id": "aac84e67",
   "metadata": {},
   "outputs": [],
   "source": []
  },
  {
   "cell_type": "code",
   "execution_count": 40,
   "id": "f9ce299a",
   "metadata": {},
   "outputs": [
    {
     "data": {
      "text/plain": [
       "0.6006272963618027"
      ]
     },
     "execution_count": 40,
     "metadata": {},
     "output_type": "execute_result"
    }
   ],
   "source": [
    "lr.score(X_train,Y_train)"
   ]
  },
  {
   "cell_type": "code",
   "execution_count": 41,
   "id": "98c04d37",
   "metadata": {},
   "outputs": [
    {
     "data": {
      "text/plain": [
       "0.6684004803480592"
      ]
     },
     "execution_count": 41,
     "metadata": {},
     "output_type": "execute_result"
    }
   ],
   "source": [
    "lr.score(X_test,Y_test)"
   ]
  },
  {
   "cell_type": "code",
   "execution_count": 42,
   "id": "861b6aa6",
   "metadata": {},
   "outputs": [],
   "source": [
    "X=df.drop('MEDV',axis=1)\n",
    "Y=df['MEDV']"
   ]
  },
  {
   "cell_type": "code",
   "execution_count": 43,
   "id": "e442499f",
   "metadata": {},
   "outputs": [],
   "source": [
    "from sklearn.preprocessing import PolynomialFeatures"
   ]
  },
  {
   "cell_type": "code",
   "execution_count": 44,
   "id": "a85cbd78",
   "metadata": {},
   "outputs": [],
   "source": [
    "pf=PolynomialFeatures(2)"
   ]
  },
  {
   "cell_type": "code",
   "execution_count": 45,
   "id": "07e6e5ee",
   "metadata": {},
   "outputs": [],
   "source": [
    "X_poly=pf.fit_transform(X)"
   ]
  },
  {
   "cell_type": "code",
   "execution_count": 46,
   "id": "81f717d2",
   "metadata": {},
   "outputs": [
    {
     "data": {
      "text/plain": [
       "array([[1.00000000e+00, 6.32000000e-03, 1.80000000e+01, ...,\n",
       "        1.57529610e+05, 1.97656200e+03, 2.48004000e+01],\n",
       "       [1.00000000e+00, 2.73100000e-02, 0.00000000e+00, ...,\n",
       "        1.57529610e+05, 3.62766600e+03, 8.35396000e+01],\n",
       "       [1.00000000e+00, 2.72900000e-02, 0.00000000e+00, ...,\n",
       "        1.54315409e+05, 1.58310490e+03, 1.62409000e+01],\n",
       "       ...,\n",
       "       [1.00000000e+00, 4.44330000e-01, 0.00000000e+00, ...,\n",
       "        1.17649000e+05, 7.20300000e+03, 4.41000000e+02],\n",
       "       [1.00000000e+00, 7.77630000e-01, 0.00000000e+00, ...,\n",
       "        1.17649000e+05, 2.60680000e+04, 5.77600000e+03],\n",
       "       [1.00000000e+00, 6.54320000e-01, 0.00000000e+00, ...,\n",
       "        1.03041000e+05, 1.44450000e+04, 2.02500000e+03]])"
      ]
     },
     "execution_count": 46,
     "metadata": {},
     "output_type": "execute_result"
    }
   ],
   "source": [
    "X_poly"
   ]
  },
  {
   "cell_type": "code",
   "execution_count": 47,
   "id": "00110cd2",
   "metadata": {},
   "outputs": [],
   "source": [
    "X_train,X_test,Y_train,Y_test=train_test_split(X_poly,Y,test_size=0.3,random_state=1)"
   ]
  },
  {
   "cell_type": "code",
   "execution_count": 48,
   "id": "ec1f5969",
   "metadata": {},
   "outputs": [
    {
     "data": {
      "text/plain": [
       "(511, 105)"
      ]
     },
     "execution_count": 48,
     "metadata": {},
     "output_type": "execute_result"
    }
   ],
   "source": [
    "X_poly.shape"
   ]
  },
  {
   "cell_type": "code",
   "execution_count": 49,
   "id": "337ec5c1",
   "metadata": {},
   "outputs": [
    {
     "data": {
      "text/plain": [
       "(357,)"
      ]
     },
     "execution_count": 49,
     "metadata": {},
     "output_type": "execute_result"
    }
   ],
   "source": [
    "Y_train.shape"
   ]
  },
  {
   "cell_type": "code",
   "execution_count": 50,
   "id": "cf374f31",
   "metadata": {},
   "outputs": [],
   "source": [
    "from sklearn.preprocessing import StandardScaler"
   ]
  },
  {
   "cell_type": "code",
   "execution_count": 51,
   "id": "3f182800",
   "metadata": {},
   "outputs": [],
   "source": [
    "X_train=ss.fit_transform(X_train)"
   ]
  },
  {
   "cell_type": "code",
   "execution_count": 52,
   "id": "89ecf0aa",
   "metadata": {},
   "outputs": [],
   "source": [
    "X_test=ss.transform(X_test)"
   ]
  },
  {
   "cell_type": "code",
   "execution_count": 53,
   "id": "d3e9b51b",
   "metadata": {},
   "outputs": [
    {
     "data": {
      "text/plain": [
       "array([[ 0.        , -0.4299804 ,  0.63160121, ...,  0.17146083,\n",
       "         0.32719222, -0.08396018],\n",
       "       [ 0.        ,  0.96424356, -0.47229398, ..., -1.26503813,\n",
       "        -0.13282254, -0.10862259],\n",
       "       [ 0.        , -0.44689447,  2.83939158, ...,  0.50809565,\n",
       "        -0.95205453, -0.56648084],\n",
       "       ...,\n",
       "       [ 0.        ,  0.23920306, -0.47229398, ...,  0.53304867,\n",
       "         1.08732667,  0.33967757],\n",
       "       [ 0.        , -0.41134534, -0.47229398, ...,  0.146572  ,\n",
       "        -0.13685264, -0.31305552],\n",
       "       [ 0.        , -0.44073013, -0.47229398, ...,  0.53304867,\n",
       "        -0.34773006, -0.41843295]])"
      ]
     },
     "execution_count": 53,
     "metadata": {},
     "output_type": "execute_result"
    }
   ],
   "source": [
    "X_train"
   ]
  },
  {
   "cell_type": "code",
   "execution_count": 54,
   "id": "aead6367",
   "metadata": {},
   "outputs": [
    {
     "data": {
      "text/plain": [
       "array([[ 0.        , -0.42322322, -0.47229398, ...,  0.45161085,\n",
       "         0.98348175,  0.28438082],\n",
       "       [ 0.        , -0.44648359, -0.47229398, ...,  0.31460039,\n",
       "        -0.1499    , -0.3321008 ],\n",
       "       [ 0.        , -0.44907447,  3.5017287 , ...,  0.49026511,\n",
       "        -0.4781194 , -0.45729461],\n",
       "       ...,\n",
       "       [ 0.        , -0.23486518, -0.47229398, ...,  0.3909024 ,\n",
       "        -1.27987594, -0.60454343],\n",
       "       [ 0.        , -0.33410269, -0.47229398, ...,  0.48674305,\n",
       "         1.14036852,  0.3905535 ],\n",
       "       [ 0.        , -0.37620826, -0.47229398, ...,  0.53304867,\n",
       "        -0.41677524, -0.44050727]])"
      ]
     },
     "execution_count": 54,
     "metadata": {},
     "output_type": "execute_result"
    }
   ],
   "source": [
    "X_test"
   ]
  },
  {
   "cell_type": "code",
   "execution_count": 55,
   "id": "b78029cd",
   "metadata": {},
   "outputs": [],
   "source": [
    "from sklearn.linear_model import LinearRegression"
   ]
  },
  {
   "cell_type": "code",
   "execution_count": 56,
   "id": "c940cb52",
   "metadata": {},
   "outputs": [
    {
     "data": {
      "text/html": [
       "<style>#sk-container-id-2 {color: black;background-color: white;}#sk-container-id-2 pre{padding: 0;}#sk-container-id-2 div.sk-toggleable {background-color: white;}#sk-container-id-2 label.sk-toggleable__label {cursor: pointer;display: block;width: 100%;margin-bottom: 0;padding: 0.3em;box-sizing: border-box;text-align: center;}#sk-container-id-2 label.sk-toggleable__label-arrow:before {content: \"▸\";float: left;margin-right: 0.25em;color: #696969;}#sk-container-id-2 label.sk-toggleable__label-arrow:hover:before {color: black;}#sk-container-id-2 div.sk-estimator:hover label.sk-toggleable__label-arrow:before {color: black;}#sk-container-id-2 div.sk-toggleable__content {max-height: 0;max-width: 0;overflow: hidden;text-align: left;background-color: #f0f8ff;}#sk-container-id-2 div.sk-toggleable__content pre {margin: 0.2em;color: black;border-radius: 0.25em;background-color: #f0f8ff;}#sk-container-id-2 input.sk-toggleable__control:checked~div.sk-toggleable__content {max-height: 200px;max-width: 100%;overflow: auto;}#sk-container-id-2 input.sk-toggleable__control:checked~label.sk-toggleable__label-arrow:before {content: \"▾\";}#sk-container-id-2 div.sk-estimator input.sk-toggleable__control:checked~label.sk-toggleable__label {background-color: #d4ebff;}#sk-container-id-2 div.sk-label input.sk-toggleable__control:checked~label.sk-toggleable__label {background-color: #d4ebff;}#sk-container-id-2 input.sk-hidden--visually {border: 0;clip: rect(1px 1px 1px 1px);clip: rect(1px, 1px, 1px, 1px);height: 1px;margin: -1px;overflow: hidden;padding: 0;position: absolute;width: 1px;}#sk-container-id-2 div.sk-estimator {font-family: monospace;background-color: #f0f8ff;border: 1px dotted black;border-radius: 0.25em;box-sizing: border-box;margin-bottom: 0.5em;}#sk-container-id-2 div.sk-estimator:hover {background-color: #d4ebff;}#sk-container-id-2 div.sk-parallel-item::after {content: \"\";width: 100%;border-bottom: 1px solid gray;flex-grow: 1;}#sk-container-id-2 div.sk-label:hover label.sk-toggleable__label {background-color: #d4ebff;}#sk-container-id-2 div.sk-serial::before {content: \"\";position: absolute;border-left: 1px solid gray;box-sizing: border-box;top: 0;bottom: 0;left: 50%;z-index: 0;}#sk-container-id-2 div.sk-serial {display: flex;flex-direction: column;align-items: center;background-color: white;padding-right: 0.2em;padding-left: 0.2em;position: relative;}#sk-container-id-2 div.sk-item {position: relative;z-index: 1;}#sk-container-id-2 div.sk-parallel {display: flex;align-items: stretch;justify-content: center;background-color: white;position: relative;}#sk-container-id-2 div.sk-item::before, #sk-container-id-2 div.sk-parallel-item::before {content: \"\";position: absolute;border-left: 1px solid gray;box-sizing: border-box;top: 0;bottom: 0;left: 50%;z-index: -1;}#sk-container-id-2 div.sk-parallel-item {display: flex;flex-direction: column;z-index: 1;position: relative;background-color: white;}#sk-container-id-2 div.sk-parallel-item:first-child::after {align-self: flex-end;width: 50%;}#sk-container-id-2 div.sk-parallel-item:last-child::after {align-self: flex-start;width: 50%;}#sk-container-id-2 div.sk-parallel-item:only-child::after {width: 0;}#sk-container-id-2 div.sk-dashed-wrapped {border: 1px dashed gray;margin: 0 0.4em 0.5em 0.4em;box-sizing: border-box;padding-bottom: 0.4em;background-color: white;}#sk-container-id-2 div.sk-label label {font-family: monospace;font-weight: bold;display: inline-block;line-height: 1.2em;}#sk-container-id-2 div.sk-label-container {text-align: center;}#sk-container-id-2 div.sk-container {/* jupyter's `normalize.less` sets `[hidden] { display: none; }` but bootstrap.min.css set `[hidden] { display: none !important; }` so we also need the `!important` here to be able to override the default hidden behavior on the sphinx rendered scikit-learn.org. See: https://github.com/scikit-learn/scikit-learn/issues/21755 */display: inline-block !important;position: relative;}#sk-container-id-2 div.sk-text-repr-fallback {display: none;}</style><div id=\"sk-container-id-2\" class=\"sk-top-container\"><div class=\"sk-text-repr-fallback\"><pre>LinearRegression()</pre><b>In a Jupyter environment, please rerun this cell to show the HTML representation or trust the notebook. <br />On GitHub, the HTML representation is unable to render, please try loading this page with nbviewer.org.</b></div><div class=\"sk-container\" hidden><div class=\"sk-item\"><div class=\"sk-estimator sk-toggleable\"><input class=\"sk-toggleable__control sk-hidden--visually\" id=\"sk-estimator-id-2\" type=\"checkbox\" checked><label for=\"sk-estimator-id-2\" class=\"sk-toggleable__label sk-toggleable__label-arrow\">LinearRegression</label><div class=\"sk-toggleable__content\"><pre>LinearRegression()</pre></div></div></div></div></div>"
      ],
      "text/plain": [
       "LinearRegression()"
      ]
     },
     "execution_count": 56,
     "metadata": {},
     "output_type": "execute_result"
    }
   ],
   "source": [
    "lr.fit(X_train,Y_train)"
   ]
  },
  {
   "cell_type": "code",
   "execution_count": 57,
   "id": "b5eb718e",
   "metadata": {},
   "outputs": [
    {
     "data": {
      "text/plain": [
       "array([-6.67489049e+13,  7.03521265e+01,  3.48609379e+01, -7.32223674e+01,\n",
       "        9.15585349e+00,  5.04278932e+01,  4.19580185e+00,  2.96197216e+01,\n",
       "       -2.03439394e+01,  4.69314497e+01,  5.01424986e+01,  1.83837114e+00,\n",
       "        1.71068155e+01, -1.62660437e-02,  3.12721782e+00, -9.48760316e-01,\n",
       "        1.07646120e+02, -1.32139761e-01, -8.72668115e+00,  1.80025955e+01,\n",
       "       -9.90728370e+00, -4.38866030e+00,  2.06087139e+02, -4.28727280e+02,\n",
       "        4.13029589e+01, -6.04368608e-01,  3.07430884e+00, -2.06814130e+00,\n",
       "       -4.43222232e-01, -2.85403564e-01, -2.18596842e+01,  4.89369613e+00,\n",
       "       -1.37524634e+00, -1.28296937e+01,  1.84840760e-01, -1.67872369e+00,\n",
       "        6.38755887e+00, -6.61731121e+00, -9.77630584e-01,  8.95555651e+00,\n",
       "       -3.66227101e+00,  2.36134398e+01,  6.44126562e+00,  1.68063423e+00,\n",
       "        5.27785996e+00,  2.19728371e+01,  9.10748307e+00,  1.88170408e+01,\n",
       "        1.15901354e+01, -6.34083220e+00,  9.15585349e+00, -1.02181187e+01,\n",
       "       -6.95252054e+00,  2.40800153e+00,  1.20027557e+00, -1.14205020e+00,\n",
       "        1.33089366e+01, -1.55653855e+01,  2.25351835e+00,  8.82420134e-01,\n",
       "       -1.60662478e+01,  1.41049665e+01, -2.10571860e+01,  2.65111958e+00,\n",
       "        1.88770636e+01, -1.05845819e+01, -5.57488844e+01, -1.06319208e+01,\n",
       "        1.55396395e+01,  2.68820644e+00, -1.20250600e+01, -1.41000797e+00,\n",
       "        1.30628226e+00, -2.53614974e+01,  1.78201958e+00, -1.88936831e+00,\n",
       "       -2.28598564e+01,  8.64313163e-01, -3.23721288e-01,  2.13228022e+01,\n",
       "       -2.34908139e+01,  7.21605759e+00, -3.08696746e+00, -8.64155669e+00,\n",
       "        1.72420457e+01, -4.35577079e+00, -3.25182140e-01, -1.69451146e+01,\n",
       "        1.80240828e+01,  2.03745424e+00, -7.83257569e+01,  7.64492399e+01,\n",
       "       -7.34531190e+01, -2.70783465e+00, -5.59218669e+00, -2.16805071e+00,\n",
       "       -2.36566541e+01,  7.05222027e-01,  9.91601805e-01,  2.91070884e+01,\n",
       "       -7.26366538e+00,  2.10533874e+01, -4.17878406e+00, -1.21867032e+00,\n",
       "        2.45151655e-01])"
      ]
     },
     "execution_count": 57,
     "metadata": {},
     "output_type": "execute_result"
    }
   ],
   "source": [
    "lr.coef_"
   ]
  },
  {
   "cell_type": "code",
   "execution_count": 58,
   "id": "b2b4578e",
   "metadata": {},
   "outputs": [
    {
     "data": {
      "text/plain": [
       "22.54481792717099"
      ]
     },
     "execution_count": 58,
     "metadata": {},
     "output_type": "execute_result"
    }
   ],
   "source": [
    "lr.intercept_"
   ]
  },
  {
   "cell_type": "code",
   "execution_count": 59,
   "id": "649abd4d",
   "metadata": {},
   "outputs": [
    {
     "data": {
      "text/plain": [
       "array([19.50902352, 26.68619852, 28.37857489, 27.51375493, 17.63448698,\n",
       "       20.56725995, 28.71266182, 35.43927395, 11.09403585, 36.89697705,\n",
       "       18.83643471, 46.14138657, 24.71358323, 14.31358186, 25.32404736,\n",
       "       24.02781276, 22.07688084, 13.33484661, 23.06925829, 28.09145912,\n",
       "       20.11973533, 34.72380744, 36.44934016, 22.5611941 , 20.43287961,\n",
       "        8.21656748, 17.28700414,  8.95252313, 20.09829446, 18.6820118 ,\n",
       "       18.40781266,  9.43596986, 16.66189044, 22.47244155, 20.31698998,\n",
       "       12.5904714 ,  9.99184968, 17.73405481, 18.37470772, 32.8479818 ,\n",
       "       25.35799942,  9.63339891, 16.51300048, 21.13730768, 44.74612658,\n",
       "       41.37911947, 41.2625599 , 36.25106207, 29.17647305, 56.94927604,\n",
       "       26.50447772, 16.67307478, 16.39731717, 18.58565474, 27.24883322,\n",
       "       28.68868494, 23.24657728, 34.44657383, 21.2330399 , 31.8768168 ,\n",
       "       40.86993194, 20.0395645 , 23.84868228, 20.88842245, 21.78264576,\n",
       "       27.33075238, 59.90203505, 42.9823629 , 20.18204354, 24.15702458,\n",
       "       18.79556383, 24.9178017 , 34.38433287,  4.66674604, 21.85623961,\n",
       "        6.08518508, 26.95874172, 18.09591394, 12.27801737, 36.17668285,\n",
       "       22.70386188, 17.06211077, 24.76861707, 22.35295191, 27.98113638,\n",
       "       12.14381111, 17.93572238, 15.80345336, 44.51895529, 15.686054  ,\n",
       "       23.68390902, 22.46709135, 35.68829993, 13.45539798, 23.1617196 ,\n",
       "       14.79479586, 22.69553972, 19.32863193, 26.88809749, 47.54418186,\n",
       "       14.048245  , 25.29676245, 16.16236109, 19.76910733, 15.09985114,\n",
       "       14.7763519 , 24.24935869, 22.47124483, 36.72802202, 18.23174235,\n",
       "       25.99966968, 23.51668947, 22.17585163, 19.38226376, 33.33098204,\n",
       "       18.59888488, 14.01950198, 28.73811442, 17.58055064, 42.72581916,\n",
       "       51.58971607, 24.23123905, 16.00143817, 26.59003334, 18.64279995,\n",
       "       46.6019714 , 24.38394234, 32.54696915, 30.11886952, 25.87791407,\n",
       "       30.83283269, 18.88622719, 20.76924444, 26.27625426, 14.46120942,\n",
       "       28.99521372, 42.874016  , 25.34825601, 18.63832925, 22.05654091,\n",
       "       13.01252813, 11.3202376 , 16.04994464, 19.98762879, 24.30502903,\n",
       "       40.81292512, 18.5667098 , 22.6228569 , 11.36768551, 24.53449803,\n",
       "       19.29761006, 50.53746641, 17.70485   , 20.33628584])"
      ]
     },
     "execution_count": 59,
     "metadata": {},
     "output_type": "execute_result"
    }
   ],
   "source": [
    "y_pred=lr.predict(X_test)\n",
    "y_pred"
   ]
  },
  {
   "cell_type": "code",
   "execution_count": 60,
   "id": "9b0ddab5",
   "metadata": {},
   "outputs": [
    {
     "data": {
      "text/html": [
       "<div>\n",
       "<style scoped>\n",
       "    .dataframe tbody tr th:only-of-type {\n",
       "        vertical-align: middle;\n",
       "    }\n",
       "\n",
       "    .dataframe tbody tr th {\n",
       "        vertical-align: top;\n",
       "    }\n",
       "\n",
       "    .dataframe thead th {\n",
       "        text-align: right;\n",
       "    }\n",
       "</style>\n",
       "<table border=\"1\" class=\"dataframe\">\n",
       "  <thead>\n",
       "    <tr style=\"text-align: right;\">\n",
       "      <th></th>\n",
       "      <th>Actual output</th>\n",
       "      <th>PRedict output</th>\n",
       "    </tr>\n",
       "  </thead>\n",
       "  <tbody>\n",
       "    <tr>\n",
       "      <th>47</th>\n",
       "      <td>16.6</td>\n",
       "      <td>19.509024</td>\n",
       "    </tr>\n",
       "    <tr>\n",
       "      <th>345</th>\n",
       "      <td>17.5</td>\n",
       "      <td>26.686199</td>\n",
       "    </tr>\n",
       "    <tr>\n",
       "      <th>284</th>\n",
       "      <td>32.2</td>\n",
       "      <td>28.378575</td>\n",
       "    </tr>\n",
       "    <tr>\n",
       "      <th>221</th>\n",
       "      <td>21.7</td>\n",
       "      <td>27.513755</td>\n",
       "    </tr>\n",
       "    <tr>\n",
       "      <th>502</th>\n",
       "      <td>20.6</td>\n",
       "      <td>17.634487</td>\n",
       "    </tr>\n",
       "    <tr>\n",
       "      <th>...</th>\n",
       "      <td>...</td>\n",
       "      <td>...</td>\n",
       "    </tr>\n",
       "    <tr>\n",
       "      <th>95</th>\n",
       "      <td>28.4</td>\n",
       "      <td>24.534498</td>\n",
       "    </tr>\n",
       "    <tr>\n",
       "      <th>122</th>\n",
       "      <td>20.5</td>\n",
       "      <td>19.297610</td>\n",
       "    </tr>\n",
       "    <tr>\n",
       "      <th>162</th>\n",
       "      <td>50.0</td>\n",
       "      <td>50.537466</td>\n",
       "    </tr>\n",
       "    <tr>\n",
       "      <th>23</th>\n",
       "      <td>14.5</td>\n",
       "      <td>17.704850</td>\n",
       "    </tr>\n",
       "    <tr>\n",
       "      <th>13</th>\n",
       "      <td>20.4</td>\n",
       "      <td>20.336286</td>\n",
       "    </tr>\n",
       "  </tbody>\n",
       "</table>\n",
       "<p>154 rows × 2 columns</p>\n",
       "</div>"
      ],
      "text/plain": [
       "     Actual output  PRedict output\n",
       "47            16.6       19.509024\n",
       "345           17.5       26.686199\n",
       "284           32.2       28.378575\n",
       "221           21.7       27.513755\n",
       "502           20.6       17.634487\n",
       "..             ...             ...\n",
       "95            28.4       24.534498\n",
       "122           20.5       19.297610\n",
       "162           50.0       50.537466\n",
       "23            14.5       17.704850\n",
       "13            20.4       20.336286\n",
       "\n",
       "[154 rows x 2 columns]"
      ]
     },
     "execution_count": 60,
     "metadata": {},
     "output_type": "execute_result"
    }
   ],
   "source": [
    "dict={\"Actual output\":Y_test,\"PRedict output\":y_pred}\n",
    "df1=pd.DataFrame(dict)\n",
    "df1"
   ]
  },
  {
   "cell_type": "code",
   "execution_count": 61,
   "id": "bfa4d196",
   "metadata": {},
   "outputs": [],
   "source": [
    "\n",
    "from sklearn.metrics import mean_squared_error   "
   ]
  },
  {
   "cell_type": "code",
   "execution_count": 62,
   "id": "60e79de6",
   "metadata": {},
   "outputs": [
    {
     "data": {
      "text/plain": [
       "41.58493118724267"
      ]
     },
     "execution_count": 62,
     "metadata": {},
     "output_type": "execute_result"
    }
   ],
   "source": [
    " mse=mean_squared_error(Y_test,y_pred)\n",
    "mse"
   ]
  },
  {
   "cell_type": "code",
   "execution_count": 63,
   "id": "08ff9f75",
   "metadata": {},
   "outputs": [
    {
     "data": {
      "text/plain": [
       "6.44863793271437"
      ]
     },
     "execution_count": 63,
     "metadata": {},
     "output_type": "execute_result"
    }
   ],
   "source": [
    "rmse=np.sqrt(mse)\n",
    "rmse"
   ]
  },
  {
   "cell_type": "code",
   "execution_count": 64,
   "id": "f82309a9",
   "metadata": {},
   "outputs": [],
   "source": [
    "from sklearn.metrics import r2_score"
   ]
  },
  {
   "cell_type": "code",
   "execution_count": 65,
   "id": "d5dda58c",
   "metadata": {},
   "outputs": [
    {
     "name": "stdout",
     "output_type": "stream",
     "text": [
      "r2 score 0.4853817412225373\n"
     ]
    }
   ],
   "source": [
    "print(\"r2 score\",r2_score(Y_test,y_pred))"
   ]
  },
  {
   "cell_type": "code",
   "execution_count": 66,
   "id": "9f6f1650",
   "metadata": {},
   "outputs": [
    {
     "name": "stdout",
     "output_type": "stream",
     "text": [
      "Residual error for each data points  47    -2.909024\n",
      "345   -9.186199\n",
      "284    3.821425\n",
      "221   -5.813755\n",
      "502    2.965513\n",
      "         ...   \n",
      "95     3.865502\n",
      "122    1.202390\n",
      "162   -0.537466\n",
      "23    -3.204850\n",
      "13     0.063714\n",
      "Name: MEDV, Length: 154, dtype: float64\n"
     ]
    }
   ],
   "source": [
    "residual_error=Y_test-y_pred\n",
    "print('Residual error for each data points ',residual_error)"
   ]
  },
  {
   "cell_type": "code",
   "execution_count": 67,
   "id": "e76c04d9",
   "metadata": {},
   "outputs": [
    {
     "data": {
      "image/png": "[encoded data removed]",
      "text/plain": [
       "<Figure size 640x480 with 1 Axes>"
      ]
     },
     "metadata": {},
     "output_type": "display_data"
    }
   ],
   "source": [
    "import matplotlib.pyplot as plt\n",
    "plt.scatter(y_pred,residual_error)\n",
    "# sb.scatterplot(y_pred,residual_error)\n",
    "# plt.plot(y_pred,residual_error,color='red')\n",
    "plt.xlabel('PRedicted')\n",
    "plt.ylabel('Residual error')\n",
    "plt.show()"
   ]
  },
  {
   "cell_type": "code",
   "execution_count": 68,
   "id": "d8d658cc",
   "metadata": {},
   "outputs": [
    {
     "data": {
      "image/png": "[encoded data removed]",
      "text/plain": [
       "<Figure size 640x480 with 1 Axes>"
      ]
     },
     "metadata": {},
     "output_type": "display_data"
    }
   ],
   "source": [
    "sb.histplot(residual_error)\n",
    "plt.show()"
   ]
  },
  {
   "cell_type": "code",
   "execution_count": 69,
   "id": "85c2074f",
   "metadata": {},
   "outputs": [
    {
     "data": {
      "image/png": "[encoded data removed]",
      "text/plain": [
       "<Figure size 640x480 with 1 Axes>"
      ]
     },
     "metadata": {},
     "output_type": "display_data"
    }
   ],
   "source": [
    "sb.distplot(residual_error,hist=True)\n",
    "plt.show()"
   ]
  },
  {
   "cell_type": "code",
   "execution_count": 70,
   "id": "bc70d390",
   "metadata": {},
   "outputs": [
    {
     "data": {
      "image/png": "[encoded data removed]",
      "text/plain": [
       "<Figure size 640x480 with 1 Axes>"
      ]
     },
     "metadata": {},
     "output_type": "display_data"
    }
   ],
   "source": [
    "sb.distplot(residual_error,hist=False)\n",
    "plt.show()"
   ]
  },
  {
   "cell_type": "code",
   "execution_count": 71,
   "id": "a6fce27b",
   "metadata": {},
   "outputs": [
    {
     "name": "stdout",
     "output_type": "stream",
     "text": [
      "-3.2936895769409404\n"
     ]
    }
   ],
   "source": [
    "print(residual_error.skew())\n"
   ]
  },
  {
   "cell_type": "code",
   "execution_count": 72,
   "id": "ca12c0b7",
   "metadata": {},
   "outputs": [
    {
     "data": {
      "text/plain": [
       "0.8429737410132614"
      ]
     },
     "execution_count": 72,
     "metadata": {},
     "output_type": "execute_result"
    }
   ],
   "source": [
    "lr.score(X_train,Y_train)"
   ]
  },
  {
   "cell_type": "code",
   "execution_count": 73,
   "id": "57c9021f",
   "metadata": {},
   "outputs": [
    {
     "data": {
      "text/plain": [
       "0.4853817412225373"
      ]
     },
     "execution_count": 73,
     "metadata": {},
     "output_type": "execute_result"
    }
   ],
   "source": [
    "lr.score(X_test,Y_test)"
   ]
  },
  {
   "cell_type": "code",
   "execution_count": null,
   "id": "a0b2d1d8",
   "metadata": {},
   "outputs": [],
   "source": []
  }
 ],
 "metadata": {
  "kernelspec": {
   "display_name": "Python 3 (ipykernel)",
   "language": "python",
   "name": "python3"
  },
  "language_info": {
   "codemirror_mode": {
    "name": "ipython",
    "version": 3
   },
   "file_extension": ".py",
   "mimetype": "text/x-python",
   "name": "python",
   "nbconvert_exporter": "python",
   "pygments_lexer": "ipython3",
   "version": "3.11.3"
  }
 },
 "nbformat": 4,
 "nbformat_minor": 5
}
