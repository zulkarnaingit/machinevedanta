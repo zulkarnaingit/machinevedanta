{
 "cells": [
  {
   "cell_type": "code",
   "execution_count": 1,
   "id": "0d66f546",
   "metadata": {},
   "outputs": [],
   "source": [
    "import pandas as pd\n",
    "import numpy as np\n",
    "import seaborn as sb\n",
    "import matplotlib.pyplot as plt\n",
    "import warnings \n",
    "warnings.filterwarnings('ignore')"
   ]
  },
  {
   "cell_type": "code",
   "execution_count": 2,
   "id": "5236c9df",
   "metadata": {},
   "outputs": [
    {
     "data": {
      "text/html": [
       "<div>\n",
       "<style scoped>\n",
       "    .dataframe tbody tr th:only-of-type {\n",
       "        vertical-align: middle;\n",
       "    }\n",
       "\n",
       "    .dataframe tbody tr th {\n",
       "        vertical-align: top;\n",
       "    }\n",
       "\n",
       "    .dataframe thead th {\n",
       "        text-align: right;\n",
       "    }\n",
       "</style>\n",
       "<table border=\"1\" class=\"dataframe\">\n",
       "  <thead>\n",
       "    <tr style=\"text-align: right;\">\n",
       "      <th></th>\n",
       "      <th>State</th>\n",
       "      <th>District</th>\n",
       "      <th>Market</th>\n",
       "      <th>Commodity</th>\n",
       "      <th>Variety</th>\n",
       "      <th>Grade</th>\n",
       "      <th>Arrival_Date</th>\n",
       "      <th>Min Price</th>\n",
       "      <th>Max Price</th>\n",
       "      <th>Modal Price</th>\n",
       "    </tr>\n",
       "  </thead>\n",
       "  <tbody>\n",
       "    <tr>\n",
       "      <th>0</th>\n",
       "      <td>Gujarat</td>\n",
       "      <td>Amreli</td>\n",
       "      <td>Damnagar</td>\n",
       "      <td>Bhindi(Ladies Finger)</td>\n",
       "      <td>Bhindi</td>\n",
       "      <td>FAQ</td>\n",
       "      <td>27-07-2023</td>\n",
       "      <td>4100.0</td>\n",
       "      <td>4500.0</td>\n",
       "      <td>4350.0</td>\n",
       "    </tr>\n",
       "    <tr>\n",
       "      <th>1</th>\n",
       "      <td>Gujarat</td>\n",
       "      <td>Amreli</td>\n",
       "      <td>Damnagar</td>\n",
       "      <td>Brinjal</td>\n",
       "      <td>Other</td>\n",
       "      <td>FAQ</td>\n",
       "      <td>27-07-2023</td>\n",
       "      <td>2200.0</td>\n",
       "      <td>3000.0</td>\n",
       "      <td>2450.0</td>\n",
       "    </tr>\n",
       "    <tr>\n",
       "      <th>2</th>\n",
       "      <td>Gujarat</td>\n",
       "      <td>Amreli</td>\n",
       "      <td>Damnagar</td>\n",
       "      <td>Cabbage</td>\n",
       "      <td>Cabbage</td>\n",
       "      <td>FAQ</td>\n",
       "      <td>27-07-2023</td>\n",
       "      <td>2350.0</td>\n",
       "      <td>3000.0</td>\n",
       "      <td>2700.0</td>\n",
       "    </tr>\n",
       "    <tr>\n",
       "      <th>3</th>\n",
       "      <td>Gujarat</td>\n",
       "      <td>Amreli</td>\n",
       "      <td>Damnagar</td>\n",
       "      <td>Cauliflower</td>\n",
       "      <td>Cauliflower</td>\n",
       "      <td>FAQ</td>\n",
       "      <td>27-07-2023</td>\n",
       "      <td>7000.0</td>\n",
       "      <td>7500.0</td>\n",
       "      <td>7250.0</td>\n",
       "    </tr>\n",
       "    <tr>\n",
       "      <th>4</th>\n",
       "      <td>Gujarat</td>\n",
       "      <td>Amreli</td>\n",
       "      <td>Damnagar</td>\n",
       "      <td>Coriander(Leaves)</td>\n",
       "      <td>Coriander</td>\n",
       "      <td>FAQ</td>\n",
       "      <td>27-07-2023</td>\n",
       "      <td>8400.0</td>\n",
       "      <td>9000.0</td>\n",
       "      <td>8850.0</td>\n",
       "    </tr>\n",
       "    <tr>\n",
       "      <th>...</th>\n",
       "      <td>...</td>\n",
       "      <td>...</td>\n",
       "      <td>...</td>\n",
       "      <td>...</td>\n",
       "      <td>...</td>\n",
       "      <td>...</td>\n",
       "      <td>...</td>\n",
       "      <td>...</td>\n",
       "      <td>...</td>\n",
       "      <td>...</td>\n",
       "    </tr>\n",
       "    <tr>\n",
       "      <th>23088</th>\n",
       "      <td>Uttrakhand</td>\n",
       "      <td>Haridwar</td>\n",
       "      <td>Roorkee</td>\n",
       "      <td>Mango</td>\n",
       "      <td>Other</td>\n",
       "      <td>Medium</td>\n",
       "      <td>02-08-2023</td>\n",
       "      <td>800.0</td>\n",
       "      <td>1200.0</td>\n",
       "      <td>1000.0</td>\n",
       "    </tr>\n",
       "    <tr>\n",
       "      <th>23089</th>\n",
       "      <td>Uttrakhand</td>\n",
       "      <td>Haridwar</td>\n",
       "      <td>Roorkee</td>\n",
       "      <td>Mousambi(Sweet Lime)</td>\n",
       "      <td>Other</td>\n",
       "      <td>Medium</td>\n",
       "      <td>02-08-2023</td>\n",
       "      <td>1500.0</td>\n",
       "      <td>2500.0</td>\n",
       "      <td>2000.0</td>\n",
       "    </tr>\n",
       "    <tr>\n",
       "      <th>23090</th>\n",
       "      <td>Uttrakhand</td>\n",
       "      <td>Haridwar</td>\n",
       "      <td>Roorkee</td>\n",
       "      <td>Pear(Marasebu)</td>\n",
       "      <td>Other</td>\n",
       "      <td>Medium</td>\n",
       "      <td>02-08-2023</td>\n",
       "      <td>2000.0</td>\n",
       "      <td>3000.0</td>\n",
       "      <td>2500.0</td>\n",
       "    </tr>\n",
       "    <tr>\n",
       "      <th>23091</th>\n",
       "      <td>Uttrakhand</td>\n",
       "      <td>Haridwar</td>\n",
       "      <td>Roorkee</td>\n",
       "      <td>Potato</td>\n",
       "      <td>Other</td>\n",
       "      <td>FAQ</td>\n",
       "      <td>02-08-2023</td>\n",
       "      <td>900.0</td>\n",
       "      <td>1800.0</td>\n",
       "      <td>1500.0</td>\n",
       "    </tr>\n",
       "    <tr>\n",
       "      <th>23092</th>\n",
       "      <td>Uttrakhand</td>\n",
       "      <td>Haridwar</td>\n",
       "      <td>Roorkee</td>\n",
       "      <td>Pumpkin</td>\n",
       "      <td>Other</td>\n",
       "      <td>FAQ</td>\n",
       "      <td>02-08-2023</td>\n",
       "      <td>500.0</td>\n",
       "      <td>700.0</td>\n",
       "      <td>600.0</td>\n",
       "    </tr>\n",
       "  </tbody>\n",
       "</table>\n",
       "<p>23093 rows × 10 columns</p>\n",
       "</div>"
      ],
      "text/plain": [
       "            State  District    Market              Commodity      Variety  \\\n",
       "0         Gujarat    Amreli  Damnagar  Bhindi(Ladies Finger)       Bhindi   \n",
       "1         Gujarat    Amreli  Damnagar                Brinjal        Other   \n",
       "2         Gujarat    Amreli  Damnagar                Cabbage      Cabbage   \n",
       "3         Gujarat    Amreli  Damnagar            Cauliflower  Cauliflower   \n",
       "4         Gujarat    Amreli  Damnagar      Coriander(Leaves)    Coriander   \n",
       "...           ...       ...       ...                    ...          ...   \n",
       "23088  Uttrakhand  Haridwar   Roorkee                  Mango        Other   \n",
       "23089  Uttrakhand  Haridwar   Roorkee   Mousambi(Sweet Lime)        Other   \n",
       "23090  Uttrakhand  Haridwar   Roorkee         Pear(Marasebu)        Other   \n",
       "23091  Uttrakhand  Haridwar   Roorkee                 Potato        Other   \n",
       "23092  Uttrakhand  Haridwar   Roorkee                Pumpkin        Other   \n",
       "\n",
       "        Grade Arrival_Date  Min Price  Max Price  Modal Price  \n",
       "0         FAQ   27-07-2023     4100.0     4500.0       4350.0  \n",
       "1         FAQ   27-07-2023     2200.0     3000.0       2450.0  \n",
       "2         FAQ   27-07-2023     2350.0     3000.0       2700.0  \n",
       "3         FAQ   27-07-2023     7000.0     7500.0       7250.0  \n",
       "4         FAQ   27-07-2023     8400.0     9000.0       8850.0  \n",
       "...       ...          ...        ...        ...          ...  \n",
       "23088  Medium   02-08-2023      800.0     1200.0       1000.0  \n",
       "23089  Medium   02-08-2023     1500.0     2500.0       2000.0  \n",
       "23090  Medium   02-08-2023     2000.0     3000.0       2500.0  \n",
       "23091     FAQ   02-08-2023      900.0     1800.0       1500.0  \n",
       "23092     FAQ   02-08-2023      500.0      700.0        600.0  \n",
       "\n",
       "[23093 rows x 10 columns]"
      ]
     },
     "execution_count": 2,
     "metadata": {},
     "output_type": "execute_result"
    }
   ],
   "source": [
    "df=pd.read_csv('Price_Agriculture_commodities_Week.csv')\n",
    "df"
   ]
  },
  {
   "cell_type": "code",
   "execution_count": 3,
   "id": "e4b1a4d5",
   "metadata": {},
   "outputs": [
    {
     "data": {
      "text/plain": [
       "State            object\n",
       "District         object\n",
       "Market           object\n",
       "Commodity        object\n",
       "Variety          object\n",
       "Grade            object\n",
       "Arrival_Date     object\n",
       "Min Price       float64\n",
       "Max Price       float64\n",
       "Modal Price     float64\n",
       "dtype: object"
      ]
     },
     "execution_count": 3,
     "metadata": {},
     "output_type": "execute_result"
    }
   ],
   "source": [
    "df.dtypes"
   ]
  },
  {
   "cell_type": "code",
   "execution_count": 4,
   "id": "3d35d887",
   "metadata": {},
   "outputs": [
    {
     "data": {
      "text/plain": [
       "State           0.0\n",
       "District        0.0\n",
       "Market          0.0\n",
       "Commodity       0.0\n",
       "Variety         0.0\n",
       "Grade           0.0\n",
       "Arrival_Date    0.0\n",
       "Min Price       0.0\n",
       "Max Price       0.0\n",
       "Modal Price     0.0\n",
       "dtype: float64"
      ]
     },
     "execution_count": 4,
     "metadata": {},
     "output_type": "execute_result"
    }
   ],
   "source": [
    "df.isnull().sum()/df.shape[0]*100"
   ]
  },
  {
   "cell_type": "code",
   "execution_count": 5,
   "id": "c14b893d",
   "metadata": {},
   "outputs": [
    {
     "data": {
      "text/plain": [
       "<Axes: >"
      ]
     },
     "execution_count": 5,
     "metadata": {},
     "output_type": "execute_result"
    },
    {
     "data": {
      "image/png": "[encoded data removed]",
      "text/plain": [
       "<Figure size 640x480 with 2 Axes>"
      ]
     },
     "metadata": {},
     "output_type": "display_data"
    }
   ],
   "source": [
    "sb.heatmap(df.isnull())"
   ]
  },
  {
   "cell_type": "code",
   "execution_count": 6,
   "id": "54023770",
   "metadata": {},
   "outputs": [
    {
     "data": {
      "text/html": [
       "<div>\n",
       "<style scoped>\n",
       "    .dataframe tbody tr th:only-of-type {\n",
       "        vertical-align: middle;\n",
       "    }\n",
       "\n",
       "    .dataframe tbody tr th {\n",
       "        vertical-align: top;\n",
       "    }\n",
       "\n",
       "    .dataframe thead th {\n",
       "        text-align: right;\n",
       "    }\n",
       "</style>\n",
       "<table border=\"1\" class=\"dataframe\">\n",
       "  <thead>\n",
       "    <tr style=\"text-align: right;\">\n",
       "      <th></th>\n",
       "      <th>State</th>\n",
       "      <th>District</th>\n",
       "      <th>Market</th>\n",
       "      <th>Commodity</th>\n",
       "      <th>Variety</th>\n",
       "      <th>Grade</th>\n",
       "      <th>Arrival_Date</th>\n",
       "    </tr>\n",
       "  </thead>\n",
       "  <tbody>\n",
       "    <tr>\n",
       "      <th>0</th>\n",
       "      <td>Gujarat</td>\n",
       "      <td>Amreli</td>\n",
       "      <td>Damnagar</td>\n",
       "      <td>Bhindi(Ladies Finger)</td>\n",
       "      <td>Bhindi</td>\n",
       "      <td>FAQ</td>\n",
       "      <td>27-07-2023</td>\n",
       "    </tr>\n",
       "    <tr>\n",
       "      <th>1</th>\n",
       "      <td>Gujarat</td>\n",
       "      <td>Amreli</td>\n",
       "      <td>Damnagar</td>\n",
       "      <td>Brinjal</td>\n",
       "      <td>Other</td>\n",
       "      <td>FAQ</td>\n",
       "      <td>27-07-2023</td>\n",
       "    </tr>\n",
       "    <tr>\n",
       "      <th>2</th>\n",
       "      <td>Gujarat</td>\n",
       "      <td>Amreli</td>\n",
       "      <td>Damnagar</td>\n",
       "      <td>Cabbage</td>\n",
       "      <td>Cabbage</td>\n",
       "      <td>FAQ</td>\n",
       "      <td>27-07-2023</td>\n",
       "    </tr>\n",
       "    <tr>\n",
       "      <th>3</th>\n",
       "      <td>Gujarat</td>\n",
       "      <td>Amreli</td>\n",
       "      <td>Damnagar</td>\n",
       "      <td>Cauliflower</td>\n",
       "      <td>Cauliflower</td>\n",
       "      <td>FAQ</td>\n",
       "      <td>27-07-2023</td>\n",
       "    </tr>\n",
       "    <tr>\n",
       "      <th>4</th>\n",
       "      <td>Gujarat</td>\n",
       "      <td>Amreli</td>\n",
       "      <td>Damnagar</td>\n",
       "      <td>Coriander(Leaves)</td>\n",
       "      <td>Coriander</td>\n",
       "      <td>FAQ</td>\n",
       "      <td>27-07-2023</td>\n",
       "    </tr>\n",
       "    <tr>\n",
       "      <th>...</th>\n",
       "      <td>...</td>\n",
       "      <td>...</td>\n",
       "      <td>...</td>\n",
       "      <td>...</td>\n",
       "      <td>...</td>\n",
       "      <td>...</td>\n",
       "      <td>...</td>\n",
       "    </tr>\n",
       "    <tr>\n",
       "      <th>23088</th>\n",
       "      <td>Uttrakhand</td>\n",
       "      <td>Haridwar</td>\n",
       "      <td>Roorkee</td>\n",
       "      <td>Mango</td>\n",
       "      <td>Other</td>\n",
       "      <td>Medium</td>\n",
       "      <td>02-08-2023</td>\n",
       "    </tr>\n",
       "    <tr>\n",
       "      <th>23089</th>\n",
       "      <td>Uttrakhand</td>\n",
       "      <td>Haridwar</td>\n",
       "      <td>Roorkee</td>\n",
       "      <td>Mousambi(Sweet Lime)</td>\n",
       "      <td>Other</td>\n",
       "      <td>Medium</td>\n",
       "      <td>02-08-2023</td>\n",
       "    </tr>\n",
       "    <tr>\n",
       "      <th>23090</th>\n",
       "      <td>Uttrakhand</td>\n",
       "      <td>Haridwar</td>\n",
       "      <td>Roorkee</td>\n",
       "      <td>Pear(Marasebu)</td>\n",
       "      <td>Other</td>\n",
       "      <td>Medium</td>\n",
       "      <td>02-08-2023</td>\n",
       "    </tr>\n",
       "    <tr>\n",
       "      <th>23091</th>\n",
       "      <td>Uttrakhand</td>\n",
       "      <td>Haridwar</td>\n",
       "      <td>Roorkee</td>\n",
       "      <td>Potato</td>\n",
       "      <td>Other</td>\n",
       "      <td>FAQ</td>\n",
       "      <td>02-08-2023</td>\n",
       "    </tr>\n",
       "    <tr>\n",
       "      <th>23092</th>\n",
       "      <td>Uttrakhand</td>\n",
       "      <td>Haridwar</td>\n",
       "      <td>Roorkee</td>\n",
       "      <td>Pumpkin</td>\n",
       "      <td>Other</td>\n",
       "      <td>FAQ</td>\n",
       "      <td>02-08-2023</td>\n",
       "    </tr>\n",
       "  </tbody>\n",
       "</table>\n",
       "<p>23093 rows × 7 columns</p>\n",
       "</div>"
      ],
      "text/plain": [
       "            State  District    Market              Commodity      Variety  \\\n",
       "0         Gujarat    Amreli  Damnagar  Bhindi(Ladies Finger)       Bhindi   \n",
       "1         Gujarat    Amreli  Damnagar                Brinjal        Other   \n",
       "2         Gujarat    Amreli  Damnagar                Cabbage      Cabbage   \n",
       "3         Gujarat    Amreli  Damnagar            Cauliflower  Cauliflower   \n",
       "4         Gujarat    Amreli  Damnagar      Coriander(Leaves)    Coriander   \n",
       "...           ...       ...       ...                    ...          ...   \n",
       "23088  Uttrakhand  Haridwar   Roorkee                  Mango        Other   \n",
       "23089  Uttrakhand  Haridwar   Roorkee   Mousambi(Sweet Lime)        Other   \n",
       "23090  Uttrakhand  Haridwar   Roorkee         Pear(Marasebu)        Other   \n",
       "23091  Uttrakhand  Haridwar   Roorkee                 Potato        Other   \n",
       "23092  Uttrakhand  Haridwar   Roorkee                Pumpkin        Other   \n",
       "\n",
       "        Grade Arrival_Date  \n",
       "0         FAQ   27-07-2023  \n",
       "1         FAQ   27-07-2023  \n",
       "2         FAQ   27-07-2023  \n",
       "3         FAQ   27-07-2023  \n",
       "4         FAQ   27-07-2023  \n",
       "...       ...          ...  \n",
       "23088  Medium   02-08-2023  \n",
       "23089  Medium   02-08-2023  \n",
       "23090  Medium   02-08-2023  \n",
       "23091     FAQ   02-08-2023  \n",
       "23092     FAQ   02-08-2023  \n",
       "\n",
       "[23093 rows x 7 columns]"
      ]
     },
     "execution_count": 6,
     "metadata": {},
     "output_type": "execute_result"
    }
   ],
   "source": [
    "df_obj=df.select_dtypes(object)\n",
    "df_obj"
   ]
  },
  {
   "cell_type": "code",
   "execution_count": 7,
   "id": "6b1236e8",
   "metadata": {},
   "outputs": [
    {
     "data": {
      "text/html": [
       "<div>\n",
       "<style scoped>\n",
       "    .dataframe tbody tr th:only-of-type {\n",
       "        vertical-align: middle;\n",
       "    }\n",
       "\n",
       "    .dataframe tbody tr th {\n",
       "        vertical-align: top;\n",
       "    }\n",
       "\n",
       "    .dataframe thead th {\n",
       "        text-align: right;\n",
       "    }\n",
       "</style>\n",
       "<table border=\"1\" class=\"dataframe\">\n",
       "  <thead>\n",
       "    <tr style=\"text-align: right;\">\n",
       "      <th></th>\n",
       "      <th>Min Price</th>\n",
       "      <th>Max Price</th>\n",
       "      <th>Modal Price</th>\n",
       "    </tr>\n",
       "  </thead>\n",
       "  <tbody>\n",
       "    <tr>\n",
       "      <th>0</th>\n",
       "      <td>4100.0</td>\n",
       "      <td>4500.0</td>\n",
       "      <td>4350.0</td>\n",
       "    </tr>\n",
       "    <tr>\n",
       "      <th>1</th>\n",
       "      <td>2200.0</td>\n",
       "      <td>3000.0</td>\n",
       "      <td>2450.0</td>\n",
       "    </tr>\n",
       "    <tr>\n",
       "      <th>2</th>\n",
       "      <td>2350.0</td>\n",
       "      <td>3000.0</td>\n",
       "      <td>2700.0</td>\n",
       "    </tr>\n",
       "    <tr>\n",
       "      <th>3</th>\n",
       "      <td>7000.0</td>\n",
       "      <td>7500.0</td>\n",
       "      <td>7250.0</td>\n",
       "    </tr>\n",
       "    <tr>\n",
       "      <th>4</th>\n",
       "      <td>8400.0</td>\n",
       "      <td>9000.0</td>\n",
       "      <td>8850.0</td>\n",
       "    </tr>\n",
       "    <tr>\n",
       "      <th>...</th>\n",
       "      <td>...</td>\n",
       "      <td>...</td>\n",
       "      <td>...</td>\n",
       "    </tr>\n",
       "    <tr>\n",
       "      <th>23088</th>\n",
       "      <td>800.0</td>\n",
       "      <td>1200.0</td>\n",
       "      <td>1000.0</td>\n",
       "    </tr>\n",
       "    <tr>\n",
       "      <th>23089</th>\n",
       "      <td>1500.0</td>\n",
       "      <td>2500.0</td>\n",
       "      <td>2000.0</td>\n",
       "    </tr>\n",
       "    <tr>\n",
       "      <th>23090</th>\n",
       "      <td>2000.0</td>\n",
       "      <td>3000.0</td>\n",
       "      <td>2500.0</td>\n",
       "    </tr>\n",
       "    <tr>\n",
       "      <th>23091</th>\n",
       "      <td>900.0</td>\n",
       "      <td>1800.0</td>\n",
       "      <td>1500.0</td>\n",
       "    </tr>\n",
       "    <tr>\n",
       "      <th>23092</th>\n",
       "      <td>500.0</td>\n",
       "      <td>700.0</td>\n",
       "      <td>600.0</td>\n",
       "    </tr>\n",
       "  </tbody>\n",
       "</table>\n",
       "<p>23093 rows × 3 columns</p>\n",
       "</div>"
      ],
      "text/plain": [
       "       Min Price  Max Price  Modal Price\n",
       "0         4100.0     4500.0       4350.0\n",
       "1         2200.0     3000.0       2450.0\n",
       "2         2350.0     3000.0       2700.0\n",
       "3         7000.0     7500.0       7250.0\n",
       "4         8400.0     9000.0       8850.0\n",
       "...          ...        ...          ...\n",
       "23088      800.0     1200.0       1000.0\n",
       "23089     1500.0     2500.0       2000.0\n",
       "23090     2000.0     3000.0       2500.0\n",
       "23091      900.0     1800.0       1500.0\n",
       "23092      500.0      700.0        600.0\n",
       "\n",
       "[23093 rows x 3 columns]"
      ]
     },
     "execution_count": 7,
     "metadata": {},
     "output_type": "execute_result"
    }
   ],
   "source": [
    "df_num=df.select_dtypes(['float64'])\n",
    "df_num"
   ]
  },
  {
   "cell_type": "code",
   "execution_count": 8,
   "id": "0e5188d2",
   "metadata": {},
   "outputs": [],
   "source": [
    "from sklearn.preprocessing import LabelEncoder\n",
    "le=LabelEncoder()\n",
    "df_obj.columns\n",
    "for i in df_obj:\n",
    "    df_obj[i]=le.fit_transform(df_obj[i])"
   ]
  },
  {
   "cell_type": "code",
   "execution_count": 9,
   "id": "c01d7acd",
   "metadata": {},
   "outputs": [
    {
     "data": {
      "text/html": [
       "<div>\n",
       "<style scoped>\n",
       "    .dataframe tbody tr th:only-of-type {\n",
       "        vertical-align: middle;\n",
       "    }\n",
       "\n",
       "    .dataframe tbody tr th {\n",
       "        vertical-align: top;\n",
       "    }\n",
       "\n",
       "    .dataframe thead th {\n",
       "        text-align: right;\n",
       "    }\n",
       "</style>\n",
       "<table border=\"1\" class=\"dataframe\">\n",
       "  <thead>\n",
       "    <tr style=\"text-align: right;\">\n",
       "      <th></th>\n",
       "      <th>State</th>\n",
       "      <th>District</th>\n",
       "      <th>Market</th>\n",
       "      <th>Commodity</th>\n",
       "      <th>Variety</th>\n",
       "      <th>Grade</th>\n",
       "      <th>Arrival_Date</th>\n",
       "    </tr>\n",
       "  </thead>\n",
       "  <tbody>\n",
       "    <tr>\n",
       "      <th>0</th>\n",
       "      <td>6</td>\n",
       "      <td>12</td>\n",
       "      <td>309</td>\n",
       "      <td>22</td>\n",
       "      <td>57</td>\n",
       "      <td>0</td>\n",
       "      <td>2</td>\n",
       "    </tr>\n",
       "    <tr>\n",
       "      <th>1</th>\n",
       "      <td>6</td>\n",
       "      <td>12</td>\n",
       "      <td>309</td>\n",
       "      <td>28</td>\n",
       "      <td>311</td>\n",
       "      <td>0</td>\n",
       "      <td>2</td>\n",
       "    </tr>\n",
       "    <tr>\n",
       "      <th>2</th>\n",
       "      <td>6</td>\n",
       "      <td>12</td>\n",
       "      <td>309</td>\n",
       "      <td>32</td>\n",
       "      <td>81</td>\n",
       "      <td>0</td>\n",
       "      <td>2</td>\n",
       "    </tr>\n",
       "    <tr>\n",
       "      <th>3</th>\n",
       "      <td>6</td>\n",
       "      <td>12</td>\n",
       "      <td>309</td>\n",
       "      <td>40</td>\n",
       "      <td>87</td>\n",
       "      <td>0</td>\n",
       "      <td>2</td>\n",
       "    </tr>\n",
       "    <tr>\n",
       "      <th>4</th>\n",
       "      <td>6</td>\n",
       "      <td>12</td>\n",
       "      <td>309</td>\n",
       "      <td>60</td>\n",
       "      <td>112</td>\n",
       "      <td>0</td>\n",
       "      <td>2</td>\n",
       "    </tr>\n",
       "    <tr>\n",
       "      <th>...</th>\n",
       "      <td>...</td>\n",
       "      <td>...</td>\n",
       "      <td>...</td>\n",
       "      <td>...</td>\n",
       "      <td>...</td>\n",
       "      <td>...</td>\n",
       "      <td>...</td>\n",
       "    </tr>\n",
       "    <tr>\n",
       "      <th>23088</th>\n",
       "      <td>25</td>\n",
       "      <td>144</td>\n",
       "      <td>1025</td>\n",
       "      <td>137</td>\n",
       "      <td>311</td>\n",
       "      <td>2</td>\n",
       "      <td>1</td>\n",
       "    </tr>\n",
       "    <tr>\n",
       "      <th>23089</th>\n",
       "      <td>25</td>\n",
       "      <td>144</td>\n",
       "      <td>1025</td>\n",
       "      <td>148</td>\n",
       "      <td>311</td>\n",
       "      <td>2</td>\n",
       "      <td>1</td>\n",
       "    </tr>\n",
       "    <tr>\n",
       "      <th>23090</th>\n",
       "      <td>25</td>\n",
       "      <td>144</td>\n",
       "      <td>1025</td>\n",
       "      <td>165</td>\n",
       "      <td>311</td>\n",
       "      <td>2</td>\n",
       "      <td>1</td>\n",
       "    </tr>\n",
       "    <tr>\n",
       "      <th>23091</th>\n",
       "      <td>25</td>\n",
       "      <td>144</td>\n",
       "      <td>1025</td>\n",
       "      <td>175</td>\n",
       "      <td>311</td>\n",
       "      <td>0</td>\n",
       "      <td>1</td>\n",
       "    </tr>\n",
       "    <tr>\n",
       "      <th>23092</th>\n",
       "      <td>25</td>\n",
       "      <td>144</td>\n",
       "      <td>1025</td>\n",
       "      <td>176</td>\n",
       "      <td>311</td>\n",
       "      <td>0</td>\n",
       "      <td>1</td>\n",
       "    </tr>\n",
       "  </tbody>\n",
       "</table>\n",
       "<p>23093 rows × 7 columns</p>\n",
       "</div>"
      ],
      "text/plain": [
       "       State  District  Market  Commodity  Variety  Grade  Arrival_Date\n",
       "0          6        12     309         22       57      0             2\n",
       "1          6        12     309         28      311      0             2\n",
       "2          6        12     309         32       81      0             2\n",
       "3          6        12     309         40       87      0             2\n",
       "4          6        12     309         60      112      0             2\n",
       "...      ...       ...     ...        ...      ...    ...           ...\n",
       "23088     25       144    1025        137      311      2             1\n",
       "23089     25       144    1025        148      311      2             1\n",
       "23090     25       144    1025        165      311      2             1\n",
       "23091     25       144    1025        175      311      0             1\n",
       "23092     25       144    1025        176      311      0             1\n",
       "\n",
       "[23093 rows x 7 columns]"
      ]
     },
     "execution_count": 9,
     "metadata": {},
     "output_type": "execute_result"
    }
   ],
   "source": [
    "df_obj"
   ]
  },
  {
   "cell_type": "code",
   "execution_count": 10,
   "id": "cdd47143",
   "metadata": {},
   "outputs": [
    {
     "data": {
      "text/html": [
       "<div>\n",
       "<style scoped>\n",
       "    .dataframe tbody tr th:only-of-type {\n",
       "        vertical-align: middle;\n",
       "    }\n",
       "\n",
       "    .dataframe tbody tr th {\n",
       "        vertical-align: top;\n",
       "    }\n",
       "\n",
       "    .dataframe thead th {\n",
       "        text-align: right;\n",
       "    }\n",
       "</style>\n",
       "<table border=\"1\" class=\"dataframe\">\n",
       "  <thead>\n",
       "    <tr style=\"text-align: right;\">\n",
       "      <th></th>\n",
       "      <th>State</th>\n",
       "      <th>District</th>\n",
       "      <th>Market</th>\n",
       "      <th>Commodity</th>\n",
       "      <th>Variety</th>\n",
       "      <th>Grade</th>\n",
       "      <th>Arrival_Date</th>\n",
       "      <th>Min Price</th>\n",
       "      <th>Max Price</th>\n",
       "      <th>Modal Price</th>\n",
       "    </tr>\n",
       "  </thead>\n",
       "  <tbody>\n",
       "    <tr>\n",
       "      <th>0</th>\n",
       "      <td>6</td>\n",
       "      <td>12</td>\n",
       "      <td>309</td>\n",
       "      <td>22</td>\n",
       "      <td>57</td>\n",
       "      <td>0</td>\n",
       "      <td>2</td>\n",
       "      <td>4100.0</td>\n",
       "      <td>4500.0</td>\n",
       "      <td>4350.0</td>\n",
       "    </tr>\n",
       "    <tr>\n",
       "      <th>1</th>\n",
       "      <td>6</td>\n",
       "      <td>12</td>\n",
       "      <td>309</td>\n",
       "      <td>28</td>\n",
       "      <td>311</td>\n",
       "      <td>0</td>\n",
       "      <td>2</td>\n",
       "      <td>2200.0</td>\n",
       "      <td>3000.0</td>\n",
       "      <td>2450.0</td>\n",
       "    </tr>\n",
       "    <tr>\n",
       "      <th>2</th>\n",
       "      <td>6</td>\n",
       "      <td>12</td>\n",
       "      <td>309</td>\n",
       "      <td>32</td>\n",
       "      <td>81</td>\n",
       "      <td>0</td>\n",
       "      <td>2</td>\n",
       "      <td>2350.0</td>\n",
       "      <td>3000.0</td>\n",
       "      <td>2700.0</td>\n",
       "    </tr>\n",
       "    <tr>\n",
       "      <th>3</th>\n",
       "      <td>6</td>\n",
       "      <td>12</td>\n",
       "      <td>309</td>\n",
       "      <td>40</td>\n",
       "      <td>87</td>\n",
       "      <td>0</td>\n",
       "      <td>2</td>\n",
       "      <td>7000.0</td>\n",
       "      <td>7500.0</td>\n",
       "      <td>7250.0</td>\n",
       "    </tr>\n",
       "    <tr>\n",
       "      <th>4</th>\n",
       "      <td>6</td>\n",
       "      <td>12</td>\n",
       "      <td>309</td>\n",
       "      <td>60</td>\n",
       "      <td>112</td>\n",
       "      <td>0</td>\n",
       "      <td>2</td>\n",
       "      <td>8400.0</td>\n",
       "      <td>9000.0</td>\n",
       "      <td>8850.0</td>\n",
       "    </tr>\n",
       "    <tr>\n",
       "      <th>...</th>\n",
       "      <td>...</td>\n",
       "      <td>...</td>\n",
       "      <td>...</td>\n",
       "      <td>...</td>\n",
       "      <td>...</td>\n",
       "      <td>...</td>\n",
       "      <td>...</td>\n",
       "      <td>...</td>\n",
       "      <td>...</td>\n",
       "      <td>...</td>\n",
       "    </tr>\n",
       "    <tr>\n",
       "      <th>23088</th>\n",
       "      <td>25</td>\n",
       "      <td>144</td>\n",
       "      <td>1025</td>\n",
       "      <td>137</td>\n",
       "      <td>311</td>\n",
       "      <td>2</td>\n",
       "      <td>1</td>\n",
       "      <td>800.0</td>\n",
       "      <td>1200.0</td>\n",
       "      <td>1000.0</td>\n",
       "    </tr>\n",
       "    <tr>\n",
       "      <th>23089</th>\n",
       "      <td>25</td>\n",
       "      <td>144</td>\n",
       "      <td>1025</td>\n",
       "      <td>148</td>\n",
       "      <td>311</td>\n",
       "      <td>2</td>\n",
       "      <td>1</td>\n",
       "      <td>1500.0</td>\n",
       "      <td>2500.0</td>\n",
       "      <td>2000.0</td>\n",
       "    </tr>\n",
       "    <tr>\n",
       "      <th>23090</th>\n",
       "      <td>25</td>\n",
       "      <td>144</td>\n",
       "      <td>1025</td>\n",
       "      <td>165</td>\n",
       "      <td>311</td>\n",
       "      <td>2</td>\n",
       "      <td>1</td>\n",
       "      <td>2000.0</td>\n",
       "      <td>3000.0</td>\n",
       "      <td>2500.0</td>\n",
       "    </tr>\n",
       "    <tr>\n",
       "      <th>23091</th>\n",
       "      <td>25</td>\n",
       "      <td>144</td>\n",
       "      <td>1025</td>\n",
       "      <td>175</td>\n",
       "      <td>311</td>\n",
       "      <td>0</td>\n",
       "      <td>1</td>\n",
       "      <td>900.0</td>\n",
       "      <td>1800.0</td>\n",
       "      <td>1500.0</td>\n",
       "    </tr>\n",
       "    <tr>\n",
       "      <th>23092</th>\n",
       "      <td>25</td>\n",
       "      <td>144</td>\n",
       "      <td>1025</td>\n",
       "      <td>176</td>\n",
       "      <td>311</td>\n",
       "      <td>0</td>\n",
       "      <td>1</td>\n",
       "      <td>500.0</td>\n",
       "      <td>700.0</td>\n",
       "      <td>600.0</td>\n",
       "    </tr>\n",
       "  </tbody>\n",
       "</table>\n",
       "<p>23093 rows × 10 columns</p>\n",
       "</div>"
      ],
      "text/plain": [
       "       State  District  Market  Commodity  Variety  Grade  Arrival_Date  \\\n",
       "0          6        12     309         22       57      0             2   \n",
       "1          6        12     309         28      311      0             2   \n",
       "2          6        12     309         32       81      0             2   \n",
       "3          6        12     309         40       87      0             2   \n",
       "4          6        12     309         60      112      0             2   \n",
       "...      ...       ...     ...        ...      ...    ...           ...   \n",
       "23088     25       144    1025        137      311      2             1   \n",
       "23089     25       144    1025        148      311      2             1   \n",
       "23090     25       144    1025        165      311      2             1   \n",
       "23091     25       144    1025        175      311      0             1   \n",
       "23092     25       144    1025        176      311      0             1   \n",
       "\n",
       "       Min Price  Max Price  Modal Price  \n",
       "0         4100.0     4500.0       4350.0  \n",
       "1         2200.0     3000.0       2450.0  \n",
       "2         2350.0     3000.0       2700.0  \n",
       "3         7000.0     7500.0       7250.0  \n",
       "4         8400.0     9000.0       8850.0  \n",
       "...          ...        ...          ...  \n",
       "23088      800.0     1200.0       1000.0  \n",
       "23089     1500.0     2500.0       2000.0  \n",
       "23090     2000.0     3000.0       2500.0  \n",
       "23091      900.0     1800.0       1500.0  \n",
       "23092      500.0      700.0        600.0  \n",
       "\n",
       "[23093 rows x 10 columns]"
      ]
     },
     "execution_count": 10,
     "metadata": {},
     "output_type": "execute_result"
    }
   ],
   "source": [
    "df_sum=pd.concat([df_obj,df_num],axis=1)\n",
    "df_sum"
   ]
  },
  {
   "cell_type": "code",
   "execution_count": 11,
   "id": "23c8966c",
   "metadata": {},
   "outputs": [],
   "source": [
    "X=df_sum[[ 'State','District','Market','Commodity','Variety','Grade','Arrival_Date','Min Price','Max Price']]\n",
    "Y=df_sum['Modal Price']\n"
   ]
  },
  {
   "cell_type": "code",
   "execution_count": 12,
   "id": "4392bc0b",
   "metadata": {},
   "outputs": [
    {
     "data": {
      "text/plain": [
       "(23093, 9)"
      ]
     },
     "execution_count": 12,
     "metadata": {},
     "output_type": "execute_result"
    }
   ],
   "source": [
    "X.shape"
   ]
  },
  {
   "cell_type": "code",
   "execution_count": 13,
   "id": "b0364bd5",
   "metadata": {},
   "outputs": [
    {
     "data": {
      "text/plain": [
       "(23093,)"
      ]
     },
     "execution_count": 13,
     "metadata": {},
     "output_type": "execute_result"
    }
   ],
   "source": [
    "Y.shape"
   ]
  },
  {
   "cell_type": "code",
   "execution_count": 14,
   "id": "afb2dc2b",
   "metadata": {},
   "outputs": [],
   "source": [
    "from sklearn.model_selection import train_test_split\n",
    "X_train,X_test,Y_train,Y_test=train_test_split(X,Y,test_size=0.3,random_state=1)\n"
   ]
  },
  {
   "cell_type": "code",
   "execution_count": null,
   "id": "fecf7fce",
   "metadata": {},
   "outputs": [],
   "source": []
  },
  {
   "cell_type": "code",
   "execution_count": 15,
   "id": "f1b03453",
   "metadata": {},
   "outputs": [
    {
     "data": {
      "text/plain": [
       "(16165, 9)"
      ]
     },
     "execution_count": 15,
     "metadata": {},
     "output_type": "execute_result"
    }
   ],
   "source": [
    "X_train.shape"
   ]
  },
  {
   "cell_type": "code",
   "execution_count": 16,
   "id": "401bb144",
   "metadata": {},
   "outputs": [
    {
     "data": {
      "text/plain": [
       "(6928, 9)"
      ]
     },
     "execution_count": 16,
     "metadata": {},
     "output_type": "execute_result"
    }
   ],
   "source": [
    "X_test.shape"
   ]
  },
  {
   "cell_type": "code",
   "execution_count": 17,
   "id": "ac4603b8",
   "metadata": {},
   "outputs": [
    {
     "data": {
      "text/plain": [
       "(16165,)"
      ]
     },
     "execution_count": 17,
     "metadata": {},
     "output_type": "execute_result"
    }
   ],
   "source": [
    "Y_train.shape"
   ]
  },
  {
   "cell_type": "code",
   "execution_count": 18,
   "id": "b207ab9e",
   "metadata": {},
   "outputs": [
    {
     "data": {
      "text/plain": [
       "(6928,)"
      ]
     },
     "execution_count": 18,
     "metadata": {},
     "output_type": "execute_result"
    }
   ],
   "source": [
    "Y_test.shape"
   ]
  },
  {
   "cell_type": "code",
   "execution_count": 19,
   "id": "6d990554",
   "metadata": {},
   "outputs": [],
   "source": [
    "from sklearn.preprocessing import StandardScaler\n",
    "ss=StandardScaler()\n",
    "X_train=ss.fit_transform(X_train)\n",
    "X_test=ss.transform(X_test)"
   ]
  },
  {
   "cell_type": "code",
   "execution_count": 20,
   "id": "a62ac554",
   "metadata": {},
   "outputs": [
    {
     "data": {
      "text/plain": [
       "array([[-1.21126019,  1.34129466,  1.34295491, ...,  0.54626189,\n",
       "        -0.3157973 ,  0.32462254],\n",
       "       [ 0.4896371 , -1.36751764, -1.45330433, ..., -1.17672806,\n",
       "         0.0025957 , -0.02659715],\n",
       "       [ 1.05660287, -0.72504293, -0.78287254, ...,  1.40775687,\n",
       "        -0.2970683 , -0.35359479],\n",
       "       ...,\n",
       "       [ 1.05660287,  1.43679766, -0.48955864, ...,  0.11551441,\n",
       "        -0.2877038 , -0.36489841],\n",
       "       [ 0.34789566, -1.26333255, -1.39184808, ...,  1.40775687,\n",
       "         0.1524277 ,  0.32462254],\n",
       "       [-1.77822595, -1.17651164,  1.50776939, ...,  0.11551441,\n",
       "        -0.3345263 , -0.38589086]])"
      ]
     },
     "execution_count": 20,
     "metadata": {},
     "output_type": "execute_result"
    }
   ],
   "source": [
    "X_train"
   ]
  },
  {
   "cell_type": "code",
   "execution_count": 21,
   "id": "0c4f226e",
   "metadata": {},
   "outputs": [
    {
     "data": {
      "text/html": [
       "<style>#sk-container-id-1 {color: black;background-color: white;}#sk-container-id-1 pre{padding: 0;}#sk-container-id-1 div.sk-toggleable {background-color: white;}#sk-container-id-1 label.sk-toggleable__label {cursor: pointer;display: block;width: 100%;margin-bottom: 0;padding: 0.3em;box-sizing: border-box;text-align: center;}#sk-container-id-1 label.sk-toggleable__label-arrow:before {content: \"▸\";float: left;margin-right: 0.25em;color: #696969;}#sk-container-id-1 label.sk-toggleable__label-arrow:hover:before {color: black;}#sk-container-id-1 div.sk-estimator:hover label.sk-toggleable__label-arrow:before {color: black;}#sk-container-id-1 div.sk-toggleable__content {max-height: 0;max-width: 0;overflow: hidden;text-align: left;background-color: #f0f8ff;}#sk-container-id-1 div.sk-toggleable__content pre {margin: 0.2em;color: black;border-radius: 0.25em;background-color: #f0f8ff;}#sk-container-id-1 input.sk-toggleable__control:checked~div.sk-toggleable__content {max-height: 200px;max-width: 100%;overflow: auto;}#sk-container-id-1 input.sk-toggleable__control:checked~label.sk-toggleable__label-arrow:before {content: \"▾\";}#sk-container-id-1 div.sk-estimator input.sk-toggleable__control:checked~label.sk-toggleable__label {background-color: #d4ebff;}#sk-container-id-1 div.sk-label input.sk-toggleable__control:checked~label.sk-toggleable__label {background-color: #d4ebff;}#sk-container-id-1 input.sk-hidden--visually {border: 0;clip: rect(1px 1px 1px 1px);clip: rect(1px, 1px, 1px, 1px);height: 1px;margin: -1px;overflow: hidden;padding: 0;position: absolute;width: 1px;}#sk-container-id-1 div.sk-estimator {font-family: monospace;background-color: #f0f8ff;border: 1px dotted black;border-radius: 0.25em;box-sizing: border-box;margin-bottom: 0.5em;}#sk-container-id-1 div.sk-estimator:hover {background-color: #d4ebff;}#sk-container-id-1 div.sk-parallel-item::after {content: \"\";width: 100%;border-bottom: 1px solid gray;flex-grow: 1;}#sk-container-id-1 div.sk-label:hover label.sk-toggleable__label {background-color: #d4ebff;}#sk-container-id-1 div.sk-serial::before {content: \"\";position: absolute;border-left: 1px solid gray;box-sizing: border-box;top: 0;bottom: 0;left: 50%;z-index: 0;}#sk-container-id-1 div.sk-serial {display: flex;flex-direction: column;align-items: center;background-color: white;padding-right: 0.2em;padding-left: 0.2em;position: relative;}#sk-container-id-1 div.sk-item {position: relative;z-index: 1;}#sk-container-id-1 div.sk-parallel {display: flex;align-items: stretch;justify-content: center;background-color: white;position: relative;}#sk-container-id-1 div.sk-item::before, #sk-container-id-1 div.sk-parallel-item::before {content: \"\";position: absolute;border-left: 1px solid gray;box-sizing: border-box;top: 0;bottom: 0;left: 50%;z-index: -1;}#sk-container-id-1 div.sk-parallel-item {display: flex;flex-direction: column;z-index: 1;position: relative;background-color: white;}#sk-container-id-1 div.sk-parallel-item:first-child::after {align-self: flex-end;width: 50%;}#sk-container-id-1 div.sk-parallel-item:last-child::after {align-self: flex-start;width: 50%;}#sk-container-id-1 div.sk-parallel-item:only-child::after {width: 0;}#sk-container-id-1 div.sk-dashed-wrapped {border: 1px dashed gray;margin: 0 0.4em 0.5em 0.4em;box-sizing: border-box;padding-bottom: 0.4em;background-color: white;}#sk-container-id-1 div.sk-label label {font-family: monospace;font-weight: bold;display: inline-block;line-height: 1.2em;}#sk-container-id-1 div.sk-label-container {text-align: center;}#sk-container-id-1 div.sk-container {/* jupyter's `normalize.less` sets `[hidden] { display: none; }` but bootstrap.min.css set `[hidden] { display: none !important; }` so we also need the `!important` here to be able to override the default hidden behavior on the sphinx rendered scikit-learn.org. See: https://github.com/scikit-learn/scikit-learn/issues/21755 */display: inline-block !important;position: relative;}#sk-container-id-1 div.sk-text-repr-fallback {display: none;}</style><div id=\"sk-container-id-1\" class=\"sk-top-container\"><div class=\"sk-text-repr-fallback\"><pre>LinearRegression()</pre><b>In a Jupyter environment, please rerun this cell to show the HTML representation or trust the notebook. <br />On GitHub, the HTML representation is unable to render, please try loading this page with nbviewer.org.</b></div><div class=\"sk-container\" hidden><div class=\"sk-item\"><div class=\"sk-estimator sk-toggleable\"><input class=\"sk-toggleable__control sk-hidden--visually\" id=\"sk-estimator-id-1\" type=\"checkbox\" checked><label for=\"sk-estimator-id-1\" class=\"sk-toggleable__label sk-toggleable__label-arrow\">LinearRegression</label><div class=\"sk-toggleable__content\"><pre>LinearRegression()</pre></div></div></div></div></div>"
      ],
      "text/plain": [
       "LinearRegression()"
      ]
     },
     "execution_count": 21,
     "metadata": {},
     "output_type": "execute_result"
    }
   ],
   "source": [
    "from sklearn.linear_model import LinearRegression\n",
    "lr=LinearRegression()\n",
    "lr.fit(X_train,Y_train)"
   ]
  },
  {
   "cell_type": "code",
   "execution_count": 22,
   "id": "47aa3de4",
   "metadata": {},
   "outputs": [
    {
     "data": {
      "text/plain": [
       "array([-4.19681782e+01,  2.91737168e+00, -6.09455262e+00,  2.99423527e-01,\n",
       "        2.30305677e+00, -3.87099112e-01, -7.17295858e+00,  3.19355291e+03,\n",
       "        2.57202361e+03])"
      ]
     },
     "execution_count": 22,
     "metadata": {},
     "output_type": "execute_result"
    }
   ],
   "source": [
    "lr.coef_"
   ]
  },
  {
   "cell_type": "code",
   "execution_count": 23,
   "id": "074f453d",
   "metadata": {},
   "outputs": [
    {
     "data": {
      "text/plain": [
       "4607.967733374575"
      ]
     },
     "execution_count": 23,
     "metadata": {},
     "output_type": "execute_result"
    }
   ],
   "source": [
    "lr.intercept_"
   ]
  },
  {
   "cell_type": "code",
   "execution_count": 24,
   "id": "dbe101e5",
   "metadata": {},
   "outputs": [
    {
     "data": {
      "text/plain": [
       "array([50467.44367645,  1936.12101585,  3343.55885249, ...,\n",
       "        1542.90750368,  1270.27938838,  6313.90781719])"
      ]
     },
     "execution_count": 24,
     "metadata": {},
     "output_type": "execute_result"
    }
   ],
   "source": [
    "ypred=lr.predict(X_test)\n",
    "ypred"
   ]
  },
  {
   "cell_type": "code",
   "execution_count": 25,
   "id": "640f7c5e",
   "metadata": {},
   "outputs": [
    {
     "data": {
      "text/html": [
       "<div>\n",
       "<style scoped>\n",
       "    .dataframe tbody tr th:only-of-type {\n",
       "        vertical-align: middle;\n",
       "    }\n",
       "\n",
       "    .dataframe tbody tr th {\n",
       "        vertical-align: top;\n",
       "    }\n",
       "\n",
       "    .dataframe thead th {\n",
       "        text-align: right;\n",
       "    }\n",
       "</style>\n",
       "<table border=\"1\" class=\"dataframe\">\n",
       "  <thead>\n",
       "    <tr style=\"text-align: right;\">\n",
       "      <th></th>\n",
       "      <th>Actual op</th>\n",
       "      <th>Predict op</th>\n",
       "    </tr>\n",
       "  </thead>\n",
       "  <tbody>\n",
       "    <tr>\n",
       "      <th>16225</th>\n",
       "      <td>50948.0</td>\n",
       "      <td>50467.443676</td>\n",
       "    </tr>\n",
       "    <tr>\n",
       "      <th>884</th>\n",
       "      <td>1000.0</td>\n",
       "      <td>1936.121016</td>\n",
       "    </tr>\n",
       "    <tr>\n",
       "      <th>15721</th>\n",
       "      <td>3200.0</td>\n",
       "      <td>3343.558852</td>\n",
       "    </tr>\n",
       "    <tr>\n",
       "      <th>16787</th>\n",
       "      <td>8200.0</td>\n",
       "      <td>8338.279842</td>\n",
       "    </tr>\n",
       "    <tr>\n",
       "      <th>18298</th>\n",
       "      <td>7500.0</td>\n",
       "      <td>7568.603242</td>\n",
       "    </tr>\n",
       "    <tr>\n",
       "      <th>...</th>\n",
       "      <td>...</td>\n",
       "      <td>...</td>\n",
       "    </tr>\n",
       "    <tr>\n",
       "      <th>13063</th>\n",
       "      <td>7800.0</td>\n",
       "      <td>7633.336601</td>\n",
       "    </tr>\n",
       "    <tr>\n",
       "      <th>13716</th>\n",
       "      <td>2590.0</td>\n",
       "      <td>2586.760151</td>\n",
       "    </tr>\n",
       "    <tr>\n",
       "      <th>4461</th>\n",
       "      <td>1550.0</td>\n",
       "      <td>1542.907504</td>\n",
       "    </tr>\n",
       "    <tr>\n",
       "      <th>6112</th>\n",
       "      <td>1200.0</td>\n",
       "      <td>1270.279388</td>\n",
       "    </tr>\n",
       "    <tr>\n",
       "      <th>63</th>\n",
       "      <td>6000.0</td>\n",
       "      <td>6313.907817</td>\n",
       "    </tr>\n",
       "  </tbody>\n",
       "</table>\n",
       "<p>6928 rows × 2 columns</p>\n",
       "</div>"
      ],
      "text/plain": [
       "       Actual op    Predict op\n",
       "16225    50948.0  50467.443676\n",
       "884       1000.0   1936.121016\n",
       "15721     3200.0   3343.558852\n",
       "16787     8200.0   8338.279842\n",
       "18298     7500.0   7568.603242\n",
       "...          ...           ...\n",
       "13063     7800.0   7633.336601\n",
       "13716     2590.0   2586.760151\n",
       "4461      1550.0   1542.907504\n",
       "6112      1200.0   1270.279388\n",
       "63        6000.0   6313.907817\n",
       "\n",
       "[6928 rows x 2 columns]"
      ]
     },
     "execution_count": 25,
     "metadata": {},
     "output_type": "execute_result"
    }
   ],
   "source": [
    "dict={\"Actual op\":Y_test,'Predict op':ypred}\n",
    "df1=pd.DataFrame(dict)\n",
    "df1"
   ]
  },
  {
   "cell_type": "code",
   "execution_count": 26,
   "id": "24a3a502",
   "metadata": {},
   "outputs": [],
   "source": [
    "from sklearn.metrics import mean_squared_error"
   ]
  },
  {
   "cell_type": "code",
   "execution_count": 27,
   "id": "6cdf02ef",
   "metadata": {},
   "outputs": [
    {
     "name": "stdout",
     "output_type": "stream",
     "text": [
      "mean sqaure error 189359.98649062467\n"
     ]
    }
   ],
   "source": [
    "print(\"mean sqaure error\",mean_squared_error(Y_test,ypred))"
   ]
  },
  {
   "cell_type": "code",
   "execution_count": 28,
   "id": "e7827b61",
   "metadata": {},
   "outputs": [
    {
     "data": {
      "text/plain": [
       "189359.98649062467"
      ]
     },
     "execution_count": 28,
     "metadata": {},
     "output_type": "execute_result"
    }
   ],
   "source": [
    "mse=mean_squared_error(Y_test,ypred)\n",
    "mse"
   ]
  },
  {
   "cell_type": "code",
   "execution_count": 29,
   "id": "0e13cccf",
   "metadata": {},
   "outputs": [
    {
     "name": "stdout",
     "output_type": "stream",
     "text": [
      "root mean square error 435.15512922476813\n"
     ]
    }
   ],
   "source": [
    "rmse=np.sqrt(mse)\n",
    "print(\"root mean square error\",rmse)"
   ]
  },
  {
   "cell_type": "code",
   "execution_count": 30,
   "id": "3835b720",
   "metadata": {},
   "outputs": [],
   "source": [
    "from sklearn.metrics import r2_score"
   ]
  },
  {
   "cell_type": "code",
   "execution_count": 31,
   "id": "2e58a4d8",
   "metadata": {},
   "outputs": [
    {
     "name": "stdout",
     "output_type": "stream",
     "text": [
      "r2 score 0.9949198891321727\n"
     ]
    }
   ],
   "source": [
    "print(\"r2 score\",r2_score(Y_test,ypred))"
   ]
  },
  {
   "cell_type": "code",
   "execution_count": 32,
   "id": "bcf3e368",
   "metadata": {},
   "outputs": [
    {
     "data": {
      "text/html": [
       "<div>\n",
       "<style scoped>\n",
       "    .dataframe tbody tr th:only-of-type {\n",
       "        vertical-align: middle;\n",
       "    }\n",
       "\n",
       "    .dataframe tbody tr th {\n",
       "        vertical-align: top;\n",
       "    }\n",
       "\n",
       "    .dataframe thead th {\n",
       "        text-align: right;\n",
       "    }\n",
       "</style>\n",
       "<table border=\"1\" class=\"dataframe\">\n",
       "  <thead>\n",
       "    <tr style=\"text-align: right;\">\n",
       "      <th></th>\n",
       "      <th>Actaul op</th>\n",
       "      <th>Preidict op</th>\n",
       "    </tr>\n",
       "  </thead>\n",
       "  <tbody>\n",
       "    <tr>\n",
       "      <th>16225</th>\n",
       "      <td>50948.0</td>\n",
       "      <td>50467.443676</td>\n",
       "    </tr>\n",
       "    <tr>\n",
       "      <th>884</th>\n",
       "      <td>1000.0</td>\n",
       "      <td>1936.121016</td>\n",
       "    </tr>\n",
       "    <tr>\n",
       "      <th>15721</th>\n",
       "      <td>3200.0</td>\n",
       "      <td>3343.558852</td>\n",
       "    </tr>\n",
       "    <tr>\n",
       "      <th>16787</th>\n",
       "      <td>8200.0</td>\n",
       "      <td>8338.279842</td>\n",
       "    </tr>\n",
       "    <tr>\n",
       "      <th>18298</th>\n",
       "      <td>7500.0</td>\n",
       "      <td>7568.603242</td>\n",
       "    </tr>\n",
       "    <tr>\n",
       "      <th>...</th>\n",
       "      <td>...</td>\n",
       "      <td>...</td>\n",
       "    </tr>\n",
       "    <tr>\n",
       "      <th>13063</th>\n",
       "      <td>7800.0</td>\n",
       "      <td>7633.336601</td>\n",
       "    </tr>\n",
       "    <tr>\n",
       "      <th>13716</th>\n",
       "      <td>2590.0</td>\n",
       "      <td>2586.760151</td>\n",
       "    </tr>\n",
       "    <tr>\n",
       "      <th>4461</th>\n",
       "      <td>1550.0</td>\n",
       "      <td>1542.907504</td>\n",
       "    </tr>\n",
       "    <tr>\n",
       "      <th>6112</th>\n",
       "      <td>1200.0</td>\n",
       "      <td>1270.279388</td>\n",
       "    </tr>\n",
       "    <tr>\n",
       "      <th>63</th>\n",
       "      <td>6000.0</td>\n",
       "      <td>6313.907817</td>\n",
       "    </tr>\n",
       "  </tbody>\n",
       "</table>\n",
       "<p>6928 rows × 2 columns</p>\n",
       "</div>"
      ],
      "text/plain": [
       "       Actaul op   Preidict op\n",
       "16225    50948.0  50467.443676\n",
       "884       1000.0   1936.121016\n",
       "15721     3200.0   3343.558852\n",
       "16787     8200.0   8338.279842\n",
       "18298     7500.0   7568.603242\n",
       "...          ...           ...\n",
       "13063     7800.0   7633.336601\n",
       "13716     2590.0   2586.760151\n",
       "4461      1550.0   1542.907504\n",
       "6112      1200.0   1270.279388\n",
       "63        6000.0   6313.907817\n",
       "\n",
       "[6928 rows x 2 columns]"
      ]
     },
     "execution_count": 32,
     "metadata": {},
     "output_type": "execute_result"
    }
   ],
   "source": [
    "dict={\"Actaul op\":Y_test,'Preidict op':ypred}\n",
    "df1=pd.DataFrame(dict)\n",
    "df1"
   ]
  },
  {
   "cell_type": "code",
   "execution_count": 33,
   "id": "5a1c93ae",
   "metadata": {},
   "outputs": [
    {
     "data": {
      "text/plain": [
       "0.9896704606439193"
      ]
     },
     "execution_count": 33,
     "metadata": {},
     "output_type": "execute_result"
    }
   ],
   "source": [
    "lr.score(X_train,Y_train)"
   ]
  },
  {
   "cell_type": "code",
   "execution_count": 34,
   "id": "c05445e9",
   "metadata": {},
   "outputs": [
    {
     "data": {
      "text/plain": [
       "0.9949198891321727"
      ]
     },
     "execution_count": 34,
     "metadata": {},
     "output_type": "execute_result"
    }
   ],
   "source": [
    "lr.score(X_test,Y_test)"
   ]
  },
  {
   "cell_type": "code",
   "execution_count": 35,
   "id": "7d2b3f02",
   "metadata": {},
   "outputs": [
    {
     "name": "stdout",
     "output_type": "stream",
     "text": [
      "residual error 16225    480.556324\n",
      "884     -936.121016\n",
      "15721   -143.558852\n",
      "16787   -138.279842\n",
      "18298    -68.603242\n",
      "            ...    \n",
      "13063    166.663399\n",
      "13716      3.239849\n",
      "4461       7.092496\n",
      "6112     -70.279388\n",
      "63      -313.907817\n",
      "Name: Modal Price, Length: 6928, dtype: float64\n"
     ]
    }
   ],
   "source": [
    "residual_error=Y_test-ypred\n",
    "print(\"residual error\",residual_error)"
   ]
  },
  {
   "cell_type": "code",
   "execution_count": 36,
   "id": "eee6a04f",
   "metadata": {},
   "outputs": [
    {
     "data": {
      "image/png": "[encoded data removed]",
      "text/plain": [
       "<Figure size 640x480 with 1 Axes>"
      ]
     },
     "metadata": {},
     "output_type": "display_data"
    }
   ],
   "source": [
    "plt.scatter(ypred,residual_error)\n",
    "plt.show()"
   ]
  },
  {
   "cell_type": "code",
   "execution_count": 37,
   "id": "adf034ec",
   "metadata": {},
   "outputs": [
    {
     "data": {
      "text/plain": [
       "<Axes: xlabel='Modal Price', ylabel='Count'>"
      ]
     },
     "execution_count": 37,
     "metadata": {},
     "output_type": "execute_result"
    },
    {
     "data": {
      "image/png": "[encoded data removed]",
      "text/plain": [
       "<Figure size 640x480 with 1 Axes>"
      ]
     },
     "metadata": {},
     "output_type": "display_data"
    }
   ],
   "source": [
    "sb.histplot(residual_error)"
   ]
  },
  {
   "cell_type": "code",
   "execution_count": 38,
   "id": "1a74cfc1",
   "metadata": {},
   "outputs": [
    {
     "data": {
      "image/png": "[encoded data removed]",
      "text/plain": [
       "<Figure size 640x480 with 1 Axes>"
      ]
     },
     "metadata": {},
     "output_type": "display_data"
    }
   ],
   "source": [
    "sb.distplot(residual_error,hist=True)\n",
    "plt.show()"
   ]
  },
  {
   "cell_type": "code",
   "execution_count": 39,
   "id": "38c40341",
   "metadata": {},
   "outputs": [
    {
     "data": {
      "image/png": "[encoded data removed]",
      "text/plain": [
       "<Figure size 640x480 with 1 Axes>"
      ]
     },
     "metadata": {},
     "output_type": "display_data"
    }
   ],
   "source": [
    "sb.distplot(residual_error,hist=False)\n",
    "plt.show() #skewed left "
   ]
  },
  {
   "cell_type": "code",
   "execution_count": 40,
   "id": "82a4b811",
   "metadata": {},
   "outputs": [
    {
     "name": "stdout",
     "output_type": "stream",
     "text": [
      "12.814950867062759\n"
     ]
    }
   ],
   "source": [
    "#to find the skewness for residual error \n",
    "print(residual_error.skew()) "
   ]
  },
  {
   "cell_type": "code",
   "execution_count": 41,
   "id": "90e0cecd",
   "metadata": {},
   "outputs": [
    {
     "data": {
      "text/plain": [
       "<Axes: >"
      ]
     },
     "execution_count": 41,
     "metadata": {},
     "output_type": "execute_result"
    },
    {
     "data": {
      "image/png": "[encoded data removed]",
      "text/plain": [
       "<Figure size 640x480 with 2 Axes>"
      ]
     },
     "metadata": {},
     "output_type": "display_data"
    }
   ],
   "source": [
    "sb.heatmap(df_sum.corr(),annot=True)"
   ]
  },
  {
   "cell_type": "code",
   "execution_count": 42,
   "id": "a3a4a652",
   "metadata": {},
   "outputs": [],
   "source": [
    "X=df_sum.drop(['Modal Price','Variety'],axis=1)\n",
    "Y=df_sum['Modal Price']"
   ]
  },
  {
   "cell_type": "code",
   "execution_count": 43,
   "id": "2057f636",
   "metadata": {},
   "outputs": [],
   "source": [
    "from sklearn.preprocessing import PolynomialFeatures\n"
   ]
  },
  {
   "cell_type": "code",
   "execution_count": 44,
   "id": "655879c6",
   "metadata": {},
   "outputs": [],
   "source": [
    "pf=PolynomialFeatures(4)\n"
   ]
  },
  {
   "cell_type": "code",
   "execution_count": 45,
   "id": "233461f6",
   "metadata": {},
   "outputs": [],
   "source": [
    "X_poly=pf.fit_transform(X)"
   ]
  },
  {
   "cell_type": "code",
   "execution_count": 46,
   "id": "ddd8af13",
   "metadata": {},
   "outputs": [],
   "source": [
    "X_train,X_test,Y_train,Y_test=train_test_split(X_poly,Y,test_size=0.3,random_state=1)"
   ]
  },
  {
   "cell_type": "code",
   "execution_count": 47,
   "id": "740ffe32",
   "metadata": {},
   "outputs": [
    {
     "data": {
      "text/plain": [
       "(16165, 495)"
      ]
     },
     "execution_count": 47,
     "metadata": {},
     "output_type": "execute_result"
    }
   ],
   "source": [
    "X_train.shape"
   ]
  },
  {
   "cell_type": "code",
   "execution_count": 48,
   "id": "6fc024cc",
   "metadata": {},
   "outputs": [
    {
     "data": {
      "text/plain": [
       "(6928, 495)"
      ]
     },
     "execution_count": 48,
     "metadata": {},
     "output_type": "execute_result"
    }
   ],
   "source": [
    "X_test.shape"
   ]
  },
  {
   "cell_type": "code",
   "execution_count": 49,
   "id": "218ad9ba",
   "metadata": {},
   "outputs": [],
   "source": [
    "X_train=ss.fit_transform(X_train)\n",
    "X_test=ss.transform(X_test)"
   ]
  },
  {
   "cell_type": "code",
   "execution_count": 50,
   "id": "7f42357b",
   "metadata": {},
   "outputs": [
    {
     "data": {
      "text/plain": [
       "array([[ 0.        , -1.21126019,  1.34129466, ..., -0.02688401,\n",
       "        -0.02777066, -0.02985447],\n",
       "       [ 0.        ,  0.4896371 , -1.36751764, ..., -0.02686313,\n",
       "        -0.02784236, -0.03016581],\n",
       "       [ 0.        ,  1.05660287, -0.72504293, ..., -0.02693464,\n",
       "        -0.02791945, -0.03024629],\n",
       "       ...,\n",
       "       [ 0.        ,  1.05660287,  1.43679766, ..., -0.02693477,\n",
       "        -0.02792004, -0.03024728],\n",
       "       [ 0.        ,  0.34789566, -1.26333255, ..., -0.02670032,\n",
       "        -0.02761126, -0.02985447],\n",
       "       [ 0.        , -1.77822595, -1.17651164, ..., -0.02693745,\n",
       "        -0.02792222, -0.03024893]])"
      ]
     },
     "execution_count": 50,
     "metadata": {},
     "output_type": "execute_result"
    }
   ],
   "source": [
    "X_train"
   ]
  },
  {
   "cell_type": "code",
   "execution_count": 51,
   "id": "8bd26400",
   "metadata": {},
   "outputs": [
    {
     "data": {
      "text/html": [
       "<style>#sk-container-id-2 {color: black;background-color: white;}#sk-container-id-2 pre{padding: 0;}#sk-container-id-2 div.sk-toggleable {background-color: white;}#sk-container-id-2 label.sk-toggleable__label {cursor: pointer;display: block;width: 100%;margin-bottom: 0;padding: 0.3em;box-sizing: border-box;text-align: center;}#sk-container-id-2 label.sk-toggleable__label-arrow:before {content: \"▸\";float: left;margin-right: 0.25em;color: #696969;}#sk-container-id-2 label.sk-toggleable__label-arrow:hover:before {color: black;}#sk-container-id-2 div.sk-estimator:hover label.sk-toggleable__label-arrow:before {color: black;}#sk-container-id-2 div.sk-toggleable__content {max-height: 0;max-width: 0;overflow: hidden;text-align: left;background-color: #f0f8ff;}#sk-container-id-2 div.sk-toggleable__content pre {margin: 0.2em;color: black;border-radius: 0.25em;background-color: #f0f8ff;}#sk-container-id-2 input.sk-toggleable__control:checked~div.sk-toggleable__content {max-height: 200px;max-width: 100%;overflow: auto;}#sk-container-id-2 input.sk-toggleable__control:checked~label.sk-toggleable__label-arrow:before {content: \"▾\";}#sk-container-id-2 div.sk-estimator input.sk-toggleable__control:checked~label.sk-toggleable__label {background-color: #d4ebff;}#sk-container-id-2 div.sk-label input.sk-toggleable__control:checked~label.sk-toggleable__label {background-color: #d4ebff;}#sk-container-id-2 input.sk-hidden--visually {border: 0;clip: rect(1px 1px 1px 1px);clip: rect(1px, 1px, 1px, 1px);height: 1px;margin: -1px;overflow: hidden;padding: 0;position: absolute;width: 1px;}#sk-container-id-2 div.sk-estimator {font-family: monospace;background-color: #f0f8ff;border: 1px dotted black;border-radius: 0.25em;box-sizing: border-box;margin-bottom: 0.5em;}#sk-container-id-2 div.sk-estimator:hover {background-color: #d4ebff;}#sk-container-id-2 div.sk-parallel-item::after {content: \"\";width: 100%;border-bottom: 1px solid gray;flex-grow: 1;}#sk-container-id-2 div.sk-label:hover label.sk-toggleable__label {background-color: #d4ebff;}#sk-container-id-2 div.sk-serial::before {content: \"\";position: absolute;border-left: 1px solid gray;box-sizing: border-box;top: 0;bottom: 0;left: 50%;z-index: 0;}#sk-container-id-2 div.sk-serial {display: flex;flex-direction: column;align-items: center;background-color: white;padding-right: 0.2em;padding-left: 0.2em;position: relative;}#sk-container-id-2 div.sk-item {position: relative;z-index: 1;}#sk-container-id-2 div.sk-parallel {display: flex;align-items: stretch;justify-content: center;background-color: white;position: relative;}#sk-container-id-2 div.sk-item::before, #sk-container-id-2 div.sk-parallel-item::before {content: \"\";position: absolute;border-left: 1px solid gray;box-sizing: border-box;top: 0;bottom: 0;left: 50%;z-index: -1;}#sk-container-id-2 div.sk-parallel-item {display: flex;flex-direction: column;z-index: 1;position: relative;background-color: white;}#sk-container-id-2 div.sk-parallel-item:first-child::after {align-self: flex-end;width: 50%;}#sk-container-id-2 div.sk-parallel-item:last-child::after {align-self: flex-start;width: 50%;}#sk-container-id-2 div.sk-parallel-item:only-child::after {width: 0;}#sk-container-id-2 div.sk-dashed-wrapped {border: 1px dashed gray;margin: 0 0.4em 0.5em 0.4em;box-sizing: border-box;padding-bottom: 0.4em;background-color: white;}#sk-container-id-2 div.sk-label label {font-family: monospace;font-weight: bold;display: inline-block;line-height: 1.2em;}#sk-container-id-2 div.sk-label-container {text-align: center;}#sk-container-id-2 div.sk-container {/* jupyter's `normalize.less` sets `[hidden] { display: none; }` but bootstrap.min.css set `[hidden] { display: none !important; }` so we also need the `!important` here to be able to override the default hidden behavior on the sphinx rendered scikit-learn.org. See: https://github.com/scikit-learn/scikit-learn/issues/21755 */display: inline-block !important;position: relative;}#sk-container-id-2 div.sk-text-repr-fallback {display: none;}</style><div id=\"sk-container-id-2\" class=\"sk-top-container\"><div class=\"sk-text-repr-fallback\"><pre>LinearRegression()</pre><b>In a Jupyter environment, please rerun this cell to show the HTML representation or trust the notebook. <br />On GitHub, the HTML representation is unable to render, please try loading this page with nbviewer.org.</b></div><div class=\"sk-container\" hidden><div class=\"sk-item\"><div class=\"sk-estimator sk-toggleable\"><input class=\"sk-toggleable__control sk-hidden--visually\" id=\"sk-estimator-id-2\" type=\"checkbox\" checked><label for=\"sk-estimator-id-2\" class=\"sk-toggleable__label sk-toggleable__label-arrow\">LinearRegression</label><div class=\"sk-toggleable__content\"><pre>LinearRegression()</pre></div></div></div></div></div>"
      ],
      "text/plain": [
       "LinearRegression()"
      ]
     },
     "execution_count": 51,
     "metadata": {},
     "output_type": "execute_result"
    }
   ],
   "source": [
    "from sklearn.linear_model import LinearRegression\n",
    "lr=LinearRegression()\n",
    "lr.fit(X_train,Y_train)"
   ]
  },
  {
   "cell_type": "code",
   "execution_count": 52,
   "id": "a4b1c9fc",
   "metadata": {},
   "outputs": [
    {
     "data": {
      "text/plain": [
       "array([-6.39808662e-08,  1.47950858e+02, -6.70886632e+02,  2.96604395e+02,\n",
       "        1.02393559e+03,  6.06223979e+02, -1.01668613e+03,  2.62516993e+03,\n",
       "        3.21366878e+03,  1.45601811e+02, -6.73191610e+02,  3.05608328e+02,\n",
       "       -7.04479766e+00, -1.31836602e+03,  6.73805230e+02,  3.88614013e+03,\n",
       "       -4.75910181e+03,  1.54168561e+03,  7.41198048e+02, -7.05141515e+02,\n",
       "       -9.35371958e+00,  1.34477596e+02, -5.91519406e+01,  1.10113036e+03,\n",
       "       -1.13571804e+03, -3.39220548e+02,  5.85433560e+02, -8.27851520e+01,\n",
       "       -3.82396002e+03,  3.49714020e+03, -1.40618038e+03, -1.16033873e+03,\n",
       "        2.41412212e+02,  2.17944929e+03, -3.35378077e+03, -1.98168548e+02,\n",
       "       -7.45979750e+01,  1.28294751e+03, -1.62015307e+03,  2.76923323e+03,\n",
       "       -3.77550486e+03,  4.16582020e+03,  3.95052745e+04, -8.17423298e+04,\n",
       "        4.53706117e+04, -5.85524249e+02,  9.24853400e+02,  6.50867354e+01,\n",
       "       -7.40723844e+02,  9.54598978e+02, -6.12860192e+02, -4.77491040e+03,\n",
       "        5.55244843e+03,  2.11321254e+02, -3.35402577e+02,  3.71301999e+00,\n",
       "        3.28562909e+02, -6.24818410e+01, -4.51825276e+03,  5.24227271e+03,\n",
       "       -3.27884721e+02,  1.15108058e+02, -5.48188311e+01,  5.28041779e+00,\n",
       "        6.38889670e+03, -6.88329863e+03,  4.57553423e+02,  3.01542514e+02,\n",
       "       -8.40832891e+01, -1.95544474e+03,  2.26302934e+03,  6.19309659e+02,\n",
       "       -2.67209938e+02, -3.14186444e+03,  3.03963326e+03, -4.40019977e+02,\n",
       "        7.60394833e+02, -1.03940423e+03, -1.77392624e+04,  3.23978682e+04,\n",
       "       -1.52652657e+04, -1.00877506e+03, -1.19722493e+03, -7.28041306e+00,\n",
       "       -5.69020325e+02, -1.68258307e+02,  1.24832309e+03, -2.15201634e+03,\n",
       "        4.43841267e+02,  9.24919427e+01,  1.84682921e+02,  5.46123778e+01,\n",
       "        2.59544607e+03, -3.10108523e+03,  1.49694232e+03,  2.89385554e+02,\n",
       "       -8.45416507e+01,  2.41277889e+03, -2.95387333e+03,  3.92418308e+02,\n",
       "        3.33883963e+01,  2.91422241e+03, -3.61140479e+03, -2.88844897e+01,\n",
       "        3.28605076e+02, -2.24900115e+02, -3.01230609e+04,  5.56559582e+04,\n",
       "       -2.73814270e+04,  8.37928748e+02,  2.17125243e+01, -4.90639221e+02,\n",
       "        3.71651483e+02, -1.26437940e+03,  2.32997130e+03,  1.89644213e+02,\n",
       "       -6.38743225e+01,  8.80766559e+00, -1.11553335e+03,  1.75129277e+03,\n",
       "       -5.49323070e+02, -1.72213936e+02, -2.25878154e+03,  2.76564586e+03,\n",
       "       -5.59435410e+02,  9.03499972e+02, -6.45676460e+02,  1.43139098e+04,\n",
       "       -1.77443557e+04,  2.56147225e+03, -2.61431291e+02,  8.09667698e+02,\n",
       "       -1.62553726e+02, -2.55914834e+03,  3.97868612e+03,  6.49896093e+02,\n",
       "        1.15306260e+02, -7.32473378e+02,  1.24259366e+03, -2.10729530e+02,\n",
       "       -5.11540640e+02,  5.78188981e+02,  1.42363252e+03, -2.02287812e+03,\n",
       "        1.07016544e+03, -3.43421873e+02,  1.09199293e+02, -1.73299765e+02,\n",
       "        3.32223261e+02,  1.84313889e+02,  1.31078335e+03, -1.23562473e+03,\n",
       "       -1.34364920e+03,  2.94179618e+03, -1.70696272e+03, -2.78332107e+03,\n",
       "        5.55771808e+03, -6.41444408e+03, -5.71335233e+03,  1.13882735e+04,\n",
       "       -5.84618031e+03,  7.73911276e+04, -2.56545551e+05,  2.91384739e+05,\n",
       "       -1.17178800e+05,  2.19888005e+02,  8.79494165e+01, -3.21137792e+02,\n",
       "        2.39958104e+02,  2.10877004e+02,  3.02384513e+02,  2.63922519e+03,\n",
       "       -2.80374336e+03, -6.07753271e+02, -9.77839177e+01, -8.26363051e+01,\n",
       "       -3.05709759e+02,  4.18913648e+01,  7.17066147e+02, -1.26277858e+03,\n",
       "        3.68513000e+02,  1.12765377e+02,  3.07724678e+01,  9.59717732e+01,\n",
       "       -2.61897184e+03,  2.78761641e+03,  3.73301847e+02, -1.05434032e+02,\n",
       "       -4.85823568e+00,  4.36000948e+02, -4.65645880e+02, -1.19679706e+03,\n",
       "        9.50502945e+01, -8.39344012e+01,  1.78231839e+02, -8.73795170e+01,\n",
       "        3.90429793e+02, -2.43317268e+02, -1.47594346e+03,  3.60093523e+03,\n",
       "       -2.43925068e+03,  1.95147943e+02,  3.32740028e+02,  5.98876150e+01,\n",
       "        1.30868888e+02, -5.68461062e+01,  1.80291822e+03, -1.80888047e+03,\n",
       "       -6.28124450e+00,  7.12900556e+01,  5.26513842e+01, -5.56419561e+00,\n",
       "        1.20966984e+03, -1.22811396e+03, -1.00610340e+02, -5.32903504e+01,\n",
       "        1.35067201e+01, -5.86852578e+02,  7.50108263e+02, -1.20972694e+02,\n",
       "        8.90216454e+01,  5.57471421e+02, -5.85747516e+02,  7.83433941e+01,\n",
       "        5.81388804e+02, -5.85577105e+02,  1.29205436e+04, -2.22044998e+04,\n",
       "        9.70890760e+03, -2.50537385e+01, -2.66792241e+01, -4.48404697e+01,\n",
       "       -1.44479050e+02, -1.77865228e+03,  1.90885934e+03, -2.29422014e+02,\n",
       "       -3.19127439e+00, -3.27870844e+01, -2.55065826e+02,  1.97532698e+02,\n",
       "        1.18177049e+01, -5.56271157e+01, -1.03011952e+02,  1.77599964e+02,\n",
       "        6.62736753e+01, -1.66415608e+03,  1.62989389e+03,  7.59326496e+03,\n",
       "       -1.38224112e+04,  6.47329705e+03, -2.64360247e+02, -1.26168128e+02,\n",
       "        9.42399617e+01,  1.42746672e+03, -1.73045774e+03,  5.77408931e+01,\n",
       "        9.09521718e+00,  3.16464877e+02, -3.26064653e+02,  1.08051928e+01,\n",
       "        1.37766779e+02, -1.53380481e+02, -1.97080744e+02, -8.06354551e+02,\n",
       "        1.34342511e+03,  8.15371063e+02,  1.74998702e+01,  2.92442181e+03,\n",
       "       -2.98271680e+03,  6.62061082e+01, -4.50098340e+02,  4.51170013e+02,\n",
       "       -2.55505894e+02,  2.34854120e+02,  7.79944112e+01,  1.66498508e+02,\n",
       "       -6.94447527e+02,  8.66046796e+02, -3.76703736e+03,  7.08116213e+03,\n",
       "       -3.37868431e+03, -5.48312283e+04,  1.53715211e+05, -1.47428377e+05,\n",
       "        4.99878631e+04,  2.27763981e+02,  1.98707402e+02,  5.49522819e+01,\n",
       "        8.95743876e+01,  1.21602710e+01, -2.00279581e+03,  2.09477500e+03,\n",
       "        2.59643591e+02,  6.19272145e+01,  9.35482028e+01, -4.91820157e+01,\n",
       "       -4.88143803e+02,  7.47432887e+02, -2.97538634e+02, -3.95278420e+01,\n",
       "        2.99009509e+01, -5.90060718e+02,  9.02000294e+02,  2.37911872e+02,\n",
       "       -3.77687415e+01, -4.41261867e+02,  5.50822717e+02,  2.36608475e+02,\n",
       "        3.04006618e+02, -2.56416454e+02,  3.93476004e+03, -4.16610921e+03,\n",
       "        6.59371706e+02, -4.15845564e+02, -1.19770609e+01, -7.47294291e+01,\n",
       "        1.38299946e+01, -1.07597696e+03,  1.14298169e+03, -1.56999431e+02,\n",
       "       -2.10285851e+01, -3.81025672e+01, -4.87363425e+02,  4.59521692e+02,\n",
       "       -3.01825648e+02,  2.12516956e+01,  9.10977626e+00,  2.11997229e+01,\n",
       "        3.65094107e+01, -6.89517917e+02,  6.70088968e+02, -6.01605219e+03,\n",
       "        8.04222331e+03, -2.08405194e+03, -4.79481234e+02, -6.71723133e+01,\n",
       "        4.00706949e+01, -1.26358531e+02,  7.29282949e+01, -8.56705849e+01,\n",
       "       -1.17688322e+01,  1.94893872e+02, -2.00514438e+02,  3.82469260e+01,\n",
       "       -2.03886005e+02,  1.75365969e+02,  5.16184615e+03, -1.19081214e+04,\n",
       "        7.13291473e+03, -1.85629154e+02, -6.12582793e+01, -2.50769060e+03,\n",
       "        3.04136446e+03, -2.34739898e+01, -4.40324234e+02,  4.82508307e+02,\n",
       "        7.30938384e+02, -1.32633919e+03,  6.61208548e+02, -2.51818439e+02,\n",
       "       -5.06482437e+02,  4.47458834e+02, -1.89122555e+03,  3.70070492e+03,\n",
       "       -1.92750236e+03, -3.41581491e+04,  1.06785027e+05, -1.15738066e+05,\n",
       "        4.43072572e+04, -8.11678704e+01, -1.06912597e+02,  4.66115632e+01,\n",
       "       -3.80123047e+01,  2.12497855e+03, -2.68095908e+03,  2.28513249e+02,\n",
       "        4.44013178e+01,  1.25768793e+01, -4.33646866e+00, -1.72494528e+02,\n",
       "        5.45569532e+02,  1.65119927e+01,  3.81057233e+02, -5.15055810e+02,\n",
       "       -1.41660089e+02,  8.90754301e+02, -1.05228895e+03, -1.70020230e+04,\n",
       "        2.52839191e+04, -8.02336169e+03, -3.16323833e+01, -5.78505706e+01,\n",
       "        1.89625716e+01,  9.91459073e+02, -1.17497435e+03,  1.06074935e+02,\n",
       "       -5.44286037e+00, -2.43191165e+02,  2.56078763e+02,  3.81324225e+01,\n",
       "        3.03786470e+02, -3.55339564e+02,  3.87976472e+03, -4.91392289e+03,\n",
       "        8.08664853e+02, -1.63353671e+01,  1.54557068e+02,  2.39419379e+03,\n",
       "       -2.95533347e+03,  2.98950699e+01,  2.59131806e+02, -2.60892886e+02,\n",
       "        4.96471209e+02, -2.20998781e+03,  1.83963443e+03,  3.96882345e+02,\n",
       "        1.73794978e+02, -1.73257025e+02,  5.35074680e+03, -1.20386629e+04,\n",
       "        6.83171622e+03,  1.47069500e+05, -3.57894019e+05,  2.85865161e+05,\n",
       "       -7.41187934e+04,  5.74064819e+02, -1.26352478e+02,  1.11377371e+01,\n",
       "        8.13629629e+01, -4.78821520e+02, -1.92955075e+02,  9.24910661e+00,\n",
       "        4.54322192e+01, -3.69624108e+02, -3.49096911e+00, -8.19386347e+01,\n",
       "        9.96548017e+01, -2.68352705e+03,  5.78465209e+03, -3.56313713e+03,\n",
       "       -2.20862480e+02, -1.09656455e+02,  5.27869187e+02, -6.25217485e+02,\n",
       "       -1.36695039e+01, -3.15979226e+01,  3.45832721e+01, -4.82602559e+01,\n",
       "       -2.85801571e+01,  5.37737828e+01,  7.90431792e+01,  2.76417748e+02,\n",
       "       -2.72690149e+02,  6.84155989e+02, -4.01060784e+02, -2.73441493e+02,\n",
       "       -8.39023645e+03,  1.60647007e+02,  2.15448752e+04, -1.51654213e+04,\n",
       "       -8.07954791e+01,  1.17166648e+02, -1.93870151e+03,  2.15587405e+03,\n",
       "       -2.27945112e+02, -3.11342412e+02,  2.15299625e+02, -1.80516912e+03,\n",
       "        4.26187574e+03, -2.32487226e+03, -1.86370171e+01, -3.04106195e+02,\n",
       "        3.21354409e+02,  1.61039056e+03, -2.63632263e+03,  1.01766125e+03,\n",
       "       -8.48732123e+03,  2.00619841e+04, -1.46967318e+04,  2.93758342e+03,\n",
       "        1.03241619e+03, -2.72934537e+03,  3.10257140e+03,  1.73977684e+03,\n",
       "       -3.42116633e+03,  1.79884183e+03,  1.02006930e+04, -1.52626235e+04,\n",
       "        1.78818821e+03,  3.28972771e+03, -3.92177226e+04,  5.04803315e+03,\n",
       "        1.73960038e+05, -2.15691321e+05,  7.77167392e+04])"
      ]
     },
     "execution_count": 52,
     "metadata": {},
     "output_type": "execute_result"
    }
   ],
   "source": [
    "lr.coef_"
   ]
  },
  {
   "cell_type": "code",
   "execution_count": 53,
   "id": "c3b7d8d9",
   "metadata": {},
   "outputs": [
    {
     "data": {
      "text/plain": [
       "4607.9677333746085"
      ]
     },
     "execution_count": 53,
     "metadata": {},
     "output_type": "execute_result"
    }
   ],
   "source": [
    "lr.intercept_"
   ]
  },
  {
   "cell_type": "code",
   "execution_count": 54,
   "id": "1efe1c68",
   "metadata": {},
   "outputs": [
    {
     "data": {
      "text/plain": [
       "array([50042.06480893,  2145.54220892,  3228.45845158, ...,\n",
       "        1563.94920627,  1347.52080775,  6178.69908585])"
      ]
     },
     "execution_count": 54,
     "metadata": {},
     "output_type": "execute_result"
    }
   ],
   "source": [
    "ypred=lr.predict(X_test)\n",
    "ypred"
   ]
  },
  {
   "cell_type": "code",
   "execution_count": 55,
   "id": "91150380",
   "metadata": {},
   "outputs": [
    {
     "data": {
      "text/html": [
       "<div>\n",
       "<style scoped>\n",
       "    .dataframe tbody tr th:only-of-type {\n",
       "        vertical-align: middle;\n",
       "    }\n",
       "\n",
       "    .dataframe tbody tr th {\n",
       "        vertical-align: top;\n",
       "    }\n",
       "\n",
       "    .dataframe thead th {\n",
       "        text-align: right;\n",
       "    }\n",
       "</style>\n",
       "<table border=\"1\" class=\"dataframe\">\n",
       "  <thead>\n",
       "    <tr style=\"text-align: right;\">\n",
       "      <th></th>\n",
       "      <th>Actaul op</th>\n",
       "      <th>Predict op</th>\n",
       "    </tr>\n",
       "  </thead>\n",
       "  <tbody>\n",
       "    <tr>\n",
       "      <th>16225</th>\n",
       "      <td>50948.0</td>\n",
       "      <td>50042.064809</td>\n",
       "    </tr>\n",
       "    <tr>\n",
       "      <th>884</th>\n",
       "      <td>1000.0</td>\n",
       "      <td>2145.542209</td>\n",
       "    </tr>\n",
       "    <tr>\n",
       "      <th>15721</th>\n",
       "      <td>3200.0</td>\n",
       "      <td>3228.458452</td>\n",
       "    </tr>\n",
       "    <tr>\n",
       "      <th>16787</th>\n",
       "      <td>8200.0</td>\n",
       "      <td>8261.164268</td>\n",
       "    </tr>\n",
       "    <tr>\n",
       "      <th>18298</th>\n",
       "      <td>7500.0</td>\n",
       "      <td>7510.317588</td>\n",
       "    </tr>\n",
       "    <tr>\n",
       "      <th>...</th>\n",
       "      <td>...</td>\n",
       "      <td>...</td>\n",
       "    </tr>\n",
       "    <tr>\n",
       "      <th>13063</th>\n",
       "      <td>7800.0</td>\n",
       "      <td>7591.647066</td>\n",
       "    </tr>\n",
       "    <tr>\n",
       "      <th>13716</th>\n",
       "      <td>2590.0</td>\n",
       "      <td>2539.166878</td>\n",
       "    </tr>\n",
       "    <tr>\n",
       "      <th>4461</th>\n",
       "      <td>1550.0</td>\n",
       "      <td>1563.949206</td>\n",
       "    </tr>\n",
       "    <tr>\n",
       "      <th>6112</th>\n",
       "      <td>1200.0</td>\n",
       "      <td>1347.520808</td>\n",
       "    </tr>\n",
       "    <tr>\n",
       "      <th>63</th>\n",
       "      <td>6000.0</td>\n",
       "      <td>6178.699086</td>\n",
       "    </tr>\n",
       "  </tbody>\n",
       "</table>\n",
       "<p>6928 rows × 2 columns</p>\n",
       "</div>"
      ],
      "text/plain": [
       "       Actaul op    Predict op\n",
       "16225    50948.0  50042.064809\n",
       "884       1000.0   2145.542209\n",
       "15721     3200.0   3228.458452\n",
       "16787     8200.0   8261.164268\n",
       "18298     7500.0   7510.317588\n",
       "...          ...           ...\n",
       "13063     7800.0   7591.647066\n",
       "13716     2590.0   2539.166878\n",
       "4461      1550.0   1563.949206\n",
       "6112      1200.0   1347.520808\n",
       "63        6000.0   6178.699086\n",
       "\n",
       "[6928 rows x 2 columns]"
      ]
     },
     "execution_count": 55,
     "metadata": {},
     "output_type": "execute_result"
    }
   ],
   "source": [
    "dict={\"Actaul op\":Y_test,\"Predict op\":ypred}\n",
    "df1=pd.DataFrame(dict)\n",
    "df1"
   ]
  },
  {
   "cell_type": "code",
   "execution_count": 56,
   "id": "410398a4",
   "metadata": {},
   "outputs": [
    {
     "name": "stdout",
     "output_type": "stream",
     "text": [
      "mean square error 9210807.514006276\n"
     ]
    }
   ],
   "source": [
    "print(\"mean square error\",mean_squared_error(Y_test,ypred))\n"
   ]
  },
  {
   "cell_type": "code",
   "execution_count": 57,
   "id": "944380eb",
   "metadata": {},
   "outputs": [
    {
     "name": "stdout",
     "output_type": "stream",
     "text": [
      "root mean square error 3034.9312206384966\n"
     ]
    }
   ],
   "source": [
    "mse=mean_squared_error(Y_test,ypred)\n",
    "rmse=np.sqrt(mse)\n",
    "print(\"root mean square error\",rmse)"
   ]
  },
  {
   "cell_type": "code",
   "execution_count": 58,
   "id": "79afb873",
   "metadata": {},
   "outputs": [
    {
     "name": "stdout",
     "output_type": "stream",
     "text": [
      "0.7528943457350447\n"
     ]
    }
   ],
   "source": [
    "print(r2_score(Y_test,ypred))"
   ]
  },
  {
   "cell_type": "code",
   "execution_count": 59,
   "id": "2294b3df",
   "metadata": {},
   "outputs": [
    {
     "data": {
      "text/plain": [
       "16225     905.935191\n",
       "884     -1145.542209\n",
       "15721     -28.458452\n",
       "16787     -61.164268\n",
       "18298     -10.317588\n",
       "            ...     \n",
       "13063     208.352934\n",
       "13716      50.833122\n",
       "4461      -13.949206\n",
       "6112     -147.520808\n",
       "63       -178.699086\n",
       "Name: Modal Price, Length: 6928, dtype: float64"
      ]
     },
     "execution_count": 59,
     "metadata": {},
     "output_type": "execute_result"
    }
   ],
   "source": [
    "residual_error=Y_test-ypred\n",
    "residual_error"
   ]
  },
  {
   "cell_type": "code",
   "execution_count": 60,
   "id": "bc1d0e6a",
   "metadata": {},
   "outputs": [
    {
     "data": {
      "text/plain": [
       "<matplotlib.collections.PathCollection at 0x1d7c5ddd210>"
      ]
     },
     "execution_count": 60,
     "metadata": {},
     "output_type": "execute_result"
    },
    {
     "data": {
      "image/png": "[encoded data removed]",
      "text/plain": [
       "<Figure size 640x480 with 1 Axes>"
      ]
     },
     "metadata": {},
     "output_type": "display_data"
    }
   ],
   "source": [
    "plt.scatter(ypred,residual_error)"
   ]
  },
  {
   "cell_type": "code",
   "execution_count": 61,
   "id": "e5404290",
   "metadata": {},
   "outputs": [
    {
     "data": {
      "image/png": "[encoded data removed]",
      "text/plain": [
       "<Figure size 640x480 with 1 Axes>"
      ]
     },
     "metadata": {},
     "output_type": "display_data"
    }
   ],
   "source": [
    "sb.histplot(residual_error)\n",
    "plt.show()"
   ]
  },
  {
   "cell_type": "code",
   "execution_count": 62,
   "id": "300b8c83",
   "metadata": {},
   "outputs": [
    {
     "data": {
      "image/png": "[encoded data removed]",
      "text/plain": [
       "<Figure size 640x480 with 1 Axes>"
      ]
     },
     "metadata": {},
     "output_type": "display_data"
    }
   ],
   "source": [
    "sb.distplot(residual_error,hist=True)\n",
    "plt.show()"
   ]
  },
  {
   "cell_type": "code",
   "execution_count": 63,
   "id": "b743d71e",
   "metadata": {},
   "outputs": [
    {
     "data": {
      "image/png": "[encoded data removed]",
      "text/plain": [
       "<Figure size 640x480 with 1 Axes>"
      ]
     },
     "metadata": {},
     "output_type": "display_data"
    }
   ],
   "source": [
    "sb.distplot(residual_error,hist=False)\n",
    "plt.show()"
   ]
  },
  {
   "cell_type": "code",
   "execution_count": 64,
   "id": "627825f3",
   "metadata": {},
   "outputs": [
    {
     "name": "stdout",
     "output_type": "stream",
     "text": [
      "-68.91738945886179\n"
     ]
    }
   ],
   "source": [
    "print(residual_error.skew())"
   ]
  },
  {
   "cell_type": "code",
   "execution_count": null,
   "id": "70780508",
   "metadata": {},
   "outputs": [],
   "source": []
  }
 ],
 "metadata": {
  "kernelspec": {
   "display_name": "Python 3 (ipykernel)",
   "language": "python",
   "name": "python3"
  },
  "language_info": {
   "codemirror_mode": {
    "name": "ipython",
    "version": 3
   },
   "file_extension": ".py",
   "mimetype": "text/x-python",
   "name": "python",
   "nbconvert_exporter": "python",
   "pygments_lexer": "ipython3",
   "version": "3.11.3"
  }
 },
 "nbformat": 4,
 "nbformat_minor": 5
}
