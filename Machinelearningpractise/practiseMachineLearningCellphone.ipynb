{
 "cells": [
  {
   "cell_type": "code",
   "execution_count": 1,
   "id": "7d67a7fc",
   "metadata": {},
   "outputs": [],
   "source": [
    "import numpy as np\n",
    "import pandas as pd\n",
    "import matplotlib.pyplot as plt\n",
    "import seaborn as sb\n",
    "import warnings\n",
    "warnings.filterwarnings('ignore')"
   ]
  },
  {
   "cell_type": "code",
   "execution_count": 2,
   "id": "8f99a8f9",
   "metadata": {},
   "outputs": [
    {
     "data": {
      "text/html": [
       "<div>\n",
       "<style scoped>\n",
       "    .dataframe tbody tr th:only-of-type {\n",
       "        vertical-align: middle;\n",
       "    }\n",
       "\n",
       "    .dataframe tbody tr th {\n",
       "        vertical-align: top;\n",
       "    }\n",
       "\n",
       "    .dataframe thead th {\n",
       "        text-align: right;\n",
       "    }\n",
       "</style>\n",
       "<table border=\"1\" class=\"dataframe\">\n",
       "  <thead>\n",
       "    <tr style=\"text-align: right;\">\n",
       "      <th></th>\n",
       "      <th>Product_id</th>\n",
       "      <th>Price</th>\n",
       "      <th>Sale</th>\n",
       "      <th>weight</th>\n",
       "      <th>resoloution</th>\n",
       "      <th>ppi</th>\n",
       "      <th>cpu core</th>\n",
       "      <th>cpu freq</th>\n",
       "      <th>internal mem</th>\n",
       "      <th>ram</th>\n",
       "      <th>RearCam</th>\n",
       "      <th>Front_Cam</th>\n",
       "      <th>battery</th>\n",
       "      <th>thickness</th>\n",
       "    </tr>\n",
       "  </thead>\n",
       "  <tbody>\n",
       "    <tr>\n",
       "      <th>0</th>\n",
       "      <td>203</td>\n",
       "      <td>2357</td>\n",
       "      <td>10</td>\n",
       "      <td>135.0</td>\n",
       "      <td>5.20</td>\n",
       "      <td>424</td>\n",
       "      <td>8</td>\n",
       "      <td>1.350</td>\n",
       "      <td>16.0</td>\n",
       "      <td>3.000</td>\n",
       "      <td>13.00</td>\n",
       "      <td>8.0</td>\n",
       "      <td>2610</td>\n",
       "      <td>7.4</td>\n",
       "    </tr>\n",
       "    <tr>\n",
       "      <th>1</th>\n",
       "      <td>880</td>\n",
       "      <td>1749</td>\n",
       "      <td>10</td>\n",
       "      <td>125.0</td>\n",
       "      <td>4.00</td>\n",
       "      <td>233</td>\n",
       "      <td>2</td>\n",
       "      <td>1.300</td>\n",
       "      <td>4.0</td>\n",
       "      <td>1.000</td>\n",
       "      <td>3.15</td>\n",
       "      <td>0.0</td>\n",
       "      <td>1700</td>\n",
       "      <td>9.9</td>\n",
       "    </tr>\n",
       "    <tr>\n",
       "      <th>2</th>\n",
       "      <td>40</td>\n",
       "      <td>1916</td>\n",
       "      <td>10</td>\n",
       "      <td>110.0</td>\n",
       "      <td>4.70</td>\n",
       "      <td>312</td>\n",
       "      <td>4</td>\n",
       "      <td>1.200</td>\n",
       "      <td>8.0</td>\n",
       "      <td>1.500</td>\n",
       "      <td>13.00</td>\n",
       "      <td>5.0</td>\n",
       "      <td>2000</td>\n",
       "      <td>7.6</td>\n",
       "    </tr>\n",
       "    <tr>\n",
       "      <th>3</th>\n",
       "      <td>99</td>\n",
       "      <td>1315</td>\n",
       "      <td>11</td>\n",
       "      <td>118.5</td>\n",
       "      <td>4.00</td>\n",
       "      <td>233</td>\n",
       "      <td>2</td>\n",
       "      <td>1.300</td>\n",
       "      <td>4.0</td>\n",
       "      <td>0.512</td>\n",
       "      <td>3.15</td>\n",
       "      <td>0.0</td>\n",
       "      <td>1400</td>\n",
       "      <td>11.0</td>\n",
       "    </tr>\n",
       "    <tr>\n",
       "      <th>4</th>\n",
       "      <td>880</td>\n",
       "      <td>1749</td>\n",
       "      <td>11</td>\n",
       "      <td>125.0</td>\n",
       "      <td>4.00</td>\n",
       "      <td>233</td>\n",
       "      <td>2</td>\n",
       "      <td>1.300</td>\n",
       "      <td>4.0</td>\n",
       "      <td>1.000</td>\n",
       "      <td>3.15</td>\n",
       "      <td>0.0</td>\n",
       "      <td>1700</td>\n",
       "      <td>9.9</td>\n",
       "    </tr>\n",
       "    <tr>\n",
       "      <th>...</th>\n",
       "      <td>...</td>\n",
       "      <td>...</td>\n",
       "      <td>...</td>\n",
       "      <td>...</td>\n",
       "      <td>...</td>\n",
       "      <td>...</td>\n",
       "      <td>...</td>\n",
       "      <td>...</td>\n",
       "      <td>...</td>\n",
       "      <td>...</td>\n",
       "      <td>...</td>\n",
       "      <td>...</td>\n",
       "      <td>...</td>\n",
       "      <td>...</td>\n",
       "    </tr>\n",
       "    <tr>\n",
       "      <th>156</th>\n",
       "      <td>1206</td>\n",
       "      <td>3551</td>\n",
       "      <td>4638</td>\n",
       "      <td>178.0</td>\n",
       "      <td>5.46</td>\n",
       "      <td>538</td>\n",
       "      <td>4</td>\n",
       "      <td>1.875</td>\n",
       "      <td>128.0</td>\n",
       "      <td>6.000</td>\n",
       "      <td>12.00</td>\n",
       "      <td>16.0</td>\n",
       "      <td>4080</td>\n",
       "      <td>8.4</td>\n",
       "    </tr>\n",
       "    <tr>\n",
       "      <th>157</th>\n",
       "      <td>1296</td>\n",
       "      <td>3211</td>\n",
       "      <td>8016</td>\n",
       "      <td>170.0</td>\n",
       "      <td>5.50</td>\n",
       "      <td>534</td>\n",
       "      <td>4</td>\n",
       "      <td>1.975</td>\n",
       "      <td>128.0</td>\n",
       "      <td>6.000</td>\n",
       "      <td>20.00</td>\n",
       "      <td>8.0</td>\n",
       "      <td>3400</td>\n",
       "      <td>7.9</td>\n",
       "    </tr>\n",
       "    <tr>\n",
       "      <th>158</th>\n",
       "      <td>856</td>\n",
       "      <td>3260</td>\n",
       "      <td>8809</td>\n",
       "      <td>150.0</td>\n",
       "      <td>5.50</td>\n",
       "      <td>401</td>\n",
       "      <td>8</td>\n",
       "      <td>2.200</td>\n",
       "      <td>64.0</td>\n",
       "      <td>4.000</td>\n",
       "      <td>20.00</td>\n",
       "      <td>20.0</td>\n",
       "      <td>3000</td>\n",
       "      <td>6.8</td>\n",
       "    </tr>\n",
       "    <tr>\n",
       "      <th>159</th>\n",
       "      <td>1296</td>\n",
       "      <td>3211</td>\n",
       "      <td>8946</td>\n",
       "      <td>170.0</td>\n",
       "      <td>5.50</td>\n",
       "      <td>534</td>\n",
       "      <td>4</td>\n",
       "      <td>1.975</td>\n",
       "      <td>128.0</td>\n",
       "      <td>6.000</td>\n",
       "      <td>20.00</td>\n",
       "      <td>8.0</td>\n",
       "      <td>3400</td>\n",
       "      <td>7.9</td>\n",
       "    </tr>\n",
       "    <tr>\n",
       "      <th>160</th>\n",
       "      <td>1131</td>\n",
       "      <td>2536</td>\n",
       "      <td>9807</td>\n",
       "      <td>202.0</td>\n",
       "      <td>6.00</td>\n",
       "      <td>367</td>\n",
       "      <td>8</td>\n",
       "      <td>1.500</td>\n",
       "      <td>16.0</td>\n",
       "      <td>3.000</td>\n",
       "      <td>21.50</td>\n",
       "      <td>16.0</td>\n",
       "      <td>2700</td>\n",
       "      <td>8.4</td>\n",
       "    </tr>\n",
       "  </tbody>\n",
       "</table>\n",
       "<p>161 rows × 14 columns</p>\n",
       "</div>"
      ],
      "text/plain": [
       "     Product_id  Price  Sale  weight  resoloution  ppi  cpu core  cpu freq  \\\n",
       "0           203   2357    10   135.0         5.20  424         8     1.350   \n",
       "1           880   1749    10   125.0         4.00  233         2     1.300   \n",
       "2            40   1916    10   110.0         4.70  312         4     1.200   \n",
       "3            99   1315    11   118.5         4.00  233         2     1.300   \n",
       "4           880   1749    11   125.0         4.00  233         2     1.300   \n",
       "..          ...    ...   ...     ...          ...  ...       ...       ...   \n",
       "156        1206   3551  4638   178.0         5.46  538         4     1.875   \n",
       "157        1296   3211  8016   170.0         5.50  534         4     1.975   \n",
       "158         856   3260  8809   150.0         5.50  401         8     2.200   \n",
       "159        1296   3211  8946   170.0         5.50  534         4     1.975   \n",
       "160        1131   2536  9807   202.0         6.00  367         8     1.500   \n",
       "\n",
       "     internal mem    ram  RearCam  Front_Cam  battery  thickness  \n",
       "0            16.0  3.000    13.00        8.0     2610        7.4  \n",
       "1             4.0  1.000     3.15        0.0     1700        9.9  \n",
       "2             8.0  1.500    13.00        5.0     2000        7.6  \n",
       "3             4.0  0.512     3.15        0.0     1400       11.0  \n",
       "4             4.0  1.000     3.15        0.0     1700        9.9  \n",
       "..            ...    ...      ...        ...      ...        ...  \n",
       "156         128.0  6.000    12.00       16.0     4080        8.4  \n",
       "157         128.0  6.000    20.00        8.0     3400        7.9  \n",
       "158          64.0  4.000    20.00       20.0     3000        6.8  \n",
       "159         128.0  6.000    20.00        8.0     3400        7.9  \n",
       "160          16.0  3.000    21.50       16.0     2700        8.4  \n",
       "\n",
       "[161 rows x 14 columns]"
      ]
     },
     "execution_count": 2,
     "metadata": {},
     "output_type": "execute_result"
    }
   ],
   "source": [
    "df=pd.read_csv('Cellphone.csv')\n",
    "df"
   ]
  },
  {
   "cell_type": "code",
   "execution_count": 3,
   "id": "035dd4f5",
   "metadata": {},
   "outputs": [
    {
     "data": {
      "text/html": [
       "<div>\n",
       "<style scoped>\n",
       "    .dataframe tbody tr th:only-of-type {\n",
       "        vertical-align: middle;\n",
       "    }\n",
       "\n",
       "    .dataframe tbody tr th {\n",
       "        vertical-align: top;\n",
       "    }\n",
       "\n",
       "    .dataframe thead th {\n",
       "        text-align: right;\n",
       "    }\n",
       "</style>\n",
       "<table border=\"1\" class=\"dataframe\">\n",
       "  <thead>\n",
       "    <tr style=\"text-align: right;\">\n",
       "      <th></th>\n",
       "      <th>Product_id</th>\n",
       "      <th>Price</th>\n",
       "      <th>Sale</th>\n",
       "      <th>weight</th>\n",
       "      <th>resoloution</th>\n",
       "      <th>ppi</th>\n",
       "      <th>cpu core</th>\n",
       "      <th>cpu freq</th>\n",
       "      <th>internal mem</th>\n",
       "      <th>ram</th>\n",
       "      <th>RearCam</th>\n",
       "      <th>Front_Cam</th>\n",
       "      <th>battery</th>\n",
       "      <th>thickness</th>\n",
       "    </tr>\n",
       "  </thead>\n",
       "  <tbody>\n",
       "    <tr>\n",
       "      <th>0</th>\n",
       "      <td>203</td>\n",
       "      <td>2357</td>\n",
       "      <td>10</td>\n",
       "      <td>135.0</td>\n",
       "      <td>5.20</td>\n",
       "      <td>424</td>\n",
       "      <td>8</td>\n",
       "      <td>1.350</td>\n",
       "      <td>16.0</td>\n",
       "      <td>3.000</td>\n",
       "      <td>13.00</td>\n",
       "      <td>8.0</td>\n",
       "      <td>2610</td>\n",
       "      <td>7.4</td>\n",
       "    </tr>\n",
       "    <tr>\n",
       "      <th>1</th>\n",
       "      <td>880</td>\n",
       "      <td>1749</td>\n",
       "      <td>10</td>\n",
       "      <td>125.0</td>\n",
       "      <td>4.00</td>\n",
       "      <td>233</td>\n",
       "      <td>2</td>\n",
       "      <td>1.300</td>\n",
       "      <td>4.0</td>\n",
       "      <td>1.000</td>\n",
       "      <td>3.15</td>\n",
       "      <td>0.0</td>\n",
       "      <td>1700</td>\n",
       "      <td>9.9</td>\n",
       "    </tr>\n",
       "    <tr>\n",
       "      <th>2</th>\n",
       "      <td>40</td>\n",
       "      <td>1916</td>\n",
       "      <td>10</td>\n",
       "      <td>110.0</td>\n",
       "      <td>4.70</td>\n",
       "      <td>312</td>\n",
       "      <td>4</td>\n",
       "      <td>1.200</td>\n",
       "      <td>8.0</td>\n",
       "      <td>1.500</td>\n",
       "      <td>13.00</td>\n",
       "      <td>5.0</td>\n",
       "      <td>2000</td>\n",
       "      <td>7.6</td>\n",
       "    </tr>\n",
       "    <tr>\n",
       "      <th>3</th>\n",
       "      <td>99</td>\n",
       "      <td>1315</td>\n",
       "      <td>11</td>\n",
       "      <td>118.5</td>\n",
       "      <td>4.00</td>\n",
       "      <td>233</td>\n",
       "      <td>2</td>\n",
       "      <td>1.300</td>\n",
       "      <td>4.0</td>\n",
       "      <td>0.512</td>\n",
       "      <td>3.15</td>\n",
       "      <td>0.0</td>\n",
       "      <td>1400</td>\n",
       "      <td>11.0</td>\n",
       "    </tr>\n",
       "    <tr>\n",
       "      <th>4</th>\n",
       "      <td>880</td>\n",
       "      <td>1749</td>\n",
       "      <td>11</td>\n",
       "      <td>125.0</td>\n",
       "      <td>4.00</td>\n",
       "      <td>233</td>\n",
       "      <td>2</td>\n",
       "      <td>1.300</td>\n",
       "      <td>4.0</td>\n",
       "      <td>1.000</td>\n",
       "      <td>3.15</td>\n",
       "      <td>0.0</td>\n",
       "      <td>1700</td>\n",
       "      <td>9.9</td>\n",
       "    </tr>\n",
       "    <tr>\n",
       "      <th>...</th>\n",
       "      <td>...</td>\n",
       "      <td>...</td>\n",
       "      <td>...</td>\n",
       "      <td>...</td>\n",
       "      <td>...</td>\n",
       "      <td>...</td>\n",
       "      <td>...</td>\n",
       "      <td>...</td>\n",
       "      <td>...</td>\n",
       "      <td>...</td>\n",
       "      <td>...</td>\n",
       "      <td>...</td>\n",
       "      <td>...</td>\n",
       "      <td>...</td>\n",
       "    </tr>\n",
       "    <tr>\n",
       "      <th>156</th>\n",
       "      <td>1206</td>\n",
       "      <td>3551</td>\n",
       "      <td>4638</td>\n",
       "      <td>178.0</td>\n",
       "      <td>5.46</td>\n",
       "      <td>538</td>\n",
       "      <td>4</td>\n",
       "      <td>1.875</td>\n",
       "      <td>128.0</td>\n",
       "      <td>6.000</td>\n",
       "      <td>12.00</td>\n",
       "      <td>16.0</td>\n",
       "      <td>4080</td>\n",
       "      <td>8.4</td>\n",
       "    </tr>\n",
       "    <tr>\n",
       "      <th>157</th>\n",
       "      <td>1296</td>\n",
       "      <td>3211</td>\n",
       "      <td>8016</td>\n",
       "      <td>170.0</td>\n",
       "      <td>5.50</td>\n",
       "      <td>534</td>\n",
       "      <td>4</td>\n",
       "      <td>1.975</td>\n",
       "      <td>128.0</td>\n",
       "      <td>6.000</td>\n",
       "      <td>20.00</td>\n",
       "      <td>8.0</td>\n",
       "      <td>3400</td>\n",
       "      <td>7.9</td>\n",
       "    </tr>\n",
       "    <tr>\n",
       "      <th>158</th>\n",
       "      <td>856</td>\n",
       "      <td>3260</td>\n",
       "      <td>8809</td>\n",
       "      <td>150.0</td>\n",
       "      <td>5.50</td>\n",
       "      <td>401</td>\n",
       "      <td>8</td>\n",
       "      <td>2.200</td>\n",
       "      <td>64.0</td>\n",
       "      <td>4.000</td>\n",
       "      <td>20.00</td>\n",
       "      <td>20.0</td>\n",
       "      <td>3000</td>\n",
       "      <td>6.8</td>\n",
       "    </tr>\n",
       "    <tr>\n",
       "      <th>159</th>\n",
       "      <td>1296</td>\n",
       "      <td>3211</td>\n",
       "      <td>8946</td>\n",
       "      <td>170.0</td>\n",
       "      <td>5.50</td>\n",
       "      <td>534</td>\n",
       "      <td>4</td>\n",
       "      <td>1.975</td>\n",
       "      <td>128.0</td>\n",
       "      <td>6.000</td>\n",
       "      <td>20.00</td>\n",
       "      <td>8.0</td>\n",
       "      <td>3400</td>\n",
       "      <td>7.9</td>\n",
       "    </tr>\n",
       "    <tr>\n",
       "      <th>160</th>\n",
       "      <td>1131</td>\n",
       "      <td>2536</td>\n",
       "      <td>9807</td>\n",
       "      <td>202.0</td>\n",
       "      <td>6.00</td>\n",
       "      <td>367</td>\n",
       "      <td>8</td>\n",
       "      <td>1.500</td>\n",
       "      <td>16.0</td>\n",
       "      <td>3.000</td>\n",
       "      <td>21.50</td>\n",
       "      <td>16.0</td>\n",
       "      <td>2700</td>\n",
       "      <td>8.4</td>\n",
       "    </tr>\n",
       "  </tbody>\n",
       "</table>\n",
       "<p>161 rows × 14 columns</p>\n",
       "</div>"
      ],
      "text/plain": [
       "     Product_id  Price  Sale  weight  resoloution  ppi  cpu core  cpu freq  \\\n",
       "0           203   2357    10   135.0         5.20  424         8     1.350   \n",
       "1           880   1749    10   125.0         4.00  233         2     1.300   \n",
       "2            40   1916    10   110.0         4.70  312         4     1.200   \n",
       "3            99   1315    11   118.5         4.00  233         2     1.300   \n",
       "4           880   1749    11   125.0         4.00  233         2     1.300   \n",
       "..          ...    ...   ...     ...          ...  ...       ...       ...   \n",
       "156        1206   3551  4638   178.0         5.46  538         4     1.875   \n",
       "157        1296   3211  8016   170.0         5.50  534         4     1.975   \n",
       "158         856   3260  8809   150.0         5.50  401         8     2.200   \n",
       "159        1296   3211  8946   170.0         5.50  534         4     1.975   \n",
       "160        1131   2536  9807   202.0         6.00  367         8     1.500   \n",
       "\n",
       "     internal mem    ram  RearCam  Front_Cam  battery  thickness  \n",
       "0            16.0  3.000    13.00        8.0     2610        7.4  \n",
       "1             4.0  1.000     3.15        0.0     1700        9.9  \n",
       "2             8.0  1.500    13.00        5.0     2000        7.6  \n",
       "3             4.0  0.512     3.15        0.0     1400       11.0  \n",
       "4             4.0  1.000     3.15        0.0     1700        9.9  \n",
       "..            ...    ...      ...        ...      ...        ...  \n",
       "156         128.0  6.000    12.00       16.0     4080        8.4  \n",
       "157         128.0  6.000    20.00        8.0     3400        7.9  \n",
       "158          64.0  4.000    20.00       20.0     3000        6.8  \n",
       "159         128.0  6.000    20.00        8.0     3400        7.9  \n",
       "160          16.0  3.000    21.50       16.0     2700        8.4  \n",
       "\n",
       "[161 rows x 14 columns]"
      ]
     },
     "execution_count": 3,
     "metadata": {},
     "output_type": "execute_result"
    }
   ],
   "source": [
    "df"
   ]
  },
  {
   "cell_type": "code",
   "execution_count": 4,
   "id": "7c261b21",
   "metadata": {},
   "outputs": [
    {
     "data": {
      "text/plain": [
       "Product_id        int64\n",
       "Price             int64\n",
       "Sale              int64\n",
       "weight          float64\n",
       "resoloution     float64\n",
       "ppi               int64\n",
       "cpu core          int64\n",
       "cpu freq        float64\n",
       "internal mem    float64\n",
       "ram             float64\n",
       "RearCam         float64\n",
       "Front_Cam       float64\n",
       "battery           int64\n",
       "thickness       float64\n",
       "dtype: object"
      ]
     },
     "execution_count": 4,
     "metadata": {},
     "output_type": "execute_result"
    }
   ],
   "source": [
    "df.dtypes"
   ]
  },
  {
   "cell_type": "code",
   "execution_count": 5,
   "id": "a2d79545",
   "metadata": {},
   "outputs": [
    {
     "data": {
      "text/plain": [
       "Product_id      0.0\n",
       "Price           0.0\n",
       "Sale            0.0\n",
       "weight          0.0\n",
       "resoloution     0.0\n",
       "ppi             0.0\n",
       "cpu core        0.0\n",
       "cpu freq        0.0\n",
       "internal mem    0.0\n",
       "ram             0.0\n",
       "RearCam         0.0\n",
       "Front_Cam       0.0\n",
       "battery         0.0\n",
       "thickness       0.0\n",
       "dtype: float64"
      ]
     },
     "execution_count": 5,
     "metadata": {},
     "output_type": "execute_result"
    }
   ],
   "source": [
    "df.isnull().sum()/df.shape[0]*100"
   ]
  },
  {
   "cell_type": "code",
   "execution_count": 6,
   "id": "ff9c0926",
   "metadata": {},
   "outputs": [
    {
     "data": {
      "text/plain": [
       "<Axes: >"
      ]
     },
     "execution_count": 6,
     "metadata": {},
     "output_type": "execute_result"
    },
    {
     "data": {
      "image/png": "[encoded data removed]",
      "text/plain": [
       "<Figure size 640x480 with 2 Axes>"
      ]
     },
     "metadata": {},
     "output_type": "display_data"
    }
   ],
   "source": [
    "sb.heatmap(df.isnull())"
   ]
  },
  {
   "cell_type": "code",
   "execution_count": 7,
   "id": "f5473668",
   "metadata": {},
   "outputs": [],
   "source": [
    "X=df.drop('Price',axis=1)\n",
    "Y=df['Price']"
   ]
  },
  {
   "cell_type": "code",
   "execution_count": 8,
   "id": "ab2c9de5",
   "metadata": {},
   "outputs": [],
   "source": [
    "from sklearn.model_selection import train_test_split\n",
    "X_train,X_test,Y_train,Y_test=train_test_split(X,Y,test_size=0.3,random_state=1)"
   ]
  },
  {
   "cell_type": "code",
   "execution_count": 9,
   "id": "24d6c85a",
   "metadata": {},
   "outputs": [
    {
     "data": {
      "text/plain": [
       "(112, 13)"
      ]
     },
     "execution_count": 9,
     "metadata": {},
     "output_type": "execute_result"
    }
   ],
   "source": [
    "X_train.shape"
   ]
  },
  {
   "cell_type": "code",
   "execution_count": 10,
   "id": "c201ae11",
   "metadata": {},
   "outputs": [
    {
     "data": {
      "text/plain": [
       "(49, 13)"
      ]
     },
     "execution_count": 10,
     "metadata": {},
     "output_type": "execute_result"
    }
   ],
   "source": [
    "X_test.shape"
   ]
  },
  {
   "cell_type": "code",
   "execution_count": 11,
   "id": "54cd659e",
   "metadata": {},
   "outputs": [
    {
     "data": {
      "text/plain": [
       "(112,)"
      ]
     },
     "execution_count": 11,
     "metadata": {},
     "output_type": "execute_result"
    }
   ],
   "source": [
    "Y_train.shape"
   ]
  },
  {
   "cell_type": "code",
   "execution_count": 12,
   "id": "e8892059",
   "metadata": {},
   "outputs": [
    {
     "data": {
      "text/plain": [
       "(49,)"
      ]
     },
     "execution_count": 12,
     "metadata": {},
     "output_type": "execute_result"
    }
   ],
   "source": [
    "Y_test.shape"
   ]
  },
  {
   "cell_type": "code",
   "execution_count": 13,
   "id": "078ddfd2",
   "metadata": {},
   "outputs": [],
   "source": [
    "from sklearn.preprocessing import StandardScaler\n",
    "ss=StandardScaler()\n",
    "X_train=ss.fit_transform(X_train)\n",
    "X_test=ss.transform(X_test)"
   ]
  },
  {
   "cell_type": "code",
   "execution_count": 14,
   "id": "db8fc3ae",
   "metadata": {},
   "outputs": [
    {
     "data": {
      "text/plain": [
       "array([[ 0.34422544, -0.27622811, -0.92093241, ..., -1.09865923,\n",
       "        -1.19646382,  1.79391861],\n",
       "       [ 0.21753628, -0.40987378, -0.22106556, ...,  0.1208634 ,\n",
       "        -0.64637112, -0.0647624 ],\n",
       "       [ 1.390032  , -0.39067998,  0.00670176, ...,  0.85257698,\n",
       "         0.34106235, -0.65410029],\n",
       "       ...,\n",
       "       [-1.57101651, -0.36153386,  1.47683626, ..., -0.61085018,\n",
       "         0.82623728, -0.74476765],\n",
       "       [ 0.0312287 ,  0.44247276, -0.66728244, ..., -1.09865923,\n",
       "        -1.29896557,  4.33260487],\n",
       "       [-0.06565124, -0.40276496,  3.33003397, ..., -0.61085018,\n",
       "         3.10860947, -0.51809924]])"
      ]
     },
     "execution_count": 14,
     "metadata": {},
     "output_type": "execute_result"
    }
   ],
   "source": [
    "X_train"
   ]
  },
  {
   "cell_type": "code",
   "execution_count": 15,
   "id": "321b96cf",
   "metadata": {},
   "outputs": [
    {
     "data": {
      "text/plain": [
       "array([[ 7.09388301e-01, -3.99210559e-01,  1.70548174e-02,\n",
       "         3.65930051e-01,  1.23505870e+00, -3.60220699e-01,\n",
       "         6.26897421e-01,  1.27468669e+00,  1.05210950e+00,\n",
       "         2.37116029e-01,  1.20863404e-01,  4.43564099e-01,\n",
       "        -4.72765554e-01],\n",
       "       [ 1.13416959e+00, -3.98499678e-01, -2.41771679e-01,\n",
       "         4.29657822e-02,  6.08494842e-01,  1.23758993e+00,\n",
       "         4.19496993e-01,  2.24820231e-01,  4.45194113e-01,\n",
       "         1.62145311e+00,  1.45253857e-01,  5.40574680e-02,\n",
       "        -9.26102387e-01],\n",
       "       [-1.55114370e+00, -2.15092334e-01, -9.26108936e-01,\n",
       "        -1.76563412e+00, -1.27119672e+00, -1.95803132e+00,\n",
       "        -2.48410899e+00, -8.24914992e-01, -1.37312439e+00,\n",
       "        -1.67231442e+00, -1.09865923e+00, -1.36730006e+00,\n",
       "         1.56725019e+00],\n",
       "       [-1.54617550e+00, -3.55846807e-01,  1.15589140e+00,\n",
       "         1.20563715e+00, -1.24959107e+00, -3.60220699e-01,\n",
       "        -4.93064888e-01, -6.93812918e-01, -7.68636663e-01,\n",
       "        -1.19495681e+00, -1.09865923e+00,  2.65894408e-01,\n",
       "         2.59049619e-02],\n",
       "       [ 4.16264371e-01,  5.83450649e+00, -1.79653320e-01,\n",
       "         2.36744344e-01,  4.14043991e-01,  1.23758993e+00,\n",
       "         1.16613853e+00,  1.27468669e+00,  1.05210950e+00,\n",
       "         1.51006966e+00,  3.77943131e+00,  1.01891616e-01,\n",
       "        -9.71436070e-01],\n",
       "       [-2.07245006e-01, -4.16271707e-01, -6.57696615e-02,\n",
       "         2.36744344e-01, -1.03353457e+00,  1.23758993e+00,\n",
       "        -1.61224204e-01, -6.93812918e-01, -7.68636663e-01,\n",
       "        -8.76718402e-01, -1.09865923e+00, -2.39780868e-01,\n",
       "        -1.94287214e-02],\n",
       "       [-1.35489972e+00, -1.83102681e-01,  2.74078772e-02,\n",
       "         2.36744344e-01,  4.14043991e-01,  1.23758993e+00,\n",
       "         8.34297848e-01,  2.24820231e-01,  1.05210950e+00,\n",
       "         2.37116029e-01,  2.07209962e+00,  1.46858155e+00,\n",
       "        -4.27431871e-01],\n",
       "       [ 8.23656952e-01, -4.04897608e-01, -1.69300260e-01,\n",
       "         3.65930051e-01,  3.06015741e-01,  1.23758993e+00,\n",
       "         8.76563093e-02,  2.24820231e-01, -1.61721275e-01,\n",
       "         8.73592847e-01,  1.20863404e-01,  1.36058864e-01,\n",
       "        -1.37943922e+00],\n",
       "       [-1.63063494e+00,  8.96014948e-01,  1.20585416e-01,\n",
       "         5.59708612e-01, -1.14876470e+00, -3.60220699e-01,\n",
       "        -3.27144546e-01, -5.62579611e-01, -7.68636663e-01,\n",
       "         3.96235233e-01,  8.52576984e-01, -1.85113271e-01,\n",
       "        -4.27431871e-01],\n",
       "       [ 1.02983734e+00, -4.16271707e-01, -2.31418619e-01,\n",
       "        -2.16270716e-02,  6.37302376e-01, -3.60220699e-01,\n",
       "         1.66389956e+00, -3.00112997e-01, -1.61721275e-01,\n",
       "         8.73592847e-01, -6.10850177e-01, -3.47773778e-02,\n",
       "        -3.82098187e-01],\n",
       "       [ 1.32296127e+00, -3.55846807e-01, -1.17534961e-01,\n",
       "         2.36744344e-01,  4.14043991e-01,  1.23758993e+00,\n",
       "        -2.44184375e-01, -3.00112997e-01, -1.61721275e-01,\n",
       "         3.96235233e-01,  1.20863404e-01, -3.76449861e-01,\n",
       "        -1.74210869e+00],\n",
       "       [ 3.79002854e-01, -2.86891333e-01, -3.45302278e-01,\n",
       "        -4.09184194e-01, -8.82295015e-01, -3.60220699e-01,\n",
       "        -4.93064888e-01, -5.62579611e-01, -1.06481137e+00,\n",
       "        -8.76718402e-01, -1.09865923e+00, -6.97621996e-01,\n",
       "         1.16572328e-01],\n",
       "       [-1.38470893e+00, -3.25989797e-01, -1.38241081e-01,\n",
       "        -8.62199253e-02, -3.56557529e-01, -3.60220699e-01,\n",
       "        -4.93064888e-01, -5.62579611e-01, -7.68636663e-01,\n",
       "         3.96235233e-01,  1.20863404e-01, -5.13118855e-01,\n",
       "        -2.46097138e-01],\n",
       "       [ 2.12568080e-01, -4.13428182e-01, -3.44266972e-01,\n",
       "        -7.32148463e-01, -7.95872415e-01, -1.15912601e+00,\n",
       "        -4.93064888e-01, -5.62579611e-01, -7.68636663e-01,\n",
       "        -1.35407602e+00, -1.09865923e+00, -8.82125137e-01,\n",
       "         1.24991441e+00],\n",
       "       [-7.73620058e-01,  2.89633303e-01, -7.61227214e-02,\n",
       "        -8.62199253e-02,  7.02119326e-01, -3.60220699e-01,\n",
       "         1.33205887e+00,  2.24820231e-01, -1.61721275e-01,\n",
       "        -1.03583761e+00,  1.20863404e-01, -1.71446371e-01,\n",
       "         2.07239695e-01],\n",
       "       [-1.67534876e+00, -3.57979450e-01, -5.31657355e-01,\n",
       "        -8.62199253e-02, -3.56557529e-01,  1.23758993e+00,\n",
       "         4.69613825e-03, -3.00112997e-01, -1.61721275e-01,\n",
       "         3.96235233e-01,  1.20863404e-01, -3.76449861e-01,\n",
       "        -5.18099237e-01],\n",
       "       [ 3.56645944e-01, -2.45660224e-01, -1.79653320e-01,\n",
       "        -8.62199253e-02, -3.56557529e-01, -3.60220699e-01,\n",
       "        -4.93064888e-01, -3.00112997e-01, -7.68636663e-01,\n",
       "        -8.11223801e-02, -8.79145156e-01, -4.44784358e-01,\n",
       "        -2.00763454e-01],\n",
       "       [ 8.38561558e-01, -3.52292401e-01, -1.04931035e+00,\n",
       "        -2.34696981e+00, -1.60248335e+00, -1.55857867e+00,\n",
       "        -2.13899468e+00, -8.25046225e-01, -1.37312439e+00,\n",
       "        -1.67231442e+00, -1.09865923e+00, -1.40146731e+00,\n",
       "         1.92991966e+00],\n",
       "       [-1.54617550e+00, -3.46605352e-01,  1.15589140e+00,\n",
       "         1.20563715e+00, -1.24959107e+00, -3.60220699e-01,\n",
       "        -4.93064888e-01, -6.93812918e-01, -7.68636663e-01,\n",
       "        -1.19495681e+00, -1.09865923e+00,  2.65894408e-01,\n",
       "         2.59049619e-02],\n",
       "       [ 1.50926886e+00,  5.93189721e+00,  2.74078772e-02,\n",
       "         2.36744344e-01,  1.37189448e+00, -3.60220699e-01,\n",
       "         7.92817763e-01,  3.37441960e+00,  2.26594028e+00,\n",
       "         1.51006966e+00,  8.52576984e-01,  3.75229603e-01,\n",
       "        -4.72765554e-01],\n",
       "       [-1.25553567e+00, -2.82626046e-01, -7.61227214e-02,\n",
       "        -8.62199253e-02, -8.89496899e-01, -1.15912601e+00,\n",
       "        -4.93064888e-01, -8.25046225e-01, -7.68636663e-01,\n",
       "        -3.99360789e-01, -1.09865923e+00, -2.39780868e-01,\n",
       "         8.41911260e-01],\n",
       "       [-1.68528516e+00, -4.09162895e-01, -5.10951235e-01,\n",
       "        -8.62199253e-02, -1.12715905e+00, -3.60220699e-01,\n",
       "        -3.27144546e-01, -5.62579611e-01, -7.68636663e-01,\n",
       "        -3.99360789e-01, -6.10850177e-01, -5.81453352e-01,\n",
       "        -1.15277080e+00],\n",
       "       [ 4.26200775e-01, -4.02054083e-01, -2.10712500e-01,\n",
       "         4.29657822e-02, -4.42980130e-01,  1.23758993e+00,\n",
       "        -1.61224204e-01,  2.24820231e-01,  4.45194113e-01,\n",
       "         3.96235233e-01,  2.80381320e+00,  3.35571189e-02,\n",
       "        -5.63432920e-01],\n",
       "       [ 1.58627599e+00, -1.44004216e-01,  2.84163762e-01,\n",
       "         3.65930051e-01, -6.15825331e-01, -3.60220699e-01,\n",
       "        -4.93064888e-01, -3.00112997e-01, -1.61721275e-01,\n",
       "        -3.99360789e-01, -8.54754703e-01,  3.75229603e-01,\n",
       "         5.69909161e-01],\n",
       "       [ 9.27989198e-01, -3.09639530e-01,  2.33614023e+00,\n",
       "         1.85156569e+00, -1.11275528e+00, -3.60220699e-01,\n",
       "        -4.93064888e-01, -3.00112997e-01, -4.65178969e-01,\n",
       "        -1.17108893e+00, -8.05973798e-01,  1.09274182e+00,\n",
       "         3.43240745e-01],\n",
       "       [-1.47910477e+00, -3.95656153e-01, -1.38241081e-01,\n",
       "        -8.62199253e-02, -3.56557529e-01, -3.60220699e-01,\n",
       "        -8.24905572e-01, -5.62579611e-01, -7.68636663e-01,\n",
       "        -3.99360789e-01,  1.20863404e-01,  1.97559911e-01,\n",
       "        -3.82098187e-01],\n",
       "       [ 6.42317571e-01, -4.19115232e-01, -1.79653320e-01,\n",
       "         2.36744344e-01,  4.14043991e-01, -3.60220699e-01,\n",
       "         1.33205887e+00, -3.00112997e-01, -1.61721275e-01,\n",
       "         8.73592847e-01,  8.52576984e-01, -2.39780868e-01,\n",
       "         2.52573378e-01],\n",
       "       [ 3.12286996e-02,  4.78016815e-01, -6.67282439e-01,\n",
       "        -1.89481983e+00, -1.55207017e+00, -1.95803132e+00,\n",
       "        -2.48410899e+00, -8.16647293e-01, -1.29786688e+00,\n",
       "        -1.46545946e+00, -1.09865923e+00, -1.29896557e+00,\n",
       "         4.33260487e+00],\n",
       "       [-1.38470893e+00, -3.16748342e-01, -1.38241081e-01,\n",
       "        -8.62199253e-02, -3.56557529e-01, -3.60220699e-01,\n",
       "        -4.93064888e-01, -5.62579611e-01, -7.68636663e-01,\n",
       "         3.96235233e-01,  1.20863404e-01, -5.13118855e-01,\n",
       "        -2.46097138e-01],\n",
       "       [-1.24559927e+00, -4.15560826e-01, -1.79653320e-01,\n",
       "        -8.62199253e-02,  7.02119326e-01, -3.60220699e-01,\n",
       "         1.33205887e+00, -3.00112997e-01, -1.61721275e-01,\n",
       "         3.96235233e-01, -6.10850177e-01, -3.76449861e-01,\n",
       "         4.79241794e-01],\n",
       "       [ 7.49133919e-01, -4.09162895e-01, -1.58947200e-01,\n",
       "        -2.16270716e-02,  1.68157546e+00,  1.23758993e+00,\n",
       "         1.33205887e+00,  2.24820231e-01,  1.05210950e+00,\n",
       "         2.37116029e-01,  1.20863404e-01,  1.01891616e-01,\n",
       "        -4.72765554e-01],\n",
       "       [ 1.39003200e+00, -3.95656153e-01,  6.70175750e-03,\n",
       "         1.06693553e-02,  6.08494842e-01,  1.23758993e+00,\n",
       "         1.58093939e+00,  1.27468669e+00,  2.26594028e+00,\n",
       "         2.37116029e-01,  8.52576984e-01,  3.41062354e-01,\n",
       "        -6.54100287e-01],\n",
       "       [-6.56512435e-02, -4.01343202e-01,  3.33003397e+00,\n",
       "         3.20801562e+00, -8.60689365e-01, -3.60220699e-01,\n",
       "         1.26569074e+00, -3.00112997e-01, -1.61721275e-01,\n",
       "        -8.76718402e-01, -6.10850177e-01,  3.10860947e+00,\n",
       "        -5.18099237e-01],\n",
       "       [ 9.27989198e-01, -3.11061293e-01,  2.33614023e+00,\n",
       "         1.85156569e+00, -1.11275528e+00, -3.60220699e-01,\n",
       "        -4.93064888e-01, -3.00112997e-01, -4.65178969e-01,\n",
       "        -1.17108893e+00, -8.05973798e-01,  1.09274182e+00,\n",
       "         3.43240745e-01],\n",
       "       [ 9.72703018e-01, -2.86891333e-01, -9.68288411e-02,\n",
       "        -2.16270716e-02,  6.37302376e-01, -3.60220699e-01,\n",
       "         1.66389956e+00, -3.00112997e-01, -1.61721275e-01,\n",
       "         8.73592847e-01, -6.10850177e-01, -3.47773778e-02,\n",
       "        -1.94287214e-02],\n",
       "       [-1.30770180e+00, -4.00632321e-01, -3.50478808e-01,\n",
       "        -4.09184194e-01, -9.03900665e-01, -3.60220699e-01,\n",
       "        -3.27144546e-01, -5.62579611e-01, -7.68636663e-01,\n",
       "        -8.76718402e-01, -1.09865923e+00, -8.54791339e-01,\n",
       "         5.24575478e-01],\n",
       "       [ 1.88081941e-02, -2.45761779e-02, -1.38241081e-01,\n",
       "         2.36744344e-01,  1.37189448e+00, -3.60220699e-01,\n",
       "         1.99574024e+00,  2.24820231e-01,  4.45194113e-01,\n",
       "         3.96235233e-01, -5.86459724e-01,  1.01891616e-01,\n",
       "         7.12386451e-02],\n",
       "       [-1.60330983e+00, -3.97077915e-01,  9.59183265e-01,\n",
       "         1.20563715e+00, -1.24959107e+00, -1.15912601e+00,\n",
       "        -3.27144546e-01, -6.93812918e-01, -1.06481137e+00,\n",
       "        -1.35407602e+00, -1.09865923e+00, -2.11104785e-02,\n",
       "         7.12386451e-02],\n",
       "       [ 1.85242968e-01, -3.28122441e-01, -4.08455943e-01,\n",
       "        -7.32148463e-01, -7.81468648e-01, -1.15912601e+00,\n",
       "        -4.93064888e-01, -5.62579611e-01, -7.68636663e-01,\n",
       "        -1.35407602e+00, -1.09865923e+00, -9.23125835e-01,\n",
       "         7.51243894e-01],\n",
       "       [ 1.09939217e+00,  2.14503318e+00,  3.58705793e-01,\n",
       "         5.59708612e-01,  1.69179957e-01,  1.23758993e+00,\n",
       "         4.69613825e-03, -3.00112997e-01,  4.45194113e-01,\n",
       "         1.74874847e+00,  2.80381320e+00, -1.03111875e-01,\n",
       "        -2.46097138e-01],\n",
       "       [-1.12139421e+00, -3.47316233e-01,  2.45002388e+00,\n",
       "         1.85156569e+00, -1.32160990e+00, -3.60220699e-01,\n",
       "        -4.93064888e-01, -5.62579611e-01, -7.68636663e-01,\n",
       "        -8.76718402e-01,  1.20863404e-01,  1.12690907e+00,\n",
       "         2.59049619e-02],\n",
       "       [ 8.23656952e-01, -4.06319371e-01, -1.69300260e-01,\n",
       "         3.65930051e-01,  3.06015741e-01,  1.23758993e+00,\n",
       "         8.76563093e-02,  2.24820231e-01, -1.61721275e-01,\n",
       "         8.73592847e-01,  1.20863404e-01,  1.36058864e-01,\n",
       "        -1.37943922e+00],\n",
       "       [ 2.87091113e-01, -3.87125579e-01, -2.31418619e-01,\n",
       "        -4.09184194e-01, -7.09449814e-01, -3.60220699e-01,\n",
       "        -4.93064888e-01, -5.62579611e-01, -7.68636663e-01,\n",
       "        -8.76718402e-01, -1.09865923e+00, -3.14948814e-01,\n",
       "         1.52191651e+00],\n",
       "       [ 4.18748472e-01, -3.60822975e-01, -1.48594140e-01,\n",
       "         2.36744344e-01,  4.14043991e-01,  1.23758993e+00,\n",
       "         4.69613825e-03,  1.27468669e+00,  1.05210950e+00,\n",
       "         3.96235233e-01,  2.80381320e+00,  2.38560609e-01,\n",
       "        -7.44767654e-01],\n",
       "       [-1.63560314e+00, -2.12959690e-01, -1.90006380e-01,\n",
       "         2.36744344e-01,  1.37189448e+00,  1.23758993e+00,\n",
       "         1.70616480e-01,  2.24820231e-01,  4.45194113e-01,\n",
       "         8.73592847e-01,  8.52576984e-01,  1.01891616e-01,\n",
       "        -8.80768703e-01],\n",
       "       [-2.76799837e-01, -3.74329718e-01, -9.68288411e-02,\n",
       "         2.36744344e-01,  4.14043991e-01, -3.60220699e-01,\n",
       "         5.52233267e-01,  1.27468669e+00,  1.05210950e+00,\n",
       "         3.96235233e-01,  1.20863404e-01,  7.85236583e-01,\n",
       "        -2.00763454e-01],\n",
       "       [ 4.03843865e-01,  1.11709899e+00, -9.68288411e-02,\n",
       "         2.36744344e-01,  4.14043991e-01, -3.60220699e-01,\n",
       "         6.26897421e-01,  1.27468669e+00,  2.26594028e+00,\n",
       "         8.73592847e-01,  8.52576984e-01,  1.01891616e-01,\n",
       "        -6.99433970e-01],\n",
       "       [-1.65015288e-01, -4.16271707e-01, -2.83183919e-01,\n",
       "        -8.62199253e-02, -3.56557529e-01, -3.60220699e-01,\n",
       "        -3.27144546e-01, -3.00112997e-01, -7.68636663e-01,\n",
       "         3.96235233e-01,  1.20863404e-01, -5.81453352e-01,\n",
       "        -3.36764504e-01],\n",
       "       [ 1.25624542e-01, -3.87125579e-01, -3.76361457e-01,\n",
       "        -8.62199253e-02, -3.56557529e-01, -3.60220699e-01,\n",
       "        -3.27144546e-01, -3.00112997e-01, -1.61721275e-01,\n",
       "         3.96235233e-01,  1.20863404e-01, -2.39780868e-01,\n",
       "        -1.10096088e-01]])"
      ]
     },
     "execution_count": 15,
     "metadata": {},
     "output_type": "execute_result"
    }
   ],
   "source": [
    "X_test"
   ]
  },
  {
   "cell_type": "code",
   "execution_count": 16,
   "id": "9f9cae3a",
   "metadata": {},
   "outputs": [
    {
     "data": {
      "text/html": [
       "<style>#sk-container-id-1 {color: black;background-color: white;}#sk-container-id-1 pre{padding: 0;}#sk-container-id-1 div.sk-toggleable {background-color: white;}#sk-container-id-1 label.sk-toggleable__label {cursor: pointer;display: block;width: 100%;margin-bottom: 0;padding: 0.3em;box-sizing: border-box;text-align: center;}#sk-container-id-1 label.sk-toggleable__label-arrow:before {content: \"▸\";float: left;margin-right: 0.25em;color: #696969;}#sk-container-id-1 label.sk-toggleable__label-arrow:hover:before {color: black;}#sk-container-id-1 div.sk-estimator:hover label.sk-toggleable__label-arrow:before {color: black;}#sk-container-id-1 div.sk-toggleable__content {max-height: 0;max-width: 0;overflow: hidden;text-align: left;background-color: #f0f8ff;}#sk-container-id-1 div.sk-toggleable__content pre {margin: 0.2em;color: black;border-radius: 0.25em;background-color: #f0f8ff;}#sk-container-id-1 input.sk-toggleable__control:checked~div.sk-toggleable__content {max-height: 200px;max-width: 100%;overflow: auto;}#sk-container-id-1 input.sk-toggleable__control:checked~label.sk-toggleable__label-arrow:before {content: \"▾\";}#sk-container-id-1 div.sk-estimator input.sk-toggleable__control:checked~label.sk-toggleable__label {background-color: #d4ebff;}#sk-container-id-1 div.sk-label input.sk-toggleable__control:checked~label.sk-toggleable__label {background-color: #d4ebff;}#sk-container-id-1 input.sk-hidden--visually {border: 0;clip: rect(1px 1px 1px 1px);clip: rect(1px, 1px, 1px, 1px);height: 1px;margin: -1px;overflow: hidden;padding: 0;position: absolute;width: 1px;}#sk-container-id-1 div.sk-estimator {font-family: monospace;background-color: #f0f8ff;border: 1px dotted black;border-radius: 0.25em;box-sizing: border-box;margin-bottom: 0.5em;}#sk-container-id-1 div.sk-estimator:hover {background-color: #d4ebff;}#sk-container-id-1 div.sk-parallel-item::after {content: \"\";width: 100%;border-bottom: 1px solid gray;flex-grow: 1;}#sk-container-id-1 div.sk-label:hover label.sk-toggleable__label {background-color: #d4ebff;}#sk-container-id-1 div.sk-serial::before {content: \"\";position: absolute;border-left: 1px solid gray;box-sizing: border-box;top: 0;bottom: 0;left: 50%;z-index: 0;}#sk-container-id-1 div.sk-serial {display: flex;flex-direction: column;align-items: center;background-color: white;padding-right: 0.2em;padding-left: 0.2em;position: relative;}#sk-container-id-1 div.sk-item {position: relative;z-index: 1;}#sk-container-id-1 div.sk-parallel {display: flex;align-items: stretch;justify-content: center;background-color: white;position: relative;}#sk-container-id-1 div.sk-item::before, #sk-container-id-1 div.sk-parallel-item::before {content: \"\";position: absolute;border-left: 1px solid gray;box-sizing: border-box;top: 0;bottom: 0;left: 50%;z-index: -1;}#sk-container-id-1 div.sk-parallel-item {display: flex;flex-direction: column;z-index: 1;position: relative;background-color: white;}#sk-container-id-1 div.sk-parallel-item:first-child::after {align-self: flex-end;width: 50%;}#sk-container-id-1 div.sk-parallel-item:last-child::after {align-self: flex-start;width: 50%;}#sk-container-id-1 div.sk-parallel-item:only-child::after {width: 0;}#sk-container-id-1 div.sk-dashed-wrapped {border: 1px dashed gray;margin: 0 0.4em 0.5em 0.4em;box-sizing: border-box;padding-bottom: 0.4em;background-color: white;}#sk-container-id-1 div.sk-label label {font-family: monospace;font-weight: bold;display: inline-block;line-height: 1.2em;}#sk-container-id-1 div.sk-label-container {text-align: center;}#sk-container-id-1 div.sk-container {/* jupyter's `normalize.less` sets `[hidden] { display: none; }` but bootstrap.min.css set `[hidden] { display: none !important; }` so we also need the `!important` here to be able to override the default hidden behavior on the sphinx rendered scikit-learn.org. See: https://github.com/scikit-learn/scikit-learn/issues/21755 */display: inline-block !important;position: relative;}#sk-container-id-1 div.sk-text-repr-fallback {display: none;}</style><div id=\"sk-container-id-1\" class=\"sk-top-container\"><div class=\"sk-text-repr-fallback\"><pre>LinearRegression()</pre><b>In a Jupyter environment, please rerun this cell to show the HTML representation or trust the notebook. <br />On GitHub, the HTML representation is unable to render, please try loading this page with nbviewer.org.</b></div><div class=\"sk-container\" hidden><div class=\"sk-item\"><div class=\"sk-estimator sk-toggleable\"><input class=\"sk-toggleable__control sk-hidden--visually\" id=\"sk-estimator-id-1\" type=\"checkbox\" checked><label for=\"sk-estimator-id-1\" class=\"sk-toggleable__label sk-toggleable__label-arrow\">LinearRegression</label><div class=\"sk-toggleable__content\"><pre>LinearRegression()</pre></div></div></div></div></div>"
      ],
      "text/plain": [
       "LinearRegression()"
      ]
     },
     "execution_count": 16,
     "metadata": {},
     "output_type": "execute_result"
    }
   ],
   "source": [
    "from sklearn.linear_model import LinearRegression\n",
    "Lr=LinearRegression()\n",
    "Lr.fit(X_train,Y_train)"
   ]
  },
  {
   "cell_type": "code",
   "execution_count": 17,
   "id": "31edea27",
   "metadata": {},
   "outputs": [
    {
     "data": {
      "text/plain": [
       "array([  15.06667792,  -33.17183366,  -75.49783414,  -99.21582084,\n",
       "        162.18479029,  113.30475185,   65.38329118,  198.43644927,\n",
       "        129.16913462,   18.1659589 ,   39.44230008,  215.77978829,\n",
       "       -178.759333  ])"
      ]
     },
     "execution_count": 17,
     "metadata": {},
     "output_type": "execute_result"
    }
   ],
   "source": [
    "Lr.coef_"
   ]
  },
  {
   "cell_type": "code",
   "execution_count": 18,
   "id": "43daa114",
   "metadata": {},
   "outputs": [
    {
     "data": {
      "text/plain": [
       "2237.589285714286"
      ]
     },
     "execution_count": 18,
     "metadata": {},
     "output_type": "execute_result"
    }
   ],
   "source": [
    "Lr.intercept_"
   ]
  },
  {
   "cell_type": "code",
   "execution_count": 19,
   "id": "b6e93312",
   "metadata": {},
   "outputs": [],
   "source": [
    "y_pred=Lr.predict(X_test)"
   ]
  },
  {
   "cell_type": "code",
   "execution_count": 20,
   "id": "3f9570b4",
   "metadata": {},
   "outputs": [
    {
     "data": {
      "text/plain": [
       "array([3002.55030702, 2862.74451046,  886.04186953, 1494.23528189,\n",
       "       3085.00192887, 1847.32305217, 3119.46294562, 2755.79948565,\n",
       "       1736.5149133 , 2430.00154882, 2607.83202208, 1623.52741715,\n",
       "       1849.96632709, 1367.85637103, 2326.41255402, 2298.52637165,\n",
       "       1887.27464595,  935.44284894, 1493.92872587, 3460.35683034,\n",
       "       1418.68252635, 1866.22197259, 2654.69639182, 1893.25522082,\n",
       "       1649.96984538, 1992.36702601, 2236.84044559,  370.14581187,\n",
       "       1849.65977107, 2150.64041385, 3072.72460143, 3386.46277693,\n",
       "       2225.49440591, 1650.01700784, 2349.85715148, 1541.03079821,\n",
       "       2633.245902  , 1318.74100067, 1452.09201154, 2430.40683097,\n",
       "       1592.59437677, 2755.84664811, 1514.51384   , 3142.52278645,\n",
       "       2915.79432678, 2898.23738993, 2999.91236509, 1946.67454087,\n",
       "       2068.72304616])"
      ]
     },
     "execution_count": 20,
     "metadata": {},
     "output_type": "execute_result"
    }
   ],
   "source": [
    "y_pred"
   ]
  },
  {
   "cell_type": "code",
   "execution_count": 21,
   "id": "507883bf",
   "metadata": {},
   "outputs": [
    {
     "data": {
      "text/html": [
       "<div>\n",
       "<style scoped>\n",
       "    .dataframe tbody tr th:only-of-type {\n",
       "        vertical-align: middle;\n",
       "    }\n",
       "\n",
       "    .dataframe tbody tr th {\n",
       "        vertical-align: top;\n",
       "    }\n",
       "\n",
       "    .dataframe thead th {\n",
       "        text-align: right;\n",
       "    }\n",
       "</style>\n",
       "<table border=\"1\" class=\"dataframe\">\n",
       "  <thead>\n",
       "    <tr style=\"text-align: right;\">\n",
       "      <th></th>\n",
       "      <th>Actual op</th>\n",
       "      <th>Predict op</th>\n",
       "    </tr>\n",
       "  </thead>\n",
       "  <tbody>\n",
       "    <tr>\n",
       "      <th>44</th>\n",
       "      <td>2859</td>\n",
       "      <td>3002.550307</td>\n",
       "    </tr>\n",
       "    <tr>\n",
       "      <th>47</th>\n",
       "      <td>3316</td>\n",
       "      <td>2862.744510</td>\n",
       "    </tr>\n",
       "    <tr>\n",
       "      <th>110</th>\n",
       "      <td>754</td>\n",
       "      <td>886.041870</td>\n",
       "    </tr>\n",
       "    <tr>\n",
       "      <th>77</th>\n",
       "      <td>1396</td>\n",
       "      <td>1494.235282</td>\n",
       "    </tr>\n",
       "    <tr>\n",
       "      <th>158</th>\n",
       "      <td>3260</td>\n",
       "      <td>3085.001929</td>\n",
       "    </tr>\n",
       "    <tr>\n",
       "      <th>11</th>\n",
       "      <td>2006</td>\n",
       "      <td>1847.323052</td>\n",
       "    </tr>\n",
       "    <tr>\n",
       "      <th>116</th>\n",
       "      <td>3287</td>\n",
       "      <td>3119.462946</td>\n",
       "    </tr>\n",
       "    <tr>\n",
       "      <th>35</th>\n",
       "      <td>2654</td>\n",
       "      <td>2755.799486</td>\n",
       "    </tr>\n",
       "    <tr>\n",
       "      <th>145</th>\n",
       "      <td>1921</td>\n",
       "      <td>1736.514913</td>\n",
       "    </tr>\n",
       "    <tr>\n",
       "      <th>14</th>\n",
       "      <td>2580</td>\n",
       "      <td>2430.001549</td>\n",
       "    </tr>\n",
       "    <tr>\n",
       "      <th>78</th>\n",
       "      <td>2714</td>\n",
       "      <td>2607.832022</td>\n",
       "    </tr>\n",
       "    <tr>\n",
       "      <th>99</th>\n",
       "      <td>1511</td>\n",
       "      <td>1623.527417</td>\n",
       "    </tr>\n",
       "    <tr>\n",
       "      <th>91</th>\n",
       "      <td>1831</td>\n",
       "      <td>1849.966327</td>\n",
       "    </tr>\n",
       "    <tr>\n",
       "      <th>19</th>\n",
       "      <td>1238</td>\n",
       "      <td>1367.856371</td>\n",
       "    </tr>\n",
       "    <tr>\n",
       "      <th>138</th>\n",
       "      <td>2409</td>\n",
       "      <td>2326.412554</td>\n",
       "    </tr>\n",
       "    <tr>\n",
       "      <th>75</th>\n",
       "      <td>2276</td>\n",
       "      <td>2298.526372</td>\n",
       "    </tr>\n",
       "    <tr>\n",
       "      <th>107</th>\n",
       "      <td>1676</td>\n",
       "      <td>1887.274646</td>\n",
       "    </tr>\n",
       "    <tr>\n",
       "      <th>81</th>\n",
       "      <td>791</td>\n",
       "      <td>935.442849</td>\n",
       "    </tr>\n",
       "    <tr>\n",
       "      <th>85</th>\n",
       "      <td>1396</td>\n",
       "      <td>1493.928726</td>\n",
       "    </tr>\n",
       "    <tr>\n",
       "      <th>159</th>\n",
       "      <td>3211</td>\n",
       "      <td>3460.356830</td>\n",
       "    </tr>\n",
       "    <tr>\n",
       "      <th>102</th>\n",
       "      <td>1522</td>\n",
       "      <td>1418.682526</td>\n",
       "    </tr>\n",
       "    <tr>\n",
       "      <th>29</th>\n",
       "      <td>1950</td>\n",
       "      <td>1866.221973</td>\n",
       "    </tr>\n",
       "    <tr>\n",
       "      <th>39</th>\n",
       "      <td>2392</td>\n",
       "      <td>2654.696392</td>\n",
       "    </tr>\n",
       "    <tr>\n",
       "      <th>123</th>\n",
       "      <td>2001</td>\n",
       "      <td>1893.255221</td>\n",
       "    </tr>\n",
       "    <tr>\n",
       "      <th>95</th>\n",
       "      <td>1810</td>\n",
       "      <td>1649.969845</td>\n",
       "    </tr>\n",
       "    <tr>\n",
       "      <th>54</th>\n",
       "      <td>1984</td>\n",
       "      <td>1992.367026</td>\n",
       "    </tr>\n",
       "    <tr>\n",
       "      <th>5</th>\n",
       "      <td>2137</td>\n",
       "      <td>2236.840446</td>\n",
       "    </tr>\n",
       "    <tr>\n",
       "      <th>141</th>\n",
       "      <td>628</td>\n",
       "      <td>370.145812</td>\n",
       "    </tr>\n",
       "    <tr>\n",
       "      <th>92</th>\n",
       "      <td>1831</td>\n",
       "      <td>1849.659771</td>\n",
       "    </tr>\n",
       "    <tr>\n",
       "      <th>16</th>\n",
       "      <td>2258</td>\n",
       "      <td>2150.640414</td>\n",
       "    </tr>\n",
       "    <tr>\n",
       "      <th>31</th>\n",
       "      <td>2977</td>\n",
       "      <td>3072.724601</td>\n",
       "    </tr>\n",
       "    <tr>\n",
       "      <th>53</th>\n",
       "      <td>3658</td>\n",
       "      <td>3386.462777</td>\n",
       "    </tr>\n",
       "    <tr>\n",
       "      <th>40</th>\n",
       "      <td>2124</td>\n",
       "      <td>2225.494406</td>\n",
       "    </tr>\n",
       "    <tr>\n",
       "      <th>93</th>\n",
       "      <td>1810</td>\n",
       "      <td>1650.017008</td>\n",
       "    </tr>\n",
       "    <tr>\n",
       "      <th>100</th>\n",
       "      <td>2343</td>\n",
       "      <td>2349.857151</td>\n",
       "    </tr>\n",
       "    <tr>\n",
       "      <th>42</th>\n",
       "      <td>1843</td>\n",
       "      <td>1541.030798</td>\n",
       "    </tr>\n",
       "    <tr>\n",
       "      <th>132</th>\n",
       "      <td>2466</td>\n",
       "      <td>2633.245902</td>\n",
       "    </tr>\n",
       "    <tr>\n",
       "      <th>51</th>\n",
       "      <td>1347</td>\n",
       "      <td>1318.741001</td>\n",
       "    </tr>\n",
       "    <tr>\n",
       "      <th>89</th>\n",
       "      <td>1302</td>\n",
       "      <td>1452.092012</td>\n",
       "    </tr>\n",
       "    <tr>\n",
       "      <th>154</th>\n",
       "      <td>2536</td>\n",
       "      <td>2430.406831</td>\n",
       "    </tr>\n",
       "    <tr>\n",
       "      <th>84</th>\n",
       "      <td>1646</td>\n",
       "      <td>1592.594377</td>\n",
       "    </tr>\n",
       "    <tr>\n",
       "      <th>33</th>\n",
       "      <td>2654</td>\n",
       "      <td>2755.846648</td>\n",
       "    </tr>\n",
       "    <tr>\n",
       "      <th>59</th>\n",
       "      <td>1741</td>\n",
       "      <td>1514.513840</td>\n",
       "    </tr>\n",
       "    <tr>\n",
       "      <th>73</th>\n",
       "      <td>3116</td>\n",
       "      <td>3142.522786</td>\n",
       "    </tr>\n",
       "    <tr>\n",
       "      <th>111</th>\n",
       "      <td>2975</td>\n",
       "      <td>2915.794327</td>\n",
       "    </tr>\n",
       "    <tr>\n",
       "      <th>66</th>\n",
       "      <td>2746</td>\n",
       "      <td>2898.237390</td>\n",
       "    </tr>\n",
       "    <tr>\n",
       "      <th>151</th>\n",
       "      <td>3055</td>\n",
       "      <td>2999.912365</td>\n",
       "    </tr>\n",
       "    <tr>\n",
       "      <th>12</th>\n",
       "      <td>2174</td>\n",
       "      <td>1946.674541</td>\n",
       "    </tr>\n",
       "    <tr>\n",
       "      <th>58</th>\n",
       "      <td>1989</td>\n",
       "      <td>2068.723046</td>\n",
       "    </tr>\n",
       "  </tbody>\n",
       "</table>\n",
       "</div>"
      ],
      "text/plain": [
       "     Actual op   Predict op\n",
       "44        2859  3002.550307\n",
       "47        3316  2862.744510\n",
       "110        754   886.041870\n",
       "77        1396  1494.235282\n",
       "158       3260  3085.001929\n",
       "11        2006  1847.323052\n",
       "116       3287  3119.462946\n",
       "35        2654  2755.799486\n",
       "145       1921  1736.514913\n",
       "14        2580  2430.001549\n",
       "78        2714  2607.832022\n",
       "99        1511  1623.527417\n",
       "91        1831  1849.966327\n",
       "19        1238  1367.856371\n",
       "138       2409  2326.412554\n",
       "75        2276  2298.526372\n",
       "107       1676  1887.274646\n",
       "81         791   935.442849\n",
       "85        1396  1493.928726\n",
       "159       3211  3460.356830\n",
       "102       1522  1418.682526\n",
       "29        1950  1866.221973\n",
       "39        2392  2654.696392\n",
       "123       2001  1893.255221\n",
       "95        1810  1649.969845\n",
       "54        1984  1992.367026\n",
       "5         2137  2236.840446\n",
       "141        628   370.145812\n",
       "92        1831  1849.659771\n",
       "16        2258  2150.640414\n",
       "31        2977  3072.724601\n",
       "53        3658  3386.462777\n",
       "40        2124  2225.494406\n",
       "93        1810  1650.017008\n",
       "100       2343  2349.857151\n",
       "42        1843  1541.030798\n",
       "132       2466  2633.245902\n",
       "51        1347  1318.741001\n",
       "89        1302  1452.092012\n",
       "154       2536  2430.406831\n",
       "84        1646  1592.594377\n",
       "33        2654  2755.846648\n",
       "59        1741  1514.513840\n",
       "73        3116  3142.522786\n",
       "111       2975  2915.794327\n",
       "66        2746  2898.237390\n",
       "151       3055  2999.912365\n",
       "12        2174  1946.674541\n",
       "58        1989  2068.723046"
      ]
     },
     "execution_count": 21,
     "metadata": {},
     "output_type": "execute_result"
    }
   ],
   "source": [
    "dict={\"Actual op\":Y_test,\"Predict op\":y_pred}\n",
    "df11=pd.DataFrame(dict)\n",
    "df11"
   ]
  },
  {
   "cell_type": "code",
   "execution_count": 22,
   "id": "d1efb4a4",
   "metadata": {},
   "outputs": [
    {
     "name": "stdout",
     "output_type": "stream",
     "text": [
      "mean squared error 25049.428636514054\n"
     ]
    },
    {
     "data": {
      "text/plain": [
       "25049.428636514054"
      ]
     },
     "execution_count": 22,
     "metadata": {},
     "output_type": "execute_result"
    }
   ],
   "source": [
    "from sklearn.metrics import mean_squared_error\n",
    "print(\"mean squared error\",mean_squared_error(Y_test,y_pred))\n",
    "mse=mean_squared_error(Y_test,y_pred)\n",
    "mse"
   ]
  },
  {
   "cell_type": "code",
   "execution_count": 23,
   "id": "298abe67",
   "metadata": {},
   "outputs": [
    {
     "data": {
      "text/plain": [
       "158.2701128972683"
      ]
     },
     "execution_count": 23,
     "metadata": {},
     "output_type": "execute_result"
    }
   ],
   "source": [
    "rmse=np.sqrt(mse)\n",
    "rmse"
   ]
  },
  {
   "cell_type": "code",
   "execution_count": 24,
   "id": "874884f1",
   "metadata": {},
   "outputs": [
    {
     "name": "stdout",
     "output_type": "stream",
     "text": [
      "r2score  0.9495104998496915\n"
     ]
    }
   ],
   "source": [
    "from sklearn.metrics import r2_score\n",
    "print(\"r2score \",r2_score(Y_test,y_pred))"
   ]
  },
  {
   "cell_type": "code",
   "execution_count": 25,
   "id": "3b0ca52f",
   "metadata": {},
   "outputs": [
    {
     "data": {
      "text/plain": [
       "44    -143.550307\n",
       "47     453.255490\n",
       "110   -132.041870\n",
       "77     -98.235282\n",
       "158    174.998071\n",
       "11     158.676948\n",
       "116    167.537054\n",
       "35    -101.799486\n",
       "145    184.485087\n",
       "14     149.998451\n",
       "78     106.167978\n",
       "99    -112.527417\n",
       "91     -18.966327\n",
       "19    -129.856371\n",
       "138     82.587446\n",
       "75     -22.526372\n",
       "107   -211.274646\n",
       "81    -144.442849\n",
       "85     -97.928726\n",
       "159   -249.356830\n",
       "102    103.317474\n",
       "29      83.778027\n",
       "39    -262.696392\n",
       "123    107.744779\n",
       "95     160.030155\n",
       "54      -8.367026\n",
       "5      -99.840446\n",
       "141    257.854188\n",
       "92     -18.659771\n",
       "16     107.359586\n",
       "31     -95.724601\n",
       "53     271.537223\n",
       "40    -101.494406\n",
       "93     159.982992\n",
       "100     -6.857151\n",
       "42     301.969202\n",
       "132   -167.245902\n",
       "51      28.258999\n",
       "89    -150.092012\n",
       "154    105.593169\n",
       "84      53.405623\n",
       "33    -101.846648\n",
       "59     226.486160\n",
       "73     -26.522786\n",
       "111     59.205673\n",
       "66    -152.237390\n",
       "151     55.087635\n",
       "12     227.325459\n",
       "58     -79.723046\n",
       "Name: Price, dtype: float64"
      ]
     },
     "execution_count": 25,
     "metadata": {},
     "output_type": "execute_result"
    }
   ],
   "source": [
    "residual_error=Y_test-y_pred\n",
    "residual_error"
   ]
  },
  {
   "cell_type": "code",
   "execution_count": 26,
   "id": "ed8477d8",
   "metadata": {},
   "outputs": [
    {
     "data": {
      "text/plain": [
       "Text(0, 0.5, 'residual_error')"
      ]
     },
     "execution_count": 26,
     "metadata": {},
     "output_type": "execute_result"
    },
    {
     "data": {
      "image/png": "[encoded data removed]",
      "text/plain": [
       "<Figure size 640x480 with 1 Axes>"
      ]
     },
     "metadata": {},
     "output_type": "display_data"
    }
   ],
   "source": [
    "plt.scatter(y_pred,residual_error)\n",
    "plt.xlabel('predicted')\n",
    "plt.ylabel('residual_error')"
   ]
  },
  {
   "cell_type": "code",
   "execution_count": 27,
   "id": "07e189da",
   "metadata": {},
   "outputs": [
    {
     "data": {
      "image/png": "[encoded data removed]",
      "text/plain": [
       "<Figure size 640x480 with 1 Axes>"
      ]
     },
     "metadata": {},
     "output_type": "display_data"
    }
   ],
   "source": [
    "sb.histplot(residual_error)\n",
    "plt.show()"
   ]
  },
  {
   "cell_type": "code",
   "execution_count": 28,
   "id": "56422704",
   "metadata": {},
   "outputs": [
    {
     "data": {
      "image/png": "[encoded data removed]",
      "text/plain": [
       "<Figure size 640x480 with 1 Axes>"
      ]
     },
     "metadata": {},
     "output_type": "display_data"
    }
   ],
   "source": [
    "sb.distplot(residual_error,hist=True)\n",
    "plt.show()"
   ]
  },
  {
   "cell_type": "code",
   "execution_count": 29,
   "id": "86cf9bf8",
   "metadata": {},
   "outputs": [
    {
     "data": {
      "image/png": "[encoded data removed]",
      "text/plain": [
       "<Figure size 640x480 with 1 Axes>"
      ]
     },
     "metadata": {},
     "output_type": "display_data"
    }
   ],
   "source": [
    "sb.distplot(residual_error,hist=False)\n",
    "plt.show()"
   ]
  },
  {
   "cell_type": "code",
   "execution_count": 30,
   "id": "b3acdb72",
   "metadata": {},
   "outputs": [
    {
     "name": "stdout",
     "output_type": "stream",
     "text": [
      "0.3746848854830971\n"
     ]
    }
   ],
   "source": [
    "print(residual_error.skew())"
   ]
  },
  {
   "cell_type": "code",
   "execution_count": 31,
   "id": "a74438e4",
   "metadata": {},
   "outputs": [
    {
     "data": {
      "text/plain": [
       "<Axes: >"
      ]
     },
     "execution_count": 31,
     "metadata": {},
     "output_type": "execute_result"
    },
    {
     "data": {
      "image/png": "[encoded data removed]",
      "text/plain": [
       "<Figure size 640x480 with 2 Axes>"
      ]
     },
     "metadata": {},
     "output_type": "display_data"
    }
   ],
   "source": [
    "sb.heatmap(df.corr(),annot=True)"
   ]
  },
  {
   "cell_type": "code",
   "execution_count": 32,
   "id": "b6406473",
   "metadata": {},
   "outputs": [],
   "source": [
    "X=df.drop(['Price','weight'],axis=1)\n",
    "Y=df['Price']"
   ]
  },
  {
   "cell_type": "code",
   "execution_count": 33,
   "id": "1e02cd4c",
   "metadata": {},
   "outputs": [],
   "source": []
  },
  {
   "cell_type": "code",
   "execution_count": 34,
   "id": "ff6265d2",
   "metadata": {},
   "outputs": [],
   "source": []
  },
  {
   "cell_type": "code",
   "execution_count": 35,
   "id": "212266c0",
   "metadata": {},
   "outputs": [],
   "source": []
  },
  {
   "cell_type": "code",
   "execution_count": 36,
   "id": "f597e516",
   "metadata": {},
   "outputs": [],
   "source": []
  },
  {
   "cell_type": "code",
   "execution_count": 37,
   "id": "5a2ffc18",
   "metadata": {},
   "outputs": [
    {
     "data": {
      "text/plain": [
       "(112, 455)"
      ]
     },
     "execution_count": 37,
     "metadata": {},
     "output_type": "execute_result"
    }
   ],
   "source": []
  },
  {
   "cell_type": "code",
   "execution_count": 38,
   "id": "9f9c71e5",
   "metadata": {},
   "outputs": [
    {
     "data": {
      "text/plain": [
       "(49, 455)"
      ]
     },
     "execution_count": 38,
     "metadata": {},
     "output_type": "execute_result"
    }
   ],
   "source": []
  },
  {
   "cell_type": "code",
   "execution_count": 39,
   "id": "6f2a2420",
   "metadata": {},
   "outputs": [
    {
     "data": {
      "text/plain": [
       "(112,)"
      ]
     },
     "execution_count": 39,
     "metadata": {},
     "output_type": "execute_result"
    }
   ],
   "source": []
  },
  {
   "cell_type": "code",
   "execution_count": 40,
   "id": "3b7c5847",
   "metadata": {},
   "outputs": [
    {
     "data": {
      "text/plain": [
       "(49,)"
      ]
     },
     "execution_count": 40,
     "metadata": {},
     "output_type": "execute_result"
    }
   ],
   "source": [
    "Y_test.shape"
   ]
  },
  {
   "cell_type": "code",
   "execution_count": 41,
   "id": "1bd893cb",
   "metadata": {},
   "outputs": [],
   "source": []
  },
  {
   "cell_type": "code",
   "execution_count": 42,
   "id": "482630d2",
   "metadata": {},
   "outputs": [],
   "source": []
  },
  {
   "cell_type": "code",
   "execution_count": 43,
   "id": "3b68f12f",
   "metadata": {},
   "outputs": [
    {
     "data": {
      "text/plain": [
       "array([[ 0.00000000e+00,  3.44225439e-01, -2.76228115e-01, ...,\n",
       "        -6.38214377e-01, -3.04548116e-01,  1.54283439e+00],\n",
       "       [ 0.00000000e+00,  2.17536282e-01, -4.09873776e-01, ...,\n",
       "        -4.86637135e-01, -6.76098586e-01, -2.15418421e-01],\n",
       "       [ 0.00000000e+00,  1.39003200e+00, -3.90679985e-01, ...,\n",
       "        -1.69407402e-03, -2.48215987e-01, -5.26933477e-01],\n",
       "       ...,\n",
       "       [ 0.00000000e+00, -1.57101651e+00, -3.61533856e-01, ...,\n",
       "         3.34035680e-01,  4.37709068e-02, -5.66362907e-01],\n",
       "       [ 0.00000000e+00,  3.12286996e-02,  4.42472756e-01, ...,\n",
       "        -6.28120164e-01,  1.18139545e+00,  6.56473593e+00],\n",
       "       [ 0.00000000e+00, -6.56512435e-02, -4.02764965e-01, ...,\n",
       "         3.18239755e+00,  2.48946900e+00, -4.63721350e-01]])"
      ]
     },
     "execution_count": 43,
     "metadata": {},
     "output_type": "execute_result"
    }
   ],
   "source": []
  },
  {
   "cell_type": "code",
   "execution_count": 44,
   "id": "e13e276d",
   "metadata": {},
   "outputs": [
    {
     "data": {
      "text/plain": [
       "array([[ 0.        ,  0.7093883 , -0.39921056, ...,  0.11534448,\n",
       "         0.06549849, -0.44153705],\n",
       "       [ 0.        ,  1.13416959, -0.39849968, ..., -0.2331757 ,\n",
       "        -0.76003362, -0.63897219],\n",
       "       [ 0.        , -1.5511437 , -0.21509233, ..., -0.6999541 ,\n",
       "        -0.85207779,  1.25475764],\n",
       "       ...,\n",
       "       [ 0.        ,  0.40384387,  1.11709899, ..., -0.16480532,\n",
       "        -0.50085562, -0.54691459],\n",
       "       [ 0.        , -0.16501529, -0.41627171, ..., -0.47861023,\n",
       "        -0.81250464, -0.37154255],\n",
       "       [ 0.        ,  0.12562454, -0.38712558, ..., -0.27830428,\n",
       "        -0.2399803 , -0.2429811 ]])"
      ]
     },
     "execution_count": 44,
     "metadata": {},
     "output_type": "execute_result"
    }
   ],
   "source": []
  },
  {
   "cell_type": "code",
   "execution_count": 45,
   "id": "99afdc0a",
   "metadata": {},
   "outputs": [
    {
     "data": {
      "text/html": [
       "<style>#sk-container-id-2 {color: black;background-color: white;}#sk-container-id-2 pre{padding: 0;}#sk-container-id-2 div.sk-toggleable {background-color: white;}#sk-container-id-2 label.sk-toggleable__label {cursor: pointer;display: block;width: 100%;margin-bottom: 0;padding: 0.3em;box-sizing: border-box;text-align: center;}#sk-container-id-2 label.sk-toggleable__label-arrow:before {content: \"▸\";float: left;margin-right: 0.25em;color: #696969;}#sk-container-id-2 label.sk-toggleable__label-arrow:hover:before {color: black;}#sk-container-id-2 div.sk-estimator:hover label.sk-toggleable__label-arrow:before {color: black;}#sk-container-id-2 div.sk-toggleable__content {max-height: 0;max-width: 0;overflow: hidden;text-align: left;background-color: #f0f8ff;}#sk-container-id-2 div.sk-toggleable__content pre {margin: 0.2em;color: black;border-radius: 0.25em;background-color: #f0f8ff;}#sk-container-id-2 input.sk-toggleable__control:checked~div.sk-toggleable__content {max-height: 200px;max-width: 100%;overflow: auto;}#sk-container-id-2 input.sk-toggleable__control:checked~label.sk-toggleable__label-arrow:before {content: \"▾\";}#sk-container-id-2 div.sk-estimator input.sk-toggleable__control:checked~label.sk-toggleable__label {background-color: #d4ebff;}#sk-container-id-2 div.sk-label input.sk-toggleable__control:checked~label.sk-toggleable__label {background-color: #d4ebff;}#sk-container-id-2 input.sk-hidden--visually {border: 0;clip: rect(1px 1px 1px 1px);clip: rect(1px, 1px, 1px, 1px);height: 1px;margin: -1px;overflow: hidden;padding: 0;position: absolute;width: 1px;}#sk-container-id-2 div.sk-estimator {font-family: monospace;background-color: #f0f8ff;border: 1px dotted black;border-radius: 0.25em;box-sizing: border-box;margin-bottom: 0.5em;}#sk-container-id-2 div.sk-estimator:hover {background-color: #d4ebff;}#sk-container-id-2 div.sk-parallel-item::after {content: \"\";width: 100%;border-bottom: 1px solid gray;flex-grow: 1;}#sk-container-id-2 div.sk-label:hover label.sk-toggleable__label {background-color: #d4ebff;}#sk-container-id-2 div.sk-serial::before {content: \"\";position: absolute;border-left: 1px solid gray;box-sizing: border-box;top: 0;bottom: 0;left: 50%;z-index: 0;}#sk-container-id-2 div.sk-serial {display: flex;flex-direction: column;align-items: center;background-color: white;padding-right: 0.2em;padding-left: 0.2em;position: relative;}#sk-container-id-2 div.sk-item {position: relative;z-index: 1;}#sk-container-id-2 div.sk-parallel {display: flex;align-items: stretch;justify-content: center;background-color: white;position: relative;}#sk-container-id-2 div.sk-item::before, #sk-container-id-2 div.sk-parallel-item::before {content: \"\";position: absolute;border-left: 1px solid gray;box-sizing: border-box;top: 0;bottom: 0;left: 50%;z-index: -1;}#sk-container-id-2 div.sk-parallel-item {display: flex;flex-direction: column;z-index: 1;position: relative;background-color: white;}#sk-container-id-2 div.sk-parallel-item:first-child::after {align-self: flex-end;width: 50%;}#sk-container-id-2 div.sk-parallel-item:last-child::after {align-self: flex-start;width: 50%;}#sk-container-id-2 div.sk-parallel-item:only-child::after {width: 0;}#sk-container-id-2 div.sk-dashed-wrapped {border: 1px dashed gray;margin: 0 0.4em 0.5em 0.4em;box-sizing: border-box;padding-bottom: 0.4em;background-color: white;}#sk-container-id-2 div.sk-label label {font-family: monospace;font-weight: bold;display: inline-block;line-height: 1.2em;}#sk-container-id-2 div.sk-label-container {text-align: center;}#sk-container-id-2 div.sk-container {/* jupyter's `normalize.less` sets `[hidden] { display: none; }` but bootstrap.min.css set `[hidden] { display: none !important; }` so we also need the `!important` here to be able to override the default hidden behavior on the sphinx rendered scikit-learn.org. See: https://github.com/scikit-learn/scikit-learn/issues/21755 */display: inline-block !important;position: relative;}#sk-container-id-2 div.sk-text-repr-fallback {display: none;}</style><div id=\"sk-container-id-2\" class=\"sk-top-container\"><div class=\"sk-text-repr-fallback\"><pre>LinearRegression()</pre><b>In a Jupyter environment, please rerun this cell to show the HTML representation or trust the notebook. <br />On GitHub, the HTML representation is unable to render, please try loading this page with nbviewer.org.</b></div><div class=\"sk-container\" hidden><div class=\"sk-item\"><div class=\"sk-estimator sk-toggleable\"><input class=\"sk-toggleable__control sk-hidden--visually\" id=\"sk-estimator-id-2\" type=\"checkbox\" checked><label for=\"sk-estimator-id-2\" class=\"sk-toggleable__label sk-toggleable__label-arrow\">LinearRegression</label><div class=\"sk-toggleable__content\"><pre>LinearRegression()</pre></div></div></div></div></div>"
      ],
      "text/plain": [
       "LinearRegression()"
      ]
     },
     "execution_count": 45,
     "metadata": {},
     "output_type": "execute_result"
    }
   ],
   "source": []
  },
  {
   "cell_type": "code",
   "execution_count": 49,
   "id": "52bee41e",
   "metadata": {},
   "outputs": [
    {
     "data": {
      "text/plain": [
       "array([2858.9835927 , 3315.89287591,  754.06325121, 1788.49722832,\n",
       "       4254.2866538 , 2006.16605203, 3286.65081674, 2998.7366835 ,\n",
       "       1923.43857475, 2580.00394595, 2714.06484751, 1510.77150188,\n",
       "       1902.9721528 , 1237.99633304, 2408.45376721, 2276.02144898,\n",
       "       1675.92797566,  791.31511216, 1788.59558473, 2928.37039752,\n",
       "       1522.32752879, 1793.92480496, 2392.0682586 , 2000.98464274,\n",
       "       1197.25812449, 1983.99806894, 2136.97856272,  628.51597869,\n",
       "       1903.12425688, 2258.02733045, 2977.00549851, 3657.92863374,\n",
       "       2124.00704188, 1197.23983823, 2342.93878562, 1843.02066454,\n",
       "       2465.62522204, 1346.52395181, 1302.01605723, 3151.12200612,\n",
       "       1645.40578341, 2998.75414941, 1740.85988139, 3086.8213837 ,\n",
       "       2974.98796255, 2745.92359711, 3052.65804037, 1868.42060471,\n",
       "       1989.09907177])"
      ]
     },
     "execution_count": 49,
     "metadata": {},
     "output_type": "execute_result"
    }
   ],
   "source": []
  },
  {
   "cell_type": "code",
   "execution_count": 51,
   "id": "eff25bde",
   "metadata": {},
   "outputs": [
    {
     "name": "stdout",
     "output_type": "stream",
     "text": [
      "r2score  0.8818344319531196\n"
     ]
    }
   ],
   "source": []
  },
  {
   "cell_type": "code",
   "execution_count": 52,
   "id": "7a03cff0",
   "metadata": {},
   "outputs": [
    {
     "data": {
      "text/plain": [
       "44       0.016407\n",
       "47       0.107124\n",
       "110     -0.063251\n",
       "77    -392.497228\n",
       "158   -994.286654\n",
       "11      -0.166052\n",
       "116      0.349183\n",
       "35    -344.736684\n",
       "145     -2.438575\n",
       "14      -0.003946\n",
       "78      -0.064848\n",
       "99       0.228498\n",
       "91     -71.972153\n",
       "19       0.003667\n",
       "138      0.546233\n",
       "75      -0.021449\n",
       "107      0.072024\n",
       "81      -0.315112\n",
       "85    -392.595585\n",
       "159    282.629602\n",
       "102     -0.327529\n",
       "29     156.075195\n",
       "39      -0.068259\n",
       "123      0.015357\n",
       "95     612.741876\n",
       "54       0.001931\n",
       "5        0.021437\n",
       "141     -0.515979\n",
       "92     -72.124257\n",
       "16      -0.027330\n",
       "31      -0.005499\n",
       "53       0.071366\n",
       "40      -0.007042\n",
       "93     612.760162\n",
       "100      0.061214\n",
       "42      -0.020665\n",
       "132      0.374778\n",
       "51       0.476048\n",
       "89      -0.016057\n",
       "154   -615.122006\n",
       "84       0.594217\n",
       "33    -344.754149\n",
       "59       0.140119\n",
       "73      29.178616\n",
       "111      0.012037\n",
       "66       0.076403\n",
       "151      2.341960\n",
       "12     305.579395\n",
       "58      -0.099072\n",
       "Name: Price, dtype: float64"
      ]
     },
     "execution_count": 52,
     "metadata": {},
     "output_type": "execute_result"
    }
   ],
   "source": []
  },
  {
   "cell_type": "code",
   "execution_count": 53,
   "id": "87d38dbb",
   "metadata": {},
   "outputs": [
    {
     "data": {
      "text/plain": [
       "-1.040159206613652"
      ]
     },
     "execution_count": 53,
     "metadata": {},
     "output_type": "execute_result"
    }
   ],
   "source": []
  },
  {
   "cell_type": "code",
   "execution_count": null,
   "id": "ef45f6b1",
   "metadata": {},
   "outputs": [],
   "source": []
  },
  {
   "cell_type": "code",
   "execution_count": null,
   "id": "14cd2616",
   "metadata": {},
   "outputs": [],
   "source": []
  },
  {
   "cell_type": "code",
   "execution_count": null,
   "id": "b30aa1eb",
   "metadata": {},
   "outputs": [],
   "source": []
  },
  {
   "cell_type": "code",
   "execution_count": null,
   "id": "728f62b2",
   "metadata": {},
   "outputs": [],
   "source": []
  },
  {
   "cell_type": "code",
   "execution_count": null,
   "id": "dcc18d8d",
   "metadata": {},
   "outputs": [],
   "source": []
  },
  {
   "cell_type": "code",
   "execution_count": null,
   "id": "62ce82f7",
   "metadata": {},
   "outputs": [],
   "source": []
  },
  {
   "cell_type": "code",
   "execution_count": null,
   "id": "1a1416b5",
   "metadata": {},
   "outputs": [],
   "source": []
  },
  {
   "cell_type": "code",
   "execution_count": null,
   "id": "eaef9034",
   "metadata": {},
   "outputs": [],
   "source": []
  },
  {
   "cell_type": "code",
   "execution_count": null,
   "id": "1ab6f0b8",
   "metadata": {},
   "outputs": [],
   "source": []
  }
 ],
 "metadata": {
  "kernelspec": {
   "display_name": "Python 3 (ipykernel)",
   "language": "python",
   "name": "python3"
  },
  "language_info": {
   "codemirror_mode": {
    "name": "ipython",
    "version": 3
   },
   "file_extension": ".py",
   "mimetype": "text/x-python",
   "name": "python",
   "nbconvert_exporter": "python",
   "pygments_lexer": "ipython3",
   "version": "3.11.3"
  }
 },
 "nbformat": 4,
 "nbformat_minor": 5
}
