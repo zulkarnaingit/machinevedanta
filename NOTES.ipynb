{
 "cells": [
  {
   "cell_type": "markdown",
   "id": "062940c1",
   "metadata": {},
   "source": [
    "# NOTES"
   ]
  },
  {
   "cell_type": "code",
   "execution_count": null,
   "id": "b0538777",
   "metadata": {},
   "outputs": [],
   "source": [
    "Machine Learning:- It is used when we dont know about the rule/logic\n",
    "Rule Based Programming/Traditional Programming:- we used when we know the logic behind the output\n",
    "\n",
    "There are 3 algorithms in Machine Learning\n",
    "1.Supervised Learning Algorithm:- It has both input data and desired output data provided\n",
    "         It has 2 types- Regression and Classification\n",
    "         1.Regression:- Which all input are important to find the output.\n",
    "               #Input Varaible means independent varaible is denoted by X.\n",
    "               #Output varaible means dependent variable is denote by Y.\n",
    "               \n",
    "               we use Correlation Coefficient denoted by r\n",
    "               range of r= -1 to +1\n",
    "               threshold value =-+(0.5)\n",
    "               There are 3 types of Correlation Coefficient\n",
    "                   1.Positive correlation\n",
    "                   2.negative correaltion\n",
    "                   3.no relation\n",
    "               Linear Regression:- Linear means Straight Line\n",
    "               *equation of straight Line:-Y=mX+c\n",
    "               Here Y is output Variable means Dependent Variable.\n",
    "               X means input Variable means Independent Variable.\n",
    "               m means gradient or slope or coefficient of input.\n",
    "               c or b means intercept\n",
    "               \n",
    "               In Regression we will learn Regularisation and Cross Validation\n",
    "               There are 3 types of Regression\n",
    "                    a.Simple Linear Regression(SLR)-only one input\n",
    "                    b.Multiple Linear Regression(MLR)-more than one input but only one output\n",
    "                    c.Polynomial Linear Regression(PLR)\n",
    "                            ex.of Regression:-\n",
    "                            1.to find/predict the price of car\n",
    "                            2.to find/predict the price of stock\n",
    "                            3.to find/predict the sales price ot house price or salary of employees, rent ot house,etc\n",
    "         2. Classification:-It aslo works on Output Variable or Target Variable it is in category\n",
    "                    Classification is divided into 2 types\n",
    "                    a.Binary Classifier:- It consists of 2 class yes/no, true/false, 0/1\n",
    "                    b.Multi Class Classifier:-It consists of 2 or more class\n",
    "                    classification Algorithm:-\n",
    "                    1.Logistic Regression\n",
    "                    2.Decision Tree Classifier\n",
    "                    3.Pruning Technique with Decision Tree Classifier\n",
    "                    4.Support Vector Machine(SVM)\n",
    "                    5.Ensembling technique- It has 2 types\n",
    "                            a.Random Forest Tree\n",
    "                            b.Boosting Technique- It has 2 types\n",
    "                                1.ADA Boost\n",
    "                                2.Gradient Boost\n",
    "                                3.XGB means Extreme Gradient Boost\n",
    "                    6.KNN means K-nearest Neighbours\n",
    "                    7.Naive Bayes Theorem"
   ]
  }
 ],
 "metadata": {
  "kernelspec": {
   "display_name": "Python 3 (ipykernel)",
   "language": "python",
   "name": "python3"
  },
  "language_info": {
   "codemirror_mode": {
    "name": "ipython",
    "version": 3
   },
   "file_extension": ".py",
   "mimetype": "text/x-python",
   "name": "python",
   "nbconvert_exporter": "python",
   "pygments_lexer": "ipython3",
   "version": "3.11.3"
  }
 },
 "nbformat": 4,
 "nbformat_minor": 5
}
