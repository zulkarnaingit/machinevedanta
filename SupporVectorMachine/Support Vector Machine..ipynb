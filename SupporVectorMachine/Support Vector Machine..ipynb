{
 "cells": [
  {
   "cell_type": "markdown",
   "id": "4e2ba695",
   "metadata": {},
   "source": [
    "**HyperPlane** \n",
    "\n",
    "- Hyperplane is a decision boundary thar seperates both the classes.\n",
    "\n",
    "* If graph is a 2D, then Hyperplane will be 1D\n",
    "\n",
    "* If graph is a 3D  then Hyperplane will be 2D\n",
    "\n",
    "* Support Vectors are that data point which is closest to the hyperplane\n",
    "\n",
    "\n",
    "\n",
    "**Margins**\n",
    "\n",
    "* In Support Vector Machine the goal is to find the best hyperplane that seperates the classes given in the dataset.\n",
    "\n",
    "* The hyperplane is the decision boundary that maximize the margin.\n",
    "\n",
    "* There are 2 type of Margins in SVM\n",
    "\n",
    "    - Hard Margin : In hard margin SVM we assume that dataset is linearly seperable. The objective is to find the best\n",
    "      hyperplane that maximize the margin correctly. This approach is called hard margin because it enforces a strict             seperation between classes and does not allow mis-classification.\n",
    "    \n",
    "    - Soft Margin : In soft margin the SVM allows some mis-classification to occur. The objective is to find the hyperplane       that maximizes the margin while also allowing some misclassification to happen."
   ]
  },
  {
   "cell_type": "code",
   "execution_count": null,
   "id": "1ddfff9b",
   "metadata": {},
   "outputs": [],
   "source": []
  }
 ],
 "metadata": {
  "kernelspec": {
   "display_name": "Python 3 (ipykernel)",
   "language": "python",
   "name": "python3"
  },
  "language_info": {
   "codemirror_mode": {
    "name": "ipython",
    "version": 3
   },
   "file_extension": ".py",
   "mimetype": "text/x-python",
   "name": "python",
   "nbconvert_exporter": "python",
   "pygments_lexer": "ipython3",
   "version": "3.11.3"
  }
 },
 "nbformat": 4,
 "nbformat_minor": 5
}
