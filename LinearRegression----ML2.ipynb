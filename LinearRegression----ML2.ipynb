{
 "cells": [
  {
   "cell_type": "code",
   "execution_count": 1,
   "id": "d10ef3ef",
   "metadata": {},
   "outputs": [],
   "source": [
    "import pandas as pd\n",
    "import numpy as np\n",
    "import seaborn as sb\n",
    "import matplotlib.pyplot as plt\n",
    "import warnings\n",
    "warnings.filterwarnings('ignore')"
   ]
  },
  {
   "cell_type": "code",
   "execution_count": 2,
   "id": "3df20738",
   "metadata": {},
   "outputs": [
    {
     "data": {
      "text/html": [
       "<div>\n",
       "<style scoped>\n",
       "    .dataframe tbody tr th:only-of-type {\n",
       "        vertical-align: middle;\n",
       "    }\n",
       "\n",
       "    .dataframe tbody tr th {\n",
       "        vertical-align: top;\n",
       "    }\n",
       "\n",
       "    .dataframe thead th {\n",
       "        text-align: right;\n",
       "    }\n",
       "</style>\n",
       "<table border=\"1\" class=\"dataframe\">\n",
       "  <thead>\n",
       "    <tr style=\"text-align: right;\">\n",
       "      <th></th>\n",
       "      <th>Unnamed: 0</th>\n",
       "      <th>TV</th>\n",
       "      <th>radio</th>\n",
       "      <th>newspaper</th>\n",
       "      <th>sales</th>\n",
       "    </tr>\n",
       "  </thead>\n",
       "  <tbody>\n",
       "    <tr>\n",
       "      <th>0</th>\n",
       "      <td>1</td>\n",
       "      <td>230.1</td>\n",
       "      <td>37.8</td>\n",
       "      <td>69.2</td>\n",
       "      <td>22.1</td>\n",
       "    </tr>\n",
       "    <tr>\n",
       "      <th>1</th>\n",
       "      <td>2</td>\n",
       "      <td>44.5</td>\n",
       "      <td>39.3</td>\n",
       "      <td>45.1</td>\n",
       "      <td>10.4</td>\n",
       "    </tr>\n",
       "    <tr>\n",
       "      <th>2</th>\n",
       "      <td>3</td>\n",
       "      <td>17.2</td>\n",
       "      <td>45.9</td>\n",
       "      <td>69.3</td>\n",
       "      <td>9.3</td>\n",
       "    </tr>\n",
       "    <tr>\n",
       "      <th>3</th>\n",
       "      <td>4</td>\n",
       "      <td>151.5</td>\n",
       "      <td>41.3</td>\n",
       "      <td>58.5</td>\n",
       "      <td>18.5</td>\n",
       "    </tr>\n",
       "    <tr>\n",
       "      <th>4</th>\n",
       "      <td>5</td>\n",
       "      <td>180.8</td>\n",
       "      <td>10.8</td>\n",
       "      <td>58.4</td>\n",
       "      <td>12.9</td>\n",
       "    </tr>\n",
       "    <tr>\n",
       "      <th>...</th>\n",
       "      <td>...</td>\n",
       "      <td>...</td>\n",
       "      <td>...</td>\n",
       "      <td>...</td>\n",
       "      <td>...</td>\n",
       "    </tr>\n",
       "    <tr>\n",
       "      <th>195</th>\n",
       "      <td>196</td>\n",
       "      <td>38.2</td>\n",
       "      <td>3.7</td>\n",
       "      <td>13.8</td>\n",
       "      <td>7.6</td>\n",
       "    </tr>\n",
       "    <tr>\n",
       "      <th>196</th>\n",
       "      <td>197</td>\n",
       "      <td>94.2</td>\n",
       "      <td>4.9</td>\n",
       "      <td>8.1</td>\n",
       "      <td>9.7</td>\n",
       "    </tr>\n",
       "    <tr>\n",
       "      <th>197</th>\n",
       "      <td>198</td>\n",
       "      <td>177.0</td>\n",
       "      <td>9.3</td>\n",
       "      <td>6.4</td>\n",
       "      <td>12.8</td>\n",
       "    </tr>\n",
       "    <tr>\n",
       "      <th>198</th>\n",
       "      <td>199</td>\n",
       "      <td>283.6</td>\n",
       "      <td>42.0</td>\n",
       "      <td>66.2</td>\n",
       "      <td>25.5</td>\n",
       "    </tr>\n",
       "    <tr>\n",
       "      <th>199</th>\n",
       "      <td>200</td>\n",
       "      <td>232.1</td>\n",
       "      <td>8.6</td>\n",
       "      <td>8.7</td>\n",
       "      <td>13.4</td>\n",
       "    </tr>\n",
       "  </tbody>\n",
       "</table>\n",
       "<p>200 rows × 5 columns</p>\n",
       "</div>"
      ],
      "text/plain": [
       "     Unnamed: 0     TV  radio  newspaper  sales\n",
       "0             1  230.1   37.8       69.2   22.1\n",
       "1             2   44.5   39.3       45.1   10.4\n",
       "2             3   17.2   45.9       69.3    9.3\n",
       "3             4  151.5   41.3       58.5   18.5\n",
       "4             5  180.8   10.8       58.4   12.9\n",
       "..          ...    ...    ...        ...    ...\n",
       "195         196   38.2    3.7       13.8    7.6\n",
       "196         197   94.2    4.9        8.1    9.7\n",
       "197         198  177.0    9.3        6.4   12.8\n",
       "198         199  283.6   42.0       66.2   25.5\n",
       "199         200  232.1    8.6        8.7   13.4\n",
       "\n",
       "[200 rows x 5 columns]"
      ]
     },
     "execution_count": 2,
     "metadata": {},
     "output_type": "execute_result"
    }
   ],
   "source": [
    "df=pd.read_csv('advertising.csv')\n",
    "df"
   ]
  },
  {
   "cell_type": "code",
   "execution_count": 3,
   "id": "91335cef",
   "metadata": {},
   "outputs": [
    {
     "data": {
      "text/plain": [
       "Unnamed: 0      int64\n",
       "TV            float64\n",
       "radio         float64\n",
       "newspaper     float64\n",
       "sales         float64\n",
       "dtype: object"
      ]
     },
     "execution_count": 3,
     "metadata": {},
     "output_type": "execute_result"
    }
   ],
   "source": [
    "df.dtypes"
   ]
  },
  {
   "cell_type": "code",
   "execution_count": 4,
   "id": "3dbea354",
   "metadata": {},
   "outputs": [
    {
     "data": {
      "text/plain": [
       "array([230.1,  44.5,  17.2, 151.5, 180.8,   8.7,  57.5, 120.2,   8.6,\n",
       "       199.8,  66.1, 214.7,  23.8,  97.5, 204.1, 195.4,  67.8, 281.4,\n",
       "        69.2, 147.3, 218.4, 237.4,  13.2, 228.3,  62.3, 262.9, 142.9,\n",
       "       240.1, 248.8,  70.6, 292.9, 112.9,  97.2, 265.6,  95.7, 290.7,\n",
       "       266.9,  74.7,  43.1, 228. , 202.5, 177. , 293.6, 206.9,  25.1,\n",
       "       175.1,  89.7, 239.9, 227.2,  66.9, 100.4, 216.4, 182.6, 262.7,\n",
       "       198.9,   7.3, 136.2, 210.8, 210.7,  53.5, 261.3, 239.3, 102.7,\n",
       "       131.1,  69. ,  31.5, 139.3, 216.8, 199.1, 109.8,  26.8, 129.4,\n",
       "       213.4,  16.9,  27.5, 120.5,   5.4, 116. ,  76.4, 239.8,  75.3,\n",
       "        68.4, 213.5, 193.2,  76.3, 110.7,  88.3, 134.3,  28.6, 217.7,\n",
       "       250.9, 107.4, 163.3, 197.6, 184.9, 289.7, 135.2, 222.4, 296.4,\n",
       "       280.2, 187.9, 238.2, 137.9,  25. ,  90.4,  13.1, 255.4, 225.8,\n",
       "       241.7, 175.7, 209.6,  78.2,  75.1, 139.2, 125.7,  19.4, 141.3,\n",
       "        18.8, 224. , 123.1, 229.5,  87.2,   7.8,  80.2, 220.3,  59.6,\n",
       "         0.7, 265.2,   8.4, 219.8,  36.9,  48.3,  25.6, 273.7,  43. ,\n",
       "        73.4, 193.7, 220.5, 104.6,  96.2, 140.3, 243.2,  38. ,  44.7,\n",
       "       280.7, 121. , 171.3, 187.8,   4.1,  93.9, 149.8,  11.7, 131.7,\n",
       "       172.5,  85.7, 188.4, 163.5, 117.2, 234.5,  17.9, 206.8, 215.4,\n",
       "       284.3,  50. , 164.5,  19.6, 168.4, 276.9, 248.4, 170.2, 276.7,\n",
       "       165.6, 156.6, 218.5,  56.2, 287.6, 253.8, 205. , 139.5, 191.1,\n",
       "       286. ,  18.7,  39.5,  75.5, 166.8, 149.7,  38.2,  94.2, 283.6,\n",
       "       232.1])"
      ]
     },
     "execution_count": 4,
     "metadata": {},
     "output_type": "execute_result"
    }
   ],
   "source": [
    "df['TV'].unique()"
   ]
  },
  {
   "cell_type": "code",
   "execution_count": 5,
   "id": "91d41ceb",
   "metadata": {},
   "outputs": [
    {
     "data": {
      "text/plain": [
       "199.8    2\n",
       "109.8    2\n",
       "17.2     2\n",
       "177.0    2\n",
       "222.4    2\n",
       "        ..\n",
       "139.3    1\n",
       "216.8    1\n",
       "199.1    1\n",
       "26.8     1\n",
       "232.1    1\n",
       "Name: TV, Length: 190, dtype: int64"
      ]
     },
     "execution_count": 5,
     "metadata": {},
     "output_type": "execute_result"
    }
   ],
   "source": [
    "df['TV'].value_counts()"
   ]
  },
  {
   "cell_type": "code",
   "execution_count": 6,
   "id": "6932b1de",
   "metadata": {},
   "outputs": [
    {
     "data": {
      "text/plain": [
       "array([37.8, 39.3, 45.9, 41.3, 10.8, 48.9, 32.8, 19.6,  2.1,  2.6,  5.8,\n",
       "       24. , 35.1,  7.6, 32.9, 47.7, 36.6, 39.6, 20.5, 23.9, 27.7,  5.1,\n",
       "       15.9, 16.9, 12.6,  3.5, 29.3, 16.7, 27.1, 16. , 28.3, 17.4,  1.5,\n",
       "       20. ,  1.4,  4.1, 43.8, 49.4, 26.7, 37.7, 22.3, 33.4,  8.4, 25.7,\n",
       "       22.5,  9.9, 41.5, 15.8, 11.7,  3.1,  9.6, 41.7, 46.2, 28.8, 28.1,\n",
       "       19.2, 49.6, 29.5,  2. , 42.7, 15.5, 29.6, 42.8,  9.3, 24.6, 14.5,\n",
       "       27.5, 43.9, 30.6, 14.3, 33. ,  5.7, 43.7,  1.6, 28.5, 29.9,  7.7,\n",
       "       20.3, 44.5, 43. , 18.4, 40.6, 25.5, 47.8,  4.9, 33.5, 36.5, 14. ,\n",
       "       31.6, 21. , 42.3,  4.3, 36.3, 10.1, 17.2, 34.3, 46.4, 11. ,  0.3,\n",
       "        0.4, 26.9,  8.2, 38. , 15.4, 20.6, 46.8, 35. ,  0.8, 36.9, 26.8,\n",
       "       21.7,  2.4, 34.6, 32.3, 11.8, 38.9,  0. , 49. , 12. ,  2.9, 27.2,\n",
       "       38.6, 47. , 39. , 28.9, 25.9, 17. , 35.4, 33.2, 14.8,  1.9,  7.3,\n",
       "       40.3, 25.8, 13.9, 23.3, 39.7, 21.1, 11.6, 43.5,  1.3, 18.1, 35.8,\n",
       "       36.8, 14.7,  3.4, 37.6,  5.2, 23.6, 10.6, 20.9, 20.1,  7.1, 30.2,\n",
       "        7.8,  2.3, 10. ,  5.4, 21.3, 45.1, 28.7, 12.1, 41.1, 42. , 35.6,\n",
       "        3.7,  8.6])"
      ]
     },
     "execution_count": 6,
     "metadata": {},
     "output_type": "execute_result"
    }
   ],
   "source": [
    "df['radio'].unique()"
   ]
  },
  {
   "cell_type": "code",
   "execution_count": 7,
   "id": "e1011699",
   "metadata": {},
   "outputs": [
    {
     "data": {
      "text/plain": [
       "9.3     3\n",
       "25.6    3\n",
       "8.7     3\n",
       "34.6    2\n",
       "8.5     2\n",
       "       ..\n",
       "27.2    1\n",
       "31.7    1\n",
       "19.3    1\n",
       "31.3    1\n",
       "66.2    1\n",
       "Name: newspaper, Length: 172, dtype: int64"
      ]
     },
     "execution_count": 7,
     "metadata": {},
     "output_type": "execute_result"
    }
   ],
   "source": [
    "df['newspaper'].value_counts()"
   ]
  },
  {
   "cell_type": "code",
   "execution_count": 8,
   "id": "c27426cf",
   "metadata": {},
   "outputs": [
    {
     "data": {
      "text/plain": [
       "array([22.1, 10.4,  9.3, 18.5, 12.9,  7.2, 11.8, 13.2,  4.8, 10.6,  8.6,\n",
       "       17.4,  9.2,  9.7, 19. , 22.4, 12.5, 24.4, 11.3, 14.6, 18. ,  5.6,\n",
       "       15.5, 12. , 15. , 15.9, 18.9, 10.5, 21.4, 11.9,  9.6,  9.5, 12.8,\n",
       "       25.4, 14.7, 10.1, 21.5, 16.6, 17.1, 20.7,  8.5, 14.9, 23.2, 14.8,\n",
       "       11.4, 10.7, 22.6, 21.2, 20.2, 23.7,  5.5, 23.8, 18.4,  8.1, 24.2,\n",
       "       15.7, 14. , 13.4, 22.3, 18.3, 12.4,  8.8, 11. , 17. ,  8.7,  6.9,\n",
       "       14.2,  5.3, 12.3, 13.6, 21.7, 15.2, 16. , 16.7, 11.2,  7.3, 19.4,\n",
       "       22.2, 11.5, 16.9, 11.7, 17.2, 19.2, 19.8, 21.8, 14.1, 12.6, 12.2,\n",
       "        9.4,  6.6,  7. , 11.6, 19.7, 24.7,  1.6, 12.7,  5.7, 19.6, 10.8,\n",
       "       20.8, 10.9, 20.1, 10.3, 16.1, 15.6,  3.2, 15.3, 14.4, 13.3,  8. ,\n",
       "        8.4, 14.5,  7.6, 27. , 26.2, 17.6, 17.3,  6.7,  9.9,  5.9, 25.5])"
      ]
     },
     "execution_count": 8,
     "metadata": {},
     "output_type": "execute_result"
    }
   ],
   "source": [
    "df['sales'].unique()"
   ]
  },
  {
   "cell_type": "code",
   "execution_count": 9,
   "id": "c2a310fb",
   "metadata": {},
   "outputs": [
    {
     "data": {
      "text/plain": [
       "9.7     5\n",
       "11.7    4\n",
       "12.9    4\n",
       "15.9    4\n",
       "20.7    3\n",
       "       ..\n",
       "17.0    1\n",
       "18.3    1\n",
       "22.3    1\n",
       "14.0    1\n",
       "25.5    1\n",
       "Name: sales, Length: 121, dtype: int64"
      ]
     },
     "execution_count": 9,
     "metadata": {},
     "output_type": "execute_result"
    }
   ],
   "source": [
    "df['sales'].value_counts()"
   ]
  },
  {
   "cell_type": "code",
   "execution_count": 10,
   "id": "7da7d4d6",
   "metadata": {},
   "outputs": [
    {
     "data": {
      "text/plain": [
       "<AxesSubplot:>"
      ]
     },
     "execution_count": 10,
     "metadata": {},
     "output_type": "execute_result"
    },
    {
     "data": {
      "image/png": "[encoded data removed]",
      "text/plain": [
       "<Figure size 432x288 with 2 Axes>"
      ]
     },
     "metadata": {
      "needs_background": "light"
     },
     "output_type": "display_data"
    }
   ],
   "source": [
    "sb.heatmap(df.isnull())"
   ]
  },
  {
   "cell_type": "code",
   "execution_count": 11,
   "id": "37f69d24",
   "metadata": {},
   "outputs": [
    {
     "name": "stdout",
     "output_type": "stream",
     "text": [
      "<class 'pandas.core.frame.DataFrame'>\n",
      "RangeIndex: 200 entries, 0 to 199\n",
      "Data columns (total 5 columns):\n",
      " #   Column      Non-Null Count  Dtype  \n",
      "---  ------      --------------  -----  \n",
      " 0   Unnamed: 0  200 non-null    int64  \n",
      " 1   TV          200 non-null    float64\n",
      " 2   radio       200 non-null    float64\n",
      " 3   newspaper   200 non-null    float64\n",
      " 4   sales       200 non-null    float64\n",
      "dtypes: float64(4), int64(1)\n",
      "memory usage: 7.9 KB\n"
     ]
    }
   ],
   "source": [
    "df.info()"
   ]
  },
  {
   "cell_type": "code",
   "execution_count": 12,
   "id": "d07d0d5e",
   "metadata": {},
   "outputs": [
    {
     "data": {
      "text/html": [
       "<div>\n",
       "<style scoped>\n",
       "    .dataframe tbody tr th:only-of-type {\n",
       "        vertical-align: middle;\n",
       "    }\n",
       "\n",
       "    .dataframe tbody tr th {\n",
       "        vertical-align: top;\n",
       "    }\n",
       "\n",
       "    .dataframe thead th {\n",
       "        text-align: right;\n",
       "    }\n",
       "</style>\n",
       "<table border=\"1\" class=\"dataframe\">\n",
       "  <thead>\n",
       "    <tr style=\"text-align: right;\">\n",
       "      <th></th>\n",
       "      <th>Unnamed: 0</th>\n",
       "      <th>TV</th>\n",
       "      <th>radio</th>\n",
       "      <th>newspaper</th>\n",
       "      <th>sales</th>\n",
       "    </tr>\n",
       "  </thead>\n",
       "  <tbody>\n",
       "    <tr>\n",
       "      <th>count</th>\n",
       "      <td>200.000000</td>\n",
       "      <td>200.000000</td>\n",
       "      <td>200.000000</td>\n",
       "      <td>200.000000</td>\n",
       "      <td>200.000000</td>\n",
       "    </tr>\n",
       "    <tr>\n",
       "      <th>mean</th>\n",
       "      <td>100.500000</td>\n",
       "      <td>147.042500</td>\n",
       "      <td>23.264000</td>\n",
       "      <td>30.554000</td>\n",
       "      <td>14.022500</td>\n",
       "    </tr>\n",
       "    <tr>\n",
       "      <th>std</th>\n",
       "      <td>57.879185</td>\n",
       "      <td>85.854236</td>\n",
       "      <td>14.846809</td>\n",
       "      <td>21.778621</td>\n",
       "      <td>5.217457</td>\n",
       "    </tr>\n",
       "    <tr>\n",
       "      <th>min</th>\n",
       "      <td>1.000000</td>\n",
       "      <td>0.700000</td>\n",
       "      <td>0.000000</td>\n",
       "      <td>0.300000</td>\n",
       "      <td>1.600000</td>\n",
       "    </tr>\n",
       "    <tr>\n",
       "      <th>25%</th>\n",
       "      <td>50.750000</td>\n",
       "      <td>74.375000</td>\n",
       "      <td>9.975000</td>\n",
       "      <td>12.750000</td>\n",
       "      <td>10.375000</td>\n",
       "    </tr>\n",
       "    <tr>\n",
       "      <th>50%</th>\n",
       "      <td>100.500000</td>\n",
       "      <td>149.750000</td>\n",
       "      <td>22.900000</td>\n",
       "      <td>25.750000</td>\n",
       "      <td>12.900000</td>\n",
       "    </tr>\n",
       "    <tr>\n",
       "      <th>75%</th>\n",
       "      <td>150.250000</td>\n",
       "      <td>218.825000</td>\n",
       "      <td>36.525000</td>\n",
       "      <td>45.100000</td>\n",
       "      <td>17.400000</td>\n",
       "    </tr>\n",
       "    <tr>\n",
       "      <th>max</th>\n",
       "      <td>200.000000</td>\n",
       "      <td>296.400000</td>\n",
       "      <td>49.600000</td>\n",
       "      <td>114.000000</td>\n",
       "      <td>27.000000</td>\n",
       "    </tr>\n",
       "  </tbody>\n",
       "</table>\n",
       "</div>"
      ],
      "text/plain": [
       "       Unnamed: 0          TV       radio   newspaper       sales\n",
       "count  200.000000  200.000000  200.000000  200.000000  200.000000\n",
       "mean   100.500000  147.042500   23.264000   30.554000   14.022500\n",
       "std     57.879185   85.854236   14.846809   21.778621    5.217457\n",
       "min      1.000000    0.700000    0.000000    0.300000    1.600000\n",
       "25%     50.750000   74.375000    9.975000   12.750000   10.375000\n",
       "50%    100.500000  149.750000   22.900000   25.750000   12.900000\n",
       "75%    150.250000  218.825000   36.525000   45.100000   17.400000\n",
       "max    200.000000  296.400000   49.600000  114.000000   27.000000"
      ]
     },
     "execution_count": 12,
     "metadata": {},
     "output_type": "execute_result"
    }
   ],
   "source": [
    "df.describe()"
   ]
  },
  {
   "cell_type": "code",
   "execution_count": 13,
   "id": "ee3339bd",
   "metadata": {},
   "outputs": [],
   "source": [
    "#drop the unwanated colun\n",
    "df.drop(['Unnamed: 0'], axis=1,inplace=True)"
   ]
  },
  {
   "cell_type": "code",
   "execution_count": 14,
   "id": "f876500e",
   "metadata": {},
   "outputs": [],
   "source": [
    "# df.drop('Unnamed: 0',axis=1,inplace=True)"
   ]
  },
  {
   "cell_type": "code",
   "execution_count": 15,
   "id": "957059c0",
   "metadata": {},
   "outputs": [
    {
     "data": {
      "text/html": [
       "<div>\n",
       "<style scoped>\n",
       "    .dataframe tbody tr th:only-of-type {\n",
       "        vertical-align: middle;\n",
       "    }\n",
       "\n",
       "    .dataframe tbody tr th {\n",
       "        vertical-align: top;\n",
       "    }\n",
       "\n",
       "    .dataframe thead th {\n",
       "        text-align: right;\n",
       "    }\n",
       "</style>\n",
       "<table border=\"1\" class=\"dataframe\">\n",
       "  <thead>\n",
       "    <tr style=\"text-align: right;\">\n",
       "      <th></th>\n",
       "      <th>TV</th>\n",
       "      <th>radio</th>\n",
       "      <th>newspaper</th>\n",
       "      <th>sales</th>\n",
       "    </tr>\n",
       "  </thead>\n",
       "  <tbody>\n",
       "    <tr>\n",
       "      <th>0</th>\n",
       "      <td>230.1</td>\n",
       "      <td>37.8</td>\n",
       "      <td>69.2</td>\n",
       "      <td>22.1</td>\n",
       "    </tr>\n",
       "    <tr>\n",
       "      <th>1</th>\n",
       "      <td>44.5</td>\n",
       "      <td>39.3</td>\n",
       "      <td>45.1</td>\n",
       "      <td>10.4</td>\n",
       "    </tr>\n",
       "    <tr>\n",
       "      <th>2</th>\n",
       "      <td>17.2</td>\n",
       "      <td>45.9</td>\n",
       "      <td>69.3</td>\n",
       "      <td>9.3</td>\n",
       "    </tr>\n",
       "    <tr>\n",
       "      <th>3</th>\n",
       "      <td>151.5</td>\n",
       "      <td>41.3</td>\n",
       "      <td>58.5</td>\n",
       "      <td>18.5</td>\n",
       "    </tr>\n",
       "    <tr>\n",
       "      <th>4</th>\n",
       "      <td>180.8</td>\n",
       "      <td>10.8</td>\n",
       "      <td>58.4</td>\n",
       "      <td>12.9</td>\n",
       "    </tr>\n",
       "    <tr>\n",
       "      <th>...</th>\n",
       "      <td>...</td>\n",
       "      <td>...</td>\n",
       "      <td>...</td>\n",
       "      <td>...</td>\n",
       "    </tr>\n",
       "    <tr>\n",
       "      <th>195</th>\n",
       "      <td>38.2</td>\n",
       "      <td>3.7</td>\n",
       "      <td>13.8</td>\n",
       "      <td>7.6</td>\n",
       "    </tr>\n",
       "    <tr>\n",
       "      <th>196</th>\n",
       "      <td>94.2</td>\n",
       "      <td>4.9</td>\n",
       "      <td>8.1</td>\n",
       "      <td>9.7</td>\n",
       "    </tr>\n",
       "    <tr>\n",
       "      <th>197</th>\n",
       "      <td>177.0</td>\n",
       "      <td>9.3</td>\n",
       "      <td>6.4</td>\n",
       "      <td>12.8</td>\n",
       "    </tr>\n",
       "    <tr>\n",
       "      <th>198</th>\n",
       "      <td>283.6</td>\n",
       "      <td>42.0</td>\n",
       "      <td>66.2</td>\n",
       "      <td>25.5</td>\n",
       "    </tr>\n",
       "    <tr>\n",
       "      <th>199</th>\n",
       "      <td>232.1</td>\n",
       "      <td>8.6</td>\n",
       "      <td>8.7</td>\n",
       "      <td>13.4</td>\n",
       "    </tr>\n",
       "  </tbody>\n",
       "</table>\n",
       "<p>200 rows × 4 columns</p>\n",
       "</div>"
      ],
      "text/plain": [
       "        TV  radio  newspaper  sales\n",
       "0    230.1   37.8       69.2   22.1\n",
       "1     44.5   39.3       45.1   10.4\n",
       "2     17.2   45.9       69.3    9.3\n",
       "3    151.5   41.3       58.5   18.5\n",
       "4    180.8   10.8       58.4   12.9\n",
       "..     ...    ...        ...    ...\n",
       "195   38.2    3.7       13.8    7.6\n",
       "196   94.2    4.9        8.1    9.7\n",
       "197  177.0    9.3        6.4   12.8\n",
       "198  283.6   42.0       66.2   25.5\n",
       "199  232.1    8.6        8.7   13.4\n",
       "\n",
       "[200 rows x 4 columns]"
      ]
     },
     "execution_count": 15,
     "metadata": {},
     "output_type": "execute_result"
    }
   ],
   "source": [
    "df"
   ]
  },
  {
   "cell_type": "code",
   "execution_count": 16,
   "id": "bc9a344d",
   "metadata": {},
   "outputs": [
    {
     "data": {
      "text/plain": [
       "TV           0\n",
       "radio        0\n",
       "newspaper    0\n",
       "sales        0\n",
       "dtype: int64"
      ]
     },
     "execution_count": 16,
     "metadata": {},
     "output_type": "execute_result"
    }
   ],
   "source": [
    "df.isnull().sum()"
   ]
  },
  {
   "cell_type": "code",
   "execution_count": 17,
   "id": "719fd571",
   "metadata": {},
   "outputs": [
    {
     "data": {
      "text/plain": [
       "<AxesSubplot:>"
      ]
     },
     "execution_count": 17,
     "metadata": {},
     "output_type": "execute_result"
    },
    {
     "data": {
      "image/png": "[encoded data removed]",
      "text/plain": [
       "<Figure size 432x288 with 2 Axes>"
      ]
     },
     "metadata": {
      "needs_background": "light"
     },
     "output_type": "display_data"
    }
   ],
   "source": [
    "sb.heatmap(df.isnull())"
   ]
  },
  {
   "cell_type": "code",
   "execution_count": 18,
   "id": "076aa5ee",
   "metadata": {},
   "outputs": [
    {
     "data": {
      "text/plain": [
       "'C:\\\\Users\\\\DELL7\\\\Desktop\\\\desktop\\\\yashangpython\\\\MachinelearningYash'"
      ]
     },
     "execution_count": 18,
     "metadata": {},
     "output_type": "execute_result"
    }
   ],
   "source": [
    "#check the directory\n",
    "import os\n",
    "os.getcwd()"
   ]
  },
  {
   "cell_type": "code",
   "execution_count": 19,
   "id": "ca18f982",
   "metadata": {},
   "outputs": [],
   "source": [
    "# import pandas as pd\n",
    "# import numpy as np\n",
    "# import seaborn as sb\n",
    "# import matplotlib.pyplot as plt\n",
    "# import warnings\n",
    "# warnings.filterwarnings('ignore')"
   ]
  },
  {
   "cell_type": "code",
   "execution_count": 20,
   "id": "fe07bc4d",
   "metadata": {},
   "outputs": [
    {
     "data": {
      "text/plain": [
       "(200, 4)"
      ]
     },
     "execution_count": 20,
     "metadata": {},
     "output_type": "execute_result"
    }
   ],
   "source": [
    "df.shape"
   ]
  },
  {
   "cell_type": "code",
   "execution_count": 21,
   "id": "2eee4eb7",
   "metadata": {},
   "outputs": [
    {
     "data": {
      "text/html": [
       "<div>\n",
       "<style scoped>\n",
       "    .dataframe tbody tr th:only-of-type {\n",
       "        vertical-align: middle;\n",
       "    }\n",
       "\n",
       "    .dataframe tbody tr th {\n",
       "        vertical-align: top;\n",
       "    }\n",
       "\n",
       "    .dataframe thead th {\n",
       "        text-align: right;\n",
       "    }\n",
       "</style>\n",
       "<table border=\"1\" class=\"dataframe\">\n",
       "  <thead>\n",
       "    <tr style=\"text-align: right;\">\n",
       "      <th></th>\n",
       "      <th>TV</th>\n",
       "      <th>radio</th>\n",
       "      <th>newspaper</th>\n",
       "      <th>sales</th>\n",
       "    </tr>\n",
       "  </thead>\n",
       "  <tbody>\n",
       "    <tr>\n",
       "      <th>0</th>\n",
       "      <td>230.1</td>\n",
       "      <td>37.8</td>\n",
       "      <td>69.2</td>\n",
       "      <td>22.1</td>\n",
       "    </tr>\n",
       "    <tr>\n",
       "      <th>1</th>\n",
       "      <td>44.5</td>\n",
       "      <td>39.3</td>\n",
       "      <td>45.1</td>\n",
       "      <td>10.4</td>\n",
       "    </tr>\n",
       "    <tr>\n",
       "      <th>2</th>\n",
       "      <td>17.2</td>\n",
       "      <td>45.9</td>\n",
       "      <td>69.3</td>\n",
       "      <td>9.3</td>\n",
       "    </tr>\n",
       "    <tr>\n",
       "      <th>3</th>\n",
       "      <td>151.5</td>\n",
       "      <td>41.3</td>\n",
       "      <td>58.5</td>\n",
       "      <td>18.5</td>\n",
       "    </tr>\n",
       "    <tr>\n",
       "      <th>4</th>\n",
       "      <td>180.8</td>\n",
       "      <td>10.8</td>\n",
       "      <td>58.4</td>\n",
       "      <td>12.9</td>\n",
       "    </tr>\n",
       "    <tr>\n",
       "      <th>...</th>\n",
       "      <td>...</td>\n",
       "      <td>...</td>\n",
       "      <td>...</td>\n",
       "      <td>...</td>\n",
       "    </tr>\n",
       "    <tr>\n",
       "      <th>195</th>\n",
       "      <td>38.2</td>\n",
       "      <td>3.7</td>\n",
       "      <td>13.8</td>\n",
       "      <td>7.6</td>\n",
       "    </tr>\n",
       "    <tr>\n",
       "      <th>196</th>\n",
       "      <td>94.2</td>\n",
       "      <td>4.9</td>\n",
       "      <td>8.1</td>\n",
       "      <td>9.7</td>\n",
       "    </tr>\n",
       "    <tr>\n",
       "      <th>197</th>\n",
       "      <td>177.0</td>\n",
       "      <td>9.3</td>\n",
       "      <td>6.4</td>\n",
       "      <td>12.8</td>\n",
       "    </tr>\n",
       "    <tr>\n",
       "      <th>198</th>\n",
       "      <td>283.6</td>\n",
       "      <td>42.0</td>\n",
       "      <td>66.2</td>\n",
       "      <td>25.5</td>\n",
       "    </tr>\n",
       "    <tr>\n",
       "      <th>199</th>\n",
       "      <td>232.1</td>\n",
       "      <td>8.6</td>\n",
       "      <td>8.7</td>\n",
       "      <td>13.4</td>\n",
       "    </tr>\n",
       "  </tbody>\n",
       "</table>\n",
       "<p>200 rows × 4 columns</p>\n",
       "</div>"
      ],
      "text/plain": [
       "        TV  radio  newspaper  sales\n",
       "0    230.1   37.8       69.2   22.1\n",
       "1     44.5   39.3       45.1   10.4\n",
       "2     17.2   45.9       69.3    9.3\n",
       "3    151.5   41.3       58.5   18.5\n",
       "4    180.8   10.8       58.4   12.9\n",
       "..     ...    ...        ...    ...\n",
       "195   38.2    3.7       13.8    7.6\n",
       "196   94.2    4.9        8.1    9.7\n",
       "197  177.0    9.3        6.4   12.8\n",
       "198  283.6   42.0       66.2   25.5\n",
       "199  232.1    8.6        8.7   13.4\n",
       "\n",
       "[200 rows x 4 columns]"
      ]
     },
     "execution_count": 21,
     "metadata": {},
     "output_type": "execute_result"
    }
   ],
   "source": [
    "df"
   ]
  },
  {
   "cell_type": "code",
   "execution_count": 22,
   "id": "9fdf5daf",
   "metadata": {},
   "outputs": [],
   "source": [
    "#tV radio newspaper input\n",
    "#sales output\n"
   ]
  },
  {
   "cell_type": "code",
   "execution_count": 23,
   "id": "99404a1a",
   "metadata": {},
   "outputs": [],
   "source": [
    "#input means independent varibale:Tv,radio ,newspaper\n",
    "#dependent variable means output or target varaible:Sales: is continous \n",
    "\n",
    "#numerice value means it is Regression problem of supervised learning Algorihms\n",
    "#we use scatterplot\n"
   ]
  },
  {
   "cell_type": "code",
   "execution_count": 24,
   "id": "2b7a5a18",
   "metadata": {},
   "outputs": [
    {
     "data": {
      "image/png": "[encoded data removed]",
      "text/plain": [
       "<Figure size 432x288 with 1 Axes>"
      ]
     },
     "metadata": {
      "needs_background": "light"
     },
     "output_type": "display_data"
    }
   ],
   "source": [
    "sb.scatterplot(data=df,x='TV',y='sales') #data postive corelation\n",
    "plt.show()"
   ]
  },
  {
   "cell_type": "code",
   "execution_count": 25,
   "id": "5dd02720",
   "metadata": {},
   "outputs": [
    {
     "data": {
      "image/png": "[encoded data removed]",
      "text/plain": [
       "<Figure size 432x288 with 1 Axes>"
      ]
     },
     "metadata": {
      "needs_background": "light"
     },
     "output_type": "display_data"
    }
   ],
   "source": [
    "sb.scatterplot(data=df,x='radio',y='sales') #data postive corelation\n",
    "plt.show()"
   ]
  },
  {
   "cell_type": "code",
   "execution_count": 26,
   "id": "af82a3b5",
   "metadata": {},
   "outputs": [
    {
     "data": {
      "text/plain": [
       "<AxesSubplot:xlabel='newspaper', ylabel='sales'>"
      ]
     },
     "execution_count": 26,
     "metadata": {},
     "output_type": "execute_result"
    },
    {
     "data": {
      "image/png": "[encoded data removed]",
      "text/plain": [
       "<Figure size 432x288 with 1 Axes>"
      ]
     },
     "metadata": {
      "needs_background": "light"
     },
     "output_type": "display_data"
    }
   ],
   "source": [
    "sb.scatterplot(data=df,x='newspaper',y='sales') #multicolinearity #no relation "
   ]
  },
  {
   "cell_type": "code",
   "execution_count": 27,
   "id": "96822c7c",
   "metadata": {},
   "outputs": [],
   "source": [
    "#2 Method to Check the for corelation"
   ]
  },
  {
   "cell_type": "code",
   "execution_count": 28,
   "id": "6c2a58e8",
   "metadata": {},
   "outputs": [
    {
     "data": {
      "image/png": "[encoded data removed]",
      "text/plain": [
       "<Figure size 432x288 with 2 Axes>"
      ]
     },
     "metadata": {
      "needs_background": "light"
     },
     "output_type": "display_data"
    }
   ],
   "source": [
    "sb.heatmap(df.corr(),annot=True)\n",
    "plt.show()  #0.5<--->1 show be close to 1 or between 0.5 to 1"
   ]
  },
  {
   "cell_type": "code",
   "execution_count": 29,
   "id": "45fabb80",
   "metadata": {},
   "outputs": [],
   "source": [
    "#input:-Feature #input 2d array \n",
    "#output:-model #output 1d array"
   ]
  },
  {
   "cell_type": "code",
   "execution_count": 30,
   "id": "1c4b1467",
   "metadata": {},
   "outputs": [],
   "source": [
    "#selecting input and output from the df\n",
    "X=df[['TV','radio']] #input selection :always in 2D means Dataframes\n",
    "Y=df['sales'] # ouput selction :always in 1D :1D means Series"
   ]
  },
  {
   "cell_type": "code",
   "execution_count": 31,
   "id": "a3ee623a",
   "metadata": {},
   "outputs": [],
   "source": [
    "#lets import Train_Test_split from model_selecion\n"
   ]
  },
  {
   "cell_type": "code",
   "execution_count": 32,
   "id": "0bd2cbf8",
   "metadata": {},
   "outputs": [],
   "source": [
    "from sklearn.model_selection import train_test_split\n",
    "X_train,X_test,Y_train,Y_test=train_test_split(X,Y,test_size=0.3,random_state=1) #every time data change  Range (1-100)\n"
   ]
  },
  {
   "cell_type": "code",
   "execution_count": 33,
   "id": "b92d7a38",
   "metadata": {},
   "outputs": [
    {
     "data": {
      "text/plain": [
       "(140, 2)"
      ]
     },
     "execution_count": 33,
     "metadata": {},
     "output_type": "execute_result"
    }
   ],
   "source": [
    "X_train.shape #checking data train "
   ]
  },
  {
   "cell_type": "code",
   "execution_count": 34,
   "id": "0ba98fb7",
   "metadata": {},
   "outputs": [
    {
     "data": {
      "text/plain": [
       "(60, 2)"
      ]
     },
     "execution_count": 34,
     "metadata": {},
     "output_type": "execute_result"
    }
   ],
   "source": [
    "X_test.shape"
   ]
  },
  {
   "cell_type": "code",
   "execution_count": 35,
   "id": "9f447173",
   "metadata": {},
   "outputs": [
    {
     "data": {
      "text/plain": [
       "(140,)"
      ]
     },
     "execution_count": 35,
     "metadata": {},
     "output_type": "execute_result"
    }
   ],
   "source": [
    "Y_train.shape #Y column one sales"
   ]
  },
  {
   "cell_type": "code",
   "execution_count": 36,
   "id": "8472336f",
   "metadata": {},
   "outputs": [
    {
     "data": {
      "text/plain": [
       "(60,)"
      ]
     },
     "execution_count": 36,
     "metadata": {},
     "output_type": "execute_result"
    }
   ],
   "source": [
    "Y_test.shape"
   ]
  },
  {
   "cell_type": "code",
   "execution_count": 37,
   "id": "4e57f2ea",
   "metadata": {},
   "outputs": [],
   "source": [
    "#lets give the data to the matchine by overfitting it into same unit\n",
    "#we use scaling for xtrain and xtest\n",
    "#scaling we us on input type of data\n",
    "#it will convert the data into numpy .arraay\n",
    "\n",
    "from sklearn.preprocessing import StandardScaler     #train test performanace 3main method\n",
    "#create an object for the standardScalar\n",
    "ss=StandardScaler()\n",
    "\n",
    "#applying scaling on X_train we use fit_transform()\n",
    "X_train=ss.fit_transform(X_train)  # fit--- train \n",
    "\n",
    "#applying scaling on X_test we use transform()\n",
    "X_test=ss.transform(X_test)"
   ]
  },
  {
   "cell_type": "code",
   "execution_count": null,
   "id": "c5335362",
   "metadata": {},
   "outputs": [],
   "source": []
  },
  {
   "cell_type": "code",
   "execution_count": 38,
   "id": "11325eeb",
   "metadata": {},
   "outputs": [
    {
     "data": {
      "text/plain": [
       "array([[-0.04063534, -0.58562079],\n",
       "       [-0.03948046, -0.57246816],\n",
       "       [-1.58586722,  0.44028424],\n",
       "       [ 1.74250219,  0.29560533],\n",
       "       [ 1.6016066 ,  1.07818673],\n",
       "       [-1.54775611,  1.68978396],\n",
       "       [-0.72201561, -1.52603374],\n",
       "       [-0.05564881,  1.52537611],\n",
       "       [ 0.97566066, -0.48697608],\n",
       "       [-1.28444306,  0.09173958],\n",
       "       [ 1.3856437 ,  0.36794479],\n",
       "       [ 0.81744185,  1.30178142],\n",
       "       [ 1.67320928,  1.30178142],\n",
       "       [-1.51310966,  0.90062625],\n",
       "       [-1.44150699,  0.94666045],\n",
       "       [ 0.77240146, -0.17131299],\n",
       "       [-1.37336896,  0.78225259],\n",
       "       [-0.76590112, -1.47342322],\n",
       "       [ 1.24936765,  0.87432099],\n",
       "       [-0.01638282,  0.2364185 ],\n",
       "       [ 0.52063722, -0.13843142],\n",
       "       [-0.09722455, -1.20379434],\n",
       "       [ 1.12117577, -1.25640485],\n",
       "       [ 0.93870444, -1.36820219],\n",
       "       [-0.77629506, -0.81579179],\n",
       "       [-0.52222106, -1.02623385],\n",
       "       [-0.77860482, -0.19104193],\n",
       "       [-1.55122076,  0.26272376],\n",
       "       [ 0.55874832,  0.36136847],\n",
       "       [ 0.37396723, -0.04636302],\n",
       "       [-0.08683061,  1.21628933],\n",
       "       [ 1.43414874,  1.35439193],\n",
       "       [-0.65849711,  0.82828679],\n",
       "       [-0.0371707 , -1.38793114],\n",
       "       [ 0.33008172,  1.08476305],\n",
       "       [ 0.5217921 , -0.39490767],\n",
       "       [-1.20706598, -1.28271011],\n",
       "       [ 0.39590999, -0.91443651],\n",
       "       [-1.20937574,  1.12422093],\n",
       "       [ 0.29659015, -1.05911542],\n",
       "       [-1.45305581,  1.34781562],\n",
       "       [ 1.0934586 , -1.19064171],\n",
       "       [-1.31793463, -1.42738902],\n",
       "       [ 0.63381564,  0.0062475 ],\n",
       "       [-1.44959116,  1.49249453],\n",
       "       [ 0.65113887,  0.48631844],\n",
       "       [ 0.58300084, -0.3159919 ],\n",
       "       [ 1.59352243, -0.61192605],\n",
       "       [-0.98417379,  0.63099736],\n",
       "       [ 0.38089652, -0.51328133],\n",
       "       [ 1.00915223,  0.95981307],\n",
       "       [-1.60088068, -0.76318128],\n",
       "       [-0.25659824,  0.34821584],\n",
       "       [-0.85136238, -0.91443651],\n",
       "       [ 0.6488291 ,  1.72266554],\n",
       "       [ 0.74006477, -1.18406539],\n",
       "       [-0.62847019,  0.15092641],\n",
       "       [-1.64014666,  1.07818673],\n",
       "       [-0.61230184, -0.87497862],\n",
       "       [ 1.11540136, -0.50670502],\n",
       "       [ 0.81628697,  0.09173958],\n",
       "       [ 0.86594689,  0.67703156],\n",
       "       [ 1.16044175,  1.69636028],\n",
       "       [ 0.3439403 , -0.33572085],\n",
       "       [-0.44022445, -1.15118382],\n",
       "       [-0.36977666,  1.14394988],\n",
       "       [ 0.16031409, -1.35504957],\n",
       "       [-0.02793164, -1.40108377],\n",
       "       [-0.29470934, -0.55931553],\n",
       "       [-0.88485395, -1.14460751],\n",
       "       [-0.52568571, -1.42738902],\n",
       "       [-0.85829167,  1.40042613],\n",
       "       [-0.99918725, -1.15118382],\n",
       "       [ 0.92022633, -1.24325222],\n",
       "       [-0.64117389, -0.75002865],\n",
       "       [ 0.98836436, -0.41463662],\n",
       "       [-1.55815005,  1.03215253],\n",
       "       [ 0.65922304, -1.35504957],\n",
       "       [-1.07078992, -0.76318128],\n",
       "       [ 1.10269766,  0.72964207],\n",
       "       [-0.25082383, -0.97362333],\n",
       "       [-1.09042291,  1.56483399],\n",
       "       [ 1.14311852,  0.9729657 ],\n",
       "       [ 1.65473117, -0.61192605],\n",
       "       [-0.13418077,  1.28862879],\n",
       "       [ 0.60840824,  1.61086819],\n",
       "       [ 0.39590999,  0.67045524],\n",
       "       [ 0.24000094,  0.89404993],\n",
       "       [ 1.30133733,  0.24299481],\n",
       "       [-0.76590112,  0.22984219],\n",
       "       [ 0.85093342,  1.21628933],\n",
       "       [ 0.00209529,  0.40082636],\n",
       "       [-1.33063833, -1.42081271],\n",
       "       [ 0.74121965, -0.97362333],\n",
       "       [-0.92873946, -0.69741813],\n",
       "       [ 0.10141512,  1.18998408],\n",
       "       [ 1.63509818, -0.82894442],\n",
       "       [-0.8756149 , -0.75660496],\n",
       "       [-1.13199866,  0.17065536],\n",
       "       [ 1.41451575, -1.33532062],\n",
       "       [-1.19205251,  1.17683145],\n",
       "       [ 1.73441801,  0.33506321],\n",
       "       [-1.43111305, -0.09897353],\n",
       "       [-0.78091459,  0.77567627],\n",
       "       [ 1.54963692,  1.68978396],\n",
       "       [-1.548911  , -1.38793114],\n",
       "       [-1.03036906, -1.39450745],\n",
       "       [ 0.89597381,  1.69636028],\n",
       "       [-1.13430842,  1.05845779],\n",
       "       [-0.0752818 , -0.26338139],\n",
       "       [-1.49578643, -0.48039976],\n",
       "       [ 1.36947536,  1.28205248],\n",
       "       [-0.46216721,  0.4205553 ],\n",
       "       [-0.26006289, -0.23707613],\n",
       "       [-0.56033216, -1.20379434],\n",
       "       [ 0.58877525,  0.80198153],\n",
       "       [-0.76705601,  0.2824527 ],\n",
       "       [ 0.63381564, -1.29586274],\n",
       "       [ 1.0934586 ,  0.2824527 ],\n",
       "       [ 0.65922304, -1.32216799],\n",
       "       [ 0.89828358,  0.65730262],\n",
       "       [ 0.08178213, -1.44054165],\n",
       "       [-0.56379681,  1.33466299],\n",
       "       [ 0.48714565,  1.36096825],\n",
       "       [ 1.12464041, -1.04596279],\n",
       "       [ 1.77483888,  0.86116836],\n",
       "       [ 0.87403106,  0.29560533],\n",
       "       [ 1.54732716, -1.37477851],\n",
       "       [ 1.38795347, -1.29586274],\n",
       "       [-1.22207944,  1.01242359],\n",
       "       [-0.3801706 , -0.58562079],\n",
       "       [-0.95992127, -0.73687602],\n",
       "       [-0.53723452, -0.55273922],\n",
       "       [-1.44959116, -1.25640485],\n",
       "       [-0.30856792, -1.01965754],\n",
       "       [ 0.8901994 ,  0.67703156],\n",
       "       [ 1.5126807 ,  0.3745211 ],\n",
       "       [-1.33872251,  0.64414999],\n",
       "       [-0.80054758, -0.4080603 ],\n",
       "       [-0.78553411,  1.72266554]])"
      ]
     },
     "execution_count": 38,
     "metadata": {},
     "output_type": "execute_result"
    }
   ],
   "source": [
    "X_train"
   ]
  },
  {
   "cell_type": "code",
   "execution_count": 39,
   "id": "65bfb91e",
   "metadata": {},
   "outputs": [
    {
     "data": {
      "text/plain": [
       "array([[ 0.78626004,  1.73581816],\n",
       "       [ 0.69040485, -0.05951564],\n",
       "       [-0.54300893, -1.43396534],\n",
       "       [ 1.58774802, -0.86182599],\n",
       "       [ 1.28285922, -0.12527879],\n",
       "       [ 1.627014  ,  1.23601828],\n",
       "       [ 0.23769118,  0.55208159],\n",
       "       [ 0.43979549, -0.81579179],\n",
       "       [-0.83288427, -0.47382345],\n",
       "       [ 0.8393846 ,  0.02597644],\n",
       "       [ 0.25154976, -0.15158405],\n",
       "       [-0.84905261, -0.1778893 ],\n",
       "       [ 0.83130043,  0.0522817 ],\n",
       "       [-0.3801706 ,  1.61744451],\n",
       "       [ 0.95949231, -0.98677596],\n",
       "       [-0.19654439,  0.90062625],\n",
       "       [-0.12725148, -0.3159919 ],\n",
       "       [ 1.70901061, -1.25640485],\n",
       "       [-1.35258109,  1.03872885],\n",
       "       [ 0.78510516,  0.41397899],\n",
       "       [-0.48872949, -0.89470756],\n",
       "       [-0.86522096,  0.8808973 ],\n",
       "       [-1.3583555 ,  0.16407904],\n",
       "       [-0.40788776, -0.60534973],\n",
       "       [-0.34436926, -0.38175505],\n",
       "       [ 0.52756651, -0.33572085],\n",
       "       [-1.15047677,  0.22984219],\n",
       "       [ 1.22511513,  0.25614744],\n",
       "       [ 0.27811204,  1.23601828],\n",
       "       [ 1.12464041, -0.42778925],\n",
       "       [ 1.12233065,  1.2031367 ],\n",
       "       [ 1.05996703, -1.30243905],\n",
       "       [ 0.08062725,  0.81513416],\n",
       "       [ 0.31737802, -1.01308122],\n",
       "       [ 1.2204956 ,  0.46001319],\n",
       "       [ 0.48714565, -0.14500773],\n",
       "       [ 0.92022633, -1.30243905],\n",
       "       [-0.15381376, -1.15118382],\n",
       "       [ 0.85555295,  1.36096825],\n",
       "       [-1.421874  , -0.20419456],\n",
       "       [-1.49694131, -1.49972848],\n",
       "       [-0.60421767, -1.50630479],\n",
       "       [-1.43226793, -0.73029971],\n",
       "       [ 0.70888296,  0.63757367],\n",
       "       [-1.56392446,  0.32191059],\n",
       "       [ 0.05291009,  0.04570538],\n",
       "       [-0.74511325,  1.55168136],\n",
       "       [ 0.98489971,  0.95323676],\n",
       "       [ 0.71927689,  1.43988402],\n",
       "       [ 1.00222294,  0.59811579],\n",
       "       [ 1.6974618 ,  1.25574722],\n",
       "       [-0.22657131,  0.74937102],\n",
       "       [-1.42418376, -0.47382345],\n",
       "       [ 0.46058337,  1.51222348],\n",
       "       [ 1.41913528, -0.21077087],\n",
       "       [ 0.26425346, -0.86840231],\n",
       "       [ 0.87518594, -1.17091276],\n",
       "       [-1.35951038, -0.80263916],\n",
       "       [ 1.03224987, -0.96047071],\n",
       "       [-1.15163165,  0.17723167]])"
      ]
     },
     "execution_count": 39,
     "metadata": {},
     "output_type": "execute_result"
    }
   ],
   "source": [
    "X_test"
   ]
  },
  {
   "cell_type": "code",
   "execution_count": null,
   "id": "0701b443",
   "metadata": {},
   "outputs": [],
   "source": []
  },
  {
   "cell_type": "code",
   "execution_count": 40,
   "id": "32009aed",
   "metadata": {},
   "outputs": [
    {
     "data": {
      "text/html": [
       "<style>#sk-container-id-1 {color: black;background-color: white;}#sk-container-id-1 pre{padding: 0;}#sk-container-id-1 div.sk-toggleable {background-color: white;}#sk-container-id-1 label.sk-toggleable__label {cursor: pointer;display: block;width: 100%;margin-bottom: 0;padding: 0.3em;box-sizing: border-box;text-align: center;}#sk-container-id-1 label.sk-toggleable__label-arrow:before {content: \"▸\";float: left;margin-right: 0.25em;color: #696969;}#sk-container-id-1 label.sk-toggleable__label-arrow:hover:before {color: black;}#sk-container-id-1 div.sk-estimator:hover label.sk-toggleable__label-arrow:before {color: black;}#sk-container-id-1 div.sk-toggleable__content {max-height: 0;max-width: 0;overflow: hidden;text-align: left;background-color: #f0f8ff;}#sk-container-id-1 div.sk-toggleable__content pre {margin: 0.2em;color: black;border-radius: 0.25em;background-color: #f0f8ff;}#sk-container-id-1 input.sk-toggleable__control:checked~div.sk-toggleable__content {max-height: 200px;max-width: 100%;overflow: auto;}#sk-container-id-1 input.sk-toggleable__control:checked~label.sk-toggleable__label-arrow:before {content: \"▾\";}#sk-container-id-1 div.sk-estimator input.sk-toggleable__control:checked~label.sk-toggleable__label {background-color: #d4ebff;}#sk-container-id-1 div.sk-label input.sk-toggleable__control:checked~label.sk-toggleable__label {background-color: #d4ebff;}#sk-container-id-1 input.sk-hidden--visually {border: 0;clip: rect(1px 1px 1px 1px);clip: rect(1px, 1px, 1px, 1px);height: 1px;margin: -1px;overflow: hidden;padding: 0;position: absolute;width: 1px;}#sk-container-id-1 div.sk-estimator {font-family: monospace;background-color: #f0f8ff;border: 1px dotted black;border-radius: 0.25em;box-sizing: border-box;margin-bottom: 0.5em;}#sk-container-id-1 div.sk-estimator:hover {background-color: #d4ebff;}#sk-container-id-1 div.sk-parallel-item::after {content: \"\";width: 100%;border-bottom: 1px solid gray;flex-grow: 1;}#sk-container-id-1 div.sk-label:hover label.sk-toggleable__label {background-color: #d4ebff;}#sk-container-id-1 div.sk-serial::before {content: \"\";position: absolute;border-left: 1px solid gray;box-sizing: border-box;top: 0;bottom: 0;left: 50%;z-index: 0;}#sk-container-id-1 div.sk-serial {display: flex;flex-direction: column;align-items: center;background-color: white;padding-right: 0.2em;padding-left: 0.2em;position: relative;}#sk-container-id-1 div.sk-item {position: relative;z-index: 1;}#sk-container-id-1 div.sk-parallel {display: flex;align-items: stretch;justify-content: center;background-color: white;position: relative;}#sk-container-id-1 div.sk-item::before, #sk-container-id-1 div.sk-parallel-item::before {content: \"\";position: absolute;border-left: 1px solid gray;box-sizing: border-box;top: 0;bottom: 0;left: 50%;z-index: -1;}#sk-container-id-1 div.sk-parallel-item {display: flex;flex-direction: column;z-index: 1;position: relative;background-color: white;}#sk-container-id-1 div.sk-parallel-item:first-child::after {align-self: flex-end;width: 50%;}#sk-container-id-1 div.sk-parallel-item:last-child::after {align-self: flex-start;width: 50%;}#sk-container-id-1 div.sk-parallel-item:only-child::after {width: 0;}#sk-container-id-1 div.sk-dashed-wrapped {border: 1px dashed gray;margin: 0 0.4em 0.5em 0.4em;box-sizing: border-box;padding-bottom: 0.4em;background-color: white;}#sk-container-id-1 div.sk-label label {font-family: monospace;font-weight: bold;display: inline-block;line-height: 1.2em;}#sk-container-id-1 div.sk-label-container {text-align: center;}#sk-container-id-1 div.sk-container {/* jupyter's `normalize.less` sets `[hidden] { display: none; }` but bootstrap.min.css set `[hidden] { display: none !important; }` so we also need the `!important` here to be able to override the default hidden behavior on the sphinx rendered scikit-learn.org. See: https://github.com/scikit-learn/scikit-learn/issues/21755 */display: inline-block !important;position: relative;}#sk-container-id-1 div.sk-text-repr-fallback {display: none;}</style><div id=\"sk-container-id-1\" class=\"sk-top-container\"><div class=\"sk-text-repr-fallback\"><pre>LinearRegression()</pre><b>In a Jupyter environment, please rerun this cell to show the HTML representation or trust the notebook. <br />On GitHub, the HTML representation is unable to render, please try loading this page with nbviewer.org.</b></div><div class=\"sk-container\" hidden><div class=\"sk-item\"><div class=\"sk-estimator sk-toggleable\"><input class=\"sk-toggleable__control sk-hidden--visually\" id=\"sk-estimator-id-1\" type=\"checkbox\" checked><label for=\"sk-estimator-id-1\" class=\"sk-toggleable__label sk-toggleable__label-arrow\">LinearRegression</label><div class=\"sk-toggleable__content\"><pre>LinearRegression()</pre></div></div></div></div></div>"
      ],
      "text/plain": [
       "LinearRegression()"
      ]
     },
     "execution_count": 40,
     "metadata": {},
     "output_type": "execute_result"
    }
   ],
   "source": [
    "#performing the model with linear Regression \n",
    "#we have to import Linear Regression from Linear_Model\n",
    "\n",
    "from sklearn.linear_model import LinearRegression\n",
    "\n",
    "#create an object for linearRegression\n",
    "Lr=LinearRegression()\n",
    "#lets train the model with 70% of data\n",
    "\n",
    "#we use .fit() method of linearRegression class\n",
    "Lr.fit(X_train,Y_train)\n",
    "\n"
   ]
  },
  {
   "cell_type": "code",
   "execution_count": 41,
   "id": "dc3c33d0",
   "metadata": {},
   "outputs": [
    {
     "name": "stdout",
     "output_type": "stream",
     "text": [
      "sloper of TV and Radio [4.06756287 2.70136813]\n"
     ]
    }
   ],
   "source": [
    "#lets check for slope/gradient  for Tv and radio input\n",
    "Lr.coef_\n",
    "print(\"sloper of TV and Radio\",Lr.coef_) \n"
   ]
  },
  {
   "cell_type": "code",
   "execution_count": 42,
   "id": "626f68b4",
   "metadata": {},
   "outputs": [
    {
     "name": "stdout",
     "output_type": "stream",
     "text": [
      "Intercept of the line: 13.79142857142857\n"
     ]
    }
   ],
   "source": [
    "#lets check for intercept/Constant\n",
    "Lr.intercept_\n",
    "print(\"Intercept of the line:\",Lr.intercept_)\n"
   ]
  },
  {
   "cell_type": "code",
   "execution_count": 43,
   "id": "96dcf295",
   "metadata": {},
   "outputs": [],
   "source": [
    "#slope:- Changes in Y divided by changes in X (y2-y1 /  x2-x1)\n",
    "\n",
    "#intercept :- The Best fit line touching a point on y-axis is called an intercept\n"
   ]
  },
  {
   "cell_type": "code",
   "execution_count": 44,
   "id": "da207e46",
   "metadata": {},
   "outputs": [
    {
     "name": "stdout",
     "output_type": "stream",
     "text": [
      "Predicted out [21.6786746  16.43892004  7.70903733 17.92158421 18.67111499 23.74835071\n",
      " 16.24962798 13.37657045  9.12364788 17.27585015 14.40513872  9.85730919\n",
      " 17.31402746 16.61437382 15.02857874 15.42489496 12.42021473 17.34892466\n",
      " 11.09570896 18.10320281  9.38655615 12.65171582  8.70947008 10.49704698\n",
      " 11.35942404 15.03043294  9.73268033 19.46660993 18.26160716 17.21035792\n",
      " 21.60669421 14.58454377 16.32136242 12.3456783  19.99853614 15.38120487\n",
      " 14.01613968 10.05601014 20.94792024  7.45626202  3.65120693  7.26465144\n",
      "  5.99278035 18.39717578  8.2996665  14.13011074 14.95229617 20.37261349\n",
      " 20.60678937 19.48376432 24.08819667 14.89416249  6.71850002 19.74995269\n",
      " 18.99448081 12.52042181 14.18823598  6.09331077 15.39558485  9.58586241]\n"
     ]
    }
   ],
   "source": [
    "#lets test the data model with 30% of data\n",
    "#we will use the inbuilt method : Predict() of LinearRegression\n",
    "#predict y=mx+c\n",
    "#predicted output\n",
    "y_pred=Lr.predict(X_test)\n",
    "print(\"Predicted out\",y_pred)"
   ]
  },
  {
   "cell_type": "code",
   "execution_count": 45,
   "id": "9a688dd5",
   "metadata": {},
   "outputs": [
    {
     "data": {
      "text/html": [
       "<div>\n",
       "<style scoped>\n",
       "    .dataframe tbody tr th:only-of-type {\n",
       "        vertical-align: middle;\n",
       "    }\n",
       "\n",
       "    .dataframe tbody tr th {\n",
       "        vertical-align: top;\n",
       "    }\n",
       "\n",
       "    .dataframe thead th {\n",
       "        text-align: right;\n",
       "    }\n",
       "</style>\n",
       "<table border=\"1\" class=\"dataframe\">\n",
       "  <thead>\n",
       "    <tr style=\"text-align: right;\">\n",
       "      <th></th>\n",
       "      <th>Actual Output</th>\n",
       "      <th>Predict output</th>\n",
       "    </tr>\n",
       "  </thead>\n",
       "  <tbody>\n",
       "    <tr>\n",
       "      <th>58</th>\n",
       "      <td>23.8</td>\n",
       "      <td>21.678675</td>\n",
       "    </tr>\n",
       "    <tr>\n",
       "      <th>40</th>\n",
       "      <td>16.6</td>\n",
       "      <td>16.438920</td>\n",
       "    </tr>\n",
       "    <tr>\n",
       "      <th>34</th>\n",
       "      <td>9.5</td>\n",
       "      <td>7.709037</td>\n",
       "    </tr>\n",
       "    <tr>\n",
       "      <th>102</th>\n",
       "      <td>14.8</td>\n",
       "      <td>17.921584</td>\n",
       "    </tr>\n",
       "    <tr>\n",
       "      <th>184</th>\n",
       "      <td>17.6</td>\n",
       "      <td>18.671115</td>\n",
       "    </tr>\n",
       "    <tr>\n",
       "      <th>198</th>\n",
       "      <td>25.5</td>\n",
       "      <td>23.748351</td>\n",
       "    </tr>\n",
       "    <tr>\n",
       "      <th>95</th>\n",
       "      <td>16.9</td>\n",
       "      <td>16.249628</td>\n",
       "    </tr>\n",
       "    <tr>\n",
       "      <th>4</th>\n",
       "      <td>12.9</td>\n",
       "      <td>13.376570</td>\n",
       "    </tr>\n",
       "    <tr>\n",
       "      <th>29</th>\n",
       "      <td>10.5</td>\n",
       "      <td>9.123648</td>\n",
       "    </tr>\n",
       "    <tr>\n",
       "      <th>168</th>\n",
       "      <td>17.1</td>\n",
       "      <td>17.275850</td>\n",
       "    </tr>\n",
       "    <tr>\n",
       "      <th>171</th>\n",
       "      <td>14.5</td>\n",
       "      <td>14.405139</td>\n",
       "    </tr>\n",
       "    <tr>\n",
       "      <th>18</th>\n",
       "      <td>11.3</td>\n",
       "      <td>9.857309</td>\n",
       "    </tr>\n",
       "    <tr>\n",
       "      <th>11</th>\n",
       "      <td>17.4</td>\n",
       "      <td>17.314027</td>\n",
       "    </tr>\n",
       "    <tr>\n",
       "      <th>89</th>\n",
       "      <td>16.7</td>\n",
       "      <td>16.614374</td>\n",
       "    </tr>\n",
       "    <tr>\n",
       "      <th>110</th>\n",
       "      <td>13.4</td>\n",
       "      <td>15.028579</td>\n",
       "    </tr>\n",
       "    <tr>\n",
       "      <th>118</th>\n",
       "      <td>15.9</td>\n",
       "      <td>15.424895</td>\n",
       "    </tr>\n",
       "    <tr>\n",
       "      <th>159</th>\n",
       "      <td>12.9</td>\n",
       "      <td>12.420215</td>\n",
       "    </tr>\n",
       "    <tr>\n",
       "      <th>35</th>\n",
       "      <td>12.8</td>\n",
       "      <td>17.348925</td>\n",
       "    </tr>\n",
       "    <tr>\n",
       "      <th>136</th>\n",
       "      <td>9.5</td>\n",
       "      <td>11.095709</td>\n",
       "    </tr>\n",
       "    <tr>\n",
       "      <th>59</th>\n",
       "      <td>18.4</td>\n",
       "      <td>18.103203</td>\n",
       "    </tr>\n",
       "    <tr>\n",
       "      <th>51</th>\n",
       "      <td>10.7</td>\n",
       "      <td>9.386556</td>\n",
       "    </tr>\n",
       "    <tr>\n",
       "      <th>16</th>\n",
       "      <td>12.5</td>\n",
       "      <td>12.651716</td>\n",
       "    </tr>\n",
       "    <tr>\n",
       "      <th>44</th>\n",
       "      <td>8.5</td>\n",
       "      <td>8.709470</td>\n",
       "    </tr>\n",
       "    <tr>\n",
       "      <th>94</th>\n",
       "      <td>11.5</td>\n",
       "      <td>10.497047</td>\n",
       "    </tr>\n",
       "    <tr>\n",
       "      <th>31</th>\n",
       "      <td>11.9</td>\n",
       "      <td>11.359424</td>\n",
       "    </tr>\n",
       "    <tr>\n",
       "      <th>162</th>\n",
       "      <td>14.9</td>\n",
       "      <td>15.030433</td>\n",
       "    </tr>\n",
       "    <tr>\n",
       "      <th>38</th>\n",
       "      <td>10.1</td>\n",
       "      <td>9.732680</td>\n",
       "    </tr>\n",
       "    <tr>\n",
       "      <th>28</th>\n",
       "      <td>18.9</td>\n",
       "      <td>19.466610</td>\n",
       "    </tr>\n",
       "    <tr>\n",
       "      <th>193</th>\n",
       "      <td>19.6</td>\n",
       "      <td>18.261607</td>\n",
       "    </tr>\n",
       "    <tr>\n",
       "      <th>27</th>\n",
       "      <td>15.9</td>\n",
       "      <td>17.210358</td>\n",
       "    </tr>\n",
       "    <tr>\n",
       "      <th>47</th>\n",
       "      <td>23.2</td>\n",
       "      <td>21.606694</td>\n",
       "    </tr>\n",
       "    <tr>\n",
       "      <th>165</th>\n",
       "      <td>11.9</td>\n",
       "      <td>14.584544</td>\n",
       "    </tr>\n",
       "    <tr>\n",
       "      <th>194</th>\n",
       "      <td>17.3</td>\n",
       "      <td>16.321362</td>\n",
       "    </tr>\n",
       "    <tr>\n",
       "      <th>177</th>\n",
       "      <td>11.7</td>\n",
       "      <td>12.345678</td>\n",
       "    </tr>\n",
       "    <tr>\n",
       "      <th>176</th>\n",
       "      <td>20.2</td>\n",
       "      <td>19.998536</td>\n",
       "    </tr>\n",
       "    <tr>\n",
       "      <th>97</th>\n",
       "      <td>15.5</td>\n",
       "      <td>15.381205</td>\n",
       "    </tr>\n",
       "    <tr>\n",
       "      <th>174</th>\n",
       "      <td>11.5</td>\n",
       "      <td>14.016140</td>\n",
       "    </tr>\n",
       "    <tr>\n",
       "      <th>73</th>\n",
       "      <td>11.0</td>\n",
       "      <td>10.056010</td>\n",
       "    </tr>\n",
       "    <tr>\n",
       "      <th>69</th>\n",
       "      <td>22.3</td>\n",
       "      <td>20.947920</td>\n",
       "    </tr>\n",
       "    <tr>\n",
       "      <th>172</th>\n",
       "      <td>7.6</td>\n",
       "      <td>7.456262</td>\n",
       "    </tr>\n",
       "    <tr>\n",
       "      <th>108</th>\n",
       "      <td>5.3</td>\n",
       "      <td>3.651207</td>\n",
       "    </tr>\n",
       "    <tr>\n",
       "      <th>107</th>\n",
       "      <td>8.7</td>\n",
       "      <td>7.264651</td>\n",
       "    </tr>\n",
       "    <tr>\n",
       "      <th>189</th>\n",
       "      <td>6.7</td>\n",
       "      <td>5.992780</td>\n",
       "    </tr>\n",
       "    <tr>\n",
       "      <th>14</th>\n",
       "      <td>19.0</td>\n",
       "      <td>18.397176</td>\n",
       "    </tr>\n",
       "    <tr>\n",
       "      <th>56</th>\n",
       "      <td>5.5</td>\n",
       "      <td>8.299666</td>\n",
       "    </tr>\n",
       "    <tr>\n",
       "      <th>19</th>\n",
       "      <td>14.6</td>\n",
       "      <td>14.130111</td>\n",
       "    </tr>\n",
       "    <tr>\n",
       "      <th>114</th>\n",
       "      <td>14.6</td>\n",
       "      <td>14.952296</td>\n",
       "    </tr>\n",
       "    <tr>\n",
       "      <th>39</th>\n",
       "      <td>21.5</td>\n",
       "      <td>20.372613</td>\n",
       "    </tr>\n",
       "    <tr>\n",
       "      <th>185</th>\n",
       "      <td>22.6</td>\n",
       "      <td>20.606789</td>\n",
       "    </tr>\n",
       "    <tr>\n",
       "      <th>124</th>\n",
       "      <td>19.7</td>\n",
       "      <td>19.483764</td>\n",
       "    </tr>\n",
       "    <tr>\n",
       "      <th>98</th>\n",
       "      <td>25.4</td>\n",
       "      <td>24.088197</td>\n",
       "    </tr>\n",
       "    <tr>\n",
       "      <th>123</th>\n",
       "      <td>15.2</td>\n",
       "      <td>14.894162</td>\n",
       "    </tr>\n",
       "    <tr>\n",
       "      <th>119</th>\n",
       "      <td>6.6</td>\n",
       "      <td>6.718500</td>\n",
       "    </tr>\n",
       "    <tr>\n",
       "      <th>53</th>\n",
       "      <td>21.2</td>\n",
       "      <td>19.749953</td>\n",
       "    </tr>\n",
       "    <tr>\n",
       "      <th>33</th>\n",
       "      <td>17.4</td>\n",
       "      <td>18.994481</td>\n",
       "    </tr>\n",
       "    <tr>\n",
       "      <th>179</th>\n",
       "      <td>12.6</td>\n",
       "      <td>12.520422</td>\n",
       "    </tr>\n",
       "    <tr>\n",
       "      <th>181</th>\n",
       "      <td>12.2</td>\n",
       "      <td>14.188236</td>\n",
       "    </tr>\n",
       "    <tr>\n",
       "      <th>106</th>\n",
       "      <td>7.2</td>\n",
       "      <td>6.093311</td>\n",
       "    </tr>\n",
       "    <tr>\n",
       "      <th>199</th>\n",
       "      <td>13.4</td>\n",
       "      <td>15.395585</td>\n",
       "    </tr>\n",
       "    <tr>\n",
       "      <th>138</th>\n",
       "      <td>9.6</td>\n",
       "      <td>9.585862</td>\n",
       "    </tr>\n",
       "  </tbody>\n",
       "</table>\n",
       "</div>"
      ],
      "text/plain": [
       "     Actual Output  Predict output\n",
       "58            23.8       21.678675\n",
       "40            16.6       16.438920\n",
       "34             9.5        7.709037\n",
       "102           14.8       17.921584\n",
       "184           17.6       18.671115\n",
       "198           25.5       23.748351\n",
       "95            16.9       16.249628\n",
       "4             12.9       13.376570\n",
       "29            10.5        9.123648\n",
       "168           17.1       17.275850\n",
       "171           14.5       14.405139\n",
       "18            11.3        9.857309\n",
       "11            17.4       17.314027\n",
       "89            16.7       16.614374\n",
       "110           13.4       15.028579\n",
       "118           15.9       15.424895\n",
       "159           12.9       12.420215\n",
       "35            12.8       17.348925\n",
       "136            9.5       11.095709\n",
       "59            18.4       18.103203\n",
       "51            10.7        9.386556\n",
       "16            12.5       12.651716\n",
       "44             8.5        8.709470\n",
       "94            11.5       10.497047\n",
       "31            11.9       11.359424\n",
       "162           14.9       15.030433\n",
       "38            10.1        9.732680\n",
       "28            18.9       19.466610\n",
       "193           19.6       18.261607\n",
       "27            15.9       17.210358\n",
       "47            23.2       21.606694\n",
       "165           11.9       14.584544\n",
       "194           17.3       16.321362\n",
       "177           11.7       12.345678\n",
       "176           20.2       19.998536\n",
       "97            15.5       15.381205\n",
       "174           11.5       14.016140\n",
       "73            11.0       10.056010\n",
       "69            22.3       20.947920\n",
       "172            7.6        7.456262\n",
       "108            5.3        3.651207\n",
       "107            8.7        7.264651\n",
       "189            6.7        5.992780\n",
       "14            19.0       18.397176\n",
       "56             5.5        8.299666\n",
       "19            14.6       14.130111\n",
       "114           14.6       14.952296\n",
       "39            21.5       20.372613\n",
       "185           22.6       20.606789\n",
       "124           19.7       19.483764\n",
       "98            25.4       24.088197\n",
       "123           15.2       14.894162\n",
       "119            6.6        6.718500\n",
       "53            21.2       19.749953\n",
       "33            17.4       18.994481\n",
       "179           12.6       12.520422\n",
       "181           12.2       14.188236\n",
       "106            7.2        6.093311\n",
       "199           13.4       15.395585\n",
       "138            9.6        9.585862"
      ]
     },
     "execution_count": 45,
     "metadata": {},
     "output_type": "execute_result"
    }
   ],
   "source": [
    "#lets create  a dictionary for understanding \n",
    "dict={\"Actual Output\":Y_test,\"Predict output\":y_pred} #predict best fit line\n",
    "df1=pd.DataFrame(dict)\n",
    "df1"
   ]
  },
  {
   "cell_type": "code",
   "execution_count": 46,
   "id": "6c748482",
   "metadata": {},
   "outputs": [],
   "source": [
    "#mse #mean square error aslo called as  #loss function #cost function # To check the error \n"
   ]
  },
  {
   "cell_type": "code",
   "execution_count": 47,
   "id": "6b8f9dbf",
   "metadata": {},
   "outputs": [],
   "source": [
    "# rmse root of mean square error "
   ]
  },
  {
   "cell_type": "code",
   "execution_count": 48,
   "id": "3aee2d5c",
   "metadata": {},
   "outputs": [],
   "source": [
    "#NOW we have to check or error in the model  \n",
    "#checking for mean squared_error\n",
    "from sklearn.metrics import mean_squared_error   \n"
   ]
  },
  {
   "cell_type": "code",
   "execution_count": 49,
   "id": "fb8cfc2a",
   "metadata": {},
   "outputs": [
    {
     "name": "stdout",
     "output_type": "stream",
     "text": [
      "mean sqaured error 1.9147050289721796\n"
     ]
    }
   ],
   "source": [
    "#lets check for mean_sqaured_error\n",
    "print(\"mean sqaured error\",mean_squared_error(Y_test,y_pred)) \n",
    "#   y2-y1"
   ]
  },
  {
   "cell_type": "code",
   "execution_count": 50,
   "id": "5e687ad3",
   "metadata": {},
   "outputs": [
    {
     "name": "stdout",
     "output_type": "stream",
     "text": [
      "1.9147050289721796\n",
      "Root Mean Squared Error 1.3837286688408894\n"
     ]
    }
   ],
   "source": [
    "#lets check fr root of mean squared error\n",
    "mse=mean_squared_error(Y_test,y_pred)\n",
    "print(mse)\n",
    "#check for root of mean square  :--- error minmize error\n",
    "rmse=np.sqrt(mse)\n",
    "print(\"Root Mean Squared Error\",rmse)"
   ]
  },
  {
   "cell_type": "code",
   "execution_count": 51,
   "id": "04cc5bc9",
   "metadata": {},
   "outputs": [],
   "source": [
    "#RSS :- Residual sum of Squared(EACH AND EVERY POINT) formula(ytest-ypred)  mse=RSS/N N=no of datapoints"
   ]
  },
  {
   "cell_type": "code",
   "execution_count": 52,
   "id": "65494a6b",
   "metadata": {},
   "outputs": [],
   "source": [
    "#R2_score =TSS-RSS/TSS   TSS(TOTAL SUM OF SQUARED) ON OUTPUT COLUMN  (OUTPUT OF MEAN) POINTS LAYING ON Y AXIS , MEAN OF Y\n",
    "# Hortional line parrellel to your input\n",
    "\n"
   ]
  },
  {
   "cell_type": "code",
   "execution_count": 53,
   "id": "5b579c20",
   "metadata": {},
   "outputs": [],
   "source": [
    "# R2_score=(TSS-RSS)/TSS\n",
    "# y_mean:- IT will create a parallel line an according to mean with respect to your  input\n",
    "# TSS is always greater then RSS TSS>RSS\n",
    "# Assurity: 0.9 and above, but if is not 0.9 and greater then it might underfit or overfit \n",
    "# Range of R2_score :0 to 1 +1 \n",
    "# thresshold value =0.5  greater than 0.5 model is good . \n",
    "# LEsser than 0.5 not good\n",
    "\n",
    "# eg TSS=80 ,RSs=60\n",
    "# Rscore=(80-60)/80\n",
    "#       =20/80\n",
    "# Rscore=0.25 =25%\n",
    "\n",
    "\n",
    "\n",
    "\n"
   ]
  },
  {
   "cell_type": "code",
   "execution_count": 54,
   "id": "e505d625",
   "metadata": {},
   "outputs": [
    {
     "name": "stdout",
     "output_type": "stream",
     "text": [
      "r2_score 0.9230321850256801\n"
     ]
    }
   ],
   "source": [
    "#checking for the score of model  : r2_score   0 to +1\n",
    "#use inbuilt function r2_score which is defined in r2_score\n",
    "from sklearn.metrics import r2_score\n",
    "print('r2_score',r2_score(Y_test,y_pred))"
   ]
  },
  {
   "cell_type": "code",
   "execution_count": 55,
   "id": "dc5cd783",
   "metadata": {},
   "outputs": [],
   "source": [
    "#asummption \n",
    "# 1] Input and output are in linear Regression (upward or downward)\n",
    "# 2] If relation is linear then data point should be homoskedastik(closed datapoints), \n",
    "#      but it should not be hetroskedastik(far datapoints)\n",
    "# 3]  but it should not be multicolinearity (input input not relation)\n",
    "# 4] it should make normal distributed curve on both the sides,skewness:(to find the closeness):it should be close to zero or zero\n"
   ]
  },
  {
   "cell_type": "code",
   "execution_count": 56,
   "id": "4ba7f007",
   "metadata": {},
   "outputs": [
    {
     "name": "stdout",
     "output_type": "stream",
     "text": [
      "Residual error for each data points  58     2.121325\n",
      "40     0.161080\n",
      "34     1.790963\n",
      "102   -3.121584\n",
      "184   -1.071115\n",
      "198    1.751649\n",
      "95     0.650372\n",
      "4     -0.476570\n",
      "29     1.376352\n",
      "168   -0.175850\n",
      "171    0.094861\n",
      "18     1.442691\n",
      "11     0.085973\n",
      "89     0.085626\n",
      "110   -1.628579\n",
      "118    0.475105\n",
      "159    0.479785\n",
      "35    -4.548925\n",
      "136   -1.595709\n",
      "59     0.296797\n",
      "51     1.313444\n",
      "16    -0.151716\n",
      "44    -0.209470\n",
      "94     1.002953\n",
      "31     0.540576\n",
      "162   -0.130433\n",
      "38     0.367320\n",
      "28    -0.566610\n",
      "193    1.338393\n",
      "27    -1.310358\n",
      "47     1.593306\n",
      "165   -2.684544\n",
      "194    0.978638\n",
      "177   -0.645678\n",
      "176    0.201464\n",
      "97     0.118795\n",
      "174   -2.516140\n",
      "73     0.943990\n",
      "69     1.352080\n",
      "172    0.143738\n",
      "108    1.648793\n",
      "107    1.435349\n",
      "189    0.707220\n",
      "14     0.602824\n",
      "56    -2.799666\n",
      "19     0.469889\n",
      "114   -0.352296\n",
      "39     1.127387\n",
      "185    1.993211\n",
      "124    0.216236\n",
      "98     1.311803\n",
      "123    0.305838\n",
      "119   -0.118500\n",
      "53     1.450047\n",
      "33    -1.594481\n",
      "179    0.079578\n",
      "181   -1.988236\n",
      "106    1.106689\n",
      "199   -1.995585\n",
      "138    0.014138\n",
      "Name: sales, dtype: float64\n"
     ]
    }
   ],
   "source": [
    "#score is 92% it excellent but....\n",
    "#checking for assumption 1: There should be linear Relation between input and output   5  12  12-5 =7 traingle\n",
    "residual_error=Y_test-y_pred\n",
    "print('Residual error for each data points ',residual_error)"
   ]
  },
  {
   "cell_type": "code",
   "execution_count": 57,
   "id": "6091ae75",
   "metadata": {},
   "outputs": [
    {
     "data": {
      "text/plain": [
       "(60,)"
      ]
     },
     "execution_count": 57,
     "metadata": {},
     "output_type": "execute_result"
    }
   ],
   "source": [
    "y_pred.shape"
   ]
  },
  {
   "cell_type": "code",
   "execution_count": 58,
   "id": "f49e9e30",
   "metadata": {},
   "outputs": [
    {
     "data": {
      "text/plain": [
       "(60,)"
      ]
     },
     "execution_count": 58,
     "metadata": {},
     "output_type": "execute_result"
    }
   ],
   "source": [
    "Y_test.shape"
   ]
  },
  {
   "cell_type": "code",
   "execution_count": 59,
   "id": "ed6e1499",
   "metadata": {},
   "outputs": [
    {
     "data": {
      "image/png": "[encoded data removed]",
      "text/plain": [
       "<Figure size 432x288 with 1 Axes>"
      ]
     },
     "metadata": {
      "needs_background": "light"
     },
     "output_type": "display_data"
    }
   ],
   "source": [
    "#visualising the data points into scatterplot betweeen input y_pred and output output residual error\n",
    "import matplotlib.pyplot as plt\n",
    "plt.scatter(y_pred,residual_error)\n",
    "# sb.scatterplot(y_pred,residual_error)\n",
    "# plt.plot(y_pred,residual_error,color='red')\n",
    "plt.xlabel('PRedicted')\n",
    "plt.ylabel('Residual error')\n",
    "plt.show()"
   ]
  },
  {
   "cell_type": "code",
   "execution_count": 60,
   "id": "a50aa526",
   "metadata": {},
   "outputs": [],
   "source": [
    "#IN the above plot there is not relation between :input and output\n",
    "#there is no relation between input(Tv and Radio) and output(sales) means it is non-linear \n",
    "#first assumption is not fulfullid or first assumption is failed \n"
   ]
  },
  {
   "cell_type": "code",
   "execution_count": 61,
   "id": "fc992523",
   "metadata": {},
   "outputs": [],
   "source": [
    "#2nd assumption :It realtion is linear ,Then we have to check for wether the data points are homeskedastik \n",
    "#but it hould not be heterostkedastik\n",
    "#If we fail to fulfilled first assumption then the second assumption will automatically fail  beacause there is no relation \n",
    "# between input and output \n"
   ]
  },
  {
   "cell_type": "code",
   "execution_count": 62,
   "id": "1bcfaeaa",
   "metadata": {},
   "outputs": [],
   "source": [
    "#4 assumption :residudal error should be normally distributed\n",
    "#it means that  data should be equally distributed on both the the sides.\n",
    "#it means that skewnes should be close to zero or zero"
   ]
  },
  {
   "cell_type": "code",
   "execution_count": 63,
   "id": "2ec6a929",
   "metadata": {},
   "outputs": [
    {
     "data": {
      "image/png": "[encoded data removed]",
      "text/plain": [
       "<Figure size 432x288 with 1 Axes>"
      ]
     },
     "metadata": {
      "needs_background": "light"
     },
     "output_type": "display_data"
    }
   ],
   "source": [
    "#creating a histplot(histogram)\n",
    "sb.histplot(residual_error)\n",
    "plt.show()"
   ]
  },
  {
   "cell_type": "code",
   "execution_count": 64,
   "id": "3116bb15",
   "metadata": {},
   "outputs": [
    {
     "data": {
      "image/png": "[encoded data removed]",
      "text/plain": [
       "<Figure size 432x288 with 1 Axes>"
      ]
     },
     "metadata": {
      "needs_background": "light"
     },
     "output_type": "display_data"
    }
   ],
   "source": [
    "#we using dispplot (combination of histogram and frequency curve)\n",
    "sb.distplot(residual_error,hist=True)\n",
    "plt.show()"
   ]
  },
  {
   "cell_type": "code",
   "execution_count": 65,
   "id": "3dd36354",
   "metadata": {},
   "outputs": [
    {
     "data": {
      "image/png": "[encoded data removed]",
      "text/plain": [
       "<Figure size 432x288 with 1 Axes>"
      ]
     },
     "metadata": {
      "needs_background": "light"
     },
     "output_type": "display_data"
    }
   ],
   "source": [
    "sb.distplot(residual_error,hist=False)\n",
    "plt.show() #skewed left "
   ]
  },
  {
   "cell_type": "code",
   "execution_count": 66,
   "id": "54ddc651",
   "metadata": {},
   "outputs": [
    {
     "name": "stdout",
     "output_type": "stream",
     "text": [
      "-1.0935181639447324\n"
     ]
    }
   ],
   "source": [
    "#to find the skewness for residual error \n",
    "print(residual_error.skew()) #zero or close to zero\n",
    "\n",
    "#clearly it showling the negatively skewness \n",
    "#this assumption is also failed "
   ]
  },
  {
   "cell_type": "code",
   "execution_count": 67,
   "id": "a66525f2",
   "metadata": {},
   "outputs": [],
   "source": [
    "#Polynomial Linear Regresssion   #because 4 mei ase 3 assumption full nahi hu\n",
    "\n",
    "#This dataset is an polynomial linear Regression\n",
    "#we will increase the degree on input(X) X=2 it is quadratic equation \n",
    "X=df[['TV','radio']] #input is 2d\n",
    "Y=df['sales'] #output is 1D"
   ]
  },
  {
   "cell_type": "code",
   "execution_count": 68,
   "id": "a78e03cc",
   "metadata": {},
   "outputs": [],
   "source": [
    "#increasing the degree of input x, so call polynomial features\n",
    "from sklearn.preprocessing import PolynomialFeatures"
   ]
  },
  {
   "cell_type": "code",
   "execution_count": 69,
   "id": "7d58075d",
   "metadata": {},
   "outputs": [],
   "source": [
    "#create an object  for Polynomial Features\n",
    "pf=PolynomialFeatures(3)"
   ]
  },
  {
   "cell_type": "code",
   "execution_count": 70,
   "id": "3dc44f22",
   "metadata": {},
   "outputs": [],
   "source": [
    "X_poly=pf.fit_transform(X)\n"
   ]
  },
  {
   "cell_type": "code",
   "execution_count": 71,
   "id": "0da3472e",
   "metadata": {},
   "outputs": [
    {
     "data": {
      "text/plain": [
       "array([[1.00000000e+00, 2.30100000e+02, 3.78000000e+01, ...,\n",
       "        2.00135918e+06, 3.28776084e+05, 5.40101520e+04],\n",
       "       [1.00000000e+00, 4.45000000e+01, 3.93000000e+01, ...,\n",
       "        7.78238250e+04, 6.87298050e+04, 6.06984570e+04],\n",
       "       [1.00000000e+00, 1.72000000e+01, 4.59000000e+01, ...,\n",
       "        1.35790560e+04, 3.62371320e+04, 9.67025790e+04],\n",
       "       ...,\n",
       "       [1.00000000e+00, 1.77000000e+02, 9.30000000e+00, ...,\n",
       "        2.91359700e+05, 1.53087300e+04, 8.04357000e+02],\n",
       "       [1.00000000e+00, 2.83600000e+02, 4.20000000e+01, ...,\n",
       "        3.37801632e+06, 5.00270400e+05, 7.40880000e+04],\n",
       "       [1.00000000e+00, 2.32100000e+02, 8.60000000e+00, ...,\n",
       "        4.63285526e+05, 1.71661160e+04, 6.36056000e+02]])"
      ]
     },
     "execution_count": 71,
     "metadata": {},
     "output_type": "execute_result"
    }
   ],
   "source": [
    "X_poly"
   ]
  },
  {
   "cell_type": "code",
   "execution_count": 72,
   "id": "ea2e3763",
   "metadata": {},
   "outputs": [],
   "source": [
    "#now we will train the dat with 70% and tses it will 30%\n",
    "X_train,X_test,Y_train,Y_test=train_test_split(X_poly,Y,test_size=0.3,random_state=1)"
   ]
  },
  {
   "cell_type": "code",
   "execution_count": 73,
   "id": "826375c7",
   "metadata": {},
   "outputs": [
    {
     "data": {
      "text/plain": [
       "(140, 10)"
      ]
     },
     "execution_count": 73,
     "metadata": {},
     "output_type": "execute_result"
    }
   ],
   "source": [
    "X_train.shape"
   ]
  },
  {
   "cell_type": "code",
   "execution_count": 74,
   "id": "604a4f68",
   "metadata": {},
   "outputs": [
    {
     "data": {
      "text/plain": [
       "(60, 10)"
      ]
     },
     "execution_count": 74,
     "metadata": {},
     "output_type": "execute_result"
    }
   ],
   "source": [
    "X_test.shape"
   ]
  },
  {
   "cell_type": "code",
   "execution_count": 75,
   "id": "aae21bff",
   "metadata": {},
   "outputs": [
    {
     "data": {
      "text/plain": [
       "(60,)"
      ]
     },
     "execution_count": 75,
     "metadata": {},
     "output_type": "execute_result"
    }
   ],
   "source": [
    "Y_test.shape"
   ]
  },
  {
   "cell_type": "code",
   "execution_count": 76,
   "id": "4511b170",
   "metadata": {},
   "outputs": [],
   "source": [
    "#applying Scaling on X_train and X_test\n",
    "#it will  convert the data into\n",
    "from sklearn.preprocessing import StandardScaler\n",
    "ss=StandardScaler()\n",
    "X_train=ss.fit_transform(X_train)\n"
   ]
  },
  {
   "cell_type": "code",
   "execution_count": 77,
   "id": "881f54ed",
   "metadata": {},
   "outputs": [
    {
     "data": {
      "text/plain": [
       "array([[ 0.        , -0.04063534, -0.58562079, ..., -0.45216074,\n",
       "        -0.56195355, -0.74905613],\n",
       "       [ 0.        , -0.03948046, -0.57246816, ..., -0.44732164,\n",
       "        -0.55638855, -0.74546345],\n",
       "       [ 0.        , -1.58586722,  0.44028424, ..., -0.76451881,\n",
       "        -0.72182101, -0.0616169 ],\n",
       "       ...,\n",
       "       [ 0.        , -1.33872251,  0.64414999, ..., -0.73870135,\n",
       "        -0.55708264,  0.20421738],\n",
       "       [ 0.        , -0.80054758, -0.4080603 , ..., -0.66193145,\n",
       "        -0.61100405, -0.69162798],\n",
       "       [ 0.        , -0.78553411,  1.72266554, ..., -0.4537773 ,\n",
       "         0.47845028,  2.64760163]])"
      ]
     },
     "execution_count": 77,
     "metadata": {},
     "output_type": "execute_result"
    }
   ],
   "source": [
    "X_train"
   ]
  },
  {
   "cell_type": "code",
   "execution_count": 78,
   "id": "4d6ebfc6",
   "metadata": {},
   "outputs": [],
   "source": [
    "X_test=ss.transform(X_test)"
   ]
  },
  {
   "cell_type": "code",
   "execution_count": 79,
   "id": "9446d93b",
   "metadata": {},
   "outputs": [
    {
     "data": {
      "text/plain": [
       "array([[ 0.00000000e+00,  7.86260040e-01,  1.73581816e+00,\n",
       "         6.42172346e-01,  2.09603712e+00,  2.26144179e+00,\n",
       "         4.50816628e-01,  1.72696461e+00,  2.75300779e+00,\n",
       "         2.69005356e+00],\n",
       "       [ 0.00000000e+00,  6.90404849e-01, -5.95156446e-02,\n",
       "         5.09230407e-01,  3.41361712e-01, -3.64416589e-01,\n",
       "         3.02313239e-01,  2.68593604e-01, -7.33954420e-02,\n",
       "        -5.13274158e-01],\n",
       "       [ 0.00000000e+00, -5.43008933e-01, -1.43396534e+00,\n",
       "        -7.25003297e-01, -9.53027964e-01, -1.02705162e+00,\n",
       "        -7.34829847e-01, -7.51005094e-01, -7.53203463e-01,\n",
       "        -8.33415948e-01],\n",
       "       [ 0.00000000e+00,  1.58774802e+00, -8.61825991e-01,\n",
       "         1.96273640e+00, -1.56608630e-01, -8.93208255e-01,\n",
       "         2.21471715e+00,  1.31231161e-01, -5.61154159e-01,\n",
       "        -8.03744334e-01],\n",
       "       [ 0.00000000e+00,  1.28285922e+00, -1.25278788e-01,\n",
       "         1.41639553e+00,  6.04326849e-01, -4.22743134e-01,\n",
       "         1.42565864e+00,  7.86059531e-01,  2.43030146e-02,\n",
       "        -5.54450299e-01],\n",
       "       [ 0.00000000e+00,  1.62701400e+00,  1.23601828e+00,\n",
       "         2.03702506e+00,  2.52600265e+00,  1.33014345e+00,\n",
       "         2.32790593e+00,  3.05454205e+00,  2.62902678e+00,\n",
       "         1.30586114e+00],\n",
       "       [ 0.00000000e+00,  2.37691177e-01,  5.52081587e-01,\n",
       "        -4.64796773e-02,  5.31758054e-01,  3.06164768e-01,\n",
       "        -2.49131281e-01,  1.87437054e-01,  3.48390951e-01,\n",
       "         7.76687117e-02],\n",
       "       [ 0.00000000e+00,  4.39795495e-01, -8.15791791e-01,\n",
       "         1.86888283e-01, -4.15789649e-01, -8.73636757e-01,\n",
       "        -3.19358205e-02, -3.66270759e-01, -6.11843297e-01,\n",
       "        -7.97119889e-01],\n",
       "       [ 0.00000000e+00, -8.32884269e-01, -4.73823447e-01,\n",
       "        -8.86768266e-01, -6.58918449e-01, -6.87205855e-01,\n",
       "        -8.08080695e-01, -6.75319369e-01, -6.32234172e-01,\n",
       "        -7.15219572e-01],\n",
       "       [ 0.00000000e+00,  8.39384604e-01,  2.59764416e-02,\n",
       "         7.18150683e-01,  5.09059258e-01, -2.84592164e-01,\n",
       "         5.38329244e-01,  4.72750940e-01,  5.69203179e-02,\n",
       "        -4.53943202e-01],\n",
       "       [ 0.00000000e+00,  2.51549758e-01, -1.51584045e-01,\n",
       "        -3.12353346e-02,  2.30054879e-02, -4.45324603e-01,\n",
       "        -2.35627041e-01, -1.25939279e-01, -2.68490615e-01,\n",
       "        -5.69877759e-01],\n",
       "       [ 0.00000000e+00, -8.49052615e-01, -1.77889302e-01,\n",
       "        -8.94353234e-01, -5.73546871e-01, -4.67477988e-01,\n",
       "        -8.10946363e-01, -6.54492005e-01, -5.57785353e-01,\n",
       "        -5.84725853e-01],\n",
       "       [ 0.00000000e+00,  8.31300431e-01,  5.22816988e-02,\n",
       "         7.06482964e-01,  5.29548437e-01, -2.59121122e-01,\n",
       "         5.24767786e-01,  4.85567128e-01,  8.19312579e-02,\n",
       "        -4.34314994e-01],\n",
       "       [ 0.00000000e+00, -3.80170596e-01,  1.61744451e+00,\n",
       "        -6.12711133e-01,  5.57800816e-01,  2.02690486e+00,\n",
       "        -6.72371162e-01, -1.13817092e-01,  9.42283795e-01,\n",
       "         2.32019441e+00],\n",
       "       [ 0.00000000e+00,  9.59492313e-01, -9.86775963e-01,\n",
       "         8.95973446e-01, -4.45649023e-01, -9.39722337e-01,\n",
       "         7.50386853e-01, -2.92714364e-01, -6.51785690e-01,\n",
       "        -8.17573946e-01],\n",
       "       [ 0.00000000e+00, -1.96544387e-01,  9.00626246e-01,\n",
       "        -4.67598058e-01,  3.77572259e-01,  7.91840275e-01,\n",
       "        -5.79878469e-01, -1.06173226e-01,  4.03103187e-01,\n",
       "         6.17327554e-01],\n",
       "       [ 0.00000000e+00, -1.27251478e-01, -3.15991903e-01,\n",
       "        -4.07746108e-01, -2.76761002e-01, -5.76759994e-01,\n",
       "        -5.38237956e-01, -4.04596948e-01, -4.52905886e-01,\n",
       "        -6.53612763e-01],\n",
       "       [ 0.00000000e+00,  1.70901061e+00, -1.25640485e+00,\n",
       "         2.19504637e+00, -6.40523680e-01, -1.00718582e+00,\n",
       "         2.57316620e+00, -3.73689963e-01, -7.21421885e-01,\n",
       "        -8.31505029e-01],\n",
       "       [ 0.00000000e+00, -1.35258109e+00,  1.03872885e+00,\n",
       "        -1.05453510e+00, -6.97675372e-01,  1.00506661e+00,\n",
       "        -8.54876438e-01, -7.36601219e-01, -4.91123844e-01,\n",
       "         8.79393246e-01],\n",
       "       [ 0.00000000e+00,  7.85105159e-01,  4.13978986e-01,\n",
       "         6.40538857e-01,  8.43517921e-01,  1.34516167e-01,\n",
       "         4.48955980e-01,  7.15505352e-01,  4.85665295e-01,\n",
       "        -9.21827187e-02],\n",
       "       [ 0.00000000e+00, -4.88729487e-01, -8.94707563e-01,\n",
       "        -6.89284735e-01, -7.07884513e-01, -9.06385239e-01,\n",
       "        -7.15897464e-01, -6.56072470e-01, -6.91891810e-01,\n",
       "        -8.07947651e-01],\n",
       "       [ 0.00000000e+00, -8.65220960e-01,  8.80897303e-01,\n",
       "        -9.01786285e-01, -2.59568525e-01,  7.62342561e-01,\n",
       "        -8.13698395e-01, -5.75244821e-01, -1.40210864e-01,\n",
       "         5.82228544e-01],\n",
       "       [ 0.00000000e+00, -1.35835550e+00,  1.64079042e-01,\n",
       "        -1.05551751e+00, -8.02050249e-01, -1.46093375e-01,\n",
       "        -8.55011046e-01, -7.47194824e-01, -6.42347401e-01,\n",
       "        -3.43338843e-01],\n",
       "       [ 0.00000000e+00, -4.07887760e-01, -6.05349733e-01,\n",
       "        -6.32912910e-01, -5.48437584e-01, -7.67471743e-01,\n",
       "        -6.84229331e-01, -5.82886805e-01, -6.12101061e-01,\n",
       "        -7.54259764e-01],\n",
       "       [ 0.00000000e+00, -3.44369260e-01, -3.81755046e-01,\n",
       "        -5.85956413e-01, -4.12297981e-01, -6.24651974e-01,\n",
       "        -6.56268441e-01, -5.14695234e-01, -5.23290263e-01,\n",
       "        -6.81376345e-01],\n",
       "       [ 0.00000000e+00,  5.27566513e-01, -3.35720846e-01,\n",
       "         2.95629402e-01,  1.47312391e-02, -5.91408519e-01,\n",
       "         7.65735887e-02, -3.89852197e-02, -3.37027064e-01,\n",
       "        -6.62268684e-01],\n",
       "       [ 0.00000000e+00, -1.15047677e+00,  2.29842185e-01,\n",
       "        -1.00794289e+00, -6.52664759e-01, -7.59945000e-02,\n",
       "        -8.46039254e-01, -7.09416428e-01, -5.46664670e-01,\n",
       "        -2.83866943e-01],\n",
       "       [ 0.00000000e+00,  1.22511513e+00,  2.56147443e-01,\n",
       "         1.31900628e+00,  9.99145285e-01, -4.72058017e-02,\n",
       "         1.29337737e+00,  1.13153739e+00,  4.81333599e-01,\n",
       "        -2.58792629e-01],\n",
       "       [ 0.00000000e+00,  2.78112040e-01,  1.23601828e+00,\n",
       "        -1.70503981e-03,  1.07687182e+00,  1.33014345e+00,\n",
       "        -2.09187935e-01,  5.55937886e-01,  1.23554065e+00,\n",
       "         1.30586114e+00],\n",
       "       [ 0.00000000e+00,  1.12464041e+00, -4.27789246e-01,\n",
       "         1.15416811e+00,  1.91863969e-01, -6.56584419e-01,\n",
       "         1.07556915e+00,  3.23193991e-01, -3.01588752e-01,\n",
       "        -6.99006833e-01],\n",
       "       [ 0.00000000e+00,  1.12233065e+00,  1.20313670e+00,\n",
       "         1.15044771e+00,  1.94838565e+00,  1.27429177e+00,\n",
       "         1.07074322e+00,  1.93543895e+00,  2.03992211e+00,\n",
       "         1.23036154e+00],\n",
       "       [ 0.00000000e+00,  1.05996703e+00, -1.30243905e+00,\n",
       "         1.05116881e+00, -7.57080993e-01, -1.01420908e+00,\n",
       "         9.43460054e-01, -5.54072381e-01, -7.36137878e-01,\n",
       "        -8.32360246e-01],\n",
       "       [ 0.00000000e+00,  8.06272493e-02,  8.15134160e-01,\n",
       "        -2.11448455e-01,  5.81693042e-01,  6.65755944e-01,\n",
       "        -3.88758436e-01,  1.36690476e-01,  5.28694456e-01,\n",
       "         4.69327311e-01],\n",
       "       [ 0.00000000e+00,  3.17378022e-01, -1.01308122e+00,\n",
       "         4.26994953e-02, -6.00440395e-01, -9.48284032e-01,\n",
       "        -1.68746874e-01, -5.09987283e-01, -6.84437905e-01,\n",
       "        -8.19792076e-01],\n",
       "       [ 0.00000000e+00,  1.22049560e+00,  4.60013187e-01,\n",
       "         1.31129885e+00,  1.22341553e+00,  1.90421358e-01,\n",
       "         1.28302138e+00,  1.34175010e+00,  7.77767603e-01,\n",
       "        -3.81492159e-02],\n",
       "       [ 0.00000000e+00,  4.87145649e-01, -1.45007731e-01,\n",
       "         2.44995133e-01,  1.54415682e-01, -4.39719369e-01,\n",
       "         2.54918310e-02,  4.63905760e-02, -2.02983236e-01,\n",
       "        -5.66075643e-01],\n",
       "       [ 0.00000000e+00,  9.20226331e-01, -1.30243905e+00,\n",
       "         8.36916732e-01, -7.69233888e-01, -1.01420908e+00,\n",
       "         6.78854908e-01, -5.75328912e-01, -7.37083907e-01,\n",
       "        -8.32360246e-01],\n",
       "       [ 0.00000000e+00, -1.53813760e-01, -1.15118382e+00,\n",
       "        -4.31019154e-01, -7.74722482e-01, -9.86209664e-01,\n",
       "        -5.54659799e-01, -6.57572757e-01, -7.26037601e-01,\n",
       "        -8.28147572e-01],\n",
       "       [ 0.00000000e+00,  8.55552950e-01,  1.36096825e+00,\n",
       "         7.41600060e-01,  1.81890149e+00,  1.54848004e+00,\n",
       "         5.65717739e-01,  1.56789966e+00,  2.07138079e+00,\n",
       "         1.60953490e+00],\n",
       "       [ 0.00000000e+00, -1.42187400e+00, -2.04194560e-01,\n",
       "        -1.06504523e+00, -8.76228993e-01, -4.89203289e-01,\n",
       "        -8.56167778e-01, -7.56772760e-01, -7.00915918e-01,\n",
       "        -5.99005669e-01],\n",
       "       [ 0.00000000e+00, -1.49694131e+00, -1.49972848e+00,\n",
       "        -1.07328243e+00, -9.91058195e-01, -1.02945960e+00,\n",
       "        -8.56905276e-01, -7.65427162e-01, -7.54457900e-01,\n",
       "        -8.33493335e-01],\n",
       "       [ 0.00000000e+00, -6.04217669e-01, -1.50630479e+00,\n",
       "        -7.63227703e-01, -9.84594769e-01, -1.02955324e+00,\n",
       "        -7.54058776e-01, -7.62732330e-01, -7.54417049e-01,\n",
       "        -8.33494404e-01],\n",
       "       [ 0.00000000e+00, -1.43226793e+00, -7.30299705e-01,\n",
       "        -1.06638108e+00, -9.25765186e-01, -8.33811499e-01,\n",
       "        -8.56306068e-01, -7.60719860e-01, -7.35954950e-01,\n",
       "        -7.82339798e-01],\n",
       "       [ 0.00000000e+00,  7.08882959e-01,  6.37573673e-01,\n",
       "         5.34442324e-01,  9.90995105e-01,  4.18336345e-01,\n",
       "         3.30016191e-01,  7.84342302e-01,  7.39684216e-01,\n",
       "         1.94812187e-01],\n",
       "       [ 0.00000000e+00, -1.56392446e+00,  3.21910586e-01,\n",
       "        -1.07786782e+00, -9.32010013e-01,  2.66388147e-02,\n",
       "        -8.57164876e-01, -7.63811391e-01, -7.15487149e-01,\n",
       "        -1.92795935e-01],\n",
       "       [ 0.00000000e+00,  5.29100856e-02,  4.57053845e-02,\n",
       "        -2.39072432e-01,  4.73526346e-02, -2.65529016e-01,\n",
       "        -4.10930324e-01, -1.79082674e-01, -1.85409827e-01,\n",
       "        -4.39283985e-01],\n",
       "       [ 0.00000000e+00, -7.45113251e-01,  1.55168136e+00,\n",
       "        -8.42941943e-01,  8.84993716e-02,  1.90035231e+00,\n",
       "        -7.90442017e-01, -4.41861725e-01,  4.03930959e-01,\n",
       "         2.12637602e+00],\n",
       "       [ 0.00000000e+00,  9.84899713e-01,  9.53236760e-01,\n",
       "         9.34664065e-01,  1.54656320e+00,  8.71678078e-01,\n",
       "         7.97835534e-01,  1.45074134e+00,  1.43721615e+00,\n",
       "         7.13750591e-01],\n",
       "       [ 0.00000000e+00,  7.19276895e-01,  1.43988402e+00,\n",
       "         5.48711224e-01,  1.73854586e+00,  1.69135332e+00,\n",
       "         3.45791259e-01,  1.37783590e+00,  2.06565171e+00,\n",
       "         1.81540065e+00],\n",
       "       [ 0.00000000e+00,  1.00222294e+00,  5.98115787e-01,\n",
       "         9.61259119e-01,  1.19717485e+00,  3.66002987e-01,\n",
       "         8.30716464e-01,  1.15836133e+00,  8.64908635e-01,\n",
       "         1.39571990e-01],\n",
       "       [ 0.00000000e+00,  1.69746180e+00,  1.25574722e+00,\n",
       "         2.17255345e+00,  2.62735851e+00,  1.36397552e+00,\n",
       "         2.53788654e+00,  3.24911391e+00,  2.75135473e+00,\n",
       "         1.35203273e+00],\n",
       "       [ 0.00000000e+00, -2.26571315e-01,  7.49371017e-01,\n",
       "        -4.92667359e-01,  2.65593699e-01,  5.71844855e-01,\n",
       "        -5.96734643e-01, -1.72580625e-01,  2.42244034e-01,\n",
       "         3.62593967e-01],\n",
       "       [ 0.00000000e+00, -1.42418376e+00, -4.73823447e-01,\n",
       "        -1.06534751e+00, -9.00912899e-01, -6.87205855e-01,\n",
       "        -8.56199637e-01, -7.58695051e-01, -7.20882624e-01,\n",
       "        -7.15219572e-01],\n",
       "       [ 0.00000000e+00,  4.60583368e-01,  1.51222348e+00,\n",
       "         2.12238165e-01,  1.49945227e+00,  1.82570504e+00,\n",
       "        -7.04065681e-03,  9.76504502e-01,  1.88153124e+00,\n",
       "         2.01398809e+00],\n",
       "       [ 0.00000000e+00,  1.41913528e+00, -2.10770874e-01,\n",
       "         1.65391677e+00,  5.76576655e-01, -4.94567725e-01,\n",
       "         1.75910785e+00,  8.29981521e-01, -3.59348229e-02,\n",
       "        -6.02488129e-01],\n",
       "       [ 0.00000000e+00,  2.64253458e-01, -8.68402306e-01,\n",
       "        -1.71633056e-02, -5.03418109e-01, -8.95897163e-01,\n",
       "        -2.23073841e-01, -4.55386335e-01, -6.42471164e-01,\n",
       "        -8.04619302e-01],\n",
       "       [ 0.00000000e+00,  8.75185940e-01, -1.17091276e+00,\n",
       "         7.70278538e-01, -6.44059659e-01, -9.90664420e-01,\n",
       "         5.99454046e-01, -4.73961138e-01, -7.11379725e-01,\n",
       "        -8.28948272e-01],\n",
       "       [ 0.00000000e+00, -1.35951038e+00, -8.02639163e-01,\n",
       "        -1.05571167e+00, -9.11370179e-01, -8.67804102e-01,\n",
       "        -8.55037333e-01, -7.57730160e-01, -7.34012972e-01,\n",
       "        -7.95061385e-01],\n",
       "       [ 0.00000000e+00,  1.03224987e+00, -9.60470706e-01,\n",
       "         1.00777033e+00, -4.02963235e-01, -9.30732558e-01,\n",
       "         8.88736585e-01, -2.41596008e-01, -6.38371795e-01,\n",
       "        -8.15128506e-01],\n",
       "       [ 0.00000000e+00, -1.15163165e+00,  1.77231671e-01,\n",
       "        -1.00827656e+00, -6.63615363e-01, -1.32287642e-01,\n",
       "        -8.46116892e-01, -7.11349158e-01, -5.59384680e-01,\n",
       "        -3.31806220e-01]])"
      ]
     },
     "execution_count": 79,
     "metadata": {},
     "output_type": "execute_result"
    }
   ],
   "source": [
    "X_test"
   ]
  },
  {
   "cell_type": "code",
   "execution_count": 80,
   "id": "ab13232d",
   "metadata": {},
   "outputs": [
    {
     "data": {
      "text/html": [
       "<style>#sk-container-id-2 {color: black;background-color: white;}#sk-container-id-2 pre{padding: 0;}#sk-container-id-2 div.sk-toggleable {background-color: white;}#sk-container-id-2 label.sk-toggleable__label {cursor: pointer;display: block;width: 100%;margin-bottom: 0;padding: 0.3em;box-sizing: border-box;text-align: center;}#sk-container-id-2 label.sk-toggleable__label-arrow:before {content: \"▸\";float: left;margin-right: 0.25em;color: #696969;}#sk-container-id-2 label.sk-toggleable__label-arrow:hover:before {color: black;}#sk-container-id-2 div.sk-estimator:hover label.sk-toggleable__label-arrow:before {color: black;}#sk-container-id-2 div.sk-toggleable__content {max-height: 0;max-width: 0;overflow: hidden;text-align: left;background-color: #f0f8ff;}#sk-container-id-2 div.sk-toggleable__content pre {margin: 0.2em;color: black;border-radius: 0.25em;background-color: #f0f8ff;}#sk-container-id-2 input.sk-toggleable__control:checked~div.sk-toggleable__content {max-height: 200px;max-width: 100%;overflow: auto;}#sk-container-id-2 input.sk-toggleable__control:checked~label.sk-toggleable__label-arrow:before {content: \"▾\";}#sk-container-id-2 div.sk-estimator input.sk-toggleable__control:checked~label.sk-toggleable__label {background-color: #d4ebff;}#sk-container-id-2 div.sk-label input.sk-toggleable__control:checked~label.sk-toggleable__label {background-color: #d4ebff;}#sk-container-id-2 input.sk-hidden--visually {border: 0;clip: rect(1px 1px 1px 1px);clip: rect(1px, 1px, 1px, 1px);height: 1px;margin: -1px;overflow: hidden;padding: 0;position: absolute;width: 1px;}#sk-container-id-2 div.sk-estimator {font-family: monospace;background-color: #f0f8ff;border: 1px dotted black;border-radius: 0.25em;box-sizing: border-box;margin-bottom: 0.5em;}#sk-container-id-2 div.sk-estimator:hover {background-color: #d4ebff;}#sk-container-id-2 div.sk-parallel-item::after {content: \"\";width: 100%;border-bottom: 1px solid gray;flex-grow: 1;}#sk-container-id-2 div.sk-label:hover label.sk-toggleable__label {background-color: #d4ebff;}#sk-container-id-2 div.sk-serial::before {content: \"\";position: absolute;border-left: 1px solid gray;box-sizing: border-box;top: 0;bottom: 0;left: 50%;z-index: 0;}#sk-container-id-2 div.sk-serial {display: flex;flex-direction: column;align-items: center;background-color: white;padding-right: 0.2em;padding-left: 0.2em;position: relative;}#sk-container-id-2 div.sk-item {position: relative;z-index: 1;}#sk-container-id-2 div.sk-parallel {display: flex;align-items: stretch;justify-content: center;background-color: white;position: relative;}#sk-container-id-2 div.sk-item::before, #sk-container-id-2 div.sk-parallel-item::before {content: \"\";position: absolute;border-left: 1px solid gray;box-sizing: border-box;top: 0;bottom: 0;left: 50%;z-index: -1;}#sk-container-id-2 div.sk-parallel-item {display: flex;flex-direction: column;z-index: 1;position: relative;background-color: white;}#sk-container-id-2 div.sk-parallel-item:first-child::after {align-self: flex-end;width: 50%;}#sk-container-id-2 div.sk-parallel-item:last-child::after {align-self: flex-start;width: 50%;}#sk-container-id-2 div.sk-parallel-item:only-child::after {width: 0;}#sk-container-id-2 div.sk-dashed-wrapped {border: 1px dashed gray;margin: 0 0.4em 0.5em 0.4em;box-sizing: border-box;padding-bottom: 0.4em;background-color: white;}#sk-container-id-2 div.sk-label label {font-family: monospace;font-weight: bold;display: inline-block;line-height: 1.2em;}#sk-container-id-2 div.sk-label-container {text-align: center;}#sk-container-id-2 div.sk-container {/* jupyter's `normalize.less` sets `[hidden] { display: none; }` but bootstrap.min.css set `[hidden] { display: none !important; }` so we also need the `!important` here to be able to override the default hidden behavior on the sphinx rendered scikit-learn.org. See: https://github.com/scikit-learn/scikit-learn/issues/21755 */display: inline-block !important;position: relative;}#sk-container-id-2 div.sk-text-repr-fallback {display: none;}</style><div id=\"sk-container-id-2\" class=\"sk-top-container\"><div class=\"sk-text-repr-fallback\"><pre>LinearRegression()</pre><b>In a Jupyter environment, please rerun this cell to show the HTML representation or trust the notebook. <br />On GitHub, the HTML representation is unable to render, please try loading this page with nbviewer.org.</b></div><div class=\"sk-container\" hidden><div class=\"sk-item\"><div class=\"sk-estimator sk-toggleable\"><input class=\"sk-toggleable__control sk-hidden--visually\" id=\"sk-estimator-id-2\" type=\"checkbox\" checked><label for=\"sk-estimator-id-2\" class=\"sk-toggleable__label sk-toggleable__label-arrow\">LinearRegression</label><div class=\"sk-toggleable__content\"><pre>LinearRegression()</pre></div></div></div></div></div>"
      ],
      "text/plain": [
       "LinearRegression()"
      ]
     },
     "execution_count": 80,
     "metadata": {},
     "output_type": "execute_result"
    }
   ],
   "source": [
    "from sklearn.linear_model import LinearRegression\n",
    "lr=LinearRegression()\n",
    "lr.fit(X_train,Y_train)"
   ]
  },
  {
   "cell_type": "code",
   "execution_count": 81,
   "id": "fbc95ceb",
   "metadata": {},
   "outputs": [
    {
     "name": "stdout",
     "output_type": "stream",
     "text": [
      "coefficent slope [  0.           7.93573147   0.34266552 -12.01680893   4.4228605\n",
      "  -0.12152205   5.95485265  -0.65814802  -0.17584246   0.32469645]\n"
     ]
    }
   ],
   "source": [
    "print(\"coefficent slope\",lr.coef_)"
   ]
  },
  {
   "cell_type": "code",
   "execution_count": 82,
   "id": "7c1f0e8a",
   "metadata": {},
   "outputs": [
    {
     "name": "stdout",
     "output_type": "stream",
     "text": [
      "intercept value:-- 13.791428571428577\n"
     ]
    }
   ],
   "source": [
    "print(\"intercept value:--\",lr.intercept_)\n"
   ]
  },
  {
   "cell_type": "code",
   "execution_count": 83,
   "id": "58bd6d1a",
   "metadata": {},
   "outputs": [
    {
     "data": {
      "text/plain": [
       "array([23.84188798, 16.15436166,  9.59311779, 14.86575705, 17.42053977,\n",
       "       25.47220033, 17.09714001, 12.92302282, 10.3562538 , 16.85479186,\n",
       "       14.80887029, 10.76989194, 16.94016998, 17.57103614, 12.95422039,\n",
       "       16.47942682, 13.34770761, 13.26078551,  8.64395867, 18.26807726,\n",
       "       10.89674657, 12.56988193,  7.62422886, 11.79217251, 12.52303103,\n",
       "       14.77338601,  9.40797795, 18.96444106, 19.63886835, 15.64685712,\n",
       "       22.8911917 , 11.7418389 , 17.39782218, 12.09432297, 19.8727943 ,\n",
       "       15.37308996, 11.59224156, 11.03779893, 22.48736008,  6.74877459,\n",
       "        5.30047191,  9.29601801,  6.27325926, 18.92748401,  5.77961914,\n",
       "       14.90236227, 14.90331875, 21.21181447, 22.26140752, 19.72659892,\n",
       "       25.96939598, 15.91093763,  6.52342527, 21.46273179, 17.45616876,\n",
       "       12.50252932, 12.08848058,  6.76655643, 13.17352185,  9.33068357])"
      ]
     },
     "execution_count": 83,
     "metadata": {},
     "output_type": "execute_result"
    }
   ],
   "source": [
    "y_pred=lr.predict(X_test)\n",
    "y_pred"
   ]
  },
  {
   "cell_type": "code",
   "execution_count": 84,
   "id": "de377838",
   "metadata": {},
   "outputs": [
    {
     "data": {
      "text/html": [
       "<div>\n",
       "<style scoped>\n",
       "    .dataframe tbody tr th:only-of-type {\n",
       "        vertical-align: middle;\n",
       "    }\n",
       "\n",
       "    .dataframe tbody tr th {\n",
       "        vertical-align: top;\n",
       "    }\n",
       "\n",
       "    .dataframe thead th {\n",
       "        text-align: right;\n",
       "    }\n",
       "</style>\n",
       "<table border=\"1\" class=\"dataframe\">\n",
       "  <thead>\n",
       "    <tr style=\"text-align: right;\">\n",
       "      <th></th>\n",
       "      <th>Actual Output</th>\n",
       "      <th>Predict output</th>\n",
       "    </tr>\n",
       "  </thead>\n",
       "  <tbody>\n",
       "    <tr>\n",
       "      <th>58</th>\n",
       "      <td>23.8</td>\n",
       "      <td>23.841888</td>\n",
       "    </tr>\n",
       "    <tr>\n",
       "      <th>40</th>\n",
       "      <td>16.6</td>\n",
       "      <td>16.154362</td>\n",
       "    </tr>\n",
       "    <tr>\n",
       "      <th>34</th>\n",
       "      <td>9.5</td>\n",
       "      <td>9.593118</td>\n",
       "    </tr>\n",
       "    <tr>\n",
       "      <th>102</th>\n",
       "      <td>14.8</td>\n",
       "      <td>14.865757</td>\n",
       "    </tr>\n",
       "    <tr>\n",
       "      <th>184</th>\n",
       "      <td>17.6</td>\n",
       "      <td>17.420540</td>\n",
       "    </tr>\n",
       "    <tr>\n",
       "      <th>198</th>\n",
       "      <td>25.5</td>\n",
       "      <td>25.472200</td>\n",
       "    </tr>\n",
       "    <tr>\n",
       "      <th>95</th>\n",
       "      <td>16.9</td>\n",
       "      <td>17.097140</td>\n",
       "    </tr>\n",
       "    <tr>\n",
       "      <th>4</th>\n",
       "      <td>12.9</td>\n",
       "      <td>12.923023</td>\n",
       "    </tr>\n",
       "    <tr>\n",
       "      <th>29</th>\n",
       "      <td>10.5</td>\n",
       "      <td>10.356254</td>\n",
       "    </tr>\n",
       "    <tr>\n",
       "      <th>168</th>\n",
       "      <td>17.1</td>\n",
       "      <td>16.854792</td>\n",
       "    </tr>\n",
       "    <tr>\n",
       "      <th>171</th>\n",
       "      <td>14.5</td>\n",
       "      <td>14.808870</td>\n",
       "    </tr>\n",
       "    <tr>\n",
       "      <th>18</th>\n",
       "      <td>11.3</td>\n",
       "      <td>10.769892</td>\n",
       "    </tr>\n",
       "    <tr>\n",
       "      <th>11</th>\n",
       "      <td>17.4</td>\n",
       "      <td>16.940170</td>\n",
       "    </tr>\n",
       "    <tr>\n",
       "      <th>89</th>\n",
       "      <td>16.7</td>\n",
       "      <td>17.571036</td>\n",
       "    </tr>\n",
       "    <tr>\n",
       "      <th>110</th>\n",
       "      <td>13.4</td>\n",
       "      <td>12.954220</td>\n",
       "    </tr>\n",
       "    <tr>\n",
       "      <th>118</th>\n",
       "      <td>15.9</td>\n",
       "      <td>16.479427</td>\n",
       "    </tr>\n",
       "    <tr>\n",
       "      <th>159</th>\n",
       "      <td>12.9</td>\n",
       "      <td>13.347708</td>\n",
       "    </tr>\n",
       "    <tr>\n",
       "      <th>35</th>\n",
       "      <td>12.8</td>\n",
       "      <td>13.260786</td>\n",
       "    </tr>\n",
       "    <tr>\n",
       "      <th>136</th>\n",
       "      <td>9.5</td>\n",
       "      <td>8.643959</td>\n",
       "    </tr>\n",
       "    <tr>\n",
       "      <th>59</th>\n",
       "      <td>18.4</td>\n",
       "      <td>18.268077</td>\n",
       "    </tr>\n",
       "    <tr>\n",
       "      <th>51</th>\n",
       "      <td>10.7</td>\n",
       "      <td>10.896747</td>\n",
       "    </tr>\n",
       "    <tr>\n",
       "      <th>16</th>\n",
       "      <td>12.5</td>\n",
       "      <td>12.569882</td>\n",
       "    </tr>\n",
       "    <tr>\n",
       "      <th>44</th>\n",
       "      <td>8.5</td>\n",
       "      <td>7.624229</td>\n",
       "    </tr>\n",
       "    <tr>\n",
       "      <th>94</th>\n",
       "      <td>11.5</td>\n",
       "      <td>11.792173</td>\n",
       "    </tr>\n",
       "    <tr>\n",
       "      <th>31</th>\n",
       "      <td>11.9</td>\n",
       "      <td>12.523031</td>\n",
       "    </tr>\n",
       "    <tr>\n",
       "      <th>162</th>\n",
       "      <td>14.9</td>\n",
       "      <td>14.773386</td>\n",
       "    </tr>\n",
       "    <tr>\n",
       "      <th>38</th>\n",
       "      <td>10.1</td>\n",
       "      <td>9.407978</td>\n",
       "    </tr>\n",
       "    <tr>\n",
       "      <th>28</th>\n",
       "      <td>18.9</td>\n",
       "      <td>18.964441</td>\n",
       "    </tr>\n",
       "    <tr>\n",
       "      <th>193</th>\n",
       "      <td>19.6</td>\n",
       "      <td>19.638868</td>\n",
       "    </tr>\n",
       "    <tr>\n",
       "      <th>27</th>\n",
       "      <td>15.9</td>\n",
       "      <td>15.646857</td>\n",
       "    </tr>\n",
       "    <tr>\n",
       "      <th>47</th>\n",
       "      <td>23.2</td>\n",
       "      <td>22.891192</td>\n",
       "    </tr>\n",
       "    <tr>\n",
       "      <th>165</th>\n",
       "      <td>11.9</td>\n",
       "      <td>11.741839</td>\n",
       "    </tr>\n",
       "    <tr>\n",
       "      <th>194</th>\n",
       "      <td>17.3</td>\n",
       "      <td>17.397822</td>\n",
       "    </tr>\n",
       "    <tr>\n",
       "      <th>177</th>\n",
       "      <td>11.7</td>\n",
       "      <td>12.094323</td>\n",
       "    </tr>\n",
       "    <tr>\n",
       "      <th>176</th>\n",
       "      <td>20.2</td>\n",
       "      <td>19.872794</td>\n",
       "    </tr>\n",
       "    <tr>\n",
       "      <th>97</th>\n",
       "      <td>15.5</td>\n",
       "      <td>15.373090</td>\n",
       "    </tr>\n",
       "    <tr>\n",
       "      <th>174</th>\n",
       "      <td>11.5</td>\n",
       "      <td>11.592242</td>\n",
       "    </tr>\n",
       "    <tr>\n",
       "      <th>73</th>\n",
       "      <td>11.0</td>\n",
       "      <td>11.037799</td>\n",
       "    </tr>\n",
       "    <tr>\n",
       "      <th>69</th>\n",
       "      <td>22.3</td>\n",
       "      <td>22.487360</td>\n",
       "    </tr>\n",
       "    <tr>\n",
       "      <th>172</th>\n",
       "      <td>7.6</td>\n",
       "      <td>6.748775</td>\n",
       "    </tr>\n",
       "    <tr>\n",
       "      <th>108</th>\n",
       "      <td>5.3</td>\n",
       "      <td>5.300472</td>\n",
       "    </tr>\n",
       "    <tr>\n",
       "      <th>107</th>\n",
       "      <td>8.7</td>\n",
       "      <td>9.296018</td>\n",
       "    </tr>\n",
       "    <tr>\n",
       "      <th>189</th>\n",
       "      <td>6.7</td>\n",
       "      <td>6.273259</td>\n",
       "    </tr>\n",
       "    <tr>\n",
       "      <th>14</th>\n",
       "      <td>19.0</td>\n",
       "      <td>18.927484</td>\n",
       "    </tr>\n",
       "    <tr>\n",
       "      <th>56</th>\n",
       "      <td>5.5</td>\n",
       "      <td>5.779619</td>\n",
       "    </tr>\n",
       "    <tr>\n",
       "      <th>19</th>\n",
       "      <td>14.6</td>\n",
       "      <td>14.902362</td>\n",
       "    </tr>\n",
       "    <tr>\n",
       "      <th>114</th>\n",
       "      <td>14.6</td>\n",
       "      <td>14.903319</td>\n",
       "    </tr>\n",
       "    <tr>\n",
       "      <th>39</th>\n",
       "      <td>21.5</td>\n",
       "      <td>21.211814</td>\n",
       "    </tr>\n",
       "    <tr>\n",
       "      <th>185</th>\n",
       "      <td>22.6</td>\n",
       "      <td>22.261408</td>\n",
       "    </tr>\n",
       "    <tr>\n",
       "      <th>124</th>\n",
       "      <td>19.7</td>\n",
       "      <td>19.726599</td>\n",
       "    </tr>\n",
       "    <tr>\n",
       "      <th>98</th>\n",
       "      <td>25.4</td>\n",
       "      <td>25.969396</td>\n",
       "    </tr>\n",
       "    <tr>\n",
       "      <th>123</th>\n",
       "      <td>15.2</td>\n",
       "      <td>15.910938</td>\n",
       "    </tr>\n",
       "    <tr>\n",
       "      <th>119</th>\n",
       "      <td>6.6</td>\n",
       "      <td>6.523425</td>\n",
       "    </tr>\n",
       "    <tr>\n",
       "      <th>53</th>\n",
       "      <td>21.2</td>\n",
       "      <td>21.462732</td>\n",
       "    </tr>\n",
       "    <tr>\n",
       "      <th>33</th>\n",
       "      <td>17.4</td>\n",
       "      <td>17.456169</td>\n",
       "    </tr>\n",
       "    <tr>\n",
       "      <th>179</th>\n",
       "      <td>12.6</td>\n",
       "      <td>12.502529</td>\n",
       "    </tr>\n",
       "    <tr>\n",
       "      <th>181</th>\n",
       "      <td>12.2</td>\n",
       "      <td>12.088481</td>\n",
       "    </tr>\n",
       "    <tr>\n",
       "      <th>106</th>\n",
       "      <td>7.2</td>\n",
       "      <td>6.766556</td>\n",
       "    </tr>\n",
       "    <tr>\n",
       "      <th>199</th>\n",
       "      <td>13.4</td>\n",
       "      <td>13.173522</td>\n",
       "    </tr>\n",
       "    <tr>\n",
       "      <th>138</th>\n",
       "      <td>9.6</td>\n",
       "      <td>9.330684</td>\n",
       "    </tr>\n",
       "  </tbody>\n",
       "</table>\n",
       "</div>"
      ],
      "text/plain": [
       "     Actual Output  Predict output\n",
       "58            23.8       23.841888\n",
       "40            16.6       16.154362\n",
       "34             9.5        9.593118\n",
       "102           14.8       14.865757\n",
       "184           17.6       17.420540\n",
       "198           25.5       25.472200\n",
       "95            16.9       17.097140\n",
       "4             12.9       12.923023\n",
       "29            10.5       10.356254\n",
       "168           17.1       16.854792\n",
       "171           14.5       14.808870\n",
       "18            11.3       10.769892\n",
       "11            17.4       16.940170\n",
       "89            16.7       17.571036\n",
       "110           13.4       12.954220\n",
       "118           15.9       16.479427\n",
       "159           12.9       13.347708\n",
       "35            12.8       13.260786\n",
       "136            9.5        8.643959\n",
       "59            18.4       18.268077\n",
       "51            10.7       10.896747\n",
       "16            12.5       12.569882\n",
       "44             8.5        7.624229\n",
       "94            11.5       11.792173\n",
       "31            11.9       12.523031\n",
       "162           14.9       14.773386\n",
       "38            10.1        9.407978\n",
       "28            18.9       18.964441\n",
       "193           19.6       19.638868\n",
       "27            15.9       15.646857\n",
       "47            23.2       22.891192\n",
       "165           11.9       11.741839\n",
       "194           17.3       17.397822\n",
       "177           11.7       12.094323\n",
       "176           20.2       19.872794\n",
       "97            15.5       15.373090\n",
       "174           11.5       11.592242\n",
       "73            11.0       11.037799\n",
       "69            22.3       22.487360\n",
       "172            7.6        6.748775\n",
       "108            5.3        5.300472\n",
       "107            8.7        9.296018\n",
       "189            6.7        6.273259\n",
       "14            19.0       18.927484\n",
       "56             5.5        5.779619\n",
       "19            14.6       14.902362\n",
       "114           14.6       14.903319\n",
       "39            21.5       21.211814\n",
       "185           22.6       22.261408\n",
       "124           19.7       19.726599\n",
       "98            25.4       25.969396\n",
       "123           15.2       15.910938\n",
       "119            6.6        6.523425\n",
       "53            21.2       21.462732\n",
       "33            17.4       17.456169\n",
       "179           12.6       12.502529\n",
       "181           12.2       12.088481\n",
       "106            7.2        6.766556\n",
       "199           13.4       13.173522\n",
       "138            9.6        9.330684"
      ]
     },
     "execution_count": 84,
     "metadata": {},
     "output_type": "execute_result"
    }
   ],
   "source": [
    "dict={\"Actual Output\":Y_test,\"Predict output\":y_pred} #predict best fit line\n",
    "df2=pd.DataFrame(dict)\n",
    "df2"
   ]
  },
  {
   "cell_type": "code",
   "execution_count": 85,
   "id": "8cb227c4",
   "metadata": {},
   "outputs": [],
   "source": [
    "from sklearn.metrics import mean_squared_error   "
   ]
  },
  {
   "cell_type": "code",
   "execution_count": 86,
   "id": "45406a21",
   "metadata": {},
   "outputs": [
    {
     "name": "stdout",
     "output_type": "stream",
     "text": [
      "mean sqaured error 0.14469078646442282\n"
     ]
    }
   ],
   "source": [
    "#lets check for mean_sqaured_error\n",
    "print(\"mean sqaured error\",mean_squared_error(Y_test,y_pred)) "
   ]
  },
  {
   "cell_type": "code",
   "execution_count": 87,
   "id": "ef3e5988",
   "metadata": {},
   "outputs": [
    {
     "name": "stdout",
     "output_type": "stream",
     "text": [
      "0.14469078646442282\n",
      "Root Mean Squared Error 0.38038242133992317\n"
     ]
    }
   ],
   "source": [
    "mse=mean_squared_error(Y_test,y_pred)\n",
    "print(mse)\n",
    "#check for root of mean square  :--- error minmize error\n",
    "rmse=np.sqrt(mse)\n",
    "print(\"Root Mean Squared Error\",rmse)"
   ]
  },
  {
   "cell_type": "code",
   "execution_count": 88,
   "id": "2ce40e74",
   "metadata": {},
   "outputs": [
    {
     "name": "stdout",
     "output_type": "stream",
     "text": [
      "r2_score 0.9941836818138715\n"
     ]
    }
   ],
   "source": [
    "from sklearn.metrics import r2_score\n",
    "print('r2_score',r2_score(Y_test,y_pred))"
   ]
  },
  {
   "cell_type": "code",
   "execution_count": 89,
   "id": "3deee8d5",
   "metadata": {},
   "outputs": [
    {
     "name": "stdout",
     "output_type": "stream",
     "text": [
      "Residual error for each data points  58    -0.041888\n",
      "40     0.445638\n",
      "34    -0.093118\n",
      "102   -0.065757\n",
      "184    0.179460\n",
      "198    0.027800\n",
      "95    -0.197140\n",
      "4     -0.023023\n",
      "29     0.143746\n",
      "168    0.245208\n",
      "171   -0.308870\n",
      "18     0.530108\n",
      "11     0.459830\n",
      "89    -0.871036\n",
      "110    0.445780\n",
      "118   -0.579427\n",
      "159   -0.447708\n",
      "35    -0.460786\n",
      "136    0.856041\n",
      "59     0.131923\n",
      "51    -0.196747\n",
      "16    -0.069882\n",
      "44     0.875771\n",
      "94    -0.292173\n",
      "31    -0.623031\n",
      "162    0.126614\n",
      "38     0.692022\n",
      "28    -0.064441\n",
      "193   -0.038868\n",
      "27     0.253143\n",
      "47     0.308808\n",
      "165    0.158161\n",
      "194   -0.097822\n",
      "177   -0.394323\n",
      "176    0.327206\n",
      "97     0.126910\n",
      "174   -0.092242\n",
      "73    -0.037799\n",
      "69    -0.187360\n",
      "172    0.851225\n",
      "108   -0.000472\n",
      "107   -0.596018\n",
      "189    0.426741\n",
      "14     0.072516\n",
      "56    -0.279619\n",
      "19    -0.302362\n",
      "114   -0.303319\n",
      "39     0.288186\n",
      "185    0.338592\n",
      "124   -0.026599\n",
      "98    -0.569396\n",
      "123   -0.710938\n",
      "119    0.076575\n",
      "53    -0.262732\n",
      "33    -0.056169\n",
      "179    0.097471\n",
      "181    0.111519\n",
      "106    0.433444\n",
      "199    0.226478\n",
      "138    0.269316\n",
      "Name: sales, dtype: float64\n"
     ]
    }
   ],
   "source": [
    "residual_error=Y_test-y_pred\n",
    "print('Residual error for each data points ',residual_error)"
   ]
  },
  {
   "cell_type": "code",
   "execution_count": 90,
   "id": "e7c245e3",
   "metadata": {},
   "outputs": [
    {
     "data": {
      "image/png": "[encoded data removed]",
      "text/plain": [
       "<Figure size 432x288 with 1 Axes>"
      ]
     },
     "metadata": {
      "needs_background": "light"
     },
     "output_type": "display_data"
    }
   ],
   "source": [
    "import matplotlib.pyplot as plt\n",
    "plt.scatter(y_pred,residual_error)\n",
    "# sb.scatterplot(y_pred,residual_error)\n",
    "# plt.plot(y_pred,residual_error,color='red')\n",
    "plt.xlabel('PRedicted')\n",
    "plt.ylabel('Residual error')\n",
    "plt.show()"
   ]
  },
  {
   "cell_type": "code",
   "execution_count": 91,
   "id": "baf4b478",
   "metadata": {},
   "outputs": [
    {
     "data": {
      "image/png": "[encoded data removed]",
      "text/plain": [
       "<Figure size 432x288 with 1 Axes>"
      ]
     },
     "metadata": {
      "needs_background": "light"
     },
     "output_type": "display_data"
    }
   ],
   "source": [
    "sb.histplot(residual_error)\n",
    "plt.show()"
   ]
  },
  {
   "cell_type": "code",
   "execution_count": 92,
   "id": "e4f569c8",
   "metadata": {},
   "outputs": [
    {
     "data": {
      "image/png": "[encoded data removed]",
      "text/plain": [
       "<Figure size 432x288 with 1 Axes>"
      ]
     },
     "metadata": {
      "needs_background": "light"
     },
     "output_type": "display_data"
    }
   ],
   "source": [
    "sb.distplot(residual_error,hist=True)\n",
    "plt.show()"
   ]
  },
  {
   "cell_type": "code",
   "execution_count": 93,
   "id": "5c4cc835",
   "metadata": {},
   "outputs": [
    {
     "data": {
      "image/png": "[encoded data removed]",
      "text/plain": [
       "<Figure size 432x288 with 1 Axes>"
      ]
     },
     "metadata": {
      "needs_background": "light"
     },
     "output_type": "display_data"
    }
   ],
   "source": [
    "sb.distplot(residual_error,hist=False)\n",
    "plt.show()"
   ]
  },
  {
   "cell_type": "code",
   "execution_count": 94,
   "id": "0b35620c",
   "metadata": {},
   "outputs": [
    {
     "name": "stdout",
     "output_type": "stream",
     "text": [
      "0.07135639573789425\n"
     ]
    }
   ],
   "source": [
    "print(residual_error.skew())"
   ]
  },
  {
   "cell_type": "code",
   "execution_count": 95,
   "id": "20ad74a2",
   "metadata": {},
   "outputs": [
    {
     "data": {
      "text/plain": [
       "0.9896612551864068"
      ]
     },
     "execution_count": 95,
     "metadata": {},
     "output_type": "execute_result"
    }
   ],
   "source": [
    "lr.score(X_train,Y_train)"
   ]
  },
  {
   "cell_type": "code",
   "execution_count": 96,
   "id": "fec7c20a",
   "metadata": {},
   "outputs": [
    {
     "data": {
      "text/plain": [
       "0.9941836818138715"
      ]
     },
     "execution_count": 96,
     "metadata": {},
     "output_type": "execute_result"
    }
   ],
   "source": [
    "lr.score(X_test,Y_test)"
   ]
  },
  {
   "cell_type": "code",
   "execution_count": null,
   "id": "86b8c32c",
   "metadata": {},
   "outputs": [],
   "source": []
  }
 ],
 "metadata": {
  "kernelspec": {
   "display_name": "Python 3 (ipykernel)",
   "language": "python",
   "name": "python3"
  },
  "language_info": {
   "codemirror_mode": {
    "name": "ipython",
    "version": 3
   },
   "file_extension": ".py",
   "mimetype": "text/x-python",
   "name": "python",
   "nbconvert_exporter": "python",
   "pygments_lexer": "ipython3",
   "version": "3.11.3"
  }
 },
 "nbformat": 4,
 "nbformat_minor": 5
}
